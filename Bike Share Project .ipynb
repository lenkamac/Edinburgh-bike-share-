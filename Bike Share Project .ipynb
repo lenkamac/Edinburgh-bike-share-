{
 "cells": [
  {
   "cell_type": "code",
   "execution_count": 1,
   "id": "1a5eb254",
   "metadata": {},
   "outputs": [],
   "source": [
    "# import of all libraries\n",
    "import pandas as pd\n",
    "from datetime import *\n",
    "import numpy as np\n",
    "import matplotlib.pyplot as plt\n",
    "import matplotlib.ticker as ticker\n",
    "import seaborn as sns\n",
    "import math\n",
    "import geopy.distance\n",
    "import geopy.geocoders\n",
    "import folium\n",
    "from folium import plugins\n",
    "from folium.plugins import DualMap\n",
    "from folium.plugins import MarkerCluster\n",
    "%matplotlib inline"
   ]
  },
  {
   "cell_type": "markdown",
   "id": "d7266637",
   "metadata": {},
   "source": [
    "## Nacteni dat ze souboru CSV"
   ]
  },
  {
   "cell_type": "code",
   "execution_count": 2,
   "id": "9b6a754e",
   "metadata": {},
   "outputs": [],
   "source": [
    "bikes_data = pd.read_csv('edinburgh_bikes.csv')\n",
    "weather_data = pd.read_csv('edinburgh_weather.csv')"
   ]
  },
  {
   "cell_type": "markdown",
   "id": "8a51f045",
   "metadata": {},
   "source": [
    "## Prvni pruzkum dat\n",
    "- pro zobecneny prehled jsem zobrazila jen prvnich pet a poslednich pet radku z obou dataframe\n",
    "- zde vidime pocatecni i konecny index a take vsechny sloupce, ze kterych se dataframe sklada"
   ]
  },
  {
   "cell_type": "code",
   "execution_count": 3,
   "id": "cc03995f",
   "metadata": {},
   "outputs": [
    {
     "data": {
      "text/html": [
       "<div>\n",
       "<style scoped>\n",
       "    .dataframe tbody tr th:only-of-type {\n",
       "        vertical-align: middle;\n",
       "    }\n",
       "\n",
       "    .dataframe tbody tr th {\n",
       "        vertical-align: top;\n",
       "    }\n",
       "\n",
       "    .dataframe thead th {\n",
       "        text-align: right;\n",
       "    }\n",
       "</style>\n",
       "<table border=\"1\" class=\"dataframe\">\n",
       "  <thead>\n",
       "    <tr style=\"text-align: right;\">\n",
       "      <th></th>\n",
       "      <th>index</th>\n",
       "      <th>started_at</th>\n",
       "      <th>ended_at</th>\n",
       "      <th>duration</th>\n",
       "      <th>start_station_id</th>\n",
       "      <th>start_station_name</th>\n",
       "      <th>start_station_description</th>\n",
       "      <th>start_station_latitude</th>\n",
       "      <th>start_station_longitude</th>\n",
       "      <th>end_station_id</th>\n",
       "      <th>end_station_name</th>\n",
       "      <th>end_station_description</th>\n",
       "      <th>end_station_latitude</th>\n",
       "      <th>end_station_longitude</th>\n",
       "    </tr>\n",
       "  </thead>\n",
       "  <tbody>\n",
       "    <tr>\n",
       "      <th>0</th>\n",
       "      <td>0</td>\n",
       "      <td>2018-09-15 08:52:05</td>\n",
       "      <td>2018-09-15 09:11:48</td>\n",
       "      <td>1182</td>\n",
       "      <td>247</td>\n",
       "      <td>Charlotte Square</td>\n",
       "      <td>North Corner of Charlotte Square</td>\n",
       "      <td>55.952335</td>\n",
       "      <td>-3.207101</td>\n",
       "      <td>259</td>\n",
       "      <td>St Andrew Square</td>\n",
       "      <td>North East corner</td>\n",
       "      <td>55.954728</td>\n",
       "      <td>-3.192653</td>\n",
       "    </tr>\n",
       "    <tr>\n",
       "      <th>1</th>\n",
       "      <td>1</td>\n",
       "      <td>2018-09-15 09:24:33</td>\n",
       "      <td>2018-09-15 09:41:09</td>\n",
       "      <td>995</td>\n",
       "      <td>259</td>\n",
       "      <td>St Andrew Square</td>\n",
       "      <td>North East corner</td>\n",
       "      <td>55.954749</td>\n",
       "      <td>-3.192774</td>\n",
       "      <td>262</td>\n",
       "      <td>Canonmills</td>\n",
       "      <td>near Tesco's</td>\n",
       "      <td>55.962804</td>\n",
       "      <td>-3.196284</td>\n",
       "    </tr>\n",
       "    <tr>\n",
       "      <th>2</th>\n",
       "      <td>2</td>\n",
       "      <td>2018-09-15 09:48:54</td>\n",
       "      <td>2018-09-15 10:46:40</td>\n",
       "      <td>3466</td>\n",
       "      <td>262</td>\n",
       "      <td>Canonmills</td>\n",
       "      <td>near Tesco's</td>\n",
       "      <td>55.962804</td>\n",
       "      <td>-3.196284</td>\n",
       "      <td>250</td>\n",
       "      <td>Victoria Quay</td>\n",
       "      <td>Entrance to Scottish Government Office</td>\n",
       "      <td>55.977638</td>\n",
       "      <td>-3.174116</td>\n",
       "    </tr>\n",
       "  </tbody>\n",
       "</table>\n",
       "</div>"
      ],
      "text/plain": [
       "   index           started_at             ended_at  duration  \\\n",
       "0      0  2018-09-15 08:52:05  2018-09-15 09:11:48      1182   \n",
       "1      1  2018-09-15 09:24:33  2018-09-15 09:41:09       995   \n",
       "2      2  2018-09-15 09:48:54  2018-09-15 10:46:40      3466   \n",
       "\n",
       "   start_station_id start_station_name         start_station_description  \\\n",
       "0               247   Charlotte Square  North Corner of Charlotte Square   \n",
       "1               259   St Andrew Square                 North East corner   \n",
       "2               262         Canonmills                      near Tesco's   \n",
       "\n",
       "   start_station_latitude  start_station_longitude  end_station_id  \\\n",
       "0               55.952335                -3.207101             259   \n",
       "1               55.954749                -3.192774             262   \n",
       "2               55.962804                -3.196284             250   \n",
       "\n",
       "   end_station_name                 end_station_description  \\\n",
       "0  St Andrew Square                       North East corner   \n",
       "1        Canonmills                            near Tesco's   \n",
       "2     Victoria Quay  Entrance to Scottish Government Office   \n",
       "\n",
       "   end_station_latitude  end_station_longitude  \n",
       "0             55.954728              -3.192653  \n",
       "1             55.962804              -3.196284  \n",
       "2             55.977638              -3.174116  "
      ]
     },
     "execution_count": 3,
     "metadata": {},
     "output_type": "execute_result"
    }
   ],
   "source": [
    "bikes_data.head(3)"
   ]
  },
  {
   "cell_type": "code",
   "execution_count": 4,
   "id": "a4323a4d",
   "metadata": {},
   "outputs": [
    {
     "data": {
      "text/html": [
       "<div>\n",
       "<style scoped>\n",
       "    .dataframe tbody tr th:only-of-type {\n",
       "        vertical-align: middle;\n",
       "    }\n",
       "\n",
       "    .dataframe tbody tr th {\n",
       "        vertical-align: top;\n",
       "    }\n",
       "\n",
       "    .dataframe thead th {\n",
       "        text-align: right;\n",
       "    }\n",
       "</style>\n",
       "<table border=\"1\" class=\"dataframe\">\n",
       "  <thead>\n",
       "    <tr style=\"text-align: right;\">\n",
       "      <th></th>\n",
       "      <th>index</th>\n",
       "      <th>started_at</th>\n",
       "      <th>ended_at</th>\n",
       "      <th>duration</th>\n",
       "      <th>start_station_id</th>\n",
       "      <th>start_station_name</th>\n",
       "      <th>start_station_description</th>\n",
       "      <th>start_station_latitude</th>\n",
       "      <th>start_station_longitude</th>\n",
       "      <th>end_station_id</th>\n",
       "      <th>end_station_name</th>\n",
       "      <th>end_station_description</th>\n",
       "      <th>end_station_latitude</th>\n",
       "      <th>end_station_longitude</th>\n",
       "    </tr>\n",
       "  </thead>\n",
       "  <tbody>\n",
       "    <tr>\n",
       "      <th>438256</th>\n",
       "      <td>12638</td>\n",
       "      <td>2021-06-30 23:49:03</td>\n",
       "      <td>2021-07-01 00:11:25</td>\n",
       "      <td>1342</td>\n",
       "      <td>256</td>\n",
       "      <td>St Andrews House</td>\n",
       "      <td>beside Jacobs ladder</td>\n",
       "      <td>55.953164</td>\n",
       "      <td>-3.181682</td>\n",
       "      <td>1091</td>\n",
       "      <td>Holyrood Road</td>\n",
       "      <td>Opposite St Leonards Land</td>\n",
       "      <td>55.949560</td>\n",
       "      <td>-3.180413</td>\n",
       "    </tr>\n",
       "    <tr>\n",
       "      <th>438257</th>\n",
       "      <td>12639</td>\n",
       "      <td>2021-06-30 23:49:03</td>\n",
       "      <td>2021-07-01 00:11:52</td>\n",
       "      <td>1369</td>\n",
       "      <td>256</td>\n",
       "      <td>St Andrews House</td>\n",
       "      <td>beside Jacobs ladder</td>\n",
       "      <td>55.953164</td>\n",
       "      <td>-3.181682</td>\n",
       "      <td>1091</td>\n",
       "      <td>Holyrood Road</td>\n",
       "      <td>Opposite St Leonards Land</td>\n",
       "      <td>55.949560</td>\n",
       "      <td>-3.180413</td>\n",
       "    </tr>\n",
       "    <tr>\n",
       "      <th>438258</th>\n",
       "      <td>12640</td>\n",
       "      <td>2021-06-30 23:58:33</td>\n",
       "      <td>2021-07-01 00:07:15</td>\n",
       "      <td>522</td>\n",
       "      <td>247</td>\n",
       "      <td>Charlotte Square</td>\n",
       "      <td>North Corner of Charlotte Square</td>\n",
       "      <td>55.952335</td>\n",
       "      <td>-3.207101</td>\n",
       "      <td>1769</td>\n",
       "      <td>Brunswick Place</td>\n",
       "      <td>Corner of Elm Row/Brunswick Street</td>\n",
       "      <td>55.960852</td>\n",
       "      <td>-3.180986</td>\n",
       "    </tr>\n",
       "  </tbody>\n",
       "</table>\n",
       "</div>"
      ],
      "text/plain": [
       "        index           started_at             ended_at  duration  \\\n",
       "438256  12638  2021-06-30 23:49:03  2021-07-01 00:11:25      1342   \n",
       "438257  12639  2021-06-30 23:49:03  2021-07-01 00:11:52      1369   \n",
       "438258  12640  2021-06-30 23:58:33  2021-07-01 00:07:15       522   \n",
       "\n",
       "        start_station_id start_station_name         start_station_description  \\\n",
       "438256               256   St Andrews House              beside Jacobs ladder   \n",
       "438257               256   St Andrews House              beside Jacobs ladder   \n",
       "438258               247   Charlotte Square  North Corner of Charlotte Square   \n",
       "\n",
       "        start_station_latitude  start_station_longitude  end_station_id  \\\n",
       "438256               55.953164                -3.181682            1091   \n",
       "438257               55.953164                -3.181682            1091   \n",
       "438258               55.952335                -3.207101            1769   \n",
       "\n",
       "       end_station_name             end_station_description  \\\n",
       "438256    Holyrood Road           Opposite St Leonards Land   \n",
       "438257    Holyrood Road           Opposite St Leonards Land   \n",
       "438258  Brunswick Place  Corner of Elm Row/Brunswick Street   \n",
       "\n",
       "        end_station_latitude  end_station_longitude  \n",
       "438256             55.949560              -3.180413  \n",
       "438257             55.949560              -3.180413  \n",
       "438258             55.960852              -3.180986  "
      ]
     },
     "execution_count": 4,
     "metadata": {},
     "output_type": "execute_result"
    }
   ],
   "source": [
    "bikes_data.tail(3)"
   ]
  },
  {
   "cell_type": "code",
   "execution_count": 5,
   "id": "4d7ab902",
   "metadata": {},
   "outputs": [
    {
     "data": {
      "text/html": [
       "<div>\n",
       "<style scoped>\n",
       "    .dataframe tbody tr th:only-of-type {\n",
       "        vertical-align: middle;\n",
       "    }\n",
       "\n",
       "    .dataframe tbody tr th {\n",
       "        vertical-align: top;\n",
       "    }\n",
       "\n",
       "    .dataframe thead th {\n",
       "        text-align: right;\n",
       "    }\n",
       "</style>\n",
       "<table border=\"1\" class=\"dataframe\">\n",
       "  <thead>\n",
       "    <tr style=\"text-align: right;\">\n",
       "      <th></th>\n",
       "      <th>time</th>\n",
       "      <th>temp</th>\n",
       "      <th>feels</th>\n",
       "      <th>wind</th>\n",
       "      <th>gust</th>\n",
       "      <th>rain</th>\n",
       "      <th>humidity</th>\n",
       "      <th>cloud</th>\n",
       "      <th>pressure</th>\n",
       "      <th>vis</th>\n",
       "      <th>date</th>\n",
       "    </tr>\n",
       "  </thead>\n",
       "  <tbody>\n",
       "    <tr>\n",
       "      <th>0</th>\n",
       "      <td>00:00</td>\n",
       "      <td>11 °c</td>\n",
       "      <td>11 °c</td>\n",
       "      <td>9 km/h from S</td>\n",
       "      <td>19 km/h</td>\n",
       "      <td>0.0 mm</td>\n",
       "      <td>79%</td>\n",
       "      <td>13%</td>\n",
       "      <td>1020 mb</td>\n",
       "      <td>Excellent</td>\n",
       "      <td>2018-09-01</td>\n",
       "    </tr>\n",
       "    <tr>\n",
       "      <th>1</th>\n",
       "      <td>03:00</td>\n",
       "      <td>13 °c</td>\n",
       "      <td>12 °c</td>\n",
       "      <td>11 km/h from SSW</td>\n",
       "      <td>19 km/h</td>\n",
       "      <td>0.0 mm</td>\n",
       "      <td>76%</td>\n",
       "      <td>96%</td>\n",
       "      <td>1020 mb</td>\n",
       "      <td>Excellent</td>\n",
       "      <td>2018-09-01</td>\n",
       "    </tr>\n",
       "    <tr>\n",
       "      <th>2</th>\n",
       "      <td>06:00</td>\n",
       "      <td>14 °c</td>\n",
       "      <td>13 °c</td>\n",
       "      <td>11 km/h from SSW</td>\n",
       "      <td>19 km/h</td>\n",
       "      <td>0.0 mm</td>\n",
       "      <td>84%</td>\n",
       "      <td>100%</td>\n",
       "      <td>1020 mb</td>\n",
       "      <td>Excellent</td>\n",
       "      <td>2018-09-01</td>\n",
       "    </tr>\n",
       "  </tbody>\n",
       "</table>\n",
       "</div>"
      ],
      "text/plain": [
       "    time   temp  feels              wind     gust    rain humidity cloud  \\\n",
       "0  00:00  11 °c  11 °c     9 km/h from S  19 km/h  0.0 mm      79%   13%   \n",
       "1  03:00  13 °c  12 °c  11 km/h from SSW  19 km/h  0.0 mm      76%   96%   \n",
       "2  06:00  14 °c  13 °c  11 km/h from SSW  19 km/h  0.0 mm      84%  100%   \n",
       "\n",
       "  pressure        vis        date  \n",
       "0  1020 mb  Excellent  2018-09-01  \n",
       "1  1020 mb  Excellent  2018-09-01  \n",
       "2  1020 mb  Excellent  2018-09-01  "
      ]
     },
     "execution_count": 5,
     "metadata": {},
     "output_type": "execute_result"
    }
   ],
   "source": [
    "weather_data.head(3)"
   ]
  },
  {
   "cell_type": "code",
   "execution_count": 6,
   "id": "d2213c7c",
   "metadata": {},
   "outputs": [
    {
     "data": {
      "text/html": [
       "<div>\n",
       "<style scoped>\n",
       "    .dataframe tbody tr th:only-of-type {\n",
       "        vertical-align: middle;\n",
       "    }\n",
       "\n",
       "    .dataframe tbody tr th {\n",
       "        vertical-align: top;\n",
       "    }\n",
       "\n",
       "    .dataframe thead th {\n",
       "        text-align: right;\n",
       "    }\n",
       "</style>\n",
       "<table border=\"1\" class=\"dataframe\">\n",
       "  <thead>\n",
       "    <tr style=\"text-align: right;\">\n",
       "      <th></th>\n",
       "      <th>time</th>\n",
       "      <th>temp</th>\n",
       "      <th>feels</th>\n",
       "      <th>wind</th>\n",
       "      <th>gust</th>\n",
       "      <th>rain</th>\n",
       "      <th>humidity</th>\n",
       "      <th>cloud</th>\n",
       "      <th>pressure</th>\n",
       "      <th>vis</th>\n",
       "      <th>date</th>\n",
       "    </tr>\n",
       "  </thead>\n",
       "  <tbody>\n",
       "    <tr>\n",
       "      <th>6333</th>\n",
       "      <td>15:00</td>\n",
       "      <td>10 °c</td>\n",
       "      <td>6 °c</td>\n",
       "      <td>42 km/h from SW</td>\n",
       "      <td>55 km/h</td>\n",
       "      <td>0.5 mm</td>\n",
       "      <td>75%</td>\n",
       "      <td>100%</td>\n",
       "      <td>989 mb</td>\n",
       "      <td>Excellent</td>\n",
       "      <td>2020-10-31</td>\n",
       "    </tr>\n",
       "    <tr>\n",
       "      <th>6334</th>\n",
       "      <td>18:00</td>\n",
       "      <td>9 °c</td>\n",
       "      <td>5 °c</td>\n",
       "      <td>38 km/h from WSW</td>\n",
       "      <td>54 km/h</td>\n",
       "      <td>0.0 mm</td>\n",
       "      <td>76%</td>\n",
       "      <td>79%</td>\n",
       "      <td>994 mb</td>\n",
       "      <td>Excellent</td>\n",
       "      <td>2020-10-31</td>\n",
       "    </tr>\n",
       "    <tr>\n",
       "      <th>6335</th>\n",
       "      <td>21:00</td>\n",
       "      <td>8 °c</td>\n",
       "      <td>4 °c</td>\n",
       "      <td>36 km/h from SW</td>\n",
       "      <td>49 km/h</td>\n",
       "      <td>0.1 mm</td>\n",
       "      <td>74%</td>\n",
       "      <td>79%</td>\n",
       "      <td>997 mb</td>\n",
       "      <td>Excellent</td>\n",
       "      <td>2020-10-31</td>\n",
       "    </tr>\n",
       "  </tbody>\n",
       "</table>\n",
       "</div>"
      ],
      "text/plain": [
       "       time   temp feels              wind     gust    rain humidity cloud  \\\n",
       "6333  15:00  10 °c  6 °c   42 km/h from SW  55 km/h  0.5 mm      75%  100%   \n",
       "6334  18:00   9 °c  5 °c  38 km/h from WSW  54 km/h  0.0 mm      76%   79%   \n",
       "6335  21:00   8 °c  4 °c   36 km/h from SW  49 km/h  0.1 mm      74%   79%   \n",
       "\n",
       "     pressure        vis        date  \n",
       "6333   989 mb  Excellent  2020-10-31  \n",
       "6334   994 mb  Excellent  2020-10-31  \n",
       "6335   997 mb  Excellent  2020-10-31  "
      ]
     },
     "execution_count": 6,
     "metadata": {},
     "output_type": "execute_result"
    }
   ],
   "source": [
    "weather_data.tail(3)"
   ]
  },
  {
   "cell_type": "markdown",
   "id": "951bde88",
   "metadata": {},
   "source": [
    "## Uprava nazvu jednotlivych sloupcu pro naslednou snadnejsi orientaci \n",
    "- nektere sloupce maji velmi dlouhe nazvy, coz z meho pohledu neni uplne nejlepsi, proto si je prejmenuji"
   ]
  },
  {
   "cell_type": "code",
   "execution_count": 7,
   "id": "672f6fe9",
   "metadata": {},
   "outputs": [
    {
     "data": {
      "text/plain": [
       "Index(['index', 'started_at', 'ended_at', 'duration', 'start_station_id',\n",
       "       'start_station_name', 'start_station_description',\n",
       "       'start_station_latitude', 'start_station_longitude', 'end_station_id',\n",
       "       'end_station_name', 'end_station_description', 'end_station_latitude',\n",
       "       'end_station_longitude'],\n",
       "      dtype='object')"
      ]
     },
     "execution_count": 7,
     "metadata": {},
     "output_type": "execute_result"
    }
   ],
   "source": [
    "bikes_data.columns"
   ]
  },
  {
   "cell_type": "code",
   "execution_count": 8,
   "id": "601ec6b0",
   "metadata": {},
   "outputs": [
    {
     "data": {
      "text/plain": [
       "Index(['time', 'temp', 'feels', 'wind', 'gust', 'rain', 'humidity', 'cloud',\n",
       "       'pressure', 'vis', 'date'],\n",
       "      dtype='object')"
      ]
     },
     "execution_count": 8,
     "metadata": {},
     "output_type": "execute_result"
    }
   ],
   "source": [
    "weather_data.columns"
   ]
  },
  {
   "cell_type": "code",
   "execution_count": 9,
   "id": "065f4659",
   "metadata": {},
   "outputs": [],
   "source": [
    "# renaming of columns for easier orientation\n",
    "bikes_data['duration'] = round(bikes_data['duration']/60,2)\n",
    "bikes_col_rename = {'duration':'duration in min',\n",
    "                   'start_station_id':'start_id',\n",
    "                   'start_station_name':'start_name',\n",
    "                    'start_station_latitude':'s_lat',\n",
    "                    'start_station_longitude':'s_lon',\n",
    "                    'start_station_description':'description_start',\n",
    "                    'end_station_id':'end_id',\n",
    "                    'end_station_name':'end_name',\n",
    "                    'end_station_latitude':'e_lat',\n",
    "                    'end_station_longitude':'e_lon',\n",
    "                    'end_station_description':'description_end'}\n",
    "bikes_data.rename(bikes_col_rename,axis=1,inplace=True)"
   ]
  },
  {
   "cell_type": "code",
   "execution_count": 10,
   "id": "926b44a8",
   "metadata": {},
   "outputs": [
    {
     "data": {
      "text/html": [
       "<div>\n",
       "<style scoped>\n",
       "    .dataframe tbody tr th:only-of-type {\n",
       "        vertical-align: middle;\n",
       "    }\n",
       "\n",
       "    .dataframe tbody tr th {\n",
       "        vertical-align: top;\n",
       "    }\n",
       "\n",
       "    .dataframe thead th {\n",
       "        text-align: right;\n",
       "    }\n",
       "</style>\n",
       "<table border=\"1\" class=\"dataframe\">\n",
       "  <thead>\n",
       "    <tr style=\"text-align: right;\">\n",
       "      <th></th>\n",
       "      <th>index</th>\n",
       "      <th>started_at</th>\n",
       "      <th>ended_at</th>\n",
       "      <th>duration in min</th>\n",
       "      <th>start_id</th>\n",
       "      <th>start_name</th>\n",
       "      <th>description_start</th>\n",
       "      <th>s_lat</th>\n",
       "      <th>s_lon</th>\n",
       "      <th>end_id</th>\n",
       "      <th>end_name</th>\n",
       "      <th>description_end</th>\n",
       "      <th>e_lat</th>\n",
       "      <th>e_lon</th>\n",
       "    </tr>\n",
       "  </thead>\n",
       "  <tbody>\n",
       "    <tr>\n",
       "      <th>0</th>\n",
       "      <td>0</td>\n",
       "      <td>2018-09-15 08:52:05</td>\n",
       "      <td>2018-09-15 09:11:48</td>\n",
       "      <td>19.7</td>\n",
       "      <td>247</td>\n",
       "      <td>Charlotte Square</td>\n",
       "      <td>North Corner of Charlotte Square</td>\n",
       "      <td>55.952335</td>\n",
       "      <td>-3.207101</td>\n",
       "      <td>259</td>\n",
       "      <td>St Andrew Square</td>\n",
       "      <td>North East corner</td>\n",
       "      <td>55.954728</td>\n",
       "      <td>-3.192653</td>\n",
       "    </tr>\n",
       "  </tbody>\n",
       "</table>\n",
       "</div>"
      ],
      "text/plain": [
       "   index           started_at             ended_at  duration in min  start_id  \\\n",
       "0      0  2018-09-15 08:52:05  2018-09-15 09:11:48             19.7       247   \n",
       "\n",
       "         start_name                 description_start      s_lat     s_lon  \\\n",
       "0  Charlotte Square  North Corner of Charlotte Square  55.952335 -3.207101   \n",
       "\n",
       "   end_id          end_name    description_end      e_lat     e_lon  \n",
       "0     259  St Andrew Square  North East corner  55.954728 -3.192653  "
      ]
     },
     "execution_count": 10,
     "metadata": {},
     "output_type": "execute_result"
    }
   ],
   "source": [
    "bikes_data.head(1)"
   ]
  },
  {
   "cell_type": "markdown",
   "id": "ed096ce2",
   "metadata": {},
   "source": [
    "## Pruzkum dat\n",
    "- datovy typ,\n",
    "- velikost dat\n",
    "- unikatni hodnoty\n",
    "- zakladni descriptivni statistika pro numericke hodnoty"
   ]
  },
  {
   "cell_type": "code",
   "execution_count": 11,
   "id": "6f752372",
   "metadata": {},
   "outputs": [
    {
     "name": "stdout",
     "output_type": "stream",
     "text": [
      "<class 'pandas.core.frame.DataFrame'>\n",
      "RangeIndex: 438259 entries, 0 to 438258\n",
      "Data columns (total 14 columns):\n",
      " #   Column             Non-Null Count   Dtype  \n",
      "---  ------             --------------   -----  \n",
      " 0   index              438259 non-null  int64  \n",
      " 1   started_at         438259 non-null  object \n",
      " 2   ended_at           438259 non-null  object \n",
      " 3   duration in min    438259 non-null  float64\n",
      " 4   start_id           438259 non-null  int64  \n",
      " 5   start_name         438259 non-null  object \n",
      " 6   description_start  434118 non-null  object \n",
      " 7   s_lat              438259 non-null  float64\n",
      " 8   s_lon              438259 non-null  float64\n",
      " 9   end_id             438259 non-null  int64  \n",
      " 10  end_name           438259 non-null  object \n",
      " 11  description_end    433570 non-null  object \n",
      " 12  e_lat              438259 non-null  float64\n",
      " 13  e_lon              438259 non-null  float64\n",
      "dtypes: float64(5), int64(3), object(6)\n",
      "memory usage: 46.8+ MB\n"
     ]
    }
   ],
   "source": [
    "bikes_data.info()"
   ]
  },
  {
   "cell_type": "markdown",
   "id": "1479779a",
   "metadata": {},
   "source": [
    "- Metoda info() nam poskytla zakladni informace o dataframe. Muzeme zde videt celkovy pocet radku i sloupcu, pocet nenulovych hodnot, datove typy jednotlivych sloupcu i velikost pameti, kterou data zabiraji."
   ]
  },
  {
   "cell_type": "markdown",
   "id": "848b7fd6",
   "metadata": {},
   "source": [
    "- Lze si vsimnout, ze pocet start_id je jiny nez pocet start_name a stejne tak i u end_id a end_name. Lze to interpretovat tak, ze kazda stanice ma svoje unikatni ID(identifikacni cislo), ale jeji nazev se muze vyskytovat ve stejne podobe u jineho ID. V prubehu cele analyzi bude pro mne stezejni ID jednotlivych stanic a ne jejich jmena. "
   ]
  },
  {
   "cell_type": "code",
   "execution_count": 12,
   "id": "10e66708",
   "metadata": {},
   "outputs": [
    {
     "data": {
      "text/plain": [
       "index                 31398\n",
       "started_at           433059\n",
       "ended_at             432562\n",
       "duration in min       14032\n",
       "start_id                198\n",
       "start_name              169\n",
       "description_start       208\n",
       "s_lat                   221\n",
       "s_lon                   221\n",
       "end_id                  199\n",
       "end_name                170\n",
       "description_end         209\n",
       "e_lat                   223\n",
       "e_lon                   223\n",
       "dtype: int64"
      ]
     },
     "execution_count": 12,
     "metadata": {},
     "output_type": "execute_result"
    }
   ],
   "source": [
    "bikes_data.nunique()  # unikatni hodnoty pro jednotlive sloupce"
   ]
  },
  {
   "cell_type": "code",
   "execution_count": 13,
   "id": "496b5c49",
   "metadata": {},
   "outputs": [
    {
     "name": "stdout",
     "output_type": "stream",
     "text": [
      "<class 'pandas.core.frame.DataFrame'>\n",
      "RangeIndex: 6336 entries, 0 to 6335\n",
      "Data columns (total 11 columns):\n",
      " #   Column    Non-Null Count  Dtype \n",
      "---  ------    --------------  ----- \n",
      " 0   time      6336 non-null   object\n",
      " 1   temp      6336 non-null   object\n",
      " 2   feels     6336 non-null   object\n",
      " 3   wind      6336 non-null   object\n",
      " 4   gust      6336 non-null   object\n",
      " 5   rain      6336 non-null   object\n",
      " 6   humidity  6336 non-null   object\n",
      " 7   cloud     6336 non-null   object\n",
      " 8   pressure  6336 non-null   object\n",
      " 9   vis       6336 non-null   object\n",
      " 10  date      6336 non-null   object\n",
      "dtypes: object(11)\n",
      "memory usage: 544.6+ KB\n"
     ]
    }
   ],
   "source": [
    "weather_data.info()"
   ]
  },
  {
   "cell_type": "markdown",
   "id": "27a8a2da",
   "metadata": {},
   "source": [
    "- v dataframe weather mame vsechny hodnoty datoveho typu object"
   ]
  },
  {
   "cell_type": "code",
   "execution_count": 14,
   "id": "f09a3959",
   "metadata": {},
   "outputs": [
    {
     "data": {
      "text/plain": [
       "time          8\n",
       "temp         31\n",
       "feels        32\n",
       "wind        581\n",
       "gust         74\n",
       "rain        106\n",
       "humidity     60\n",
       "cloud       101\n",
       "pressure     88\n",
       "vis           4\n",
       "date        792\n",
       "dtype: int64"
      ]
     },
     "execution_count": 14,
     "metadata": {},
     "output_type": "execute_result"
    }
   ],
   "source": [
    "weather_data.nunique() # unique counts for columns"
   ]
  },
  {
   "cell_type": "markdown",
   "id": "b43b31e3",
   "metadata": {},
   "source": [
    "## Uprava datovych typu\n",
    "- ne vsechny hodnoty v dataframe maji spravny nebo vhodny datovy typ k tvorbe analyzy a proto upravime datovy typ podle nasi potreby. Ocenime to pri naslednych vypoctech nebo pri spojovani dat\n",
    "- nejdrive prevedeme vsechny casove hodnoty, ktere jsou ve formatu object cili string na datovy type formatu datetime64, velmi to ocenime pri praci s casem"
   ]
  },
  {
   "cell_type": "code",
   "execution_count": 15,
   "id": "e42d48fd",
   "metadata": {},
   "outputs": [],
   "source": [
    "# convert data to another datatype in bikes_data\n",
    "bikes_data['started_at'] = pd.to_datetime(bikes_data['started_at'])\n",
    "bikes_data['ended_at'] = pd.to_datetime(bikes_data['ended_at'])"
   ]
  },
  {
   "cell_type": "code",
   "execution_count": 16,
   "id": "6787f375",
   "metadata": {},
   "outputs": [
    {
     "data": {
      "text/plain": [
       "index                         int64\n",
       "started_at           datetime64[ns]\n",
       "ended_at             datetime64[ns]\n",
       "duration in min             float64\n",
       "start_id                      int64\n",
       "start_name                   object\n",
       "description_start            object\n",
       "s_lat                       float64\n",
       "s_lon                       float64\n",
       "end_id                        int64\n",
       "end_name                     object\n",
       "description_end              object\n",
       "e_lat                       float64\n",
       "e_lon                       float64\n",
       "dtype: object"
      ]
     },
     "execution_count": 16,
     "metadata": {},
     "output_type": "execute_result"
    }
   ],
   "source": [
    "bikes_data.dtypes"
   ]
  },
  {
   "cell_type": "markdown",
   "id": "39939805",
   "metadata": {},
   "source": [
    "- do dataframe bikes_data pridame weekday, hours, week, month a year ktere ziskame z casoveho udaje. Pro tyto hodnoty pouziji start_at, casovy udaj pocatku vypujcky, ktery je pro mne vice vypovidajici nez udaj o konci."
   ]
  },
  {
   "cell_type": "code",
   "execution_count": 17,
   "id": "7d9aa15b",
   "metadata": {},
   "outputs": [],
   "source": [
    "bikes_data['date'] = bikes_data['started_at'].dt.date.astype('datetime64')\n",
    "bikes_data['weekday'] = bikes_data['date'].dt.weekday\n",
    "bikes_data['weekend'] = np.where(bikes_data['weekday'] >=5, 1, 0)\n",
    "bikes_data['hour'] = bikes_data['started_at'].dt.hour\n",
    "bikes_data['week'] = bikes_data['date'].dt.isocalendar().week\n",
    "bikes_data['month'] = bikes_data['date'].dt.month\n",
    "bikes_data['year'] = bikes_data['date'].dt.year"
   ]
  },
  {
   "cell_type": "code",
   "execution_count": 18,
   "id": "7b825a90",
   "metadata": {},
   "outputs": [],
   "source": [
    "# season and weekend or weekday\n",
    "season = (bikes_data['started_at'].dt.month-1)//3\n",
    "season += (bikes_data['started_at'].dt.month == 3)&(bikes_data['started_at'].dt.day>=20)\n",
    "season += (bikes_data['started_at'].dt.month == 6)&(bikes_data['started_at'].dt.day>=21)\n",
    "season += (bikes_data['started_at'].dt.month == 9)&(bikes_data['started_at'].dt.day>=23)\n",
    "season -= 3*((bikes_data['started_at'].dt.month == 12)&(bikes_data['started_at'].dt.day>=21)).astype(int)\n",
    "\n",
    "bikes_data['season'] = season"
   ]
  },
  {
   "cell_type": "code",
   "execution_count": 19,
   "id": "37af3938",
   "metadata": {},
   "outputs": [
    {
     "data": {
      "text/html": [
       "<div>\n",
       "<style scoped>\n",
       "    .dataframe tbody tr th:only-of-type {\n",
       "        vertical-align: middle;\n",
       "    }\n",
       "\n",
       "    .dataframe tbody tr th {\n",
       "        vertical-align: top;\n",
       "    }\n",
       "\n",
       "    .dataframe thead th {\n",
       "        text-align: right;\n",
       "    }\n",
       "</style>\n",
       "<table border=\"1\" class=\"dataframe\">\n",
       "  <thead>\n",
       "    <tr style=\"text-align: right;\">\n",
       "      <th></th>\n",
       "      <th>index</th>\n",
       "      <th>started_at</th>\n",
       "      <th>ended_at</th>\n",
       "      <th>duration in min</th>\n",
       "      <th>start_id</th>\n",
       "      <th>start_name</th>\n",
       "      <th>description_start</th>\n",
       "      <th>s_lat</th>\n",
       "      <th>s_lon</th>\n",
       "      <th>end_id</th>\n",
       "      <th>...</th>\n",
       "      <th>e_lat</th>\n",
       "      <th>e_lon</th>\n",
       "      <th>date</th>\n",
       "      <th>weekday</th>\n",
       "      <th>weekend</th>\n",
       "      <th>hour</th>\n",
       "      <th>week</th>\n",
       "      <th>month</th>\n",
       "      <th>year</th>\n",
       "      <th>season</th>\n",
       "    </tr>\n",
       "  </thead>\n",
       "  <tbody>\n",
       "    <tr>\n",
       "      <th>0</th>\n",
       "      <td>0</td>\n",
       "      <td>2018-09-15 08:52:05</td>\n",
       "      <td>2018-09-15 09:11:48</td>\n",
       "      <td>19.7</td>\n",
       "      <td>247</td>\n",
       "      <td>Charlotte Square</td>\n",
       "      <td>North Corner of Charlotte Square</td>\n",
       "      <td>55.952335</td>\n",
       "      <td>-3.207101</td>\n",
       "      <td>259</td>\n",
       "      <td>...</td>\n",
       "      <td>55.954728</td>\n",
       "      <td>-3.192653</td>\n",
       "      <td>2018-09-15</td>\n",
       "      <td>5</td>\n",
       "      <td>1</td>\n",
       "      <td>8</td>\n",
       "      <td>37</td>\n",
       "      <td>9</td>\n",
       "      <td>2018</td>\n",
       "      <td>2</td>\n",
       "    </tr>\n",
       "  </tbody>\n",
       "</table>\n",
       "<p>1 rows × 22 columns</p>\n",
       "</div>"
      ],
      "text/plain": [
       "   index          started_at            ended_at  duration in min  start_id  \\\n",
       "0      0 2018-09-15 08:52:05 2018-09-15 09:11:48             19.7       247   \n",
       "\n",
       "         start_name                 description_start      s_lat     s_lon  \\\n",
       "0  Charlotte Square  North Corner of Charlotte Square  55.952335 -3.207101   \n",
       "\n",
       "   end_id  ...      e_lat     e_lon       date  weekday weekend  hour  week  \\\n",
       "0     259  ...  55.954728 -3.192653 2018-09-15        5       1     8    37   \n",
       "\n",
       "   month  year  season  \n",
       "0      9  2018       2  \n",
       "\n",
       "[1 rows x 22 columns]"
      ]
     },
     "execution_count": 19,
     "metadata": {},
     "output_type": "execute_result"
    }
   ],
   "source": [
    "bikes_data.head(1)"
   ]
  },
  {
   "cell_type": "markdown",
   "id": "5a1739e5",
   "metadata": {},
   "source": [
    "- ve sloupci weekend (vikend) mame dve hodnoty 1 jako True a 0 False. Uz v prvnim radku vidime hodnotu 1, coz znamena ze tato jizda probehla o vikendu. Dale ve sloupci weekday mame hodnoty 0 az 6, ktere znaci dny v tydnu - 0 je pondeli a 6 je nedele. to nam pomaha se zorientovat na pracovni dny a vikendy."
   ]
  },
  {
   "cell_type": "code",
   "execution_count": 20,
   "id": "35aaef79",
   "metadata": {},
   "outputs": [],
   "source": [
    "weather_data['date'] = pd.to_datetime(weather_data['date'])"
   ]
  },
  {
   "cell_type": "code",
   "execution_count": 21,
   "id": "e5affd06",
   "metadata": {},
   "outputs": [
    {
     "data": {
      "text/plain": [
       "time                object\n",
       "temp                object\n",
       "feels               object\n",
       "wind                object\n",
       "gust                object\n",
       "rain                object\n",
       "humidity            object\n",
       "cloud               object\n",
       "pressure            object\n",
       "vis                 object\n",
       "date        datetime64[ns]\n",
       "dtype: object"
      ]
     },
     "execution_count": 21,
     "metadata": {},
     "output_type": "execute_result"
    }
   ],
   "source": [
    "weather_data.dtypes"
   ]
  },
  {
   "cell_type": "code",
   "execution_count": 22,
   "id": "c7fc96bd",
   "metadata": {},
   "outputs": [
    {
     "data": {
      "text/html": [
       "<div>\n",
       "<style scoped>\n",
       "    .dataframe tbody tr th:only-of-type {\n",
       "        vertical-align: middle;\n",
       "    }\n",
       "\n",
       "    .dataframe tbody tr th {\n",
       "        vertical-align: top;\n",
       "    }\n",
       "\n",
       "    .dataframe thead th {\n",
       "        text-align: right;\n",
       "    }\n",
       "</style>\n",
       "<table border=\"1\" class=\"dataframe\">\n",
       "  <thead>\n",
       "    <tr style=\"text-align: right;\">\n",
       "      <th></th>\n",
       "      <th>time</th>\n",
       "      <th>temp</th>\n",
       "      <th>feels</th>\n",
       "      <th>wind</th>\n",
       "      <th>gust</th>\n",
       "      <th>rain</th>\n",
       "      <th>humidity</th>\n",
       "      <th>cloud</th>\n",
       "      <th>pressure</th>\n",
       "      <th>vis</th>\n",
       "      <th>date</th>\n",
       "    </tr>\n",
       "  </thead>\n",
       "  <tbody>\n",
       "    <tr>\n",
       "      <th>0</th>\n",
       "      <td>00:00</td>\n",
       "      <td>11 °c</td>\n",
       "      <td>11 °c</td>\n",
       "      <td>9 km/h from S</td>\n",
       "      <td>19 km/h</td>\n",
       "      <td>0.0 mm</td>\n",
       "      <td>79%</td>\n",
       "      <td>13%</td>\n",
       "      <td>1020 mb</td>\n",
       "      <td>Excellent</td>\n",
       "      <td>2018-09-01</td>\n",
       "    </tr>\n",
       "  </tbody>\n",
       "</table>\n",
       "</div>"
      ],
      "text/plain": [
       "    time   temp  feels           wind     gust    rain humidity cloud  \\\n",
       "0  00:00  11 °c  11 °c  9 km/h from S  19 km/h  0.0 mm      79%   13%   \n",
       "\n",
       "  pressure        vis       date  \n",
       "0  1020 mb  Excellent 2018-09-01  "
      ]
     },
     "execution_count": 22,
     "metadata": {},
     "output_type": "execute_result"
    }
   ],
   "source": [
    "weather_data.head(1)"
   ]
  },
  {
   "cell_type": "markdown",
   "id": "66f6d36e",
   "metadata": {},
   "source": [
    "- ve weather_data muzeme videt, ze vsechny sloupce jsou datoveho typu object (string) a hodnoty pro time jsou taky nevhodne. Proto pristoupime k uprave, kde vyuziji pomoc regulernich vyrazu a vsechny hodnoty, ktere budeme pouzivat pri numerickych vypoctech prevedun na cisla. Tabulku weather take upravim, protoze nebude potreba pouzit vsechny sloupce, ty ktere nepotrebujeme odstranime. Weather si pripravime tak, aby nam nim nebranilo v pohodlnem vyuziti v nasledujicich castech analyzy."
   ]
  },
  {
   "cell_type": "code",
   "execution_count": 23,
   "id": "b5db161b",
   "metadata": {},
   "outputs": [],
   "source": [
    "weather_data.temp.replace(to_replace='\\D+',value='',regex=True,inplace=True)\n",
    "weather_data.wind.replace(to_replace='\\D+',value='',regex=True,inplace=True)\n",
    "weather_data.rain.replace(to_replace='\\D+',value='',regex=True,inplace=True)\n",
    "weather_data.humidity.replace(to_replace='\\D+',value='',regex=True,inplace=True)\n",
    "weather_data.cloud.replace(to_replace='\\D+',value='',regex=True,inplace=True)\n",
    "\n",
    "\n",
    "weather_data['temp']=weather_data['temp'].astype('float')\n",
    "weather_data['wind']=weather_data['wind'].astype('float')\n",
    "weather_data['rain']=weather_data['rain'].astype('float')\n",
    "weather_data['humidity']=weather_data['humidity'].astype('float')\n",
    "weather_data['cloud']=weather_data['cloud'].astype('float')"
   ]
  },
  {
   "cell_type": "code",
   "execution_count": 24,
   "id": "16b9ef4f",
   "metadata": {},
   "outputs": [
    {
     "data": {
      "text/html": [
       "<div>\n",
       "<style scoped>\n",
       "    .dataframe tbody tr th:only-of-type {\n",
       "        vertical-align: middle;\n",
       "    }\n",
       "\n",
       "    .dataframe tbody tr th {\n",
       "        vertical-align: top;\n",
       "    }\n",
       "\n",
       "    .dataframe thead th {\n",
       "        text-align: right;\n",
       "    }\n",
       "</style>\n",
       "<table border=\"1\" class=\"dataframe\">\n",
       "  <thead>\n",
       "    <tr style=\"text-align: right;\">\n",
       "      <th></th>\n",
       "      <th>time</th>\n",
       "      <th>temp</th>\n",
       "      <th>feels</th>\n",
       "      <th>wind</th>\n",
       "      <th>gust</th>\n",
       "      <th>rain</th>\n",
       "      <th>humidity</th>\n",
       "      <th>cloud</th>\n",
       "      <th>pressure</th>\n",
       "      <th>vis</th>\n",
       "      <th>date</th>\n",
       "    </tr>\n",
       "  </thead>\n",
       "  <tbody>\n",
       "    <tr>\n",
       "      <th>0</th>\n",
       "      <td>00:00</td>\n",
       "      <td>11.0</td>\n",
       "      <td>11 °c</td>\n",
       "      <td>9.0</td>\n",
       "      <td>19 km/h</td>\n",
       "      <td>0.0</td>\n",
       "      <td>79.0</td>\n",
       "      <td>13.0</td>\n",
       "      <td>1020 mb</td>\n",
       "      <td>Excellent</td>\n",
       "      <td>2018-09-01</td>\n",
       "    </tr>\n",
       "  </tbody>\n",
       "</table>\n",
       "</div>"
      ],
      "text/plain": [
       "    time  temp  feels  wind     gust  rain  humidity  cloud pressure  \\\n",
       "0  00:00  11.0  11 °c   9.0  19 km/h   0.0      79.0   13.0  1020 mb   \n",
       "\n",
       "         vis       date  \n",
       "0  Excellent 2018-09-01  "
      ]
     },
     "execution_count": 24,
     "metadata": {},
     "output_type": "execute_result"
    }
   ],
   "source": [
    "weather_data.head(1)"
   ]
  },
  {
   "cell_type": "code",
   "execution_count": 25,
   "id": "a6a5a009",
   "metadata": {},
   "outputs": [],
   "source": [
    "# odstranime sloupce, ktere nejsou pro analyzu zasadni\n",
    "weather_data.drop(['feels','gust','pressure'],axis=1,inplace=True)"
   ]
  },
  {
   "cell_type": "markdown",
   "id": "801f72ad",
   "metadata": {},
   "source": [
    "- ted kdyz se podivame na prvni sloupec tabulky weather vidime, ze sloupce mame zmenene na datovy typ float, a jsou proto vhodne k vypoctum pro descriptivni statistiku"
   ]
  },
  {
   "cell_type": "code",
   "execution_count": 26,
   "id": "101b9c9e",
   "metadata": {},
   "outputs": [
    {
     "data": {
      "text/html": [
       "<div>\n",
       "<style scoped>\n",
       "    .dataframe tbody tr th:only-of-type {\n",
       "        vertical-align: middle;\n",
       "    }\n",
       "\n",
       "    .dataframe tbody tr th {\n",
       "        vertical-align: top;\n",
       "    }\n",
       "\n",
       "    .dataframe thead th {\n",
       "        text-align: right;\n",
       "    }\n",
       "</style>\n",
       "<table border=\"1\" class=\"dataframe\">\n",
       "  <thead>\n",
       "    <tr style=\"text-align: right;\">\n",
       "      <th></th>\n",
       "      <th>time</th>\n",
       "      <th>temp</th>\n",
       "      <th>wind</th>\n",
       "      <th>rain</th>\n",
       "      <th>humidity</th>\n",
       "      <th>cloud</th>\n",
       "      <th>vis</th>\n",
       "      <th>date</th>\n",
       "    </tr>\n",
       "  </thead>\n",
       "  <tbody>\n",
       "    <tr>\n",
       "      <th>0</th>\n",
       "      <td>00:00</td>\n",
       "      <td>11.0</td>\n",
       "      <td>9.0</td>\n",
       "      <td>0.0</td>\n",
       "      <td>79.0</td>\n",
       "      <td>13.0</td>\n",
       "      <td>Excellent</td>\n",
       "      <td>2018-09-01</td>\n",
       "    </tr>\n",
       "  </tbody>\n",
       "</table>\n",
       "</div>"
      ],
      "text/plain": [
       "    time  temp  wind  rain  humidity  cloud        vis       date\n",
       "0  00:00  11.0   9.0   0.0      79.0   13.0  Excellent 2018-09-01"
      ]
     },
     "execution_count": 26,
     "metadata": {},
     "output_type": "execute_result"
    }
   ],
   "source": [
    "weather_data.head(1)"
   ]
  },
  {
   "cell_type": "markdown",
   "id": "05a467d5",
   "metadata": {},
   "source": [
    "- jeste upravime sloupec time do vhodnejsiho formatu"
   ]
  },
  {
   "cell_type": "code",
   "execution_count": 27,
   "id": "57083fcf",
   "metadata": {},
   "outputs": [],
   "source": [
    "weather_data.time = pd.to_timedelta(weather_data['time'] + ':00')"
   ]
  },
  {
   "cell_type": "code",
   "execution_count": 28,
   "id": "3ff67755",
   "metadata": {},
   "outputs": [
    {
     "data": {
      "text/plain": [
       "0      0 days 00:00:00\n",
       "1      0 days 03:00:00\n",
       "2      0 days 06:00:00\n",
       "3      0 days 09:00:00\n",
       "4      0 days 12:00:00\n",
       "             ...      \n",
       "6331   0 days 09:00:00\n",
       "6332   0 days 12:00:00\n",
       "6333   0 days 15:00:00\n",
       "6334   0 days 18:00:00\n",
       "6335   0 days 21:00:00\n",
       "Name: time, Length: 6336, dtype: timedelta64[ns]"
      ]
     },
     "execution_count": 28,
     "metadata": {},
     "output_type": "execute_result"
    }
   ],
   "source": [
    "weather_data.time"
   ]
  },
  {
   "cell_type": "code",
   "execution_count": 29,
   "id": "4b9baf60",
   "metadata": {},
   "outputs": [
    {
     "data": {
      "text/html": [
       "<div>\n",
       "<style scoped>\n",
       "    .dataframe tbody tr th:only-of-type {\n",
       "        vertical-align: middle;\n",
       "    }\n",
       "\n",
       "    .dataframe tbody tr th {\n",
       "        vertical-align: top;\n",
       "    }\n",
       "\n",
       "    .dataframe thead th {\n",
       "        text-align: right;\n",
       "    }\n",
       "</style>\n",
       "<table border=\"1\" class=\"dataframe\">\n",
       "  <thead>\n",
       "    <tr style=\"text-align: right;\">\n",
       "      <th></th>\n",
       "      <th>time</th>\n",
       "      <th>temp</th>\n",
       "      <th>wind</th>\n",
       "      <th>rain</th>\n",
       "      <th>humidity</th>\n",
       "      <th>cloud</th>\n",
       "      <th>vis</th>\n",
       "      <th>date</th>\n",
       "    </tr>\n",
       "  </thead>\n",
       "  <tbody>\n",
       "    <tr>\n",
       "      <th>0</th>\n",
       "      <td>0 days 00:00:00</td>\n",
       "      <td>11.0</td>\n",
       "      <td>9.0</td>\n",
       "      <td>0.0</td>\n",
       "      <td>79.0</td>\n",
       "      <td>13.0</td>\n",
       "      <td>Excellent</td>\n",
       "      <td>2018-09-01</td>\n",
       "    </tr>\n",
       "    <tr>\n",
       "      <th>1</th>\n",
       "      <td>0 days 03:00:00</td>\n",
       "      <td>13.0</td>\n",
       "      <td>11.0</td>\n",
       "      <td>0.0</td>\n",
       "      <td>76.0</td>\n",
       "      <td>96.0</td>\n",
       "      <td>Excellent</td>\n",
       "      <td>2018-09-01</td>\n",
       "    </tr>\n",
       "    <tr>\n",
       "      <th>2</th>\n",
       "      <td>0 days 06:00:00</td>\n",
       "      <td>14.0</td>\n",
       "      <td>11.0</td>\n",
       "      <td>0.0</td>\n",
       "      <td>84.0</td>\n",
       "      <td>100.0</td>\n",
       "      <td>Excellent</td>\n",
       "      <td>2018-09-01</td>\n",
       "    </tr>\n",
       "    <tr>\n",
       "      <th>3</th>\n",
       "      <td>0 days 09:00:00</td>\n",
       "      <td>14.0</td>\n",
       "      <td>14.0</td>\n",
       "      <td>1.0</td>\n",
       "      <td>88.0</td>\n",
       "      <td>78.0</td>\n",
       "      <td>Excellent</td>\n",
       "      <td>2018-09-01</td>\n",
       "    </tr>\n",
       "    <tr>\n",
       "      <th>4</th>\n",
       "      <td>0 days 12:00:00</td>\n",
       "      <td>16.0</td>\n",
       "      <td>15.0</td>\n",
       "      <td>0.0</td>\n",
       "      <td>87.0</td>\n",
       "      <td>87.0</td>\n",
       "      <td>Excellent</td>\n",
       "      <td>2018-09-01</td>\n",
       "    </tr>\n",
       "    <tr>\n",
       "      <th>5</th>\n",
       "      <td>0 days 15:00:00</td>\n",
       "      <td>17.0</td>\n",
       "      <td>14.0</td>\n",
       "      <td>0.0</td>\n",
       "      <td>83.0</td>\n",
       "      <td>97.0</td>\n",
       "      <td>Excellent</td>\n",
       "      <td>2018-09-01</td>\n",
       "    </tr>\n",
       "    <tr>\n",
       "      <th>6</th>\n",
       "      <td>0 days 18:00:00</td>\n",
       "      <td>16.0</td>\n",
       "      <td>12.0</td>\n",
       "      <td>0.0</td>\n",
       "      <td>88.0</td>\n",
       "      <td>98.0</td>\n",
       "      <td>Excellent</td>\n",
       "      <td>2018-09-01</td>\n",
       "    </tr>\n",
       "    <tr>\n",
       "      <th>7</th>\n",
       "      <td>0 days 21:00:00</td>\n",
       "      <td>14.0</td>\n",
       "      <td>11.0</td>\n",
       "      <td>0.0</td>\n",
       "      <td>94.0</td>\n",
       "      <td>52.0</td>\n",
       "      <td>Excellent</td>\n",
       "      <td>2018-09-01</td>\n",
       "    </tr>\n",
       "    <tr>\n",
       "      <th>8</th>\n",
       "      <td>0 days 00:00:00</td>\n",
       "      <td>13.0</td>\n",
       "      <td>10.0</td>\n",
       "      <td>0.0</td>\n",
       "      <td>95.0</td>\n",
       "      <td>31.0</td>\n",
       "      <td>Poor</td>\n",
       "      <td>2018-09-02</td>\n",
       "    </tr>\n",
       "  </tbody>\n",
       "</table>\n",
       "</div>"
      ],
      "text/plain": [
       "             time  temp  wind  rain  humidity  cloud        vis       date\n",
       "0 0 days 00:00:00  11.0   9.0   0.0      79.0   13.0  Excellent 2018-09-01\n",
       "1 0 days 03:00:00  13.0  11.0   0.0      76.0   96.0  Excellent 2018-09-01\n",
       "2 0 days 06:00:00  14.0  11.0   0.0      84.0  100.0  Excellent 2018-09-01\n",
       "3 0 days 09:00:00  14.0  14.0   1.0      88.0   78.0  Excellent 2018-09-01\n",
       "4 0 days 12:00:00  16.0  15.0   0.0      87.0   87.0  Excellent 2018-09-01\n",
       "5 0 days 15:00:00  17.0  14.0   0.0      83.0   97.0  Excellent 2018-09-01\n",
       "6 0 days 18:00:00  16.0  12.0   0.0      88.0   98.0  Excellent 2018-09-01\n",
       "7 0 days 21:00:00  14.0  11.0   0.0      94.0   52.0  Excellent 2018-09-01\n",
       "8 0 days 00:00:00  13.0  10.0   0.0      95.0   31.0       Poor 2018-09-02"
      ]
     },
     "execution_count": 29,
     "metadata": {},
     "output_type": "execute_result"
    }
   ],
   "source": [
    "weather_data.head(9)"
   ]
  },
  {
   "cell_type": "code",
   "execution_count": 30,
   "id": "a4777072",
   "metadata": {},
   "outputs": [
    {
     "data": {
      "text/html": [
       "<div>\n",
       "<style scoped>\n",
       "    .dataframe tbody tr th:only-of-type {\n",
       "        vertical-align: middle;\n",
       "    }\n",
       "\n",
       "    .dataframe tbody tr th {\n",
       "        vertical-align: top;\n",
       "    }\n",
       "\n",
       "    .dataframe thead th {\n",
       "        text-align: right;\n",
       "    }\n",
       "</style>\n",
       "<table border=\"1\" class=\"dataframe\">\n",
       "  <thead>\n",
       "    <tr style=\"text-align: right;\">\n",
       "      <th></th>\n",
       "      <th>index</th>\n",
       "      <th>started_at</th>\n",
       "      <th>ended_at</th>\n",
       "      <th>duration in min</th>\n",
       "      <th>start_id</th>\n",
       "      <th>start_name</th>\n",
       "      <th>description_start</th>\n",
       "      <th>s_lat</th>\n",
       "      <th>s_lon</th>\n",
       "      <th>end_id</th>\n",
       "      <th>...</th>\n",
       "      <th>e_lat</th>\n",
       "      <th>e_lon</th>\n",
       "      <th>date</th>\n",
       "      <th>weekday</th>\n",
       "      <th>weekend</th>\n",
       "      <th>hour</th>\n",
       "      <th>week</th>\n",
       "      <th>month</th>\n",
       "      <th>year</th>\n",
       "      <th>season</th>\n",
       "    </tr>\n",
       "  </thead>\n",
       "  <tbody>\n",
       "    <tr>\n",
       "      <th>0</th>\n",
       "      <td>0</td>\n",
       "      <td>2018-09-15 08:52:05</td>\n",
       "      <td>2018-09-15 09:11:48</td>\n",
       "      <td>19.70</td>\n",
       "      <td>247</td>\n",
       "      <td>Charlotte Square</td>\n",
       "      <td>North Corner of Charlotte Square</td>\n",
       "      <td>55.952335</td>\n",
       "      <td>-3.207101</td>\n",
       "      <td>259</td>\n",
       "      <td>...</td>\n",
       "      <td>55.954728</td>\n",
       "      <td>-3.192653</td>\n",
       "      <td>2018-09-15</td>\n",
       "      <td>5</td>\n",
       "      <td>1</td>\n",
       "      <td>8</td>\n",
       "      <td>37</td>\n",
       "      <td>9</td>\n",
       "      <td>2018</td>\n",
       "      <td>2</td>\n",
       "    </tr>\n",
       "    <tr>\n",
       "      <th>1</th>\n",
       "      <td>1</td>\n",
       "      <td>2018-09-15 09:24:33</td>\n",
       "      <td>2018-09-15 09:41:09</td>\n",
       "      <td>16.58</td>\n",
       "      <td>259</td>\n",
       "      <td>St Andrew Square</td>\n",
       "      <td>North East corner</td>\n",
       "      <td>55.954749</td>\n",
       "      <td>-3.192774</td>\n",
       "      <td>262</td>\n",
       "      <td>...</td>\n",
       "      <td>55.962804</td>\n",
       "      <td>-3.196284</td>\n",
       "      <td>2018-09-15</td>\n",
       "      <td>5</td>\n",
       "      <td>1</td>\n",
       "      <td>9</td>\n",
       "      <td>37</td>\n",
       "      <td>9</td>\n",
       "      <td>2018</td>\n",
       "      <td>2</td>\n",
       "    </tr>\n",
       "    <tr>\n",
       "      <th>2</th>\n",
       "      <td>2</td>\n",
       "      <td>2018-09-15 09:48:54</td>\n",
       "      <td>2018-09-15 10:46:40</td>\n",
       "      <td>57.77</td>\n",
       "      <td>262</td>\n",
       "      <td>Canonmills</td>\n",
       "      <td>near Tesco's</td>\n",
       "      <td>55.962804</td>\n",
       "      <td>-3.196284</td>\n",
       "      <td>250</td>\n",
       "      <td>...</td>\n",
       "      <td>55.977638</td>\n",
       "      <td>-3.174116</td>\n",
       "      <td>2018-09-15</td>\n",
       "      <td>5</td>\n",
       "      <td>1</td>\n",
       "      <td>9</td>\n",
       "      <td>37</td>\n",
       "      <td>9</td>\n",
       "      <td>2018</td>\n",
       "      <td>2</td>\n",
       "    </tr>\n",
       "    <tr>\n",
       "      <th>3</th>\n",
       "      <td>3</td>\n",
       "      <td>2018-09-16 12:01:36</td>\n",
       "      <td>2018-09-16 12:25:26</td>\n",
       "      <td>23.83</td>\n",
       "      <td>255</td>\n",
       "      <td>Kings Buildings 4</td>\n",
       "      <td>X-Y Cafe</td>\n",
       "      <td>55.922001</td>\n",
       "      <td>-3.176902</td>\n",
       "      <td>254</td>\n",
       "      <td>...</td>\n",
       "      <td>55.923479</td>\n",
       "      <td>-3.175385</td>\n",
       "      <td>2018-09-16</td>\n",
       "      <td>6</td>\n",
       "      <td>1</td>\n",
       "      <td>12</td>\n",
       "      <td>37</td>\n",
       "      <td>9</td>\n",
       "      <td>2018</td>\n",
       "      <td>2</td>\n",
       "    </tr>\n",
       "    <tr>\n",
       "      <th>4</th>\n",
       "      <td>4</td>\n",
       "      <td>2018-09-16 12:03:43</td>\n",
       "      <td>2018-09-16 12:11:16</td>\n",
       "      <td>7.53</td>\n",
       "      <td>255</td>\n",
       "      <td>Kings Buildings 4</td>\n",
       "      <td>X-Y Cafe</td>\n",
       "      <td>55.922001</td>\n",
       "      <td>-3.176902</td>\n",
       "      <td>253</td>\n",
       "      <td>...</td>\n",
       "      <td>55.923202</td>\n",
       "      <td>-3.171646</td>\n",
       "      <td>2018-09-16</td>\n",
       "      <td>6</td>\n",
       "      <td>1</td>\n",
       "      <td>12</td>\n",
       "      <td>37</td>\n",
       "      <td>9</td>\n",
       "      <td>2018</td>\n",
       "      <td>2</td>\n",
       "    </tr>\n",
       "    <tr>\n",
       "      <th>5</th>\n",
       "      <td>5</td>\n",
       "      <td>2018-09-16 12:13:56</td>\n",
       "      <td>2018-09-16 12:17:45</td>\n",
       "      <td>3.80</td>\n",
       "      <td>253</td>\n",
       "      <td>Kings Building 2</td>\n",
       "      <td>Sanderson Building</td>\n",
       "      <td>55.923202</td>\n",
       "      <td>-3.171646</td>\n",
       "      <td>252</td>\n",
       "      <td>...</td>\n",
       "      <td>55.924185</td>\n",
       "      <td>-3.173831</td>\n",
       "      <td>2018-09-16</td>\n",
       "      <td>6</td>\n",
       "      <td>1</td>\n",
       "      <td>12</td>\n",
       "      <td>37</td>\n",
       "      <td>9</td>\n",
       "      <td>2018</td>\n",
       "      <td>2</td>\n",
       "    </tr>\n",
       "    <tr>\n",
       "      <th>6</th>\n",
       "      <td>6</td>\n",
       "      <td>2018-09-16 12:19:19</td>\n",
       "      <td>2018-09-16 12:25:26</td>\n",
       "      <td>6.10</td>\n",
       "      <td>252</td>\n",
       "      <td>Kings Buildings 1</td>\n",
       "      <td>Grant Institute</td>\n",
       "      <td>55.924185</td>\n",
       "      <td>-3.173831</td>\n",
       "      <td>254</td>\n",
       "      <td>...</td>\n",
       "      <td>55.923479</td>\n",
       "      <td>-3.175385</td>\n",
       "      <td>2018-09-16</td>\n",
       "      <td>6</td>\n",
       "      <td>1</td>\n",
       "      <td>12</td>\n",
       "      <td>37</td>\n",
       "      <td>9</td>\n",
       "      <td>2018</td>\n",
       "      <td>2</td>\n",
       "    </tr>\n",
       "    <tr>\n",
       "      <th>7</th>\n",
       "      <td>7</td>\n",
       "      <td>2018-09-16 12:28:57</td>\n",
       "      <td>2018-09-16 12:47:12</td>\n",
       "      <td>18.23</td>\n",
       "      <td>254</td>\n",
       "      <td>Kings Building 3</td>\n",
       "      <td>Kings Building House</td>\n",
       "      <td>55.923479</td>\n",
       "      <td>-3.175385</td>\n",
       "      <td>264</td>\n",
       "      <td>...</td>\n",
       "      <td>55.939963</td>\n",
       "      <td>-3.171586</td>\n",
       "      <td>2018-09-16</td>\n",
       "      <td>6</td>\n",
       "      <td>1</td>\n",
       "      <td>12</td>\n",
       "      <td>37</td>\n",
       "      <td>9</td>\n",
       "      <td>2018</td>\n",
       "      <td>2</td>\n",
       "    </tr>\n",
       "    <tr>\n",
       "      <th>8</th>\n",
       "      <td>8</td>\n",
       "      <td>2018-09-16 12:29:18</td>\n",
       "      <td>2018-09-16 12:46:24</td>\n",
       "      <td>17.08</td>\n",
       "      <td>254</td>\n",
       "      <td>Kings Building 3</td>\n",
       "      <td>Kings Building House</td>\n",
       "      <td>55.923479</td>\n",
       "      <td>-3.175385</td>\n",
       "      <td>264</td>\n",
       "      <td>...</td>\n",
       "      <td>55.939963</td>\n",
       "      <td>-3.171586</td>\n",
       "      <td>2018-09-16</td>\n",
       "      <td>6</td>\n",
       "      <td>1</td>\n",
       "      <td>12</td>\n",
       "      <td>37</td>\n",
       "      <td>9</td>\n",
       "      <td>2018</td>\n",
       "      <td>2</td>\n",
       "    </tr>\n",
       "  </tbody>\n",
       "</table>\n",
       "<p>9 rows × 22 columns</p>\n",
       "</div>"
      ],
      "text/plain": [
       "   index          started_at            ended_at  duration in min  start_id  \\\n",
       "0      0 2018-09-15 08:52:05 2018-09-15 09:11:48            19.70       247   \n",
       "1      1 2018-09-15 09:24:33 2018-09-15 09:41:09            16.58       259   \n",
       "2      2 2018-09-15 09:48:54 2018-09-15 10:46:40            57.77       262   \n",
       "3      3 2018-09-16 12:01:36 2018-09-16 12:25:26            23.83       255   \n",
       "4      4 2018-09-16 12:03:43 2018-09-16 12:11:16             7.53       255   \n",
       "5      5 2018-09-16 12:13:56 2018-09-16 12:17:45             3.80       253   \n",
       "6      6 2018-09-16 12:19:19 2018-09-16 12:25:26             6.10       252   \n",
       "7      7 2018-09-16 12:28:57 2018-09-16 12:47:12            18.23       254   \n",
       "8      8 2018-09-16 12:29:18 2018-09-16 12:46:24            17.08       254   \n",
       "\n",
       "          start_name                 description_start      s_lat     s_lon  \\\n",
       "0   Charlotte Square  North Corner of Charlotte Square  55.952335 -3.207101   \n",
       "1   St Andrew Square                 North East corner  55.954749 -3.192774   \n",
       "2         Canonmills                      near Tesco's  55.962804 -3.196284   \n",
       "3  Kings Buildings 4                          X-Y Cafe  55.922001 -3.176902   \n",
       "4  Kings Buildings 4                          X-Y Cafe  55.922001 -3.176902   \n",
       "5   Kings Building 2                Sanderson Building  55.923202 -3.171646   \n",
       "6  Kings Buildings 1                   Grant Institute  55.924185 -3.173831   \n",
       "7   Kings Building 3              Kings Building House  55.923479 -3.175385   \n",
       "8   Kings Building 3              Kings Building House  55.923479 -3.175385   \n",
       "\n",
       "   end_id  ...      e_lat     e_lon       date  weekday weekend  hour  week  \\\n",
       "0     259  ...  55.954728 -3.192653 2018-09-15        5       1     8    37   \n",
       "1     262  ...  55.962804 -3.196284 2018-09-15        5       1     9    37   \n",
       "2     250  ...  55.977638 -3.174116 2018-09-15        5       1     9    37   \n",
       "3     254  ...  55.923479 -3.175385 2018-09-16        6       1    12    37   \n",
       "4     253  ...  55.923202 -3.171646 2018-09-16        6       1    12    37   \n",
       "5     252  ...  55.924185 -3.173831 2018-09-16        6       1    12    37   \n",
       "6     254  ...  55.923479 -3.175385 2018-09-16        6       1    12    37   \n",
       "7     264  ...  55.939963 -3.171586 2018-09-16        6       1    12    37   \n",
       "8     264  ...  55.939963 -3.171586 2018-09-16        6       1    12    37   \n",
       "\n",
       "   month  year  season  \n",
       "0      9  2018       2  \n",
       "1      9  2018       2  \n",
       "2      9  2018       2  \n",
       "3      9  2018       2  \n",
       "4      9  2018       2  \n",
       "5      9  2018       2  \n",
       "6      9  2018       2  \n",
       "7      9  2018       2  \n",
       "8      9  2018       2  \n",
       "\n",
       "[9 rows x 22 columns]"
      ]
     },
     "execution_count": 30,
     "metadata": {},
     "output_type": "execute_result"
    }
   ],
   "source": [
    "bikes_data.head(9)"
   ]
  },
  {
   "cell_type": "code",
   "execution_count": 31,
   "id": "d520af06",
   "metadata": {},
   "outputs": [
    {
     "data": {
      "text/plain": [
       "time        timedelta64[ns]\n",
       "temp                float64\n",
       "wind                float64\n",
       "rain                float64\n",
       "humidity            float64\n",
       "cloud               float64\n",
       "vis                  object\n",
       "date         datetime64[ns]\n",
       "dtype: object"
      ]
     },
     "execution_count": 31,
     "metadata": {},
     "output_type": "execute_result"
    }
   ],
   "source": [
    "weather_data.dtypes"
   ]
  },
  {
   "cell_type": "code",
   "execution_count": 32,
   "id": "1853e1ca",
   "metadata": {},
   "outputs": [
    {
     "data": {
      "text/plain": [
       "index                         int64\n",
       "started_at           datetime64[ns]\n",
       "ended_at             datetime64[ns]\n",
       "duration in min             float64\n",
       "start_id                      int64\n",
       "start_name                   object\n",
       "description_start            object\n",
       "s_lat                       float64\n",
       "s_lon                       float64\n",
       "end_id                        int64\n",
       "end_name                     object\n",
       "description_end              object\n",
       "e_lat                       float64\n",
       "e_lon                       float64\n",
       "date                 datetime64[ns]\n",
       "weekday                       int64\n",
       "weekend                       int64\n",
       "hour                          int64\n",
       "week                         UInt32\n",
       "month                         int64\n",
       "year                          int64\n",
       "season                        int64\n",
       "dtype: object"
      ]
     },
     "execution_count": 32,
     "metadata": {},
     "output_type": "execute_result"
    }
   ],
   "source": [
    "bikes_data.dtypes"
   ]
  },
  {
   "cell_type": "markdown",
   "id": "c4eb40b4",
   "metadata": {},
   "source": [
    "- muzeme rict, ze timto mame obe dataframe pripraveny, prozkoumany a muzeme se pustit do samotne analyzy. "
   ]
  },
  {
   "cell_type": "markdown",
   "id": "5c4b8545",
   "metadata": {},
   "source": [
    "## Zobrazeni pomoci Folium Map"
   ]
  },
  {
   "cell_type": "markdown",
   "id": "1d91c84a",
   "metadata": {},
   "source": [
    "- pri zobrazeni pomoci folium map vyuziji plugin pro dualMap, ktery mi zobrazi dve mapy vedle sebe. V jedne budou zobrazene pocatecni stanice = jejich pocet a poloha a v druhe konecne stanice = pocet a poloha. Dale pridam interaktivni mapu, kde budou stanice v hodinovem casovem intervalu."
   ]
  },
  {
   "cell_type": "code",
   "execution_count": 33,
   "id": "08622881",
   "metadata": {},
   "outputs": [],
   "source": [
    "dualMap = DualMap(location=[55.953251, -3.1882675],tiles = 'cartodbpositron',\n",
    "                 zoom_start = 14)"
   ]
  },
  {
   "cell_type": "code",
   "execution_count": 34,
   "id": "fdacb1bd",
   "metadata": {},
   "outputs": [],
   "source": [
    "# DataFrame Start Stations\n",
    "s1 = bikes_data[['start_id','start_name','description_start','s_lat','s_lon']].value_counts()\n",
    "s1 = pd.DataFrame(s1)\n",
    "s1.reset_index(inplace=True)\n",
    "s1.rename(columns={0:'Count'},inplace=True)\n",
    "\n",
    "# DataFrame End Stations\n",
    "e1 = bikes_data[['end_id','end_name','description_end','e_lat','e_lon']].value_counts()\n",
    "e1 = pd.DataFrame(e1)\n",
    "e1.reset_index(inplace=True)\n",
    "e1.rename(columns={0:'Count'},inplace=True)"
   ]
  },
  {
   "cell_type": "code",
   "execution_count": 35,
   "id": "3eb82cf8",
   "metadata": {},
   "outputs": [],
   "source": [
    "s1.drop_duplicates(subset='start_id',inplace=True)"
   ]
  },
  {
   "cell_type": "code",
   "execution_count": 36,
   "id": "b3cd0851",
   "metadata": {},
   "outputs": [
    {
     "data": {
      "text/html": [
       "<div>\n",
       "<style scoped>\n",
       "    .dataframe tbody tr th:only-of-type {\n",
       "        vertical-align: middle;\n",
       "    }\n",
       "\n",
       "    .dataframe tbody tr th {\n",
       "        vertical-align: top;\n",
       "    }\n",
       "\n",
       "    .dataframe thead th {\n",
       "        text-align: right;\n",
       "    }\n",
       "</style>\n",
       "<table border=\"1\" class=\"dataframe\">\n",
       "  <thead>\n",
       "    <tr style=\"text-align: right;\">\n",
       "      <th></th>\n",
       "      <th>start_id</th>\n",
       "      <th>start_name</th>\n",
       "      <th>description_start</th>\n",
       "      <th>s_lat</th>\n",
       "      <th>s_lon</th>\n",
       "      <th>Count</th>\n",
       "    </tr>\n",
       "  </thead>\n",
       "  <tbody>\n",
       "    <tr>\n",
       "      <th>0</th>\n",
       "      <td>265</td>\n",
       "      <td>Meadows East</td>\n",
       "      <td>Between Melville Terrace and Sciennes</td>\n",
       "      <td>55.939809</td>\n",
       "      <td>-3.182739</td>\n",
       "      <td>12104</td>\n",
       "    </tr>\n",
       "  </tbody>\n",
       "</table>\n",
       "</div>"
      ],
      "text/plain": [
       "   start_id    start_name                      description_start      s_lat  \\\n",
       "0       265  Meadows East  Between Melville Terrace and Sciennes  55.939809   \n",
       "\n",
       "      s_lon  Count  \n",
       "0 -3.182739  12104  "
      ]
     },
     "execution_count": 36,
     "metadata": {},
     "output_type": "execute_result"
    }
   ],
   "source": [
    "s1.head(1)"
   ]
  },
  {
   "cell_type": "code",
   "execution_count": 37,
   "id": "a8d15542",
   "metadata": {},
   "outputs": [],
   "source": [
    "e1.drop_duplicates(subset='end_id',inplace=True)"
   ]
  },
  {
   "cell_type": "code",
   "execution_count": 38,
   "id": "05ded650",
   "metadata": {},
   "outputs": [
    {
     "data": {
      "text/html": [
       "<div>\n",
       "<style scoped>\n",
       "    .dataframe tbody tr th:only-of-type {\n",
       "        vertical-align: middle;\n",
       "    }\n",
       "\n",
       "    .dataframe tbody tr th {\n",
       "        vertical-align: top;\n",
       "    }\n",
       "\n",
       "    .dataframe thead th {\n",
       "        text-align: right;\n",
       "    }\n",
       "</style>\n",
       "<table border=\"1\" class=\"dataframe\">\n",
       "  <thead>\n",
       "    <tr style=\"text-align: right;\">\n",
       "      <th></th>\n",
       "      <th>end_id</th>\n",
       "      <th>end_name</th>\n",
       "      <th>description_end</th>\n",
       "      <th>e_lat</th>\n",
       "      <th>e_lon</th>\n",
       "      <th>Count</th>\n",
       "    </tr>\n",
       "  </thead>\n",
       "  <tbody>\n",
       "    <tr>\n",
       "      <th>0</th>\n",
       "      <td>1728</td>\n",
       "      <td>Portobello - Kings Road</td>\n",
       "      <td>Foot of Kings Road next to the promenade</td>\n",
       "      <td>55.957915</td>\n",
       "      <td>-3.118332</td>\n",
       "      <td>16656</td>\n",
       "    </tr>\n",
       "  </tbody>\n",
       "</table>\n",
       "</div>"
      ],
      "text/plain": [
       "   end_id                 end_name                           description_end  \\\n",
       "0    1728  Portobello - Kings Road  Foot of Kings Road next to the promenade   \n",
       "\n",
       "       e_lat     e_lon  Count  \n",
       "0  55.957915 -3.118332  16656  "
      ]
     },
     "execution_count": 38,
     "metadata": {},
     "output_type": "execute_result"
    }
   ],
   "source": [
    "e1.head(1)"
   ]
  },
  {
   "cell_type": "code",
   "execution_count": 39,
   "id": "60dbf436",
   "metadata": {},
   "outputs": [
    {
     "data": {
      "text/plain": [
       "197"
      ]
     },
     "execution_count": 39,
     "metadata": {},
     "output_type": "execute_result"
    }
   ],
   "source": [
    "s1_locations = s1[['s_lat','s_lon']]\n",
    "s1_list = s1_locations.values.tolist()\n",
    "len(s1_list) # delka listu tvoreneho z unikatnich hodnot langtitude a longtitude pro start_stations"
   ]
  },
  {
   "cell_type": "code",
   "execution_count": 40,
   "id": "bb43bef4",
   "metadata": {},
   "outputs": [
    {
     "data": {
      "text/plain": [
       "198"
      ]
     },
     "execution_count": 40,
     "metadata": {},
     "output_type": "execute_result"
    }
   ],
   "source": [
    "e1_locations = e1[['e_lat','e_lon']]\n",
    "e1_list = e1_locations.values.tolist()\n",
    "len(e1_list) # delka listu tvoreneho z unikatnich hodnot langtitude a longtitude pro end_stations"
   ]
  },
  {
   "cell_type": "code",
   "execution_count": 41,
   "id": "e71da7a2",
   "metadata": {},
   "outputs": [],
   "source": [
    "# tvorba markercluster pro start stations\n",
    "marker_cluster = MarkerCluster().add_to(dualMap.m1)\n",
    "\n",
    "for i, row in s1.iterrows():\n",
    "    lat = s1.at[i,'s_lat']\n",
    "    lon = s1.at[i,'s_lon']\n",
    "    \n",
    "    popup = 'Id: ' + str(s1.at[i,'start_id']) + '<br>' + \\\n",
    "          str(s1.at[i, 'start_name']) + '<br>' + \\\n",
    "          'Description: ' + s1.at[i,'description_start'] + '<br>' + \\\n",
    "          '<br>' + 'Counts: ' + str(s1.at[i,'Count'])\n",
    "    \n",
    "    folium.Marker(location=[lat,lon], popup=popup,\n",
    "                  icon=folium.Icon(color='darkblue',\n",
    "                                    icon_color='white',\n",
    "                                    icon='bicycle',\n",
    "                                    angle=0,\n",
    "                                    prefix='fa')).add_to(marker_cluster)\n"
   ]
  },
  {
   "cell_type": "code",
   "execution_count": 42,
   "id": "546dc2c9",
   "metadata": {},
   "outputs": [],
   "source": [
    "# tvorba markerclusteru pro end_stations\n",
    "markerCluster = MarkerCluster().add_to(dualMap.m2)\n",
    "\n",
    "for i, row in e1.iterrows():\n",
    "    lat = e1.at[i,'e_lat']\n",
    "    lon = e1.at[i,'e_lon']\n",
    "    \n",
    "    popup = 'Id: ' + str(e1.at[i,'end_id']) + '<br>' + \\\n",
    "          str(e1.at[i, 'end_name']) + '<br>' + \\\n",
    "          'Description: ' + e1.at[i,'description_end'] + '<br>' + \\\n",
    "          '<br>' + 'Counts: ' + str(e1.at[i,'Count'])\n",
    "    \n",
    "    folium.Marker(location=[lat,lon], popup=popup, \n",
    "                 icon = folium.Icon(color='red',\n",
    "                             icon_color='white',\n",
    "                             icon='bicycle',\n",
    "                            angle=0,\n",
    "                            prefic='fa')).add_to(markerCluster)"
   ]
  },
  {
   "cell_type": "code",
   "execution_count": 43,
   "id": "a6d6a979",
   "metadata": {},
   "outputs": [
    {
     "data": {
      "text/html": [
       "<div style=\"width:100%;\"><div style=\"position:relative;width:100%;height:0;padding-bottom:60%;\"><span style=\"color:#565656\">Make this Notebook Trusted to load map: File -> Trust Notebook</span><iframe src=\"about:blank\" style=\"position:absolute;width:100%;height:100%;left:0;top:0;border:none !important;\" data-html=%3C%21DOCTYPE%20html%3E%0A%3Chead%3E%20%20%20%20%0A%20%20%20%20%3Cmeta%20http-equiv%3D%22content-type%22%20content%3D%22text/html%3B%20charset%3DUTF-8%22%20/%3E%0A%20%20%20%20%0A%20%20%20%20%20%20%20%20%3Cscript%3E%0A%20%20%20%20%20%20%20%20%20%20%20%20L_NO_TOUCH%20%3D%20false%3B%0A%20%20%20%20%20%20%20%20%20%20%20%20L_DISABLE_3D%20%3D%20false%3B%0A%20%20%20%20%20%20%20%20%3C/script%3E%0A%20%20%20%20%0A%20%20%20%20%3Cstyle%3Ehtml%2C%20body%20%7Bwidth%3A%20100%25%3Bheight%3A%20100%25%3Bmargin%3A%200%3Bpadding%3A%200%3B%7D%3C/style%3E%0A%20%20%20%20%3Cstyle%3E%23map%20%7Bposition%3Aabsolute%3Btop%3A0%3Bbottom%3A0%3Bright%3A0%3Bleft%3A0%3B%7D%3C/style%3E%0A%20%20%20%20%3Cscript%20src%3D%22https%3A//cdn.jsdelivr.net/npm/leaflet%401.6.0/dist/leaflet.js%22%3E%3C/script%3E%0A%20%20%20%20%3Cscript%20src%3D%22https%3A//code.jquery.com/jquery-1.12.4.min.js%22%3E%3C/script%3E%0A%20%20%20%20%3Cscript%20src%3D%22https%3A//maxcdn.bootstrapcdn.com/bootstrap/3.2.0/js/bootstrap.min.js%22%3E%3C/script%3E%0A%20%20%20%20%3Cscript%20src%3D%22https%3A//cdnjs.cloudflare.com/ajax/libs/Leaflet.awesome-markers/2.0.2/leaflet.awesome-markers.js%22%3E%3C/script%3E%0A%20%20%20%20%3Clink%20rel%3D%22stylesheet%22%20href%3D%22https%3A//cdn.jsdelivr.net/npm/leaflet%401.6.0/dist/leaflet.css%22/%3E%0A%20%20%20%20%3Clink%20rel%3D%22stylesheet%22%20href%3D%22https%3A//maxcdn.bootstrapcdn.com/bootstrap/3.2.0/css/bootstrap.min.css%22/%3E%0A%20%20%20%20%3Clink%20rel%3D%22stylesheet%22%20href%3D%22https%3A//maxcdn.bootstrapcdn.com/bootstrap/3.2.0/css/bootstrap-theme.min.css%22/%3E%0A%20%20%20%20%3Clink%20rel%3D%22stylesheet%22%20href%3D%22https%3A//maxcdn.bootstrapcdn.com/font-awesome/4.6.3/css/font-awesome.min.css%22/%3E%0A%20%20%20%20%3Clink%20rel%3D%22stylesheet%22%20href%3D%22https%3A//cdnjs.cloudflare.com/ajax/libs/Leaflet.awesome-markers/2.0.2/leaflet.awesome-markers.css%22/%3E%0A%20%20%20%20%3Clink%20rel%3D%22stylesheet%22%20href%3D%22https%3A//cdn.jsdelivr.net/gh/python-visualization/folium/folium/templates/leaflet.awesome.rotate.min.css%22/%3E%0A%20%20%20%20%0A%20%20%20%20%20%20%20%20%20%20%20%20%3Cmeta%20name%3D%22viewport%22%20content%3D%22width%3Ddevice-width%2C%0A%20%20%20%20%20%20%20%20%20%20%20%20%20%20%20%20initial-scale%3D1.0%2C%20maximum-scale%3D1.0%2C%20user-scalable%3Dno%22%20/%3E%0A%20%20%20%20%20%20%20%20%20%20%20%20%3Cstyle%3E%0A%20%20%20%20%20%20%20%20%20%20%20%20%20%20%20%20%23map_66f500360f02406484285f676144cfba%20%7B%0A%20%20%20%20%20%20%20%20%20%20%20%20%20%20%20%20%20%20%20%20position%3A%20absolute%3B%0A%20%20%20%20%20%20%20%20%20%20%20%20%20%20%20%20%20%20%20%20width%3A%2050.0%25%3B%0A%20%20%20%20%20%20%20%20%20%20%20%20%20%20%20%20%20%20%20%20height%3A%20100.0%25%3B%0A%20%20%20%20%20%20%20%20%20%20%20%20%20%20%20%20%20%20%20%20left%3A%200.0%25%3B%0A%20%20%20%20%20%20%20%20%20%20%20%20%20%20%20%20%20%20%20%20top%3A%200.0%25%3B%0A%20%20%20%20%20%20%20%20%20%20%20%20%20%20%20%20%7D%0A%20%20%20%20%20%20%20%20%20%20%20%20%3C/style%3E%0A%20%20%20%20%20%20%20%20%0A%20%20%20%20%3Cscript%20src%3D%22https%3A//cdnjs.cloudflare.com/ajax/libs/leaflet.markercluster/1.1.0/leaflet.markercluster.js%22%3E%3C/script%3E%0A%20%20%20%20%3Clink%20rel%3D%22stylesheet%22%20href%3D%22https%3A//cdnjs.cloudflare.com/ajax/libs/leaflet.markercluster/1.1.0/MarkerCluster.css%22/%3E%0A%20%20%20%20%3Clink%20rel%3D%22stylesheet%22%20href%3D%22https%3A//cdnjs.cloudflare.com/ajax/libs/leaflet.markercluster/1.1.0/MarkerCluster.Default.css%22/%3E%0A%20%20%20%20%0A%20%20%20%20%20%20%20%20%20%20%20%20%3Cmeta%20name%3D%22viewport%22%20content%3D%22width%3Ddevice-width%2C%0A%20%20%20%20%20%20%20%20%20%20%20%20%20%20%20%20initial-scale%3D1.0%2C%20maximum-scale%3D1.0%2C%20user-scalable%3Dno%22%20/%3E%0A%20%20%20%20%20%20%20%20%20%20%20%20%3Cstyle%3E%0A%20%20%20%20%20%20%20%20%20%20%20%20%20%20%20%20%23map_d72f626dd3b84c72a9d2101ff1c40308%20%7B%0A%20%20%20%20%20%20%20%20%20%20%20%20%20%20%20%20%20%20%20%20position%3A%20absolute%3B%0A%20%20%20%20%20%20%20%20%20%20%20%20%20%20%20%20%20%20%20%20width%3A%2050.0%25%3B%0A%20%20%20%20%20%20%20%20%20%20%20%20%20%20%20%20%20%20%20%20height%3A%20100.0%25%3B%0A%20%20%20%20%20%20%20%20%20%20%20%20%20%20%20%20%20%20%20%20left%3A%2050.0%25%3B%0A%20%20%20%20%20%20%20%20%20%20%20%20%20%20%20%20%20%20%20%20top%3A%200.0%25%3B%0A%20%20%20%20%20%20%20%20%20%20%20%20%20%20%20%20%7D%0A%20%20%20%20%20%20%20%20%20%20%20%20%3C/style%3E%0A%20%20%20%20%20%20%20%20%0A%20%20%20%20%3Cscript%20src%3D%22https%3A//cdn.jsdelivr.net/gh/jieter/Leaflet.Sync/L.Map.Sync.min.js%22%3E%3C/script%3E%0A%3C/head%3E%0A%3Cbody%3E%20%20%20%20%0A%20%20%20%20%0A%20%20%20%20%20%20%20%20%20%20%20%20%3Cdiv%20class%3D%22folium-map%22%20id%3D%22map_66f500360f02406484285f676144cfba%22%20%3E%3C/div%3E%0A%20%20%20%20%20%20%20%20%0A%20%20%20%20%0A%20%20%20%20%20%20%20%20%20%20%20%20%3Cdiv%20class%3D%22folium-map%22%20id%3D%22map_d72f626dd3b84c72a9d2101ff1c40308%22%20%3E%3C/div%3E%0A%20%20%20%20%20%20%20%20%0A%3C/body%3E%0A%3Cscript%3E%20%20%20%20%0A%20%20%20%20%0A%20%20%20%20%20%20%20%20%20%20%20%20var%20map_66f500360f02406484285f676144cfba%20%3D%20L.map%28%0A%20%20%20%20%20%20%20%20%20%20%20%20%20%20%20%20%22map_66f500360f02406484285f676144cfba%22%2C%0A%20%20%20%20%20%20%20%20%20%20%20%20%20%20%20%20%7B%0A%20%20%20%20%20%20%20%20%20%20%20%20%20%20%20%20%20%20%20%20center%3A%20%5B55.953251%2C%20-3.1882675%5D%2C%0A%20%20%20%20%20%20%20%20%20%20%20%20%20%20%20%20%20%20%20%20crs%3A%20L.CRS.EPSG3857%2C%0A%20%20%20%20%20%20%20%20%20%20%20%20%20%20%20%20%20%20%20%20zoom%3A%2014%2C%0A%20%20%20%20%20%20%20%20%20%20%20%20%20%20%20%20%20%20%20%20zoomControl%3A%20true%2C%0A%20%20%20%20%20%20%20%20%20%20%20%20%20%20%20%20%20%20%20%20preferCanvas%3A%20false%2C%0A%20%20%20%20%20%20%20%20%20%20%20%20%20%20%20%20%7D%0A%20%20%20%20%20%20%20%20%20%20%20%20%29%3B%0A%0A%20%20%20%20%20%20%20%20%20%20%20%20%0A%0A%20%20%20%20%20%20%20%20%0A%20%20%20%20%0A%20%20%20%20%20%20%20%20%20%20%20%20var%20tile_layer_5b0a7b47baf84f0b850b7a92ff6580f3%20%3D%20L.tileLayer%28%0A%20%20%20%20%20%20%20%20%20%20%20%20%20%20%20%20%22https%3A//cartodb-basemaps-%7Bs%7D.global.ssl.fastly.net/light_all/%7Bz%7D/%7Bx%7D/%7By%7D.png%22%2C%0A%20%20%20%20%20%20%20%20%20%20%20%20%20%20%20%20%7B%22attribution%22%3A%20%22%5Cu0026copy%3B%20%5Cu003ca%20href%3D%5C%22http%3A//www.openstreetmap.org/copyright%5C%22%5Cu003eOpenStreetMap%5Cu003c/a%5Cu003e%20contributors%20%5Cu0026copy%3B%20%5Cu003ca%20href%3D%5C%22http%3A//cartodb.com/attributions%5C%22%5Cu003eCartoDB%5Cu003c/a%5Cu003e%2C%20CartoDB%20%5Cu003ca%20href%20%3D%5C%22http%3A//cartodb.com/attributions%5C%22%5Cu003eattributions%5Cu003c/a%5Cu003e%22%2C%20%22detectRetina%22%3A%20false%2C%20%22maxNativeZoom%22%3A%2018%2C%20%22maxZoom%22%3A%2018%2C%20%22minZoom%22%3A%200%2C%20%22noWrap%22%3A%20false%2C%20%22opacity%22%3A%201%2C%20%22subdomains%22%3A%20%22abc%22%2C%20%22tms%22%3A%20false%7D%0A%20%20%20%20%20%20%20%20%20%20%20%20%29.addTo%28map_66f500360f02406484285f676144cfba%29%3B%0A%20%20%20%20%20%20%20%20%0A%20%20%20%20%0A%20%20%20%20%20%20%20%20%20%20%20%20var%20marker_cluster_ada872b66f8d4492ab77f3dff857f701%20%3D%20L.markerClusterGroup%28%0A%20%20%20%20%20%20%20%20%20%20%20%20%20%20%20%20%7B%7D%0A%20%20%20%20%20%20%20%20%20%20%20%20%29%3B%0A%20%20%20%20%20%20%20%20%20%20%20%20map_66f500360f02406484285f676144cfba.addLayer%28marker_cluster_ada872b66f8d4492ab77f3dff857f701%29%3B%0A%20%20%20%20%20%20%20%20%0A%20%20%20%20%0A%20%20%20%20%20%20%20%20%20%20%20%20var%20marker_e985d155749943b286554494a588c3a1%20%3D%20L.marker%28%0A%20%20%20%20%20%20%20%20%20%20%20%20%20%20%20%20%5B55.939809466328285%2C%20-3.182738850746432%5D%2C%0A%20%20%20%20%20%20%20%20%20%20%20%20%20%20%20%20%7B%7D%0A%20%20%20%20%20%20%20%20%20%20%20%20%29.addTo%28marker_cluster_ada872b66f8d4492ab77f3dff857f701%29%3B%0A%20%20%20%20%20%20%20%20%0A%20%20%20%20%0A%20%20%20%20%20%20%20%20%20%20%20%20var%20icon_baef4896844a41c18f07c2f084ccb1c7%20%3D%20L.AwesomeMarkers.icon%28%0A%20%20%20%20%20%20%20%20%20%20%20%20%20%20%20%20%7B%22extraClasses%22%3A%20%22fa-rotate-0%22%2C%20%22icon%22%3A%20%22bicycle%22%2C%20%22iconColor%22%3A%20%22white%22%2C%20%22markerColor%22%3A%20%22darkblue%22%2C%20%22prefix%22%3A%20%22fa%22%7D%0A%20%20%20%20%20%20%20%20%20%20%20%20%29%3B%0A%20%20%20%20%20%20%20%20%20%20%20%20marker_e985d155749943b286554494a588c3a1.setIcon%28icon_baef4896844a41c18f07c2f084ccb1c7%29%3B%0A%20%20%20%20%20%20%20%20%0A%20%20%20%20%0A%20%20%20%20%20%20%20%20var%20popup_d9a6b76144bd4b4ca4437e328495e6d1%20%3D%20L.popup%28%7B%22maxWidth%22%3A%20%22100%25%22%7D%29%3B%0A%0A%20%20%20%20%20%20%20%20%0A%20%20%20%20%20%20%20%20%20%20%20%20var%20html_452c720ed47b40649b7858a0468c87f9%20%3D%20%24%28%60%3Cdiv%20id%3D%22html_452c720ed47b40649b7858a0468c87f9%22%20style%3D%22width%3A%20100.0%25%3B%20height%3A%20100.0%25%3B%22%3EId%3A%20265%3Cbr%3EMeadows%20East%3Cbr%3EDescription%3A%20Between%20Melville%20Terrace%20and%20Sciennes%3Cbr%3E%3Cbr%3ECounts%3A%2012104%3C/div%3E%60%29%5B0%5D%3B%0A%20%20%20%20%20%20%20%20%20%20%20%20popup_d9a6b76144bd4b4ca4437e328495e6d1.setContent%28html_452c720ed47b40649b7858a0468c87f9%29%3B%0A%20%20%20%20%20%20%20%20%0A%0A%20%20%20%20%20%20%20%20marker_e985d155749943b286554494a588c3a1.bindPopup%28popup_d9a6b76144bd4b4ca4437e328495e6d1%29%0A%20%20%20%20%20%20%20%20%3B%0A%0A%20%20%20%20%20%20%20%20%0A%20%20%20%20%0A%20%20%20%20%0A%20%20%20%20%20%20%20%20%20%20%20%20var%20marker_6d48a95bfee544c6a3af64a963ce665d%20%3D%20L.marker%28%0A%20%20%20%20%20%20%20%20%20%20%20%20%20%20%20%20%5B55.95791540692348%2C%20-3.118332042090287%5D%2C%0A%20%20%20%20%20%20%20%20%20%20%20%20%20%20%20%20%7B%7D%0A%20%20%20%20%20%20%20%20%20%20%20%20%29.addTo%28marker_cluster_ada872b66f8d4492ab77f3dff857f701%29%3B%0A%20%20%20%20%20%20%20%20%0A%20%20%20%20%0A%20%20%20%20%20%20%20%20%20%20%20%20var%20icon_9f5c3dba2daa45798461bec41bfef854%20%3D%20L.AwesomeMarkers.icon%28%0A%20%20%20%20%20%20%20%20%20%20%20%20%20%20%20%20%7B%22extraClasses%22%3A%20%22fa-rotate-0%22%2C%20%22icon%22%3A%20%22bicycle%22%2C%20%22iconColor%22%3A%20%22white%22%2C%20%22markerColor%22%3A%20%22darkblue%22%2C%20%22prefix%22%3A%20%22fa%22%7D%0A%20%20%20%20%20%20%20%20%20%20%20%20%29%3B%0A%20%20%20%20%20%20%20%20%20%20%20%20marker_6d48a95bfee544c6a3af64a963ce665d.setIcon%28icon_9f5c3dba2daa45798461bec41bfef854%29%3B%0A%20%20%20%20%20%20%20%20%0A%20%20%20%20%0A%20%20%20%20%20%20%20%20var%20popup_da2e08a000684455856658dd8e84ba36%20%3D%20L.popup%28%7B%22maxWidth%22%3A%20%22100%25%22%7D%29%3B%0A%0A%20%20%20%20%20%20%20%20%0A%20%20%20%20%20%20%20%20%20%20%20%20var%20html_f7a62913a6ff43a5a5bf7d3f5bd73cef%20%3D%20%24%28%60%3Cdiv%20id%3D%22html_f7a62913a6ff43a5a5bf7d3f5bd73cef%22%20style%3D%22width%3A%20100.0%25%3B%20height%3A%20100.0%25%3B%22%3EId%3A%201728%3Cbr%3EPortobello%20-%20Kings%20Road%3Cbr%3EDescription%3A%20Foot%20of%20Kings%20Road%20next%20to%20the%20promenade%3Cbr%3E%3Cbr%3ECounts%3A%2011843%3C/div%3E%60%29%5B0%5D%3B%0A%20%20%20%20%20%20%20%20%20%20%20%20popup_da2e08a000684455856658dd8e84ba36.setContent%28html_f7a62913a6ff43a5a5bf7d3f5bd73cef%29%3B%0A%20%20%20%20%20%20%20%20%0A%0A%20%20%20%20%20%20%20%20marker_6d48a95bfee544c6a3af64a963ce665d.bindPopup%28popup_da2e08a000684455856658dd8e84ba36%29%0A%20%20%20%20%20%20%20%20%3B%0A%0A%20%20%20%20%20%20%20%20%0A%20%20%20%20%0A%20%20%20%20%0A%20%20%20%20%20%20%20%20%20%20%20%20var%20marker_22a36921718d4bfe9e4d5d680dce034e%20%3D%20L.marker%28%0A%20%20%20%20%20%20%20%20%20%20%20%20%20%20%20%20%5B55.94023763168944%2C%20-3.194640214184801%5D%2C%0A%20%20%20%20%20%20%20%20%20%20%20%20%20%20%20%20%7B%7D%0A%20%20%20%20%20%20%20%20%20%20%20%20%29.addTo%28marker_cluster_ada872b66f8d4492ab77f3dff857f701%29%3B%0A%20%20%20%20%20%20%20%20%0A%20%20%20%20%0A%20%20%20%20%20%20%20%20%20%20%20%20var%20icon_1e756bad606d474880983f5f8cd255fb%20%3D%20L.AwesomeMarkers.icon%28%0A%20%20%20%20%20%20%20%20%20%20%20%20%20%20%20%20%7B%22extraClasses%22%3A%20%22fa-rotate-0%22%2C%20%22icon%22%3A%20%22bicycle%22%2C%20%22iconColor%22%3A%20%22white%22%2C%20%22markerColor%22%3A%20%22darkblue%22%2C%20%22prefix%22%3A%20%22fa%22%7D%0A%20%20%20%20%20%20%20%20%20%20%20%20%29%3B%0A%20%20%20%20%20%20%20%20%20%20%20%20marker_22a36921718d4bfe9e4d5d680dce034e.setIcon%28icon_1e756bad606d474880983f5f8cd255fb%29%3B%0A%20%20%20%20%20%20%20%20%0A%20%20%20%20%0A%20%20%20%20%20%20%20%20var%20popup_51f2804718d346839401a2da2d34b052%20%3D%20L.popup%28%7B%22maxWidth%22%3A%20%22100%25%22%7D%29%3B%0A%0A%20%20%20%20%20%20%20%20%0A%20%20%20%20%20%20%20%20%20%20%20%20var%20html_d85fb6ff4e3d4708861f8ad969858521%20%3D%20%24%28%60%3Cdiv%20id%3D%22html_d85fb6ff4e3d4708861f8ad969858521%22%20style%3D%22width%3A%20100.0%25%3B%20height%3A%20100.0%25%3B%22%3EId%3A%201024%3Cbr%3EMeadow%20Place%3Cbr%3EDescription%3A%20End%20of%20Meadow%20Place%3Cbr%3E%3Cbr%3ECounts%3A%2011286%3C/div%3E%60%29%5B0%5D%3B%0A%20%20%20%20%20%20%20%20%20%20%20%20popup_51f2804718d346839401a2da2d34b052.setContent%28html_d85fb6ff4e3d4708861f8ad969858521%29%3B%0A%20%20%20%20%20%20%20%20%0A%0A%20%20%20%20%20%20%20%20marker_22a36921718d4bfe9e4d5d680dce034e.bindPopup%28popup_51f2804718d346839401a2da2d34b052%29%0A%20%20%20%20%20%20%20%20%3B%0A%0A%20%20%20%20%20%20%20%20%0A%20%20%20%20%0A%20%20%20%20%0A%20%20%20%20%20%20%20%20%20%20%20%20var%20marker_eb7962c0bf8449568aebf142a5977315%20%3D%20L.marker%28%0A%20%20%20%20%20%20%20%20%20%20%20%20%20%20%20%20%5B55.95490573198223%2C%20-3.192443756949956%5D%2C%0A%20%20%20%20%20%20%20%20%20%20%20%20%20%20%20%20%7B%7D%0A%20%20%20%20%20%20%20%20%20%20%20%20%29.addTo%28marker_cluster_ada872b66f8d4492ab77f3dff857f701%29%3B%0A%20%20%20%20%20%20%20%20%0A%20%20%20%20%0A%20%20%20%20%20%20%20%20%20%20%20%20var%20icon_248eff7db0b04e9b8c212bcf4e81d9ba%20%3D%20L.AwesomeMarkers.icon%28%0A%20%20%20%20%20%20%20%20%20%20%20%20%20%20%20%20%7B%22extraClasses%22%3A%20%22fa-rotate-0%22%2C%20%22icon%22%3A%20%22bicycle%22%2C%20%22iconColor%22%3A%20%22white%22%2C%20%22markerColor%22%3A%20%22darkblue%22%2C%20%22prefix%22%3A%20%22fa%22%7D%0A%20%20%20%20%20%20%20%20%20%20%20%20%29%3B%0A%20%20%20%20%20%20%20%20%20%20%20%20marker_eb7962c0bf8449568aebf142a5977315.setIcon%28icon_248eff7db0b04e9b8c212bcf4e81d9ba%29%3B%0A%20%20%20%20%20%20%20%20%0A%20%20%20%20%0A%20%20%20%20%20%20%20%20var%20popup_cf16e2cb36904a2eb100f5aec54e2b77%20%3D%20L.popup%28%7B%22maxWidth%22%3A%20%22100%25%22%7D%29%3B%0A%0A%20%20%20%20%20%20%20%20%0A%20%20%20%20%20%20%20%20%20%20%20%20var%20html_4ff7126ae58149b18e0af724bbda55bd%20%3D%20%24%28%60%3Cdiv%20id%3D%22html_4ff7126ae58149b18e0af724bbda55bd%22%20style%3D%22width%3A%20100.0%25%3B%20height%3A%20100.0%25%3B%22%3EId%3A%20259%3Cbr%3ESt%20Andrew%20Square%3Cbr%3EDescription%3A%20North%20East%20corner%3Cbr%3E%3Cbr%3ECounts%3A%2010852%3C/div%3E%60%29%5B0%5D%3B%0A%20%20%20%20%20%20%20%20%20%20%20%20popup_cf16e2cb36904a2eb100f5aec54e2b77.setContent%28html_4ff7126ae58149b18e0af724bbda55bd%29%3B%0A%20%20%20%20%20%20%20%20%0A%0A%20%20%20%20%20%20%20%20marker_eb7962c0bf8449568aebf142a5977315.bindPopup%28popup_cf16e2cb36904a2eb100f5aec54e2b77%29%0A%20%20%20%20%20%20%20%20%3B%0A%0A%20%20%20%20%20%20%20%20%0A%20%20%20%20%0A%20%20%20%20%0A%20%20%20%20%20%20%20%20%20%20%20%20var%20marker_7dd9a62b178444e88d04bae52089d948%20%3D%20L.marker%28%0A%20%20%20%20%20%20%20%20%20%20%20%20%20%20%20%20%5B55.97761715254634%2C%20-3.174126319457627%5D%2C%0A%20%20%20%20%20%20%20%20%20%20%20%20%20%20%20%20%7B%7D%0A%20%20%20%20%20%20%20%20%20%20%20%20%29.addTo%28marker_cluster_ada872b66f8d4492ab77f3dff857f701%29%3B%0A%20%20%20%20%20%20%20%20%0A%20%20%20%20%0A%20%20%20%20%20%20%20%20%20%20%20%20var%20icon_35d8762ff1f649398a069ce3e5e47d0a%20%3D%20L.AwesomeMarkers.icon%28%0A%20%20%20%20%20%20%20%20%20%20%20%20%20%20%20%20%7B%22extraClasses%22%3A%20%22fa-rotate-0%22%2C%20%22icon%22%3A%20%22bicycle%22%2C%20%22iconColor%22%3A%20%22white%22%2C%20%22markerColor%22%3A%20%22darkblue%22%2C%20%22prefix%22%3A%20%22fa%22%7D%0A%20%20%20%20%20%20%20%20%20%20%20%20%29%3B%0A%20%20%20%20%20%20%20%20%20%20%20%20marker_7dd9a62b178444e88d04bae52089d948.setIcon%28icon_35d8762ff1f649398a069ce3e5e47d0a%29%3B%0A%20%20%20%20%20%20%20%20%0A%20%20%20%20%0A%20%20%20%20%20%20%20%20var%20popup_46249f49679b40188e2f9c1337c0e1a6%20%3D%20L.popup%28%7B%22maxWidth%22%3A%20%22100%25%22%7D%29%3B%0A%0A%20%20%20%20%20%20%20%20%0A%20%20%20%20%20%20%20%20%20%20%20%20var%20html_264a80878a524ca19c0b0b3fe9f5d6a7%20%3D%20%24%28%60%3Cdiv%20id%3D%22html_264a80878a524ca19c0b0b3fe9f5d6a7%22%20style%3D%22width%3A%20100.0%25%3B%20height%3A%20100.0%25%3B%22%3EId%3A%20250%3Cbr%3EVictoria%20Quay%3Cbr%3EDescription%3A%20Entrance%20to%20Scottish%20Government%20Office%3Cbr%3E%3Cbr%3ECounts%3A%209855%3C/div%3E%60%29%5B0%5D%3B%0A%20%20%20%20%20%20%20%20%20%20%20%20popup_46249f49679b40188e2f9c1337c0e1a6.setContent%28html_264a80878a524ca19c0b0b3fe9f5d6a7%29%3B%0A%20%20%20%20%20%20%20%20%0A%0A%20%20%20%20%20%20%20%20marker_7dd9a62b178444e88d04bae52089d948.bindPopup%28popup_46249f49679b40188e2f9c1337c0e1a6%29%0A%20%20%20%20%20%20%20%20%3B%0A%0A%20%20%20%20%20%20%20%20%0A%20%20%20%20%0A%20%20%20%20%0A%20%20%20%20%20%20%20%20%20%20%20%20var%20marker_4147bfa605734c53bf5fbfce3cb0c84f%20%3D%20L.marker%28%0A%20%20%20%20%20%20%20%20%20%20%20%20%20%20%20%20%5B55.96280408759764%2C%20-3.196283585062929%5D%2C%0A%20%20%20%20%20%20%20%20%20%20%20%20%20%20%20%20%7B%7D%0A%20%20%20%20%20%20%20%20%20%20%20%20%29.addTo%28marker_cluster_ada872b66f8d4492ab77f3dff857f701%29%3B%0A%20%20%20%20%20%20%20%20%0A%20%20%20%20%0A%20%20%20%20%20%20%20%20%20%20%20%20var%20icon_c7c86fa8bdca443bb68a1e7cda822b04%20%3D%20L.AwesomeMarkers.icon%28%0A%20%20%20%20%20%20%20%20%20%20%20%20%20%20%20%20%7B%22extraClasses%22%3A%20%22fa-rotate-0%22%2C%20%22icon%22%3A%20%22bicycle%22%2C%20%22iconColor%22%3A%20%22white%22%2C%20%22markerColor%22%3A%20%22darkblue%22%2C%20%22prefix%22%3A%20%22fa%22%7D%0A%20%20%20%20%20%20%20%20%20%20%20%20%29%3B%0A%20%20%20%20%20%20%20%20%20%20%20%20marker_4147bfa605734c53bf5fbfce3cb0c84f.setIcon%28icon_c7c86fa8bdca443bb68a1e7cda822b04%29%3B%0A%20%20%20%20%20%20%20%20%0A%20%20%20%20%0A%20%20%20%20%20%20%20%20var%20popup_d04219a0e47c4808a5b4eeb6d9091352%20%3D%20L.popup%28%7B%22maxWidth%22%3A%20%22100%25%22%7D%29%3B%0A%0A%20%20%20%20%20%20%20%20%0A%20%20%20%20%20%20%20%20%20%20%20%20var%20html_468336f8762a4620b1f4974b6f3bce75%20%3D%20%24%28%60%3Cdiv%20id%3D%22html_468336f8762a4620b1f4974b6f3bce75%22%20style%3D%22width%3A%20100.0%25%3B%20height%3A%20100.0%25%3B%22%3EId%3A%20262%3Cbr%3ECanonmills%3Cbr%3EDescription%3A%20near%20Tesco%27s%3Cbr%3E%3Cbr%3ECounts%3A%209551%3C/div%3E%60%29%5B0%5D%3B%0A%20%20%20%20%20%20%20%20%20%20%20%20popup_d04219a0e47c4808a5b4eeb6d9091352.setContent%28html_468336f8762a4620b1f4974b6f3bce75%29%3B%0A%20%20%20%20%20%20%20%20%0A%0A%20%20%20%20%20%20%20%20marker_4147bfa605734c53bf5fbfce3cb0c84f.bindPopup%28popup_d04219a0e47c4808a5b4eeb6d9091352%29%0A%20%20%20%20%20%20%20%20%3B%0A%0A%20%20%20%20%20%20%20%20%0A%20%20%20%20%0A%20%20%20%20%0A%20%20%20%20%20%20%20%20%20%20%20%20var%20marker_f1dbe3f338fe4a24813929b6857fa025%20%3D%20L.marker%28%0A%20%20%20%20%20%20%20%20%20%20%20%20%20%20%20%20%5B55.95150073734976%2C%20-3.203183906525282%5D%2C%0A%20%20%20%20%20%20%20%20%20%20%20%20%20%20%20%20%7B%7D%0A%20%20%20%20%20%20%20%20%20%20%20%20%29.addTo%28marker_cluster_ada872b66f8d4492ab77f3dff857f701%29%3B%0A%20%20%20%20%20%20%20%20%0A%20%20%20%20%0A%20%20%20%20%20%20%20%20%20%20%20%20var%20icon_cd42e2f23ca1403aa41b8c394cd3a661%20%3D%20L.AwesomeMarkers.icon%28%0A%20%20%20%20%20%20%20%20%20%20%20%20%20%20%20%20%7B%22extraClasses%22%3A%20%22fa-rotate-0%22%2C%20%22icon%22%3A%20%22bicycle%22%2C%20%22iconColor%22%3A%20%22white%22%2C%20%22markerColor%22%3A%20%22darkblue%22%2C%20%22prefix%22%3A%20%22fa%22%7D%0A%20%20%20%20%20%20%20%20%20%20%20%20%29%3B%0A%20%20%20%20%20%20%20%20%20%20%20%20marker_f1dbe3f338fe4a24813929b6857fa025.setIcon%28icon_cd42e2f23ca1403aa41b8c394cd3a661%29%3B%0A%20%20%20%20%20%20%20%20%0A%20%20%20%20%0A%20%20%20%20%20%20%20%20var%20popup_46a6ad356f97495fbd1e78f4b821bf8c%20%3D%20L.popup%28%7B%22maxWidth%22%3A%20%22100%25%22%7D%29%3B%0A%0A%20%20%20%20%20%20%20%20%0A%20%20%20%20%20%20%20%20%20%20%20%20var%20html_334fdfe1c25b43e4b4562e7f6a2d7416%20%3D%20%24%28%60%3Cdiv%20id%3D%22html_334fdfe1c25b43e4b4562e7f6a2d7416%22%20style%3D%22width%3A%20100.0%25%3B%20height%3A%20100.0%25%3B%22%3EId%3A%20289%3Cbr%3ECastle%20Street%3Cbr%3EDescription%3A%20Near%20Rose%20Street%3Cbr%3E%3Cbr%3ECounts%3A%208923%3C/div%3E%60%29%5B0%5D%3B%0A%20%20%20%20%20%20%20%20%20%20%20%20popup_46a6ad356f97495fbd1e78f4b821bf8c.setContent%28html_334fdfe1c25b43e4b4562e7f6a2d7416%29%3B%0A%20%20%20%20%20%20%20%20%0A%0A%20%20%20%20%20%20%20%20marker_f1dbe3f338fe4a24813929b6857fa025.bindPopup%28popup_46a6ad356f97495fbd1e78f4b821bf8c%29%0A%20%20%20%20%20%20%20%20%3B%0A%0A%20%20%20%20%20%20%20%20%0A%20%20%20%20%0A%20%20%20%20%0A%20%20%20%20%20%20%20%20%20%20%20%20var%20marker_6f82c4464af0420f85037189f3f01400%20%3D%20L.marker%28%0A%20%20%20%20%20%20%20%20%20%20%20%20%20%20%20%20%5B55.94583371599285%2C%20-3.189053072075467%5D%2C%0A%20%20%20%20%20%20%20%20%20%20%20%20%20%20%20%20%7B%7D%0A%20%20%20%20%20%20%20%20%20%20%20%20%29.addTo%28marker_cluster_ada872b66f8d4492ab77f3dff857f701%29%3B%0A%20%20%20%20%20%20%20%20%0A%20%20%20%20%0A%20%20%20%20%20%20%20%20%20%20%20%20var%20icon_0ca75716f6f9493e9a8caf8f11edfe0c%20%3D%20L.AwesomeMarkers.icon%28%0A%20%20%20%20%20%20%20%20%20%20%20%20%20%20%20%20%7B%22extraClasses%22%3A%20%22fa-rotate-0%22%2C%20%22icon%22%3A%20%22bicycle%22%2C%20%22iconColor%22%3A%20%22white%22%2C%20%22markerColor%22%3A%20%22darkblue%22%2C%20%22prefix%22%3A%20%22fa%22%7D%0A%20%20%20%20%20%20%20%20%20%20%20%20%29%3B%0A%20%20%20%20%20%20%20%20%20%20%20%20marker_6f82c4464af0420f85037189f3f01400.setIcon%28icon_0ca75716f6f9493e9a8caf8f11edfe0c%29%3B%0A%20%20%20%20%20%20%20%20%0A%20%20%20%20%0A%20%20%20%20%20%20%20%20var%20popup_2c72f27dd382480894f84fbddd83e3ef%20%3D%20L.popup%28%7B%22maxWidth%22%3A%20%22100%25%22%7D%29%3B%0A%0A%20%20%20%20%20%20%20%20%0A%20%20%20%20%20%20%20%20%20%20%20%20var%20html_d68db14b267f4fd48200c80580cac551%20%3D%20%24%28%60%3Cdiv%20id%3D%22html_d68db14b267f4fd48200c80580cac551%22%20style%3D%22width%3A%20100.0%25%3B%20height%3A%20100.0%25%3B%22%3EId%3A%20248%3Cbr%3EBristo%20Square%3Cbr%3EDescription%3A%20Bristo%20Square%2C%20near%20Potterrow%3Cbr%3E%3Cbr%3ECounts%3A%208745%3C/div%3E%60%29%5B0%5D%3B%0A%20%20%20%20%20%20%20%20%20%20%20%20popup_2c72f27dd382480894f84fbddd83e3ef.setContent%28html_d68db14b267f4fd48200c80580cac551%29%3B%0A%20%20%20%20%20%20%20%20%0A%0A%20%20%20%20%20%20%20%20marker_6f82c4464af0420f85037189f3f01400.bindPopup%28popup_2c72f27dd382480894f84fbddd83e3ef%29%0A%20%20%20%20%20%20%20%20%3B%0A%0A%20%20%20%20%20%20%20%20%0A%20%20%20%20%0A%20%20%20%20%0A%20%20%20%20%20%20%20%20%20%20%20%20var%20marker_51c539452e7b4635b0f2da271e0de146%20%3D%20L.marker%28%0A%20%20%20%20%20%20%20%20%20%20%20%20%20%20%20%20%5B55.94335692764551%2C%20-3.209247501624645%5D%2C%0A%20%20%20%20%20%20%20%20%20%20%20%20%20%20%20%20%7B%7D%0A%20%20%20%20%20%20%20%20%20%20%20%20%29.addTo%28marker_cluster_ada872b66f8d4492ab77f3dff857f701%29%3B%0A%20%20%20%20%20%20%20%20%0A%20%20%20%20%0A%20%20%20%20%20%20%20%20%20%20%20%20var%20icon_281c00792e8a4e44a996b3dc2d54ce15%20%3D%20L.AwesomeMarkers.icon%28%0A%20%20%20%20%20%20%20%20%20%20%20%20%20%20%20%20%7B%22extraClasses%22%3A%20%22fa-rotate-0%22%2C%20%22icon%22%3A%20%22bicycle%22%2C%20%22iconColor%22%3A%20%22white%22%2C%20%22markerColor%22%3A%20%22darkblue%22%2C%20%22prefix%22%3A%20%22fa%22%7D%0A%20%20%20%20%20%20%20%20%20%20%20%20%29%3B%0A%20%20%20%20%20%20%20%20%20%20%20%20marker_51c539452e7b4635b0f2da271e0de146.setIcon%28icon_281c00792e8a4e44a996b3dc2d54ce15%29%3B%0A%20%20%20%20%20%20%20%20%0A%20%20%20%20%0A%20%20%20%20%20%20%20%20var%20popup_d30d2cfc3d7941bb8a3a3aa6e04c0289%20%3D%20L.popup%28%7B%22maxWidth%22%3A%20%22100%25%22%7D%29%3B%0A%0A%20%20%20%20%20%20%20%20%0A%20%20%20%20%20%20%20%20%20%20%20%20var%20html_fb275874397c4a8296f08bb740badb24%20%3D%20%24%28%60%3Cdiv%20id%3D%22html_fb275874397c4a8296f08bb740badb24%22%20style%3D%22width%3A%20100.0%25%3B%20height%3A%20100.0%25%3B%22%3EId%3A%20249%3Cbr%3EFountainbridge%3Cbr%3EDescription%3A%20Fountainbridge%20by%20Gardner%27s%20Crescent%3Cbr%3E%3Cbr%3ECounts%3A%208464%3C/div%3E%60%29%5B0%5D%3B%0A%20%20%20%20%20%20%20%20%20%20%20%20popup_d30d2cfc3d7941bb8a3a3aa6e04c0289.setContent%28html_fb275874397c4a8296f08bb740badb24%29%3B%0A%20%20%20%20%20%20%20%20%0A%0A%20%20%20%20%20%20%20%20marker_51c539452e7b4635b0f2da271e0de146.bindPopup%28popup_d30d2cfc3d7941bb8a3a3aa6e04c0289%29%0A%20%20%20%20%20%20%20%20%3B%0A%0A%20%20%20%20%20%20%20%20%0A%20%20%20%20%0A%20%20%20%20%0A%20%20%20%20%20%20%20%20%20%20%20%20var%20marker_d113431523b4473c9f567d8f7c3ad39f%20%3D%20L.marker%28%0A%20%20%20%20%20%20%20%20%20%20%20%20%20%20%20%20%5B55.95233546161639%2C%20-3.207101172107286%5D%2C%0A%20%20%20%20%20%20%20%20%20%20%20%20%20%20%20%20%7B%7D%0A%20%20%20%20%20%20%20%20%20%20%20%20%29.addTo%28marker_cluster_ada872b66f8d4492ab77f3dff857f701%29%3B%0A%20%20%20%20%20%20%20%20%0A%20%20%20%20%0A%20%20%20%20%20%20%20%20%20%20%20%20var%20icon_f453982154b64e18bb6fd16bcef1ff08%20%3D%20L.AwesomeMarkers.icon%28%0A%20%20%20%20%20%20%20%20%20%20%20%20%20%20%20%20%7B%22extraClasses%22%3A%20%22fa-rotate-0%22%2C%20%22icon%22%3A%20%22bicycle%22%2C%20%22iconColor%22%3A%20%22white%22%2C%20%22markerColor%22%3A%20%22darkblue%22%2C%20%22prefix%22%3A%20%22fa%22%7D%0A%20%20%20%20%20%20%20%20%20%20%20%20%29%3B%0A%20%20%20%20%20%20%20%20%20%20%20%20marker_d113431523b4473c9f567d8f7c3ad39f.setIcon%28icon_f453982154b64e18bb6fd16bcef1ff08%29%3B%0A%20%20%20%20%20%20%20%20%0A%20%20%20%20%0A%20%20%20%20%20%20%20%20var%20popup_ee56a789ec9e4f1597cdacdd1b3eae69%20%3D%20L.popup%28%7B%22maxWidth%22%3A%20%22100%25%22%7D%29%3B%0A%0A%20%20%20%20%20%20%20%20%0A%20%20%20%20%20%20%20%20%20%20%20%20var%20html_9763742d989f41149d82cee51e7281cc%20%3D%20%24%28%60%3Cdiv%20id%3D%22html_9763742d989f41149d82cee51e7281cc%22%20style%3D%22width%3A%20100.0%25%3B%20height%3A%20100.0%25%3B%22%3EId%3A%20247%3Cbr%3ECharlotte%20Square%3Cbr%3EDescription%3A%20North%20Corner%20of%20Charlotte%20Square%3Cbr%3E%3Cbr%3ECounts%3A%208134%3C/div%3E%60%29%5B0%5D%3B%0A%20%20%20%20%20%20%20%20%20%20%20%20popup_ee56a789ec9e4f1597cdacdd1b3eae69.setContent%28html_9763742d989f41149d82cee51e7281cc%29%3B%0A%20%20%20%20%20%20%20%20%0A%0A%20%20%20%20%20%20%20%20marker_d113431523b4473c9f567d8f7c3ad39f.bindPopup%28popup_ee56a789ec9e4f1597cdacdd1b3eae69%29%0A%20%20%20%20%20%20%20%20%3B%0A%0A%20%20%20%20%20%20%20%20%0A%20%20%20%20%0A%20%20%20%20%0A%20%20%20%20%20%20%20%20%20%20%20%20var%20marker_3f926c29b71d4228b84c1d31f6e3f439%20%3D%20L.marker%28%0A%20%20%20%20%20%20%20%20%20%20%20%20%20%20%20%20%5B55.96503980507732%2C%20-3.176686414784853%5D%2C%0A%20%20%20%20%20%20%20%20%20%20%20%20%20%20%20%20%7B%7D%0A%20%20%20%20%20%20%20%20%20%20%20%20%29.addTo%28marker_cluster_ada872b66f8d4492ab77f3dff857f701%29%3B%0A%20%20%20%20%20%20%20%20%0A%20%20%20%20%0A%20%20%20%20%20%20%20%20%20%20%20%20var%20icon_9051787e4f634a16adf4ea49925d184c%20%3D%20L.AwesomeMarkers.icon%28%0A%20%20%20%20%20%20%20%20%20%20%20%20%20%20%20%20%7B%22extraClasses%22%3A%20%22fa-rotate-0%22%2C%20%22icon%22%3A%20%22bicycle%22%2C%20%22iconColor%22%3A%20%22white%22%2C%20%22markerColor%22%3A%20%22darkblue%22%2C%20%22prefix%22%3A%20%22fa%22%7D%0A%20%20%20%20%20%20%20%20%20%20%20%20%29%3B%0A%20%20%20%20%20%20%20%20%20%20%20%20marker_3f926c29b71d4228b84c1d31f6e3f439.setIcon%28icon_9051787e4f634a16adf4ea49925d184c%29%3B%0A%20%20%20%20%20%20%20%20%0A%20%20%20%20%0A%20%20%20%20%20%20%20%20var%20popup_0b1415c204e44f8c82f640e0be4b81f9%20%3D%20L.popup%28%7B%22maxWidth%22%3A%20%22100%25%22%7D%29%3B%0A%0A%20%20%20%20%20%20%20%20%0A%20%20%20%20%20%20%20%20%20%20%20%20var%20html_1df8cbc200ab4b2494c5b1e64009197a%20%3D%20%24%28%60%3Cdiv%20id%3D%22html_1df8cbc200ab4b2494c5b1e64009197a%22%20style%3D%22width%3A%20100.0%25%3B%20height%3A%20100.0%25%3B%22%3EId%3A%20358%3Cbr%3ELeith%20Walk%3Cbr%3EDescription%3A%20Leith%20Walk%20opposite%20Dalmeny%20Street%3Cbr%3E%3Cbr%3ECounts%3A%207427%3C/div%3E%60%29%5B0%5D%3B%0A%20%20%20%20%20%20%20%20%20%20%20%20popup_0b1415c204e44f8c82f640e0be4b81f9.setContent%28html_1df8cbc200ab4b2494c5b1e64009197a%29%3B%0A%20%20%20%20%20%20%20%20%0A%0A%20%20%20%20%20%20%20%20marker_3f926c29b71d4228b84c1d31f6e3f439.bindPopup%28popup_0b1415c204e44f8c82f640e0be4b81f9%29%0A%20%20%20%20%20%20%20%20%3B%0A%0A%20%20%20%20%20%20%20%20%0A%20%20%20%20%0A%20%20%20%20%0A%20%20%20%20%20%20%20%20%20%20%20%20var%20marker_caf54b0defa8455482be59ff1c47874f%20%3D%20L.marker%28%0A%20%20%20%20%20%20%20%20%20%20%20%20%20%20%20%20%5B55.96901164826488%2C%20-3.16739470303429%5D%2C%0A%20%20%20%20%20%20%20%20%20%20%20%20%20%20%20%20%7B%7D%0A%20%20%20%20%20%20%20%20%20%20%20%20%29.addTo%28marker_cluster_ada872b66f8d4492ab77f3dff857f701%29%3B%0A%20%20%20%20%20%20%20%20%0A%20%20%20%20%0A%20%20%20%20%20%20%20%20%20%20%20%20var%20icon_d31c91cc7ada4f79bae257b0751cf9ff%20%3D%20L.AwesomeMarkers.icon%28%0A%20%20%20%20%20%20%20%20%20%20%20%20%20%20%20%20%7B%22extraClasses%22%3A%20%22fa-rotate-0%22%2C%20%22icon%22%3A%20%22bicycle%22%2C%20%22iconColor%22%3A%20%22white%22%2C%20%22markerColor%22%3A%20%22darkblue%22%2C%20%22prefix%22%3A%20%22fa%22%7D%0A%20%20%20%20%20%20%20%20%20%20%20%20%29%3B%0A%20%20%20%20%20%20%20%20%20%20%20%20marker_caf54b0defa8455482be59ff1c47874f.setIcon%28icon_d31c91cc7ada4f79bae257b0751cf9ff%29%3B%0A%20%20%20%20%20%20%20%20%0A%20%20%20%20%0A%20%20%20%20%20%20%20%20var%20popup_694c669d1ff948b293f428fc439a255c%20%3D%20L.popup%28%7B%22maxWidth%22%3A%20%22100%25%22%7D%29%3B%0A%0A%20%20%20%20%20%20%20%20%0A%20%20%20%20%20%20%20%20%20%20%20%20var%20html_78702c66fe71491c901f7da301a05811%20%3D%20%24%28%60%3Cdiv%20id%3D%22html_78702c66fe71491c901f7da301a05811%22%20style%3D%22width%3A%20100.0%25%3B%20height%3A%20100.0%25%3B%22%3EId%3A%201824%3Cbr%3EDuke%20Street%3Cbr%3EDescription%3A%20Junction%20with%20Easter%20Road%3Cbr%3E%3Cbr%3ECounts%3A%207288%3C/div%3E%60%29%5B0%5D%3B%0A%20%20%20%20%20%20%20%20%20%20%20%20popup_694c669d1ff948b293f428fc439a255c.setContent%28html_78702c66fe71491c901f7da301a05811%29%3B%0A%20%20%20%20%20%20%20%20%0A%0A%20%20%20%20%20%20%20%20marker_caf54b0defa8455482be59ff1c47874f.bindPopup%28popup_694c669d1ff948b293f428fc439a255c%29%0A%20%20%20%20%20%20%20%20%3B%0A%0A%20%20%20%20%20%20%20%20%0A%20%20%20%20%0A%20%20%20%20%0A%20%20%20%20%20%20%20%20%20%20%20%20var%20marker_a1083bcc4a034e6ca5ec0cfbbdc02628%20%3D%20L.marker%28%0A%20%20%20%20%20%20%20%20%20%20%20%20%20%20%20%20%5B55.93970989541296%2C%20-3.220588933667954%5D%2C%0A%20%20%20%20%20%20%20%20%20%20%20%20%20%20%20%20%7B%7D%0A%20%20%20%20%20%20%20%20%20%20%20%20%29.addTo%28marker_cluster_ada872b66f8d4492ab77f3dff857f701%29%3B%0A%20%20%20%20%20%20%20%20%0A%20%20%20%20%0A%20%20%20%20%20%20%20%20%20%20%20%20var%20icon_1644dee4195a43a7a14bcd84ca6929e3%20%3D%20L.AwesomeMarkers.icon%28%0A%20%20%20%20%20%20%20%20%20%20%20%20%20%20%20%20%7B%22extraClasses%22%3A%20%22fa-rotate-0%22%2C%20%22icon%22%3A%20%22bicycle%22%2C%20%22iconColor%22%3A%20%22white%22%2C%20%22markerColor%22%3A%20%22darkblue%22%2C%20%22prefix%22%3A%20%22fa%22%7D%0A%20%20%20%20%20%20%20%20%20%20%20%20%29%3B%0A%20%20%20%20%20%20%20%20%20%20%20%20marker_a1083bcc4a034e6ca5ec0cfbbdc02628.setIcon%28icon_1644dee4195a43a7a14bcd84ca6929e3%29%3B%0A%20%20%20%20%20%20%20%20%0A%20%20%20%20%0A%20%20%20%20%20%20%20%20var%20popup_f2881005cbfc4184b0ebf0b4b19ee16b%20%3D%20L.popup%28%7B%22maxWidth%22%3A%20%22100%25%22%7D%29%3B%0A%0A%20%20%20%20%20%20%20%20%0A%20%20%20%20%20%20%20%20%20%20%20%20var%20html_ae6260d9d07144798215329cd2393943%20%3D%20%24%28%60%3Cdiv%20id%3D%22html_ae6260d9d07144798215329cd2393943%22%20style%3D%22width%3A%20100.0%25%3B%20height%3A%20100.0%25%3B%22%3EId%3A%201025%3Cbr%3EDundee%20Terrace%3Cbr%3EDescription%3A%20Corner%20of%20Dundee%20Street%20%26%20Dundee%20Terrace%3Cbr%3E%3Cbr%3ECounts%3A%207143%3C/div%3E%60%29%5B0%5D%3B%0A%20%20%20%20%20%20%20%20%20%20%20%20popup_f2881005cbfc4184b0ebf0b4b19ee16b.setContent%28html_ae6260d9d07144798215329cd2393943%29%3B%0A%20%20%20%20%20%20%20%20%0A%0A%20%20%20%20%20%20%20%20marker_a1083bcc4a034e6ca5ec0cfbbdc02628.bindPopup%28popup_f2881005cbfc4184b0ebf0b4b19ee16b%29%0A%20%20%20%20%20%20%20%20%3B%0A%0A%20%20%20%20%20%20%20%20%0A%20%20%20%20%0A%20%20%20%20%0A%20%20%20%20%20%20%20%20%20%20%20%20var%20marker_53544581bd204f698b78f30ab0ca43fb%20%3D%20L.marker%28%0A%20%20%20%20%20%20%20%20%20%20%20%20%20%20%20%20%5B55.94008064125911%2C%20-3.171746866852459%5D%2C%0A%20%20%20%20%20%20%20%20%20%20%20%20%20%20%20%20%7B%7D%0A%20%20%20%20%20%20%20%20%20%20%20%20%29.addTo%28marker_cluster_ada872b66f8d4492ab77f3dff857f701%29%3B%0A%20%20%20%20%20%20%20%20%0A%20%20%20%20%0A%20%20%20%20%20%20%20%20%20%20%20%20var%20icon_d1a5d8e4eda54d22b426a6c90e190193%20%3D%20L.AwesomeMarkers.icon%28%0A%20%20%20%20%20%20%20%20%20%20%20%20%20%20%20%20%7B%22extraClasses%22%3A%20%22fa-rotate-0%22%2C%20%22icon%22%3A%20%22bicycle%22%2C%20%22iconColor%22%3A%20%22white%22%2C%20%22markerColor%22%3A%20%22darkblue%22%2C%20%22prefix%22%3A%20%22fa%22%7D%0A%20%20%20%20%20%20%20%20%20%20%20%20%29%3B%0A%20%20%20%20%20%20%20%20%20%20%20%20marker_53544581bd204f698b78f30ab0ca43fb.setIcon%28icon_d1a5d8e4eda54d22b426a6c90e190193%29%3B%0A%20%20%20%20%20%20%20%20%0A%20%20%20%20%0A%20%20%20%20%20%20%20%20var%20popup_6396dc8e1c644ea992cc6170f4aa5177%20%3D%20L.popup%28%7B%22maxWidth%22%3A%20%22100%25%22%7D%29%3B%0A%0A%20%20%20%20%20%20%20%20%0A%20%20%20%20%20%20%20%20%20%20%20%20var%20html_621e9c1a46194195840e2ad89d59a541%20%3D%20%24%28%60%3Cdiv%20id%3D%22html_621e9c1a46194195840e2ad89d59a541%22%20style%3D%22width%3A%20100.0%25%3B%20height%3A%20100.0%25%3B%22%3EId%3A%20264%3Cbr%3EPollock%20Halls%3Cbr%3EDescription%3A%20Pollock%20Halls%20Entrance%3Cbr%3E%3Cbr%3ECounts%3A%207061%3C/div%3E%60%29%5B0%5D%3B%0A%20%20%20%20%20%20%20%20%20%20%20%20popup_6396dc8e1c644ea992cc6170f4aa5177.setContent%28html_621e9c1a46194195840e2ad89d59a541%29%3B%0A%20%20%20%20%20%20%20%20%0A%0A%20%20%20%20%20%20%20%20marker_53544581bd204f698b78f30ab0ca43fb.bindPopup%28popup_6396dc8e1c644ea992cc6170f4aa5177%29%0A%20%20%20%20%20%20%20%20%3B%0A%0A%20%20%20%20%20%20%20%20%0A%20%20%20%20%0A%20%20%20%20%0A%20%20%20%20%20%20%20%20%20%20%20%20var%20marker_dc4b36af3ec8492f88e66a81f425aca9%20%3D%20L.marker%28%0A%20%20%20%20%20%20%20%20%20%20%20%20%20%20%20%20%5B55.937123239991095%2C%20-3.206431879393449%5D%2C%0A%20%20%20%20%20%20%20%20%20%20%20%20%20%20%20%20%7B%7D%0A%20%20%20%20%20%20%20%20%20%20%20%20%29.addTo%28marker_cluster_ada872b66f8d4492ab77f3dff857f701%29%3B%0A%20%20%20%20%20%20%20%20%0A%20%20%20%20%0A%20%20%20%20%20%20%20%20%20%20%20%20var%20icon_87969e3d00234c10aa4bdfa177046869%20%3D%20L.AwesomeMarkers.icon%28%0A%20%20%20%20%20%20%20%20%20%20%20%20%20%20%20%20%7B%22extraClasses%22%3A%20%22fa-rotate-0%22%2C%20%22icon%22%3A%20%22bicycle%22%2C%20%22iconColor%22%3A%20%22white%22%2C%20%22markerColor%22%3A%20%22darkblue%22%2C%20%22prefix%22%3A%20%22fa%22%7D%0A%20%20%20%20%20%20%20%20%20%20%20%20%29%3B%0A%20%20%20%20%20%20%20%20%20%20%20%20marker_dc4b36af3ec8492f88e66a81f425aca9.setIcon%28icon_87969e3d00234c10aa4bdfa177046869%29%3B%0A%20%20%20%20%20%20%20%20%0A%20%20%20%20%0A%20%20%20%20%20%20%20%20var%20popup_e96f4e4fe9cb44edbf4723e697241c8d%20%3D%20L.popup%28%7B%22maxWidth%22%3A%20%22100%25%22%7D%29%3B%0A%0A%20%20%20%20%20%20%20%20%0A%20%20%20%20%20%20%20%20%20%20%20%20var%20html_286cd633e20a47e3bf28dd362a80899d%20%3D%20%24%28%60%3Cdiv%20id%3D%22html_286cd633e20a47e3bf28dd362a80899d%22%20style%3D%22width%3A%20100.0%25%3B%20height%3A%20100.0%25%3B%22%3EId%3A%201767%3Cbr%3EBruntsfield%20Links%3Cbr%3EDescription%3A%20Corner%20of%20Bruntsfield%20Links%20next%20to%20Public%20Toilets%3Cbr%3E%3Cbr%3ECounts%3A%207001%3C/div%3E%60%29%5B0%5D%3B%0A%20%20%20%20%20%20%20%20%20%20%20%20popup_e96f4e4fe9cb44edbf4723e697241c8d.setContent%28html_286cd633e20a47e3bf28dd362a80899d%29%3B%0A%20%20%20%20%20%20%20%20%0A%0A%20%20%20%20%20%20%20%20marker_dc4b36af3ec8492f88e66a81f425aca9.bindPopup%28popup_e96f4e4fe9cb44edbf4723e697241c8d%29%0A%20%20%20%20%20%20%20%20%3B%0A%0A%20%20%20%20%20%20%20%20%0A%20%20%20%20%0A%20%20%20%20%0A%20%20%20%20%20%20%20%20%20%20%20%20var%20marker_54d30618c1994dcfb1af32a174b7b9cb%20%3D%20L.marker%28%0A%20%20%20%20%20%20%20%20%20%20%20%20%20%20%20%20%5B55.98003076740317%2C%20-3.300641788832536%5D%2C%0A%20%20%20%20%20%20%20%20%20%20%20%20%20%20%20%20%7B%7D%0A%20%20%20%20%20%20%20%20%20%20%20%20%29.addTo%28marker_cluster_ada872b66f8d4492ab77f3dff857f701%29%3B%0A%20%20%20%20%20%20%20%20%0A%20%20%20%20%0A%20%20%20%20%20%20%20%20%20%20%20%20var%20icon_a33986f186ae4b2daff9e3ba348c3408%20%3D%20L.AwesomeMarkers.icon%28%0A%20%20%20%20%20%20%20%20%20%20%20%20%20%20%20%20%7B%22extraClasses%22%3A%20%22fa-rotate-0%22%2C%20%22icon%22%3A%20%22bicycle%22%2C%20%22iconColor%22%3A%20%22white%22%2C%20%22markerColor%22%3A%20%22darkblue%22%2C%20%22prefix%22%3A%20%22fa%22%7D%0A%20%20%20%20%20%20%20%20%20%20%20%20%29%3B%0A%20%20%20%20%20%20%20%20%20%20%20%20marker_54d30618c1994dcfb1af32a174b7b9cb.setIcon%28icon_a33986f186ae4b2daff9e3ba348c3408%29%3B%0A%20%20%20%20%20%20%20%20%0A%20%20%20%20%0A%20%20%20%20%20%20%20%20var%20popup_36ef5ce7010b4bd7b85f700a91cc4c7f%20%3D%20L.popup%28%7B%22maxWidth%22%3A%20%22100%25%22%7D%29%3B%0A%0A%20%20%20%20%20%20%20%20%0A%20%20%20%20%20%20%20%20%20%20%20%20var%20html_3b93c9c576284a8596a83535d63f15f1%20%3D%20%24%28%60%3Cdiv%20id%3D%22html_3b93c9c576284a8596a83535d63f15f1%22%20style%3D%22width%3A%20100.0%25%3B%20height%3A%20100.0%25%3B%22%3EId%3A%201722%3Cbr%3ECramond%20Foreshore%3Cbr%3EDescription%3A%20Near%20Cramond%20Beach%3Cbr%3E%3Cbr%3ECounts%3A%206610%3C/div%3E%60%29%5B0%5D%3B%0A%20%20%20%20%20%20%20%20%20%20%20%20popup_36ef5ce7010b4bd7b85f700a91cc4c7f.setContent%28html_3b93c9c576284a8596a83535d63f15f1%29%3B%0A%20%20%20%20%20%20%20%20%0A%0A%20%20%20%20%20%20%20%20marker_54d30618c1994dcfb1af32a174b7b9cb.bindPopup%28popup_36ef5ce7010b4bd7b85f700a91cc4c7f%29%0A%20%20%20%20%20%20%20%20%3B%0A%0A%20%20%20%20%20%20%20%20%0A%20%20%20%20%0A%20%20%20%20%0A%20%20%20%20%20%20%20%20%20%20%20%20var%20marker_e885d07534044156ac038cb6bd7f55d1%20%3D%20L.marker%28%0A%20%20%20%20%20%20%20%20%20%20%20%20%20%20%20%20%5B55.94477165233548%2C%20-3.197265856419562%5D%2C%0A%20%20%20%20%20%20%20%20%20%20%20%20%20%20%20%20%7B%7D%0A%20%20%20%20%20%20%20%20%20%20%20%20%29.addTo%28marker_cluster_ada872b66f8d4492ab77f3dff857f701%29%3B%0A%20%20%20%20%20%20%20%20%0A%20%20%20%20%0A%20%20%20%20%20%20%20%20%20%20%20%20var%20icon_a8dfb6b33565405f87678334abcc717f%20%3D%20L.AwesomeMarkers.icon%28%0A%20%20%20%20%20%20%20%20%20%20%20%20%20%20%20%20%7B%22extraClasses%22%3A%20%22fa-rotate-0%22%2C%20%22icon%22%3A%20%22bicycle%22%2C%20%22iconColor%22%3A%20%22white%22%2C%20%22markerColor%22%3A%20%22darkblue%22%2C%20%22prefix%22%3A%20%22fa%22%7D%0A%20%20%20%20%20%20%20%20%20%20%20%20%29%3B%0A%20%20%20%20%20%20%20%20%20%20%20%20marker_e885d07534044156ac038cb6bd7f55d1.setIcon%28icon_a8dfb6b33565405f87678334abcc717f%29%3B%0A%20%20%20%20%20%20%20%20%0A%20%20%20%20%0A%20%20%20%20%20%20%20%20var%20popup_58a044a56c7b49628731b53172dc06f6%20%3D%20L.popup%28%7B%22maxWidth%22%3A%20%22100%25%22%7D%29%3B%0A%0A%20%20%20%20%20%20%20%20%0A%20%20%20%20%20%20%20%20%20%20%20%20var%20html_f7857ab3ff284fc498b1719387d66cef%20%3D%20%24%28%60%3Cdiv%20id%3D%22html_f7857ab3ff284fc498b1719387d66cef%22%20style%3D%22width%3A%20100.0%25%3B%20height%3A%20100.0%25%3B%22%3EId%3A%20260%3Cbr%3ELauriston%20Place%3Cbr%3EDescription%3A%20near%20Chalmers%20Street%3Cbr%3E%3Cbr%3ECounts%3A%206275%3C/div%3E%60%29%5B0%5D%3B%0A%20%20%20%20%20%20%20%20%20%20%20%20popup_58a044a56c7b49628731b53172dc06f6.setContent%28html_f7857ab3ff284fc498b1719387d66cef%29%3B%0A%20%20%20%20%20%20%20%20%0A%0A%20%20%20%20%20%20%20%20marker_e885d07534044156ac038cb6bd7f55d1.bindPopup%28popup_58a044a56c7b49628731b53172dc06f6%29%0A%20%20%20%20%20%20%20%20%3B%0A%0A%20%20%20%20%20%20%20%20%0A%20%20%20%20%0A%20%20%20%20%0A%20%20%20%20%20%20%20%20%20%20%20%20var%20marker_3928709720b7426fa2da7a4ec95a0b6d%20%3D%20L.marker%28%0A%20%20%20%20%20%20%20%20%20%20%20%20%20%20%20%20%5B55.95856558589723%2C%20-3.208070182227743%5D%2C%0A%20%20%20%20%20%20%20%20%20%20%20%20%20%20%20%20%7B%7D%0A%20%20%20%20%20%20%20%20%20%20%20%20%29.addTo%28marker_cluster_ada872b66f8d4492ab77f3dff857f701%29%3B%0A%20%20%20%20%20%20%20%20%0A%20%20%20%20%0A%20%20%20%20%20%20%20%20%20%20%20%20var%20icon_9cdf7c2b2c9a483b849c862cfc11071a%20%3D%20L.AwesomeMarkers.icon%28%0A%20%20%20%20%20%20%20%20%20%20%20%20%20%20%20%20%7B%22extraClasses%22%3A%20%22fa-rotate-0%22%2C%20%22icon%22%3A%20%22bicycle%22%2C%20%22iconColor%22%3A%20%22white%22%2C%20%22markerColor%22%3A%20%22darkblue%22%2C%20%22prefix%22%3A%20%22fa%22%7D%0A%20%20%20%20%20%20%20%20%20%20%20%20%29%3B%0A%20%20%20%20%20%20%20%20%20%20%20%20marker_3928709720b7426fa2da7a4ec95a0b6d.setIcon%28icon_9cdf7c2b2c9a483b849c862cfc11071a%29%3B%0A%20%20%20%20%20%20%20%20%0A%20%20%20%20%0A%20%20%20%20%20%20%20%20var%20popup_a53f726a38e74aab9d07474d33e175ab%20%3D%20L.popup%28%7B%22maxWidth%22%3A%20%22100%25%22%7D%29%3B%0A%0A%20%20%20%20%20%20%20%20%0A%20%20%20%20%20%20%20%20%20%20%20%20var%20html_76d8e92a61e5450ca6c4891c4f3205a5%20%3D%20%24%28%60%3Cdiv%20id%3D%22html_76d8e92a61e5450ca6c4891c4f3205a5%22%20style%3D%22width%3A%20100.0%25%3B%20height%3A%20100.0%25%3B%22%3EId%3A%20258%3Cbr%3EStockbridge%3Cbr%3EDescription%3A%20Hamilton%20Place%20by%20Dean%20Bank%20Lane%3Cbr%3E%3Cbr%3ECounts%3A%206219%3C/div%3E%60%29%5B0%5D%3B%0A%20%20%20%20%20%20%20%20%20%20%20%20popup_a53f726a38e74aab9d07474d33e175ab.setContent%28html_76d8e92a61e5450ca6c4891c4f3205a5%29%3B%0A%20%20%20%20%20%20%20%20%0A%0A%20%20%20%20%20%20%20%20marker_3928709720b7426fa2da7a4ec95a0b6d.bindPopup%28popup_a53f726a38e74aab9d07474d33e175ab%29%0A%20%20%20%20%20%20%20%20%3B%0A%0A%20%20%20%20%20%20%20%20%0A%20%20%20%20%0A%20%20%20%20%0A%20%20%20%20%20%20%20%20%20%20%20%20var%20marker_9b919a8d8b424408a7a562e7ba850235%20%3D%20L.marker%28%0A%20%20%20%20%20%20%20%20%20%20%20%20%20%20%20%20%5B55.94308406301113%2C%20-3.188311072722399%5D%2C%0A%20%20%20%20%20%20%20%20%20%20%20%20%20%20%20%20%7B%7D%0A%20%20%20%20%20%20%20%20%20%20%20%20%29.addTo%28marker_cluster_ada872b66f8d4492ab77f3dff857f701%29%3B%0A%20%20%20%20%20%20%20%20%0A%20%20%20%20%0A%20%20%20%20%20%20%20%20%20%20%20%20var%20icon_b0e8da06a90e4e199d0ca5e3a7562f6c%20%3D%20L.AwesomeMarkers.icon%28%0A%20%20%20%20%20%20%20%20%20%20%20%20%20%20%20%20%7B%22extraClasses%22%3A%20%22fa-rotate-0%22%2C%20%22icon%22%3A%20%22bicycle%22%2C%20%22iconColor%22%3A%20%22white%22%2C%20%22markerColor%22%3A%20%22darkblue%22%2C%20%22prefix%22%3A%20%22fa%22%7D%0A%20%20%20%20%20%20%20%20%20%20%20%20%29%3B%0A%20%20%20%20%20%20%20%20%20%20%20%20marker_9b919a8d8b424408a7a562e7ba850235.setIcon%28icon_b0e8da06a90e4e199d0ca5e3a7562f6c%29%3B%0A%20%20%20%20%20%20%20%20%0A%20%20%20%20%0A%20%20%20%20%20%20%20%20var%20popup_f239e030920148feb263d1a60d6cf4e7%20%3D%20L.popup%28%7B%22maxWidth%22%3A%20%22100%25%22%7D%29%3B%0A%0A%20%20%20%20%20%20%20%20%0A%20%20%20%20%20%20%20%20%20%20%20%20var%20html_98d822c1383f4c5f859c65114bbf2af0%20%3D%20%24%28%60%3Cdiv%20id%3D%22html_98d822c1383f4c5f859c65114bbf2af0%22%20style%3D%22width%3A%20100.0%25%3B%20height%3A%20100.0%25%3B%22%3EId%3A%20171%3Cbr%3EGeorge%20Square%3Cbr%3EDescription%3A%20George%20Square%2C%20south%20side%20in%20front%20of%20University%20library%3Cbr%3E%3Cbr%3ECounts%3A%206097%3C/div%3E%60%29%5B0%5D%3B%0A%20%20%20%20%20%20%20%20%20%20%20%20popup_f239e030920148feb263d1a60d6cf4e7.setContent%28html_98d822c1383f4c5f859c65114bbf2af0%29%3B%0A%20%20%20%20%20%20%20%20%0A%0A%20%20%20%20%20%20%20%20marker_9b919a8d8b424408a7a562e7ba850235.bindPopup%28popup_f239e030920148feb263d1a60d6cf4e7%29%0A%20%20%20%20%20%20%20%20%3B%0A%0A%20%20%20%20%20%20%20%20%0A%20%20%20%20%0A%20%20%20%20%0A%20%20%20%20%20%20%20%20%20%20%20%20var%20marker_c7a830c646da454a9ffa19cdb489c187%20%3D%20L.marker%28%0A%20%20%20%20%20%20%20%20%20%20%20%20%20%20%20%20%5B55.95010933017899%2C%20-3.190257770093808%5D%2C%0A%20%20%20%20%20%20%20%20%20%20%20%20%20%20%20%20%7B%7D%0A%20%20%20%20%20%20%20%20%20%20%20%20%29.addTo%28marker_cluster_ada872b66f8d4492ab77f3dff857f701%29%3B%0A%20%20%20%20%20%20%20%20%0A%20%20%20%20%0A%20%20%20%20%20%20%20%20%20%20%20%20var%20icon_9e49e10a94dc4fcb861dd1abe881b18f%20%3D%20L.AwesomeMarkers.icon%28%0A%20%20%20%20%20%20%20%20%20%20%20%20%20%20%20%20%7B%22extraClasses%22%3A%20%22fa-rotate-0%22%2C%20%22icon%22%3A%20%22bicycle%22%2C%20%22iconColor%22%3A%20%22white%22%2C%20%22markerColor%22%3A%20%22darkblue%22%2C%20%22prefix%22%3A%20%22fa%22%7D%0A%20%20%20%20%20%20%20%20%20%20%20%20%29%3B%0A%20%20%20%20%20%20%20%20%20%20%20%20marker_c7a830c646da454a9ffa19cdb489c187.setIcon%28icon_9e49e10a94dc4fcb861dd1abe881b18f%29%3B%0A%20%20%20%20%20%20%20%20%0A%20%20%20%20%0A%20%20%20%20%20%20%20%20var%20popup_23bb16f7b46942cfbaf573915bae8214%20%3D%20L.popup%28%7B%22maxWidth%22%3A%20%22100%25%22%7D%29%3B%0A%0A%20%20%20%20%20%20%20%20%0A%20%20%20%20%20%20%20%20%20%20%20%20var%20html_847f0cefa7de442ca2f3a10875a3c87f%20%3D%20%24%28%60%3Cdiv%20id%3D%22html_847f0cefa7de442ca2f3a10875a3c87f%22%20style%3D%22width%3A%20100.0%25%3B%20height%3A%20100.0%25%3B%22%3EId%3A%20189%3Cbr%3ECity%20Chambers%3Cbr%3EDescription%3A%20City%20Chambers%20Quadrangle%3Cbr%3E%3Cbr%3ECounts%3A%205836%3C/div%3E%60%29%5B0%5D%3B%0A%20%20%20%20%20%20%20%20%20%20%20%20popup_23bb16f7b46942cfbaf573915bae8214.setContent%28html_847f0cefa7de442ca2f3a10875a3c87f%29%3B%0A%20%20%20%20%20%20%20%20%0A%0A%20%20%20%20%20%20%20%20marker_c7a830c646da454a9ffa19cdb489c187.bindPopup%28popup_23bb16f7b46942cfbaf573915bae8214%29%0A%20%20%20%20%20%20%20%20%3B%0A%0A%20%20%20%20%20%20%20%20%0A%20%20%20%20%0A%20%20%20%20%0A%20%20%20%20%20%20%20%20%20%20%20%20var%20marker_3726d878ee9f4482ba3d5180d05316ae%20%3D%20L.marker%28%0A%20%20%20%20%20%20%20%20%20%20%20%20%20%20%20%20%5B55.944248052468346%2C%20-3.203104599110474%5D%2C%0A%20%20%20%20%20%20%20%20%20%20%20%20%20%20%20%20%7B%7D%0A%20%20%20%20%20%20%20%20%20%20%20%20%29.addTo%28marker_cluster_ada872b66f8d4492ab77f3dff857f701%29%3B%0A%20%20%20%20%20%20%20%20%0A%20%20%20%20%0A%20%20%20%20%20%20%20%20%20%20%20%20var%20icon_63eed420c2dd4925946a29541f4a0382%20%3D%20L.AwesomeMarkers.icon%28%0A%20%20%20%20%20%20%20%20%20%20%20%20%20%20%20%20%7B%22extraClasses%22%3A%20%22fa-rotate-0%22%2C%20%22icon%22%3A%20%22bicycle%22%2C%20%22iconColor%22%3A%20%22white%22%2C%20%22markerColor%22%3A%20%22darkblue%22%2C%20%22prefix%22%3A%20%22fa%22%7D%0A%20%20%20%20%20%20%20%20%20%20%20%20%29%3B%0A%20%20%20%20%20%20%20%20%20%20%20%20marker_3726d878ee9f4482ba3d5180d05316ae.setIcon%28icon_63eed420c2dd4925946a29541f4a0382%29%3B%0A%20%20%20%20%20%20%20%20%0A%20%20%20%20%0A%20%20%20%20%20%20%20%20var%20popup_5a7abd78849c4002b987781c5d3f4909%20%3D%20L.popup%28%7B%22maxWidth%22%3A%20%22100%25%22%7D%29%3B%0A%0A%20%20%20%20%20%20%20%20%0A%20%20%20%20%20%20%20%20%20%20%20%20var%20html_c25ae83b7a1e435ca7338c671de8f5c1%20%3D%20%24%28%60%3Cdiv%20id%3D%22html_c25ae83b7a1e435ca7338c671de8f5c1%22%20style%3D%22width%3A%20100.0%25%3B%20height%3A%20100.0%25%3B%22%3EId%3A%201721%3Cbr%3ETollcross%3Cbr%3EDescription%3A%20Outside%20Piccolinos%20off%20Lauriston%20Place%3Cbr%3E%3Cbr%3ECounts%3A%205669%3C/div%3E%60%29%5B0%5D%3B%0A%20%20%20%20%20%20%20%20%20%20%20%20popup_5a7abd78849c4002b987781c5d3f4909.setContent%28html_c25ae83b7a1e435ca7338c671de8f5c1%29%3B%0A%20%20%20%20%20%20%20%20%0A%0A%20%20%20%20%20%20%20%20marker_3726d878ee9f4482ba3d5180d05316ae.bindPopup%28popup_5a7abd78849c4002b987781c5d3f4909%29%0A%20%20%20%20%20%20%20%20%3B%0A%0A%20%20%20%20%20%20%20%20%0A%20%20%20%20%0A%20%20%20%20%0A%20%20%20%20%20%20%20%20%20%20%20%20var%20marker_6bce807d13b34f3bbd3e847c707e36c7%20%3D%20L.marker%28%0A%20%20%20%20%20%20%20%20%20%20%20%20%20%20%20%20%5B55.981286014792985%2C%20-3.176351263805259%5D%2C%0A%20%20%20%20%20%20%20%20%20%20%20%20%20%20%20%20%7B%7D%0A%20%20%20%20%20%20%20%20%20%20%20%20%29.addTo%28marker_cluster_ada872b66f8d4492ab77f3dff857f701%29%3B%0A%20%20%20%20%20%20%20%20%0A%20%20%20%20%0A%20%20%20%20%20%20%20%20%20%20%20%20var%20icon_48a27673ab154e07a466fa79537040e2%20%3D%20L.AwesomeMarkers.icon%28%0A%20%20%20%20%20%20%20%20%20%20%20%20%20%20%20%20%7B%22extraClasses%22%3A%20%22fa-rotate-0%22%2C%20%22icon%22%3A%20%22bicycle%22%2C%20%22iconColor%22%3A%20%22white%22%2C%20%22markerColor%22%3A%20%22darkblue%22%2C%20%22prefix%22%3A%20%22fa%22%7D%0A%20%20%20%20%20%20%20%20%20%20%20%20%29%3B%0A%20%20%20%20%20%20%20%20%20%20%20%20marker_6bce807d13b34f3bbd3e847c707e36c7.setIcon%28icon_48a27673ab154e07a466fa79537040e2%29%3B%0A%20%20%20%20%20%20%20%20%0A%20%20%20%20%0A%20%20%20%20%20%20%20%20var%20popup_cb1641021e1d4891a18fa745eb15baf5%20%3D%20L.popup%28%7B%22maxWidth%22%3A%20%22100%25%22%7D%29%3B%0A%0A%20%20%20%20%20%20%20%20%0A%20%20%20%20%20%20%20%20%20%20%20%20var%20html_f576f81a048f4065aadbdbd42f963261%20%3D%20%24%28%60%3Cdiv%20id%3D%22html_f576f81a048f4065aadbdbd42f963261%22%20style%3D%22width%3A%20100.0%25%3B%20height%3A%20100.0%25%3B%22%3EId%3A%20285%3Cbr%3EOcean%20Terminal%3Cbr%3EDescription%3A%20Debenhams%20/%20Puregym%20entrance%3Cbr%3E%3Cbr%3ECounts%3A%205505%3C/div%3E%60%29%5B0%5D%3B%0A%20%20%20%20%20%20%20%20%20%20%20%20popup_cb1641021e1d4891a18fa745eb15baf5.setContent%28html_f576f81a048f4065aadbdbd42f963261%29%3B%0A%20%20%20%20%20%20%20%20%0A%0A%20%20%20%20%20%20%20%20marker_6bce807d13b34f3bbd3e847c707e36c7.bindPopup%28popup_cb1641021e1d4891a18fa745eb15baf5%29%0A%20%20%20%20%20%20%20%20%3B%0A%0A%20%20%20%20%20%20%20%20%0A%20%20%20%20%0A%20%20%20%20%0A%20%20%20%20%20%20%20%20%20%20%20%20var%20marker_c2cee07186814b2c84524f4596f2f734%20%3D%20L.marker%28%0A%20%20%20%20%20%20%20%20%20%20%20%20%20%20%20%20%5B55.94740919920712%2C%20-3.205765497136553%5D%2C%0A%20%20%20%20%20%20%20%20%20%20%20%20%20%20%20%20%7B%7D%0A%20%20%20%20%20%20%20%20%20%20%20%20%29.addTo%28marker_cluster_ada872b66f8d4492ab77f3dff857f701%29%3B%0A%20%20%20%20%20%20%20%20%0A%20%20%20%20%0A%20%20%20%20%20%20%20%20%20%20%20%20var%20icon_90acd05793fb4cd0b85b16be4a148a80%20%3D%20L.AwesomeMarkers.icon%28%0A%20%20%20%20%20%20%20%20%20%20%20%20%20%20%20%20%7B%22extraClasses%22%3A%20%22fa-rotate-0%22%2C%20%22icon%22%3A%20%22bicycle%22%2C%20%22iconColor%22%3A%20%22white%22%2C%20%22markerColor%22%3A%20%22darkblue%22%2C%20%22prefix%22%3A%20%22fa%22%7D%0A%20%20%20%20%20%20%20%20%20%20%20%20%29%3B%0A%20%20%20%20%20%20%20%20%20%20%20%20marker_c2cee07186814b2c84524f4596f2f734.setIcon%28icon_90acd05793fb4cd0b85b16be4a148a80%29%3B%0A%20%20%20%20%20%20%20%20%0A%20%20%20%20%0A%20%20%20%20%20%20%20%20var%20popup_20702d7dcec141bdb292c497d823037b%20%3D%20L.popup%28%7B%22maxWidth%22%3A%20%22100%25%22%7D%29%3B%0A%0A%20%20%20%20%20%20%20%20%0A%20%20%20%20%20%20%20%20%20%20%20%20var%20html_124830b5d2404c2d9c0ed6665a15fbbb%20%3D%20%24%28%60%3Cdiv%20id%3D%22html_124830b5d2404c2d9c0ed6665a15fbbb%22%20style%3D%22width%3A%20100.0%25%3B%20height%3A%20100.0%25%3B%22%3EId%3A%201039%3Cbr%3ELothian%20Road%3Cbr%3EDescription%3A%20Outside%20the%20Usher%20Hall%3Cbr%3E%3Cbr%3ECounts%3A%205472%3C/div%3E%60%29%5B0%5D%3B%0A%20%20%20%20%20%20%20%20%20%20%20%20popup_20702d7dcec141bdb292c497d823037b.setContent%28html_124830b5d2404c2d9c0ed6665a15fbbb%29%3B%0A%20%20%20%20%20%20%20%20%0A%0A%20%20%20%20%20%20%20%20marker_c2cee07186814b2c84524f4596f2f734.bindPopup%28popup_20702d7dcec141bdb292c497d823037b%29%0A%20%20%20%20%20%20%20%20%3B%0A%0A%20%20%20%20%20%20%20%20%0A%20%20%20%20%0A%20%20%20%20%0A%20%20%20%20%20%20%20%20%20%20%20%20var%20marker_d2be53bc67ad49389b2778001a04c97c%20%3D%20L.marker%28%0A%20%20%20%20%20%20%20%20%20%20%20%20%20%20%20%20%5B55.96085174106396%2C%20-3.180985762469163%5D%2C%0A%20%20%20%20%20%20%20%20%20%20%20%20%20%20%20%20%7B%7D%0A%20%20%20%20%20%20%20%20%20%20%20%20%29.addTo%28marker_cluster_ada872b66f8d4492ab77f3dff857f701%29%3B%0A%20%20%20%20%20%20%20%20%0A%20%20%20%20%0A%20%20%20%20%20%20%20%20%20%20%20%20var%20icon_f538be25c2d14bfbaec7d4188d4d0f54%20%3D%20L.AwesomeMarkers.icon%28%0A%20%20%20%20%20%20%20%20%20%20%20%20%20%20%20%20%7B%22extraClasses%22%3A%20%22fa-rotate-0%22%2C%20%22icon%22%3A%20%22bicycle%22%2C%20%22iconColor%22%3A%20%22white%22%2C%20%22markerColor%22%3A%20%22darkblue%22%2C%20%22prefix%22%3A%20%22fa%22%7D%0A%20%20%20%20%20%20%20%20%20%20%20%20%29%3B%0A%20%20%20%20%20%20%20%20%20%20%20%20marker_d2be53bc67ad49389b2778001a04c97c.setIcon%28icon_f538be25c2d14bfbaec7d4188d4d0f54%29%3B%0A%20%20%20%20%20%20%20%20%0A%20%20%20%20%0A%20%20%20%20%20%20%20%20var%20popup_05d1cf12c16747eeb1862c47d335980a%20%3D%20L.popup%28%7B%22maxWidth%22%3A%20%22100%25%22%7D%29%3B%0A%0A%20%20%20%20%20%20%20%20%0A%20%20%20%20%20%20%20%20%20%20%20%20var%20html_598fddef39c640ebbec21ff0e8819b28%20%3D%20%24%28%60%3Cdiv%20id%3D%22html_598fddef39c640ebbec21ff0e8819b28%22%20style%3D%22width%3A%20100.0%25%3B%20height%3A%20100.0%25%3B%22%3EId%3A%201769%3Cbr%3EBrunswick%20Place%3Cbr%3EDescription%3A%20Corner%20of%20Elm%20Row/Brunswick%20Street%3Cbr%3E%3Cbr%3ECounts%3A%205150%3C/div%3E%60%29%5B0%5D%3B%0A%20%20%20%20%20%20%20%20%20%20%20%20popup_05d1cf12c16747eeb1862c47d335980a.setContent%28html_598fddef39c640ebbec21ff0e8819b28%29%3B%0A%20%20%20%20%20%20%20%20%0A%0A%20%20%20%20%20%20%20%20marker_d2be53bc67ad49389b2778001a04c97c.bindPopup%28popup_05d1cf12c16747eeb1862c47d335980a%29%0A%20%20%20%20%20%20%20%20%3B%0A%0A%20%20%20%20%20%20%20%20%0A%20%20%20%20%0A%20%20%20%20%0A%20%20%20%20%20%20%20%20%20%20%20%20var%20marker_91b01bcf324c454fa6edb0186fbe7115%20%3D%20L.marker%28%0A%20%20%20%20%20%20%20%20%20%20%20%20%20%20%20%20%5B55.94676648672239%2C%20-3.202037829055143%5D%2C%0A%20%20%20%20%20%20%20%20%20%20%20%20%20%20%20%20%7B%7D%0A%20%20%20%20%20%20%20%20%20%20%20%20%29.addTo%28marker_cluster_ada872b66f8d4492ab77f3dff857f701%29%3B%0A%20%20%20%20%20%20%20%20%0A%20%20%20%20%0A%20%20%20%20%20%20%20%20%20%20%20%20var%20icon_767916a0611e4e2fb20ba5b89020d2ec%20%3D%20L.AwesomeMarkers.icon%28%0A%20%20%20%20%20%20%20%20%20%20%20%20%20%20%20%20%7B%22extraClasses%22%3A%20%22fa-rotate-0%22%2C%20%22icon%22%3A%20%22bicycle%22%2C%20%22iconColor%22%3A%20%22white%22%2C%20%22markerColor%22%3A%20%22darkblue%22%2C%20%22prefix%22%3A%20%22fa%22%7D%0A%20%20%20%20%20%20%20%20%20%20%20%20%29%3B%0A%20%20%20%20%20%20%20%20%20%20%20%20marker_91b01bcf324c454fa6edb0186fbe7115.setIcon%28icon_767916a0611e4e2fb20ba5b89020d2ec%29%3B%0A%20%20%20%20%20%20%20%20%0A%20%20%20%20%0A%20%20%20%20%20%20%20%20var%20popup_88038397fb6a4f4e82f5c821472b85c3%20%3D%20L.popup%28%7B%22maxWidth%22%3A%20%22100%25%22%7D%29%3B%0A%0A%20%20%20%20%20%20%20%20%0A%20%20%20%20%20%20%20%20%20%20%20%20var%20html_c03294c63cd94592a4ab785905ba81fa%20%3D%20%24%28%60%3Cdiv%20id%3D%22html_c03294c63cd94592a4ab785905ba81fa%22%20style%3D%22width%3A%20100.0%25%3B%20height%3A%20100.0%25%3B%22%3EId%3A%20296%3Cbr%3ECastle%20Terrace%3Cbr%3EDescription%3A%20Corner%20of%20Castle%20Terrace%20and%20Lady%20Lawson%20St%3Cbr%3E%3Cbr%3ECounts%3A%204926%3C/div%3E%60%29%5B0%5D%3B%0A%20%20%20%20%20%20%20%20%20%20%20%20popup_88038397fb6a4f4e82f5c821472b85c3.setContent%28html_c03294c63cd94592a4ab785905ba81fa%29%3B%0A%20%20%20%20%20%20%20%20%0A%0A%20%20%20%20%20%20%20%20marker_91b01bcf324c454fa6edb0186fbe7115.bindPopup%28popup_88038397fb6a4f4e82f5c821472b85c3%29%0A%20%20%20%20%20%20%20%20%3B%0A%0A%20%20%20%20%20%20%20%20%0A%20%20%20%20%0A%20%20%20%20%0A%20%20%20%20%20%20%20%20%20%20%20%20var%20marker_268c73bfdb054f04b79e5de35f577cd7%20%3D%20L.marker%28%0A%20%20%20%20%20%20%20%20%20%20%20%20%20%20%20%20%5B55.93900024788877%2C%20-3.173923554315593%5D%2C%0A%20%20%20%20%20%20%20%20%20%20%20%20%20%20%20%20%7B%7D%0A%20%20%20%20%20%20%20%20%20%20%20%20%29.addTo%28marker_cluster_ada872b66f8d4492ab77f3dff857f701%29%3B%0A%20%20%20%20%20%20%20%20%0A%20%20%20%20%0A%20%20%20%20%20%20%20%20%20%20%20%20var%20icon_941da15d43aa4f7b90f45f1fb0f23ef3%20%3D%20L.AwesomeMarkers.icon%28%0A%20%20%20%20%20%20%20%20%20%20%20%20%20%20%20%20%7B%22extraClasses%22%3A%20%22fa-rotate-0%22%2C%20%22icon%22%3A%20%22bicycle%22%2C%20%22iconColor%22%3A%20%22white%22%2C%20%22markerColor%22%3A%20%22darkblue%22%2C%20%22prefix%22%3A%20%22fa%22%7D%0A%20%20%20%20%20%20%20%20%20%20%20%20%29%3B%0A%20%20%20%20%20%20%20%20%20%20%20%20marker_268c73bfdb054f04b79e5de35f577cd7.setIcon%28icon_941da15d43aa4f7b90f45f1fb0f23ef3%29%3B%0A%20%20%20%20%20%20%20%20%0A%20%20%20%20%0A%20%20%20%20%20%20%20%20var%20popup_2993d56008ea43ada4228b287b7c4f97%20%3D%20L.popup%28%7B%22maxWidth%22%3A%20%22100%25%22%7D%29%3B%0A%0A%20%20%20%20%20%20%20%20%0A%20%20%20%20%20%20%20%20%20%20%20%20var%20html_1c4ade1c516f4e178de4a0f570bd5cf0%20%3D%20%24%28%60%3Cdiv%20id%3D%22html_1c4ade1c516f4e178de4a0f570bd5cf0%22%20style%3D%22width%3A%20100.0%25%3B%20height%3A%20100.0%25%3B%22%3EId%3A%20246%3Cbr%3ERoyal%20Commonwealth%20Pool%3Cbr%3EDescription%3A%20Royal%20Commonwealth%20Pool%20Entrance%3Cbr%3E%3Cbr%3ECounts%3A%204782%3C/div%3E%60%29%5B0%5D%3B%0A%20%20%20%20%20%20%20%20%20%20%20%20popup_2993d56008ea43ada4228b287b7c4f97.setContent%28html_1c4ade1c516f4e178de4a0f570bd5cf0%29%3B%0A%20%20%20%20%20%20%20%20%0A%0A%20%20%20%20%20%20%20%20marker_268c73bfdb054f04b79e5de35f577cd7.bindPopup%28popup_2993d56008ea43ada4228b287b7c4f97%29%0A%20%20%20%20%20%20%20%20%3B%0A%0A%20%20%20%20%20%20%20%20%0A%20%20%20%20%0A%20%20%20%20%0A%20%20%20%20%20%20%20%20%20%20%20%20var%20marker_f370cb1f4e7f4aa098d1f0601b80aae6%20%3D%20L.marker%28%0A%20%20%20%20%20%20%20%20%20%20%20%20%20%20%20%20%5B55.97132539148155%2C%20-3.207963567424258%5D%2C%0A%20%20%20%20%20%20%20%20%20%20%20%20%20%20%20%20%7B%7D%0A%20%20%20%20%20%20%20%20%20%20%20%20%29.addTo%28marker_cluster_ada872b66f8d4492ab77f3dff857f701%29%3B%0A%20%20%20%20%20%20%20%20%0A%20%20%20%20%0A%20%20%20%20%20%20%20%20%20%20%20%20var%20icon_c78eb3ba0bbd4c369a9415899b0cf120%20%3D%20L.AwesomeMarkers.icon%28%0A%20%20%20%20%20%20%20%20%20%20%20%20%20%20%20%20%7B%22extraClasses%22%3A%20%22fa-rotate-0%22%2C%20%22icon%22%3A%20%22bicycle%22%2C%20%22iconColor%22%3A%20%22white%22%2C%20%22markerColor%22%3A%20%22darkblue%22%2C%20%22prefix%22%3A%20%22fa%22%7D%0A%20%20%20%20%20%20%20%20%20%20%20%20%29%3B%0A%20%20%20%20%20%20%20%20%20%20%20%20marker_f370cb1f4e7f4aa098d1f0601b80aae6.setIcon%28icon_c78eb3ba0bbd4c369a9415899b0cf120%29%3B%0A%20%20%20%20%20%20%20%20%0A%20%20%20%20%0A%20%20%20%20%20%20%20%20var%20popup_d96ff60b2a57471cb5abe8fb835242e7%20%3D%20L.popup%28%7B%22maxWidth%22%3A%20%22100%25%22%7D%29%3B%0A%0A%20%20%20%20%20%20%20%20%0A%20%20%20%20%20%20%20%20%20%20%20%20var%20html_1a2b1198b51546e08a20d6cf77c26028%20%3D%20%24%28%60%3Cdiv%20id%3D%22html_1a2b1198b51546e08a20d6cf77c26028%22%20style%3D%22width%3A%20100.0%25%3B%20height%3A%20100.0%25%3B%22%3EId%3A%201038%3Cbr%3ESouth%20Trinity%20Road%3Cbr%3EDescription%3A%20Corner%20of%20South%20Trinity%20Road%20and%20Ferry%20Road%3Cbr%3E%3Cbr%3ECounts%3A%204735%3C/div%3E%60%29%5B0%5D%3B%0A%20%20%20%20%20%20%20%20%20%20%20%20popup_d96ff60b2a57471cb5abe8fb835242e7.setContent%28html_1a2b1198b51546e08a20d6cf77c26028%29%3B%0A%20%20%20%20%20%20%20%20%0A%0A%20%20%20%20%20%20%20%20marker_f370cb1f4e7f4aa098d1f0601b80aae6.bindPopup%28popup_d96ff60b2a57471cb5abe8fb835242e7%29%0A%20%20%20%20%20%20%20%20%3B%0A%0A%20%20%20%20%20%20%20%20%0A%20%20%20%20%0A%20%20%20%20%0A%20%20%20%20%20%20%20%20%20%20%20%20var%20marker_c9923ac7385443599c832fbdf1d4cd55%20%3D%20L.marker%28%0A%20%20%20%20%20%20%20%20%20%20%20%20%20%20%20%20%5B55.951089465236365%2C%20-3.17572460948655%5D%2C%0A%20%20%20%20%20%20%20%20%20%20%20%20%20%20%20%20%7B%7D%0A%20%20%20%20%20%20%20%20%20%20%20%20%29.addTo%28marker_cluster_ada872b66f8d4492ab77f3dff857f701%29%3B%0A%20%20%20%20%20%20%20%20%0A%20%20%20%20%0A%20%20%20%20%20%20%20%20%20%20%20%20var%20icon_653e8476185a4182a3e9730f5a8941bb%20%3D%20L.AwesomeMarkers.icon%28%0A%20%20%20%20%20%20%20%20%20%20%20%20%20%20%20%20%7B%22extraClasses%22%3A%20%22fa-rotate-0%22%2C%20%22icon%22%3A%20%22bicycle%22%2C%20%22iconColor%22%3A%20%22white%22%2C%20%22markerColor%22%3A%20%22darkblue%22%2C%20%22prefix%22%3A%20%22fa%22%7D%0A%20%20%20%20%20%20%20%20%20%20%20%20%29%3B%0A%20%20%20%20%20%20%20%20%20%20%20%20marker_c9923ac7385443599c832fbdf1d4cd55.setIcon%28icon_653e8476185a4182a3e9730f5a8941bb%29%3B%0A%20%20%20%20%20%20%20%20%0A%20%20%20%20%0A%20%20%20%20%20%20%20%20var%20popup_2bd6cdcb9832401dae545de1c2f97954%20%3D%20L.popup%28%7B%22maxWidth%22%3A%20%22100%25%22%7D%29%3B%0A%0A%20%20%20%20%20%20%20%20%0A%20%20%20%20%20%20%20%20%20%20%20%20var%20html_134353f782924909a2ecad9e21a138d3%20%3D%20%24%28%60%3Cdiv%20id%3D%22html_134353f782924909a2ecad9e21a138d3%22%20style%3D%22width%3A%20100.0%25%3B%20height%3A%20100.0%25%3B%22%3EId%3A%201818%3Cbr%3EDynamic%20Earth%3Cbr%3EDescription%3A%20Outside%20Dynamic%20Earth%2C%20Holyrood%20Road%3Cbr%3E%3Cbr%3ECounts%3A%204694%3C/div%3E%60%29%5B0%5D%3B%0A%20%20%20%20%20%20%20%20%20%20%20%20popup_2bd6cdcb9832401dae545de1c2f97954.setContent%28html_134353f782924909a2ecad9e21a138d3%29%3B%0A%20%20%20%20%20%20%20%20%0A%0A%20%20%20%20%20%20%20%20marker_c9923ac7385443599c832fbdf1d4cd55.bindPopup%28popup_2bd6cdcb9832401dae545de1c2f97954%29%0A%20%20%20%20%20%20%20%20%3B%0A%0A%20%20%20%20%20%20%20%20%0A%20%20%20%20%0A%20%20%20%20%0A%20%20%20%20%20%20%20%20%20%20%20%20var%20marker_de819185ddaf432bbd3dd35048268124%20%3D%20L.marker%28%0A%20%20%20%20%20%20%20%20%20%20%20%20%20%20%20%20%5B55.95524788917224%2C%20-3.17221628009507%5D%2C%0A%20%20%20%20%20%20%20%20%20%20%20%20%20%20%20%20%7B%7D%0A%20%20%20%20%20%20%20%20%20%20%20%20%29.addTo%28marker_cluster_ada872b66f8d4492ab77f3dff857f701%29%3B%0A%20%20%20%20%20%20%20%20%0A%20%20%20%20%0A%20%20%20%20%20%20%20%20%20%20%20%20var%20icon_43de59f596844643a51a5493d590d234%20%3D%20L.AwesomeMarkers.icon%28%0A%20%20%20%20%20%20%20%20%20%20%20%20%20%20%20%20%7B%22extraClasses%22%3A%20%22fa-rotate-0%22%2C%20%22icon%22%3A%20%22bicycle%22%2C%20%22iconColor%22%3A%20%22white%22%2C%20%22markerColor%22%3A%20%22darkblue%22%2C%20%22prefix%22%3A%20%22fa%22%7D%0A%20%20%20%20%20%20%20%20%20%20%20%20%29%3B%0A%20%20%20%20%20%20%20%20%20%20%20%20marker_de819185ddaf432bbd3dd35048268124.setIcon%28icon_43de59f596844643a51a5493d590d234%29%3B%0A%20%20%20%20%20%20%20%20%0A%20%20%20%20%0A%20%20%20%20%20%20%20%20var%20popup_cf3ba40d4bba4845aa219d986f426459%20%3D%20L.popup%28%7B%22maxWidth%22%3A%20%22100%25%22%7D%29%3B%0A%0A%20%20%20%20%20%20%20%20%0A%20%20%20%20%20%20%20%20%20%20%20%20var%20html_48c2eac5f54c4497bf387194955d350e%20%3D%20%24%28%60%3Cdiv%20id%3D%22html_48c2eac5f54c4497bf387194955d350e%22%20style%3D%22width%3A%20100.0%25%3B%20height%3A%20100.0%25%3B%22%3EId%3A%201814%3Cbr%3EAbbeyhill%3Cbr%3EDescription%3A%20Near%20Abbey%20Mount%3Cbr%3E%3Cbr%3ECounts%3A%204686%3C/div%3E%60%29%5B0%5D%3B%0A%20%20%20%20%20%20%20%20%20%20%20%20popup_cf3ba40d4bba4845aa219d986f426459.setContent%28html_48c2eac5f54c4497bf387194955d350e%29%3B%0A%20%20%20%20%20%20%20%20%0A%0A%20%20%20%20%20%20%20%20marker_de819185ddaf432bbd3dd35048268124.bindPopup%28popup_cf3ba40d4bba4845aa219d986f426459%29%0A%20%20%20%20%20%20%20%20%3B%0A%0A%20%20%20%20%20%20%20%20%0A%20%20%20%20%0A%20%20%20%20%0A%20%20%20%20%20%20%20%20%20%20%20%20var%20marker_adc20782054f415dbd73086efdafb6b2%20%3D%20L.marker%28%0A%20%20%20%20%20%20%20%20%20%20%20%20%20%20%20%20%5B55.9438359841253%2C%20-3.184951408497681%5D%2C%0A%20%20%20%20%20%20%20%20%20%20%20%20%20%20%20%20%7B%7D%0A%20%20%20%20%20%20%20%20%20%20%20%20%29.addTo%28marker_cluster_ada872b66f8d4492ab77f3dff857f701%29%3B%0A%20%20%20%20%20%20%20%20%0A%20%20%20%20%0A%20%20%20%20%20%20%20%20%20%20%20%20var%20icon_d06ee884cc1047ab8f8d382de206c9dc%20%3D%20L.AwesomeMarkers.icon%28%0A%20%20%20%20%20%20%20%20%20%20%20%20%20%20%20%20%7B%22extraClasses%22%3A%20%22fa-rotate-0%22%2C%20%22icon%22%3A%20%22bicycle%22%2C%20%22iconColor%22%3A%20%22white%22%2C%20%22markerColor%22%3A%20%22darkblue%22%2C%20%22prefix%22%3A%20%22fa%22%7D%0A%20%20%20%20%20%20%20%20%20%20%20%20%29%3B%0A%20%20%20%20%20%20%20%20%20%20%20%20marker_adc20782054f415dbd73086efdafb6b2.setIcon%28icon_d06ee884cc1047ab8f8d382de206c9dc%29%3B%0A%20%20%20%20%20%20%20%20%0A%20%20%20%20%0A%20%20%20%20%20%20%20%20var%20popup_1ffc48602665424d94c820e3ecd24fcb%20%3D%20L.popup%28%7B%22maxWidth%22%3A%20%22100%25%22%7D%29%3B%0A%0A%20%20%20%20%20%20%20%20%0A%20%20%20%20%20%20%20%20%20%20%20%20var%20html_1f20e5ef0c5745568cc79402f3d923e6%20%3D%20%24%28%60%3Cdiv%20id%3D%22html_1f20e5ef0c5745568cc79402f3d923e6%22%20style%3D%22width%3A%20100.0%25%3B%20height%3A%20100.0%25%3B%22%3EId%3A%201096%3Cbr%3EWest%20Crosscauseway%3Cbr%3EDescription%3A%20On%20island%20next%20to%20Buccleuch%20Street%3Cbr%3E%3Cbr%3ECounts%3A%204352%3C/div%3E%60%29%5B0%5D%3B%0A%20%20%20%20%20%20%20%20%20%20%20%20popup_1ffc48602665424d94c820e3ecd24fcb.setContent%28html_1f20e5ef0c5745568cc79402f3d923e6%29%3B%0A%20%20%20%20%20%20%20%20%0A%0A%20%20%20%20%20%20%20%20marker_adc20782054f415dbd73086efdafb6b2.bindPopup%28popup_1ffc48602665424d94c820e3ecd24fcb%29%0A%20%20%20%20%20%20%20%20%3B%0A%0A%20%20%20%20%20%20%20%20%0A%20%20%20%20%0A%20%20%20%20%0A%20%20%20%20%20%20%20%20%20%20%20%20var%20marker_6235a11cb151401ab6a8b2dc232db569%20%3D%20L.marker%28%0A%20%20%20%20%20%20%20%20%20%20%20%20%20%20%20%20%5B55.93650603148236%2C%20-3.180166347615113%5D%2C%0A%20%20%20%20%20%20%20%20%20%20%20%20%20%20%20%20%7B%7D%0A%20%20%20%20%20%20%20%20%20%20%20%20%29.addTo%28marker_cluster_ada872b66f8d4492ab77f3dff857f701%29%3B%0A%20%20%20%20%20%20%20%20%0A%20%20%20%20%0A%20%20%20%20%20%20%20%20%20%20%20%20var%20icon_770271a9761a4888bc54dc3a54b4219d%20%3D%20L.AwesomeMarkers.icon%28%0A%20%20%20%20%20%20%20%20%20%20%20%20%20%20%20%20%7B%22extraClasses%22%3A%20%22fa-rotate-0%22%2C%20%22icon%22%3A%20%22bicycle%22%2C%20%22iconColor%22%3A%20%22white%22%2C%20%22markerColor%22%3A%20%22darkblue%22%2C%20%22prefix%22%3A%20%22fa%22%7D%0A%20%20%20%20%20%20%20%20%20%20%20%20%29%3B%0A%20%20%20%20%20%20%20%20%20%20%20%20marker_6235a11cb151401ab6a8b2dc232db569.setIcon%28icon_770271a9761a4888bc54dc3a54b4219d%29%3B%0A%20%20%20%20%20%20%20%20%0A%20%20%20%20%0A%20%20%20%20%20%20%20%20var%20popup_a7368857068a454baa992c9434fabbf3%20%3D%20L.popup%28%7B%22maxWidth%22%3A%20%22100%25%22%7D%29%3B%0A%0A%20%20%20%20%20%20%20%20%0A%20%20%20%20%20%20%20%20%20%20%20%20var%20html_7c20993bf4f346bca6861310ef9bcc04%20%3D%20%24%28%60%3Cdiv%20id%3D%22html_7c20993bf4f346bca6861310ef9bcc04%22%20style%3D%22width%3A%20100.0%25%3B%20height%3A%20100.0%25%3B%22%3EId%3A%201727%3Cbr%3ECausewayside%3Cbr%3EDescription%3A%20Outside%20National%20Library%20of%20Scotland%3Cbr%3E%3Cbr%3ECounts%3A%204337%3C/div%3E%60%29%5B0%5D%3B%0A%20%20%20%20%20%20%20%20%20%20%20%20popup_a7368857068a454baa992c9434fabbf3.setContent%28html_7c20993bf4f346bca6861310ef9bcc04%29%3B%0A%20%20%20%20%20%20%20%20%0A%0A%20%20%20%20%20%20%20%20marker_6235a11cb151401ab6a8b2dc232db569.bindPopup%28popup_a7368857068a454baa992c9434fabbf3%29%0A%20%20%20%20%20%20%20%20%3B%0A%0A%20%20%20%20%20%20%20%20%0A%20%20%20%20%0A%20%20%20%20%0A%20%20%20%20%20%20%20%20%20%20%20%20var%20marker_ec9b1fb1eb674d8c8f02424640e26f76%20%3D%20L.marker%28%0A%20%20%20%20%20%20%20%20%20%20%20%20%20%20%20%20%5B55.951980756193535%2C%20-3.191890332557903%5D%2C%0A%20%20%20%20%20%20%20%20%20%20%20%20%20%20%20%20%7B%7D%0A%20%20%20%20%20%20%20%20%20%20%20%20%29.addTo%28marker_cluster_ada872b66f8d4492ab77f3dff857f701%29%3B%0A%20%20%20%20%20%20%20%20%0A%20%20%20%20%0A%20%20%20%20%20%20%20%20%20%20%20%20var%20icon_ef21630c39cd4f848ea2c86d2a1b662a%20%3D%20L.AwesomeMarkers.icon%28%0A%20%20%20%20%20%20%20%20%20%20%20%20%20%20%20%20%7B%22extraClasses%22%3A%20%22fa-rotate-0%22%2C%20%22icon%22%3A%20%22bicycle%22%2C%20%22iconColor%22%3A%20%22white%22%2C%20%22markerColor%22%3A%20%22darkblue%22%2C%20%22prefix%22%3A%20%22fa%22%7D%0A%20%20%20%20%20%20%20%20%20%20%20%20%29%3B%0A%20%20%20%20%20%20%20%20%20%20%20%20marker_ec9b1fb1eb674d8c8f02424640e26f76.setIcon%28icon_ef21630c39cd4f848ea2c86d2a1b662a%29%3B%0A%20%20%20%20%20%20%20%20%0A%20%20%20%20%0A%20%20%20%20%20%20%20%20var%20popup_3d78d71d94b541aeb84db47d95c0e7e2%20%3D%20L.popup%28%7B%22maxWidth%22%3A%20%22100%25%22%7D%29%3B%0A%0A%20%20%20%20%20%20%20%20%0A%20%20%20%20%20%20%20%20%20%20%20%20var%20html_a138bd8c8a664513af127b177d18ab19%20%3D%20%24%28%60%3Cdiv%20id%3D%22html_a138bd8c8a664513af127b177d18ab19%22%20style%3D%22width%3A%20100.0%25%3B%20height%3A%20100.0%25%3B%22%3EId%3A%20183%3Cbr%3EWaverley%20Bridge%3Cbr%3EDescription%3A%20near%20the%20top%20of%20the%20South%20ramp%3Cbr%3E%3Cbr%3ECounts%3A%204291%3C/div%3E%60%29%5B0%5D%3B%0A%20%20%20%20%20%20%20%20%20%20%20%20popup_3d78d71d94b541aeb84db47d95c0e7e2.setContent%28html_a138bd8c8a664513af127b177d18ab19%29%3B%0A%20%20%20%20%20%20%20%20%0A%0A%20%20%20%20%20%20%20%20marker_ec9b1fb1eb674d8c8f02424640e26f76.bindPopup%28popup_3d78d71d94b541aeb84db47d95c0e7e2%29%0A%20%20%20%20%20%20%20%20%3B%0A%0A%20%20%20%20%20%20%20%20%0A%20%20%20%20%0A%20%20%20%20%0A%20%20%20%20%20%20%20%20%20%20%20%20var%20marker_59d416e20f6f480e99a35063e87b073a%20%3D%20L.marker%28%0A%20%20%20%20%20%20%20%20%20%20%20%20%20%20%20%20%5B55.92320215516664%2C%20-3.17164624536349%5D%2C%0A%20%20%20%20%20%20%20%20%20%20%20%20%20%20%20%20%7B%7D%0A%20%20%20%20%20%20%20%20%20%20%20%20%29.addTo%28marker_cluster_ada872b66f8d4492ab77f3dff857f701%29%3B%0A%20%20%20%20%20%20%20%20%0A%20%20%20%20%0A%20%20%20%20%20%20%20%20%20%20%20%20var%20icon_0bf672bfadd04f2cb63c1c777b158d84%20%3D%20L.AwesomeMarkers.icon%28%0A%20%20%20%20%20%20%20%20%20%20%20%20%20%20%20%20%7B%22extraClasses%22%3A%20%22fa-rotate-0%22%2C%20%22icon%22%3A%20%22bicycle%22%2C%20%22iconColor%22%3A%20%22white%22%2C%20%22markerColor%22%3A%20%22darkblue%22%2C%20%22prefix%22%3A%20%22fa%22%7D%0A%20%20%20%20%20%20%20%20%20%20%20%20%29%3B%0A%20%20%20%20%20%20%20%20%20%20%20%20marker_59d416e20f6f480e99a35063e87b073a.setIcon%28icon_0bf672bfadd04f2cb63c1c777b158d84%29%3B%0A%20%20%20%20%20%20%20%20%0A%20%20%20%20%0A%20%20%20%20%20%20%20%20var%20popup_da14d5ae9da44c2bb3be7df22e640be2%20%3D%20L.popup%28%7B%22maxWidth%22%3A%20%22100%25%22%7D%29%3B%0A%0A%20%20%20%20%20%20%20%20%0A%20%20%20%20%20%20%20%20%20%20%20%20var%20html_ac623ce488b74708b8f78a67c5634630%20%3D%20%24%28%60%3Cdiv%20id%3D%22html_ac623ce488b74708b8f78a67c5634630%22%20style%3D%22width%3A%20100.0%25%3B%20height%3A%20100.0%25%3B%22%3EId%3A%20253%3Cbr%3EKings%20Building%202%3Cbr%3EDescription%3A%20Sanderson%20Building%3Cbr%3E%3Cbr%3ECounts%3A%204096%3C/div%3E%60%29%5B0%5D%3B%0A%20%20%20%20%20%20%20%20%20%20%20%20popup_da14d5ae9da44c2bb3be7df22e640be2.setContent%28html_ac623ce488b74708b8f78a67c5634630%29%3B%0A%20%20%20%20%20%20%20%20%0A%0A%20%20%20%20%20%20%20%20marker_59d416e20f6f480e99a35063e87b073a.bindPopup%28popup_da14d5ae9da44c2bb3be7df22e640be2%29%0A%20%20%20%20%20%20%20%20%3B%0A%0A%20%20%20%20%20%20%20%20%0A%20%20%20%20%0A%20%20%20%20%0A%20%20%20%20%20%20%20%20%20%20%20%20var%20marker_ce2cbe52cd874785b939f20709d32ba1%20%3D%20L.marker%28%0A%20%20%20%20%20%20%20%20%20%20%20%20%20%20%20%20%5B55.95787194536338%2C%20-3.175888370919665%5D%2C%0A%20%20%20%20%20%20%20%20%20%20%20%20%20%20%20%20%7B%7D%0A%20%20%20%20%20%20%20%20%20%20%20%20%29.addTo%28marker_cluster_ada872b66f8d4492ab77f3dff857f701%29%3B%0A%20%20%20%20%20%20%20%20%0A%20%20%20%20%0A%20%20%20%20%20%20%20%20%20%20%20%20var%20icon_1fe908db6ccb4452afc80a90510e3a75%20%3D%20L.AwesomeMarkers.icon%28%0A%20%20%20%20%20%20%20%20%20%20%20%20%20%20%20%20%7B%22extraClasses%22%3A%20%22fa-rotate-0%22%2C%20%22icon%22%3A%20%22bicycle%22%2C%20%22iconColor%22%3A%20%22white%22%2C%20%22markerColor%22%3A%20%22darkblue%22%2C%20%22prefix%22%3A%20%22fa%22%7D%0A%20%20%20%20%20%20%20%20%20%20%20%20%29%3B%0A%20%20%20%20%20%20%20%20%20%20%20%20marker_ce2cbe52cd874785b939f20709d32ba1.setIcon%28icon_1fe908db6ccb4452afc80a90510e3a75%29%3B%0A%20%20%20%20%20%20%20%20%0A%20%20%20%20%0A%20%20%20%20%20%20%20%20var%20popup_7aa8d74307d0410bb40b1aabdb5b4b79%20%3D%20L.popup%28%7B%22maxWidth%22%3A%20%22100%25%22%7D%29%3B%0A%0A%20%20%20%20%20%20%20%20%0A%20%20%20%20%20%20%20%20%20%20%20%20var%20html_7f21e6752f104fd3906f6e253dd57c65%20%3D%20%24%28%60%3Cdiv%20id%3D%22html_7f21e6752f104fd3906f6e253dd57c65%22%20style%3D%22width%3A%20100.0%25%3B%20height%3A%20100.0%25%3B%22%3EId%3A%201090%3Cbr%3EHillside%20Crescent%3Cbr%3EDescription%3A%20East%20end%20of%20Hillside%20Crescent%3Cbr%3E%3Cbr%3ECounts%3A%204072%3C/div%3E%60%29%5B0%5D%3B%0A%20%20%20%20%20%20%20%20%20%20%20%20popup_7aa8d74307d0410bb40b1aabdb5b4b79.setContent%28html_7f21e6752f104fd3906f6e253dd57c65%29%3B%0A%20%20%20%20%20%20%20%20%0A%0A%20%20%20%20%20%20%20%20marker_ce2cbe52cd874785b939f20709d32ba1.bindPopup%28popup_7aa8d74307d0410bb40b1aabdb5b4b79%29%0A%20%20%20%20%20%20%20%20%3B%0A%0A%20%20%20%20%20%20%20%20%0A%20%20%20%20%0A%20%20%20%20%0A%20%20%20%20%20%20%20%20%20%20%20%20var%20marker_bedd5ed0d6de48aba77dbf84edc09764%20%3D%20L.marker%28%0A%20%20%20%20%20%20%20%20%20%20%20%20%20%20%20%20%5B55.957004308392506%2C%20-3.116888118730116%5D%2C%0A%20%20%20%20%20%20%20%20%20%20%20%20%20%20%20%20%7B%7D%0A%20%20%20%20%20%20%20%20%20%20%20%20%29.addTo%28marker_cluster_ada872b66f8d4492ab77f3dff857f701%29%3B%0A%20%20%20%20%20%20%20%20%0A%20%20%20%20%0A%20%20%20%20%20%20%20%20%20%20%20%20var%20icon_723d5aedbcd542bcac2b644d768e211e%20%3D%20L.AwesomeMarkers.icon%28%0A%20%20%20%20%20%20%20%20%20%20%20%20%20%20%20%20%7B%22extraClasses%22%3A%20%22fa-rotate-0%22%2C%20%22icon%22%3A%20%22bicycle%22%2C%20%22iconColor%22%3A%20%22white%22%2C%20%22markerColor%22%3A%20%22darkblue%22%2C%20%22prefix%22%3A%20%22fa%22%7D%0A%20%20%20%20%20%20%20%20%20%20%20%20%29%3B%0A%20%20%20%20%20%20%20%20%20%20%20%20marker_bedd5ed0d6de48aba77dbf84edc09764.setIcon%28icon_723d5aedbcd542bcac2b644d768e211e%29%3B%0A%20%20%20%20%20%20%20%20%0A%20%20%20%20%0A%20%20%20%20%20%20%20%20var%20popup_205622652dc54b11bab299711d7420f8%20%3D%20L.popup%28%7B%22maxWidth%22%3A%20%22100%25%22%7D%29%3B%0A%0A%20%20%20%20%20%20%20%20%0A%20%20%20%20%20%20%20%20%20%20%20%20var%20html_4072088bc78c4670b52047d2db7abe07%20%3D%20%24%28%60%3Cdiv%20id%3D%22html_4072088bc78c4670b52047d2db7abe07%22%20style%3D%22width%3A%20100.0%25%3B%20height%3A%20100.0%25%3B%22%3EId%3A%20257%3Cbr%3EPortobello%3Cbr%3EDescription%3A%20Edinburgh%20Leisure%20Tumbles%20Centre%3Cbr%3E%3Cbr%3ECounts%3A%204039%3C/div%3E%60%29%5B0%5D%3B%0A%20%20%20%20%20%20%20%20%20%20%20%20popup_205622652dc54b11bab299711d7420f8.setContent%28html_4072088bc78c4670b52047d2db7abe07%29%3B%0A%20%20%20%20%20%20%20%20%0A%0A%20%20%20%20%20%20%20%20marker_bedd5ed0d6de48aba77dbf84edc09764.bindPopup%28popup_205622652dc54b11bab299711d7420f8%29%0A%20%20%20%20%20%20%20%20%3B%0A%0A%20%20%20%20%20%20%20%20%0A%20%20%20%20%0A%20%20%20%20%0A%20%20%20%20%20%20%20%20%20%20%20%20var%20marker_81de5e518aa34d10a8d1e7c2ebbfb796%20%3D%20L.marker%28%0A%20%20%20%20%20%20%20%20%20%20%20%20%20%20%20%20%5B55.94007146917616%2C%20-3.215335840688084%5D%2C%0A%20%20%20%20%20%20%20%20%20%20%20%20%20%20%20%20%7B%7D%0A%20%20%20%20%20%20%20%20%20%20%20%20%29.addTo%28marker_cluster_ada872b66f8d4492ab77f3dff857f701%29%3B%0A%20%20%20%20%20%20%20%20%0A%20%20%20%20%0A%20%20%20%20%20%20%20%20%20%20%20%20var%20icon_03792809063c426cbe60f0c5e1bcabd7%20%3D%20L.AwesomeMarkers.icon%28%0A%20%20%20%20%20%20%20%20%20%20%20%20%20%20%20%20%7B%22extraClasses%22%3A%20%22fa-rotate-0%22%2C%20%22icon%22%3A%20%22bicycle%22%2C%20%22iconColor%22%3A%20%22white%22%2C%20%22markerColor%22%3A%20%22darkblue%22%2C%20%22prefix%22%3A%20%22fa%22%7D%0A%20%20%20%20%20%20%20%20%20%20%20%20%29%3B%0A%20%20%20%20%20%20%20%20%20%20%20%20marker_81de5e518aa34d10a8d1e7c2ebbfb796.setIcon%28icon_03792809063c426cbe60f0c5e1bcabd7%29%3B%0A%20%20%20%20%20%20%20%20%0A%20%20%20%20%0A%20%20%20%20%20%20%20%20var%20popup_edb9f7d2930d4b9c8905c59b0bd2ed49%20%3D%20L.popup%28%7B%22maxWidth%22%3A%20%22100%25%22%7D%29%3B%0A%0A%20%20%20%20%20%20%20%20%0A%20%20%20%20%20%20%20%20%20%20%20%20var%20html_4266947aa40e403694c8b114b2b12ed5%20%3D%20%24%28%60%3Cdiv%20id%3D%22html_4266947aa40e403694c8b114b2b12ed5%22%20style%3D%22width%3A%20100.0%25%3B%20height%3A%20100.0%25%3B%22%3EId%3A%201823%3Cbr%3EBoroughmuir%3Cbr%3EDescription%3A%20Off%20Gibson%20Terrace%3Cbr%3E%3Cbr%3ECounts%3A%203976%3C/div%3E%60%29%5B0%5D%3B%0A%20%20%20%20%20%20%20%20%20%20%20%20popup_edb9f7d2930d4b9c8905c59b0bd2ed49.setContent%28html_4266947aa40e403694c8b114b2b12ed5%29%3B%0A%20%20%20%20%20%20%20%20%0A%0A%20%20%20%20%20%20%20%20marker_81de5e518aa34d10a8d1e7c2ebbfb796.bindPopup%28popup_edb9f7d2930d4b9c8905c59b0bd2ed49%29%0A%20%20%20%20%20%20%20%20%3B%0A%0A%20%20%20%20%20%20%20%20%0A%20%20%20%20%0A%20%20%20%20%0A%20%20%20%20%20%20%20%20%20%20%20%20var%20marker_19ee256900bc41c0bfc9da9428ccadc4%20%3D%20L.marker%28%0A%20%20%20%20%20%20%20%20%20%20%20%20%20%20%20%20%5B55.94955950619123%2C%20-3.180413257527789%5D%2C%0A%20%20%20%20%20%20%20%20%20%20%20%20%20%20%20%20%7B%7D%0A%20%20%20%20%20%20%20%20%20%20%20%20%29.addTo%28marker_cluster_ada872b66f8d4492ab77f3dff857f701%29%3B%0A%20%20%20%20%20%20%20%20%0A%20%20%20%20%0A%20%20%20%20%20%20%20%20%20%20%20%20var%20icon_08813097ab984ff49d6f62d9cc8abef8%20%3D%20L.AwesomeMarkers.icon%28%0A%20%20%20%20%20%20%20%20%20%20%20%20%20%20%20%20%7B%22extraClasses%22%3A%20%22fa-rotate-0%22%2C%20%22icon%22%3A%20%22bicycle%22%2C%20%22iconColor%22%3A%20%22white%22%2C%20%22markerColor%22%3A%20%22darkblue%22%2C%20%22prefix%22%3A%20%22fa%22%7D%0A%20%20%20%20%20%20%20%20%20%20%20%20%29%3B%0A%20%20%20%20%20%20%20%20%20%20%20%20marker_19ee256900bc41c0bfc9da9428ccadc4.setIcon%28icon_08813097ab984ff49d6f62d9cc8abef8%29%3B%0A%20%20%20%20%20%20%20%20%0A%20%20%20%20%0A%20%20%20%20%20%20%20%20var%20popup_c11824e7ce78459ea4fd25cba7eadedb%20%3D%20L.popup%28%7B%22maxWidth%22%3A%20%22100%25%22%7D%29%3B%0A%0A%20%20%20%20%20%20%20%20%0A%20%20%20%20%20%20%20%20%20%20%20%20var%20html_26446af24d88441ab00415fdaba011be%20%3D%20%24%28%60%3Cdiv%20id%3D%22html_26446af24d88441ab00415fdaba011be%22%20style%3D%22width%3A%20100.0%25%3B%20height%3A%20100.0%25%3B%22%3EId%3A%201091%3Cbr%3EHolyrood%20Road%3Cbr%3EDescription%3A%20Opposite%20St%20Leonards%20Land%3Cbr%3E%3Cbr%3ECounts%3A%203912%3C/div%3E%60%29%5B0%5D%3B%0A%20%20%20%20%20%20%20%20%20%20%20%20popup_c11824e7ce78459ea4fd25cba7eadedb.setContent%28html_26446af24d88441ab00415fdaba011be%29%3B%0A%20%20%20%20%20%20%20%20%0A%0A%20%20%20%20%20%20%20%20marker_19ee256900bc41c0bfc9da9428ccadc4.bindPopup%28popup_c11824e7ce78459ea4fd25cba7eadedb%29%0A%20%20%20%20%20%20%20%20%3B%0A%0A%20%20%20%20%20%20%20%20%0A%20%20%20%20%0A%20%20%20%20%0A%20%20%20%20%20%20%20%20%20%20%20%20var%20marker_754bd0ea4308468b9485675259dcad28%20%3D%20L.marker%28%0A%20%20%20%20%20%20%20%20%20%20%20%20%20%20%20%20%5B55.927985349796536%2C%20-3.209749771944871%5D%2C%0A%20%20%20%20%20%20%20%20%20%20%20%20%20%20%20%20%7B%7D%0A%20%20%20%20%20%20%20%20%20%20%20%20%29.addTo%28marker_cluster_ada872b66f8d4492ab77f3dff857f701%29%3B%0A%20%20%20%20%20%20%20%20%0A%20%20%20%20%0A%20%20%20%20%20%20%20%20%20%20%20%20var%20icon_46529cdafd174118bb196f11c6d4a3f5%20%3D%20L.AwesomeMarkers.icon%28%0A%20%20%20%20%20%20%20%20%20%20%20%20%20%20%20%20%7B%22extraClasses%22%3A%20%22fa-rotate-0%22%2C%20%22icon%22%3A%20%22bicycle%22%2C%20%22iconColor%22%3A%20%22white%22%2C%20%22markerColor%22%3A%20%22darkblue%22%2C%20%22prefix%22%3A%20%22fa%22%7D%0A%20%20%20%20%20%20%20%20%20%20%20%20%29%3B%0A%20%20%20%20%20%20%20%20%20%20%20%20marker_754bd0ea4308468b9485675259dcad28.setIcon%28icon_46529cdafd174118bb196f11c6d4a3f5%29%3B%0A%20%20%20%20%20%20%20%20%0A%20%20%20%20%0A%20%20%20%20%20%20%20%20var%20popup_4d71ca082cee443a96ae2158b784572a%20%3D%20L.popup%28%7B%22maxWidth%22%3A%20%22100%25%22%7D%29%3B%0A%0A%20%20%20%20%20%20%20%20%0A%20%20%20%20%20%20%20%20%20%20%20%20var%20html_fbca43bfc81e4353a41330a86cf5259a%20%3D%20%24%28%60%3Cdiv%20id%3D%22html_fbca43bfc81e4353a41330a86cf5259a%22%20style%3D%22width%3A%20100.0%25%3B%20height%3A%20100.0%25%3B%22%3EId%3A%201744%3Cbr%3EMorningside%20Road%3Cbr%3EDescription%3A%20Corner%20of%20Morningside%20Park%2C%20beside%20M%26S%3Cbr%3E%3Cbr%3ECounts%3A%203735%3C/div%3E%60%29%5B0%5D%3B%0A%20%20%20%20%20%20%20%20%20%20%20%20popup_4d71ca082cee443a96ae2158b784572a.setContent%28html_fbca43bfc81e4353a41330a86cf5259a%29%3B%0A%20%20%20%20%20%20%20%20%0A%0A%20%20%20%20%20%20%20%20marker_754bd0ea4308468b9485675259dcad28.bindPopup%28popup_4d71ca082cee443a96ae2158b784572a%29%0A%20%20%20%20%20%20%20%20%3B%0A%0A%20%20%20%20%20%20%20%20%0A%20%20%20%20%0A%20%20%20%20%0A%20%20%20%20%20%20%20%20%20%20%20%20var%20marker_a18c6334b56f4fcab9e11ad61877ba0f%20%3D%20L.marker%28%0A%20%20%20%20%20%20%20%20%20%20%20%20%20%20%20%20%5B55.9640310527501%2C%20-3.185175372950425%5D%2C%0A%20%20%20%20%20%20%20%20%20%20%20%20%20%20%20%20%7B%7D%0A%20%20%20%20%20%20%20%20%20%20%20%20%29.addTo%28marker_cluster_ada872b66f8d4492ab77f3dff857f701%29%3B%0A%20%20%20%20%20%20%20%20%0A%20%20%20%20%0A%20%20%20%20%20%20%20%20%20%20%20%20var%20icon_4f7808b9de0b4198a317d9cdb15f5997%20%3D%20L.AwesomeMarkers.icon%28%0A%20%20%20%20%20%20%20%20%20%20%20%20%20%20%20%20%7B%22extraClasses%22%3A%20%22fa-rotate-0%22%2C%20%22icon%22%3A%20%22bicycle%22%2C%20%22iconColor%22%3A%20%22white%22%2C%20%22markerColor%22%3A%20%22darkblue%22%2C%20%22prefix%22%3A%20%22fa%22%7D%0A%20%20%20%20%20%20%20%20%20%20%20%20%29%3B%0A%20%20%20%20%20%20%20%20%20%20%20%20marker_a18c6334b56f4fcab9e11ad61877ba0f.setIcon%28icon_4f7808b9de0b4198a317d9cdb15f5997%29%3B%0A%20%20%20%20%20%20%20%20%0A%20%20%20%20%0A%20%20%20%20%20%20%20%20var%20popup_bd4ff262cd854ce4a31dc90931c5bc79%20%3D%20L.popup%28%7B%22maxWidth%22%3A%20%22100%25%22%7D%29%3B%0A%0A%20%20%20%20%20%20%20%20%0A%20%20%20%20%20%20%20%20%20%20%20%20var%20html_dd7b726fc5bb4189a09ac53dfde75d8c%20%3D%20%24%28%60%3Cdiv%20id%3D%22html_dd7b726fc5bb4189a09ac53dfde75d8c%22%20style%3D%22width%3A%20100.0%25%3B%20height%3A%20100.0%25%3B%22%3EId%3A%201729%3Cbr%3EMcDonald%20Road%3Cbr%3EDescription%3A%20Next%20to%20Fire%20Station%3Cbr%3E%3Cbr%3ECounts%3A%203672%3C/div%3E%60%29%5B0%5D%3B%0A%20%20%20%20%20%20%20%20%20%20%20%20popup_bd4ff262cd854ce4a31dc90931c5bc79.setContent%28html_dd7b726fc5bb4189a09ac53dfde75d8c%29%3B%0A%20%20%20%20%20%20%20%20%0A%0A%20%20%20%20%20%20%20%20marker_a18c6334b56f4fcab9e11ad61877ba0f.bindPopup%28popup_bd4ff262cd854ce4a31dc90931c5bc79%29%0A%20%20%20%20%20%20%20%20%3B%0A%0A%20%20%20%20%20%20%20%20%0A%20%20%20%20%0A%20%20%20%20%0A%20%20%20%20%20%20%20%20%20%20%20%20var%20marker_48eb40ca6eb2473982e074f1c93732d0%20%3D%20L.marker%28%0A%20%20%20%20%20%20%20%20%20%20%20%20%20%20%20%20%5B55.93836921723555%2C%20-3.198032688546618%5D%2C%0A%20%20%20%20%20%20%20%20%20%20%20%20%20%20%20%20%7B%7D%0A%20%20%20%20%20%20%20%20%20%20%20%20%29.addTo%28marker_cluster_ada872b66f8d4492ab77f3dff857f701%29%3B%0A%20%20%20%20%20%20%20%20%0A%20%20%20%20%0A%20%20%20%20%20%20%20%20%20%20%20%20var%20icon_4c661e748c5b42b1b18d9c15d8a3cfbf%20%3D%20L.AwesomeMarkers.icon%28%0A%20%20%20%20%20%20%20%20%20%20%20%20%20%20%20%20%7B%22extraClasses%22%3A%20%22fa-rotate-0%22%2C%20%22icon%22%3A%20%22bicycle%22%2C%20%22iconColor%22%3A%20%22white%22%2C%20%22markerColor%22%3A%20%22darkblue%22%2C%20%22prefix%22%3A%20%22fa%22%7D%0A%20%20%20%20%20%20%20%20%20%20%20%20%29%3B%0A%20%20%20%20%20%20%20%20%20%20%20%20marker_48eb40ca6eb2473982e074f1c93732d0.setIcon%28icon_4c661e748c5b42b1b18d9c15d8a3cfbf%29%3B%0A%20%20%20%20%20%20%20%20%0A%20%20%20%20%0A%20%20%20%20%20%20%20%20var%20popup_b2b362541f0e49b3b23132c826230169%20%3D%20L.popup%28%7B%22maxWidth%22%3A%20%22100%25%22%7D%29%3B%0A%0A%20%20%20%20%20%20%20%20%0A%20%20%20%20%20%20%20%20%20%20%20%20var%20html_77a1e156c9504e33895f0d4def7abce5%20%3D%20%24%28%60%3Cdiv%20id%3D%22html_77a1e156c9504e33895f0d4def7abce5%22%20style%3D%22width%3A%20100.0%25%3B%20height%3A%20100.0%25%3B%22%3EId%3A%201051%3Cbr%3EWarrender%20Park%20Road%3Cbr%3EDescription%3A%20On%20corner%20with%20Spottiswoode%20Street%3Cbr%3E%3Cbr%3ECounts%3A%203560%3C/div%3E%60%29%5B0%5D%3B%0A%20%20%20%20%20%20%20%20%20%20%20%20popup_b2b362541f0e49b3b23132c826230169.setContent%28html_77a1e156c9504e33895f0d4def7abce5%29%3B%0A%20%20%20%20%20%20%20%20%0A%0A%20%20%20%20%20%20%20%20marker_48eb40ca6eb2473982e074f1c93732d0.bindPopup%28popup_b2b362541f0e49b3b23132c826230169%29%0A%20%20%20%20%20%20%20%20%3B%0A%0A%20%20%20%20%20%20%20%20%0A%20%20%20%20%0A%20%20%20%20%0A%20%20%20%20%20%20%20%20%20%20%20%20var%20marker_5bbd7f878ef5468fa429933d5813474e%20%3D%20L.marker%28%0A%20%20%20%20%20%20%20%20%20%20%20%20%20%20%20%20%5B55.94607055533778%2C%20-3.210396331000765%5D%2C%0A%20%20%20%20%20%20%20%20%20%20%20%20%20%20%20%20%7B%7D%0A%20%20%20%20%20%20%20%20%20%20%20%20%29.addTo%28marker_cluster_ada872b66f8d4492ab77f3dff857f701%29%3B%0A%20%20%20%20%20%20%20%20%0A%20%20%20%20%0A%20%20%20%20%20%20%20%20%20%20%20%20var%20icon_176784e96145409cb99aa83193224901%20%3D%20L.AwesomeMarkers.icon%28%0A%20%20%20%20%20%20%20%20%20%20%20%20%20%20%20%20%7B%22extraClasses%22%3A%20%22fa-rotate-0%22%2C%20%22icon%22%3A%20%22bicycle%22%2C%20%22iconColor%22%3A%20%22white%22%2C%20%22markerColor%22%3A%20%22darkblue%22%2C%20%22prefix%22%3A%20%22fa%22%7D%0A%20%20%20%20%20%20%20%20%20%20%20%20%29%3B%0A%20%20%20%20%20%20%20%20%20%20%20%20marker_5bbd7f878ef5468fa429933d5813474e.setIcon%28icon_176784e96145409cb99aa83193224901%29%3B%0A%20%20%20%20%20%20%20%20%0A%20%20%20%20%0A%20%20%20%20%20%20%20%20var%20popup_58644a83f1154fe89a1f91f671531448%20%3D%20L.popup%28%7B%22maxWidth%22%3A%20%22100%25%22%7D%29%3B%0A%0A%20%20%20%20%20%20%20%20%0A%20%20%20%20%20%20%20%20%20%20%20%20var%20html_1cc2cfaab9a9460cb3e29eb9307a579e%20%3D%20%24%28%60%3Cdiv%20id%3D%22html_1cc2cfaab9a9460cb3e29eb9307a579e%22%20style%3D%22width%3A%20100.0%25%3B%20height%3A%20100.0%25%3B%22%3EId%3A%201050%3Cbr%3EEICC%3Cbr%3EDescription%3A%20Outside%20Edinburgh%20International%20Conference%20Centre%3Cbr%3E%3Cbr%3ECounts%3A%203460%3C/div%3E%60%29%5B0%5D%3B%0A%20%20%20%20%20%20%20%20%20%20%20%20popup_58644a83f1154fe89a1f91f671531448.setContent%28html_1cc2cfaab9a9460cb3e29eb9307a579e%29%3B%0A%20%20%20%20%20%20%20%20%0A%0A%20%20%20%20%20%20%20%20marker_5bbd7f878ef5468fa429933d5813474e.bindPopup%28popup_58644a83f1154fe89a1f91f671531448%29%0A%20%20%20%20%20%20%20%20%3B%0A%0A%20%20%20%20%20%20%20%20%0A%20%20%20%20%0A%20%20%20%20%0A%20%20%20%20%20%20%20%20%20%20%20%20var%20marker_f613fc0fdf66470ba14a51be8ef6d5b9%20%3D%20L.marker%28%0A%20%20%20%20%20%20%20%20%20%20%20%20%20%20%20%20%5B55.9607624081837%2C%20-3.201278014771333%5D%2C%0A%20%20%20%20%20%20%20%20%20%20%20%20%20%20%20%20%7B%7D%0A%20%20%20%20%20%20%20%20%20%20%20%20%29.addTo%28marker_cluster_ada872b66f8d4492ab77f3dff857f701%29%3B%0A%20%20%20%20%20%20%20%20%0A%20%20%20%20%0A%20%20%20%20%20%20%20%20%20%20%20%20var%20icon_5b7776421d53464d965a3784935c3ef8%20%3D%20L.AwesomeMarkers.icon%28%0A%20%20%20%20%20%20%20%20%20%20%20%20%20%20%20%20%7B%22extraClasses%22%3A%20%22fa-rotate-0%22%2C%20%22icon%22%3A%20%22bicycle%22%2C%20%22iconColor%22%3A%20%22white%22%2C%20%22markerColor%22%3A%20%22darkblue%22%2C%20%22prefix%22%3A%20%22fa%22%7D%0A%20%20%20%20%20%20%20%20%20%20%20%20%29%3B%0A%20%20%20%20%20%20%20%20%20%20%20%20marker_f613fc0fdf66470ba14a51be8ef6d5b9.setIcon%28icon_5b7776421d53464d965a3784935c3ef8%29%3B%0A%20%20%20%20%20%20%20%20%0A%20%20%20%20%0A%20%20%20%20%20%20%20%20var%20popup_750ad698e0b54865b9b598c4ea0a4a77%20%3D%20L.popup%28%7B%22maxWidth%22%3A%20%22100%25%22%7D%29%3B%0A%0A%20%20%20%20%20%20%20%20%0A%20%20%20%20%20%20%20%20%20%20%20%20var%20html_fb0ef52fa05244bd8d1a1a3126a58e35%20%3D%20%24%28%60%3Cdiv%20id%3D%22html_fb0ef52fa05244bd8d1a1a3126a58e35%22%20style%3D%22width%3A%20100.0%25%3B%20height%3A%20100.0%25%3B%22%3EId%3A%201720%3Cbr%3EDundas%20Street%3Cbr%3EDescription%3A%20On%20corner%20of%20Henderson%20Row%3Cbr%3E%3Cbr%3ECounts%3A%203318%3C/div%3E%60%29%5B0%5D%3B%0A%20%20%20%20%20%20%20%20%20%20%20%20popup_750ad698e0b54865b9b598c4ea0a4a77.setContent%28html_fb0ef52fa05244bd8d1a1a3126a58e35%29%3B%0A%20%20%20%20%20%20%20%20%0A%0A%20%20%20%20%20%20%20%20marker_f613fc0fdf66470ba14a51be8ef6d5b9.bindPopup%28popup_750ad698e0b54865b9b598c4ea0a4a77%29%0A%20%20%20%20%20%20%20%20%3B%0A%0A%20%20%20%20%20%20%20%20%0A%20%20%20%20%0A%20%20%20%20%0A%20%20%20%20%20%20%20%20%20%20%20%20var%20marker_049070e00b1b403388909ceaf50ec5ce%20%3D%20L.marker%28%0A%20%20%20%20%20%20%20%20%20%20%20%20%20%20%20%20%5B55.95316433242384%2C%20-3.181682340931843%5D%2C%0A%20%20%20%20%20%20%20%20%20%20%20%20%20%20%20%20%7B%7D%0A%20%20%20%20%20%20%20%20%20%20%20%20%29.addTo%28marker_cluster_ada872b66f8d4492ab77f3dff857f701%29%3B%0A%20%20%20%20%20%20%20%20%0A%20%20%20%20%0A%20%20%20%20%20%20%20%20%20%20%20%20var%20icon_e63d0df9274e44729f992aead9157892%20%3D%20L.AwesomeMarkers.icon%28%0A%20%20%20%20%20%20%20%20%20%20%20%20%20%20%20%20%7B%22extraClasses%22%3A%20%22fa-rotate-0%22%2C%20%22icon%22%3A%20%22bicycle%22%2C%20%22iconColor%22%3A%20%22white%22%2C%20%22markerColor%22%3A%20%22darkblue%22%2C%20%22prefix%22%3A%20%22fa%22%7D%0A%20%20%20%20%20%20%20%20%20%20%20%20%29%3B%0A%20%20%20%20%20%20%20%20%20%20%20%20marker_049070e00b1b403388909ceaf50ec5ce.setIcon%28icon_e63d0df9274e44729f992aead9157892%29%3B%0A%20%20%20%20%20%20%20%20%0A%20%20%20%20%0A%20%20%20%20%20%20%20%20var%20popup_f3882cd0959c4f669296a500b09d6476%20%3D%20L.popup%28%7B%22maxWidth%22%3A%20%22100%25%22%7D%29%3B%0A%0A%20%20%20%20%20%20%20%20%0A%20%20%20%20%20%20%20%20%20%20%20%20var%20html_c7bba5789c424510a5af583e9ec1a55f%20%3D%20%24%28%60%3Cdiv%20id%3D%22html_c7bba5789c424510a5af583e9ec1a55f%22%20style%3D%22width%3A%20100.0%25%3B%20height%3A%20100.0%25%3B%22%3EId%3A%20256%3Cbr%3ESt%20Andrews%20House%3Cbr%3EDescription%3A%20beside%20Jacobs%20ladder%3Cbr%3E%3Cbr%3ECounts%3A%203250%3C/div%3E%60%29%5B0%5D%3B%0A%20%20%20%20%20%20%20%20%20%20%20%20popup_f3882cd0959c4f669296a500b09d6476.setContent%28html_c7bba5789c424510a5af583e9ec1a55f%29%3B%0A%20%20%20%20%20%20%20%20%0A%0A%20%20%20%20%20%20%20%20marker_049070e00b1b403388909ceaf50ec5ce.bindPopup%28popup_f3882cd0959c4f669296a500b09d6476%29%0A%20%20%20%20%20%20%20%20%3B%0A%0A%20%20%20%20%20%20%20%20%0A%20%20%20%20%0A%20%20%20%20%0A%20%20%20%20%20%20%20%20%20%20%20%20var%20marker_7b5a4001f65746efa1d472c1ced869c0%20%3D%20L.marker%28%0A%20%20%20%20%20%20%20%20%20%20%20%20%20%20%20%20%5B55.94894930668582%2C%20-3.094727261654725%5D%2C%0A%20%20%20%20%20%20%20%20%20%20%20%20%20%20%20%20%7B%7D%0A%20%20%20%20%20%20%20%20%20%20%20%20%29.addTo%28marker_cluster_ada872b66f8d4492ab77f3dff857f701%29%3B%0A%20%20%20%20%20%20%20%20%0A%20%20%20%20%0A%20%20%20%20%20%20%20%20%20%20%20%20var%20icon_3c3a18a10b324e6da1fb6a2f784e11df%20%3D%20L.AwesomeMarkers.icon%28%0A%20%20%20%20%20%20%20%20%20%20%20%20%20%20%20%20%7B%22extraClasses%22%3A%20%22fa-rotate-0%22%2C%20%22icon%22%3A%20%22bicycle%22%2C%20%22iconColor%22%3A%20%22white%22%2C%20%22markerColor%22%3A%20%22darkblue%22%2C%20%22prefix%22%3A%20%22fa%22%7D%0A%20%20%20%20%20%20%20%20%20%20%20%20%29%3B%0A%20%20%20%20%20%20%20%20%20%20%20%20marker_7b5a4001f65746efa1d472c1ced869c0.setIcon%28icon_3c3a18a10b324e6da1fb6a2f784e11df%29%3B%0A%20%20%20%20%20%20%20%20%0A%20%20%20%20%0A%20%20%20%20%20%20%20%20var%20popup_8b018cf35265401ebb578196f8aa6ba3%20%3D%20L.popup%28%7B%22maxWidth%22%3A%20%22100%25%22%7D%29%3B%0A%0A%20%20%20%20%20%20%20%20%0A%20%20%20%20%20%20%20%20%20%20%20%20var%20html_34bff02a390744a390a42e729ba2daaa%20%3D%20%24%28%60%3Cdiv%20id%3D%22html_34bff02a390744a390a42e729ba2daaa%22%20style%3D%22width%3A%20100.0%25%3B%20height%3A%20100.0%25%3B%22%3EId%3A%201800%3Cbr%3EJoppa%3Cbr%3EDescription%3A%20East%20end%20of%20Promenade%3Cbr%3E%3Cbr%3ECounts%3A%203240%3C/div%3E%60%29%5B0%5D%3B%0A%20%20%20%20%20%20%20%20%20%20%20%20popup_8b018cf35265401ebb578196f8aa6ba3.setContent%28html_34bff02a390744a390a42e729ba2daaa%29%3B%0A%20%20%20%20%20%20%20%20%0A%0A%20%20%20%20%20%20%20%20marker_7b5a4001f65746efa1d472c1ced869c0.bindPopup%28popup_8b018cf35265401ebb578196f8aa6ba3%29%0A%20%20%20%20%20%20%20%20%3B%0A%0A%20%20%20%20%20%20%20%20%0A%20%20%20%20%0A%20%20%20%20%0A%20%20%20%20%20%20%20%20%20%20%20%20var%20marker_0bac2107b0a943e08babecf25b0bdaf9%20%3D%20L.marker%28%0A%20%20%20%20%20%20%20%20%20%20%20%20%20%20%20%20%5B55.94556945067266%2C%20-3.21818468327956%5D%2C%0A%20%20%20%20%20%20%20%20%20%20%20%20%20%20%20%20%7B%7D%0A%20%20%20%20%20%20%20%20%20%20%20%20%29.addTo%28marker_cluster_ada872b66f8d4492ab77f3dff857f701%29%3B%0A%20%20%20%20%20%20%20%20%0A%20%20%20%20%0A%20%20%20%20%20%20%20%20%20%20%20%20var%20icon_2cf4dfeeed2f43dca4382f013e9b516d%20%3D%20L.AwesomeMarkers.icon%28%0A%20%20%20%20%20%20%20%20%20%20%20%20%20%20%20%20%7B%22extraClasses%22%3A%20%22fa-rotate-0%22%2C%20%22icon%22%3A%20%22bicycle%22%2C%20%22iconColor%22%3A%20%22white%22%2C%20%22markerColor%22%3A%20%22darkblue%22%2C%20%22prefix%22%3A%20%22fa%22%7D%0A%20%20%20%20%20%20%20%20%20%20%20%20%29%3B%0A%20%20%20%20%20%20%20%20%20%20%20%20marker_0bac2107b0a943e08babecf25b0bdaf9.setIcon%28icon_2cf4dfeeed2f43dca4382f013e9b516d%29%3B%0A%20%20%20%20%20%20%20%20%0A%20%20%20%20%0A%20%20%20%20%20%20%20%20var%20popup_4bacb8dcfb91480891cec181c238f952%20%3D%20L.popup%28%7B%22maxWidth%22%3A%20%22100%25%22%7D%29%3B%0A%0A%20%20%20%20%20%20%20%20%0A%20%20%20%20%20%20%20%20%20%20%20%20var%20html_b4c1882284a242f3b03600580d5f9b57%20%3D%20%24%28%60%3Cdiv%20id%3D%22html_b4c1882284a242f3b03600580d5f9b57%22%20style%3D%22width%3A%20100.0%25%3B%20height%3A%20100.0%25%3B%22%3EId%3A%201102%3Cbr%3EHaymarket%20Station%3Cbr%3EDescription%3A%20Haymarket%20Station%3Cbr%3E%3Cbr%3ECounts%3A%203226%3C/div%3E%60%29%5B0%5D%3B%0A%20%20%20%20%20%20%20%20%20%20%20%20popup_4bacb8dcfb91480891cec181c238f952.setContent%28html_b4c1882284a242f3b03600580d5f9b57%29%3B%0A%20%20%20%20%20%20%20%20%0A%0A%20%20%20%20%20%20%20%20marker_0bac2107b0a943e08babecf25b0bdaf9.bindPopup%28popup_4bacb8dcfb91480891cec181c238f952%29%0A%20%20%20%20%20%20%20%20%3B%0A%0A%20%20%20%20%20%20%20%20%0A%20%20%20%20%0A%20%20%20%20%0A%20%20%20%20%20%20%20%20%20%20%20%20var%20marker_25ca42c98d1244bc821dfa0e9853a9fe%20%3D%20L.marker%28%0A%20%20%20%20%20%20%20%20%20%20%20%20%20%20%20%20%5B55.94664279961712%2C%20-3.185474585938891%5D%2C%0A%20%20%20%20%20%20%20%20%20%20%20%20%20%20%20%20%7B%7D%0A%20%20%20%20%20%20%20%20%20%20%20%20%29.addTo%28marker_cluster_ada872b66f8d4492ab77f3dff857f701%29%3B%0A%20%20%20%20%20%20%20%20%0A%20%20%20%20%0A%20%20%20%20%20%20%20%20%20%20%20%20var%20icon_1784aed983174a1c9c78faea7c3188a2%20%3D%20L.AwesomeMarkers.icon%28%0A%20%20%20%20%20%20%20%20%20%20%20%20%20%20%20%20%7B%22extraClasses%22%3A%20%22fa-rotate-0%22%2C%20%22icon%22%3A%20%22bicycle%22%2C%20%22iconColor%22%3A%20%22white%22%2C%20%22markerColor%22%3A%20%22darkblue%22%2C%20%22prefix%22%3A%20%22fa%22%7D%0A%20%20%20%20%20%20%20%20%20%20%20%20%29%3B%0A%20%20%20%20%20%20%20%20%20%20%20%20marker_25ca42c98d1244bc821dfa0e9853a9fe.setIcon%28icon_1784aed983174a1c9c78faea7c3188a2%29%3B%0A%20%20%20%20%20%20%20%20%0A%20%20%20%20%0A%20%20%20%20%20%20%20%20var%20popup_f2c8d59651c648f0a9b4af8e9efab8d2%20%3D%20L.popup%28%7B%22maxWidth%22%3A%20%22100%25%22%7D%29%3B%0A%0A%20%20%20%20%20%20%20%20%0A%20%20%20%20%20%20%20%20%20%20%20%20var%20html_79ab8ce8b7954b96a7caa24713916f95%20%3D%20%24%28%60%3Cdiv%20id%3D%22html_79ab8ce8b7954b96a7caa24713916f95%22%20style%3D%22width%3A%20100.0%25%3B%20height%3A%20100.0%25%3B%22%3EId%3A%201052%3Cbr%3ESurgeons%20Hall%3Cbr%3EDescription%3A%20East%20side%20of%20Nicolson%20Street%3Cbr%3E%3Cbr%3ECounts%3A%203216%3C/div%3E%60%29%5B0%5D%3B%0A%20%20%20%20%20%20%20%20%20%20%20%20popup_f2c8d59651c648f0a9b4af8e9efab8d2.setContent%28html_79ab8ce8b7954b96a7caa24713916f95%29%3B%0A%20%20%20%20%20%20%20%20%0A%0A%20%20%20%20%20%20%20%20marker_25ca42c98d1244bc821dfa0e9853a9fe.bindPopup%28popup_f2c8d59651c648f0a9b4af8e9efab8d2%29%0A%20%20%20%20%20%20%20%20%3B%0A%0A%20%20%20%20%20%20%20%20%0A%20%20%20%20%0A%20%20%20%20%0A%20%20%20%20%20%20%20%20%20%20%20%20var%20marker_8220286670af4de4adae8fcdfc8cfdba%20%3D%20L.marker%28%0A%20%20%20%20%20%20%20%20%20%20%20%20%20%20%20%20%5B55.92347880784664%2C%20-3.175384584907078%5D%2C%0A%20%20%20%20%20%20%20%20%20%20%20%20%20%20%20%20%7B%7D%0A%20%20%20%20%20%20%20%20%20%20%20%20%29.addTo%28marker_cluster_ada872b66f8d4492ab77f3dff857f701%29%3B%0A%20%20%20%20%20%20%20%20%0A%20%20%20%20%0A%20%20%20%20%20%20%20%20%20%20%20%20var%20icon_981d2bbc56c14ecc8bf1abd36eb64d04%20%3D%20L.AwesomeMarkers.icon%28%0A%20%20%20%20%20%20%20%20%20%20%20%20%20%20%20%20%7B%22extraClasses%22%3A%20%22fa-rotate-0%22%2C%20%22icon%22%3A%20%22bicycle%22%2C%20%22iconColor%22%3A%20%22white%22%2C%20%22markerColor%22%3A%20%22darkblue%22%2C%20%22prefix%22%3A%20%22fa%22%7D%0A%20%20%20%20%20%20%20%20%20%20%20%20%29%3B%0A%20%20%20%20%20%20%20%20%20%20%20%20marker_8220286670af4de4adae8fcdfc8cfdba.setIcon%28icon_981d2bbc56c14ecc8bf1abd36eb64d04%29%3B%0A%20%20%20%20%20%20%20%20%0A%20%20%20%20%0A%20%20%20%20%20%20%20%20var%20popup_97730fa54c314e51b13b9dabb0123f64%20%3D%20L.popup%28%7B%22maxWidth%22%3A%20%22100%25%22%7D%29%3B%0A%0A%20%20%20%20%20%20%20%20%0A%20%20%20%20%20%20%20%20%20%20%20%20var%20html_8072002175e849479a767b76336d4d4f%20%3D%20%24%28%60%3Cdiv%20id%3D%22html_8072002175e849479a767b76336d4d4f%22%20style%3D%22width%3A%20100.0%25%3B%20height%3A%20100.0%25%3B%22%3EId%3A%20254%3Cbr%3EKings%20Building%203%3Cbr%3EDescription%3A%20Kings%20Building%20House%3Cbr%3E%3Cbr%3ECounts%3A%203176%3C/div%3E%60%29%5B0%5D%3B%0A%20%20%20%20%20%20%20%20%20%20%20%20popup_97730fa54c314e51b13b9dabb0123f64.setContent%28html_8072002175e849479a767b76336d4d4f%29%3B%0A%20%20%20%20%20%20%20%20%0A%0A%20%20%20%20%20%20%20%20marker_8220286670af4de4adae8fcdfc8cfdba.bindPopup%28popup_97730fa54c314e51b13b9dabb0123f64%29%0A%20%20%20%20%20%20%20%20%3B%0A%0A%20%20%20%20%20%20%20%20%0A%20%20%20%20%0A%20%20%20%20%0A%20%20%20%20%20%20%20%20%20%20%20%20var%20marker_2992e743b0ae4d23a802bdc78c041d77%20%3D%20L.marker%28%0A%20%20%20%20%20%20%20%20%20%20%20%20%20%20%20%20%5B55.9364319181482%2C%20-3.194150044314256%5D%2C%0A%20%20%20%20%20%20%20%20%20%20%20%20%20%20%20%20%7B%7D%0A%20%20%20%20%20%20%20%20%20%20%20%20%29.addTo%28marker_cluster_ada872b66f8d4492ab77f3dff857f701%29%3B%0A%20%20%20%20%20%20%20%20%0A%20%20%20%20%0A%20%20%20%20%20%20%20%20%20%20%20%20var%20icon_091248f9bd9442fbb2b769fbf4d56a14%20%3D%20L.AwesomeMarkers.icon%28%0A%20%20%20%20%20%20%20%20%20%20%20%20%20%20%20%20%7B%22extraClasses%22%3A%20%22fa-rotate-0%22%2C%20%22icon%22%3A%20%22bicycle%22%2C%20%22iconColor%22%3A%20%22white%22%2C%20%22markerColor%22%3A%20%22darkblue%22%2C%20%22prefix%22%3A%20%22fa%22%7D%0A%20%20%20%20%20%20%20%20%20%20%20%20%29%3B%0A%20%20%20%20%20%20%20%20%20%20%20%20marker_2992e743b0ae4d23a802bdc78c041d77.setIcon%28icon_091248f9bd9442fbb2b769fbf4d56a14%29%3B%0A%20%20%20%20%20%20%20%20%0A%20%20%20%20%0A%20%20%20%20%20%20%20%20var%20popup_a923343da9f840cfbd5a73e4d6e6af33%20%3D%20L.popup%28%7B%22maxWidth%22%3A%20%22100%25%22%7D%29%3B%0A%0A%20%20%20%20%20%20%20%20%0A%20%20%20%20%20%20%20%20%20%20%20%20var%20html_ca7e28dda18448108f1efa3307c4ef57%20%3D%20%24%28%60%3Cdiv%20id%3D%22html_ca7e28dda18448108f1efa3307c4ef57%22%20style%3D%22width%3A%20100.0%25%3B%20height%3A%20100.0%25%3B%22%3EId%3A%201098%3Cbr%3EMarchmont%20Crescent%3Cbr%3EDescription%3A%20Corner%20of%20Marchmont%20Road%3Cbr%3E%3Cbr%3ECounts%3A%203102%3C/div%3E%60%29%5B0%5D%3B%0A%20%20%20%20%20%20%20%20%20%20%20%20popup_a923343da9f840cfbd5a73e4d6e6af33.setContent%28html_ca7e28dda18448108f1efa3307c4ef57%29%3B%0A%20%20%20%20%20%20%20%20%0A%0A%20%20%20%20%20%20%20%20marker_2992e743b0ae4d23a802bdc78c041d77.bindPopup%28popup_a923343da9f840cfbd5a73e4d6e6af33%29%0A%20%20%20%20%20%20%20%20%3B%0A%0A%20%20%20%20%20%20%20%20%0A%20%20%20%20%0A%20%20%20%20%0A%20%20%20%20%20%20%20%20%20%20%20%20var%20marker_bb4dea18b00f4fc39daa221514f96e1c%20%3D%20L.marker%28%0A%20%20%20%20%20%20%20%20%20%20%20%20%20%20%20%20%5B55.95995414501485%2C%20-3.187197758547654%5D%2C%0A%20%20%20%20%20%20%20%20%20%20%20%20%20%20%20%20%7B%7D%0A%20%20%20%20%20%20%20%20%20%20%20%20%29.addTo%28marker_cluster_ada872b66f8d4492ab77f3dff857f701%29%3B%0A%20%20%20%20%20%20%20%20%0A%20%20%20%20%0A%20%20%20%20%20%20%20%20%20%20%20%20var%20icon_c20e94ffb92f4da482274a885ca22c22%20%3D%20L.AwesomeMarkers.icon%28%0A%20%20%20%20%20%20%20%20%20%20%20%20%20%20%20%20%7B%22extraClasses%22%3A%20%22fa-rotate-0%22%2C%20%22icon%22%3A%20%22bicycle%22%2C%20%22iconColor%22%3A%20%22white%22%2C%20%22markerColor%22%3A%20%22darkblue%22%2C%20%22prefix%22%3A%20%22fa%22%7D%0A%20%20%20%20%20%20%20%20%20%20%20%20%29%3B%0A%20%20%20%20%20%20%20%20%20%20%20%20marker_bb4dea18b00f4fc39daa221514f96e1c.setIcon%28icon_c20e94ffb92f4da482274a885ca22c22%29%3B%0A%20%20%20%20%20%20%20%20%0A%20%20%20%20%0A%20%20%20%20%20%20%20%20var%20popup_f541d0b06427456fa40b5472be0af105%20%3D%20L.popup%28%7B%22maxWidth%22%3A%20%22100%25%22%7D%29%3B%0A%0A%20%20%20%20%20%20%20%20%0A%20%20%20%20%20%20%20%20%20%20%20%20var%20html_b6148efed0784bbe8d59b5681a80109b%20%3D%20%24%28%60%3Cdiv%20id%3D%22html_b6148efed0784bbe8d59b5681a80109b%22%20style%3D%22width%3A%20100.0%25%3B%20height%3A%20100.0%25%3B%22%3EId%3A%201730%3Cbr%3EEast%20London%20Street%3Cbr%3EDescription%3A%20Outside%20St%20Mary%27s%20Primary%20School%3Cbr%3E%3Cbr%3ECounts%3A%203063%3C/div%3E%60%29%5B0%5D%3B%0A%20%20%20%20%20%20%20%20%20%20%20%20popup_f541d0b06427456fa40b5472be0af105.setContent%28html_b6148efed0784bbe8d59b5681a80109b%29%3B%0A%20%20%20%20%20%20%20%20%0A%0A%20%20%20%20%20%20%20%20marker_bb4dea18b00f4fc39daa221514f96e1c.bindPopup%28popup_f541d0b06427456fa40b5472be0af105%29%0A%20%20%20%20%20%20%20%20%3B%0A%0A%20%20%20%20%20%20%20%20%0A%20%20%20%20%0A%20%20%20%20%0A%20%20%20%20%20%20%20%20%20%20%20%20var%20marker_0dd79ceba21d4bc587d999a6f6ef8d13%20%3D%20L.marker%28%0A%20%20%20%20%20%20%20%20%20%20%20%20%20%20%20%20%5B55.95941012836135%2C%20-3.215661360613694%5D%2C%0A%20%20%20%20%20%20%20%20%20%20%20%20%20%20%20%20%7B%7D%0A%20%20%20%20%20%20%20%20%20%20%20%20%29.addTo%28marker_cluster_ada872b66f8d4492ab77f3dff857f701%29%3B%0A%20%20%20%20%20%20%20%20%0A%20%20%20%20%0A%20%20%20%20%20%20%20%20%20%20%20%20var%20icon_489d66cdf8c64dc48cacd1413e1a7053%20%3D%20L.AwesomeMarkers.icon%28%0A%20%20%20%20%20%20%20%20%20%20%20%20%20%20%20%20%7B%22extraClasses%22%3A%20%22fa-rotate-0%22%2C%20%22icon%22%3A%20%22bicycle%22%2C%20%22iconColor%22%3A%20%22white%22%2C%20%22markerColor%22%3A%20%22darkblue%22%2C%20%22prefix%22%3A%20%22fa%22%7D%0A%20%20%20%20%20%20%20%20%20%20%20%20%29%3B%0A%20%20%20%20%20%20%20%20%20%20%20%20marker_0dd79ceba21d4bc587d999a6f6ef8d13.setIcon%28icon_489d66cdf8c64dc48cacd1413e1a7053%29%3B%0A%20%20%20%20%20%20%20%20%0A%20%20%20%20%0A%20%20%20%20%20%20%20%20var%20popup_2aa171919da743c9b5469a5de409b741%20%3D%20L.popup%28%7B%22maxWidth%22%3A%20%22100%25%22%7D%29%3B%0A%0A%20%20%20%20%20%20%20%20%0A%20%20%20%20%20%20%20%20%20%20%20%20var%20html_c4d2f5aa4a3749db980a7b66fb9316c0%20%3D%20%24%28%60%3Cdiv%20id%3D%22html_c4d2f5aa4a3749db980a7b66fb9316c0%22%20style%3D%22width%3A%20100.0%25%3B%20height%3A%20100.0%25%3B%22%3EId%3A%201763%3Cbr%3EComely%20Bank%20Road%3Cbr%3EDescription%3A%20Outside%20Raeburn%20Place%20Sports%20Ground%3Cbr%3E%3Cbr%3ECounts%3A%203026%3C/div%3E%60%29%5B0%5D%3B%0A%20%20%20%20%20%20%20%20%20%20%20%20popup_2aa171919da743c9b5469a5de409b741.setContent%28html_c4d2f5aa4a3749db980a7b66fb9316c0%29%3B%0A%20%20%20%20%20%20%20%20%0A%0A%20%20%20%20%20%20%20%20marker_0dd79ceba21d4bc587d999a6f6ef8d13.bindPopup%28popup_2aa171919da743c9b5469a5de409b741%29%0A%20%20%20%20%20%20%20%20%3B%0A%0A%20%20%20%20%20%20%20%20%0A%20%20%20%20%0A%20%20%20%20%0A%20%20%20%20%20%20%20%20%20%20%20%20var%20marker_8421fbf9c3d44d5d873190aaa3b4cd9c%20%3D%20L.marker%28%0A%20%20%20%20%20%20%20%20%20%20%20%20%20%20%20%20%5B55.947097278583385%2C%20-3.1972457326126%5D%2C%0A%20%20%20%20%20%20%20%20%20%20%20%20%20%20%20%20%7B%7D%0A%20%20%20%20%20%20%20%20%20%20%20%20%29.addTo%28marker_cluster_ada872b66f8d4492ab77f3dff857f701%29%3B%0A%20%20%20%20%20%20%20%20%0A%20%20%20%20%0A%20%20%20%20%20%20%20%20%20%20%20%20var%20icon_a42f186dd63047f0b913256c57b497f0%20%3D%20L.AwesomeMarkers.icon%28%0A%20%20%20%20%20%20%20%20%20%20%20%20%20%20%20%20%7B%22extraClasses%22%3A%20%22fa-rotate-0%22%2C%20%22icon%22%3A%20%22bicycle%22%2C%20%22iconColor%22%3A%20%22white%22%2C%20%22markerColor%22%3A%20%22darkblue%22%2C%20%22prefix%22%3A%20%22fa%22%7D%0A%20%20%20%20%20%20%20%20%20%20%20%20%29%3B%0A%20%20%20%20%20%20%20%20%20%20%20%20marker_8421fbf9c3d44d5d873190aaa3b4cd9c.setIcon%28icon_a42f186dd63047f0b913256c57b497f0%29%3B%0A%20%20%20%20%20%20%20%20%0A%20%20%20%20%0A%20%20%20%20%20%20%20%20var%20popup_54c6fc8735b8470d9ad1510ec1067fb5%20%3D%20L.popup%28%7B%22maxWidth%22%3A%20%22100%25%22%7D%29%3B%0A%0A%20%20%20%20%20%20%20%20%0A%20%20%20%20%20%20%20%20%20%20%20%20var%20html_2dc7fc8be53d4c609db0bf4fb2ce3d50%20%3D%20%24%28%60%3Cdiv%20id%3D%22html_2dc7fc8be53d4c609db0bf4fb2ce3d50%22%20style%3D%22width%3A%20100.0%25%3B%20height%3A%20100.0%25%3B%22%3EId%3A%201019%3Cbr%3EGrassmarket%3Cbr%3EDescription%3A%20West%20end%20of%20Grassmarket%3Cbr%3E%3Cbr%3ECounts%3A%202973%3C/div%3E%60%29%5B0%5D%3B%0A%20%20%20%20%20%20%20%20%20%20%20%20popup_54c6fc8735b8470d9ad1510ec1067fb5.setContent%28html_2dc7fc8be53d4c609db0bf4fb2ce3d50%29%3B%0A%20%20%20%20%20%20%20%20%0A%0A%20%20%20%20%20%20%20%20marker_8421fbf9c3d44d5d873190aaa3b4cd9c.bindPopup%28popup_54c6fc8735b8470d9ad1510ec1067fb5%29%0A%20%20%20%20%20%20%20%20%3B%0A%0A%20%20%20%20%20%20%20%20%0A%20%20%20%20%0A%20%20%20%20%0A%20%20%20%20%20%20%20%20%20%20%20%20var%20marker_879b788ed03845f3a49e7c8157bd849f%20%3D%20L.marker%28%0A%20%20%20%20%20%20%20%20%20%20%20%20%20%20%20%20%5B55.95159412232485%2C%20-3.212354285094022%5D%2C%0A%20%20%20%20%20%20%20%20%20%20%20%20%20%20%20%20%7B%7D%0A%20%20%20%20%20%20%20%20%20%20%20%20%29.addTo%28marker_cluster_ada872b66f8d4492ab77f3dff857f701%29%3B%0A%20%20%20%20%20%20%20%20%0A%20%20%20%20%0A%20%20%20%20%20%20%20%20%20%20%20%20var%20icon_0477a9e704874e6e8b141a4fd0d8a4c5%20%3D%20L.AwesomeMarkers.icon%28%0A%20%20%20%20%20%20%20%20%20%20%20%20%20%20%20%20%7B%22extraClasses%22%3A%20%22fa-rotate-0%22%2C%20%22icon%22%3A%20%22bicycle%22%2C%20%22iconColor%22%3A%20%22white%22%2C%20%22markerColor%22%3A%20%22darkblue%22%2C%20%22prefix%22%3A%20%22fa%22%7D%0A%20%20%20%20%20%20%20%20%20%20%20%20%29%3B%0A%20%20%20%20%20%20%20%20%20%20%20%20marker_879b788ed03845f3a49e7c8157bd849f.setIcon%28icon_0477a9e704874e6e8b141a4fd0d8a4c5%29%3B%0A%20%20%20%20%20%20%20%20%0A%20%20%20%20%0A%20%20%20%20%20%20%20%20var%20popup_a60ed8e995ef4fa99bfc5d5265c731d4%20%3D%20L.popup%28%7B%22maxWidth%22%3A%20%22100%25%22%7D%29%3B%0A%0A%20%20%20%20%20%20%20%20%0A%20%20%20%20%20%20%20%20%20%20%20%20var%20html_f883fe07602e499c9f0f4f38ff1dfbb7%20%3D%20%24%28%60%3Cdiv%20id%3D%22html_f883fe07602e499c9f0f4f38ff1dfbb7%22%20style%3D%22width%3A%20100.0%25%3B%20height%3A%20100.0%25%3B%22%3EId%3A%201821%3Cbr%3EDrumsheugh%20Place%3Cbr%3EDescription%3A%20Corner%20with%20Drumsheugh%20Gardens%3Cbr%3E%3Cbr%3ECounts%3A%202866%3C/div%3E%60%29%5B0%5D%3B%0A%20%20%20%20%20%20%20%20%20%20%20%20popup_a60ed8e995ef4fa99bfc5d5265c731d4.setContent%28html_f883fe07602e499c9f0f4f38ff1dfbb7%29%3B%0A%20%20%20%20%20%20%20%20%0A%0A%20%20%20%20%20%20%20%20marker_879b788ed03845f3a49e7c8157bd849f.bindPopup%28popup_a60ed8e995ef4fa99bfc5d5265c731d4%29%0A%20%20%20%20%20%20%20%20%3B%0A%0A%20%20%20%20%20%20%20%20%0A%20%20%20%20%0A%20%20%20%20%0A%20%20%20%20%20%20%20%20%20%20%20%20var%20marker_4f441ac2cd854df68c80abbcebf168c8%20%3D%20L.marker%28%0A%20%20%20%20%20%20%20%20%20%20%20%20%20%20%20%20%5B55.94478427951007%2C%20-3.186906245433761%5D%2C%0A%20%20%20%20%20%20%20%20%20%20%20%20%20%20%20%20%7B%7D%0A%20%20%20%20%20%20%20%20%20%20%20%20%29.addTo%28marker_cluster_ada872b66f8d4492ab77f3dff857f701%29%3B%0A%20%20%20%20%20%20%20%20%0A%20%20%20%20%0A%20%20%20%20%20%20%20%20%20%20%20%20var%20icon_c4f550ee4f0842c6a3cd9b721ca027b4%20%3D%20L.AwesomeMarkers.icon%28%0A%20%20%20%20%20%20%20%20%20%20%20%20%20%20%20%20%7B%22extraClasses%22%3A%20%22fa-rotate-0%22%2C%20%22icon%22%3A%20%22bicycle%22%2C%20%22iconColor%22%3A%20%22white%22%2C%20%22markerColor%22%3A%20%22darkblue%22%2C%20%22prefix%22%3A%20%22fa%22%7D%0A%20%20%20%20%20%20%20%20%20%20%20%20%29%3B%0A%20%20%20%20%20%20%20%20%20%20%20%20marker_4f441ac2cd854df68c80abbcebf168c8.setIcon%28icon_c4f550ee4f0842c6a3cd9b721ca027b4%29%3B%0A%20%20%20%20%20%20%20%20%0A%20%20%20%20%0A%20%20%20%20%20%20%20%20var%20popup_5e70ada3699d416dbce8e3f120c0c279%20%3D%20L.popup%28%7B%22maxWidth%22%3A%20%22100%25%22%7D%29%3B%0A%0A%20%20%20%20%20%20%20%20%0A%20%20%20%20%20%20%20%20%20%20%20%20var%20html_e12857a747d2428687cb19280da24963%20%3D%20%24%28%60%3Cdiv%20id%3D%22html_e12857a747d2428687cb19280da24963%22%20style%3D%22width%3A%20100.0%25%3B%20height%3A%20100.0%25%3B%22%3EId%3A%201017%3Cbr%3ECrichton%20Street%3Cbr%3EDescription%3A%20East%20end%20of%20street%3Cbr%3E%3Cbr%3ECounts%3A%202814%3C/div%3E%60%29%5B0%5D%3B%0A%20%20%20%20%20%20%20%20%20%20%20%20popup_5e70ada3699d416dbce8e3f120c0c279.setContent%28html_e12857a747d2428687cb19280da24963%29%3B%0A%20%20%20%20%20%20%20%20%0A%0A%20%20%20%20%20%20%20%20marker_4f441ac2cd854df68c80abbcebf168c8.bindPopup%28popup_5e70ada3699d416dbce8e3f120c0c279%29%0A%20%20%20%20%20%20%20%20%3B%0A%0A%20%20%20%20%20%20%20%20%0A%20%20%20%20%0A%20%20%20%20%0A%20%20%20%20%20%20%20%20%20%20%20%20var%20marker_38465e9853684f37bb30f1fccb9faba6%20%3D%20L.marker%28%0A%20%20%20%20%20%20%20%20%20%20%20%20%20%20%20%20%5B55.9387414422504%2C%20-3.229909254900902%5D%2C%0A%20%20%20%20%20%20%20%20%20%20%20%20%20%20%20%20%7B%7D%0A%20%20%20%20%20%20%20%20%20%20%20%20%29.addTo%28marker_cluster_ada872b66f8d4492ab77f3dff857f701%29%3B%0A%20%20%20%20%20%20%20%20%0A%20%20%20%20%0A%20%20%20%20%20%20%20%20%20%20%20%20var%20icon_5fe9284598444475a5f6e2e7c338b617%20%3D%20L.AwesomeMarkers.icon%28%0A%20%20%20%20%20%20%20%20%20%20%20%20%20%20%20%20%7B%22extraClasses%22%3A%20%22fa-rotate-0%22%2C%20%22icon%22%3A%20%22bicycle%22%2C%20%22iconColor%22%3A%20%22white%22%2C%20%22markerColor%22%3A%20%22darkblue%22%2C%20%22prefix%22%3A%20%22fa%22%7D%0A%20%20%20%20%20%20%20%20%20%20%20%20%29%3B%0A%20%20%20%20%20%20%20%20%20%20%20%20marker_38465e9853684f37bb30f1fccb9faba6.setIcon%28icon_5fe9284598444475a5f6e2e7c338b617%29%3B%0A%20%20%20%20%20%20%20%20%0A%20%20%20%20%0A%20%20%20%20%20%20%20%20var%20popup_27179d1ee0ba46a5819257709ffafcf5%20%3D%20L.popup%28%7B%22maxWidth%22%3A%20%22100%25%22%7D%29%3B%0A%0A%20%20%20%20%20%20%20%20%0A%20%20%20%20%20%20%20%20%20%20%20%20var%20html_c9314ae663994120a52dfedb65c9d9fc%20%3D%20%24%28%60%3Cdiv%20id%3D%22html_c9314ae663994120a52dfedb65c9d9fc%22%20style%3D%22width%3A%20100.0%25%3B%20height%3A%20100.0%25%3B%22%3EId%3A%201808%3Cbr%3EGorgie%20Road%3Cbr%3EDescription%3A%20Corner%20with%20McLeod%20Street%3Cbr%3E%3Cbr%3ECounts%3A%202773%3C/div%3E%60%29%5B0%5D%3B%0A%20%20%20%20%20%20%20%20%20%20%20%20popup_27179d1ee0ba46a5819257709ffafcf5.setContent%28html_c9314ae663994120a52dfedb65c9d9fc%29%3B%0A%20%20%20%20%20%20%20%20%0A%0A%20%20%20%20%20%20%20%20marker_38465e9853684f37bb30f1fccb9faba6.bindPopup%28popup_27179d1ee0ba46a5819257709ffafcf5%29%0A%20%20%20%20%20%20%20%20%3B%0A%0A%20%20%20%20%20%20%20%20%0A%20%20%20%20%0A%20%20%20%20%0A%20%20%20%20%20%20%20%20%20%20%20%20var%20marker_c6a5c55fd3d542d995ac567a9e5fc088%20%3D%20L.marker%28%0A%20%20%20%20%20%20%20%20%20%20%20%20%20%20%20%20%5B55.96411787988959%2C%20-3.202094747416367%5D%2C%0A%20%20%20%20%20%20%20%20%20%20%20%20%20%20%20%20%7B%7D%0A%20%20%20%20%20%20%20%20%20%20%20%20%29.addTo%28marker_cluster_ada872b66f8d4492ab77f3dff857f701%29%3B%0A%20%20%20%20%20%20%20%20%0A%20%20%20%20%0A%20%20%20%20%20%20%20%20%20%20%20%20var%20icon_72fda3a917414f89aaaa08af2375d915%20%3D%20L.AwesomeMarkers.icon%28%0A%20%20%20%20%20%20%20%20%20%20%20%20%20%20%20%20%7B%22extraClasses%22%3A%20%22fa-rotate-0%22%2C%20%22icon%22%3A%20%22bicycle%22%2C%20%22iconColor%22%3A%20%22white%22%2C%20%22markerColor%22%3A%20%22darkblue%22%2C%20%22prefix%22%3A%20%22fa%22%7D%0A%20%20%20%20%20%20%20%20%20%20%20%20%29%3B%0A%20%20%20%20%20%20%20%20%20%20%20%20marker_c6a5c55fd3d542d995ac567a9e5fc088.setIcon%28icon_72fda3a917414f89aaaa08af2375d915%29%3B%0A%20%20%20%20%20%20%20%20%0A%20%20%20%20%0A%20%20%20%20%20%20%20%20var%20popup_b2676b1ddf04418393a20134120e5227%20%3D%20L.popup%28%7B%22maxWidth%22%3A%20%22100%25%22%7D%29%3B%0A%0A%20%20%20%20%20%20%20%20%0A%20%20%20%20%20%20%20%20%20%20%20%20var%20html_271c922692154969abc2941ff431099a%20%3D%20%24%28%60%3Cdiv%20id%3D%22html_271c922692154969abc2941ff431099a%22%20style%3D%22width%3A%20100.0%25%3B%20height%3A%20100.0%25%3B%22%3EId%3A%201737%3Cbr%3EInverleith%20Row%3Cbr%3EDescription%3A%20Corner%20with%20Inverleith%20Terrace%3Cbr%3E%3Cbr%3ECounts%3A%202667%3C/div%3E%60%29%5B0%5D%3B%0A%20%20%20%20%20%20%20%20%20%20%20%20popup_b2676b1ddf04418393a20134120e5227.setContent%28html_271c922692154969abc2941ff431099a%29%3B%0A%20%20%20%20%20%20%20%20%0A%0A%20%20%20%20%20%20%20%20marker_c6a5c55fd3d542d995ac567a9e5fc088.bindPopup%28popup_b2676b1ddf04418393a20134120e5227%29%0A%20%20%20%20%20%20%20%20%3B%0A%0A%20%20%20%20%20%20%20%20%0A%20%20%20%20%0A%20%20%20%20%0A%20%20%20%20%20%20%20%20%20%20%20%20var%20marker_97a408732a0a40e19ac785da95363d9a%20%3D%20L.marker%28%0A%20%20%20%20%20%20%20%20%20%20%20%20%20%20%20%20%5B55.96037972054591%2C%20-3.195470336902758%5D%2C%0A%20%20%20%20%20%20%20%20%20%20%20%20%20%20%20%20%7B%7D%0A%20%20%20%20%20%20%20%20%20%20%20%20%29.addTo%28marker_cluster_ada872b66f8d4492ab77f3dff857f701%29%3B%0A%20%20%20%20%20%20%20%20%0A%20%20%20%20%0A%20%20%20%20%20%20%20%20%20%20%20%20var%20icon_4aba3c472c5641be8c33da3c05c44b5f%20%3D%20L.AwesomeMarkers.icon%28%0A%20%20%20%20%20%20%20%20%20%20%20%20%20%20%20%20%7B%22extraClasses%22%3A%20%22fa-rotate-0%22%2C%20%22icon%22%3A%20%22bicycle%22%2C%20%22iconColor%22%3A%20%22white%22%2C%20%22markerColor%22%3A%20%22darkblue%22%2C%20%22prefix%22%3A%20%22fa%22%7D%0A%20%20%20%20%20%20%20%20%20%20%20%20%29%3B%0A%20%20%20%20%20%20%20%20%20%20%20%20marker_97a408732a0a40e19ac785da95363d9a.setIcon%28icon_4aba3c472c5641be8c33da3c05c44b5f%29%3B%0A%20%20%20%20%20%20%20%20%0A%20%20%20%20%0A%20%20%20%20%20%20%20%20var%20popup_982c94f197ed4faca1fb1ea5dd6d4c2d%20%3D%20L.popup%28%7B%22maxWidth%22%3A%20%22100%25%22%7D%29%3B%0A%0A%20%20%20%20%20%20%20%20%0A%20%20%20%20%20%20%20%20%20%20%20%20var%20html_bd211951fa024bc2b60a181ad30fd0fc%20%3D%20%24%28%60%3Cdiv%20id%3D%22html_bd211951fa024bc2b60a181ad30fd0fc%22%20style%3D%22width%3A%20100.0%25%3B%20height%3A%20100.0%25%3B%22%3EId%3A%201745%3Cbr%3EScotland%20Street%3Cbr%3EDescription%3A%20Corner%20with%20Royal%20Crescent%3Cbr%3E%3Cbr%3ECounts%3A%202560%3C/div%3E%60%29%5B0%5D%3B%0A%20%20%20%20%20%20%20%20%20%20%20%20popup_982c94f197ed4faca1fb1ea5dd6d4c2d.setContent%28html_bd211951fa024bc2b60a181ad30fd0fc%29%3B%0A%20%20%20%20%20%20%20%20%0A%0A%20%20%20%20%20%20%20%20marker_97a408732a0a40e19ac785da95363d9a.bindPopup%28popup_982c94f197ed4faca1fb1ea5dd6d4c2d%29%0A%20%20%20%20%20%20%20%20%3B%0A%0A%20%20%20%20%20%20%20%20%0A%20%20%20%20%0A%20%20%20%20%0A%20%20%20%20%20%20%20%20%20%20%20%20var%20marker_4adb11bcd04348b2877682c59d7202c1%20%3D%20L.marker%28%0A%20%20%20%20%20%20%20%20%20%20%20%20%20%20%20%20%5B55.94979756563328%2C%20-3.1877950320129%5D%2C%0A%20%20%20%20%20%20%20%20%20%20%20%20%20%20%20%20%7B%7D%0A%20%20%20%20%20%20%20%20%20%20%20%20%29.addTo%28marker_cluster_ada872b66f8d4492ab77f3dff857f701%29%3B%0A%20%20%20%20%20%20%20%20%0A%20%20%20%20%0A%20%20%20%20%20%20%20%20%20%20%20%20var%20icon_4bf0f29831e64c0590dcf4cd8ccc44e4%20%3D%20L.AwesomeMarkers.icon%28%0A%20%20%20%20%20%20%20%20%20%20%20%20%20%20%20%20%7B%22extraClasses%22%3A%20%22fa-rotate-0%22%2C%20%22icon%22%3A%20%22bicycle%22%2C%20%22iconColor%22%3A%20%22white%22%2C%20%22markerColor%22%3A%20%22darkblue%22%2C%20%22prefix%22%3A%20%22fa%22%7D%0A%20%20%20%20%20%20%20%20%20%20%20%20%29%3B%0A%20%20%20%20%20%20%20%20%20%20%20%20marker_4adb11bcd04348b2877682c59d7202c1.setIcon%28icon_4bf0f29831e64c0590dcf4cd8ccc44e4%29%3B%0A%20%20%20%20%20%20%20%20%0A%20%20%20%20%0A%20%20%20%20%20%20%20%20var%20popup_9615458c669949e29a286b33061be92a%20%3D%20L.popup%28%7B%22maxWidth%22%3A%20%22100%25%22%7D%29%3B%0A%0A%20%20%20%20%20%20%20%20%0A%20%20%20%20%20%20%20%20%20%20%20%20var%20html_55f2071e079641cdb2f7863f334f5848%20%3D%20%24%28%60%3Cdiv%20id%3D%22html_55f2071e079641cdb2f7863f334f5848%22%20style%3D%22width%3A%20100.0%25%3B%20height%3A%20100.0%25%3B%22%3EId%3A%201028%3Cbr%3EHunter%20Square%3Cbr%3EDescription%3A%20In%20Hunter%20Square%20next%20to%20Tron%20Kirk%3Cbr%3E%3Cbr%3ECounts%3A%202559%3C/div%3E%60%29%5B0%5D%3B%0A%20%20%20%20%20%20%20%20%20%20%20%20popup_9615458c669949e29a286b33061be92a.setContent%28html_55f2071e079641cdb2f7863f334f5848%29%3B%0A%20%20%20%20%20%20%20%20%0A%0A%20%20%20%20%20%20%20%20marker_4adb11bcd04348b2877682c59d7202c1.bindPopup%28popup_9615458c669949e29a286b33061be92a%29%0A%20%20%20%20%20%20%20%20%3B%0A%0A%20%20%20%20%20%20%20%20%0A%20%20%20%20%0A%20%20%20%20%0A%20%20%20%20%20%20%20%20%20%20%20%20var%20marker_62adaa787ba54e458e39995664c44067%20%3D%20L.marker%28%0A%20%20%20%20%20%20%20%20%20%20%20%20%20%20%20%20%5B55.946063966641006%2C%20-3.223024024359574%5D%2C%0A%20%20%20%20%20%20%20%20%20%20%20%20%20%20%20%20%7B%7D%0A%20%20%20%20%20%20%20%20%20%20%20%20%29.addTo%28marker_cluster_ada872b66f8d4492ab77f3dff857f701%29%3B%0A%20%20%20%20%20%20%20%20%0A%20%20%20%20%0A%20%20%20%20%20%20%20%20%20%20%20%20var%20icon_6307599b3eb34e2b821962db69090061%20%3D%20L.AwesomeMarkers.icon%28%0A%20%20%20%20%20%20%20%20%20%20%20%20%20%20%20%20%7B%22extraClasses%22%3A%20%22fa-rotate-0%22%2C%20%22icon%22%3A%20%22bicycle%22%2C%20%22iconColor%22%3A%20%22white%22%2C%20%22markerColor%22%3A%20%22darkblue%22%2C%20%22prefix%22%3A%20%22fa%22%7D%0A%20%20%20%20%20%20%20%20%20%20%20%20%29%3B%0A%20%20%20%20%20%20%20%20%20%20%20%20marker_62adaa787ba54e458e39995664c44067.setIcon%28icon_6307599b3eb34e2b821962db69090061%29%3B%0A%20%20%20%20%20%20%20%20%0A%20%20%20%20%0A%20%20%20%20%20%20%20%20var%20popup_4332ab148fed42549e76a80eed90a2f6%20%3D%20L.popup%28%7B%22maxWidth%22%3A%20%22100%25%22%7D%29%3B%0A%0A%20%20%20%20%20%20%20%20%0A%20%20%20%20%20%20%20%20%20%20%20%20var%20html_a85d980565eb4786946d249b764dde68%20%3D%20%24%28%60%3Cdiv%20id%3D%22html_a85d980565eb4786946d249b764dde68%22%20style%3D%22width%3A%20100.0%25%3B%20height%3A%20100.0%25%3B%22%3EId%3A%201765%3Cbr%3EHaymarket%20Terrace%3Cbr%3EDescription%3A%20Corner%20of%20Magdala%20Crescent%3Cbr%3E%3Cbr%3ECounts%3A%202546%3C/div%3E%60%29%5B0%5D%3B%0A%20%20%20%20%20%20%20%20%20%20%20%20popup_4332ab148fed42549e76a80eed90a2f6.setContent%28html_a85d980565eb4786946d249b764dde68%29%3B%0A%20%20%20%20%20%20%20%20%0A%0A%20%20%20%20%20%20%20%20marker_62adaa787ba54e458e39995664c44067.bindPopup%28popup_4332ab148fed42549e76a80eed90a2f6%29%0A%20%20%20%20%20%20%20%20%3B%0A%0A%20%20%20%20%20%20%20%20%0A%20%20%20%20%0A%20%20%20%20%0A%20%20%20%20%20%20%20%20%20%20%20%20var%20marker_22ead2d82f694a71b4b8416cee65e2e2%20%3D%20L.marker%28%0A%20%20%20%20%20%20%20%20%20%20%20%20%20%20%20%20%5B55.95173449698344%2C%20-3.18417853540609%5D%2C%0A%20%20%20%20%20%20%20%20%20%20%20%20%20%20%20%20%7B%7D%0A%20%20%20%20%20%20%20%20%20%20%20%20%29.addTo%28marker_cluster_ada872b66f8d4492ab77f3dff857f701%29%3B%0A%20%20%20%20%20%20%20%20%0A%20%20%20%20%0A%20%20%20%20%20%20%20%20%20%20%20%20var%20icon_52e920f9dc8d44cfa693681843f8a4a8%20%3D%20L.AwesomeMarkers.icon%28%0A%20%20%20%20%20%20%20%20%20%20%20%20%20%20%20%20%7B%22extraClasses%22%3A%20%22fa-rotate-0%22%2C%20%22icon%22%3A%20%22bicycle%22%2C%20%22iconColor%22%3A%20%22white%22%2C%20%22markerColor%22%3A%20%22darkblue%22%2C%20%22prefix%22%3A%20%22fa%22%7D%0A%20%20%20%20%20%20%20%20%20%20%20%20%29%3B%0A%20%20%20%20%20%20%20%20%20%20%20%20marker_22ead2d82f694a71b4b8416cee65e2e2.setIcon%28icon_52e920f9dc8d44cfa693681843f8a4a8%29%3B%0A%20%20%20%20%20%20%20%20%0A%20%20%20%20%0A%20%20%20%20%20%20%20%20var%20popup_f40719d36df64ce0afacfa3380fc70e5%20%3D%20L.popup%28%7B%22maxWidth%22%3A%20%22100%25%22%7D%29%3B%0A%0A%20%20%20%20%20%20%20%20%0A%20%20%20%20%20%20%20%20%20%20%20%20var%20html_ca8a1cd375d5487297efc3543af9bb72%20%3D%20%24%28%60%3Cdiv%20id%3D%22html_ca8a1cd375d5487297efc3543af9bb72%22%20style%3D%22width%3A%20100.0%25%3B%20height%3A%20100.0%25%3B%22%3EId%3A%20225%3Cbr%3EWaverley%20Court%3Cbr%3EDescription%3A%20On%20Waverley%20Court%20forecourt%3Cbr%3E%3Cbr%3ECounts%3A%202531%3C/div%3E%60%29%5B0%5D%3B%0A%20%20%20%20%20%20%20%20%20%20%20%20popup_f40719d36df64ce0afacfa3380fc70e5.setContent%28html_ca8a1cd375d5487297efc3543af9bb72%29%3B%0A%20%20%20%20%20%20%20%20%0A%0A%20%20%20%20%20%20%20%20marker_22ead2d82f694a71b4b8416cee65e2e2.bindPopup%28popup_f40719d36df64ce0afacfa3380fc70e5%29%0A%20%20%20%20%20%20%20%20%3B%0A%0A%20%20%20%20%20%20%20%20%0A%20%20%20%20%0A%20%20%20%20%0A%20%20%20%20%20%20%20%20%20%20%20%20var%20marker_f0a0083178404e5699ea78889af613df%20%3D%20L.marker%28%0A%20%20%20%20%20%20%20%20%20%20%20%20%20%20%20%20%5B55.960929747664%2C%20-3.181005314780577%5D%2C%0A%20%20%20%20%20%20%20%20%20%20%20%20%20%20%20%20%7B%7D%0A%20%20%20%20%20%20%20%20%20%20%20%20%29.addTo%28marker_cluster_ada872b66f8d4492ab77f3dff857f701%29%3B%0A%20%20%20%20%20%20%20%20%0A%20%20%20%20%0A%20%20%20%20%20%20%20%20%20%20%20%20var%20icon_4a1ebe5bf59d4efda3a93f97af7172b9%20%3D%20L.AwesomeMarkers.icon%28%0A%20%20%20%20%20%20%20%20%20%20%20%20%20%20%20%20%7B%22extraClasses%22%3A%20%22fa-rotate-0%22%2C%20%22icon%22%3A%20%22bicycle%22%2C%20%22iconColor%22%3A%20%22white%22%2C%20%22markerColor%22%3A%20%22darkblue%22%2C%20%22prefix%22%3A%20%22fa%22%7D%0A%20%20%20%20%20%20%20%20%20%20%20%20%29%3B%0A%20%20%20%20%20%20%20%20%20%20%20%20marker_f0a0083178404e5699ea78889af613df.setIcon%28icon_4a1ebe5bf59d4efda3a93f97af7172b9%29%3B%0A%20%20%20%20%20%20%20%20%0A%20%20%20%20%0A%20%20%20%20%20%20%20%20var%20popup_1a515d4d35f44c7abcb191f7cb051618%20%3D%20L.popup%28%7B%22maxWidth%22%3A%20%22100%25%22%7D%29%3B%0A%0A%20%20%20%20%20%20%20%20%0A%20%20%20%20%20%20%20%20%20%20%20%20var%20html_462d136bdb1a46e89112da9116487cf2%20%3D%20%24%28%60%3Cdiv%20id%3D%22html_462d136bdb1a46e89112da9116487cf2%22%20style%3D%22width%3A%20100.0%25%3B%20height%3A%20100.0%25%3B%22%3EId%3A%20261%3Cbr%3EBrunswick%20Place%3Cbr%3EDescription%3A%20Junction%20Brunswick%20Street%20and%20Elm%20Row%3Cbr%3E%3Cbr%3ECounts%3A%202424%3C/div%3E%60%29%5B0%5D%3B%0A%20%20%20%20%20%20%20%20%20%20%20%20popup_1a515d4d35f44c7abcb191f7cb051618.setContent%28html_462d136bdb1a46e89112da9116487cf2%29%3B%0A%20%20%20%20%20%20%20%20%0A%0A%20%20%20%20%20%20%20%20marker_f0a0083178404e5699ea78889af613df.bindPopup%28popup_1a515d4d35f44c7abcb191f7cb051618%29%0A%20%20%20%20%20%20%20%20%3B%0A%0A%20%20%20%20%20%20%20%20%0A%20%20%20%20%0A%20%20%20%20%0A%20%20%20%20%20%20%20%20%20%20%20%20var%20marker_3d7e01bd80534c2cbd41b86614d28b4c%20%3D%20L.marker%28%0A%20%20%20%20%20%20%20%20%20%20%20%20%20%20%20%20%5B55.95953624971772%2C%20-3.223434402338853%5D%2C%0A%20%20%20%20%20%20%20%20%20%20%20%20%20%20%20%20%7B%7D%0A%20%20%20%20%20%20%20%20%20%20%20%20%29.addTo%28marker_cluster_ada872b66f8d4492ab77f3dff857f701%29%3B%0A%20%20%20%20%20%20%20%20%0A%20%20%20%20%0A%20%20%20%20%20%20%20%20%20%20%20%20var%20icon_7407f857cb8b4b429c10c82e8219c42c%20%3D%20L.AwesomeMarkers.icon%28%0A%20%20%20%20%20%20%20%20%20%20%20%20%20%20%20%20%7B%22extraClasses%22%3A%20%22fa-rotate-0%22%2C%20%22icon%22%3A%20%22bicycle%22%2C%20%22iconColor%22%3A%20%22white%22%2C%20%22markerColor%22%3A%20%22darkblue%22%2C%20%22prefix%22%3A%20%22fa%22%7D%0A%20%20%20%20%20%20%20%20%20%20%20%20%29%3B%0A%20%20%20%20%20%20%20%20%20%20%20%20marker_3d7e01bd80534c2cbd41b86614d28b4c.setIcon%28icon_7407f857cb8b4b429c10c82e8219c42c%29%3B%0A%20%20%20%20%20%20%20%20%0A%20%20%20%20%0A%20%20%20%20%20%20%20%20var%20popup_a7b0b9437434434fb5cea9603cdfd628%20%3D%20L.popup%28%7B%22maxWidth%22%3A%20%22100%25%22%7D%29%3B%0A%0A%20%20%20%20%20%20%20%20%0A%20%20%20%20%20%20%20%20%20%20%20%20var%20html_64c98a50f1da44d8a5f31d860f7a21cb%20%3D%20%24%28%60%3Cdiv%20id%3D%22html_64c98a50f1da44d8a5f31d860f7a21cb%22%20style%3D%22width%3A%20100.0%25%3B%20height%3A%20100.0%25%3B%22%3EId%3A%201753%3Cbr%3EWaitrose%20Comely%20Bank%3Cbr%3EDescription%3A%20On%20Fettes%20Avenue%20next%20to%20Waitrose%3Cbr%3E%3Cbr%3ECounts%3A%202385%3C/div%3E%60%29%5B0%5D%3B%0A%20%20%20%20%20%20%20%20%20%20%20%20popup_a7b0b9437434434fb5cea9603cdfd628.setContent%28html_64c98a50f1da44d8a5f31d860f7a21cb%29%3B%0A%20%20%20%20%20%20%20%20%0A%0A%20%20%20%20%20%20%20%20marker_3d7e01bd80534c2cbd41b86614d28b4c.bindPopup%28popup_a7b0b9437434434fb5cea9603cdfd628%29%0A%20%20%20%20%20%20%20%20%3B%0A%0A%20%20%20%20%20%20%20%20%0A%20%20%20%20%0A%20%20%20%20%0A%20%20%20%20%20%20%20%20%20%20%20%20var%20marker_4b6d32b6f4b545d28a3cc77e2d42114f%20%3D%20L.marker%28%0A%20%20%20%20%20%20%20%20%20%20%20%20%20%20%20%20%5B55.94760044619224%2C%20-3.188919736735215%5D%2C%0A%20%20%20%20%20%20%20%20%20%20%20%20%20%20%20%20%7B%7D%0A%20%20%20%20%20%20%20%20%20%20%20%20%29.addTo%28marker_cluster_ada872b66f8d4492ab77f3dff857f701%29%3B%0A%20%20%20%20%20%20%20%20%0A%20%20%20%20%0A%20%20%20%20%20%20%20%20%20%20%20%20var%20icon_c827ce1d877949d3a8bc30bed7723862%20%3D%20L.AwesomeMarkers.icon%28%0A%20%20%20%20%20%20%20%20%20%20%20%20%20%20%20%20%7B%22extraClasses%22%3A%20%22fa-rotate-0%22%2C%20%22icon%22%3A%20%22bicycle%22%2C%20%22iconColor%22%3A%20%22white%22%2C%20%22markerColor%22%3A%20%22darkblue%22%2C%20%22prefix%22%3A%20%22fa%22%7D%0A%20%20%20%20%20%20%20%20%20%20%20%20%29%3B%0A%20%20%20%20%20%20%20%20%20%20%20%20marker_4b6d32b6f4b545d28a3cc77e2d42114f.setIcon%28icon_c827ce1d877949d3a8bc30bed7723862%29%3B%0A%20%20%20%20%20%20%20%20%0A%20%20%20%20%0A%20%20%20%20%20%20%20%20var%20popup_69d0534b52724d17a6195ff777acfbb2%20%3D%20L.popup%28%7B%22maxWidth%22%3A%20%22100%25%22%7D%29%3B%0A%0A%20%20%20%20%20%20%20%20%0A%20%20%20%20%20%20%20%20%20%20%20%20var%20html_308e91b4f55f48149db7f94af00abcee%20%3D%20%24%28%60%3Cdiv%20id%3D%22html_308e91b4f55f48149db7f94af00abcee%22%20style%3D%22width%3A%20100.0%25%3B%20height%3A%20100.0%25%3B%22%3EId%3A%201798%3Cbr%3EChambers%20Street%3Cbr%3EDescription%3A%20Outside%20National%20Museum%3Cbr%3E%3Cbr%3ECounts%3A%202261%3C/div%3E%60%29%5B0%5D%3B%0A%20%20%20%20%20%20%20%20%20%20%20%20popup_69d0534b52724d17a6195ff777acfbb2.setContent%28html_308e91b4f55f48149db7f94af00abcee%29%3B%0A%20%20%20%20%20%20%20%20%0A%0A%20%20%20%20%20%20%20%20marker_4b6d32b6f4b545d28a3cc77e2d42114f.bindPopup%28popup_69d0534b52724d17a6195ff777acfbb2%29%0A%20%20%20%20%20%20%20%20%3B%0A%0A%20%20%20%20%20%20%20%20%0A%20%20%20%20%0A%20%20%20%20%0A%20%20%20%20%20%20%20%20%20%20%20%20var%20marker_a3f7e93140524cf9b25bc149ebee8a50%20%3D%20L.marker%28%0A%20%20%20%20%20%20%20%20%20%20%20%20%20%20%20%20%5B55.92758664038103%2C%20-3.23367105304419%5D%2C%0A%20%20%20%20%20%20%20%20%20%20%20%20%20%20%20%20%7B%7D%0A%20%20%20%20%20%20%20%20%20%20%20%20%29.addTo%28marker_cluster_ada872b66f8d4492ab77f3dff857f701%29%3B%0A%20%20%20%20%20%20%20%20%0A%20%20%20%20%0A%20%20%20%20%20%20%20%20%20%20%20%20var%20icon_d3fec36a461e4e41b5e1f2b2fc3d3420%20%3D%20L.AwesomeMarkers.icon%28%0A%20%20%20%20%20%20%20%20%20%20%20%20%20%20%20%20%7B%22extraClasses%22%3A%20%22fa-rotate-0%22%2C%20%22icon%22%3A%20%22bicycle%22%2C%20%22iconColor%22%3A%20%22white%22%2C%20%22markerColor%22%3A%20%22darkblue%22%2C%20%22prefix%22%3A%20%22fa%22%7D%0A%20%20%20%20%20%20%20%20%20%20%20%20%29%3B%0A%20%20%20%20%20%20%20%20%20%20%20%20marker_a3f7e93140524cf9b25bc149ebee8a50.setIcon%28icon_d3fec36a461e4e41b5e1f2b2fc3d3420%29%3B%0A%20%20%20%20%20%20%20%20%0A%20%20%20%20%0A%20%20%20%20%20%20%20%20var%20popup_1495c76d4662497abe15cf8622423691%20%3D%20L.popup%28%7B%22maxWidth%22%3A%20%22100%25%22%7D%29%3B%0A%0A%20%20%20%20%20%20%20%20%0A%20%20%20%20%20%20%20%20%20%20%20%20var%20html_d50a8c9338ef40b7bb2b6e538d07e2a8%20%3D%20%24%28%60%3Cdiv%20id%3D%22html_d50a8c9338ef40b7bb2b6e538d07e2a8%22%20style%3D%22width%3A%20100.0%25%3B%20height%3A%20100.0%25%3B%22%3EId%3A%201757%3Cbr%3EMeggetland%3Cbr%3EDescription%3A%20Meggetland%20Sports%20Complex%3Cbr%3E%3Cbr%3ECounts%3A%202179%3C/div%3E%60%29%5B0%5D%3B%0A%20%20%20%20%20%20%20%20%20%20%20%20popup_1495c76d4662497abe15cf8622423691.setContent%28html_d50a8c9338ef40b7bb2b6e538d07e2a8%29%3B%0A%20%20%20%20%20%20%20%20%0A%0A%20%20%20%20%20%20%20%20marker_a3f7e93140524cf9b25bc149ebee8a50.bindPopup%28popup_1495c76d4662497abe15cf8622423691%29%0A%20%20%20%20%20%20%20%20%3B%0A%0A%20%20%20%20%20%20%20%20%0A%20%20%20%20%0A%20%20%20%20%0A%20%20%20%20%20%20%20%20%20%20%20%20var%20marker_121fa09aacb14d4da33814584d92bbd3%20%3D%20L.marker%28%0A%20%20%20%20%20%20%20%20%20%20%20%20%20%20%20%20%5B55.96264210870907%2C%20-3.231915547243943%5D%2C%0A%20%20%20%20%20%20%20%20%20%20%20%20%20%20%20%20%7B%7D%0A%20%20%20%20%20%20%20%20%20%20%20%20%29.addTo%28marker_cluster_ada872b66f8d4492ab77f3dff857f701%29%3B%0A%20%20%20%20%20%20%20%20%0A%20%20%20%20%0A%20%20%20%20%20%20%20%20%20%20%20%20var%20icon_3a24027937f34ffcbbd9ab746d6a72c3%20%3D%20L.AwesomeMarkers.icon%28%0A%20%20%20%20%20%20%20%20%20%20%20%20%20%20%20%20%7B%22extraClasses%22%3A%20%22fa-rotate-0%22%2C%20%22icon%22%3A%20%22bicycle%22%2C%20%22iconColor%22%3A%20%22white%22%2C%20%22markerColor%22%3A%20%22darkblue%22%2C%20%22prefix%22%3A%20%22fa%22%7D%0A%20%20%20%20%20%20%20%20%20%20%20%20%29%3B%0A%20%20%20%20%20%20%20%20%20%20%20%20marker_121fa09aacb14d4da33814584d92bbd3.setIcon%28icon_3a24027937f34ffcbbd9ab746d6a72c3%29%3B%0A%20%20%20%20%20%20%20%20%0A%20%20%20%20%0A%20%20%20%20%20%20%20%20var%20popup_4466b68b00a344d5aa99a7941f7d2157%20%3D%20L.popup%28%7B%22maxWidth%22%3A%20%22100%25%22%7D%29%3B%0A%0A%20%20%20%20%20%20%20%20%0A%20%20%20%20%20%20%20%20%20%20%20%20var%20html_3feb5856728747db8a8606c7f3bd6d55%20%3D%20%24%28%60%3Cdiv%20id%3D%22html_3feb5856728747db8a8606c7f3bd6d55%22%20style%3D%22width%3A%20100.0%25%3B%20height%3A%20100.0%25%3B%22%3EId%3A%201752%3Cbr%3EIGMM%20-%20Western%20General%3Cbr%3EDescription%3A%20The%20Institute%20of%20Genetics%20and%20Molecular%20Medicine%3Cbr%3E%3Cbr%3ECounts%3A%202166%3C/div%3E%60%29%5B0%5D%3B%0A%20%20%20%20%20%20%20%20%20%20%20%20popup_4466b68b00a344d5aa99a7941f7d2157.setContent%28html_3feb5856728747db8a8606c7f3bd6d55%29%3B%0A%20%20%20%20%20%20%20%20%0A%0A%20%20%20%20%20%20%20%20marker_121fa09aacb14d4da33814584d92bbd3.bindPopup%28popup_4466b68b00a344d5aa99a7941f7d2157%29%0A%20%20%20%20%20%20%20%20%3B%0A%0A%20%20%20%20%20%20%20%20%0A%20%20%20%20%0A%20%20%20%20%0A%20%20%20%20%20%20%20%20%20%20%20%20var%20marker_86326ab849bc4fd496b4f3d96dceca46%20%3D%20L.marker%28%0A%20%20%20%20%20%20%20%20%20%20%20%20%20%20%20%20%5B55.93341635916104%2C%20-3.21239711224257%5D%2C%0A%20%20%20%20%20%20%20%20%20%20%20%20%20%20%20%20%7B%7D%0A%20%20%20%20%20%20%20%20%20%20%20%20%29.addTo%28marker_cluster_ada872b66f8d4492ab77f3dff857f701%29%3B%0A%20%20%20%20%20%20%20%20%0A%20%20%20%20%0A%20%20%20%20%20%20%20%20%20%20%20%20var%20icon_9beb071c1235493d88bd036ca8ce0932%20%3D%20L.AwesomeMarkers.icon%28%0A%20%20%20%20%20%20%20%20%20%20%20%20%20%20%20%20%7B%22extraClasses%22%3A%20%22fa-rotate-0%22%2C%20%22icon%22%3A%20%22bicycle%22%2C%20%22iconColor%22%3A%20%22white%22%2C%20%22markerColor%22%3A%20%22darkblue%22%2C%20%22prefix%22%3A%20%22fa%22%7D%0A%20%20%20%20%20%20%20%20%20%20%20%20%29%3B%0A%20%20%20%20%20%20%20%20%20%20%20%20marker_86326ab849bc4fd496b4f3d96dceca46.setIcon%28icon_9beb071c1235493d88bd036ca8ce0932%29%3B%0A%20%20%20%20%20%20%20%20%0A%20%20%20%20%0A%20%20%20%20%20%20%20%20var%20popup_281d401889b24348aed15589bf17bf65%20%3D%20L.popup%28%7B%22maxWidth%22%3A%20%22100%25%22%7D%29%3B%0A%0A%20%20%20%20%20%20%20%20%0A%20%20%20%20%20%20%20%20%20%20%20%20var%20html_8ece5c6486eb48059a0a89c5fbda089c%20%3D%20%24%28%60%3Cdiv%20id%3D%22html_8ece5c6486eb48059a0a89c5fbda089c%22%20style%3D%22width%3A%20100.0%25%3B%20height%3A%20100.0%25%3B%22%3EId%3A%201748%3Cbr%3EColinton%20Road%3Cbr%3EDescription%3A%20Near%20Napier%20University%20Merchiston%20Campus%3Cbr%3E%3Cbr%3ECounts%3A%202165%3C/div%3E%60%29%5B0%5D%3B%0A%20%20%20%20%20%20%20%20%20%20%20%20popup_281d401889b24348aed15589bf17bf65.setContent%28html_8ece5c6486eb48059a0a89c5fbda089c%29%3B%0A%20%20%20%20%20%20%20%20%0A%0A%20%20%20%20%20%20%20%20marker_86326ab849bc4fd496b4f3d96dceca46.bindPopup%28popup_281d401889b24348aed15589bf17bf65%29%0A%20%20%20%20%20%20%20%20%3B%0A%0A%20%20%20%20%20%20%20%20%0A%20%20%20%20%0A%20%20%20%20%0A%20%20%20%20%20%20%20%20%20%20%20%20var%20marker_019feb45f2cd4e32a7e38c450ebe6d86%20%3D%20L.marker%28%0A%20%20%20%20%20%20%20%20%20%20%20%20%20%20%20%20%5B55.93796327344498%2C%20-3.185021145932069%5D%2C%0A%20%20%20%20%20%20%20%20%20%20%20%20%20%20%20%20%7B%7D%0A%20%20%20%20%20%20%20%20%20%20%20%20%29.addTo%28marker_cluster_ada872b66f8d4492ab77f3dff857f701%29%3B%0A%20%20%20%20%20%20%20%20%0A%20%20%20%20%0A%20%20%20%20%20%20%20%20%20%20%20%20var%20icon_b875d4135b5544fbb93c1436b88e65bc%20%3D%20L.AwesomeMarkers.icon%28%0A%20%20%20%20%20%20%20%20%20%20%20%20%20%20%20%20%7B%22extraClasses%22%3A%20%22fa-rotate-0%22%2C%20%22icon%22%3A%20%22bicycle%22%2C%20%22iconColor%22%3A%20%22white%22%2C%20%22markerColor%22%3A%20%22darkblue%22%2C%20%22prefix%22%3A%20%22fa%22%7D%0A%20%20%20%20%20%20%20%20%20%20%20%20%29%3B%0A%20%20%20%20%20%20%20%20%20%20%20%20marker_019feb45f2cd4e32a7e38c450ebe6d86.setIcon%28icon_b875d4135b5544fbb93c1436b88e65bc%29%3B%0A%20%20%20%20%20%20%20%20%0A%20%20%20%20%0A%20%20%20%20%20%20%20%20var%20popup_ea1810d33f664f32a305df982b43d59a%20%3D%20L.popup%28%7B%22maxWidth%22%3A%20%22100%25%22%7D%29%3B%0A%0A%20%20%20%20%20%20%20%20%0A%20%20%20%20%20%20%20%20%20%20%20%20var%20html_42b4837d28414b23b4735be14adb484f%20%3D%20%24%28%60%3Cdiv%20id%3D%22html_42b4837d28414b23b4735be14adb484f%22%20style%3D%22width%3A%20100.0%25%3B%20height%3A%20100.0%25%3B%22%3EId%3A%201097%3Cbr%3EGladstone%20Terrace%3Cbr%3EDescription%3A%20Corner%20of%20Gladstone%20Terrace%20and%20Sciennes%20Road%3Cbr%3E%3Cbr%3ECounts%3A%202131%3C/div%3E%60%29%5B0%5D%3B%0A%20%20%20%20%20%20%20%20%20%20%20%20popup_ea1810d33f664f32a305df982b43d59a.setContent%28html_42b4837d28414b23b4735be14adb484f%29%3B%0A%20%20%20%20%20%20%20%20%0A%0A%20%20%20%20%20%20%20%20marker_019feb45f2cd4e32a7e38c450ebe6d86.bindPopup%28popup_ea1810d33f664f32a305df982b43d59a%29%0A%20%20%20%20%20%20%20%20%3B%0A%0A%20%20%20%20%20%20%20%20%0A%20%20%20%20%0A%20%20%20%20%0A%20%20%20%20%20%20%20%20%20%20%20%20var%20marker_d0d93440ea1c4776b08a67743867fdbb%20%3D%20L.marker%28%0A%20%20%20%20%20%20%20%20%20%20%20%20%20%20%20%20%5B55.93715871276677%2C%20-3.206435329645956%5D%2C%0A%20%20%20%20%20%20%20%20%20%20%20%20%20%20%20%20%7B%7D%0A%20%20%20%20%20%20%20%20%20%20%20%20%29.addTo%28marker_cluster_ada872b66f8d4492ab77f3dff857f701%29%3B%0A%20%20%20%20%20%20%20%20%0A%20%20%20%20%0A%20%20%20%20%20%20%20%20%20%20%20%20var%20icon_5f13ce6b6da54def90d1e996788025cf%20%3D%20L.AwesomeMarkers.icon%28%0A%20%20%20%20%20%20%20%20%20%20%20%20%20%20%20%20%7B%22extraClasses%22%3A%20%22fa-rotate-0%22%2C%20%22icon%22%3A%20%22bicycle%22%2C%20%22iconColor%22%3A%20%22white%22%2C%20%22markerColor%22%3A%20%22darkblue%22%2C%20%22prefix%22%3A%20%22fa%22%7D%0A%20%20%20%20%20%20%20%20%20%20%20%20%29%3B%0A%20%20%20%20%20%20%20%20%20%20%20%20marker_d0d93440ea1c4776b08a67743867fdbb.setIcon%28icon_5f13ce6b6da54def90d1e996788025cf%29%3B%0A%20%20%20%20%20%20%20%20%0A%20%20%20%20%0A%20%20%20%20%20%20%20%20var%20popup_f144f44eb56d4695b6b4bb4a30cf4260%20%3D%20L.popup%28%7B%22maxWidth%22%3A%20%22100%25%22%7D%29%3B%0A%0A%20%20%20%20%20%20%20%20%0A%20%20%20%20%20%20%20%20%20%20%20%20var%20html_0953852bc6814cb1a5967de9f41b8eec%20%3D%20%24%28%60%3Cdiv%20id%3D%22html_0953852bc6814cb1a5967de9f41b8eec%22%20style%3D%22width%3A%20100.0%25%3B%20height%3A%20100.0%25%3B%22%3EId%3A%20290%3Cbr%3EBruntsfield%3Cbr%3EDescription%3A%20Corner%20of%20Bruntsfield%20Terrace%20and%20Bruntsfield%20Place%3Cbr%3E%3Cbr%3ECounts%3A%202094%3C/div%3E%60%29%5B0%5D%3B%0A%20%20%20%20%20%20%20%20%20%20%20%20popup_f144f44eb56d4695b6b4bb4a30cf4260.setContent%28html_0953852bc6814cb1a5967de9f41b8eec%29%3B%0A%20%20%20%20%20%20%20%20%0A%0A%20%20%20%20%20%20%20%20marker_d0d93440ea1c4776b08a67743867fdbb.bindPopup%28popup_f144f44eb56d4695b6b4bb4a30cf4260%29%0A%20%20%20%20%20%20%20%20%3B%0A%0A%20%20%20%20%20%20%20%20%0A%20%20%20%20%0A%20%20%20%20%0A%20%20%20%20%20%20%20%20%20%20%20%20var%20marker_b2249febe3364d8f97cc824f68bb6be9%20%3D%20L.marker%28%0A%20%20%20%20%20%20%20%20%20%20%20%20%20%20%20%20%5B55.94564841884953%2C%20-3.231847150914063%5D%2C%0A%20%20%20%20%20%20%20%20%20%20%20%20%20%20%20%20%7B%7D%0A%20%20%20%20%20%20%20%20%20%20%20%20%29.addTo%28marker_cluster_ada872b66f8d4492ab77f3dff857f701%29%3B%0A%20%20%20%20%20%20%20%20%0A%20%20%20%20%0A%20%20%20%20%20%20%20%20%20%20%20%20var%20icon_c1c1a43a1ffc41f196e601468811163d%20%3D%20L.AwesomeMarkers.icon%28%0A%20%20%20%20%20%20%20%20%20%20%20%20%20%20%20%20%7B%22extraClasses%22%3A%20%22fa-rotate-0%22%2C%20%22icon%22%3A%20%22bicycle%22%2C%20%22iconColor%22%3A%20%22white%22%2C%20%22markerColor%22%3A%20%22darkblue%22%2C%20%22prefix%22%3A%20%22fa%22%7D%0A%20%20%20%20%20%20%20%20%20%20%20%20%29%3B%0A%20%20%20%20%20%20%20%20%20%20%20%20marker_b2249febe3364d8f97cc824f68bb6be9.setIcon%28icon_c1c1a43a1ffc41f196e601468811163d%29%3B%0A%20%20%20%20%20%20%20%20%0A%20%20%20%20%0A%20%20%20%20%20%20%20%20var%20popup_85d551f40943497eba25305f2a3a0bd5%20%3D%20L.popup%28%7B%22maxWidth%22%3A%20%22100%25%22%7D%29%3B%0A%0A%20%20%20%20%20%20%20%20%0A%20%20%20%20%20%20%20%20%20%20%20%20var%20html_a0e73b8dc50143fe84e978d0f39a0608%20%3D%20%24%28%60%3Cdiv%20id%3D%22html_a0e73b8dc50143fe84e978d0f39a0608%22%20style%3D%22width%3A%20100.0%25%3B%20height%3A%20100.0%25%3B%22%3EId%3A%201738%3Cbr%3EWester%20Coates%20Terrace%3Cbr%3EDescription%3A%20Junction%20with%20Roseburn%20Terrace%3Cbr%3E%3Cbr%3ECounts%3A%201956%3C/div%3E%60%29%5B0%5D%3B%0A%20%20%20%20%20%20%20%20%20%20%20%20popup_85d551f40943497eba25305f2a3a0bd5.setContent%28html_a0e73b8dc50143fe84e978d0f39a0608%29%3B%0A%20%20%20%20%20%20%20%20%0A%0A%20%20%20%20%20%20%20%20marker_b2249febe3364d8f97cc824f68bb6be9.bindPopup%28popup_85d551f40943497eba25305f2a3a0bd5%29%0A%20%20%20%20%20%20%20%20%3B%0A%0A%20%20%20%20%20%20%20%20%0A%20%20%20%20%0A%20%20%20%20%0A%20%20%20%20%20%20%20%20%20%20%20%20var%20marker_a59694d31fb449a389f2cceb9773d19d%20%3D%20L.marker%28%0A%20%20%20%20%20%20%20%20%20%20%20%20%20%20%20%20%5B55.92418540667696%2C%20-3.173830830087809%5D%2C%0A%20%20%20%20%20%20%20%20%20%20%20%20%20%20%20%20%7B%7D%0A%20%20%20%20%20%20%20%20%20%20%20%20%29.addTo%28marker_cluster_ada872b66f8d4492ab77f3dff857f701%29%3B%0A%20%20%20%20%20%20%20%20%0A%20%20%20%20%0A%20%20%20%20%20%20%20%20%20%20%20%20var%20icon_91b4329a12744178978d0d98b801252b%20%3D%20L.AwesomeMarkers.icon%28%0A%20%20%20%20%20%20%20%20%20%20%20%20%20%20%20%20%7B%22extraClasses%22%3A%20%22fa-rotate-0%22%2C%20%22icon%22%3A%20%22bicycle%22%2C%20%22iconColor%22%3A%20%22white%22%2C%20%22markerColor%22%3A%20%22darkblue%22%2C%20%22prefix%22%3A%20%22fa%22%7D%0A%20%20%20%20%20%20%20%20%20%20%20%20%29%3B%0A%20%20%20%20%20%20%20%20%20%20%20%20marker_a59694d31fb449a389f2cceb9773d19d.setIcon%28icon_91b4329a12744178978d0d98b801252b%29%3B%0A%20%20%20%20%20%20%20%20%0A%20%20%20%20%0A%20%20%20%20%20%20%20%20var%20popup_67a8fc9354854d5ca0720a877c055831%20%3D%20L.popup%28%7B%22maxWidth%22%3A%20%22100%25%22%7D%29%3B%0A%0A%20%20%20%20%20%20%20%20%0A%20%20%20%20%20%20%20%20%20%20%20%20var%20html_3304b9a30e02404bbe14df9db7ba6136%20%3D%20%24%28%60%3Cdiv%20id%3D%22html_3304b9a30e02404bbe14df9db7ba6136%22%20style%3D%22width%3A%20100.0%25%3B%20height%3A%20100.0%25%3B%22%3EId%3A%20252%3Cbr%3EKings%20Buildings%201%3Cbr%3EDescription%3A%20Grant%20Institute%3Cbr%3E%3Cbr%3ECounts%3A%201936%3C/div%3E%60%29%5B0%5D%3B%0A%20%20%20%20%20%20%20%20%20%20%20%20popup_67a8fc9354854d5ca0720a877c055831.setContent%28html_3304b9a30e02404bbe14df9db7ba6136%29%3B%0A%20%20%20%20%20%20%20%20%0A%0A%20%20%20%20%20%20%20%20marker_a59694d31fb449a389f2cceb9773d19d.bindPopup%28popup_67a8fc9354854d5ca0720a877c055831%29%0A%20%20%20%20%20%20%20%20%3B%0A%0A%20%20%20%20%20%20%20%20%0A%20%20%20%20%0A%20%20%20%20%0A%20%20%20%20%20%20%20%20%20%20%20%20var%20marker_b81866e71c7541bcbfc04fa0a91cfcbb%20%3D%20L.marker%28%0A%20%20%20%20%20%20%20%20%20%20%20%20%20%20%20%20%5B55.95653524179326%2C%20-3.18624761207468%5D%2C%0A%20%20%20%20%20%20%20%20%20%20%20%20%20%20%20%20%7B%7D%0A%20%20%20%20%20%20%20%20%20%20%20%20%29.addTo%28marker_cluster_ada872b66f8d4492ab77f3dff857f701%29%3B%0A%20%20%20%20%20%20%20%20%0A%20%20%20%20%0A%20%20%20%20%20%20%20%20%20%20%20%20var%20icon_775c998e5cbb4972a4a3195834670a18%20%3D%20L.AwesomeMarkers.icon%28%0A%20%20%20%20%20%20%20%20%20%20%20%20%20%20%20%20%7B%22extraClasses%22%3A%20%22fa-rotate-0%22%2C%20%22icon%22%3A%20%22bicycle%22%2C%20%22iconColor%22%3A%20%22white%22%2C%20%22markerColor%22%3A%20%22darkblue%22%2C%20%22prefix%22%3A%20%22fa%22%7D%0A%20%20%20%20%20%20%20%20%20%20%20%20%29%3B%0A%20%20%20%20%20%20%20%20%20%20%20%20marker_b81866e71c7541bcbfc04fa0a91cfcbb.setIcon%28icon_775c998e5cbb4972a4a3195834670a18%29%3B%0A%20%20%20%20%20%20%20%20%0A%20%20%20%20%0A%20%20%20%20%20%20%20%20var%20popup_54bc7e4898c94e9abc867ea7e34fe06e%20%3D%20L.popup%28%7B%22maxWidth%22%3A%20%22100%25%22%7D%29%3B%0A%0A%20%20%20%20%20%20%20%20%0A%20%20%20%20%20%20%20%20%20%20%20%20var%20html_17a38c5315244a24a047effb8732d5c4%20%3D%20%24%28%60%3Cdiv%20id%3D%22html_17a38c5315244a24a047effb8732d5c4%22%20style%3D%22width%3A%20100.0%25%3B%20height%3A%20100.0%25%3B%22%3EId%3A%202268%3Cbr%3EPicardy%20Place%3Cbr%3EDescription%3A%20Outside%20Omni%20Centre%3Cbr%3E%3Cbr%3ECounts%3A%201928%3C/div%3E%60%29%5B0%5D%3B%0A%20%20%20%20%20%20%20%20%20%20%20%20popup_54bc7e4898c94e9abc867ea7e34fe06e.setContent%28html_17a38c5315244a24a047effb8732d5c4%29%3B%0A%20%20%20%20%20%20%20%20%0A%0A%20%20%20%20%20%20%20%20marker_b81866e71c7541bcbfc04fa0a91cfcbb.bindPopup%28popup_54bc7e4898c94e9abc867ea7e34fe06e%29%0A%20%20%20%20%20%20%20%20%3B%0A%0A%20%20%20%20%20%20%20%20%0A%20%20%20%20%0A%20%20%20%20%0A%20%20%20%20%20%20%20%20%20%20%20%20var%20marker_bdc99b1fb2f7491caf6fa649dacc603f%20%3D%20L.marker%28%0A%20%20%20%20%20%20%20%20%20%20%20%20%20%20%20%20%5B55.94442555452843%2C%20-3.234497716594433%5D%2C%0A%20%20%20%20%20%20%20%20%20%20%20%20%20%20%20%20%7B%7D%0A%20%20%20%20%20%20%20%20%20%20%20%20%29.addTo%28marker_cluster_ada872b66f8d4492ab77f3dff857f701%29%3B%0A%20%20%20%20%20%20%20%20%0A%20%20%20%20%0A%20%20%20%20%20%20%20%20%20%20%20%20var%20icon_20c9f7d65e6544f49a1eb4cea7cd478b%20%3D%20L.AwesomeMarkers.icon%28%0A%20%20%20%20%20%20%20%20%20%20%20%20%20%20%20%20%7B%22extraClasses%22%3A%20%22fa-rotate-0%22%2C%20%22icon%22%3A%20%22bicycle%22%2C%20%22iconColor%22%3A%20%22white%22%2C%20%22markerColor%22%3A%20%22darkblue%22%2C%20%22prefix%22%3A%20%22fa%22%7D%0A%20%20%20%20%20%20%20%20%20%20%20%20%29%3B%0A%20%20%20%20%20%20%20%20%20%20%20%20marker_bdc99b1fb2f7491caf6fa649dacc603f.setIcon%28icon_20c9f7d65e6544f49a1eb4cea7cd478b%29%3B%0A%20%20%20%20%20%20%20%20%0A%20%20%20%20%0A%20%20%20%20%20%20%20%20var%20popup_1a3b18d906774e2588106d7ae88455c9%20%3D%20L.popup%28%7B%22maxWidth%22%3A%20%22100%25%22%7D%29%3B%0A%0A%20%20%20%20%20%20%20%20%0A%20%20%20%20%20%20%20%20%20%20%20%20var%20html_ade0311debab4208a35be23f998de0ec%20%3D%20%24%28%60%3Cdiv%20id%3D%22html_ade0311debab4208a35be23f998de0ec%22%20style%3D%22width%3A%20100.0%25%3B%20height%3A%20100.0%25%3B%22%3EId%3A%201055%3Cbr%3ERoseburn%20Street%3Cbr%3EDescription%3A%20On%20corner%20with%20Russell%20Gardens%3Cbr%3E%3Cbr%3ECounts%3A%201909%3C/div%3E%60%29%5B0%5D%3B%0A%20%20%20%20%20%20%20%20%20%20%20%20popup_1a3b18d906774e2588106d7ae88455c9.setContent%28html_ade0311debab4208a35be23f998de0ec%29%3B%0A%20%20%20%20%20%20%20%20%0A%0A%20%20%20%20%20%20%20%20marker_bdc99b1fb2f7491caf6fa649dacc603f.bindPopup%28popup_1a3b18d906774e2588106d7ae88455c9%29%0A%20%20%20%20%20%20%20%20%3B%0A%0A%20%20%20%20%20%20%20%20%0A%20%20%20%20%0A%20%20%20%20%0A%20%20%20%20%20%20%20%20%20%20%20%20var%20marker_6e19a73341a94120a601e0082be48e09%20%3D%20L.marker%28%0A%20%20%20%20%20%20%20%20%20%20%20%20%20%20%20%20%5B55.952641035774384%2C%20-3.187526919462357%5D%2C%0A%20%20%20%20%20%20%20%20%20%20%20%20%20%20%20%20%7B%7D%0A%20%20%20%20%20%20%20%20%20%20%20%20%29.addTo%28marker_cluster_ada872b66f8d4492ab77f3dff857f701%29%3B%0A%20%20%20%20%20%20%20%20%0A%20%20%20%20%0A%20%20%20%20%20%20%20%20%20%20%20%20var%20icon_ceec3cb344be48b6832a19325645618f%20%3D%20L.AwesomeMarkers.icon%28%0A%20%20%20%20%20%20%20%20%20%20%20%20%20%20%20%20%7B%22extraClasses%22%3A%20%22fa-rotate-0%22%2C%20%22icon%22%3A%20%22bicycle%22%2C%20%22iconColor%22%3A%20%22white%22%2C%20%22markerColor%22%3A%20%22darkblue%22%2C%20%22prefix%22%3A%20%22fa%22%7D%0A%20%20%20%20%20%20%20%20%20%20%20%20%29%3B%0A%20%20%20%20%20%20%20%20%20%20%20%20marker_6e19a73341a94120a601e0082be48e09.setIcon%28icon_ceec3cb344be48b6832a19325645618f%29%3B%0A%20%20%20%20%20%20%20%20%0A%20%20%20%20%0A%20%20%20%20%20%20%20%20var%20popup_a422fde5daea45ffbad91f8bc1d183d5%20%3D%20L.popup%28%7B%22maxWidth%22%3A%20%22100%25%22%7D%29%3B%0A%0A%20%20%20%20%20%20%20%20%0A%20%20%20%20%20%20%20%20%20%20%20%20var%20html_2e0fc189152045fba82d47dbda5727d3%20%3D%20%24%28%60%3Cdiv%20id%3D%22html_2e0fc189152045fba82d47dbda5727d3%22%20style%3D%22width%3A%20100.0%25%3B%20height%3A%20100.0%25%3B%22%3EId%3A%20251%3Cbr%3EWaverley%20Station%3Cbr%3EDescription%3A%20Platform%20level%20near%20Calton%20Road%20Exit%3Cbr%3E%3Cbr%3ECounts%3A%201900%3C/div%3E%60%29%5B0%5D%3B%0A%20%20%20%20%20%20%20%20%20%20%20%20popup_a422fde5daea45ffbad91f8bc1d183d5.setContent%28html_2e0fc189152045fba82d47dbda5727d3%29%3B%0A%20%20%20%20%20%20%20%20%0A%0A%20%20%20%20%20%20%20%20marker_6e19a73341a94120a601e0082be48e09.bindPopup%28popup_a422fde5daea45ffbad91f8bc1d183d5%29%0A%20%20%20%20%20%20%20%20%3B%0A%0A%20%20%20%20%20%20%20%20%0A%20%20%20%20%0A%20%20%20%20%0A%20%20%20%20%20%20%20%20%20%20%20%20var%20marker_b98e8c1795954266b35f17761fe392c6%20%3D%20L.marker%28%0A%20%20%20%20%20%20%20%20%20%20%20%20%20%20%20%20%5B55.93894174548949%2C%20-3.251110776059022%5D%2C%0A%20%20%20%20%20%20%20%20%20%20%20%20%20%20%20%20%7B%7D%0A%20%20%20%20%20%20%20%20%20%20%20%20%29.addTo%28marker_cluster_ada872b66f8d4492ab77f3dff857f701%29%3B%0A%20%20%20%20%20%20%20%20%0A%20%20%20%20%0A%20%20%20%20%20%20%20%20%20%20%20%20var%20icon_3e92f215e1074051b7c77076148739bc%20%3D%20L.AwesomeMarkers.icon%28%0A%20%20%20%20%20%20%20%20%20%20%20%20%20%20%20%20%7B%22extraClasses%22%3A%20%22fa-rotate-0%22%2C%20%22icon%22%3A%20%22bicycle%22%2C%20%22iconColor%22%3A%20%22white%22%2C%20%22markerColor%22%3A%20%22darkblue%22%2C%20%22prefix%22%3A%20%22fa%22%7D%0A%20%20%20%20%20%20%20%20%20%20%20%20%29%3B%0A%20%20%20%20%20%20%20%20%20%20%20%20marker_b98e8c1795954266b35f17761fe392c6.setIcon%28icon_3e92f215e1074051b7c77076148739bc%29%3B%0A%20%20%20%20%20%20%20%20%0A%20%20%20%20%0A%20%20%20%20%20%20%20%20var%20popup_34e525b09ea146dba8de8158fba48e04%20%3D%20L.popup%28%7B%22maxWidth%22%3A%20%22100%25%22%7D%29%3B%0A%0A%20%20%20%20%20%20%20%20%0A%20%20%20%20%20%20%20%20%20%20%20%20var%20html_9a104e4d86c64aa89a98879ff7811ae6%20%3D%20%24%28%60%3Cdiv%20id%3D%22html_9a104e4d86c64aa89a98879ff7811ae6%22%20style%3D%22width%3A%20100.0%25%3B%20height%3A%20100.0%25%3B%22%3EId%3A%201766%3Cbr%3EBalgreen%20Road%3Cbr%3EDescription%3A%20Opposite%20Jenners%20Depository%3Cbr%3E%3Cbr%3ECounts%3A%201884%3C/div%3E%60%29%5B0%5D%3B%0A%20%20%20%20%20%20%20%20%20%20%20%20popup_34e525b09ea146dba8de8158fba48e04.setContent%28html_9a104e4d86c64aa89a98879ff7811ae6%29%3B%0A%20%20%20%20%20%20%20%20%0A%0A%20%20%20%20%20%20%20%20marker_b98e8c1795954266b35f17761fe392c6.bindPopup%28popup_34e525b09ea146dba8de8158fba48e04%29%0A%20%20%20%20%20%20%20%20%3B%0A%0A%20%20%20%20%20%20%20%20%0A%20%20%20%20%0A%20%20%20%20%0A%20%20%20%20%20%20%20%20%20%20%20%20var%20marker_b65f3075c4a844c6b633de8aa45b405e%20%3D%20L.marker%28%0A%20%20%20%20%20%20%20%20%20%20%20%20%20%20%20%20%5B55.93532370964813%2C%20-3.198763443819871%5D%2C%0A%20%20%20%20%20%20%20%20%20%20%20%20%20%20%20%20%7B%7D%0A%20%20%20%20%20%20%20%20%20%20%20%20%29.addTo%28marker_cluster_ada872b66f8d4492ab77f3dff857f701%29%3B%0A%20%20%20%20%20%20%20%20%0A%20%20%20%20%0A%20%20%20%20%20%20%20%20%20%20%20%20var%20icon_9faaad567d534c64922708e881a51a59%20%3D%20L.AwesomeMarkers.icon%28%0A%20%20%20%20%20%20%20%20%20%20%20%20%20%20%20%20%7B%22extraClasses%22%3A%20%22fa-rotate-0%22%2C%20%22icon%22%3A%20%22bicycle%22%2C%20%22iconColor%22%3A%20%22white%22%2C%20%22markerColor%22%3A%20%22darkblue%22%2C%20%22prefix%22%3A%20%22fa%22%7D%0A%20%20%20%20%20%20%20%20%20%20%20%20%29%3B%0A%20%20%20%20%20%20%20%20%20%20%20%20marker_b65f3075c4a844c6b633de8aa45b405e.setIcon%28icon_9faaad567d534c64922708e881a51a59%29%3B%0A%20%20%20%20%20%20%20%20%0A%20%20%20%20%0A%20%20%20%20%20%20%20%20var%20popup_cb975481526449c987041cfaeb74061d%20%3D%20L.popup%28%7B%22maxWidth%22%3A%20%22100%25%22%7D%29%3B%0A%0A%20%20%20%20%20%20%20%20%0A%20%20%20%20%20%20%20%20%20%20%20%20var%20html_c65e36519435471b900891809025d7b8%20%3D%20%24%28%60%3Cdiv%20id%3D%22html_c65e36519435471b900891809025d7b8%22%20style%3D%22width%3A%20100.0%25%3B%20height%3A%20100.0%25%3B%22%3EId%3A%201768%3Cbr%3EThirlestane%20Road%3Cbr%3EDescription%3A%20On%20corner%20with%20St%20Margaret%27s%20Place%3Cbr%3E%3Cbr%3ECounts%3A%201833%3C/div%3E%60%29%5B0%5D%3B%0A%20%20%20%20%20%20%20%20%20%20%20%20popup_cb975481526449c987041cfaeb74061d.setContent%28html_c65e36519435471b900891809025d7b8%29%3B%0A%20%20%20%20%20%20%20%20%0A%0A%20%20%20%20%20%20%20%20marker_b65f3075c4a844c6b633de8aa45b405e.bindPopup%28popup_cb975481526449c987041cfaeb74061d%29%0A%20%20%20%20%20%20%20%20%3B%0A%0A%20%20%20%20%20%20%20%20%0A%20%20%20%20%0A%20%20%20%20%0A%20%20%20%20%20%20%20%20%20%20%20%20var%20marker_438a33fe5b124c60ae944890ca932066%20%3D%20L.marker%28%0A%20%20%20%20%20%20%20%20%20%20%20%20%20%20%20%20%5B55.94485886752089%2C%20-3.182589723460069%5D%2C%0A%20%20%20%20%20%20%20%20%20%20%20%20%20%20%20%20%7B%7D%0A%20%20%20%20%20%20%20%20%20%20%20%20%29.addTo%28marker_cluster_ada872b66f8d4492ab77f3dff857f701%29%3B%0A%20%20%20%20%20%20%20%20%0A%20%20%20%20%0A%20%20%20%20%20%20%20%20%20%20%20%20var%20icon_26087b8d6a844640903310f579d358a4%20%3D%20L.AwesomeMarkers.icon%28%0A%20%20%20%20%20%20%20%20%20%20%20%20%20%20%20%20%7B%22extraClasses%22%3A%20%22fa-rotate-0%22%2C%20%22icon%22%3A%20%22bicycle%22%2C%20%22iconColor%22%3A%20%22white%22%2C%20%22markerColor%22%3A%20%22darkblue%22%2C%20%22prefix%22%3A%20%22fa%22%7D%0A%20%20%20%20%20%20%20%20%20%20%20%20%29%3B%0A%20%20%20%20%20%20%20%20%20%20%20%20marker_438a33fe5b124c60ae944890ca932066.setIcon%28icon_26087b8d6a844640903310f579d358a4%29%3B%0A%20%20%20%20%20%20%20%20%0A%20%20%20%20%0A%20%20%20%20%20%20%20%20var%20popup_2c9223e083394079a157385a5c9045e6%20%3D%20L.popup%28%7B%22maxWidth%22%3A%20%22100%25%22%7D%29%3B%0A%0A%20%20%20%20%20%20%20%20%0A%20%20%20%20%20%20%20%20%20%20%20%20var%20html_24106da650c04cc5afd42d694d90a86f%20%3D%20%24%28%60%3Cdiv%20id%3D%22html_24106da650c04cc5afd42d694d90a86f%22%20style%3D%22width%3A%20100.0%25%3B%20height%3A%20100.0%25%3B%22%3EId%3A%201726%3Cbr%3ESimon%20Square%3Cbr%3EDescription%3A%20Between%20Pleasance%20and%20Nicholson%20Street%3Cbr%3E%3Cbr%3ECounts%3A%201802%3C/div%3E%60%29%5B0%5D%3B%0A%20%20%20%20%20%20%20%20%20%20%20%20popup_2c9223e083394079a157385a5c9045e6.setContent%28html_24106da650c04cc5afd42d694d90a86f%29%3B%0A%20%20%20%20%20%20%20%20%0A%0A%20%20%20%20%20%20%20%20marker_438a33fe5b124c60ae944890ca932066.bindPopup%28popup_2c9223e083394079a157385a5c9045e6%29%0A%20%20%20%20%20%20%20%20%3B%0A%0A%20%20%20%20%20%20%20%20%0A%20%20%20%20%0A%20%20%20%20%0A%20%20%20%20%20%20%20%20%20%20%20%20var%20marker_93d904d303244ff19ac1a86041783cf4%20%3D%20L.marker%28%0A%20%20%20%20%20%20%20%20%20%20%20%20%20%20%20%20%5B55.97592062794979%2C%20-3.191346079294362%5D%2C%0A%20%20%20%20%20%20%20%20%20%20%20%20%20%20%20%20%7B%7D%0A%20%20%20%20%20%20%20%20%20%20%20%20%29.addTo%28marker_cluster_ada872b66f8d4492ab77f3dff857f701%29%3B%0A%20%20%20%20%20%20%20%20%0A%20%20%20%20%0A%20%20%20%20%20%20%20%20%20%20%20%20var%20icon_71e1631ed5664b889e2c8828fa2d5afa%20%3D%20L.AwesomeMarkers.icon%28%0A%20%20%20%20%20%20%20%20%20%20%20%20%20%20%20%20%7B%22extraClasses%22%3A%20%22fa-rotate-0%22%2C%20%22icon%22%3A%20%22bicycle%22%2C%20%22iconColor%22%3A%20%22white%22%2C%20%22markerColor%22%3A%20%22darkblue%22%2C%20%22prefix%22%3A%20%22fa%22%7D%0A%20%20%20%20%20%20%20%20%20%20%20%20%29%3B%0A%20%20%20%20%20%20%20%20%20%20%20%20marker_93d904d303244ff19ac1a86041783cf4.setIcon%28icon_71e1631ed5664b889e2c8828fa2d5afa%29%3B%0A%20%20%20%20%20%20%20%20%0A%20%20%20%20%0A%20%20%20%20%20%20%20%20var%20popup_a1ca80e5998c47068cacbcad14fd7834%20%3D%20L.popup%28%7B%22maxWidth%22%3A%20%22100%25%22%7D%29%3B%0A%0A%20%20%20%20%20%20%20%20%0A%20%20%20%20%20%20%20%20%20%20%20%20var%20html_9e7d9a1e9a1142299ce7163b14f3db16%20%3D%20%24%28%60%3Cdiv%20id%3D%22html_9e7d9a1e9a1142299ce7163b14f3db16%22%20style%3D%22width%3A%20100.0%25%3B%20height%3A%20100.0%25%3B%22%3EId%3A%20366%3Cbr%3EDudley%20Gardens%3Cbr%3EDescription%3A%20Corner%20of%20Dudley%20Gardens%20on%20Newhaven%20Road%3Cbr%3E%3Cbr%3ECounts%3A%201693%3C/div%3E%60%29%5B0%5D%3B%0A%20%20%20%20%20%20%20%20%20%20%20%20popup_a1ca80e5998c47068cacbcad14fd7834.setContent%28html_9e7d9a1e9a1142299ce7163b14f3db16%29%3B%0A%20%20%20%20%20%20%20%20%0A%0A%20%20%20%20%20%20%20%20marker_93d904d303244ff19ac1a86041783cf4.bindPopup%28popup_a1ca80e5998c47068cacbcad14fd7834%29%0A%20%20%20%20%20%20%20%20%3B%0A%0A%20%20%20%20%20%20%20%20%0A%20%20%20%20%0A%20%20%20%20%0A%20%20%20%20%20%20%20%20%20%20%20%20var%20marker_0de6aee5df704f7b8b7a7e381e979393%20%3D%20L.marker%28%0A%20%20%20%20%20%20%20%20%20%20%20%20%20%20%20%20%5B55.99052952143077%2C%20-3.385596660576908%5D%2C%0A%20%20%20%20%20%20%20%20%20%20%20%20%20%20%20%20%7B%7D%0A%20%20%20%20%20%20%20%20%20%20%20%20%29.addTo%28marker_cluster_ada872b66f8d4492ab77f3dff857f701%29%3B%0A%20%20%20%20%20%20%20%20%0A%20%20%20%20%0A%20%20%20%20%20%20%20%20%20%20%20%20var%20icon_500a01b9c12c493190f24219058329d7%20%3D%20L.AwesomeMarkers.icon%28%0A%20%20%20%20%20%20%20%20%20%20%20%20%20%20%20%20%7B%22extraClasses%22%3A%20%22fa-rotate-0%22%2C%20%22icon%22%3A%20%22bicycle%22%2C%20%22iconColor%22%3A%20%22white%22%2C%20%22markerColor%22%3A%20%22darkblue%22%2C%20%22prefix%22%3A%20%22fa%22%7D%0A%20%20%20%20%20%20%20%20%20%20%20%20%29%3B%0A%20%20%20%20%20%20%20%20%20%20%20%20marker_0de6aee5df704f7b8b7a7e381e979393.setIcon%28icon_500a01b9c12c493190f24219058329d7%29%3B%0A%20%20%20%20%20%20%20%20%0A%20%20%20%20%0A%20%20%20%20%20%20%20%20var%20popup_99b52e960a1047b88bbadf8d60fee9f2%20%3D%20L.popup%28%7B%22maxWidth%22%3A%20%22100%25%22%7D%29%3B%0A%0A%20%20%20%20%20%20%20%20%0A%20%20%20%20%20%20%20%20%20%20%20%20var%20html_1e2696b42e774db588725245225deb57%20%3D%20%24%28%60%3Cdiv%20id%3D%22html_1e2696b42e774db588725245225deb57%22%20style%3D%22width%3A%20100.0%25%3B%20height%3A%20100.0%25%3B%22%3EId%3A%201870%3Cbr%3EHawes%20Pier%3Cbr%3EDescription%3A%20Off%20Newhalls%20Road%3Cbr%3E%3Cbr%3ECounts%3A%201643%3C/div%3E%60%29%5B0%5D%3B%0A%20%20%20%20%20%20%20%20%20%20%20%20popup_99b52e960a1047b88bbadf8d60fee9f2.setContent%28html_1e2696b42e774db588725245225deb57%29%3B%0A%20%20%20%20%20%20%20%20%0A%0A%20%20%20%20%20%20%20%20marker_0de6aee5df704f7b8b7a7e381e979393.bindPopup%28popup_99b52e960a1047b88bbadf8d60fee9f2%29%0A%20%20%20%20%20%20%20%20%3B%0A%0A%20%20%20%20%20%20%20%20%0A%20%20%20%20%0A%20%20%20%20%0A%20%20%20%20%20%20%20%20%20%20%20%20var%20marker_a6837fdea97e4832b87c597a0f03b4af%20%3D%20L.marker%28%0A%20%20%20%20%20%20%20%20%20%20%20%20%20%20%20%20%5B55.964058329676064%2C%20-3.195700361124863%5D%2C%0A%20%20%20%20%20%20%20%20%20%20%20%20%20%20%20%20%7B%7D%0A%20%20%20%20%20%20%20%20%20%20%20%20%29.addTo%28marker_cluster_ada872b66f8d4492ab77f3dff857f701%29%3B%0A%20%20%20%20%20%20%20%20%0A%20%20%20%20%0A%20%20%20%20%20%20%20%20%20%20%20%20var%20icon_9f2d77642e43441f8c208963e650840b%20%3D%20L.AwesomeMarkers.icon%28%0A%20%20%20%20%20%20%20%20%20%20%20%20%20%20%20%20%7B%22extraClasses%22%3A%20%22fa-rotate-0%22%2C%20%22icon%22%3A%20%22bicycle%22%2C%20%22iconColor%22%3A%20%22white%22%2C%20%22markerColor%22%3A%20%22darkblue%22%2C%20%22prefix%22%3A%20%22fa%22%7D%0A%20%20%20%20%20%20%20%20%20%20%20%20%29%3B%0A%20%20%20%20%20%20%20%20%20%20%20%20marker_a6837fdea97e4832b87c597a0f03b4af.setIcon%28icon_9f2d77642e43441f8c208963e650840b%29%3B%0A%20%20%20%20%20%20%20%20%0A%20%20%20%20%0A%20%20%20%20%20%20%20%20var%20popup_18e3d68e938949d8bb5283d759caf5e8%20%3D%20L.popup%28%7B%22maxWidth%22%3A%20%22100%25%22%7D%29%3B%0A%0A%20%20%20%20%20%20%20%20%0A%20%20%20%20%20%20%20%20%20%20%20%20var%20html_bd7b2c1d205e41bc8ce98498d8babc0e%20%3D%20%24%28%60%3Cdiv%20id%3D%22html_bd7b2c1d205e41bc8ce98498d8babc0e%22%20style%3D%22width%3A%20100.0%25%3B%20height%3A%20100.0%25%3B%22%3EId%3A%201743%3Cbr%3ELogie%20Green%20Road%3Cbr%3EDescription%3A%20Outside%20Lidl%3Cbr%3E%3Cbr%3ECounts%3A%201618%3C/div%3E%60%29%5B0%5D%3B%0A%20%20%20%20%20%20%20%20%20%20%20%20popup_18e3d68e938949d8bb5283d759caf5e8.setContent%28html_bd7b2c1d205e41bc8ce98498d8babc0e%29%3B%0A%20%20%20%20%20%20%20%20%0A%0A%20%20%20%20%20%20%20%20marker_a6837fdea97e4832b87c597a0f03b4af.bindPopup%28popup_18e3d68e938949d8bb5283d759caf5e8%29%0A%20%20%20%20%20%20%20%20%3B%0A%0A%20%20%20%20%20%20%20%20%0A%20%20%20%20%0A%20%20%20%20%0A%20%20%20%20%20%20%20%20%20%20%20%20var%20marker_9a18ed1456d1451295aa1b9e05c257a8%20%3D%20L.marker%28%0A%20%20%20%20%20%20%20%20%20%20%20%20%20%20%20%20%5B55.93972942415463%2C%20-3.220602995527315%5D%2C%0A%20%20%20%20%20%20%20%20%20%20%20%20%20%20%20%20%7B%7D%0A%20%20%20%20%20%20%20%20%20%20%20%20%29.addTo%28marker_cluster_ada872b66f8d4492ab77f3dff857f701%29%3B%0A%20%20%20%20%20%20%20%20%0A%20%20%20%20%0A%20%20%20%20%20%20%20%20%20%20%20%20var%20icon_a0cfb4bde559444c9e4d70f94fbad58e%20%3D%20L.AwesomeMarkers.icon%28%0A%20%20%20%20%20%20%20%20%20%20%20%20%20%20%20%20%7B%22extraClasses%22%3A%20%22fa-rotate-0%22%2C%20%22icon%22%3A%20%22bicycle%22%2C%20%22iconColor%22%3A%20%22white%22%2C%20%22markerColor%22%3A%20%22darkblue%22%2C%20%22prefix%22%3A%20%22fa%22%7D%0A%20%20%20%20%20%20%20%20%20%20%20%20%29%3B%0A%20%20%20%20%20%20%20%20%20%20%20%20marker_9a18ed1456d1451295aa1b9e05c257a8.setIcon%28icon_a0cfb4bde559444c9e4d70f94fbad58e%29%3B%0A%20%20%20%20%20%20%20%20%0A%20%20%20%20%0A%20%20%20%20%20%20%20%20var%20popup_4181abbd680c453e995feb9b71ffbc3b%20%3D%20L.popup%28%7B%22maxWidth%22%3A%20%22100%25%22%7D%29%3B%0A%0A%20%20%20%20%20%20%20%20%0A%20%20%20%20%20%20%20%20%20%20%20%20var%20html_cc36ea2cf4434560b5fac59162768eb2%20%3D%20%24%28%60%3Cdiv%20id%3D%22html_cc36ea2cf4434560b5fac59162768eb2%22%20style%3D%22width%3A%20100.0%25%3B%20height%3A%20100.0%25%3B%22%3EId%3A%20352%3Cbr%3EDundee%20Terrace%3Cbr%3EDescription%3A%20Dundee%20Terrace%20outside%20%22glass%20supplies%22%3Cbr%3E%3Cbr%3ECounts%3A%201554%3C/div%3E%60%29%5B0%5D%3B%0A%20%20%20%20%20%20%20%20%20%20%20%20popup_4181abbd680c453e995feb9b71ffbc3b.setContent%28html_cc36ea2cf4434560b5fac59162768eb2%29%3B%0A%20%20%20%20%20%20%20%20%0A%0A%20%20%20%20%20%20%20%20marker_9a18ed1456d1451295aa1b9e05c257a8.bindPopup%28popup_4181abbd680c453e995feb9b71ffbc3b%29%0A%20%20%20%20%20%20%20%20%3B%0A%0A%20%20%20%20%20%20%20%20%0A%20%20%20%20%0A%20%20%20%20%0A%20%20%20%20%20%20%20%20%20%20%20%20var%20marker_fee30f160d9c4523807a44b48003c5d0%20%3D%20L.marker%28%0A%20%20%20%20%20%20%20%20%20%20%20%20%20%20%20%20%5B55.96414559786725%2C%20-3.202073560611438%5D%2C%0A%20%20%20%20%20%20%20%20%20%20%20%20%20%20%20%20%7B%7D%0A%20%20%20%20%20%20%20%20%20%20%20%20%29.addTo%28marker_cluster_ada872b66f8d4492ab77f3dff857f701%29%3B%0A%20%20%20%20%20%20%20%20%0A%20%20%20%20%0A%20%20%20%20%20%20%20%20%20%20%20%20var%20icon_feac802069f940ac963b348453f2b949%20%3D%20L.AwesomeMarkers.icon%28%0A%20%20%20%20%20%20%20%20%20%20%20%20%20%20%20%20%7B%22extraClasses%22%3A%20%22fa-rotate-0%22%2C%20%22icon%22%3A%20%22bicycle%22%2C%20%22iconColor%22%3A%20%22white%22%2C%20%22markerColor%22%3A%20%22darkblue%22%2C%20%22prefix%22%3A%20%22fa%22%7D%0A%20%20%20%20%20%20%20%20%20%20%20%20%29%3B%0A%20%20%20%20%20%20%20%20%20%20%20%20marker_fee30f160d9c4523807a44b48003c5d0.setIcon%28icon_feac802069f940ac963b348453f2b949%29%3B%0A%20%20%20%20%20%20%20%20%0A%20%20%20%20%0A%20%20%20%20%20%20%20%20var%20popup_95d2f0d5b9ca42bf94db765aeafe06a3%20%3D%20L.popup%28%7B%22maxWidth%22%3A%20%22100%25%22%7D%29%3B%0A%0A%20%20%20%20%20%20%20%20%0A%20%20%20%20%20%20%20%20%20%20%20%20var%20html_1f5301b62f1f4ad5a8a74dbd632e45e0%20%3D%20%24%28%60%3Cdiv%20id%3D%22html_1f5301b62f1f4ad5a8a74dbd632e45e0%22%20style%3D%22width%3A%20100.0%25%3B%20height%3A%20100.0%25%3B%22%3EId%3A%20355%3Cbr%3EInverleith%20Row%3Cbr%3EDescription%3A%20Corner%20of%20Inverleith%20Row%20%26%20Inverleith%20Terrace%3Cbr%3E%3Cbr%3ECounts%3A%201548%3C/div%3E%60%29%5B0%5D%3B%0A%20%20%20%20%20%20%20%20%20%20%20%20popup_95d2f0d5b9ca42bf94db765aeafe06a3.setContent%28html_1f5301b62f1f4ad5a8a74dbd632e45e0%29%3B%0A%20%20%20%20%20%20%20%20%0A%0A%20%20%20%20%20%20%20%20marker_fee30f160d9c4523807a44b48003c5d0.bindPopup%28popup_95d2f0d5b9ca42bf94db765aeafe06a3%29%0A%20%20%20%20%20%20%20%20%3B%0A%0A%20%20%20%20%20%20%20%20%0A%20%20%20%20%0A%20%20%20%20%0A%20%20%20%20%20%20%20%20%20%20%20%20var%20marker_802501b7065d42dd94f4231412b56bbb%20%3D%20L.marker%28%0A%20%20%20%20%20%20%20%20%20%20%20%20%20%20%20%20%5B55.969442746098885%2C%20-3.307258798472374%5D%2C%0A%20%20%20%20%20%20%20%20%20%20%20%20%20%20%20%20%7B%7D%0A%20%20%20%20%20%20%20%20%20%20%20%20%29.addTo%28marker_cluster_ada872b66f8d4492ab77f3dff857f701%29%3B%0A%20%20%20%20%20%20%20%20%0A%20%20%20%20%0A%20%20%20%20%20%20%20%20%20%20%20%20var%20icon_fcc1cfa2c48f4512938478baaf564dca%20%3D%20L.AwesomeMarkers.icon%28%0A%20%20%20%20%20%20%20%20%20%20%20%20%20%20%20%20%7B%22extraClasses%22%3A%20%22fa-rotate-0%22%2C%20%22icon%22%3A%20%22bicycle%22%2C%20%22iconColor%22%3A%20%22white%22%2C%20%22markerColor%22%3A%20%22darkblue%22%2C%20%22prefix%22%3A%20%22fa%22%7D%0A%20%20%20%20%20%20%20%20%20%20%20%20%29%3B%0A%20%20%20%20%20%20%20%20%20%20%20%20marker_802501b7065d42dd94f4231412b56bbb.setIcon%28icon_fcc1cfa2c48f4512938478baaf564dca%29%3B%0A%20%20%20%20%20%20%20%20%0A%20%20%20%20%0A%20%20%20%20%20%20%20%20var%20popup_633191fdfab04e21a3c8dbe1f3aeaade%20%3D%20L.popup%28%7B%22maxWidth%22%3A%20%22100%25%22%7D%29%3B%0A%0A%20%20%20%20%20%20%20%20%0A%20%20%20%20%20%20%20%20%20%20%20%20var%20html_11030679bd9c4e6dbb1592c5aad85ef8%20%3D%20%24%28%60%3Cdiv%20id%3D%22html_11030679bd9c4e6dbb1592c5aad85ef8%22%20style%3D%22width%3A%20100.0%25%3B%20height%3A%20100.0%25%3B%22%3EId%3A%201807%3Cbr%3EGamekeeper%27s%20Road%3Cbr%3EDescription%3A%20Junction%20with%20Whitehouse%20Road%3Cbr%3E%3Cbr%3ECounts%3A%201528%3C/div%3E%60%29%5B0%5D%3B%0A%20%20%20%20%20%20%20%20%20%20%20%20popup_633191fdfab04e21a3c8dbe1f3aeaade.setContent%28html_11030679bd9c4e6dbb1592c5aad85ef8%29%3B%0A%20%20%20%20%20%20%20%20%0A%0A%20%20%20%20%20%20%20%20marker_802501b7065d42dd94f4231412b56bbb.bindPopup%28popup_633191fdfab04e21a3c8dbe1f3aeaade%29%0A%20%20%20%20%20%20%20%20%3B%0A%0A%20%20%20%20%20%20%20%20%0A%20%20%20%20%0A%20%20%20%20%0A%20%20%20%20%20%20%20%20%20%20%20%20var%20marker_d975bfcfc7124f5e923af06a35589e29%20%3D%20L.marker%28%0A%20%20%20%20%20%20%20%20%20%20%20%20%20%20%20%20%5B55.95508276879095%2C%20-3.223634263956455%5D%2C%0A%20%20%20%20%20%20%20%20%20%20%20%20%20%20%20%20%7B%7D%0A%20%20%20%20%20%20%20%20%20%20%20%20%29.addTo%28marker_cluster_ada872b66f8d4492ab77f3dff857f701%29%3B%0A%20%20%20%20%20%20%20%20%0A%20%20%20%20%0A%20%20%20%20%20%20%20%20%20%20%20%20var%20icon_ff193bb960be4455ad2e33297a082e62%20%3D%20L.AwesomeMarkers.icon%28%0A%20%20%20%20%20%20%20%20%20%20%20%20%20%20%20%20%7B%22extraClasses%22%3A%20%22fa-rotate-0%22%2C%20%22icon%22%3A%20%22bicycle%22%2C%20%22iconColor%22%3A%20%22white%22%2C%20%22markerColor%22%3A%20%22darkblue%22%2C%20%22prefix%22%3A%20%22fa%22%7D%0A%20%20%20%20%20%20%20%20%20%20%20%20%29%3B%0A%20%20%20%20%20%20%20%20%20%20%20%20marker_d975bfcfc7124f5e923af06a35589e29.setIcon%28icon_ff193bb960be4455ad2e33297a082e62%29%3B%0A%20%20%20%20%20%20%20%20%0A%20%20%20%20%0A%20%20%20%20%20%20%20%20var%20popup_94cbcf3d23e74ddbb43f9e04a510ff33%20%3D%20L.popup%28%7B%22maxWidth%22%3A%20%22100%25%22%7D%29%3B%0A%0A%20%20%20%20%20%20%20%20%0A%20%20%20%20%20%20%20%20%20%20%20%20var%20html_cb3beec5fae04531a51ea596ad058cf8%20%3D%20%24%28%60%3Cdiv%20id%3D%22html_cb3beec5fae04531a51ea596ad058cf8%22%20style%3D%22width%3A%20100.0%25%3B%20height%3A%20100.0%25%3B%22%3EId%3A%20349%3Cbr%3EOrchard%20Brae%20House%3Cbr%3EDescription%3A%20Outside%20Orchard%20Brae%20House%20on%20Queensferry%20Road%3Cbr%3E%3Cbr%3ECounts%3A%201436%3C/div%3E%60%29%5B0%5D%3B%0A%20%20%20%20%20%20%20%20%20%20%20%20popup_94cbcf3d23e74ddbb43f9e04a510ff33.setContent%28html_cb3beec5fae04531a51ea596ad058cf8%29%3B%0A%20%20%20%20%20%20%20%20%0A%0A%20%20%20%20%20%20%20%20marker_d975bfcfc7124f5e923af06a35589e29.bindPopup%28popup_94cbcf3d23e74ddbb43f9e04a510ff33%29%0A%20%20%20%20%20%20%20%20%3B%0A%0A%20%20%20%20%20%20%20%20%0A%20%20%20%20%0A%20%20%20%20%0A%20%20%20%20%20%20%20%20%20%20%20%20var%20marker_8261bb6ede6c4df2a5aaf1d158d7b815%20%3D%20L.marker%28%0A%20%20%20%20%20%20%20%20%20%20%20%20%20%20%20%20%5B55.94166971920444%2C%20-3.271523727766862%5D%2C%0A%20%20%20%20%20%20%20%20%20%20%20%20%20%20%20%20%7B%7D%0A%20%20%20%20%20%20%20%20%20%20%20%20%29.addTo%28marker_cluster_ada872b66f8d4492ab77f3dff857f701%29%3B%0A%20%20%20%20%20%20%20%20%0A%20%20%20%20%0A%20%20%20%20%20%20%20%20%20%20%20%20var%20icon_3f53acfc5a0047068029c0ed80ea9543%20%3D%20L.AwesomeMarkers.icon%28%0A%20%20%20%20%20%20%20%20%20%20%20%20%20%20%20%20%7B%22extraClasses%22%3A%20%22fa-rotate-0%22%2C%20%22icon%22%3A%20%22bicycle%22%2C%20%22iconColor%22%3A%20%22white%22%2C%20%22markerColor%22%3A%20%22darkblue%22%2C%20%22prefix%22%3A%20%22fa%22%7D%0A%20%20%20%20%20%20%20%20%20%20%20%20%29%3B%0A%20%20%20%20%20%20%20%20%20%20%20%20marker_8261bb6ede6c4df2a5aaf1d158d7b815.setIcon%28icon_3f53acfc5a0047068029c0ed80ea9543%29%3B%0A%20%20%20%20%20%20%20%20%0A%20%20%20%20%0A%20%20%20%20%20%20%20%20var%20popup_dcbe074188564137a6239e34b0949cc2%20%3D%20L.popup%28%7B%22maxWidth%22%3A%20%22100%25%22%7D%29%3B%0A%0A%20%20%20%20%20%20%20%20%0A%20%20%20%20%20%20%20%20%20%20%20%20var%20html_e420bfda28f3476c937ae894af67fc2e%20%3D%20%24%28%60%3Cdiv%20id%3D%22html_e420bfda28f3476c937ae894af67fc2e%22%20style%3D%22width%3A%20100.0%25%3B%20height%3A%20100.0%25%3B%22%3EId%3A%201747%3Cbr%3ECorstorphine%20Road%3Cbr%3EDescription%3A%20Outside%20Silvan%20House%2C%20Forestry%20and%20Land%20Scotland%3Cbr%3E%3Cbr%3ECounts%3A%201408%3C/div%3E%60%29%5B0%5D%3B%0A%20%20%20%20%20%20%20%20%20%20%20%20popup_dcbe074188564137a6239e34b0949cc2.setContent%28html_e420bfda28f3476c937ae894af67fc2e%29%3B%0A%20%20%20%20%20%20%20%20%0A%0A%20%20%20%20%20%20%20%20marker_8261bb6ede6c4df2a5aaf1d158d7b815.bindPopup%28popup_dcbe074188564137a6239e34b0949cc2%29%0A%20%20%20%20%20%20%20%20%3B%0A%0A%20%20%20%20%20%20%20%20%0A%20%20%20%20%0A%20%20%20%20%0A%20%20%20%20%20%20%20%20%20%20%20%20var%20marker_89b9066d2de94c08b8ec762ce85101d5%20%3D%20L.marker%28%0A%20%20%20%20%20%20%20%20%20%20%20%20%20%20%20%20%5B55.931980482636575%2C%20-3.073104633681168%5D%2C%0A%20%20%20%20%20%20%20%20%20%20%20%20%20%20%20%20%7B%7D%0A%20%20%20%20%20%20%20%20%20%20%20%20%29.addTo%28marker_cluster_ada872b66f8d4492ab77f3dff857f701%29%3B%0A%20%20%20%20%20%20%20%20%0A%20%20%20%20%0A%20%20%20%20%20%20%20%20%20%20%20%20var%20icon_706ca71d178748c89e20ded9f3facad4%20%3D%20L.AwesomeMarkers.icon%28%0A%20%20%20%20%20%20%20%20%20%20%20%20%20%20%20%20%7B%22extraClasses%22%3A%20%22fa-rotate-0%22%2C%20%22icon%22%3A%20%22bicycle%22%2C%20%22iconColor%22%3A%20%22white%22%2C%20%22markerColor%22%3A%20%22darkblue%22%2C%20%22prefix%22%3A%20%22fa%22%7D%0A%20%20%20%20%20%20%20%20%20%20%20%20%29%3B%0A%20%20%20%20%20%20%20%20%20%20%20%20marker_89b9066d2de94c08b8ec762ce85101d5.setIcon%28icon_706ca71d178748c89e20ded9f3facad4%29%3B%0A%20%20%20%20%20%20%20%20%0A%20%20%20%20%0A%20%20%20%20%20%20%20%20var%20popup_93974a4db8bc4b9dbe92dfce27e4672e%20%3D%20L.popup%28%7B%22maxWidth%22%3A%20%22100%25%22%7D%29%3B%0A%0A%20%20%20%20%20%20%20%20%0A%20%20%20%20%20%20%20%20%20%20%20%20var%20html_fccf93fe00534c1b98890e00694390b8%20%3D%20%24%28%60%3Cdiv%20id%3D%22html_fccf93fe00534c1b98890e00694390b8%22%20style%3D%22width%3A%20100.0%25%3B%20height%3A%20100.0%25%3B%22%3EId%3A%201758%3Cbr%3EQueen%20Margaret%20University%3Cbr%3EDescription%3A%20University%20Courtyard%3Cbr%3E%3Cbr%3ECounts%3A%201376%3C/div%3E%60%29%5B0%5D%3B%0A%20%20%20%20%20%20%20%20%20%20%20%20popup_93974a4db8bc4b9dbe92dfce27e4672e.setContent%28html_fccf93fe00534c1b98890e00694390b8%29%3B%0A%20%20%20%20%20%20%20%20%0A%0A%20%20%20%20%20%20%20%20marker_89b9066d2de94c08b8ec762ce85101d5.bindPopup%28popup_93974a4db8bc4b9dbe92dfce27e4672e%29%0A%20%20%20%20%20%20%20%20%3B%0A%0A%20%20%20%20%20%20%20%20%0A%20%20%20%20%0A%20%20%20%20%0A%20%20%20%20%20%20%20%20%20%20%20%20var%20marker_b615dc78a78945b389f299f7f7c92894%20%3D%20L.marker%28%0A%20%20%20%20%20%20%20%20%20%20%20%20%20%20%20%20%5B55.957278012740645%2C%20-3.214285387389054%5D%2C%0A%20%20%20%20%20%20%20%20%20%20%20%20%20%20%20%20%7B%7D%0A%20%20%20%20%20%20%20%20%20%20%20%20%29.addTo%28marker_cluster_ada872b66f8d4492ab77f3dff857f701%29%3B%0A%20%20%20%20%20%20%20%20%0A%20%20%20%20%0A%20%20%20%20%20%20%20%20%20%20%20%20var%20icon_eb0d3ec318a847d59c2c791d722fe005%20%3D%20L.AwesomeMarkers.icon%28%0A%20%20%20%20%20%20%20%20%20%20%20%20%20%20%20%20%7B%22extraClasses%22%3A%20%22fa-rotate-0%22%2C%20%22icon%22%3A%20%22bicycle%22%2C%20%22iconColor%22%3A%20%22white%22%2C%20%22markerColor%22%3A%20%22darkblue%22%2C%20%22prefix%22%3A%20%22fa%22%7D%0A%20%20%20%20%20%20%20%20%20%20%20%20%29%3B%0A%20%20%20%20%20%20%20%20%20%20%20%20marker_b615dc78a78945b389f299f7f7c92894.setIcon%28icon_eb0d3ec318a847d59c2c791d722fe005%29%3B%0A%20%20%20%20%20%20%20%20%0A%20%20%20%20%0A%20%20%20%20%20%20%20%20var%20popup_629bd880983141d3869c2e0574429085%20%3D%20L.popup%28%7B%22maxWidth%22%3A%20%22100%25%22%7D%29%3B%0A%0A%20%20%20%20%20%20%20%20%0A%20%20%20%20%20%20%20%20%20%20%20%20var%20html_695372cec62f416f936986bf1a274d5b%20%3D%20%24%28%60%3Cdiv%20id%3D%22html_695372cec62f416f936986bf1a274d5b%22%20style%3D%22width%3A%20100.0%25%3B%20height%3A%20100.0%25%3B%22%3EId%3A%201749%3Cbr%3EDean%20Street%3Cbr%3EDescription%3A%20Corner%20of%20Dean%20Park%20Mews%3Cbr%3E%3Cbr%3ECounts%3A%201327%3C/div%3E%60%29%5B0%5D%3B%0A%20%20%20%20%20%20%20%20%20%20%20%20popup_629bd880983141d3869c2e0574429085.setContent%28html_695372cec62f416f936986bf1a274d5b%29%3B%0A%20%20%20%20%20%20%20%20%0A%0A%20%20%20%20%20%20%20%20marker_b615dc78a78945b389f299f7f7c92894.bindPopup%28popup_629bd880983141d3869c2e0574429085%29%0A%20%20%20%20%20%20%20%20%3B%0A%0A%20%20%20%20%20%20%20%20%0A%20%20%20%20%0A%20%20%20%20%0A%20%20%20%20%20%20%20%20%20%20%20%20var%20marker_286e25b00a3349408454b6ec91d8604d%20%3D%20L.marker%28%0A%20%20%20%20%20%20%20%20%20%20%20%20%20%20%20%20%5B55.921220122613306%2C%20-3.13907555503124%5D%2C%0A%20%20%20%20%20%20%20%20%20%20%20%20%20%20%20%20%7B%7D%0A%20%20%20%20%20%20%20%20%20%20%20%20%29.addTo%28marker_cluster_ada872b66f8d4492ab77f3dff857f701%29%3B%0A%20%20%20%20%20%20%20%20%0A%20%20%20%20%0A%20%20%20%20%20%20%20%20%20%20%20%20var%20icon_a21a36c6540947e599eb5301a7687bc7%20%3D%20L.AwesomeMarkers.icon%28%0A%20%20%20%20%20%20%20%20%20%20%20%20%20%20%20%20%7B%22extraClasses%22%3A%20%22fa-rotate-0%22%2C%20%22icon%22%3A%20%22bicycle%22%2C%20%22iconColor%22%3A%20%22white%22%2C%20%22markerColor%22%3A%20%22darkblue%22%2C%20%22prefix%22%3A%20%22fa%22%7D%0A%20%20%20%20%20%20%20%20%20%20%20%20%29%3B%0A%20%20%20%20%20%20%20%20%20%20%20%20marker_286e25b00a3349408454b6ec91d8604d.setIcon%28icon_a21a36c6540947e599eb5301a7687bc7%29%3B%0A%20%20%20%20%20%20%20%20%0A%20%20%20%20%0A%20%20%20%20%20%20%20%20var%20popup_3fa6f41d612947bbafae83337d5bdd32%20%3D%20L.popup%28%7B%22maxWidth%22%3A%20%22100%25%22%7D%29%3B%0A%0A%20%20%20%20%20%20%20%20%0A%20%20%20%20%20%20%20%20%20%20%20%20var%20html_bb6275b2146746cbb5772ffedc68c7e0%20%3D%20%24%28%60%3Cdiv%20id%3D%22html_bb6275b2146746cbb5772ffedc68c7e0%22%20style%3D%22width%3A%20100.0%25%3B%20height%3A%20100.0%25%3B%22%3EId%3A%201739%3Cbr%3EEdinburgh%20Royal%20Infirmary%3Cbr%3EDescription%3A%20Front%20of%20new%20Sick%20Kids%20Hospital%3Cbr%3E%3Cbr%3ECounts%3A%201309%3C/div%3E%60%29%5B0%5D%3B%0A%20%20%20%20%20%20%20%20%20%20%20%20popup_3fa6f41d612947bbafae83337d5bdd32.setContent%28html_bb6275b2146746cbb5772ffedc68c7e0%29%3B%0A%20%20%20%20%20%20%20%20%0A%0A%20%20%20%20%20%20%20%20marker_286e25b00a3349408454b6ec91d8604d.bindPopup%28popup_3fa6f41d612947bbafae83337d5bdd32%29%0A%20%20%20%20%20%20%20%20%3B%0A%0A%20%20%20%20%20%20%20%20%0A%20%20%20%20%0A%20%20%20%20%0A%20%20%20%20%20%20%20%20%20%20%20%20var%20marker_55c10cd21706433aa707a77fdb0ab721%20%3D%20L.marker%28%0A%20%20%20%20%20%20%20%20%20%20%20%20%20%20%20%20%5B55.92446420087144%2C%20-3.178731512475451%5D%2C%0A%20%20%20%20%20%20%20%20%20%20%20%20%20%20%20%20%7B%7D%0A%20%20%20%20%20%20%20%20%20%20%20%20%29.addTo%28marker_cluster_ada872b66f8d4492ab77f3dff857f701%29%3B%0A%20%20%20%20%20%20%20%20%0A%20%20%20%20%0A%20%20%20%20%20%20%20%20%20%20%20%20var%20icon_77eba6909f1c4d9280f5fbb20819f0d2%20%3D%20L.AwesomeMarkers.icon%28%0A%20%20%20%20%20%20%20%20%20%20%20%20%20%20%20%20%7B%22extraClasses%22%3A%20%22fa-rotate-0%22%2C%20%22icon%22%3A%20%22bicycle%22%2C%20%22iconColor%22%3A%20%22white%22%2C%20%22markerColor%22%3A%20%22darkblue%22%2C%20%22prefix%22%3A%20%22fa%22%7D%0A%20%20%20%20%20%20%20%20%20%20%20%20%29%3B%0A%20%20%20%20%20%20%20%20%20%20%20%20marker_55c10cd21706433aa707a77fdb0ab721.setIcon%28icon_77eba6909f1c4d9280f5fbb20819f0d2%29%3B%0A%20%20%20%20%20%20%20%20%0A%20%20%20%20%0A%20%20%20%20%20%20%20%20var%20popup_701685068b714d75adf39dd902e99285%20%3D%20L.popup%28%7B%22maxWidth%22%3A%20%22100%25%22%7D%29%3B%0A%0A%20%20%20%20%20%20%20%20%0A%20%20%20%20%20%20%20%20%20%20%20%20var%20html_736c8cc06b81401e9e62dc78882687c8%20%3D%20%24%28%60%3Cdiv%20id%3D%22html_736c8cc06b81401e9e62dc78882687c8%22%20style%3D%22width%3A%20100.0%25%3B%20height%3A%20100.0%25%3B%22%3EId%3A%201042%3Cbr%3EKings%20Buildings%20-%20Murchison%20House%3Cbr%3EDescription%3A%20West%20end%20of%20campus%3Cbr%3E%3Cbr%3ECounts%3A%201301%3C/div%3E%60%29%5B0%5D%3B%0A%20%20%20%20%20%20%20%20%20%20%20%20popup_701685068b714d75adf39dd902e99285.setContent%28html_736c8cc06b81401e9e62dc78882687c8%29%3B%0A%20%20%20%20%20%20%20%20%0A%0A%20%20%20%20%20%20%20%20marker_55c10cd21706433aa707a77fdb0ab721.bindPopup%28popup_701685068b714d75adf39dd902e99285%29%0A%20%20%20%20%20%20%20%20%3B%0A%0A%20%20%20%20%20%20%20%20%0A%20%20%20%20%0A%20%20%20%20%0A%20%20%20%20%20%20%20%20%20%20%20%20var%20marker_3fd499ce60894b1b8ef29ff44680a8d2%20%3D%20L.marker%28%0A%20%20%20%20%20%20%20%20%20%20%20%20%20%20%20%20%5B55.97070402016615%2C%20-3.171623996101516%5D%2C%0A%20%20%20%20%20%20%20%20%20%20%20%20%20%20%20%20%7B%7D%0A%20%20%20%20%20%20%20%20%20%20%20%20%29.addTo%28marker_cluster_ada872b66f8d4492ab77f3dff857f701%29%3B%0A%20%20%20%20%20%20%20%20%0A%20%20%20%20%0A%20%20%20%20%20%20%20%20%20%20%20%20var%20icon_fdcf6b3442a2439186aaf770368edb4e%20%3D%20L.AwesomeMarkers.icon%28%0A%20%20%20%20%20%20%20%20%20%20%20%20%20%20%20%20%7B%22extraClasses%22%3A%20%22fa-rotate-0%22%2C%20%22icon%22%3A%20%22bicycle%22%2C%20%22iconColor%22%3A%20%22white%22%2C%20%22markerColor%22%3A%20%22darkblue%22%2C%20%22prefix%22%3A%20%22fa%22%7D%0A%20%20%20%20%20%20%20%20%20%20%20%20%29%3B%0A%20%20%20%20%20%20%20%20%20%20%20%20marker_3fd499ce60894b1b8ef29ff44680a8d2.setIcon%28icon_fdcf6b3442a2439186aaf770368edb4e%29%3B%0A%20%20%20%20%20%20%20%20%0A%20%20%20%20%0A%20%20%20%20%20%20%20%20var%20popup_d5ee99d2da5b4afc94d8f408aa9bd4eb%20%3D%20L.popup%28%7B%22maxWidth%22%3A%20%22100%25%22%7D%29%3B%0A%0A%20%20%20%20%20%20%20%20%0A%20%20%20%20%20%20%20%20%20%20%20%20var%20html_3f576345d68d4bca8415cf4aee988b99%20%3D%20%24%28%60%3Cdiv%20id%3D%22html_3f576345d68d4bca8415cf4aee988b99%22%20style%3D%22width%3A%20100.0%25%3B%20height%3A%20100.0%25%3B%22%3EId%3A%20820%3Cbr%3ENewkirkgate%3Cbr%3EDescription%3A%2019%20point%20docking%20station%20beside%20queen%20victoria%20monument%3Cbr%3E%3Cbr%3ECounts%3A%201200%3C/div%3E%60%29%5B0%5D%3B%0A%20%20%20%20%20%20%20%20%20%20%20%20popup_d5ee99d2da5b4afc94d8f408aa9bd4eb.setContent%28html_3f576345d68d4bca8415cf4aee988b99%29%3B%0A%20%20%20%20%20%20%20%20%0A%0A%20%20%20%20%20%20%20%20marker_3fd499ce60894b1b8ef29ff44680a8d2.bindPopup%28popup_d5ee99d2da5b4afc94d8f408aa9bd4eb%29%0A%20%20%20%20%20%20%20%20%3B%0A%0A%20%20%20%20%20%20%20%20%0A%20%20%20%20%0A%20%20%20%20%0A%20%20%20%20%20%20%20%20%20%20%20%20var%20marker_8d0dbdfd1f304cadb2f185c4ad7e3c1d%20%3D%20L.marker%28%0A%20%20%20%20%20%20%20%20%20%20%20%20%20%20%20%20%5B55.938363058645024%2C%20-3.198031182386103%5D%2C%0A%20%20%20%20%20%20%20%20%20%20%20%20%20%20%20%20%7B%7D%0A%20%20%20%20%20%20%20%20%20%20%20%20%29.addTo%28marker_cluster_ada872b66f8d4492ab77f3dff857f701%29%3B%0A%20%20%20%20%20%20%20%20%0A%20%20%20%20%0A%20%20%20%20%20%20%20%20%20%20%20%20var%20icon_325ea21d1ff54365b11985468a293ab0%20%3D%20L.AwesomeMarkers.icon%28%0A%20%20%20%20%20%20%20%20%20%20%20%20%20%20%20%20%7B%22extraClasses%22%3A%20%22fa-rotate-0%22%2C%20%22icon%22%3A%20%22bicycle%22%2C%20%22iconColor%22%3A%20%22white%22%2C%20%22markerColor%22%3A%20%22darkblue%22%2C%20%22prefix%22%3A%20%22fa%22%7D%0A%20%20%20%20%20%20%20%20%20%20%20%20%29%3B%0A%20%20%20%20%20%20%20%20%20%20%20%20marker_8d0dbdfd1f304cadb2f185c4ad7e3c1d.setIcon%28icon_325ea21d1ff54365b11985468a293ab0%29%3B%0A%20%20%20%20%20%20%20%20%0A%20%20%20%20%0A%20%20%20%20%20%20%20%20var%20popup_efc128ee930449b0b1ed97b66dfdd684%20%3D%20L.popup%28%7B%22maxWidth%22%3A%20%22100%25%22%7D%29%3B%0A%0A%20%20%20%20%20%20%20%20%0A%20%20%20%20%20%20%20%20%20%20%20%20var%20html_25a39dee545847af9c048fe86989a611%20%3D%20%24%28%60%3Cdiv%20id%3D%22html_25a39dee545847af9c048fe86989a611%22%20style%3D%22width%3A%20100.0%25%3B%20height%3A%20100.0%25%3B%22%3EId%3A%20341%3Cbr%3EWarrender%20Park%20Road%3Cbr%3EDescription%3A%20Corner%20of%20Warrender%20Park%20Road%20%26%20Spottiswoode%20Street%3Cbr%3E%3Cbr%3ECounts%3A%201197%3C/div%3E%60%29%5B0%5D%3B%0A%20%20%20%20%20%20%20%20%20%20%20%20popup_efc128ee930449b0b1ed97b66dfdd684.setContent%28html_25a39dee545847af9c048fe86989a611%29%3B%0A%20%20%20%20%20%20%20%20%0A%0A%20%20%20%20%20%20%20%20marker_8d0dbdfd1f304cadb2f185c4ad7e3c1d.bindPopup%28popup_efc128ee930449b0b1ed97b66dfdd684%29%0A%20%20%20%20%20%20%20%20%3B%0A%0A%20%20%20%20%20%20%20%20%0A%20%20%20%20%0A%20%20%20%20%0A%20%20%20%20%20%20%20%20%20%20%20%20var%20marker_489034a26d2a49a995bbe207dfdfc354%20%3D%20L.marker%28%0A%20%20%20%20%20%20%20%20%20%20%20%20%20%20%20%20%5B55.94030045743447%2C%20-3.194591930765%5D%2C%0A%20%20%20%20%20%20%20%20%20%20%20%20%20%20%20%20%7B%7D%0A%20%20%20%20%20%20%20%20%20%20%20%20%29.addTo%28marker_cluster_ada872b66f8d4492ab77f3dff857f701%29%3B%0A%20%20%20%20%20%20%20%20%0A%20%20%20%20%0A%20%20%20%20%20%20%20%20%20%20%20%20var%20icon_312a0c3b9f58498798c38dd83985f93e%20%3D%20L.AwesomeMarkers.icon%28%0A%20%20%20%20%20%20%20%20%20%20%20%20%20%20%20%20%7B%22extraClasses%22%3A%20%22fa-rotate-0%22%2C%20%22icon%22%3A%20%22bicycle%22%2C%20%22iconColor%22%3A%20%22white%22%2C%20%22markerColor%22%3A%20%22darkblue%22%2C%20%22prefix%22%3A%20%22fa%22%7D%0A%20%20%20%20%20%20%20%20%20%20%20%20%29%3B%0A%20%20%20%20%20%20%20%20%20%20%20%20marker_489034a26d2a49a995bbe207dfdfc354.setIcon%28icon_312a0c3b9f58498798c38dd83985f93e%29%3B%0A%20%20%20%20%20%20%20%20%0A%20%20%20%20%0A%20%20%20%20%20%20%20%20var%20popup_36228a3ca433477084b3570b2be5bca5%20%3D%20L.popup%28%7B%22maxWidth%22%3A%20%22100%25%22%7D%29%3B%0A%0A%20%20%20%20%20%20%20%20%0A%20%20%20%20%20%20%20%20%20%20%20%20var%20html_ad2e596ceab04fb5b10f40c5ae8d3057%20%3D%20%24%28%60%3Cdiv%20id%3D%22html_ad2e596ceab04fb5b10f40c5ae8d3057%22%20style%3D%22width%3A%20100.0%25%3B%20height%3A%20100.0%25%3B%22%3EId%3A%20340%3Cbr%3EMeadow%20Place%3Cbr%3EDescription%3A%20Corner%20of%20Meadow%20Place%20and%20Melville%20Drive%3Cbr%3E%3Cbr%3ECounts%3A%201178%3C/div%3E%60%29%5B0%5D%3B%0A%20%20%20%20%20%20%20%20%20%20%20%20popup_36228a3ca433477084b3570b2be5bca5.setContent%28html_ad2e596ceab04fb5b10f40c5ae8d3057%29%3B%0A%20%20%20%20%20%20%20%20%0A%0A%20%20%20%20%20%20%20%20marker_489034a26d2a49a995bbe207dfdfc354.bindPopup%28popup_36228a3ca433477084b3570b2be5bca5%29%0A%20%20%20%20%20%20%20%20%3B%0A%0A%20%20%20%20%20%20%20%20%0A%20%20%20%20%0A%20%20%20%20%0A%20%20%20%20%20%20%20%20%20%20%20%20var%20marker_8913e94074a64d649d511466c3518086%20%3D%20L.marker%28%0A%20%20%20%20%20%20%20%20%20%20%20%20%20%20%20%20%5B55.95994339132352%2C%20-3.187329201962484%5D%2C%0A%20%20%20%20%20%20%20%20%20%20%20%20%20%20%20%20%7B%7D%0A%20%20%20%20%20%20%20%20%20%20%20%20%29.addTo%28marker_cluster_ada872b66f8d4492ab77f3dff857f701%29%3B%0A%20%20%20%20%20%20%20%20%0A%20%20%20%20%0A%20%20%20%20%20%20%20%20%20%20%20%20var%20icon_ebe0bf2aa0e8491a9d941d0a9b35e3c5%20%3D%20L.AwesomeMarkers.icon%28%0A%20%20%20%20%20%20%20%20%20%20%20%20%20%20%20%20%7B%22extraClasses%22%3A%20%22fa-rotate-0%22%2C%20%22icon%22%3A%20%22bicycle%22%2C%20%22iconColor%22%3A%20%22white%22%2C%20%22markerColor%22%3A%20%22darkblue%22%2C%20%22prefix%22%3A%20%22fa%22%7D%0A%20%20%20%20%20%20%20%20%20%20%20%20%29%3B%0A%20%20%20%20%20%20%20%20%20%20%20%20marker_8913e94074a64d649d511466c3518086.setIcon%28icon_ebe0bf2aa0e8491a9d941d0a9b35e3c5%29%3B%0A%20%20%20%20%20%20%20%20%0A%20%20%20%20%0A%20%20%20%20%20%20%20%20var%20popup_69f33a600fa749bb969de5a36eb62b8d%20%3D%20L.popup%28%7B%22maxWidth%22%3A%20%22100%25%22%7D%29%3B%0A%0A%20%20%20%20%20%20%20%20%0A%20%20%20%20%20%20%20%20%20%20%20%20var%20html_c67fd977066d4137b581727770f250df%20%3D%20%24%28%60%3Cdiv%20id%3D%22html_c67fd977066d4137b581727770f250df%22%20style%3D%22width%3A%20100.0%25%3B%20height%3A%20100.0%25%3B%22%3EId%3A%20356%3Cbr%3EEast%20London%20Street%3Cbr%3EDescription%3A%20Outside%20St.%20Mary%27s%20Primary%20School%3Cbr%3E%3Cbr%3ECounts%3A%201176%3C/div%3E%60%29%5B0%5D%3B%0A%20%20%20%20%20%20%20%20%20%20%20%20popup_69f33a600fa749bb969de5a36eb62b8d.setContent%28html_c67fd977066d4137b581727770f250df%29%3B%0A%20%20%20%20%20%20%20%20%0A%0A%20%20%20%20%20%20%20%20marker_8913e94074a64d649d511466c3518086.bindPopup%28popup_69f33a600fa749bb969de5a36eb62b8d%29%0A%20%20%20%20%20%20%20%20%3B%0A%0A%20%20%20%20%20%20%20%20%0A%20%20%20%20%0A%20%20%20%20%0A%20%20%20%20%20%20%20%20%20%20%20%20var%20marker_63c50f1d4c97474c9d8939e1a356ee40%20%3D%20L.marker%28%0A%20%20%20%20%20%20%20%20%20%20%20%20%20%20%20%20%5B55.96791807044289%2C%20-3.17358629706473%5D%2C%0A%20%20%20%20%20%20%20%20%20%20%20%20%20%20%20%20%7B%7D%0A%20%20%20%20%20%20%20%20%20%20%20%20%29.addTo%28marker_cluster_ada872b66f8d4492ab77f3dff857f701%29%3B%0A%20%20%20%20%20%20%20%20%0A%20%20%20%20%0A%20%20%20%20%20%20%20%20%20%20%20%20var%20icon_ffd454373ad84cecab5442150407871b%20%3D%20L.AwesomeMarkers.icon%28%0A%20%20%20%20%20%20%20%20%20%20%20%20%20%20%20%20%7B%22extraClasses%22%3A%20%22fa-rotate-0%22%2C%20%22icon%22%3A%20%22bicycle%22%2C%20%22iconColor%22%3A%20%22white%22%2C%20%22markerColor%22%3A%20%22darkblue%22%2C%20%22prefix%22%3A%20%22fa%22%7D%0A%20%20%20%20%20%20%20%20%20%20%20%20%29%3B%0A%20%20%20%20%20%20%20%20%20%20%20%20marker_63c50f1d4c97474c9d8939e1a356ee40.setIcon%28icon_ffd454373ad84cecab5442150407871b%29%3B%0A%20%20%20%20%20%20%20%20%0A%20%20%20%20%0A%20%20%20%20%20%20%20%20var%20popup_f6fce3f94b4c47e6a9a59da4ab80ef7e%20%3D%20L.popup%28%7B%22maxWidth%22%3A%20%22100%25%22%7D%29%3B%0A%0A%20%20%20%20%20%20%20%20%0A%20%20%20%20%20%20%20%20%20%20%20%20var%20html_ee2db23a27ad4b21963a4780ffe9f12d%20%3D%20%24%28%60%3Cdiv%20id%3D%22html_ee2db23a27ad4b21963a4780ffe9f12d%22%20style%3D%22width%3A%20100.0%25%3B%20height%3A%20100.0%25%3B%22%3EId%3A%202259%3Cbr%3ELeith%20Walk%20North%3Cbr%3EDescription%3A%20Next%20to%20Allander%20House%3Cbr%3E%3Cbr%3ECounts%3A%201142%3C/div%3E%60%29%5B0%5D%3B%0A%20%20%20%20%20%20%20%20%20%20%20%20popup_f6fce3f94b4c47e6a9a59da4ab80ef7e.setContent%28html_ee2db23a27ad4b21963a4780ffe9f12d%29%3B%0A%20%20%20%20%20%20%20%20%0A%0A%20%20%20%20%20%20%20%20marker_63c50f1d4c97474c9d8939e1a356ee40.bindPopup%28popup_f6fce3f94b4c47e6a9a59da4ab80ef7e%29%0A%20%20%20%20%20%20%20%20%3B%0A%0A%20%20%20%20%20%20%20%20%0A%20%20%20%20%0A%20%20%20%20%0A%20%20%20%20%20%20%20%20%20%20%20%20var%20marker_625fc2e6b0814adb96aa8796f338158e%20%3D%20L.marker%28%0A%20%20%20%20%20%20%20%20%20%20%20%20%20%20%20%20%5B55.92798551356313%2C%20-3.209738736635245%5D%2C%0A%20%20%20%20%20%20%20%20%20%20%20%20%20%20%20%20%7B%7D%0A%20%20%20%20%20%20%20%20%20%20%20%20%29.addTo%28marker_cluster_ada872b66f8d4492ab77f3dff857f701%29%3B%0A%20%20%20%20%20%20%20%20%0A%20%20%20%20%0A%20%20%20%20%20%20%20%20%20%20%20%20var%20icon_0a84f596c30f41dc9053e85995290817%20%3D%20L.AwesomeMarkers.icon%28%0A%20%20%20%20%20%20%20%20%20%20%20%20%20%20%20%20%7B%22extraClasses%22%3A%20%22fa-rotate-0%22%2C%20%22icon%22%3A%20%22bicycle%22%2C%20%22iconColor%22%3A%20%22white%22%2C%20%22markerColor%22%3A%20%22darkblue%22%2C%20%22prefix%22%3A%20%22fa%22%7D%0A%20%20%20%20%20%20%20%20%20%20%20%20%29%3B%0A%20%20%20%20%20%20%20%20%20%20%20%20marker_625fc2e6b0814adb96aa8796f338158e.setIcon%28icon_0a84f596c30f41dc9053e85995290817%29%3B%0A%20%20%20%20%20%20%20%20%0A%20%20%20%20%0A%20%20%20%20%20%20%20%20var%20popup_9f4f4630429c429a9784de00ddf835e0%20%3D%20L.popup%28%7B%22maxWidth%22%3A%20%22100%25%22%7D%29%3B%0A%0A%20%20%20%20%20%20%20%20%0A%20%20%20%20%20%20%20%20%20%20%20%20var%20html_3ab18d8d0af94e45ac620b656254b797%20%3D%20%24%28%60%3Cdiv%20id%3D%22html_3ab18d8d0af94e45ac620b656254b797%22%20style%3D%22width%3A%20100.0%25%3B%20height%3A%20100.0%25%3B%22%3EId%3A%20346%3Cbr%3EMorningside%20Road%3Cbr%3EDescription%3A%20Corner%20of%20Morningside%20Road%20%26%20Morningside%20Park%20by%20M%20%26%20S%20car%20park%3Cbr%3E%3Cbr%3ECounts%3A%201121%3C/div%3E%60%29%5B0%5D%3B%0A%20%20%20%20%20%20%20%20%20%20%20%20popup_9f4f4630429c429a9784de00ddf835e0.setContent%28html_3ab18d8d0af94e45ac620b656254b797%29%3B%0A%20%20%20%20%20%20%20%20%0A%0A%20%20%20%20%20%20%20%20marker_625fc2e6b0814adb96aa8796f338158e.bindPopup%28popup_9f4f4630429c429a9784de00ddf835e0%29%0A%20%20%20%20%20%20%20%20%3B%0A%0A%20%20%20%20%20%20%20%20%0A%20%20%20%20%0A%20%20%20%20%0A%20%20%20%20%20%20%20%20%20%20%20%20var%20marker_2ff1e4fe5a2d4ac69de24f11c1bc2eec%20%3D%20L.marker%28%0A%20%20%20%20%20%20%20%20%20%20%20%20%20%20%20%20%5B55.94406627599551%2C%20-3.098561479441612%5D%2C%0A%20%20%20%20%20%20%20%20%20%20%20%20%20%20%20%20%7B%7D%0A%20%20%20%20%20%20%20%20%20%20%20%20%29.addTo%28marker_cluster_ada872b66f8d4492ab77f3dff857f701%29%3B%0A%20%20%20%20%20%20%20%20%0A%20%20%20%20%0A%20%20%20%20%20%20%20%20%20%20%20%20var%20icon_df25f2cfa8d4497f8ed1364af246ab4f%20%3D%20L.AwesomeMarkers.icon%28%0A%20%20%20%20%20%20%20%20%20%20%20%20%20%20%20%20%7B%22extraClasses%22%3A%20%22fa-rotate-0%22%2C%20%22icon%22%3A%20%22bicycle%22%2C%20%22iconColor%22%3A%20%22white%22%2C%20%22markerColor%22%3A%20%22darkblue%22%2C%20%22prefix%22%3A%20%22fa%22%7D%0A%20%20%20%20%20%20%20%20%20%20%20%20%29%3B%0A%20%20%20%20%20%20%20%20%20%20%20%20marker_2ff1e4fe5a2d4ac69de24f11c1bc2eec.setIcon%28icon_df25f2cfa8d4497f8ed1364af246ab4f%29%3B%0A%20%20%20%20%20%20%20%20%0A%20%20%20%20%0A%20%20%20%20%20%20%20%20var%20popup_4e58e65238a5467c84fa86d7d14f3cf5%20%3D%20L.popup%28%7B%22maxWidth%22%3A%20%22100%25%22%7D%29%3B%0A%0A%20%20%20%20%20%20%20%20%0A%20%20%20%20%20%20%20%20%20%20%20%20var%20html_f0999d02dede4d0880bc25d8746b6879%20%3D%20%24%28%60%3Cdiv%20id%3D%22html_f0999d02dede4d0880bc25d8746b6879%22%20style%3D%22width%3A%20100.0%25%3B%20height%3A%20100.0%25%3B%22%3EId%3A%201813%3Cbr%3EMilton%20Road%20-%20Edinburgh%20College%3Cbr%3EDescription%3A%20Milton%20Road%20Campus%3Cbr%3E%3Cbr%3ECounts%3A%201112%3C/div%3E%60%29%5B0%5D%3B%0A%20%20%20%20%20%20%20%20%20%20%20%20popup_4e58e65238a5467c84fa86d7d14f3cf5.setContent%28html_f0999d02dede4d0880bc25d8746b6879%29%3B%0A%20%20%20%20%20%20%20%20%0A%0A%20%20%20%20%20%20%20%20marker_2ff1e4fe5a2d4ac69de24f11c1bc2eec.bindPopup%28popup_4e58e65238a5467c84fa86d7d14f3cf5%29%0A%20%20%20%20%20%20%20%20%3B%0A%0A%20%20%20%20%20%20%20%20%0A%20%20%20%20%0A%20%20%20%20%0A%20%20%20%20%20%20%20%20%20%20%20%20var%20marker_5f4af4b052b844e19183c0add566ed1a%20%3D%20L.marker%28%0A%20%20%20%20%20%20%20%20%20%20%20%20%20%20%20%20%5B55.95197357717703%2C%20-3.226124804664096%5D%2C%0A%20%20%20%20%20%20%20%20%20%20%20%20%20%20%20%20%7B%7D%0A%20%20%20%20%20%20%20%20%20%20%20%20%29.addTo%28marker_cluster_ada872b66f8d4492ab77f3dff857f701%29%3B%0A%20%20%20%20%20%20%20%20%0A%20%20%20%20%0A%20%20%20%20%20%20%20%20%20%20%20%20var%20icon_08d9d6a00f9745ea9eddd748eb7d2737%20%3D%20L.AwesomeMarkers.icon%28%0A%20%20%20%20%20%20%20%20%20%20%20%20%20%20%20%20%7B%22extraClasses%22%3A%20%22fa-rotate-0%22%2C%20%22icon%22%3A%20%22bicycle%22%2C%20%22iconColor%22%3A%20%22white%22%2C%20%22markerColor%22%3A%20%22darkblue%22%2C%20%22prefix%22%3A%20%22fa%22%7D%0A%20%20%20%20%20%20%20%20%20%20%20%20%29%3B%0A%20%20%20%20%20%20%20%20%20%20%20%20marker_5f4af4b052b844e19183c0add566ed1a.setIcon%28icon_08d9d6a00f9745ea9eddd748eb7d2737%29%3B%0A%20%20%20%20%20%20%20%20%0A%20%20%20%20%0A%20%20%20%20%20%20%20%20var%20popup_8d398c39e7954ed0aed20a641ac82fde%20%3D%20L.popup%28%7B%22maxWidth%22%3A%20%22100%25%22%7D%29%3B%0A%0A%20%20%20%20%20%20%20%20%0A%20%20%20%20%20%20%20%20%20%20%20%20var%20html_3d0c79fc9f72426f85a5a85075419b3c%20%3D%20%24%28%60%3Cdiv%20id%3D%22html_3d0c79fc9f72426f85a5a85075419b3c%22%20style%3D%22width%3A%20100.0%25%3B%20height%3A%20100.0%25%3B%22%3EId%3A%201093%3Cbr%3EBelford%20Road%3Cbr%3EDescription%3A%20Outside%20Scottish%20National%20Gallery%20of%20Modern%20Art%3Cbr%3E%3Cbr%3ECounts%3A%201103%3C/div%3E%60%29%5B0%5D%3B%0A%20%20%20%20%20%20%20%20%20%20%20%20popup_8d398c39e7954ed0aed20a641ac82fde.setContent%28html_3d0c79fc9f72426f85a5a85075419b3c%29%3B%0A%20%20%20%20%20%20%20%20%0A%0A%20%20%20%20%20%20%20%20marker_5f4af4b052b844e19183c0add566ed1a.bindPopup%28popup_8d398c39e7954ed0aed20a641ac82fde%29%0A%20%20%20%20%20%20%20%20%3B%0A%0A%20%20%20%20%20%20%20%20%0A%20%20%20%20%0A%20%20%20%20%0A%20%20%20%20%20%20%20%20%20%20%20%20var%20marker_f977815169194e3bb590a44080c04bc7%20%3D%20L.marker%28%0A%20%20%20%20%20%20%20%20%20%20%20%20%20%20%20%20%5B55.94428069681837%2C%20-3.202964359237739%5D%2C%0A%20%20%20%20%20%20%20%20%20%20%20%20%20%20%20%20%7B%7D%0A%20%20%20%20%20%20%20%20%20%20%20%20%29.addTo%28marker_cluster_ada872b66f8d4492ab77f3dff857f701%29%3B%0A%20%20%20%20%20%20%20%20%0A%20%20%20%20%0A%20%20%20%20%20%20%20%20%20%20%20%20var%20icon_b88a4ad77ca044d1933c44378ad9c5c9%20%3D%20L.AwesomeMarkers.icon%28%0A%20%20%20%20%20%20%20%20%20%20%20%20%20%20%20%20%7B%22extraClasses%22%3A%20%22fa-rotate-0%22%2C%20%22icon%22%3A%20%22bicycle%22%2C%20%22iconColor%22%3A%20%22white%22%2C%20%22markerColor%22%3A%20%22darkblue%22%2C%20%22prefix%22%3A%20%22fa%22%7D%0A%20%20%20%20%20%20%20%20%20%20%20%20%29%3B%0A%20%20%20%20%20%20%20%20%20%20%20%20marker_f977815169194e3bb590a44080c04bc7.setIcon%28icon_b88a4ad77ca044d1933c44378ad9c5c9%29%3B%0A%20%20%20%20%20%20%20%20%0A%20%20%20%20%0A%20%20%20%20%20%20%20%20var%20popup_dfbb5ac95d914c5a9dec351803c9e8de%20%3D%20L.popup%28%7B%22maxWidth%22%3A%20%22100%25%22%7D%29%3B%0A%0A%20%20%20%20%20%20%20%20%0A%20%20%20%20%20%20%20%20%20%20%20%20var%20html_cb0dd8a271d34cfe8f8b221cf618c490%20%3D%20%24%28%60%3Cdiv%20id%3D%22html_cb0dd8a271d34cfe8f8b221cf618c490%22%20style%3D%22width%3A%20100.0%25%3B%20height%3A%20100.0%25%3B%22%3EId%3A%20881%3Cbr%3ETollcross%3Cbr%3EDescription%3A%20Outside%20Piccolino%3Cbr%3E%3Cbr%3ECounts%3A%201071%3C/div%3E%60%29%5B0%5D%3B%0A%20%20%20%20%20%20%20%20%20%20%20%20popup_dfbb5ac95d914c5a9dec351803c9e8de.setContent%28html_cb0dd8a271d34cfe8f8b221cf618c490%29%3B%0A%20%20%20%20%20%20%20%20%0A%0A%20%20%20%20%20%20%20%20marker_f977815169194e3bb590a44080c04bc7.bindPopup%28popup_dfbb5ac95d914c5a9dec351803c9e8de%29%0A%20%20%20%20%20%20%20%20%3B%0A%0A%20%20%20%20%20%20%20%20%0A%20%20%20%20%0A%20%20%20%20%0A%20%20%20%20%20%20%20%20%20%20%20%20var%20marker_b64beba351f14fc4bfd4e89e522c0775%20%3D%20L.marker%28%0A%20%20%20%20%20%20%20%20%20%20%20%20%20%20%20%20%5B55.99018214620787%2C%20-3.404603924278717%5D%2C%0A%20%20%20%20%20%20%20%20%20%20%20%20%20%20%20%20%7B%7D%0A%20%20%20%20%20%20%20%20%20%20%20%20%29.addTo%28marker_cluster_ada872b66f8d4492ab77f3dff857f701%29%3B%0A%20%20%20%20%20%20%20%20%0A%20%20%20%20%0A%20%20%20%20%20%20%20%20%20%20%20%20var%20icon_489f0e73581c406a85b9523ea463477a%20%3D%20L.AwesomeMarkers.icon%28%0A%20%20%20%20%20%20%20%20%20%20%20%20%20%20%20%20%7B%22extraClasses%22%3A%20%22fa-rotate-0%22%2C%20%22icon%22%3A%20%22bicycle%22%2C%20%22iconColor%22%3A%20%22white%22%2C%20%22markerColor%22%3A%20%22darkblue%22%2C%20%22prefix%22%3A%20%22fa%22%7D%0A%20%20%20%20%20%20%20%20%20%20%20%20%29%3B%0A%20%20%20%20%20%20%20%20%20%20%20%20marker_b64beba351f14fc4bfd4e89e522c0775.setIcon%28icon_489f0e73581c406a85b9523ea463477a%29%3B%0A%20%20%20%20%20%20%20%20%0A%20%20%20%20%0A%20%20%20%20%20%20%20%20var%20popup_8bb32a4383c04efd8120a2b4cde6a460%20%3D%20L.popup%28%7B%22maxWidth%22%3A%20%22100%25%22%7D%29%3B%0A%0A%20%20%20%20%20%20%20%20%0A%20%20%20%20%20%20%20%20%20%20%20%20var%20html_4bd23ec9afff421facbb3ccfd482f8b0%20%3D%20%24%28%60%3Cdiv%20id%3D%22html_4bd23ec9afff421facbb3ccfd482f8b0%22%20style%3D%22width%3A%20100.0%25%3B%20height%3A%20100.0%25%3B%22%3EId%3A%201869%3Cbr%3EHopetoun%20Road%3Cbr%3EDescription%3A%20Junction%20with%20Farquhar%20Terrace/Boness%20Road%3Cbr%3E%3Cbr%3ECounts%3A%201058%3C/div%3E%60%29%5B0%5D%3B%0A%20%20%20%20%20%20%20%20%20%20%20%20popup_8bb32a4383c04efd8120a2b4cde6a460.setContent%28html_4bd23ec9afff421facbb3ccfd482f8b0%29%3B%0A%20%20%20%20%20%20%20%20%0A%0A%20%20%20%20%20%20%20%20marker_b64beba351f14fc4bfd4e89e522c0775.bindPopup%28popup_8bb32a4383c04efd8120a2b4cde6a460%29%0A%20%20%20%20%20%20%20%20%3B%0A%0A%20%20%20%20%20%20%20%20%0A%20%20%20%20%0A%20%20%20%20%0A%20%20%20%20%20%20%20%20%20%20%20%20var%20marker_2008a7e16ce547589abe56e4dfd615ff%20%3D%20L.marker%28%0A%20%20%20%20%20%20%20%20%20%20%20%20%20%20%20%20%5B55.96399515097124%2C%20-3.185188767893123%5D%2C%0A%20%20%20%20%20%20%20%20%20%20%20%20%20%20%20%20%7B%7D%0A%20%20%20%20%20%20%20%20%20%20%20%20%29.addTo%28marker_cluster_ada872b66f8d4492ab77f3dff857f701%29%3B%0A%20%20%20%20%20%20%20%20%0A%20%20%20%20%0A%20%20%20%20%20%20%20%20%20%20%20%20var%20icon_18c414bc251f4e18939ef850f423a7f1%20%3D%20L.AwesomeMarkers.icon%28%0A%20%20%20%20%20%20%20%20%20%20%20%20%20%20%20%20%7B%22extraClasses%22%3A%20%22fa-rotate-0%22%2C%20%22icon%22%3A%20%22bicycle%22%2C%20%22iconColor%22%3A%20%22white%22%2C%20%22markerColor%22%3A%20%22darkblue%22%2C%20%22prefix%22%3A%20%22fa%22%7D%0A%20%20%20%20%20%20%20%20%20%20%20%20%29%3B%0A%20%20%20%20%20%20%20%20%20%20%20%20marker_2008a7e16ce547589abe56e4dfd615ff.setIcon%28icon_18c414bc251f4e18939ef850f423a7f1%29%3B%0A%20%20%20%20%20%20%20%20%0A%20%20%20%20%0A%20%20%20%20%20%20%20%20var%20popup_cc828f5175b746c387097ac47302740a%20%3D%20L.popup%28%7B%22maxWidth%22%3A%20%22100%25%22%7D%29%3B%0A%0A%20%20%20%20%20%20%20%20%0A%20%20%20%20%20%20%20%20%20%20%20%20var%20html_e4be305940aa4fefb0c881a0a6961a82%20%3D%20%24%28%60%3Cdiv%20id%3D%22html_e4be305940aa4fefb0c881a0a6961a82%22%20style%3D%22width%3A%20100.0%25%3B%20height%3A%20100.0%25%3B%22%3EId%3A%20357%3Cbr%3EMacdonald%20Road%3Cbr%3EDescription%3A%20Macdonald%20Road%3Cbr%3E%3Cbr%3ECounts%3A%201015%3C/div%3E%60%29%5B0%5D%3B%0A%20%20%20%20%20%20%20%20%20%20%20%20popup_cc828f5175b746c387097ac47302740a.setContent%28html_e4be305940aa4fefb0c881a0a6961a82%29%3B%0A%20%20%20%20%20%20%20%20%0A%0A%20%20%20%20%20%20%20%20marker_2008a7e16ce547589abe56e4dfd615ff.bindPopup%28popup_cc828f5175b746c387097ac47302740a%29%0A%20%20%20%20%20%20%20%20%3B%0A%0A%20%20%20%20%20%20%20%20%0A%20%20%20%20%0A%20%20%20%20%0A%20%20%20%20%20%20%20%20%20%20%20%20var%20marker_b6306d6a9c5042b594f4fb65ff9318ce%20%3D%20L.marker%28%0A%20%20%20%20%20%20%20%20%20%20%20%20%20%20%20%20%5B55.93639749674367%2C%20-3.194252202886105%5D%2C%0A%20%20%20%20%20%20%20%20%20%20%20%20%20%20%20%20%7B%7D%0A%20%20%20%20%20%20%20%20%20%20%20%20%29.addTo%28marker_cluster_ada872b66f8d4492ab77f3dff857f701%29%3B%0A%20%20%20%20%20%20%20%20%0A%20%20%20%20%0A%20%20%20%20%20%20%20%20%20%20%20%20var%20icon_fd8e60361e5f4484b6ad070d3251b996%20%3D%20L.AwesomeMarkers.icon%28%0A%20%20%20%20%20%20%20%20%20%20%20%20%20%20%20%20%7B%22extraClasses%22%3A%20%22fa-rotate-0%22%2C%20%22icon%22%3A%20%22bicycle%22%2C%20%22iconColor%22%3A%20%22white%22%2C%20%22markerColor%22%3A%20%22darkblue%22%2C%20%22prefix%22%3A%20%22fa%22%7D%0A%20%20%20%20%20%20%20%20%20%20%20%20%29%3B%0A%20%20%20%20%20%20%20%20%20%20%20%20marker_b6306d6a9c5042b594f4fb65ff9318ce.setIcon%28icon_fd8e60361e5f4484b6ad070d3251b996%29%3B%0A%20%20%20%20%20%20%20%20%0A%20%20%20%20%0A%20%20%20%20%20%20%20%20var%20popup_28140a57fbe045349f966638074978f1%20%3D%20L.popup%28%7B%22maxWidth%22%3A%20%22100%25%22%7D%29%3B%0A%0A%20%20%20%20%20%20%20%20%0A%20%20%20%20%20%20%20%20%20%20%20%20var%20html_db6145ea139c4039a00331f3945f46e0%20%3D%20%24%28%60%3Cdiv%20id%3D%22html_db6145ea139c4039a00331f3945f46e0%22%20style%3D%22width%3A%20100.0%25%3B%20height%3A%20100.0%25%3B%22%3EId%3A%20344%3Cbr%3EMarchmont%20Crescent%3Cbr%3EDescription%3A%20Corner%20of%20Marchmont%20Crescent%20%26%20Marchmont%20Road%3Cbr%3E%3Cbr%3ECounts%3A%201007%3C/div%3E%60%29%5B0%5D%3B%0A%20%20%20%20%20%20%20%20%20%20%20%20popup_28140a57fbe045349f966638074978f1.setContent%28html_db6145ea139c4039a00331f3945f46e0%29%3B%0A%20%20%20%20%20%20%20%20%0A%0A%20%20%20%20%20%20%20%20marker_b6306d6a9c5042b594f4fb65ff9318ce.bindPopup%28popup_28140a57fbe045349f966638074978f1%29%0A%20%20%20%20%20%20%20%20%3B%0A%0A%20%20%20%20%20%20%20%20%0A%20%20%20%20%0A%20%20%20%20%0A%20%20%20%20%20%20%20%20%20%20%20%20var%20marker_5f2380a6d8194e288103e61158f3d2a6%20%3D%20L.marker%28%0A%20%20%20%20%20%20%20%20%20%20%20%20%20%20%20%20%5B55.94211534619251%2C%20-3.269286765448441%5D%2C%0A%20%20%20%20%20%20%20%20%20%20%20%20%20%20%20%20%7B%7D%0A%20%20%20%20%20%20%20%20%20%20%20%20%29.addTo%28marker_cluster_ada872b66f8d4492ab77f3dff857f701%29%3B%0A%20%20%20%20%20%20%20%20%0A%20%20%20%20%0A%20%20%20%20%20%20%20%20%20%20%20%20var%20icon_1144cabd563a47e19a875c60166e3024%20%3D%20L.AwesomeMarkers.icon%28%0A%20%20%20%20%20%20%20%20%20%20%20%20%20%20%20%20%7B%22extraClasses%22%3A%20%22fa-rotate-0%22%2C%20%22icon%22%3A%20%22bicycle%22%2C%20%22iconColor%22%3A%20%22white%22%2C%20%22markerColor%22%3A%20%22darkblue%22%2C%20%22prefix%22%3A%20%22fa%22%7D%0A%20%20%20%20%20%20%20%20%20%20%20%20%29%3B%0A%20%20%20%20%20%20%20%20%20%20%20%20marker_5f2380a6d8194e288103e61158f3d2a6.setIcon%28icon_1144cabd563a47e19a875c60166e3024%29%3B%0A%20%20%20%20%20%20%20%20%0A%20%20%20%20%0A%20%20%20%20%20%20%20%20var%20popup_b1ff1e392b774c4d9ee97d6a16a61523%20%3D%20L.popup%28%7B%22maxWidth%22%3A%20%22100%25%22%7D%29%3B%0A%0A%20%20%20%20%20%20%20%20%0A%20%20%20%20%20%20%20%20%20%20%20%20var%20html_4754ec11156d426fb64f3fe0c40ac501%20%3D%20%24%28%60%3Cdiv%20id%3D%22html_4754ec11156d426fb64f3fe0c40ac501%22%20style%3D%22width%3A%20100.0%25%3B%20height%3A%20100.0%25%3B%22%3EId%3A%201725%3Cbr%3EEdinburgh%20Zoo%3Cbr%3EDescription%3A%20Corstorphine%20Road%2C%20Edinburgh%3Cbr%3E%3Cbr%3ECounts%3A%201005%3C/div%3E%60%29%5B0%5D%3B%0A%20%20%20%20%20%20%20%20%20%20%20%20popup_b1ff1e392b774c4d9ee97d6a16a61523.setContent%28html_4754ec11156d426fb64f3fe0c40ac501%29%3B%0A%20%20%20%20%20%20%20%20%0A%0A%20%20%20%20%20%20%20%20marker_5f2380a6d8194e288103e61158f3d2a6.bindPopup%28popup_b1ff1e392b774c4d9ee97d6a16a61523%29%0A%20%20%20%20%20%20%20%20%3B%0A%0A%20%20%20%20%20%20%20%20%0A%20%20%20%20%0A%20%20%20%20%0A%20%20%20%20%20%20%20%20%20%20%20%20var%20marker_9d91d367854f4d24bce1c762498998e1%20%3D%20L.marker%28%0A%20%20%20%20%20%20%20%20%20%20%20%20%20%20%20%20%5B55.96283984266853%2C%20-3.234135938375289%5D%2C%0A%20%20%20%20%20%20%20%20%20%20%20%20%20%20%20%20%7B%7D%0A%20%20%20%20%20%20%20%20%20%20%20%20%29.addTo%28marker_cluster_ada872b66f8d4492ab77f3dff857f701%29%3B%0A%20%20%20%20%20%20%20%20%0A%20%20%20%20%0A%20%20%20%20%20%20%20%20%20%20%20%20var%20icon_a988014873f747cb837dfd446cde3c42%20%3D%20L.AwesomeMarkers.icon%28%0A%20%20%20%20%20%20%20%20%20%20%20%20%20%20%20%20%7B%22extraClasses%22%3A%20%22fa-rotate-0%22%2C%20%22icon%22%3A%20%22bicycle%22%2C%20%22iconColor%22%3A%20%22white%22%2C%20%22markerColor%22%3A%20%22darkblue%22%2C%20%22prefix%22%3A%20%22fa%22%7D%0A%20%20%20%20%20%20%20%20%20%20%20%20%29%3B%0A%20%20%20%20%20%20%20%20%20%20%20%20marker_9d91d367854f4d24bce1c762498998e1.setIcon%28icon_a988014873f747cb837dfd446cde3c42%29%3B%0A%20%20%20%20%20%20%20%20%0A%20%20%20%20%0A%20%20%20%20%20%20%20%20var%20popup_fef91b462bb348279ac0467264ff2188%20%3D%20L.popup%28%7B%22maxWidth%22%3A%20%22100%25%22%7D%29%3B%0A%0A%20%20%20%20%20%20%20%20%0A%20%20%20%20%20%20%20%20%20%20%20%20var%20html_91b4bc56da684362bb8044371137de4e%20%3D%20%24%28%60%3Cdiv%20id%3D%22html_91b4bc56da684362bb8044371137de4e%22%20style%3D%22width%3A%20100.0%25%3B%20height%3A%20100.0%25%3B%22%3EId%3A%201756%3Cbr%3EWestern%20General%20Hospital%3Cbr%3EDescription%3A%20Porterfield%20Road%3Cbr%3E%3Cbr%3ECounts%3A%20998%3C/div%3E%60%29%5B0%5D%3B%0A%20%20%20%20%20%20%20%20%20%20%20%20popup_fef91b462bb348279ac0467264ff2188.setContent%28html_91b4bc56da684362bb8044371137de4e%29%3B%0A%20%20%20%20%20%20%20%20%0A%0A%20%20%20%20%20%20%20%20marker_9d91d367854f4d24bce1c762498998e1.bindPopup%28popup_fef91b462bb348279ac0467264ff2188%29%0A%20%20%20%20%20%20%20%20%3B%0A%0A%20%20%20%20%20%20%20%20%0A%20%20%20%20%0A%20%20%20%20%0A%20%20%20%20%20%20%20%20%20%20%20%20var%20marker_734d284f4e914d4faf395390af1ead11%20%3D%20L.marker%28%0A%20%20%20%20%20%20%20%20%20%20%20%20%20%20%20%20%5B55.93642987756881%2C%20-3.180114903557978%5D%2C%0A%20%20%20%20%20%20%20%20%20%20%20%20%20%20%20%20%7B%7D%0A%20%20%20%20%20%20%20%20%20%20%20%20%29.addTo%28marker_cluster_ada872b66f8d4492ab77f3dff857f701%29%3B%0A%20%20%20%20%20%20%20%20%0A%20%20%20%20%0A%20%20%20%20%20%20%20%20%20%20%20%20var%20icon_be5ab3c2dde2466b8018ab1e93d9b338%20%3D%20L.AwesomeMarkers.icon%28%0A%20%20%20%20%20%20%20%20%20%20%20%20%20%20%20%20%7B%22extraClasses%22%3A%20%22fa-rotate-0%22%2C%20%22icon%22%3A%20%22bicycle%22%2C%20%22iconColor%22%3A%20%22white%22%2C%20%22markerColor%22%3A%20%22darkblue%22%2C%20%22prefix%22%3A%20%22fa%22%7D%0A%20%20%20%20%20%20%20%20%20%20%20%20%29%3B%0A%20%20%20%20%20%20%20%20%20%20%20%20marker_734d284f4e914d4faf395390af1ead11.setIcon%28icon_be5ab3c2dde2466b8018ab1e93d9b338%29%3B%0A%20%20%20%20%20%20%20%20%0A%20%20%20%20%0A%20%20%20%20%20%20%20%20var%20popup_8f6291be22c4435cb6cdf3290bd2a05e%20%3D%20L.popup%28%7B%22maxWidth%22%3A%20%22100%25%22%7D%29%3B%0A%0A%20%20%20%20%20%20%20%20%0A%20%20%20%20%20%20%20%20%20%20%20%20var%20html_0e430597bec1415b96efda464850848f%20%3D%20%24%28%60%3Cdiv%20id%3D%22html_0e430597bec1415b96efda464850848f%22%20style%3D%22width%3A%20100.0%25%3B%20height%3A%20100.0%25%3B%22%3EId%3A%20359%3Cbr%3ECausewayside%3Cbr%3EDescription%3A%20Causewayside%20outside%20NLS%3Cbr%3E%3Cbr%3ECounts%3A%20994%3C/div%3E%60%29%5B0%5D%3B%0A%20%20%20%20%20%20%20%20%20%20%20%20popup_8f6291be22c4435cb6cdf3290bd2a05e.setContent%28html_0e430597bec1415b96efda464850848f%29%3B%0A%20%20%20%20%20%20%20%20%0A%0A%20%20%20%20%20%20%20%20marker_734d284f4e914d4faf395390af1ead11.bindPopup%28popup_8f6291be22c4435cb6cdf3290bd2a05e%29%0A%20%20%20%20%20%20%20%20%3B%0A%0A%20%20%20%20%20%20%20%20%0A%20%20%20%20%0A%20%20%20%20%0A%20%20%20%20%20%20%20%20%20%20%20%20var%20marker_7f5ed88483d249fd8f66b231a2f8781a%20%3D%20L.marker%28%0A%20%20%20%20%20%20%20%20%20%20%20%20%20%20%20%20%5B55.95657629337518%2C%20-3.237939788691392%5D%2C%0A%20%20%20%20%20%20%20%20%20%20%20%20%20%20%20%20%7B%7D%0A%20%20%20%20%20%20%20%20%20%20%20%20%29.addTo%28marker_cluster_ada872b66f8d4492ab77f3dff857f701%29%3B%0A%20%20%20%20%20%20%20%20%0A%20%20%20%20%0A%20%20%20%20%20%20%20%20%20%20%20%20var%20icon_bbbdb8c6e8cd4d809178261ffb6bb7df%20%3D%20L.AwesomeMarkers.icon%28%0A%20%20%20%20%20%20%20%20%20%20%20%20%20%20%20%20%7B%22extraClasses%22%3A%20%22fa-rotate-0%22%2C%20%22icon%22%3A%20%22bicycle%22%2C%20%22iconColor%22%3A%20%22white%22%2C%20%22markerColor%22%3A%20%22darkblue%22%2C%20%22prefix%22%3A%20%22fa%22%7D%0A%20%20%20%20%20%20%20%20%20%20%20%20%29%3B%0A%20%20%20%20%20%20%20%20%20%20%20%20marker_7f5ed88483d249fd8f66b231a2f8781a.setIcon%28icon_bbbdb8c6e8cd4d809178261ffb6bb7df%29%3B%0A%20%20%20%20%20%20%20%20%0A%20%20%20%20%0A%20%20%20%20%20%20%20%20var%20popup_f2286f24b2214532a377892a538674f7%20%3D%20L.popup%28%7B%22maxWidth%22%3A%20%22100%25%22%7D%29%3B%0A%0A%20%20%20%20%20%20%20%20%0A%20%20%20%20%20%20%20%20%20%20%20%20var%20html_b2130a250d70460d9b2b4ff46c041278%20%3D%20%24%28%60%3Cdiv%20id%3D%22html_b2130a250d70460d9b2b4ff46c041278%22%20style%3D%22width%3A%20100.0%25%3B%20height%3A%20100.0%25%3B%22%3EId%3A%201764%3Cbr%3ECraigleith%20Road%3Cbr%3EDescription%3A%20Next%20to%20Craigleith%20Hill%20Bus%20Stop%3Cbr%3E%3Cbr%3ECounts%3A%20978%3C/div%3E%60%29%5B0%5D%3B%0A%20%20%20%20%20%20%20%20%20%20%20%20popup_f2286f24b2214532a377892a538674f7.setContent%28html_b2130a250d70460d9b2b4ff46c041278%29%3B%0A%20%20%20%20%20%20%20%20%0A%0A%20%20%20%20%20%20%20%20marker_7f5ed88483d249fd8f66b231a2f8781a.bindPopup%28popup_f2286f24b2214532a377892a538674f7%29%0A%20%20%20%20%20%20%20%20%3B%0A%0A%20%20%20%20%20%20%20%20%0A%20%20%20%20%0A%20%20%20%20%0A%20%20%20%20%20%20%20%20%20%20%20%20var%20marker_6aa8082f150146e3ad7692826d71fbd7%20%3D%20L.marker%28%0A%20%20%20%20%20%20%20%20%20%20%20%20%20%20%20%20%5B55.97593978299806%2C%20-3.191321207818646%5D%2C%0A%20%20%20%20%20%20%20%20%20%20%20%20%20%20%20%20%7B%7D%0A%20%20%20%20%20%20%20%20%20%20%20%20%29.addTo%28marker_cluster_ada872b66f8d4492ab77f3dff857f701%29%3B%0A%20%20%20%20%20%20%20%20%0A%20%20%20%20%0A%20%20%20%20%20%20%20%20%20%20%20%20var%20icon_1c99061943534730966be25584afd358%20%3D%20L.AwesomeMarkers.icon%28%0A%20%20%20%20%20%20%20%20%20%20%20%20%20%20%20%20%7B%22extraClasses%22%3A%20%22fa-rotate-0%22%2C%20%22icon%22%3A%20%22bicycle%22%2C%20%22iconColor%22%3A%20%22white%22%2C%20%22markerColor%22%3A%20%22darkblue%22%2C%20%22prefix%22%3A%20%22fa%22%7D%0A%20%20%20%20%20%20%20%20%20%20%20%20%29%3B%0A%20%20%20%20%20%20%20%20%20%20%20%20marker_6aa8082f150146e3ad7692826d71fbd7.setIcon%28icon_1c99061943534730966be25584afd358%29%3B%0A%20%20%20%20%20%20%20%20%0A%20%20%20%20%0A%20%20%20%20%20%20%20%20var%20popup_c6bd37dd05e847a488b1614c013efdb5%20%3D%20L.popup%28%7B%22maxWidth%22%3A%20%22100%25%22%7D%29%3B%0A%0A%20%20%20%20%20%20%20%20%0A%20%20%20%20%20%20%20%20%20%20%20%20var%20html_f02fd68c95444473bf5e5dbecea7cc40%20%3D%20%24%28%60%3Cdiv%20id%3D%22html_f02fd68c95444473bf5e5dbecea7cc40%22%20style%3D%22width%3A%20100.0%25%3B%20height%3A%20100.0%25%3B%22%3EId%3A%201095%3Cbr%3EDudley%20Gardens%3Cbr%3EDescription%3A%20Opposite%20Victoria%20Park%20on%20Newhaven%20Road%3Cbr%3E%3Cbr%3ECounts%3A%20946%3C/div%3E%60%29%5B0%5D%3B%0A%20%20%20%20%20%20%20%20%20%20%20%20popup_c6bd37dd05e847a488b1614c013efdb5.setContent%28html_f02fd68c95444473bf5e5dbecea7cc40%29%3B%0A%20%20%20%20%20%20%20%20%0A%0A%20%20%20%20%20%20%20%20marker_6aa8082f150146e3ad7692826d71fbd7.bindPopup%28popup_c6bd37dd05e847a488b1614c013efdb5%29%0A%20%20%20%20%20%20%20%20%3B%0A%0A%20%20%20%20%20%20%20%20%0A%20%20%20%20%0A%20%20%20%20%0A%20%20%20%20%20%20%20%20%20%20%20%20var%20marker_b8007fbfe5334688a0ae5a8f709fcfb9%20%3D%20L.marker%28%0A%20%20%20%20%20%20%20%20%20%20%20%20%20%20%20%20%5B55.9088228790413%2C%20-3.320113285176247%5D%2C%0A%20%20%20%20%20%20%20%20%20%20%20%20%20%20%20%20%7B%7D%0A%20%20%20%20%20%20%20%20%20%20%20%20%29.addTo%28marker_cluster_ada872b66f8d4492ab77f3dff857f701%29%3B%0A%20%20%20%20%20%20%20%20%0A%20%20%20%20%0A%20%20%20%20%20%20%20%20%20%20%20%20var%20icon_7348c132bd894a928ccc2a18b5a43f77%20%3D%20L.AwesomeMarkers.icon%28%0A%20%20%20%20%20%20%20%20%20%20%20%20%20%20%20%20%7B%22extraClasses%22%3A%20%22fa-rotate-0%22%2C%20%22icon%22%3A%20%22bicycle%22%2C%20%22iconColor%22%3A%20%22white%22%2C%20%22markerColor%22%3A%20%22darkblue%22%2C%20%22prefix%22%3A%20%22fa%22%7D%0A%20%20%20%20%20%20%20%20%20%20%20%20%29%3B%0A%20%20%20%20%20%20%20%20%20%20%20%20marker_b8007fbfe5334688a0ae5a8f709fcfb9.setIcon%28icon_7348c132bd894a928ccc2a18b5a43f77%29%3B%0A%20%20%20%20%20%20%20%20%0A%20%20%20%20%0A%20%20%20%20%20%20%20%20var%20popup_ac2343ba331c4b97a29492723fcd7083%20%3D%20L.popup%28%7B%22maxWidth%22%3A%20%22100%25%22%7D%29%3B%0A%0A%20%20%20%20%20%20%20%20%0A%20%20%20%20%20%20%20%20%20%20%20%20var%20html_116f27fadb8f4083ac03e4878fbf179d%20%3D%20%24%28%60%3Cdiv%20id%3D%22html_116f27fadb8f4083ac03e4878fbf179d%22%20style%3D%22width%3A%20100.0%25%3B%20height%3A%20100.0%25%3B%22%3EId%3A%201819%3Cbr%3EHeriot%20Watt%20-%20Edinburgh%20Business%20School%3Cbr%3EDescription%3A%20Outside%20Edinburgh%20Business%20School%3Cbr%3E%3Cbr%3ECounts%3A%20912%3C/div%3E%60%29%5B0%5D%3B%0A%20%20%20%20%20%20%20%20%20%20%20%20popup_ac2343ba331c4b97a29492723fcd7083.setContent%28html_116f27fadb8f4083ac03e4878fbf179d%29%3B%0A%20%20%20%20%20%20%20%20%0A%0A%20%20%20%20%20%20%20%20marker_b8007fbfe5334688a0ae5a8f709fcfb9.bindPopup%28popup_ac2343ba331c4b97a29492723fcd7083%29%0A%20%20%20%20%20%20%20%20%3B%0A%0A%20%20%20%20%20%20%20%20%0A%20%20%20%20%0A%20%20%20%20%0A%20%20%20%20%20%20%20%20%20%20%20%20var%20marker_3ef7c47818f84ffab98be593ade8f9e3%20%3D%20L.marker%28%0A%20%20%20%20%20%20%20%20%20%20%20%20%20%20%20%20%5B55.94191081116495%2C%20-3.237800313822617%5D%2C%0A%20%20%20%20%20%20%20%20%20%20%20%20%20%20%20%20%7B%7D%0A%20%20%20%20%20%20%20%20%20%20%20%20%29.addTo%28marker_cluster_ada872b66f8d4492ab77f3dff857f701%29%3B%0A%20%20%20%20%20%20%20%20%0A%20%20%20%20%0A%20%20%20%20%20%20%20%20%20%20%20%20var%20icon_46993bfb09994e119cd8e23169664189%20%3D%20L.AwesomeMarkers.icon%28%0A%20%20%20%20%20%20%20%20%20%20%20%20%20%20%20%20%7B%22extraClasses%22%3A%20%22fa-rotate-0%22%2C%20%22icon%22%3A%20%22bicycle%22%2C%20%22iconColor%22%3A%20%22white%22%2C%20%22markerColor%22%3A%20%22darkblue%22%2C%20%22prefix%22%3A%20%22fa%22%7D%0A%20%20%20%20%20%20%20%20%20%20%20%20%29%3B%0A%20%20%20%20%20%20%20%20%20%20%20%20marker_3ef7c47818f84ffab98be593ade8f9e3.setIcon%28icon_46993bfb09994e119cd8e23169664189%29%3B%0A%20%20%20%20%20%20%20%20%0A%20%20%20%20%0A%20%20%20%20%20%20%20%20var%20popup_dedee96cea854d638743c1d8920e3b91%20%3D%20L.popup%28%7B%22maxWidth%22%3A%20%22100%25%22%7D%29%3B%0A%0A%20%20%20%20%20%20%20%20%0A%20%20%20%20%20%20%20%20%20%20%20%20var%20html_c83bfef460e4402da72e0a664a311187%20%3D%20%24%28%60%3Cdiv%20id%3D%22html_c83bfef460e4402da72e0a664a311187%22%20style%3D%22width%3A%20100.0%25%3B%20height%3A%20100.0%25%3B%22%3EId%3A%201754%3Cbr%3EMurrayfield%20Tram%3Cbr%3EDescription%3A%20Next%20to%20Murrayfield%20Tram%20Station%3Cbr%3E%3Cbr%3ECounts%3A%20883%3C/div%3E%60%29%5B0%5D%3B%0A%20%20%20%20%20%20%20%20%20%20%20%20popup_dedee96cea854d638743c1d8920e3b91.setContent%28html_c83bfef460e4402da72e0a664a311187%29%3B%0A%20%20%20%20%20%20%20%20%0A%0A%20%20%20%20%20%20%20%20marker_3ef7c47818f84ffab98be593ade8f9e3.bindPopup%28popup_dedee96cea854d638743c1d8920e3b91%29%0A%20%20%20%20%20%20%20%20%3B%0A%0A%20%20%20%20%20%20%20%20%0A%20%20%20%20%0A%20%20%20%20%0A%20%20%20%20%20%20%20%20%20%20%20%20var%20marker_7f644cfc54304560a9be6bec39fc5f9e%20%3D%20L.marker%28%0A%20%20%20%20%20%20%20%20%20%20%20%20%20%20%20%20%5B55.92738267693901%2C%20-3.307442444578868%5D%2C%0A%20%20%20%20%20%20%20%20%20%20%20%20%20%20%20%20%7B%7D%0A%20%20%20%20%20%20%20%20%20%20%20%20%29.addTo%28marker_cluster_ada872b66f8d4492ab77f3dff857f701%29%3B%0A%20%20%20%20%20%20%20%20%0A%20%20%20%20%0A%20%20%20%20%20%20%20%20%20%20%20%20var%20icon_d14db82f030142d98599e284b2686e7b%20%3D%20L.AwesomeMarkers.icon%28%0A%20%20%20%20%20%20%20%20%20%20%20%20%20%20%20%20%7B%22extraClasses%22%3A%20%22fa-rotate-0%22%2C%20%22icon%22%3A%20%22bicycle%22%2C%20%22iconColor%22%3A%20%22white%22%2C%20%22markerColor%22%3A%20%22darkblue%22%2C%20%22prefix%22%3A%20%22fa%22%7D%0A%20%20%20%20%20%20%20%20%20%20%20%20%29%3B%0A%20%20%20%20%20%20%20%20%20%20%20%20marker_7f644cfc54304560a9be6bec39fc5f9e.setIcon%28icon_d14db82f030142d98599e284b2686e7b%29%3B%0A%20%20%20%20%20%20%20%20%0A%20%20%20%20%0A%20%20%20%20%20%20%20%20var%20popup_4f58c2d0e9fa4d77b2dcd80e37df3502%20%3D%20L.popup%28%7B%22maxWidth%22%3A%20%22100%25%22%7D%29%3B%0A%0A%20%20%20%20%20%20%20%20%0A%20%20%20%20%20%20%20%20%20%20%20%20var%20html_85cfdeea2b8e420da8ab2fc63870aee9%20%3D%20%24%28%60%3Cdiv%20id%3D%22html_85cfdeea2b8e420da8ab2fc63870aee9%22%20style%3D%22width%3A%20100.0%25%3B%20height%3A%20100.0%25%3B%22%3EId%3A%201822%3Cbr%3EEdinburgh%20Park%20Station%3Cbr%3EDescription%3A%20Next%20to%20Rail%20and%20Tram%20stations%3Cbr%3E%3Cbr%3ECounts%3A%20869%3C/div%3E%60%29%5B0%5D%3B%0A%20%20%20%20%20%20%20%20%20%20%20%20popup_4f58c2d0e9fa4d77b2dcd80e37df3502.setContent%28html_85cfdeea2b8e420da8ab2fc63870aee9%29%3B%0A%20%20%20%20%20%20%20%20%0A%0A%20%20%20%20%20%20%20%20marker_7f644cfc54304560a9be6bec39fc5f9e.bindPopup%28popup_4f58c2d0e9fa4d77b2dcd80e37df3502%29%0A%20%20%20%20%20%20%20%20%3B%0A%0A%20%20%20%20%20%20%20%20%0A%20%20%20%20%0A%20%20%20%20%0A%20%20%20%20%20%20%20%20%20%20%20%20var%20marker_6fd0220701064458b8805a2672d18c8f%20%3D%20L.marker%28%0A%20%20%20%20%20%20%20%20%20%20%20%20%20%20%20%20%5B55.96094446922441%2C%20-3.201386994249105%5D%2C%0A%20%20%20%20%20%20%20%20%20%20%20%20%20%20%20%20%7B%7D%0A%20%20%20%20%20%20%20%20%20%20%20%20%29.addTo%28marker_cluster_ada872b66f8d4492ab77f3dff857f701%29%3B%0A%20%20%20%20%20%20%20%20%0A%20%20%20%20%0A%20%20%20%20%20%20%20%20%20%20%20%20var%20icon_62e4e744330644b4b68df2ae7c48e692%20%3D%20L.AwesomeMarkers.icon%28%0A%20%20%20%20%20%20%20%20%20%20%20%20%20%20%20%20%7B%22extraClasses%22%3A%20%22fa-rotate-0%22%2C%20%22icon%22%3A%20%22bicycle%22%2C%20%22iconColor%22%3A%20%22white%22%2C%20%22markerColor%22%3A%20%22darkblue%22%2C%20%22prefix%22%3A%20%22fa%22%7D%0A%20%20%20%20%20%20%20%20%20%20%20%20%29%3B%0A%20%20%20%20%20%20%20%20%20%20%20%20marker_6fd0220701064458b8805a2672d18c8f.setIcon%28icon_62e4e744330644b4b68df2ae7c48e692%29%3B%0A%20%20%20%20%20%20%20%20%0A%20%20%20%20%0A%20%20%20%20%20%20%20%20var%20popup_1504df0893b34d5e8355267da5f3fa4f%20%3D%20L.popup%28%7B%22maxWidth%22%3A%20%22100%25%22%7D%29%3B%0A%0A%20%20%20%20%20%20%20%20%0A%20%20%20%20%20%20%20%20%20%20%20%20var%20html_9132e93aa9f34e22b09ec66e848fd1a1%20%3D%20%24%28%60%3Cdiv%20id%3D%22html_9132e93aa9f34e22b09ec66e848fd1a1%22%20style%3D%22width%3A%20100.0%25%3B%20height%3A%20100.0%25%3B%22%3EId%3A%20868%3Cbr%3EDundas%20Street%3Cbr%3EDescription%3A%20Corner%20of%20Dundas%20Street%20%26%20Henderson%20Row%3Cbr%3E%3Cbr%3ECounts%3A%20859%3C/div%3E%60%29%5B0%5D%3B%0A%20%20%20%20%20%20%20%20%20%20%20%20popup_1504df0893b34d5e8355267da5f3fa4f.setContent%28html_9132e93aa9f34e22b09ec66e848fd1a1%29%3B%0A%20%20%20%20%20%20%20%20%0A%0A%20%20%20%20%20%20%20%20marker_6fd0220701064458b8805a2672d18c8f.bindPopup%28popup_1504df0893b34d5e8355267da5f3fa4f%29%0A%20%20%20%20%20%20%20%20%3B%0A%0A%20%20%20%20%20%20%20%20%0A%20%20%20%20%0A%20%20%20%20%0A%20%20%20%20%20%20%20%20%20%20%20%20var%20marker_4d0bdcdc140549c9b7bcaea869927da2%20%3D%20L.marker%28%0A%20%20%20%20%20%20%20%20%20%20%20%20%20%20%20%20%5B55.97544142756835%2C%20-3.166806411195239%5D%2C%0A%20%20%20%20%20%20%20%20%20%20%20%20%20%20%20%20%7B%7D%0A%20%20%20%20%20%20%20%20%20%20%20%20%29.addTo%28marker_cluster_ada872b66f8d4492ab77f3dff857f701%29%3B%0A%20%20%20%20%20%20%20%20%0A%20%20%20%20%0A%20%20%20%20%20%20%20%20%20%20%20%20var%20icon_fbb7ecea9104497a9fb93fa703f20f52%20%3D%20L.AwesomeMarkers.icon%28%0A%20%20%20%20%20%20%20%20%20%20%20%20%20%20%20%20%7B%22extraClasses%22%3A%20%22fa-rotate-0%22%2C%20%22icon%22%3A%20%22bicycle%22%2C%20%22iconColor%22%3A%20%22white%22%2C%20%22markerColor%22%3A%20%22darkblue%22%2C%20%22prefix%22%3A%20%22fa%22%7D%0A%20%20%20%20%20%20%20%20%20%20%20%20%29%3B%0A%20%20%20%20%20%20%20%20%20%20%20%20marker_4d0bdcdc140549c9b7bcaea869927da2.setIcon%28icon_fbb7ecea9104497a9fb93fa703f20f52%29%3B%0A%20%20%20%20%20%20%20%20%0A%20%20%20%20%0A%20%20%20%20%20%20%20%20var%20popup_fbaf7d43ee714786918ab10fb753bcc7%20%3D%20L.popup%28%7B%22maxWidth%22%3A%20%22100%25%22%7D%29%3B%0A%0A%20%20%20%20%20%20%20%20%0A%20%20%20%20%20%20%20%20%20%20%20%20var%20html_2d3c7038054042dbba08574775e52f0b%20%3D%20%24%28%60%3Cdiv%20id%3D%22html_2d3c7038054042dbba08574775e52f0b%22%20style%3D%22width%3A%20100.0%25%3B%20height%3A%20100.0%25%3B%22%3EId%3A%201026%3Cbr%3EConstitution%20Street%3Cbr%3EDescription%3A%20Next%20to%20Burns%20Statue%3Cbr%3E%3Cbr%3ECounts%3A%20856%3C/div%3E%60%29%5B0%5D%3B%0A%20%20%20%20%20%20%20%20%20%20%20%20popup_fbaf7d43ee714786918ab10fb753bcc7.setContent%28html_2d3c7038054042dbba08574775e52f0b%29%3B%0A%20%20%20%20%20%20%20%20%0A%0A%20%20%20%20%20%20%20%20marker_4d0bdcdc140549c9b7bcaea869927da2.bindPopup%28popup_fbaf7d43ee714786918ab10fb753bcc7%29%0A%20%20%20%20%20%20%20%20%3B%0A%0A%20%20%20%20%20%20%20%20%0A%20%20%20%20%0A%20%20%20%20%0A%20%20%20%20%20%20%20%20%20%20%20%20var%20marker_be249cedbe0d47c4b1112867dc9dfddf%20%3D%20L.marker%28%0A%20%20%20%20%20%20%20%20%20%20%20%20%20%20%20%20%5B55.944867799682754%2C%20-3.182670511194715%5D%2C%0A%20%20%20%20%20%20%20%20%20%20%20%20%20%20%20%20%7B%7D%0A%20%20%20%20%20%20%20%20%20%20%20%20%29.addTo%28marker_cluster_ada872b66f8d4492ab77f3dff857f701%29%3B%0A%20%20%20%20%20%20%20%20%0A%20%20%20%20%0A%20%20%20%20%20%20%20%20%20%20%20%20var%20icon_b56a5dcad42a4a03bec9c672efcc6809%20%3D%20L.AwesomeMarkers.icon%28%0A%20%20%20%20%20%20%20%20%20%20%20%20%20%20%20%20%7B%22extraClasses%22%3A%20%22fa-rotate-0%22%2C%20%22icon%22%3A%20%22bicycle%22%2C%20%22iconColor%22%3A%20%22white%22%2C%20%22markerColor%22%3A%20%22darkblue%22%2C%20%22prefix%22%3A%20%22fa%22%7D%0A%20%20%20%20%20%20%20%20%20%20%20%20%29%3B%0A%20%20%20%20%20%20%20%20%20%20%20%20marker_be249cedbe0d47c4b1112867dc9dfddf.setIcon%28icon_b56a5dcad42a4a03bec9c672efcc6809%29%3B%0A%20%20%20%20%20%20%20%20%0A%20%20%20%20%0A%20%20%20%20%20%20%20%20var%20popup_949489417c1746d8a5f5fee88903bb59%20%3D%20L.popup%28%7B%22maxWidth%22%3A%20%22100%25%22%7D%29%3B%0A%0A%20%20%20%20%20%20%20%20%0A%20%20%20%20%20%20%20%20%20%20%20%20var%20html_3dd7fd4f833e4d78aa71e9e5638a05d0%20%3D%20%24%28%60%3Cdiv%20id%3D%22html_3dd7fd4f833e4d78aa71e9e5638a05d0%22%20style%3D%22width%3A%20100.0%25%3B%20height%3A%20100.0%25%3B%22%3EId%3A%20347%3Cbr%3ESimon%20Square%3Cbr%3EDescription%3A%20Corner%20of%20Simon%20Square%20%26%20Gilmour%20Street%3Cbr%3E%3Cbr%3ECounts%3A%20854%3C/div%3E%60%29%5B0%5D%3B%0A%20%20%20%20%20%20%20%20%20%20%20%20popup_949489417c1746d8a5f5fee88903bb59.setContent%28html_3dd7fd4f833e4d78aa71e9e5638a05d0%29%3B%0A%20%20%20%20%20%20%20%20%0A%0A%20%20%20%20%20%20%20%20marker_be249cedbe0d47c4b1112867dc9dfddf.bindPopup%28popup_949489417c1746d8a5f5fee88903bb59%29%0A%20%20%20%20%20%20%20%20%3B%0A%0A%20%20%20%20%20%20%20%20%0A%20%20%20%20%0A%20%20%20%20%0A%20%20%20%20%20%20%20%20%20%20%20%20var%20marker_4121d43716ef438bab86bea2451b60fa%20%3D%20L.marker%28%0A%20%20%20%20%20%20%20%20%20%20%20%20%20%20%20%20%5B55.945159896857184%2C%20-3.203678290717107%5D%2C%0A%20%20%20%20%20%20%20%20%20%20%20%20%20%20%20%20%7B%7D%0A%20%20%20%20%20%20%20%20%20%20%20%20%29.addTo%28marker_cluster_ada872b66f8d4492ab77f3dff857f701%29%3B%0A%20%20%20%20%20%20%20%20%0A%20%20%20%20%0A%20%20%20%20%20%20%20%20%20%20%20%20var%20icon_3a77aba291e94cfbb3e1ed4afc604445%20%3D%20L.AwesomeMarkers.icon%28%0A%20%20%20%20%20%20%20%20%20%20%20%20%20%20%20%20%7B%22extraClasses%22%3A%20%22fa-rotate-0%22%2C%20%22icon%22%3A%20%22bicycle%22%2C%20%22iconColor%22%3A%20%22white%22%2C%20%22markerColor%22%3A%20%22darkblue%22%2C%20%22prefix%22%3A%20%22fa%22%7D%0A%20%20%20%20%20%20%20%20%20%20%20%20%29%3B%0A%20%20%20%20%20%20%20%20%20%20%20%20marker_4121d43716ef438bab86bea2451b60fa.setIcon%28icon_3a77aba291e94cfbb3e1ed4afc604445%29%3B%0A%20%20%20%20%20%20%20%20%0A%20%20%20%20%0A%20%20%20%20%20%20%20%20var%20popup_40a5f79d273d4653b785a0ebfb07ddcb%20%3D%20L.popup%28%7B%22maxWidth%22%3A%20%22100%25%22%7D%29%3B%0A%0A%20%20%20%20%20%20%20%20%0A%20%20%20%20%20%20%20%20%20%20%20%20var%20html_5aeae29fc1dd4bd9905c0a1a26c0d57d%20%3D%20%24%28%60%3Cdiv%20id%3D%22html_5aeae29fc1dd4bd9905c0a1a26c0d57d%22%20style%3D%22width%3A%20100.0%25%3B%20height%3A%20100.0%25%3B%22%3EId%3A%20275%3Cbr%3ERiego%20Street%3Cbr%3EDescription%3A%20Riego%20Street%20on%20junction%20with%20East%20Fountainbridge%3Cbr%3E%3Cbr%3ECounts%3A%20850%3C/div%3E%60%29%5B0%5D%3B%0A%20%20%20%20%20%20%20%20%20%20%20%20popup_40a5f79d273d4653b785a0ebfb07ddcb.setContent%28html_5aeae29fc1dd4bd9905c0a1a26c0d57d%29%3B%0A%20%20%20%20%20%20%20%20%0A%0A%20%20%20%20%20%20%20%20marker_4121d43716ef438bab86bea2451b60fa.bindPopup%28popup_40a5f79d273d4653b785a0ebfb07ddcb%29%0A%20%20%20%20%20%20%20%20%3B%0A%0A%20%20%20%20%20%20%20%20%0A%20%20%20%20%0A%20%20%20%20%0A%20%20%20%20%20%20%20%20%20%20%20%20var%20marker_7dd61a4ddeaa4740bc687759e81058e6%20%3D%20L.marker%28%0A%20%20%20%20%20%20%20%20%20%20%20%20%20%20%20%20%5B55.95940686974708%2C%20-3.215659820662267%5D%2C%0A%20%20%20%20%20%20%20%20%20%20%20%20%20%20%20%20%7B%7D%0A%20%20%20%20%20%20%20%20%20%20%20%20%29.addTo%28marker_cluster_ada872b66f8d4492ab77f3dff857f701%29%3B%0A%20%20%20%20%20%20%20%20%0A%20%20%20%20%0A%20%20%20%20%20%20%20%20%20%20%20%20var%20icon_f898d9fee7bf457bb1d67308027e4259%20%3D%20L.AwesomeMarkers.icon%28%0A%20%20%20%20%20%20%20%20%20%20%20%20%20%20%20%20%7B%22extraClasses%22%3A%20%22fa-rotate-0%22%2C%20%22icon%22%3A%20%22bicycle%22%2C%20%22iconColor%22%3A%20%22white%22%2C%20%22markerColor%22%3A%20%22darkblue%22%2C%20%22prefix%22%3A%20%22fa%22%7D%0A%20%20%20%20%20%20%20%20%20%20%20%20%29%3B%0A%20%20%20%20%20%20%20%20%20%20%20%20marker_7dd61a4ddeaa4740bc687759e81058e6.setIcon%28icon_f898d9fee7bf457bb1d67308027e4259%29%3B%0A%20%20%20%20%20%20%20%20%0A%20%20%20%20%0A%20%20%20%20%20%20%20%20var%20popup_30d9d2c082ef45ffa588284e50f997f1%20%3D%20L.popup%28%7B%22maxWidth%22%3A%20%22100%25%22%7D%29%3B%0A%0A%20%20%20%20%20%20%20%20%0A%20%20%20%20%20%20%20%20%20%20%20%20var%20html_226834ae7be04e9e852b95ffae92208d%20%3D%20%24%28%60%3Cdiv%20id%3D%22html_226834ae7be04e9e852b95ffae92208d%22%20style%3D%22width%3A%20100.0%25%3B%20height%3A%20100.0%25%3B%22%3EId%3A%20866%3Cbr%3EComely%20Bank%20Road%3Cbr%3EDescription%3A%20Between%20trees%20on%20Comely%20Bank%20Road%3Cbr%3E%3Cbr%3ECounts%3A%20820%3C/div%3E%60%29%5B0%5D%3B%0A%20%20%20%20%20%20%20%20%20%20%20%20popup_30d9d2c082ef45ffa588284e50f997f1.setContent%28html_226834ae7be04e9e852b95ffae92208d%29%3B%0A%20%20%20%20%20%20%20%20%0A%0A%20%20%20%20%20%20%20%20marker_7dd61a4ddeaa4740bc687759e81058e6.bindPopup%28popup_30d9d2c082ef45ffa588284e50f997f1%29%0A%20%20%20%20%20%20%20%20%3B%0A%0A%20%20%20%20%20%20%20%20%0A%20%20%20%20%0A%20%20%20%20%0A%20%20%20%20%20%20%20%20%20%20%20%20var%20marker_d153c19bad74449589cdd6794a0835f5%20%3D%20L.marker%28%0A%20%20%20%20%20%20%20%20%20%20%20%20%20%20%20%20%5B55.94479128084842%2C%20-3.243673010460725%5D%2C%0A%20%20%20%20%20%20%20%20%20%20%20%20%20%20%20%20%7B%7D%0A%20%20%20%20%20%20%20%20%20%20%20%20%29.addTo%28marker_cluster_ada872b66f8d4492ab77f3dff857f701%29%3B%0A%20%20%20%20%20%20%20%20%0A%20%20%20%20%0A%20%20%20%20%20%20%20%20%20%20%20%20var%20icon_a3431db7e2e54397933af090ce05841f%20%3D%20L.AwesomeMarkers.icon%28%0A%20%20%20%20%20%20%20%20%20%20%20%20%20%20%20%20%7B%22extraClasses%22%3A%20%22fa-rotate-0%22%2C%20%22icon%22%3A%20%22bicycle%22%2C%20%22iconColor%22%3A%20%22white%22%2C%20%22markerColor%22%3A%20%22darkblue%22%2C%20%22prefix%22%3A%20%22fa%22%7D%0A%20%20%20%20%20%20%20%20%20%20%20%20%29%3B%0A%20%20%20%20%20%20%20%20%20%20%20%20marker_d153c19bad74449589cdd6794a0835f5.setIcon%28icon_a3431db7e2e54397933af090ce05841f%29%3B%0A%20%20%20%20%20%20%20%20%0A%20%20%20%20%0A%20%20%20%20%20%20%20%20var%20popup_a184af92fe7d4cd0ac0ba2b267c30b66%20%3D%20L.popup%28%7B%22maxWidth%22%3A%20%22100%25%22%7D%29%3B%0A%0A%20%20%20%20%20%20%20%20%0A%20%20%20%20%20%20%20%20%20%20%20%20var%20html_437fde17cf3c463eabb90c3e82f68a8a%20%3D%20%24%28%60%3Cdiv%20id%3D%22html_437fde17cf3c463eabb90c3e82f68a8a%22%20style%3D%22width%3A%20100.0%25%3B%20height%3A%20100.0%25%3B%22%3EId%3A%201799%3Cbr%3EMurrayfield%3Cbr%3EDescription%3A%20Near%20Stadium%20and%20Ice%20Rink%3Cbr%3E%3Cbr%3ECounts%3A%20784%3C/div%3E%60%29%5B0%5D%3B%0A%20%20%20%20%20%20%20%20%20%20%20%20popup_a184af92fe7d4cd0ac0ba2b267c30b66.setContent%28html_437fde17cf3c463eabb90c3e82f68a8a%29%3B%0A%20%20%20%20%20%20%20%20%0A%0A%20%20%20%20%20%20%20%20marker_d153c19bad74449589cdd6794a0835f5.bindPopup%28popup_a184af92fe7d4cd0ac0ba2b267c30b66%29%0A%20%20%20%20%20%20%20%20%3B%0A%0A%20%20%20%20%20%20%20%20%0A%20%20%20%20%0A%20%20%20%20%0A%20%20%20%20%20%20%20%20%20%20%20%20var%20marker_516fcea5144549fa851d0c7dc24c75a6%20%3D%20L.marker%28%0A%20%20%20%20%20%20%20%20%20%20%20%20%20%20%20%20%5B55.93339776573361%2C%20-3.212428647463525%5D%2C%0A%20%20%20%20%20%20%20%20%20%20%20%20%20%20%20%20%7B%7D%0A%20%20%20%20%20%20%20%20%20%20%20%20%29.addTo%28marker_cluster_ada872b66f8d4492ab77f3dff857f701%29%3B%0A%20%20%20%20%20%20%20%20%0A%20%20%20%20%0A%20%20%20%20%20%20%20%20%20%20%20%20var%20icon_59a74dd1826548a0be6044c15ea3c2dd%20%3D%20L.AwesomeMarkers.icon%28%0A%20%20%20%20%20%20%20%20%20%20%20%20%20%20%20%20%7B%22extraClasses%22%3A%20%22fa-rotate-0%22%2C%20%22icon%22%3A%20%22bicycle%22%2C%20%22iconColor%22%3A%20%22white%22%2C%20%22markerColor%22%3A%20%22darkblue%22%2C%20%22prefix%22%3A%20%22fa%22%7D%0A%20%20%20%20%20%20%20%20%20%20%20%20%29%3B%0A%20%20%20%20%20%20%20%20%20%20%20%20marker_516fcea5144549fa851d0c7dc24c75a6.setIcon%28icon_59a74dd1826548a0be6044c15ea3c2dd%29%3B%0A%20%20%20%20%20%20%20%20%0A%20%20%20%20%0A%20%20%20%20%20%20%20%20var%20popup_3b1a6a807c5f4d83884ef11674867708%20%3D%20L.popup%28%7B%22maxWidth%22%3A%20%22100%25%22%7D%29%3B%0A%0A%20%20%20%20%20%20%20%20%0A%20%20%20%20%20%20%20%20%20%20%20%20var%20html_857df2cceae244f9bd873946f8c9c178%20%3D%20%24%28%60%3Cdiv%20id%3D%22html_857df2cceae244f9bd873946f8c9c178%22%20style%3D%22width%3A%20100.0%25%3B%20height%3A%20100.0%25%3B%22%3EId%3A%20345%3Cbr%3EColinton%20Road%3Cbr%3EDescription%3A%20Colinton%20Road%20next%20to%20Napier%20University%3Cbr%3E%3Cbr%3ECounts%3A%20767%3C/div%3E%60%29%5B0%5D%3B%0A%20%20%20%20%20%20%20%20%20%20%20%20popup_3b1a6a807c5f4d83884ef11674867708.setContent%28html_857df2cceae244f9bd873946f8c9c178%29%3B%0A%20%20%20%20%20%20%20%20%0A%0A%20%20%20%20%20%20%20%20marker_516fcea5144549fa851d0c7dc24c75a6.bindPopup%28popup_3b1a6a807c5f4d83884ef11674867708%29%0A%20%20%20%20%20%20%20%20%3B%0A%0A%20%20%20%20%20%20%20%20%0A%20%20%20%20%0A%20%20%20%20%0A%20%20%20%20%20%20%20%20%20%20%20%20var%20marker_4c71b7398cfe453ba8e8dc413b5eef8a%20%3D%20L.marker%28%0A%20%20%20%20%20%20%20%20%20%20%20%20%20%20%20%20%5B55.947490592969416%2C%20-3.181112126101965%5D%2C%0A%20%20%20%20%20%20%20%20%20%20%20%20%20%20%20%20%7B%7D%0A%20%20%20%20%20%20%20%20%20%20%20%20%29.addTo%28marker_cluster_ada872b66f8d4492ab77f3dff857f701%29%3B%0A%20%20%20%20%20%20%20%20%0A%20%20%20%20%0A%20%20%20%20%20%20%20%20%20%20%20%20var%20icon_a2b0d2cf46934aaf9ef00a0dbc6eddc2%20%3D%20L.AwesomeMarkers.icon%28%0A%20%20%20%20%20%20%20%20%20%20%20%20%20%20%20%20%7B%22extraClasses%22%3A%20%22fa-rotate-0%22%2C%20%22icon%22%3A%20%22bicycle%22%2C%20%22iconColor%22%3A%20%22white%22%2C%20%22markerColor%22%3A%20%22darkblue%22%2C%20%22prefix%22%3A%20%22fa%22%7D%0A%20%20%20%20%20%20%20%20%20%20%20%20%29%3B%0A%20%20%20%20%20%20%20%20%20%20%20%20marker_4c71b7398cfe453ba8e8dc413b5eef8a.setIcon%28icon_a2b0d2cf46934aaf9ef00a0dbc6eddc2%29%3B%0A%20%20%20%20%20%20%20%20%0A%20%20%20%20%0A%20%20%20%20%20%20%20%20var%20popup_14415d256fbf4a3c9828d39bd2e5d4c6%20%3D%20L.popup%28%7B%22maxWidth%22%3A%20%22100%25%22%7D%29%3B%0A%0A%20%20%20%20%20%20%20%20%0A%20%20%20%20%20%20%20%20%20%20%20%20var%20html_89eddfa085d24f1c9323bd49e9b3c902%20%3D%20%24%28%60%3Cdiv%20id%3D%22html_89eddfa085d24f1c9323bd49e9b3c902%22%20style%3D%22width%3A%20100.0%25%3B%20height%3A%20100.0%25%3B%22%3EId%3A%201731%3Cbr%3EPleasance%20Courtyard%3Cbr%3EDescription%3A%20Edinburgh%20University%2C%20The%20Pleasance%3Cbr%3E%3Cbr%3ECounts%3A%20735%3C/div%3E%60%29%5B0%5D%3B%0A%20%20%20%20%20%20%20%20%20%20%20%20popup_14415d256fbf4a3c9828d39bd2e5d4c6.setContent%28html_89eddfa085d24f1c9323bd49e9b3c902%29%3B%0A%20%20%20%20%20%20%20%20%0A%0A%20%20%20%20%20%20%20%20marker_4c71b7398cfe453ba8e8dc413b5eef8a.bindPopup%28popup_14415d256fbf4a3c9828d39bd2e5d4c6%29%0A%20%20%20%20%20%20%20%20%3B%0A%0A%20%20%20%20%20%20%20%20%0A%20%20%20%20%0A%20%20%20%20%0A%20%20%20%20%20%20%20%20%20%20%20%20var%20marker_afe5fa0c9c1b4219ae52fca065974e2d%20%3D%20L.marker%28%0A%20%20%20%20%20%20%20%20%20%20%20%20%20%20%20%20%5B55.96253727246136%2C%20-3.179472670388236%5D%2C%0A%20%20%20%20%20%20%20%20%20%20%20%20%20%20%20%20%7B%7D%0A%20%20%20%20%20%20%20%20%20%20%20%20%29.addTo%28marker_cluster_ada872b66f8d4492ab77f3dff857f701%29%3B%0A%20%20%20%20%20%20%20%20%0A%20%20%20%20%0A%20%20%20%20%20%20%20%20%20%20%20%20var%20icon_8960c65d8ba241e888f1d6a8d25a867e%20%3D%20L.AwesomeMarkers.icon%28%0A%20%20%20%20%20%20%20%20%20%20%20%20%20%20%20%20%7B%22extraClasses%22%3A%20%22fa-rotate-0%22%2C%20%22icon%22%3A%20%22bicycle%22%2C%20%22iconColor%22%3A%20%22white%22%2C%20%22markerColor%22%3A%20%22darkblue%22%2C%20%22prefix%22%3A%20%22fa%22%7D%0A%20%20%20%20%20%20%20%20%20%20%20%20%29%3B%0A%20%20%20%20%20%20%20%20%20%20%20%20marker_afe5fa0c9c1b4219ae52fca065974e2d.setIcon%28icon_8960c65d8ba241e888f1d6a8d25a867e%29%3B%0A%20%20%20%20%20%20%20%20%0A%20%20%20%20%0A%20%20%20%20%20%20%20%20var%20popup_0b57896b5c864de29174eecb7636912f%20%3D%20L.popup%28%7B%22maxWidth%22%3A%20%22100%25%22%7D%29%3B%0A%0A%20%20%20%20%20%20%20%20%0A%20%20%20%20%20%20%20%20%20%20%20%20var%20html_753b1126a7b2406586ad580a3058d320%20%3D%20%24%28%60%3Cdiv%20id%3D%22html_753b1126a7b2406586ad580a3058d320%22%20style%3D%22width%3A%20100.0%25%3B%20height%3A%20100.0%25%3B%22%3EId%3A%20273%3Cbr%3EShrubhill%3Cbr%3EDescription%3A%20Sainsbury%27s%20Leith%20Walk%3Cbr%3E%3Cbr%3ECounts%3A%20726%3C/div%3E%60%29%5B0%5D%3B%0A%20%20%20%20%20%20%20%20%20%20%20%20popup_0b57896b5c864de29174eecb7636912f.setContent%28html_753b1126a7b2406586ad580a3058d320%29%3B%0A%20%20%20%20%20%20%20%20%0A%0A%20%20%20%20%20%20%20%20marker_afe5fa0c9c1b4219ae52fca065974e2d.bindPopup%28popup_0b57896b5c864de29174eecb7636912f%29%0A%20%20%20%20%20%20%20%20%3B%0A%0A%20%20%20%20%20%20%20%20%0A%20%20%20%20%0A%20%20%20%20%0A%20%20%20%20%20%20%20%20%20%20%20%20var%20marker_ba25941d4ecd4dfdafbfed1bb3b04513%20%3D%20L.marker%28%0A%20%20%20%20%20%20%20%20%20%20%20%20%20%20%20%20%5B55.945045875212095%2C%20-3.250881447188249%5D%2C%0A%20%20%20%20%20%20%20%20%20%20%20%20%20%20%20%20%7B%7D%0A%20%20%20%20%20%20%20%20%20%20%20%20%29.addTo%28marker_cluster_ada872b66f8d4492ab77f3dff857f701%29%3B%0A%20%20%20%20%20%20%20%20%0A%20%20%20%20%0A%20%20%20%20%20%20%20%20%20%20%20%20var%20icon_db032344eeb645e39dbde22897413f6a%20%3D%20L.AwesomeMarkers.icon%28%0A%20%20%20%20%20%20%20%20%20%20%20%20%20%20%20%20%7B%22extraClasses%22%3A%20%22fa-rotate-0%22%2C%20%22icon%22%3A%20%22bicycle%22%2C%20%22iconColor%22%3A%20%22white%22%2C%20%22markerColor%22%3A%20%22darkblue%22%2C%20%22prefix%22%3A%20%22fa%22%7D%0A%20%20%20%20%20%20%20%20%20%20%20%20%29%3B%0A%20%20%20%20%20%20%20%20%20%20%20%20marker_ba25941d4ecd4dfdafbfed1bb3b04513.setIcon%28icon_db032344eeb645e39dbde22897413f6a%29%3B%0A%20%20%20%20%20%20%20%20%0A%20%20%20%20%0A%20%20%20%20%20%20%20%20var%20popup_67346a7faf5140a093578a84e858ec76%20%3D%20L.popup%28%7B%22maxWidth%22%3A%20%22100%25%22%7D%29%3B%0A%0A%20%20%20%20%20%20%20%20%0A%20%20%20%20%20%20%20%20%20%20%20%20var%20html_a9ec67f6e69146cfbd7fa97cdc3368d9%20%3D%20%24%28%60%3Cdiv%20id%3D%22html_a9ec67f6e69146cfbd7fa97cdc3368d9%22%20style%3D%22width%3A%20100.0%25%3B%20height%3A%20100.0%25%3B%22%3EId%3A%201770%3Cbr%3EEllersly%20Road%3Cbr%3EDescription%3A%20Corner%20with%20A8%20Corstorphine%20Road%20at%20Western%20Terrace%3Cbr%3E%3Cbr%3ECounts%3A%20719%3C/div%3E%60%29%5B0%5D%3B%0A%20%20%20%20%20%20%20%20%20%20%20%20popup_67346a7faf5140a093578a84e858ec76.setContent%28html_a9ec67f6e69146cfbd7fa97cdc3368d9%29%3B%0A%20%20%20%20%20%20%20%20%0A%0A%20%20%20%20%20%20%20%20marker_ba25941d4ecd4dfdafbfed1bb3b04513.bindPopup%28popup_67346a7faf5140a093578a84e858ec76%29%0A%20%20%20%20%20%20%20%20%3B%0A%0A%20%20%20%20%20%20%20%20%0A%20%20%20%20%0A%20%20%20%20%0A%20%20%20%20%20%20%20%20%20%20%20%20var%20marker_8b571d18c9ea4c25aa2f02e8655d727f%20%3D%20L.marker%28%0A%20%20%20%20%20%20%20%20%20%20%20%20%20%20%20%20%5B55.94604282192561%2C%20-3.210484908343801%5D%2C%0A%20%20%20%20%20%20%20%20%20%20%20%20%20%20%20%20%7B%7D%0A%20%20%20%20%20%20%20%20%20%20%20%20%29.addTo%28marker_cluster_ada872b66f8d4492ab77f3dff857f701%29%3B%0A%20%20%20%20%20%20%20%20%0A%20%20%20%20%0A%20%20%20%20%20%20%20%20%20%20%20%20var%20icon_015aaad3d0ea4093b4741d3b897997ab%20%3D%20L.AwesomeMarkers.icon%28%0A%20%20%20%20%20%20%20%20%20%20%20%20%20%20%20%20%7B%22extraClasses%22%3A%20%22fa-rotate-0%22%2C%20%22icon%22%3A%20%22bicycle%22%2C%20%22iconColor%22%3A%20%22white%22%2C%20%22markerColor%22%3A%20%22darkblue%22%2C%20%22prefix%22%3A%20%22fa%22%7D%0A%20%20%20%20%20%20%20%20%20%20%20%20%29%3B%0A%20%20%20%20%20%20%20%20%20%20%20%20marker_8b571d18c9ea4c25aa2f02e8655d727f.setIcon%28icon_015aaad3d0ea4093b4741d3b897997ab%29%3B%0A%20%20%20%20%20%20%20%20%0A%20%20%20%20%0A%20%20%20%20%20%20%20%20var%20popup_d880fb550e8a43b88ba5ce1340a9b258%20%3D%20L.popup%28%7B%22maxWidth%22%3A%20%22100%25%22%7D%29%3B%0A%0A%20%20%20%20%20%20%20%20%0A%20%20%20%20%20%20%20%20%20%20%20%20var%20html_6928ae8921ea417eb30a9cf828e67307%20%3D%20%24%28%60%3Cdiv%20id%3D%22html_6928ae8921ea417eb30a9cf828e67307%22%20style%3D%22width%3A%20100.0%25%3B%20height%3A%20100.0%25%3B%22%3EId%3A%20882%3Cbr%3EEICC%3Cbr%3EDescription%3A%20Between%20planters%20next%20to%20EICC%3Cbr%3E%3Cbr%3ECounts%3A%20710%3C/div%3E%60%29%5B0%5D%3B%0A%20%20%20%20%20%20%20%20%20%20%20%20popup_d880fb550e8a43b88ba5ce1340a9b258.setContent%28html_6928ae8921ea417eb30a9cf828e67307%29%3B%0A%20%20%20%20%20%20%20%20%0A%0A%20%20%20%20%20%20%20%20marker_8b571d18c9ea4c25aa2f02e8655d727f.bindPopup%28popup_d880fb550e8a43b88ba5ce1340a9b258%29%0A%20%20%20%20%20%20%20%20%3B%0A%0A%20%20%20%20%20%20%20%20%0A%20%20%20%20%0A%20%20%20%20%0A%20%20%20%20%20%20%20%20%20%20%20%20var%20marker_a382a01017574d179dfcfc15b4769b29%20%3D%20L.marker%28%0A%20%20%20%20%20%20%20%20%20%20%20%20%20%20%20%20%5B55.94388031687606%2C%20-3.066753916217862%5D%2C%0A%20%20%20%20%20%20%20%20%20%20%20%20%20%20%20%20%7B%7D%0A%20%20%20%20%20%20%20%20%20%20%20%20%29.addTo%28marker_cluster_ada872b66f8d4492ab77f3dff857f701%29%3B%0A%20%20%20%20%20%20%20%20%0A%20%20%20%20%0A%20%20%20%20%20%20%20%20%20%20%20%20var%20icon_59797f06e8de4d58ac655a42e625d4f2%20%3D%20L.AwesomeMarkers.icon%28%0A%20%20%20%20%20%20%20%20%20%20%20%20%20%20%20%20%7B%22extraClasses%22%3A%20%22fa-rotate-0%22%2C%20%22icon%22%3A%20%22bicycle%22%2C%20%22iconColor%22%3A%20%22white%22%2C%20%22markerColor%22%3A%20%22darkblue%22%2C%20%22prefix%22%3A%20%22fa%22%7D%0A%20%20%20%20%20%20%20%20%20%20%20%20%29%3B%0A%20%20%20%20%20%20%20%20%20%20%20%20marker_a382a01017574d179dfcfc15b4769b29.setIcon%28icon_59797f06e8de4d58ac655a42e625d4f2%29%3B%0A%20%20%20%20%20%20%20%20%0A%20%20%20%20%0A%20%20%20%20%20%20%20%20var%20popup_e758edee26fc45be8ca2958fc27b17f3%20%3D%20L.popup%28%7B%22maxWidth%22%3A%20%22100%25%22%7D%29%3B%0A%0A%20%20%20%20%20%20%20%20%0A%20%20%20%20%20%20%20%20%20%20%20%20var%20html_f585224df4074a83bbb1faa47eb6d1fa%20%3D%20%24%28%60%3Cdiv%20id%3D%22html_f585224df4074a83bbb1faa47eb6d1fa%22%20style%3D%22width%3A%20100.0%25%3B%20height%3A%20100.0%25%3B%22%3EId%3A%202263%3Cbr%3EMusselburgh%20Lidl%3Cbr%3EDescription%3A%20Musselborough%20North%20High%20Street%20opposite%20Harbour%20Road%3Cbr%3E%3Cbr%3ECounts%3A%20709%3C/div%3E%60%29%5B0%5D%3B%0A%20%20%20%20%20%20%20%20%20%20%20%20popup_e758edee26fc45be8ca2958fc27b17f3.setContent%28html_f585224df4074a83bbb1faa47eb6d1fa%29%3B%0A%20%20%20%20%20%20%20%20%0A%0A%20%20%20%20%20%20%20%20marker_a382a01017574d179dfcfc15b4769b29.bindPopup%28popup_e758edee26fc45be8ca2958fc27b17f3%29%0A%20%20%20%20%20%20%20%20%3B%0A%0A%20%20%20%20%20%20%20%20%0A%20%20%20%20%0A%20%20%20%20%0A%20%20%20%20%20%20%20%20%20%20%20%20var%20marker_245da33e72c6451c8e6d164339c85c3c%20%3D%20L.marker%28%0A%20%20%20%20%20%20%20%20%20%20%20%20%20%20%20%20%5B55.98002374180832%2C%20-3.300622016981151%5D%2C%0A%20%20%20%20%20%20%20%20%20%20%20%20%20%20%20%20%7B%7D%0A%20%20%20%20%20%20%20%20%20%20%20%20%29.addTo%28marker_cluster_ada872b66f8d4492ab77f3dff857f701%29%3B%0A%20%20%20%20%20%20%20%20%0A%20%20%20%20%0A%20%20%20%20%20%20%20%20%20%20%20%20var%20icon_a96ef04a519d40278b49466ff29684e1%20%3D%20L.AwesomeMarkers.icon%28%0A%20%20%20%20%20%20%20%20%20%20%20%20%20%20%20%20%7B%22extraClasses%22%3A%20%22fa-rotate-0%22%2C%20%22icon%22%3A%20%22bicycle%22%2C%20%22iconColor%22%3A%20%22white%22%2C%20%22markerColor%22%3A%20%22darkblue%22%2C%20%22prefix%22%3A%20%22fa%22%7D%0A%20%20%20%20%20%20%20%20%20%20%20%20%29%3B%0A%20%20%20%20%20%20%20%20%20%20%20%20marker_245da33e72c6451c8e6d164339c85c3c.setIcon%28icon_a96ef04a519d40278b49466ff29684e1%29%3B%0A%20%20%20%20%20%20%20%20%0A%20%20%20%20%0A%20%20%20%20%20%20%20%20var%20popup_9b66b39ad871411abe584196064ea719%20%3D%20L.popup%28%7B%22maxWidth%22%3A%20%22100%25%22%7D%29%3B%0A%0A%20%20%20%20%20%20%20%20%0A%20%20%20%20%20%20%20%20%20%20%20%20var%20html_30372d7bf23e47ea9fe5973a84e4082c%20%3D%20%24%28%60%3Cdiv%20id%3D%22html_30372d7bf23e47ea9fe5973a84e4082c%22%20style%3D%22width%3A%20100.0%25%3B%20height%3A%20100.0%25%3B%22%3EId%3A%20862%3Cbr%3ECramond%20Foreshore%3Cbr%3EDescription%3A%20Cramond%20foreshore%20by%20turning%20circle%3Cbr%3E%3Cbr%3ECounts%3A%20703%3C/div%3E%60%29%5B0%5D%3B%0A%20%20%20%20%20%20%20%20%20%20%20%20popup_9b66b39ad871411abe584196064ea719.setContent%28html_30372d7bf23e47ea9fe5973a84e4082c%29%3B%0A%20%20%20%20%20%20%20%20%0A%0A%20%20%20%20%20%20%20%20marker_245da33e72c6451c8e6d164339c85c3c.bindPopup%28popup_9b66b39ad871411abe584196064ea719%29%0A%20%20%20%20%20%20%20%20%3B%0A%0A%20%20%20%20%20%20%20%20%0A%20%20%20%20%0A%20%20%20%20%0A%20%20%20%20%20%20%20%20%20%20%20%20var%20marker_82d48b3ac2de4fba9528010a5a054b2c%20%3D%20L.marker%28%0A%20%20%20%20%20%20%20%20%20%20%20%20%20%20%20%20%5B55.98260596953824%2C%20-3.381454898058535%5D%2C%0A%20%20%20%20%20%20%20%20%20%20%20%20%20%20%20%20%7B%7D%0A%20%20%20%20%20%20%20%20%20%20%20%20%29.addTo%28marker_cluster_ada872b66f8d4492ab77f3dff857f701%29%3B%0A%20%20%20%20%20%20%20%20%0A%20%20%20%20%0A%20%20%20%20%20%20%20%20%20%20%20%20var%20icon_2663862bae444cf2b3fe0329c2cf41e9%20%3D%20L.AwesomeMarkers.icon%28%0A%20%20%20%20%20%20%20%20%20%20%20%20%20%20%20%20%7B%22extraClasses%22%3A%20%22fa-rotate-0%22%2C%20%22icon%22%3A%20%22bicycle%22%2C%20%22iconColor%22%3A%20%22white%22%2C%20%22markerColor%22%3A%20%22darkblue%22%2C%20%22prefix%22%3A%20%22fa%22%7D%0A%20%20%20%20%20%20%20%20%20%20%20%20%29%3B%0A%20%20%20%20%20%20%20%20%20%20%20%20marker_82d48b3ac2de4fba9528010a5a054b2c.setIcon%28icon_2663862bae444cf2b3fe0329c2cf41e9%29%3B%0A%20%20%20%20%20%20%20%20%0A%20%20%20%20%0A%20%20%20%20%20%20%20%20var%20popup_27a1745cb44443ff8ac175d0522f1947%20%3D%20L.popup%28%7B%22maxWidth%22%3A%20%22100%25%22%7D%29%3B%0A%0A%20%20%20%20%20%20%20%20%0A%20%20%20%20%20%20%20%20%20%20%20%20var%20html_6427301da59f425ea9c7075cd8079384%20%3D%20%24%28%60%3Cdiv%20id%3D%22html_6427301da59f425ea9c7075cd8079384%22%20style%3D%22width%3A%20100.0%25%3B%20height%3A%20100.0%25%3B%22%3EId%3A%201864%3Cbr%3EBorrowman%20Square%3Cbr%3EDescription%3A%20Near%20to%20Scotstoun%20Bus%20Terminus%3Cbr%3E%3Cbr%3ECounts%3A%20619%3C/div%3E%60%29%5B0%5D%3B%0A%20%20%20%20%20%20%20%20%20%20%20%20popup_27a1745cb44443ff8ac175d0522f1947.setContent%28html_6427301da59f425ea9c7075cd8079384%29%3B%0A%20%20%20%20%20%20%20%20%0A%0A%20%20%20%20%20%20%20%20marker_82d48b3ac2de4fba9528010a5a054b2c.bindPopup%28popup_27a1745cb44443ff8ac175d0522f1947%29%0A%20%20%20%20%20%20%20%20%3B%0A%0A%20%20%20%20%20%20%20%20%0A%20%20%20%20%0A%20%20%20%20%0A%20%20%20%20%20%20%20%20%20%20%20%20var%20marker_f2e520cbd8704b69a598e71236a49622%20%3D%20L.marker%28%0A%20%20%20%20%20%20%20%20%20%20%20%20%20%20%20%20%5B55.957792800284125%2C%20-3.175798619087572%5D%2C%0A%20%20%20%20%20%20%20%20%20%20%20%20%20%20%20%20%7B%7D%0A%20%20%20%20%20%20%20%20%20%20%20%20%29.addTo%28marker_cluster_ada872b66f8d4492ab77f3dff857f701%29%3B%0A%20%20%20%20%20%20%20%20%0A%20%20%20%20%0A%20%20%20%20%20%20%20%20%20%20%20%20var%20icon_278998153cb84621b49e8a1f813683e5%20%3D%20L.AwesomeMarkers.icon%28%0A%20%20%20%20%20%20%20%20%20%20%20%20%20%20%20%20%7B%22extraClasses%22%3A%20%22fa-rotate-0%22%2C%20%22icon%22%3A%20%22bicycle%22%2C%20%22iconColor%22%3A%20%22white%22%2C%20%22markerColor%22%3A%20%22darkblue%22%2C%20%22prefix%22%3A%20%22fa%22%7D%0A%20%20%20%20%20%20%20%20%20%20%20%20%29%3B%0A%20%20%20%20%20%20%20%20%20%20%20%20marker_f2e520cbd8704b69a598e71236a49622.setIcon%28icon_278998153cb84621b49e8a1f813683e5%29%3B%0A%20%20%20%20%20%20%20%20%0A%20%20%20%20%0A%20%20%20%20%20%20%20%20var%20popup_199cf8d8e6254000b28a3b6d033d9666%20%3D%20L.popup%28%7B%22maxWidth%22%3A%20%22100%25%22%7D%29%3B%0A%0A%20%20%20%20%20%20%20%20%0A%20%20%20%20%20%20%20%20%20%20%20%20var%20html_e66951a112714b399128578037fc3315%20%3D%20%24%28%60%3Cdiv%20id%3D%22html_e66951a112714b399128578037fc3315%22%20style%3D%22width%3A%20100.0%25%3B%20height%3A%20100.0%25%3B%22%3EId%3A%20870%3Cbr%3EHillside%20Crescent%3Cbr%3EDescription%3A%20East%20corner%20of%20Hillside%20Crescent%20%26%20London%20Road%3Cbr%3E%3Cbr%3ECounts%3A%20597%3C/div%3E%60%29%5B0%5D%3B%0A%20%20%20%20%20%20%20%20%20%20%20%20popup_199cf8d8e6254000b28a3b6d033d9666.setContent%28html_e66951a112714b399128578037fc3315%29%3B%0A%20%20%20%20%20%20%20%20%0A%0A%20%20%20%20%20%20%20%20marker_f2e520cbd8704b69a598e71236a49622.bindPopup%28popup_199cf8d8e6254000b28a3b6d033d9666%29%0A%20%20%20%20%20%20%20%20%3B%0A%0A%20%20%20%20%20%20%20%20%0A%20%20%20%20%0A%20%20%20%20%0A%20%20%20%20%20%20%20%20%20%20%20%20var%20marker_2ab5fe07e7a248dca884339eed9e8fb9%20%3D%20L.marker%28%0A%20%20%20%20%20%20%20%20%20%20%20%20%20%20%20%20%5B55.98989968232655%2C%20-3.397772901929727%5D%2C%0A%20%20%20%20%20%20%20%20%20%20%20%20%20%20%20%20%7B%7D%0A%20%20%20%20%20%20%20%20%20%20%20%20%29.addTo%28marker_cluster_ada872b66f8d4492ab77f3dff857f701%29%3B%0A%20%20%20%20%20%20%20%20%0A%20%20%20%20%0A%20%20%20%20%20%20%20%20%20%20%20%20var%20icon_624d1430f5ff431982335d36ffbf6f89%20%3D%20L.AwesomeMarkers.icon%28%0A%20%20%20%20%20%20%20%20%20%20%20%20%20%20%20%20%7B%22extraClasses%22%3A%20%22fa-rotate-0%22%2C%20%22icon%22%3A%20%22bicycle%22%2C%20%22iconColor%22%3A%20%22white%22%2C%20%22markerColor%22%3A%20%22darkblue%22%2C%20%22prefix%22%3A%20%22fa%22%7D%0A%20%20%20%20%20%20%20%20%20%20%20%20%29%3B%0A%20%20%20%20%20%20%20%20%20%20%20%20marker_2ab5fe07e7a248dca884339eed9e8fb9.setIcon%28icon_624d1430f5ff431982335d36ffbf6f89%29%3B%0A%20%20%20%20%20%20%20%20%0A%20%20%20%20%0A%20%20%20%20%20%20%20%20var%20popup_c6a87cd99c1c48f985a64e943c4c673c%20%3D%20L.popup%28%7B%22maxWidth%22%3A%20%22100%25%22%7D%29%3B%0A%0A%20%20%20%20%20%20%20%20%0A%20%20%20%20%20%20%20%20%20%20%20%20var%20html_c8d4379ee141472288f53b1c53c24116%20%3D%20%24%28%60%3Cdiv%20id%3D%22html_c8d4379ee141472288f53b1c53c24116%22%20style%3D%22width%3A%20100.0%25%3B%20height%3A%20100.0%25%3B%22%3EId%3A%201866%3Cbr%3EThe%20Loan%3Cbr%3EDescription%3A%20Next%20to%20East%20Coast%20Tyres%3Cbr%3E%3Cbr%3ECounts%3A%20577%3C/div%3E%60%29%5B0%5D%3B%0A%20%20%20%20%20%20%20%20%20%20%20%20popup_c6a87cd99c1c48f985a64e943c4c673c.setContent%28html_c8d4379ee141472288f53b1c53c24116%29%3B%0A%20%20%20%20%20%20%20%20%0A%0A%20%20%20%20%20%20%20%20marker_2ab5fe07e7a248dca884339eed9e8fb9.bindPopup%28popup_c6a87cd99c1c48f985a64e943c4c673c%29%0A%20%20%20%20%20%20%20%20%3B%0A%0A%20%20%20%20%20%20%20%20%0A%20%20%20%20%0A%20%20%20%20%0A%20%20%20%20%20%20%20%20%20%20%20%20var%20marker_2ca2eb0dba2f490182e8e400718c5bb3%20%3D%20L.marker%28%0A%20%20%20%20%20%20%20%20%20%20%20%20%20%20%20%20%5B55.9456092021698%2C%20-3.231715619159217%5D%2C%0A%20%20%20%20%20%20%20%20%20%20%20%20%20%20%20%20%7B%7D%0A%20%20%20%20%20%20%20%20%20%20%20%20%29.addTo%28marker_cluster_ada872b66f8d4492ab77f3dff857f701%29%3B%0A%20%20%20%20%20%20%20%20%0A%20%20%20%20%0A%20%20%20%20%20%20%20%20%20%20%20%20var%20icon_5b1719705c3a41198bc6e4c952067dba%20%3D%20L.AwesomeMarkers.icon%28%0A%20%20%20%20%20%20%20%20%20%20%20%20%20%20%20%20%7B%22extraClasses%22%3A%20%22fa-rotate-0%22%2C%20%22icon%22%3A%20%22bicycle%22%2C%20%22iconColor%22%3A%20%22white%22%2C%20%22markerColor%22%3A%20%22darkblue%22%2C%20%22prefix%22%3A%20%22fa%22%7D%0A%20%20%20%20%20%20%20%20%20%20%20%20%29%3B%0A%20%20%20%20%20%20%20%20%20%20%20%20marker_2ca2eb0dba2f490182e8e400718c5bb3.setIcon%28icon_5b1719705c3a41198bc6e4c952067dba%29%3B%0A%20%20%20%20%20%20%20%20%0A%20%20%20%20%0A%20%20%20%20%20%20%20%20var%20popup_26bf933bb16a458295ca07c4f8e167a9%20%3D%20L.popup%28%7B%22maxWidth%22%3A%20%22100%25%22%7D%29%3B%0A%0A%20%20%20%20%20%20%20%20%0A%20%20%20%20%20%20%20%20%20%20%20%20var%20html_5d21cf1b46b74564921dcefb02287857%20%3D%20%24%28%60%3Cdiv%20id%3D%22html_5d21cf1b46b74564921dcefb02287857%22%20style%3D%22width%3A%20100.0%25%3B%20height%3A%20100.0%25%3B%22%3EId%3A%20885%3Cbr%3EWester%20Coates%20Terrace%3Cbr%3EDescription%3A%20Corner%20of%20Wester%20Coates%20Terrace%20%26%20Roseburn%20Terrace%3Cbr%3E%3Cbr%3ECounts%3A%20569%3C/div%3E%60%29%5B0%5D%3B%0A%20%20%20%20%20%20%20%20%20%20%20%20popup_26bf933bb16a458295ca07c4f8e167a9.setContent%28html_5d21cf1b46b74564921dcefb02287857%29%3B%0A%20%20%20%20%20%20%20%20%0A%0A%20%20%20%20%20%20%20%20marker_2ca2eb0dba2f490182e8e400718c5bb3.bindPopup%28popup_26bf933bb16a458295ca07c4f8e167a9%29%0A%20%20%20%20%20%20%20%20%3B%0A%0A%20%20%20%20%20%20%20%20%0A%20%20%20%20%0A%20%20%20%20%0A%20%20%20%20%20%20%20%20%20%20%20%20var%20marker_24a4a8f0996040b7942293ab6e49a61b%20%3D%20L.marker%28%0A%20%20%20%20%20%20%20%20%20%20%20%20%20%20%20%20%5B55.987743170866025%2C%20-3.40375244599943%5D%2C%0A%20%20%20%20%20%20%20%20%20%20%20%20%20%20%20%20%7B%7D%0A%20%20%20%20%20%20%20%20%20%20%20%20%29.addTo%28marker_cluster_ada872b66f8d4492ab77f3dff857f701%29%3B%0A%20%20%20%20%20%20%20%20%0A%20%20%20%20%0A%20%20%20%20%20%20%20%20%20%20%20%20var%20icon_bcbce7fbcf5f4462861958544bf0d15d%20%3D%20L.AwesomeMarkers.icon%28%0A%20%20%20%20%20%20%20%20%20%20%20%20%20%20%20%20%7B%22extraClasses%22%3A%20%22fa-rotate-0%22%2C%20%22icon%22%3A%20%22bicycle%22%2C%20%22iconColor%22%3A%20%22white%22%2C%20%22markerColor%22%3A%20%22darkblue%22%2C%20%22prefix%22%3A%20%22fa%22%7D%0A%20%20%20%20%20%20%20%20%20%20%20%20%29%3B%0A%20%20%20%20%20%20%20%20%20%20%20%20marker_24a4a8f0996040b7942293ab6e49a61b.setIcon%28icon_bcbce7fbcf5f4462861958544bf0d15d%29%3B%0A%20%20%20%20%20%20%20%20%0A%20%20%20%20%0A%20%20%20%20%20%20%20%20var%20popup_975f15c75e1f4d2b8448d8034e35837c%20%3D%20L.popup%28%7B%22maxWidth%22%3A%20%22100%25%22%7D%29%3B%0A%0A%20%20%20%20%20%20%20%20%0A%20%20%20%20%20%20%20%20%20%20%20%20var%20html_f3bbb6884bfa407ebb0e7d60996aef5b%20%3D%20%24%28%60%3Cdiv%20id%3D%22html_f3bbb6884bfa407ebb0e7d60996aef5b%22%20style%3D%22width%3A%20100.0%25%3B%20height%3A%20100.0%25%3B%22%3EId%3A%201868%3Cbr%3EForth%20Bridge%20Visitors%20Centre%3Cbr%3EDescription%3A%20Off%20Ferrymuir%20Gait%3Cbr%3E%3Cbr%3ECounts%3A%20557%3C/div%3E%60%29%5B0%5D%3B%0A%20%20%20%20%20%20%20%20%20%20%20%20popup_975f15c75e1f4d2b8448d8034e35837c.setContent%28html_f3bbb6884bfa407ebb0e7d60996aef5b%29%3B%0A%20%20%20%20%20%20%20%20%0A%0A%20%20%20%20%20%20%20%20marker_24a4a8f0996040b7942293ab6e49a61b.bindPopup%28popup_975f15c75e1f4d2b8448d8034e35837c%29%0A%20%20%20%20%20%20%20%20%3B%0A%0A%20%20%20%20%20%20%20%20%0A%20%20%20%20%0A%20%20%20%20%0A%20%20%20%20%20%20%20%20%20%20%20%20var%20marker_229f15e20fd448d2b8b6e7105f53df6e%20%3D%20L.marker%28%0A%20%20%20%20%20%20%20%20%20%20%20%20%20%20%20%20%5B55.97126891219085%2C%20-3.207815717530479%5D%2C%0A%20%20%20%20%20%20%20%20%20%20%20%20%20%20%20%20%7B%7D%0A%20%20%20%20%20%20%20%20%20%20%20%20%29.addTo%28marker_cluster_ada872b66f8d4492ab77f3dff857f701%29%3B%0A%20%20%20%20%20%20%20%20%0A%20%20%20%20%0A%20%20%20%20%20%20%20%20%20%20%20%20var%20icon_0ccd57d1f7e34d9e9e363ada8803866c%20%3D%20L.AwesomeMarkers.icon%28%0A%20%20%20%20%20%20%20%20%20%20%20%20%20%20%20%20%7B%22extraClasses%22%3A%20%22fa-rotate-0%22%2C%20%22icon%22%3A%20%22bicycle%22%2C%20%22iconColor%22%3A%20%22white%22%2C%20%22markerColor%22%3A%20%22darkblue%22%2C%20%22prefix%22%3A%20%22fa%22%7D%0A%20%20%20%20%20%20%20%20%20%20%20%20%29%3B%0A%20%20%20%20%20%20%20%20%20%20%20%20marker_229f15e20fd448d2b8b6e7105f53df6e.setIcon%28icon_0ccd57d1f7e34d9e9e363ada8803866c%29%3B%0A%20%20%20%20%20%20%20%20%0A%20%20%20%20%0A%20%20%20%20%20%20%20%20var%20popup_34757e741f82490d96da406785c46807%20%3D%20L.popup%28%7B%22maxWidth%22%3A%20%22100%25%22%7D%29%3B%0A%0A%20%20%20%20%20%20%20%20%0A%20%20%20%20%20%20%20%20%20%20%20%20var%20html_74531840767e48e5a8984a56a4f64255%20%3D%20%24%28%60%3Cdiv%20id%3D%22html_74531840767e48e5a8984a56a4f64255%22%20style%3D%22width%3A%20100.0%25%3B%20height%3A%20100.0%25%3B%22%3EId%3A%20354%3Cbr%3ESouth%20Trinity%20Road%3Cbr%3EDescription%3A%20Corner%20of%20South%20Trinity%20Road%20%26%20Ferry%20Road%3Cbr%3E%3Cbr%3ECounts%3A%20556%3C/div%3E%60%29%5B0%5D%3B%0A%20%20%20%20%20%20%20%20%20%20%20%20popup_34757e741f82490d96da406785c46807.setContent%28html_74531840767e48e5a8984a56a4f64255%29%3B%0A%20%20%20%20%20%20%20%20%0A%0A%20%20%20%20%20%20%20%20marker_229f15e20fd448d2b8b6e7105f53df6e.bindPopup%28popup_34757e741f82490d96da406785c46807%29%0A%20%20%20%20%20%20%20%20%3B%0A%0A%20%20%20%20%20%20%20%20%0A%20%20%20%20%0A%20%20%20%20%0A%20%20%20%20%20%20%20%20%20%20%20%20var%20marker_961807400aaf402594af19a345b253a6%20%3D%20L.marker%28%0A%20%20%20%20%20%20%20%20%20%20%20%20%20%20%20%20%5B55.90841344459825%2C%20-3.328783525816887%5D%2C%0A%20%20%20%20%20%20%20%20%20%20%20%20%20%20%20%20%7B%7D%0A%20%20%20%20%20%20%20%20%20%20%20%20%29.addTo%28marker_cluster_ada872b66f8d4492ab77f3dff857f701%29%3B%0A%20%20%20%20%20%20%20%20%0A%20%20%20%20%0A%20%20%20%20%20%20%20%20%20%20%20%20var%20icon_375ff02971254af5ac75c055d6608b88%20%3D%20L.AwesomeMarkers.icon%28%0A%20%20%20%20%20%20%20%20%20%20%20%20%20%20%20%20%7B%22extraClasses%22%3A%20%22fa-rotate-0%22%2C%20%22icon%22%3A%20%22bicycle%22%2C%20%22iconColor%22%3A%20%22white%22%2C%20%22markerColor%22%3A%20%22darkblue%22%2C%20%22prefix%22%3A%20%22fa%22%7D%0A%20%20%20%20%20%20%20%20%20%20%20%20%29%3B%0A%20%20%20%20%20%20%20%20%20%20%20%20marker_961807400aaf402594af19a345b253a6.setIcon%28icon_375ff02971254af5ac75c055d6608b88%29%3B%0A%20%20%20%20%20%20%20%20%0A%20%20%20%20%0A%20%20%20%20%20%20%20%20var%20popup_053812c32a604e7f81f909fa2ffe5126%20%3D%20L.popup%28%7B%22maxWidth%22%3A%20%22100%25%22%7D%29%3B%0A%0A%20%20%20%20%20%20%20%20%0A%20%20%20%20%20%20%20%20%20%20%20%20var%20html_fe3b0f711b0849ecb2ccfb915c6edb45%20%3D%20%24%28%60%3Cdiv%20id%3D%22html_fe3b0f711b0849ecb2ccfb915c6edb45%22%20style%3D%22width%3A%20100.0%25%3B%20height%3A%20100.0%25%3B%22%3EId%3A%201820%3Cbr%3EHeriot%20Watt%20-%20Student%20Accommodation%3Cbr%3EDescription%3A%20Outside%20Anna%20Macleod%20Halls%3Cbr%3E%3Cbr%3ECounts%3A%20530%3C/div%3E%60%29%5B0%5D%3B%0A%20%20%20%20%20%20%20%20%20%20%20%20popup_053812c32a604e7f81f909fa2ffe5126.setContent%28html_fe3b0f711b0849ecb2ccfb915c6edb45%29%3B%0A%20%20%20%20%20%20%20%20%0A%0A%20%20%20%20%20%20%20%20marker_961807400aaf402594af19a345b253a6.bindPopup%28popup_053812c32a604e7f81f909fa2ffe5126%29%0A%20%20%20%20%20%20%20%20%3B%0A%0A%20%20%20%20%20%20%20%20%0A%20%20%20%20%0A%20%20%20%20%0A%20%20%20%20%20%20%20%20%20%20%20%20var%20marker_f98d443837c64413857c7c4dd7b6ae40%20%3D%20L.marker%28%0A%20%20%20%20%20%20%20%20%20%20%20%20%20%20%20%20%5B55.92781815597736%2C%20-3.213307722203224%5D%2C%0A%20%20%20%20%20%20%20%20%20%20%20%20%20%20%20%20%7B%7D%0A%20%20%20%20%20%20%20%20%20%20%20%20%29.addTo%28marker_cluster_ada872b66f8d4492ab77f3dff857f701%29%3B%0A%20%20%20%20%20%20%20%20%0A%20%20%20%20%0A%20%20%20%20%20%20%20%20%20%20%20%20var%20icon_50cff019c6e24ac09700d43de985aa2d%20%3D%20L.AwesomeMarkers.icon%28%0A%20%20%20%20%20%20%20%20%20%20%20%20%20%20%20%20%7B%22extraClasses%22%3A%20%22fa-rotate-0%22%2C%20%22icon%22%3A%20%22bicycle%22%2C%20%22iconColor%22%3A%20%22white%22%2C%20%22markerColor%22%3A%20%22darkblue%22%2C%20%22prefix%22%3A%20%22fa%22%7D%0A%20%20%20%20%20%20%20%20%20%20%20%20%29%3B%0A%20%20%20%20%20%20%20%20%20%20%20%20marker_f98d443837c64413857c7c4dd7b6ae40.setIcon%28icon_50cff019c6e24ac09700d43de985aa2d%29%3B%0A%20%20%20%20%20%20%20%20%0A%20%20%20%20%0A%20%20%20%20%20%20%20%20var%20popup_762a5a9497b9467890e04a5f8c4e6a77%20%3D%20L.popup%28%7B%22maxWidth%22%3A%20%22100%25%22%7D%29%3B%0A%0A%20%20%20%20%20%20%20%20%0A%20%20%20%20%20%20%20%20%20%20%20%20var%20html_6143502524e3435982a06095a0b335a8%20%3D%20%24%28%60%3Cdiv%20id%3D%22html_6143502524e3435982a06095a0b335a8%22%20style%3D%22width%3A%20100.0%25%3B%20height%3A%20100.0%25%3B%22%3EId%3A%201809%3Cbr%3ERoyal%20Edinburgh%20Hospital%3Cbr%3EDescription%3A%20Next%20to%20Kennedy%20Tower%3Cbr%3E%3Cbr%3ECounts%3A%20529%3C/div%3E%60%29%5B0%5D%3B%0A%20%20%20%20%20%20%20%20%20%20%20%20popup_762a5a9497b9467890e04a5f8c4e6a77.setContent%28html_6143502524e3435982a06095a0b335a8%29%3B%0A%20%20%20%20%20%20%20%20%0A%0A%20%20%20%20%20%20%20%20marker_f98d443837c64413857c7c4dd7b6ae40.bindPopup%28popup_762a5a9497b9467890e04a5f8c4e6a77%29%0A%20%20%20%20%20%20%20%20%3B%0A%0A%20%20%20%20%20%20%20%20%0A%20%20%20%20%0A%20%20%20%20%0A%20%20%20%20%20%20%20%20%20%20%20%20var%20marker_58996c3c5ccf44bd8fa34d1c55806b64%20%3D%20L.marker%28%0A%20%20%20%20%20%20%20%20%20%20%20%20%20%20%20%20%5B55.92668427748757%2C%20-3.289481117121666%5D%2C%0A%20%20%20%20%20%20%20%20%20%20%20%20%20%20%20%20%7B%7D%0A%20%20%20%20%20%20%20%20%20%20%20%20%29.addTo%28marker_cluster_ada872b66f8d4492ab77f3dff857f701%29%3B%0A%20%20%20%20%20%20%20%20%0A%20%20%20%20%0A%20%20%20%20%20%20%20%20%20%20%20%20var%20icon_9a1ed83ee70f4f2f81ba2f1707afeea4%20%3D%20L.AwesomeMarkers.icon%28%0A%20%20%20%20%20%20%20%20%20%20%20%20%20%20%20%20%7B%22extraClasses%22%3A%20%22fa-rotate-0%22%2C%20%22icon%22%3A%20%22bicycle%22%2C%20%22iconColor%22%3A%20%22white%22%2C%20%22markerColor%22%3A%20%22darkblue%22%2C%20%22prefix%22%3A%20%22fa%22%7D%0A%20%20%20%20%20%20%20%20%20%20%20%20%29%3B%0A%20%20%20%20%20%20%20%20%20%20%20%20marker_58996c3c5ccf44bd8fa34d1c55806b64.setIcon%28icon_9a1ed83ee70f4f2f81ba2f1707afeea4%29%3B%0A%20%20%20%20%20%20%20%20%0A%20%20%20%20%0A%20%20%20%20%20%20%20%20var%20popup_c6686454da97411bac21435ea36d4c8e%20%3D%20L.popup%28%7B%22maxWidth%22%3A%20%22100%25%22%7D%29%3B%0A%0A%20%20%20%20%20%20%20%20%0A%20%20%20%20%20%20%20%20%20%20%20%20var%20html_bee078dfa62648459f811d4aa652ca4d%20%3D%20%24%28%60%3Cdiv%20id%3D%22html_bee078dfa62648459f811d4aa652ca4d%22%20style%3D%22width%3A%20100.0%25%3B%20height%3A%20100.0%25%3B%22%3EId%3A%201815%3Cbr%3ESighthill%20-%20Edinburgh%20College%3Cbr%3EDescription%3A%20Sighthill%20Campus%3Cbr%3E%3Cbr%3ECounts%3A%20516%3C/div%3E%60%29%5B0%5D%3B%0A%20%20%20%20%20%20%20%20%20%20%20%20popup_c6686454da97411bac21435ea36d4c8e.setContent%28html_bee078dfa62648459f811d4aa652ca4d%29%3B%0A%20%20%20%20%20%20%20%20%0A%0A%20%20%20%20%20%20%20%20marker_58996c3c5ccf44bd8fa34d1c55806b64.bindPopup%28popup_c6686454da97411bac21435ea36d4c8e%29%0A%20%20%20%20%20%20%20%20%3B%0A%0A%20%20%20%20%20%20%20%20%0A%20%20%20%20%0A%20%20%20%20%0A%20%20%20%20%20%20%20%20%20%20%20%20var%20marker_4900cfff096b4e679af758c7fbdcaff8%20%3D%20L.marker%28%0A%20%20%20%20%20%20%20%20%20%20%20%20%20%20%20%20%5B55.94476686576929%2C%20-3.243687888944919%5D%2C%0A%20%20%20%20%20%20%20%20%20%20%20%20%20%20%20%20%7B%7D%0A%20%20%20%20%20%20%20%20%20%20%20%20%29.addTo%28marker_cluster_ada872b66f8d4492ab77f3dff857f701%29%3B%0A%20%20%20%20%20%20%20%20%0A%20%20%20%20%0A%20%20%20%20%20%20%20%20%20%20%20%20var%20icon_55ed39a6d09240d59e6c393e7372f582%20%3D%20L.AwesomeMarkers.icon%28%0A%20%20%20%20%20%20%20%20%20%20%20%20%20%20%20%20%7B%22extraClasses%22%3A%20%22fa-rotate-0%22%2C%20%22icon%22%3A%20%22bicycle%22%2C%20%22iconColor%22%3A%20%22white%22%2C%20%22markerColor%22%3A%20%22darkblue%22%2C%20%22prefix%22%3A%20%22fa%22%7D%0A%20%20%20%20%20%20%20%20%20%20%20%20%29%3B%0A%20%20%20%20%20%20%20%20%20%20%20%20marker_4900cfff096b4e679af758c7fbdcaff8.setIcon%28icon_55ed39a6d09240d59e6c393e7372f582%29%3B%0A%20%20%20%20%20%20%20%20%0A%20%20%20%20%0A%20%20%20%20%20%20%20%20var%20popup_39ddb2d499d04eaaa638801d86730883%20%3D%20L.popup%28%7B%22maxWidth%22%3A%20%22100%25%22%7D%29%3B%0A%0A%20%20%20%20%20%20%20%20%0A%20%20%20%20%20%20%20%20%20%20%20%20var%20html_c333371897ab4b1ea8ade1ec9ccff127%20%3D%20%24%28%60%3Cdiv%20id%3D%22html_c333371897ab4b1ea8ade1ec9ccff127%22%20style%3D%22width%3A%20100.0%25%3B%20height%3A%20100.0%25%3B%22%3EId%3A%20876%3Cbr%3EMurrayfield%3Cbr%3EDescription%3A%20Riversdale%20Crescent%3Cbr%3E%3Cbr%3ECounts%3A%20509%3C/div%3E%60%29%5B0%5D%3B%0A%20%20%20%20%20%20%20%20%20%20%20%20popup_39ddb2d499d04eaaa638801d86730883.setContent%28html_c333371897ab4b1ea8ade1ec9ccff127%29%3B%0A%20%20%20%20%20%20%20%20%0A%0A%20%20%20%20%20%20%20%20marker_4900cfff096b4e679af758c7fbdcaff8.bindPopup%28popup_39ddb2d499d04eaaa638801d86730883%29%0A%20%20%20%20%20%20%20%20%3B%0A%0A%20%20%20%20%20%20%20%20%0A%20%20%20%20%0A%20%20%20%20%0A%20%20%20%20%20%20%20%20%20%20%20%20var%20marker_c23ffbf44e7b42da8851d6833156f3ad%20%3D%20L.marker%28%0A%20%20%20%20%20%20%20%20%20%20%20%20%20%20%20%20%5B55.93802439880083%2C%20-3.184979210204801%5D%2C%0A%20%20%20%20%20%20%20%20%20%20%20%20%20%20%20%20%7B%7D%0A%20%20%20%20%20%20%20%20%20%20%20%20%29.addTo%28marker_cluster_ada872b66f8d4492ab77f3dff857f701%29%3B%0A%20%20%20%20%20%20%20%20%0A%20%20%20%20%0A%20%20%20%20%20%20%20%20%20%20%20%20var%20icon_322f0239fbd444f78d22bf1ae456f265%20%3D%20L.AwesomeMarkers.icon%28%0A%20%20%20%20%20%20%20%20%20%20%20%20%20%20%20%20%7B%22extraClasses%22%3A%20%22fa-rotate-0%22%2C%20%22icon%22%3A%20%22bicycle%22%2C%20%22iconColor%22%3A%20%22white%22%2C%20%22markerColor%22%3A%20%22darkblue%22%2C%20%22prefix%22%3A%20%22fa%22%7D%0A%20%20%20%20%20%20%20%20%20%20%20%20%29%3B%0A%20%20%20%20%20%20%20%20%20%20%20%20marker_c23ffbf44e7b42da8851d6833156f3ad.setIcon%28icon_322f0239fbd444f78d22bf1ae456f265%29%3B%0A%20%20%20%20%20%20%20%20%0A%20%20%20%20%0A%20%20%20%20%20%20%20%20var%20popup_bf4a5034d6d24fc48b2c6fb7fd16c3eb%20%3D%20L.popup%28%7B%22maxWidth%22%3A%20%22100%25%22%7D%29%3B%0A%0A%20%20%20%20%20%20%20%20%0A%20%20%20%20%20%20%20%20%20%20%20%20var%20html_4332ad8a28c24a16b1b89632ac53d037%20%3D%20%24%28%60%3Cdiv%20id%3D%22html_4332ad8a28c24a16b1b89632ac53d037%22%20style%3D%22width%3A%20100.0%25%3B%20height%3A%20100.0%25%3B%22%3EId%3A%20879%3Cbr%3EGladstone%20Terrace%3Cbr%3EDescription%3A%20Corner%20of%20Gladstone%20Terrace%20%26%20Sciennes%20ROad%3Cbr%3E%3Cbr%3ECounts%3A%20504%3C/div%3E%60%29%5B0%5D%3B%0A%20%20%20%20%20%20%20%20%20%20%20%20popup_bf4a5034d6d24fc48b2c6fb7fd16c3eb.setContent%28html_4332ad8a28c24a16b1b89632ac53d037%29%3B%0A%20%20%20%20%20%20%20%20%0A%0A%20%20%20%20%20%20%20%20marker_c23ffbf44e7b42da8851d6833156f3ad.bindPopup%28popup_bf4a5034d6d24fc48b2c6fb7fd16c3eb%29%0A%20%20%20%20%20%20%20%20%3B%0A%0A%20%20%20%20%20%20%20%20%0A%20%20%20%20%0A%20%20%20%20%0A%20%20%20%20%20%20%20%20%20%20%20%20var%20marker_379fea6816474e1caff3696348ababa4%20%3D%20L.marker%28%0A%20%20%20%20%20%20%20%20%20%20%20%20%20%20%20%20%5B55.96919856910954%2C%20-3.166884617023356%5D%2C%0A%20%20%20%20%20%20%20%20%20%20%20%20%20%20%20%20%7B%7D%0A%20%20%20%20%20%20%20%20%20%20%20%20%29.addTo%28marker_cluster_ada872b66f8d4492ab77f3dff857f701%29%3B%0A%20%20%20%20%20%20%20%20%0A%20%20%20%20%0A%20%20%20%20%20%20%20%20%20%20%20%20var%20icon_bfafd5e1a66b435c8a28bad26288429e%20%3D%20L.AwesomeMarkers.icon%28%0A%20%20%20%20%20%20%20%20%20%20%20%20%20%20%20%20%7B%22extraClasses%22%3A%20%22fa-rotate-0%22%2C%20%22icon%22%3A%20%22bicycle%22%2C%20%22iconColor%22%3A%20%22white%22%2C%20%22markerColor%22%3A%20%22darkblue%22%2C%20%22prefix%22%3A%20%22fa%22%7D%0A%20%20%20%20%20%20%20%20%20%20%20%20%29%3B%0A%20%20%20%20%20%20%20%20%20%20%20%20marker_379fea6816474e1caff3696348ababa4.setIcon%28icon_bfafd5e1a66b435c8a28bad26288429e%29%3B%0A%20%20%20%20%20%20%20%20%0A%20%20%20%20%0A%20%20%20%20%20%20%20%20var%20popup_2fc875df2059418e940bf0e7dff45aab%20%3D%20L.popup%28%7B%22maxWidth%22%3A%20%22100%25%22%7D%29%3B%0A%0A%20%20%20%20%20%20%20%20%0A%20%20%20%20%20%20%20%20%20%20%20%20var%20html_e67aa9be081d4deebea209404f832777%20%3D%20%24%28%60%3Cdiv%20id%3D%22html_e67aa9be081d4deebea209404f832777%22%20style%3D%22width%3A%20100.0%25%3B%20height%3A%20100.0%25%3B%22%3EId%3A%20284%3Cbr%3ELeith%20Links%3Cbr%3EDescription%3A%20Corner%20of%20Vanburgh%20Place%20and%20Lochend%20Road%3Cbr%3E%3Cbr%3ECounts%3A%20503%3C/div%3E%60%29%5B0%5D%3B%0A%20%20%20%20%20%20%20%20%20%20%20%20popup_2fc875df2059418e940bf0e7dff45aab.setContent%28html_e67aa9be081d4deebea209404f832777%29%3B%0A%20%20%20%20%20%20%20%20%0A%0A%20%20%20%20%20%20%20%20marker_379fea6816474e1caff3696348ababa4.bindPopup%28popup_2fc875df2059418e940bf0e7dff45aab%29%0A%20%20%20%20%20%20%20%20%3B%0A%0A%20%20%20%20%20%20%20%20%0A%20%20%20%20%0A%20%20%20%20%0A%20%20%20%20%20%20%20%20%20%20%20%20var%20marker_4dad9d558a1e4fa7a516207ce2e18843%20%3D%20L.marker%28%0A%20%20%20%20%20%20%20%20%20%20%20%20%20%20%20%20%5B55.94386198333096%2C%20-3.184972223259024%5D%2C%0A%20%20%20%20%20%20%20%20%20%20%20%20%20%20%20%20%7B%7D%0A%20%20%20%20%20%20%20%20%20%20%20%20%29.addTo%28marker_cluster_ada872b66f8d4492ab77f3dff857f701%29%3B%0A%20%20%20%20%20%20%20%20%0A%20%20%20%20%0A%20%20%20%20%20%20%20%20%20%20%20%20var%20icon_d4148705ac65445a9866bcb08470c2ad%20%3D%20L.AwesomeMarkers.icon%28%0A%20%20%20%20%20%20%20%20%20%20%20%20%20%20%20%20%7B%22extraClasses%22%3A%20%22fa-rotate-0%22%2C%20%22icon%22%3A%20%22bicycle%22%2C%20%22iconColor%22%3A%20%22white%22%2C%20%22markerColor%22%3A%20%22darkblue%22%2C%20%22prefix%22%3A%20%22fa%22%7D%0A%20%20%20%20%20%20%20%20%20%20%20%20%29%3B%0A%20%20%20%20%20%20%20%20%20%20%20%20marker_4dad9d558a1e4fa7a516207ce2e18843.setIcon%28icon_d4148705ac65445a9866bcb08470c2ad%29%3B%0A%20%20%20%20%20%20%20%20%0A%20%20%20%20%0A%20%20%20%20%20%20%20%20var%20popup_b9ddf559389648519f4893b72eb914b6%20%3D%20L.popup%28%7B%22maxWidth%22%3A%20%22100%25%22%7D%29%3B%0A%0A%20%20%20%20%20%20%20%20%0A%20%20%20%20%20%20%20%20%20%20%20%20var%20html_131090c477314128add58c45f8eaec25%20%3D%20%24%28%60%3Cdiv%20id%3D%22html_131090c477314128add58c45f8eaec25%22%20style%3D%22width%3A%20100.0%25%3B%20height%3A%20100.0%25%3B%22%3EId%3A%20890%3Cbr%3EWest%20Crosscauseway%3Cbr%3EDescription%3A%20Corner%20of%20West%20Crosscauseway%20%26%20Buccleugh%20Street%3Cbr%3E%3Cbr%3ECounts%3A%20492%3C/div%3E%60%29%5B0%5D%3B%0A%20%20%20%20%20%20%20%20%20%20%20%20popup_b9ddf559389648519f4893b72eb914b6.setContent%28html_131090c477314128add58c45f8eaec25%29%3B%0A%20%20%20%20%20%20%20%20%0A%0A%20%20%20%20%20%20%20%20marker_4dad9d558a1e4fa7a516207ce2e18843.bindPopup%28popup_b9ddf559389648519f4893b72eb914b6%29%0A%20%20%20%20%20%20%20%20%3B%0A%0A%20%20%20%20%20%20%20%20%0A%20%20%20%20%0A%20%20%20%20%0A%20%20%20%20%20%20%20%20%20%20%20%20var%20marker_1352a04a61e747fd95248b3884919a62%20%3D%20L.marker%28%0A%20%20%20%20%20%20%20%20%20%20%20%20%20%20%20%20%5B55.95950417668882%2C%20-3.223428055375961%5D%2C%0A%20%20%20%20%20%20%20%20%20%20%20%20%20%20%20%20%7B%7D%0A%20%20%20%20%20%20%20%20%20%20%20%20%29.addTo%28marker_cluster_ada872b66f8d4492ab77f3dff857f701%29%3B%0A%20%20%20%20%20%20%20%20%0A%20%20%20%20%0A%20%20%20%20%20%20%20%20%20%20%20%20var%20icon_520b8d57b0af4af595bad382d44b0901%20%3D%20L.AwesomeMarkers.icon%28%0A%20%20%20%20%20%20%20%20%20%20%20%20%20%20%20%20%7B%22extraClasses%22%3A%20%22fa-rotate-0%22%2C%20%22icon%22%3A%20%22bicycle%22%2C%20%22iconColor%22%3A%20%22white%22%2C%20%22markerColor%22%3A%20%22darkblue%22%2C%20%22prefix%22%3A%20%22fa%22%7D%0A%20%20%20%20%20%20%20%20%20%20%20%20%29%3B%0A%20%20%20%20%20%20%20%20%20%20%20%20marker_1352a04a61e747fd95248b3884919a62.setIcon%28icon_520b8d57b0af4af595bad382d44b0901%29%3B%0A%20%20%20%20%20%20%20%20%0A%20%20%20%20%0A%20%20%20%20%20%20%20%20var%20popup_43c2007c29484ed9a35f24a6eb333026%20%3D%20L.popup%28%7B%22maxWidth%22%3A%20%22100%25%22%7D%29%3B%0A%0A%20%20%20%20%20%20%20%20%0A%20%20%20%20%20%20%20%20%20%20%20%20var%20html_6def038e7f6d4b5a88734ed1cd7b97a4%20%3D%20%24%28%60%3Cdiv%20id%3D%22html_6def038e7f6d4b5a88734ed1cd7b97a4%22%20style%3D%22width%3A%20100.0%25%3B%20height%3A%20100.0%25%3B%22%3EId%3A%20277%3Cbr%3EWaitrose%2C%20Comely%20Bank%3Cbr%3EDescription%3A%20Fettes%20Avenue%3Cbr%3E%3Cbr%3ECounts%3A%20484%3C/div%3E%60%29%5B0%5D%3B%0A%20%20%20%20%20%20%20%20%20%20%20%20popup_43c2007c29484ed9a35f24a6eb333026.setContent%28html_6def038e7f6d4b5a88734ed1cd7b97a4%29%3B%0A%20%20%20%20%20%20%20%20%0A%0A%20%20%20%20%20%20%20%20marker_1352a04a61e747fd95248b3884919a62.bindPopup%28popup_43c2007c29484ed9a35f24a6eb333026%29%0A%20%20%20%20%20%20%20%20%3B%0A%0A%20%20%20%20%20%20%20%20%0A%20%20%20%20%0A%20%20%20%20%0A%20%20%20%20%20%20%20%20%20%20%20%20var%20marker_8ebeb3ef6c4f48e19b0288ea91452267%20%3D%20L.marker%28%0A%20%20%20%20%20%20%20%20%20%20%20%20%20%20%20%20%5B55.96248692705142%2C%20-3.232031328469361%5D%2C%0A%20%20%20%20%20%20%20%20%20%20%20%20%20%20%20%20%7B%7D%0A%20%20%20%20%20%20%20%20%20%20%20%20%29.addTo%28marker_cluster_ada872b66f8d4492ab77f3dff857f701%29%3B%0A%20%20%20%20%20%20%20%20%0A%20%20%20%20%0A%20%20%20%20%20%20%20%20%20%20%20%20var%20icon_a67125ad52194215a0859c4f36dec29d%20%3D%20L.AwesomeMarkers.icon%28%0A%20%20%20%20%20%20%20%20%20%20%20%20%20%20%20%20%7B%22extraClasses%22%3A%20%22fa-rotate-0%22%2C%20%22icon%22%3A%20%22bicycle%22%2C%20%22iconColor%22%3A%20%22white%22%2C%20%22markerColor%22%3A%20%22darkblue%22%2C%20%22prefix%22%3A%20%22fa%22%7D%0A%20%20%20%20%20%20%20%20%20%20%20%20%29%3B%0A%20%20%20%20%20%20%20%20%20%20%20%20marker_8ebeb3ef6c4f48e19b0288ea91452267.setIcon%28icon_a67125ad52194215a0859c4f36dec29d%29%3B%0A%20%20%20%20%20%20%20%20%0A%20%20%20%20%0A%20%20%20%20%20%20%20%20var%20popup_38383ce49b6b4983a404e88b9427c0ff%20%3D%20L.popup%28%7B%22maxWidth%22%3A%20%22100%25%22%7D%29%3B%0A%0A%20%20%20%20%20%20%20%20%0A%20%20%20%20%20%20%20%20%20%20%20%20var%20html_10c509393c8c4953af9923860d76b08e%20%3D%20%24%28%60%3Cdiv%20id%3D%22html_10c509393c8c4953af9923860d76b08e%22%20style%3D%22width%3A%20100.0%25%3B%20height%3A%20100.0%25%3B%22%3EId%3A%20884%3Cbr%3EIGMM%3Cbr%3EDescription%3A%20IGMM%20at%20Western%20General%20Hospital%3Cbr%3E%3Cbr%3ECounts%3A%20412%3C/div%3E%60%29%5B0%5D%3B%0A%20%20%20%20%20%20%20%20%20%20%20%20popup_38383ce49b6b4983a404e88b9427c0ff.setContent%28html_10c509393c8c4953af9923860d76b08e%29%3B%0A%20%20%20%20%20%20%20%20%0A%0A%20%20%20%20%20%20%20%20marker_8ebeb3ef6c4f48e19b0288ea91452267.bindPopup%28popup_38383ce49b6b4983a404e88b9427c0ff%29%0A%20%20%20%20%20%20%20%20%3B%0A%0A%20%20%20%20%20%20%20%20%0A%20%20%20%20%0A%20%20%20%20%0A%20%20%20%20%20%20%20%20%20%20%20%20var%20marker_2d59e36f72f541bda25a251b38a4c9f1%20%3D%20L.marker%28%0A%20%20%20%20%20%20%20%20%20%20%20%20%20%20%20%20%5B55.98676132611317%2C%20-3.382426853781425%5D%2C%0A%20%20%20%20%20%20%20%20%20%20%20%20%20%20%20%20%7B%7D%0A%20%20%20%20%20%20%20%20%20%20%20%20%29.addTo%28marker_cluster_ada872b66f8d4492ab77f3dff857f701%29%3B%0A%20%20%20%20%20%20%20%20%0A%20%20%20%20%0A%20%20%20%20%20%20%20%20%20%20%20%20var%20icon_8b61c9ebbfa84ee1a8190b97e5055dd0%20%3D%20L.AwesomeMarkers.icon%28%0A%20%20%20%20%20%20%20%20%20%20%20%20%20%20%20%20%7B%22extraClasses%22%3A%20%22fa-rotate-0%22%2C%20%22icon%22%3A%20%22bicycle%22%2C%20%22iconColor%22%3A%20%22white%22%2C%20%22markerColor%22%3A%20%22darkblue%22%2C%20%22prefix%22%3A%20%22fa%22%7D%0A%20%20%20%20%20%20%20%20%20%20%20%20%29%3B%0A%20%20%20%20%20%20%20%20%20%20%20%20marker_2d59e36f72f541bda25a251b38a4c9f1.setIcon%28icon_8b61c9ebbfa84ee1a8190b97e5055dd0%29%3B%0A%20%20%20%20%20%20%20%20%0A%20%20%20%20%0A%20%20%20%20%20%20%20%20var%20popup_a4af9c0a0b2b4fadaaaf216a92e430bb%20%3D%20L.popup%28%7B%22maxWidth%22%3A%20%22100%25%22%7D%29%3B%0A%0A%20%20%20%20%20%20%20%20%0A%20%20%20%20%20%20%20%20%20%20%20%20var%20html_776509283cf74508ab887a6807492360%20%3D%20%24%28%60%3Cdiv%20id%3D%22html_776509283cf74508ab887a6807492360%22%20style%3D%22width%3A%20100.0%25%3B%20height%3A%20100.0%25%3B%22%3EId%3A%201865%3Cbr%3EDalmeny%20Station%3Cbr%3EDescription%3A%20Next%20to%20bike%20shelter%3Cbr%3E%3Cbr%3ECounts%3A%20410%3C/div%3E%60%29%5B0%5D%3B%0A%20%20%20%20%20%20%20%20%20%20%20%20popup_a4af9c0a0b2b4fadaaaf216a92e430bb.setContent%28html_776509283cf74508ab887a6807492360%29%3B%0A%20%20%20%20%20%20%20%20%0A%0A%20%20%20%20%20%20%20%20marker_2d59e36f72f541bda25a251b38a4c9f1.bindPopup%28popup_a4af9c0a0b2b4fadaaaf216a92e430bb%29%0A%20%20%20%20%20%20%20%20%3B%0A%0A%20%20%20%20%20%20%20%20%0A%20%20%20%20%0A%20%20%20%20%0A%20%20%20%20%20%20%20%20%20%20%20%20var%20marker_e3412ac6dd9940fd80524f7590ed3b2e%20%3D%20L.marker%28%0A%20%20%20%20%20%20%20%20%20%20%20%20%20%20%20%20%5B55.94271471556419%2C%20-3.221430982426%5D%2C%0A%20%20%20%20%20%20%20%20%20%20%20%20%20%20%20%20%7B%7D%0A%20%20%20%20%20%20%20%20%20%20%20%20%29.addTo%28marker_cluster_ada872b66f8d4492ab77f3dff857f701%29%3B%0A%20%20%20%20%20%20%20%20%0A%20%20%20%20%0A%20%20%20%20%20%20%20%20%20%20%20%20var%20icon_c0f4b45d38aa4fe8928ebb1d3a6df014%20%3D%20L.AwesomeMarkers.icon%28%0A%20%20%20%20%20%20%20%20%20%20%20%20%20%20%20%20%7B%22extraClasses%22%3A%20%22fa-rotate-0%22%2C%20%22icon%22%3A%20%22bicycle%22%2C%20%22iconColor%22%3A%20%22white%22%2C%20%22markerColor%22%3A%20%22darkblue%22%2C%20%22prefix%22%3A%20%22fa%22%7D%0A%20%20%20%20%20%20%20%20%20%20%20%20%29%3B%0A%20%20%20%20%20%20%20%20%20%20%20%20marker_e3412ac6dd9940fd80524f7590ed3b2e.setIcon%28icon_c0f4b45d38aa4fe8928ebb1d3a6df014%29%3B%0A%20%20%20%20%20%20%20%20%0A%20%20%20%20%0A%20%20%20%20%20%20%20%20var%20popup_6e6898e4cf0e48b088a6ef3a1e23cddb%20%3D%20L.popup%28%7B%22maxWidth%22%3A%20%22100%25%22%7D%29%3B%0A%0A%20%20%20%20%20%20%20%20%0A%20%20%20%20%20%20%20%20%20%20%20%20var%20html_60c2350db3164883be298ec17a02a1fb%20%3D%20%24%28%60%3Cdiv%20id%3D%22html_60c2350db3164883be298ec17a02a1fb%22%20style%3D%22width%3A%20100.0%25%3B%20height%3A%20100.0%25%3B%22%3EId%3A%20351%3Cbr%3EDalry%20Road%20Co-op%3Cbr%3EDescription%3A%20By%20co-op%20%28outside%20maplins%29%3Cbr%3E%3Cbr%3ECounts%3A%20391%3C/div%3E%60%29%5B0%5D%3B%0A%20%20%20%20%20%20%20%20%20%20%20%20popup_6e6898e4cf0e48b088a6ef3a1e23cddb.setContent%28html_60c2350db3164883be298ec17a02a1fb%29%3B%0A%20%20%20%20%20%20%20%20%0A%0A%20%20%20%20%20%20%20%20marker_e3412ac6dd9940fd80524f7590ed3b2e.bindPopup%28popup_6e6898e4cf0e48b088a6ef3a1e23cddb%29%0A%20%20%20%20%20%20%20%20%3B%0A%0A%20%20%20%20%20%20%20%20%0A%20%20%20%20%0A%20%20%20%20%0A%20%20%20%20%20%20%20%20%20%20%20%20var%20marker_45fd886a16e14c40ae50832387b5ae68%20%3D%20L.marker%28%0A%20%20%20%20%20%20%20%20%20%20%20%20%20%20%20%20%5B55.94446626439512%2C%20-3.234541218248978%5D%2C%0A%20%20%20%20%20%20%20%20%20%20%20%20%20%20%20%20%7B%7D%0A%20%20%20%20%20%20%20%20%20%20%20%20%29.addTo%28marker_cluster_ada872b66f8d4492ab77f3dff857f701%29%3B%0A%20%20%20%20%20%20%20%20%0A%20%20%20%20%0A%20%20%20%20%20%20%20%20%20%20%20%20var%20icon_153e6a70e296480b86e3ed38f4fa1f63%20%3D%20L.AwesomeMarkers.icon%28%0A%20%20%20%20%20%20%20%20%20%20%20%20%20%20%20%20%7B%22extraClasses%22%3A%20%22fa-rotate-0%22%2C%20%22icon%22%3A%20%22bicycle%22%2C%20%22iconColor%22%3A%20%22white%22%2C%20%22markerColor%22%3A%20%22darkblue%22%2C%20%22prefix%22%3A%20%22fa%22%7D%0A%20%20%20%20%20%20%20%20%20%20%20%20%29%3B%0A%20%20%20%20%20%20%20%20%20%20%20%20marker_45fd886a16e14c40ae50832387b5ae68.setIcon%28icon_153e6a70e296480b86e3ed38f4fa1f63%29%3B%0A%20%20%20%20%20%20%20%20%0A%20%20%20%20%0A%20%20%20%20%20%20%20%20var%20popup_cf8a92f5b3ed4c34bb169c8e8fd6085f%20%3D%20L.popup%28%7B%22maxWidth%22%3A%20%22100%25%22%7D%29%3B%0A%0A%20%20%20%20%20%20%20%20%0A%20%20%20%20%20%20%20%20%20%20%20%20var%20html_2a9755ab19be44e884e2fddf3e88c9d1%20%3D%20%24%28%60%3Cdiv%20id%3D%22html_2a9755ab19be44e884e2fddf3e88c9d1%22%20style%3D%22width%3A%20100.0%25%3B%20height%3A%20100.0%25%3B%22%3EId%3A%20887%3Cbr%3ERoseburn%20Street%3Cbr%3EDescription%3A%20Corner%20of%20Roseburn%20Street%20%26%20Russell%20Gardens%3Cbr%3E%3Cbr%3ECounts%3A%20377%3C/div%3E%60%29%5B0%5D%3B%0A%20%20%20%20%20%20%20%20%20%20%20%20popup_cf8a92f5b3ed4c34bb169c8e8fd6085f.setContent%28html_2a9755ab19be44e884e2fddf3e88c9d1%29%3B%0A%20%20%20%20%20%20%20%20%0A%0A%20%20%20%20%20%20%20%20marker_45fd886a16e14c40ae50832387b5ae68.bindPopup%28popup_cf8a92f5b3ed4c34bb169c8e8fd6085f%29%0A%20%20%20%20%20%20%20%20%3B%0A%0A%20%20%20%20%20%20%20%20%0A%20%20%20%20%0A%20%20%20%20%0A%20%20%20%20%20%20%20%20%20%20%20%20var%20marker_4782a5757c074e979f48d4be3bac491e%20%3D%20L.marker%28%0A%20%20%20%20%20%20%20%20%20%20%20%20%20%20%20%20%5B55.96345848770889%2C%20-3.23280956008216%5D%2C%0A%20%20%20%20%20%20%20%20%20%20%20%20%20%20%20%20%7B%7D%0A%20%20%20%20%20%20%20%20%20%20%20%20%29.addTo%28marker_cluster_ada872b66f8d4492ab77f3dff857f701%29%3B%0A%20%20%20%20%20%20%20%20%0A%20%20%20%20%0A%20%20%20%20%20%20%20%20%20%20%20%20var%20icon_d721eed9f3dd4aaea3fa306ae8118a9a%20%3D%20L.AwesomeMarkers.icon%28%0A%20%20%20%20%20%20%20%20%20%20%20%20%20%20%20%20%7B%22extraClasses%22%3A%20%22fa-rotate-0%22%2C%20%22icon%22%3A%20%22bicycle%22%2C%20%22iconColor%22%3A%20%22white%22%2C%20%22markerColor%22%3A%20%22darkblue%22%2C%20%22prefix%22%3A%20%22fa%22%7D%0A%20%20%20%20%20%20%20%20%20%20%20%20%29%3B%0A%20%20%20%20%20%20%20%20%20%20%20%20marker_4782a5757c074e979f48d4be3bac491e.setIcon%28icon_d721eed9f3dd4aaea3fa306ae8118a9a%29%3B%0A%20%20%20%20%20%20%20%20%0A%20%20%20%20%0A%20%20%20%20%20%20%20%20var%20popup_27c0adf3c04548d3bf0f2345167f832b%20%3D%20L.popup%28%7B%22maxWidth%22%3A%20%22100%25%22%7D%29%3B%0A%0A%20%20%20%20%20%20%20%20%0A%20%20%20%20%20%20%20%20%20%20%20%20var%20html_46913d8624264be0a31f4e54f839d803%20%3D%20%24%28%60%3Cdiv%20id%3D%22html_46913d8624264be0a31f4e54f839d803%22%20style%3D%22width%3A%20100.0%25%3B%20height%3A%20100.0%25%3B%22%3EId%3A%20648%3Cbr%3EWestern%20General%3Cbr%3EDescription%3A%20Western%20General%20virtual%20station%20across%20from%20public%20multi%20storey%3Cbr%3E%3Cbr%3ECounts%3A%20366%3C/div%3E%60%29%5B0%5D%3B%0A%20%20%20%20%20%20%20%20%20%20%20%20popup_27c0adf3c04548d3bf0f2345167f832b.setContent%28html_46913d8624264be0a31f4e54f839d803%29%3B%0A%20%20%20%20%20%20%20%20%0A%0A%20%20%20%20%20%20%20%20marker_4782a5757c074e979f48d4be3bac491e.bindPopup%28popup_27c0adf3c04548d3bf0f2345167f832b%29%0A%20%20%20%20%20%20%20%20%3B%0A%0A%20%20%20%20%20%20%20%20%0A%20%20%20%20%0A%20%20%20%20%0A%20%20%20%20%20%20%20%20%20%20%20%20var%20marker_f1d68a6835fd479a856e9014b81d081c%20%3D%20L.marker%28%0A%20%20%20%20%20%20%20%20%20%20%20%20%20%20%20%20%5B55.94174288122498%2C%20-3.271484360775275%5D%2C%0A%20%20%20%20%20%20%20%20%20%20%20%20%20%20%20%20%7B%7D%0A%20%20%20%20%20%20%20%20%20%20%20%20%29.addTo%28marker_cluster_ada872b66f8d4492ab77f3dff857f701%29%3B%0A%20%20%20%20%20%20%20%20%0A%20%20%20%20%0A%20%20%20%20%20%20%20%20%20%20%20%20var%20icon_a3148f61125943ffb7563b01ef54707b%20%3D%20L.AwesomeMarkers.icon%28%0A%20%20%20%20%20%20%20%20%20%20%20%20%20%20%20%20%7B%22extraClasses%22%3A%20%22fa-rotate-0%22%2C%20%22icon%22%3A%20%22bicycle%22%2C%20%22iconColor%22%3A%20%22white%22%2C%20%22markerColor%22%3A%20%22darkblue%22%2C%20%22prefix%22%3A%20%22fa%22%7D%0A%20%20%20%20%20%20%20%20%20%20%20%20%29%3B%0A%20%20%20%20%20%20%20%20%20%20%20%20marker_f1d68a6835fd479a856e9014b81d081c.setIcon%28icon_a3148f61125943ffb7563b01ef54707b%29%3B%0A%20%20%20%20%20%20%20%20%0A%20%20%20%20%0A%20%20%20%20%20%20%20%20var%20popup_0f0d730f4af946ae9e2d3a30c97475cb%20%3D%20L.popup%28%7B%22maxWidth%22%3A%20%22100%25%22%7D%29%3B%0A%0A%20%20%20%20%20%20%20%20%0A%20%20%20%20%20%20%20%20%20%20%20%20var%20html_10e09da1b37c429f8653b4bb684f3be2%20%3D%20%24%28%60%3Cdiv%20id%3D%22html_10e09da1b37c429f8653b4bb684f3be2%22%20style%3D%22width%3A%20100.0%25%3B%20height%3A%20100.0%25%3B%22%3EId%3A%20873%3Cbr%3ECorstorphine%20Road%3Cbr%3EDescription%3A%20Outside%20Forestry%20%26%20Land%20Scotland%3Cbr%3E%3Cbr%3ECounts%3A%20355%3C/div%3E%60%29%5B0%5D%3B%0A%20%20%20%20%20%20%20%20%20%20%20%20popup_0f0d730f4af946ae9e2d3a30c97475cb.setContent%28html_10e09da1b37c429f8653b4bb684f3be2%29%3B%0A%20%20%20%20%20%20%20%20%0A%0A%20%20%20%20%20%20%20%20marker_f1d68a6835fd479a856e9014b81d081c.bindPopup%28popup_0f0d730f4af946ae9e2d3a30c97475cb%29%0A%20%20%20%20%20%20%20%20%3B%0A%0A%20%20%20%20%20%20%20%20%0A%20%20%20%20%0A%20%20%20%20%0A%20%20%20%20%20%20%20%20%20%20%20%20var%20marker_e1afbff33e7542769cfa1199e14052af%20%3D%20L.marker%28%0A%20%20%20%20%20%20%20%20%20%20%20%20%20%20%20%20%5B55.9417543014448%2C%20-3.222524291865397%5D%2C%0A%20%20%20%20%20%20%20%20%20%20%20%20%20%20%20%20%7B%7D%0A%20%20%20%20%20%20%20%20%20%20%20%20%29.addTo%28marker_cluster_ada872b66f8d4492ab77f3dff857f701%29%3B%0A%20%20%20%20%20%20%20%20%0A%20%20%20%20%0A%20%20%20%20%20%20%20%20%20%20%20%20var%20icon_aaee831e981244fea71d1bb19be55a15%20%3D%20L.AwesomeMarkers.icon%28%0A%20%20%20%20%20%20%20%20%20%20%20%20%20%20%20%20%7B%22extraClasses%22%3A%20%22fa-rotate-0%22%2C%20%22icon%22%3A%20%22bicycle%22%2C%20%22iconColor%22%3A%20%22white%22%2C%20%22markerColor%22%3A%20%22darkblue%22%2C%20%22prefix%22%3A%20%22fa%22%7D%0A%20%20%20%20%20%20%20%20%20%20%20%20%29%3B%0A%20%20%20%20%20%20%20%20%20%20%20%20marker_e1afbff33e7542769cfa1199e14052af.setIcon%28icon_aaee831e981244fea71d1bb19be55a15%29%3B%0A%20%20%20%20%20%20%20%20%0A%20%20%20%20%0A%20%20%20%20%20%20%20%20var%20popup_8f5d5562043e4859971b8064a0c137e2%20%3D%20L.popup%28%7B%22maxWidth%22%3A%20%22100%25%22%7D%29%3B%0A%0A%20%20%20%20%20%20%20%20%0A%20%20%20%20%20%20%20%20%20%20%20%20var%20html_27f667295a5e4280a55d0fba3135b8b7%20%3D%20%24%28%60%3Cdiv%20id%3D%22html_27f667295a5e4280a55d0fba3135b8b7%22%20style%3D%22width%3A%20100.0%25%3B%20height%3A%20100.0%25%3B%22%3EId%3A%20350%3Cbr%3EDalry%20Road%20Lidl%3Cbr%3EDescription%3A%20outside%20Lidl%3Cbr%3E%3Cbr%3ECounts%3A%20341%3C/div%3E%60%29%5B0%5D%3B%0A%20%20%20%20%20%20%20%20%20%20%20%20popup_8f5d5562043e4859971b8064a0c137e2.setContent%28html_27f667295a5e4280a55d0fba3135b8b7%29%3B%0A%20%20%20%20%20%20%20%20%0A%0A%20%20%20%20%20%20%20%20marker_e1afbff33e7542769cfa1199e14052af.bindPopup%28popup_8f5d5562043e4859971b8064a0c137e2%29%0A%20%20%20%20%20%20%20%20%3B%0A%0A%20%20%20%20%20%20%20%20%0A%20%20%20%20%0A%20%20%20%20%0A%20%20%20%20%20%20%20%20%20%20%20%20var%20marker_6f0847373a5e4a2aa893557d9c38f6e6%20%3D%20L.marker%28%0A%20%20%20%20%20%20%20%20%20%20%20%20%20%20%20%20%5B55.94474957118208%2C%20-3.186542135633317%5D%2C%0A%20%20%20%20%20%20%20%20%20%20%20%20%20%20%20%20%7B%7D%0A%20%20%20%20%20%20%20%20%20%20%20%20%29.addTo%28marker_cluster_ada872b66f8d4492ab77f3dff857f701%29%3B%0A%20%20%20%20%20%20%20%20%0A%20%20%20%20%0A%20%20%20%20%20%20%20%20%20%20%20%20var%20icon_2ef0c68c5cdd4915a4cc7eec8d23af71%20%3D%20L.AwesomeMarkers.icon%28%0A%20%20%20%20%20%20%20%20%20%20%20%20%20%20%20%20%7B%22extraClasses%22%3A%20%22fa-rotate-0%22%2C%20%22icon%22%3A%20%22bicycle%22%2C%20%22iconColor%22%3A%20%22white%22%2C%20%22markerColor%22%3A%20%22darkblue%22%2C%20%22prefix%22%3A%20%22fa%22%7D%0A%20%20%20%20%20%20%20%20%20%20%20%20%29%3B%0A%20%20%20%20%20%20%20%20%20%20%20%20marker_6f0847373a5e4a2aa893557d9c38f6e6.setIcon%28icon_2ef0c68c5cdd4915a4cc7eec8d23af71%29%3B%0A%20%20%20%20%20%20%20%20%0A%20%20%20%20%0A%20%20%20%20%20%20%20%20var%20popup_72e8a7a320fd4e3db64ad9ae11365723%20%3D%20L.popup%28%7B%22maxWidth%22%3A%20%22100%25%22%7D%29%3B%0A%0A%20%20%20%20%20%20%20%20%0A%20%20%20%20%20%20%20%20%20%20%20%20var%20html_3262260d3cfe4f3cbd9e68579461d958%20%3D%20%24%28%60%3Cdiv%20id%3D%22html_3262260d3cfe4f3cbd9e68579461d958%22%20style%3D%22width%3A%20100.0%25%3B%20height%3A%20100.0%25%3B%22%3EId%3A%20888%3Cbr%3ECrichton%20Street%3Cbr%3EDescription%3A%20Corner%20of%20Crichton%20Street%20%26%20Potterow%3Cbr%3E%3Cbr%3ECounts%3A%20335%3C/div%3E%60%29%5B0%5D%3B%0A%20%20%20%20%20%20%20%20%20%20%20%20popup_72e8a7a320fd4e3db64ad9ae11365723.setContent%28html_3262260d3cfe4f3cbd9e68579461d958%29%3B%0A%20%20%20%20%20%20%20%20%0A%0A%20%20%20%20%20%20%20%20marker_6f0847373a5e4a2aa893557d9c38f6e6.bindPopup%28popup_72e8a7a320fd4e3db64ad9ae11365723%29%0A%20%20%20%20%20%20%20%20%3B%0A%0A%20%20%20%20%20%20%20%20%0A%20%20%20%20%0A%20%20%20%20%0A%20%20%20%20%20%20%20%20%20%20%20%20var%20marker_2ab82fa189034509a3650a6808b20865%20%3D%20L.marker%28%0A%20%20%20%20%20%20%20%20%20%20%20%20%20%20%20%20%5B55.9419563895648%2C%20-3.237802024128314%5D%2C%0A%20%20%20%20%20%20%20%20%20%20%20%20%20%20%20%20%7B%7D%0A%20%20%20%20%20%20%20%20%20%20%20%20%29.addTo%28marker_cluster_ada872b66f8d4492ab77f3dff857f701%29%3B%0A%20%20%20%20%20%20%20%20%0A%20%20%20%20%0A%20%20%20%20%20%20%20%20%20%20%20%20var%20icon_31ce535a300e4554856737f5b0896fba%20%3D%20L.AwesomeMarkers.icon%28%0A%20%20%20%20%20%20%20%20%20%20%20%20%20%20%20%20%7B%22extraClasses%22%3A%20%22fa-rotate-0%22%2C%20%22icon%22%3A%20%22bicycle%22%2C%20%22iconColor%22%3A%20%22white%22%2C%20%22markerColor%22%3A%20%22darkblue%22%2C%20%22prefix%22%3A%20%22fa%22%7D%0A%20%20%20%20%20%20%20%20%20%20%20%20%29%3B%0A%20%20%20%20%20%20%20%20%20%20%20%20marker_2ab82fa189034509a3650a6808b20865.setIcon%28icon_31ce535a300e4554856737f5b0896fba%29%3B%0A%20%20%20%20%20%20%20%20%0A%20%20%20%20%0A%20%20%20%20%20%20%20%20var%20popup_20ce6f9b86b845f18b43e8dd16aebabd%20%3D%20L.popup%28%7B%22maxWidth%22%3A%20%22100%25%22%7D%29%3B%0A%0A%20%20%20%20%20%20%20%20%0A%20%20%20%20%20%20%20%20%20%20%20%20var%20html_426ba066ed014c89a86d4bde68e8e870%20%3D%20%24%28%60%3Cdiv%20id%3D%22html_426ba066ed014c89a86d4bde68e8e870%22%20style%3D%22width%3A%20100.0%25%3B%20height%3A%20100.0%25%3B%22%3EId%3A%20889%3Cbr%3EMurrayfield%20Tram%3Cbr%3EDescription%3A%20By%20the%20side%20of%20the%20station%20entrance%3Cbr%3E%3Cbr%3ECounts%3A%20334%3C/div%3E%60%29%5B0%5D%3B%0A%20%20%20%20%20%20%20%20%20%20%20%20popup_20ce6f9b86b845f18b43e8dd16aebabd.setContent%28html_426ba066ed014c89a86d4bde68e8e870%29%3B%0A%20%20%20%20%20%20%20%20%0A%0A%20%20%20%20%20%20%20%20marker_2ab82fa189034509a3650a6808b20865.bindPopup%28popup_20ce6f9b86b845f18b43e8dd16aebabd%29%0A%20%20%20%20%20%20%20%20%3B%0A%0A%20%20%20%20%20%20%20%20%0A%20%20%20%20%0A%20%20%20%20%0A%20%20%20%20%20%20%20%20%20%20%20%20var%20marker_27794cd038d54f1e91061ce5d4b50013%20%3D%20L.marker%28%0A%20%20%20%20%20%20%20%20%20%20%20%20%20%20%20%20%5B55.9483365370385%2C%20-3.18226129953905%5D%2C%0A%20%20%20%20%20%20%20%20%20%20%20%20%20%20%20%20%7B%7D%0A%20%20%20%20%20%20%20%20%20%20%20%20%29.addTo%28marker_cluster_ada872b66f8d4492ab77f3dff857f701%29%3B%0A%20%20%20%20%20%20%20%20%0A%20%20%20%20%0A%20%20%20%20%20%20%20%20%20%20%20%20var%20icon_969e8d6c21964c1f864583957078fe8f%20%3D%20L.AwesomeMarkers.icon%28%0A%20%20%20%20%20%20%20%20%20%20%20%20%20%20%20%20%7B%22extraClasses%22%3A%20%22fa-rotate-0%22%2C%20%22icon%22%3A%20%22bicycle%22%2C%20%22iconColor%22%3A%20%22white%22%2C%20%22markerColor%22%3A%20%22darkblue%22%2C%20%22prefix%22%3A%20%22fa%22%7D%0A%20%20%20%20%20%20%20%20%20%20%20%20%29%3B%0A%20%20%20%20%20%20%20%20%20%20%20%20marker_27794cd038d54f1e91061ce5d4b50013.setIcon%28icon_969e8d6c21964c1f864583957078fe8f%29%3B%0A%20%20%20%20%20%20%20%20%0A%20%20%20%20%0A%20%20%20%20%20%20%20%20var%20popup_c46f63a1454c4d67842e017a49e36525%20%3D%20L.popup%28%7B%22maxWidth%22%3A%20%22100%25%22%7D%29%3B%0A%0A%20%20%20%20%20%20%20%20%0A%20%20%20%20%20%20%20%20%20%20%20%20var%20html_5cfae96631b34e8cb48c4ea629a2daff%20%3D%20%24%28%60%3Cdiv%20id%3D%22html_5cfae96631b34e8cb48c4ea629a2daff%22%20style%3D%22width%3A%20100.0%25%3B%20height%3A%20100.0%25%3B%22%3EId%3A%201027%3Cbr%3EDrummond%20Street%3Cbr%3EDescription%3A%20Opposite%20the%20Pleasance%20Grand%3Cbr%3E%3Cbr%3ECounts%3A%20316%3C/div%3E%60%29%5B0%5D%3B%0A%20%20%20%20%20%20%20%20%20%20%20%20popup_c46f63a1454c4d67842e017a49e36525.setContent%28html_5cfae96631b34e8cb48c4ea629a2daff%29%3B%0A%20%20%20%20%20%20%20%20%0A%0A%20%20%20%20%20%20%20%20marker_27794cd038d54f1e91061ce5d4b50013.bindPopup%28popup_c46f63a1454c4d67842e017a49e36525%29%0A%20%20%20%20%20%20%20%20%3B%0A%0A%20%20%20%20%20%20%20%20%0A%20%20%20%20%0A%20%20%20%20%0A%20%20%20%20%20%20%20%20%20%20%20%20var%20marker_70d906080fa84135b8782988073fc268%20%3D%20L.marker%28%0A%20%20%20%20%20%20%20%20%20%20%20%20%20%20%20%20%5B55.95661859471628%2C%20-3.237802968201094%5D%2C%0A%20%20%20%20%20%20%20%20%20%20%20%20%20%20%20%20%7B%7D%0A%20%20%20%20%20%20%20%20%20%20%20%20%29.addTo%28marker_cluster_ada872b66f8d4492ab77f3dff857f701%29%3B%0A%20%20%20%20%20%20%20%20%0A%20%20%20%20%0A%20%20%20%20%20%20%20%20%20%20%20%20var%20icon_30c34f34f83843a9a38feac91952687c%20%3D%20L.AwesomeMarkers.icon%28%0A%20%20%20%20%20%20%20%20%20%20%20%20%20%20%20%20%7B%22extraClasses%22%3A%20%22fa-rotate-0%22%2C%20%22icon%22%3A%20%22bicycle%22%2C%20%22iconColor%22%3A%20%22white%22%2C%20%22markerColor%22%3A%20%22darkblue%22%2C%20%22prefix%22%3A%20%22fa%22%7D%0A%20%20%20%20%20%20%20%20%20%20%20%20%29%3B%0A%20%20%20%20%20%20%20%20%20%20%20%20marker_70d906080fa84135b8782988073fc268.setIcon%28icon_30c34f34f83843a9a38feac91952687c%29%3B%0A%20%20%20%20%20%20%20%20%0A%20%20%20%20%0A%20%20%20%20%20%20%20%20var%20popup_0dfe1631d44041f9b91babbb778ea78d%20%3D%20L.popup%28%7B%22maxWidth%22%3A%20%22100%25%22%7D%29%3B%0A%0A%20%20%20%20%20%20%20%20%0A%20%20%20%20%20%20%20%20%20%20%20%20var%20html_74bfc75dd5f54d61885b8a3a3f6f3c52%20%3D%20%24%28%60%3Cdiv%20id%3D%22html_74bfc75dd5f54d61885b8a3a3f6f3c52%22%20style%3D%22width%3A%20100.0%25%3B%20height%3A%20100.0%25%3B%22%3EId%3A%20865%3Cbr%3ECraigleith%20Road%3Cbr%3EDescription%3A%20Craigleith%20road%20by%20bus%20stop%3Cbr%3E%3Cbr%3ECounts%3A%20271%3C/div%3E%60%29%5B0%5D%3B%0A%20%20%20%20%20%20%20%20%20%20%20%20popup_0dfe1631d44041f9b91babbb778ea78d.setContent%28html_74bfc75dd5f54d61885b8a3a3f6f3c52%29%3B%0A%20%20%20%20%20%20%20%20%0A%0A%20%20%20%20%20%20%20%20marker_70d906080fa84135b8782988073fc268.bindPopup%28popup_0dfe1631d44041f9b91babbb778ea78d%29%0A%20%20%20%20%20%20%20%20%3B%0A%0A%20%20%20%20%20%20%20%20%0A%20%20%20%20%0A%20%20%20%20%0A%20%20%20%20%20%20%20%20%20%20%20%20var%20marker_6f8663ab79104842a34eb07e69e25f10%20%3D%20L.marker%28%0A%20%20%20%20%20%20%20%20%20%20%20%20%20%20%20%20%5B55.94632179137708%2C%20-3.236542329964095%5D%2C%0A%20%20%20%20%20%20%20%20%20%20%20%20%20%20%20%20%7B%7D%0A%20%20%20%20%20%20%20%20%20%20%20%20%29.addTo%28marker_cluster_ada872b66f8d4492ab77f3dff857f701%29%3B%0A%20%20%20%20%20%20%20%20%0A%20%20%20%20%0A%20%20%20%20%20%20%20%20%20%20%20%20var%20icon_f636eeef969b4b8885ac3765361a5e49%20%3D%20L.AwesomeMarkers.icon%28%0A%20%20%20%20%20%20%20%20%20%20%20%20%20%20%20%20%7B%22extraClasses%22%3A%20%22fa-rotate-0%22%2C%20%22icon%22%3A%20%22bicycle%22%2C%20%22iconColor%22%3A%20%22white%22%2C%20%22markerColor%22%3A%20%22darkblue%22%2C%20%22prefix%22%3A%20%22fa%22%7D%0A%20%20%20%20%20%20%20%20%20%20%20%20%29%3B%0A%20%20%20%20%20%20%20%20%20%20%20%20marker_6f8663ab79104842a34eb07e69e25f10.setIcon%28icon_f636eeef969b4b8885ac3765361a5e49%29%3B%0A%20%20%20%20%20%20%20%20%0A%20%20%20%20%0A%20%20%20%20%20%20%20%20var%20popup_5edd66a86916405c931359ba2a461af8%20%3D%20L.popup%28%7B%22maxWidth%22%3A%20%22100%25%22%7D%29%3B%0A%0A%20%20%20%20%20%20%20%20%0A%20%20%20%20%20%20%20%20%20%20%20%20var%20html_430d5740dd18486d813c02f6ea4be903%20%3D%20%24%28%60%3Cdiv%20id%3D%22html_430d5740dd18486d813c02f6ea4be903%22%20style%3D%22width%3A%20100.0%25%3B%20height%3A%20100.0%25%3B%22%3EId%3A%20877%3Cbr%3EMurrayfield%20Avenue%3Cbr%3EDescription%3A%20Corner%20of%20Murrayfield%20Avenue%20%26%20Murrayfield%20Place%3Cbr%3E%3Cbr%3ECounts%3A%20266%3C/div%3E%60%29%5B0%5D%3B%0A%20%20%20%20%20%20%20%20%20%20%20%20popup_5edd66a86916405c931359ba2a461af8.setContent%28html_430d5740dd18486d813c02f6ea4be903%29%3B%0A%20%20%20%20%20%20%20%20%0A%0A%20%20%20%20%20%20%20%20marker_6f8663ab79104842a34eb07e69e25f10.bindPopup%28popup_5edd66a86916405c931359ba2a461af8%29%0A%20%20%20%20%20%20%20%20%3B%0A%0A%20%20%20%20%20%20%20%20%0A%20%20%20%20%0A%20%20%20%20%0A%20%20%20%20%20%20%20%20%20%20%20%20var%20marker_791b0926c1b44a95ad218091314947d3%20%3D%20L.marker%28%0A%20%20%20%20%20%20%20%20%20%20%20%20%20%20%20%20%5B55.92200087060626%2C%20-3.176901814164921%5D%2C%0A%20%20%20%20%20%20%20%20%20%20%20%20%20%20%20%20%7B%7D%0A%20%20%20%20%20%20%20%20%20%20%20%20%29.addTo%28marker_cluster_ada872b66f8d4492ab77f3dff857f701%29%3B%0A%20%20%20%20%20%20%20%20%0A%20%20%20%20%0A%20%20%20%20%20%20%20%20%20%20%20%20var%20icon_6f3a838870754278a83165c9a9d6f980%20%3D%20L.AwesomeMarkers.icon%28%0A%20%20%20%20%20%20%20%20%20%20%20%20%20%20%20%20%7B%22extraClasses%22%3A%20%22fa-rotate-0%22%2C%20%22icon%22%3A%20%22bicycle%22%2C%20%22iconColor%22%3A%20%22white%22%2C%20%22markerColor%22%3A%20%22darkblue%22%2C%20%22prefix%22%3A%20%22fa%22%7D%0A%20%20%20%20%20%20%20%20%20%20%20%20%29%3B%0A%20%20%20%20%20%20%20%20%20%20%20%20marker_791b0926c1b44a95ad218091314947d3.setIcon%28icon_6f3a838870754278a83165c9a9d6f980%29%3B%0A%20%20%20%20%20%20%20%20%0A%20%20%20%20%0A%20%20%20%20%20%20%20%20var%20popup_30476080ad044deba876fe0646eb23c0%20%3D%20L.popup%28%7B%22maxWidth%22%3A%20%22100%25%22%7D%29%3B%0A%0A%20%20%20%20%20%20%20%20%0A%20%20%20%20%20%20%20%20%20%20%20%20var%20html_ded610d90bda4eceb1e3f93be38530b8%20%3D%20%24%28%60%3Cdiv%20id%3D%22html_ded610d90bda4eceb1e3f93be38530b8%22%20style%3D%22width%3A%20100.0%25%3B%20height%3A%20100.0%25%3B%22%3EId%3A%20255%3Cbr%3EKings%20Buildings%204%3Cbr%3EDescription%3A%20X-Y%20Cafe%3Cbr%3E%3Cbr%3ECounts%3A%20254%3C/div%3E%60%29%5B0%5D%3B%0A%20%20%20%20%20%20%20%20%20%20%20%20popup_30476080ad044deba876fe0646eb23c0.setContent%28html_ded610d90bda4eceb1e3f93be38530b8%29%3B%0A%20%20%20%20%20%20%20%20%0A%0A%20%20%20%20%20%20%20%20marker_791b0926c1b44a95ad218091314947d3.bindPopup%28popup_30476080ad044deba876fe0646eb23c0%29%0A%20%20%20%20%20%20%20%20%3B%0A%0A%20%20%20%20%20%20%20%20%0A%20%20%20%20%0A%20%20%20%20%0A%20%20%20%20%20%20%20%20%20%20%20%20var%20marker_26170a5210c04dd88ddd18d14a2bcf72%20%3D%20L.marker%28%0A%20%20%20%20%20%20%20%20%20%20%20%20%20%20%20%20%5B55.93632904938287%2C%20-3.202294536676049%5D%2C%0A%20%20%20%20%20%20%20%20%20%20%20%20%20%20%20%20%7B%7D%0A%20%20%20%20%20%20%20%20%20%20%20%20%29.addTo%28marker_cluster_ada872b66f8d4492ab77f3dff857f701%29%3B%0A%20%20%20%20%20%20%20%20%0A%20%20%20%20%0A%20%20%20%20%20%20%20%20%20%20%20%20var%20icon_233aa5258e254bdb81a25281aefc8b3f%20%3D%20L.AwesomeMarkers.icon%28%0A%20%20%20%20%20%20%20%20%20%20%20%20%20%20%20%20%7B%22extraClasses%22%3A%20%22fa-rotate-0%22%2C%20%22icon%22%3A%20%22bicycle%22%2C%20%22iconColor%22%3A%20%22white%22%2C%20%22markerColor%22%3A%20%22darkblue%22%2C%20%22prefix%22%3A%20%22fa%22%7D%0A%20%20%20%20%20%20%20%20%20%20%20%20%29%3B%0A%20%20%20%20%20%20%20%20%20%20%20%20marker_26170a5210c04dd88ddd18d14a2bcf72.setIcon%28icon_233aa5258e254bdb81a25281aefc8b3f%29%3B%0A%20%20%20%20%20%20%20%20%0A%20%20%20%20%0A%20%20%20%20%20%20%20%20var%20popup_b2f1f76628084b4186c90eaabb4d9045%20%3D%20L.popup%28%7B%22maxWidth%22%3A%20%22100%25%22%7D%29%3B%0A%0A%20%20%20%20%20%20%20%20%0A%20%20%20%20%20%20%20%20%20%20%20%20var%20html_856727774d7546298bd6080909f66d47%20%3D%20%24%28%60%3Cdiv%20id%3D%22html_856727774d7546298bd6080909f66d47%22%20style%3D%22width%3A%20100.0%25%3B%20height%3A%20100.0%25%3B%22%3EId%3A%20342%3Cbr%3EWhitehouse%20Loan%3Cbr%3EDescription%3A%20Corner%20of%20Whitehouse%20Loan%20%26%20Bruntsfield%20Crescent%3Cbr%3E%3Cbr%3ECounts%3A%20247%3C/div%3E%60%29%5B0%5D%3B%0A%20%20%20%20%20%20%20%20%20%20%20%20popup_b2f1f76628084b4186c90eaabb4d9045.setContent%28html_856727774d7546298bd6080909f66d47%29%3B%0A%20%20%20%20%20%20%20%20%0A%0A%20%20%20%20%20%20%20%20marker_26170a5210c04dd88ddd18d14a2bcf72.bindPopup%28popup_b2f1f76628084b4186c90eaabb4d9045%29%0A%20%20%20%20%20%20%20%20%3B%0A%0A%20%20%20%20%20%20%20%20%0A%20%20%20%20%0A%20%20%20%20%0A%20%20%20%20%20%20%20%20%20%20%20%20var%20marker_e12f20b6f2104757a2bb537bf4648edb%20%3D%20L.marker%28%0A%20%20%20%20%20%20%20%20%20%20%20%20%20%20%20%20%5B55.93536510821717%2C%20-3.198671326704016%5D%2C%0A%20%20%20%20%20%20%20%20%20%20%20%20%20%20%20%20%7B%7D%0A%20%20%20%20%20%20%20%20%20%20%20%20%29.addTo%28marker_cluster_ada872b66f8d4492ab77f3dff857f701%29%3B%0A%20%20%20%20%20%20%20%20%0A%20%20%20%20%0A%20%20%20%20%20%20%20%20%20%20%20%20var%20icon_c6d3aeddc3354211b42d811a68536822%20%3D%20L.AwesomeMarkers.icon%28%0A%20%20%20%20%20%20%20%20%20%20%20%20%20%20%20%20%7B%22extraClasses%22%3A%20%22fa-rotate-0%22%2C%20%22icon%22%3A%20%22bicycle%22%2C%20%22iconColor%22%3A%20%22white%22%2C%20%22markerColor%22%3A%20%22darkblue%22%2C%20%22prefix%22%3A%20%22fa%22%7D%0A%20%20%20%20%20%20%20%20%20%20%20%20%29%3B%0A%20%20%20%20%20%20%20%20%20%20%20%20marker_e12f20b6f2104757a2bb537bf4648edb.setIcon%28icon_c6d3aeddc3354211b42d811a68536822%29%3B%0A%20%20%20%20%20%20%20%20%0A%20%20%20%20%0A%20%20%20%20%20%20%20%20var%20popup_42ff74b13e3a407b8ed5267ca4df7387%20%3D%20L.popup%28%7B%22maxWidth%22%3A%20%22100%25%22%7D%29%3B%0A%0A%20%20%20%20%20%20%20%20%0A%20%20%20%20%20%20%20%20%20%20%20%20var%20html_992825bf3ba843f2817f8408c6b8e230%20%3D%20%24%28%60%3Cdiv%20id%3D%22html_992825bf3ba843f2817f8408c6b8e230%22%20style%3D%22width%3A%20100.0%25%3B%20height%3A%20100.0%25%3B%22%3EId%3A%20343%3Cbr%3EThirlestane%20Road%3Cbr%3EDescription%3A%20Corner%20of%20Thirlestane%20Road%20%26%20St.%20Margaret%27s%20Place%3Cbr%3E%3Cbr%3ECounts%3A%20222%3C/div%3E%60%29%5B0%5D%3B%0A%20%20%20%20%20%20%20%20%20%20%20%20popup_42ff74b13e3a407b8ed5267ca4df7387.setContent%28html_992825bf3ba843f2817f8408c6b8e230%29%3B%0A%20%20%20%20%20%20%20%20%0A%0A%20%20%20%20%20%20%20%20marker_e12f20b6f2104757a2bb537bf4648edb.bindPopup%28popup_42ff74b13e3a407b8ed5267ca4df7387%29%0A%20%20%20%20%20%20%20%20%3B%0A%0A%20%20%20%20%20%20%20%20%0A%20%20%20%20%0A%20%20%20%20%0A%20%20%20%20%20%20%20%20%20%20%20%20var%20marker_6a4d11df6070438a8fd64ec96e33125d%20%3D%20L.marker%28%0A%20%20%20%20%20%20%20%20%20%20%20%20%20%20%20%20%5B55.931168715771065%2C%20-3.314414297805683%5D%2C%0A%20%20%20%20%20%20%20%20%20%20%20%20%20%20%20%20%7B%7D%0A%20%20%20%20%20%20%20%20%20%20%20%20%29.addTo%28marker_cluster_ada872b66f8d4492ab77f3dff857f701%29%3B%0A%20%20%20%20%20%20%20%20%0A%20%20%20%20%0A%20%20%20%20%20%20%20%20%20%20%20%20var%20icon_c0cb74f24ca744e78d46425a330991d4%20%3D%20L.AwesomeMarkers.icon%28%0A%20%20%20%20%20%20%20%20%20%20%20%20%20%20%20%20%7B%22extraClasses%22%3A%20%22fa-rotate-0%22%2C%20%22icon%22%3A%20%22bicycle%22%2C%20%22iconColor%22%3A%20%22white%22%2C%20%22markerColor%22%3A%20%22darkblue%22%2C%20%22prefix%22%3A%20%22fa%22%7D%0A%20%20%20%20%20%20%20%20%20%20%20%20%29%3B%0A%20%20%20%20%20%20%20%20%20%20%20%20marker_6a4d11df6070438a8fd64ec96e33125d.setIcon%28icon_c0cb74f24ca744e78d46425a330991d4%29%3B%0A%20%20%20%20%20%20%20%20%0A%20%20%20%20%0A%20%20%20%20%20%20%20%20var%20popup_84a2a932c3aa42aab4e86d84282966e8%20%3D%20L.popup%28%7B%22maxWidth%22%3A%20%22100%25%22%7D%29%3B%0A%0A%20%20%20%20%20%20%20%20%0A%20%20%20%20%20%20%20%20%20%20%20%20var%20html_a85bd2d54fc44933a14bbf57c91b7295%20%3D%20%24%28%60%3Cdiv%20id%3D%22html_a85bd2d54fc44933a14bbf57c91b7295%22%20style%3D%22width%3A%20100.0%25%3B%20height%3A%20100.0%25%3B%22%3EId%3A%201859%3Cbr%3EEdinburgh%20Park%20Central%3Cbr%3EDescription%3A%20Between%20Lochside%20Court%20and%20Lochside%20Avenue%3Cbr%3E%3Cbr%3ECounts%3A%20221%3C/div%3E%60%29%5B0%5D%3B%0A%20%20%20%20%20%20%20%20%20%20%20%20popup_84a2a932c3aa42aab4e86d84282966e8.setContent%28html_a85bd2d54fc44933a14bbf57c91b7295%29%3B%0A%20%20%20%20%20%20%20%20%0A%0A%20%20%20%20%20%20%20%20marker_6a4d11df6070438a8fd64ec96e33125d.bindPopup%28popup_84a2a932c3aa42aab4e86d84282966e8%29%0A%20%20%20%20%20%20%20%20%3B%0A%0A%20%20%20%20%20%20%20%20%0A%20%20%20%20%0A%20%20%20%20%0A%20%20%20%20%20%20%20%20%20%20%20%20var%20marker_f1d5ee53b090466a9b9e365976570caa%20%3D%20L.marker%28%0A%20%20%20%20%20%20%20%20%20%20%20%20%20%20%20%20%5B55.98376618789104%2C%20-3.401351801602175%5D%2C%0A%20%20%20%20%20%20%20%20%20%20%20%20%20%20%20%20%7B%7D%0A%20%20%20%20%20%20%20%20%20%20%20%20%29.addTo%28marker_cluster_ada872b66f8d4492ab77f3dff857f701%29%3B%0A%20%20%20%20%20%20%20%20%0A%20%20%20%20%0A%20%20%20%20%20%20%20%20%20%20%20%20var%20icon_ae08db45ed0845f0809b1c801e76e984%20%3D%20L.AwesomeMarkers.icon%28%0A%20%20%20%20%20%20%20%20%20%20%20%20%20%20%20%20%7B%22extraClasses%22%3A%20%22fa-rotate-0%22%2C%20%22icon%22%3A%20%22bicycle%22%2C%20%22iconColor%22%3A%20%22white%22%2C%20%22markerColor%22%3A%20%22darkblue%22%2C%20%22prefix%22%3A%20%22fa%22%7D%0A%20%20%20%20%20%20%20%20%20%20%20%20%29%3B%0A%20%20%20%20%20%20%20%20%20%20%20%20marker_f1d5ee53b090466a9b9e365976570caa.setIcon%28icon_ae08db45ed0845f0809b1c801e76e984%29%3B%0A%20%20%20%20%20%20%20%20%0A%20%20%20%20%0A%20%20%20%20%20%20%20%20var%20popup_524eab075ab343a4a868f62b5337d039%20%3D%20L.popup%28%7B%22maxWidth%22%3A%20%22100%25%22%7D%29%3B%0A%0A%20%20%20%20%20%20%20%20%0A%20%20%20%20%20%20%20%20%20%20%20%20var%20html_6cea62bebd6e404b9ccd43d49930c308%20%3D%20%24%28%60%3Cdiv%20id%3D%22html_6cea62bebd6e404b9ccd43d49930c308%22%20style%3D%22width%3A%20100.0%25%3B%20height%3A%20100.0%25%3B%22%3EId%3A%201874%3Cbr%3ETesco%20Ferrymuir%3Cbr%3EDescription%3A%20Outside%20supermarket%3Cbr%3E%3Cbr%3ECounts%3A%20219%3C/div%3E%60%29%5B0%5D%3B%0A%20%20%20%20%20%20%20%20%20%20%20%20popup_524eab075ab343a4a868f62b5337d039.setContent%28html_6cea62bebd6e404b9ccd43d49930c308%29%3B%0A%20%20%20%20%20%20%20%20%0A%0A%20%20%20%20%20%20%20%20marker_f1d5ee53b090466a9b9e365976570caa.bindPopup%28popup_524eab075ab343a4a868f62b5337d039%29%0A%20%20%20%20%20%20%20%20%3B%0A%0A%20%20%20%20%20%20%20%20%0A%20%20%20%20%0A%20%20%20%20%0A%20%20%20%20%20%20%20%20%20%20%20%20var%20marker_b1dd2476d7bf4e108df76f943452d829%20%3D%20L.marker%28%0A%20%20%20%20%20%20%20%20%20%20%20%20%20%20%20%20%5B55.94396074176487%2C%20-3.058306836702485%5D%2C%0A%20%20%20%20%20%20%20%20%20%20%20%20%20%20%20%20%7B%7D%0A%20%20%20%20%20%20%20%20%20%20%20%20%29.addTo%28marker_cluster_ada872b66f8d4492ab77f3dff857f701%29%3B%0A%20%20%20%20%20%20%20%20%0A%20%20%20%20%0A%20%20%20%20%20%20%20%20%20%20%20%20var%20icon_2426e1f0786f413e8bf13b4a04111381%20%3D%20L.AwesomeMarkers.icon%28%0A%20%20%20%20%20%20%20%20%20%20%20%20%20%20%20%20%7B%22extraClasses%22%3A%20%22fa-rotate-0%22%2C%20%22icon%22%3A%20%22bicycle%22%2C%20%22iconColor%22%3A%20%22white%22%2C%20%22markerColor%22%3A%20%22darkblue%22%2C%20%22prefix%22%3A%20%22fa%22%7D%0A%20%20%20%20%20%20%20%20%20%20%20%20%29%3B%0A%20%20%20%20%20%20%20%20%20%20%20%20marker_b1dd2476d7bf4e108df76f943452d829.setIcon%28icon_2426e1f0786f413e8bf13b4a04111381%29%3B%0A%20%20%20%20%20%20%20%20%0A%20%20%20%20%0A%20%20%20%20%20%20%20%20var%20popup_02a47fdc32aa44198bc0af9d78face64%20%3D%20L.popup%28%7B%22maxWidth%22%3A%20%22100%25%22%7D%29%3B%0A%0A%20%20%20%20%20%20%20%20%0A%20%20%20%20%20%20%20%20%20%20%20%20var%20html_ba90f87279be4182b017030806fe3593%20%3D%20%24%28%60%3Cdiv%20id%3D%22html_ba90f87279be4182b017030806fe3593%22%20style%3D%22width%3A%20100.0%25%3B%20height%3A%20100.0%25%3B%22%3EId%3A%202265%3Cbr%3EMusselburgh%20Brunton%20Hall%3Cbr%3EDescription%3A%20Adjacent%20to%20the%20Brunton%20Theatre%20%3Cbr%3E%3Cbr%3ECounts%3A%20211%3C/div%3E%60%29%5B0%5D%3B%0A%20%20%20%20%20%20%20%20%20%20%20%20popup_02a47fdc32aa44198bc0af9d78face64.setContent%28html_ba90f87279be4182b017030806fe3593%29%3B%0A%20%20%20%20%20%20%20%20%0A%0A%20%20%20%20%20%20%20%20marker_b1dd2476d7bf4e108df76f943452d829.bindPopup%28popup_02a47fdc32aa44198bc0af9d78face64%29%0A%20%20%20%20%20%20%20%20%3B%0A%0A%20%20%20%20%20%20%20%20%0A%20%20%20%20%0A%20%20%20%20%0A%20%20%20%20%20%20%20%20%20%20%20%20var%20marker_753a1494b08a4cbc8f873e0c5b7580b7%20%3D%20L.marker%28%0A%20%20%20%20%20%20%20%20%20%20%20%20%20%20%20%20%5B55.992957267668345%2C%20-3.407156205559118%5D%2C%0A%20%20%20%20%20%20%20%20%20%20%20%20%20%20%20%20%7B%7D%0A%20%20%20%20%20%20%20%20%20%20%20%20%29.addTo%28marker_cluster_ada872b66f8d4492ab77f3dff857f701%29%3B%0A%20%20%20%20%20%20%20%20%0A%20%20%20%20%0A%20%20%20%20%20%20%20%20%20%20%20%20var%20icon_1019e6bcc4bd4349be51bd8ad632419a%20%3D%20L.AwesomeMarkers.icon%28%0A%20%20%20%20%20%20%20%20%20%20%20%20%20%20%20%20%7B%22extraClasses%22%3A%20%22fa-rotate-0%22%2C%20%22icon%22%3A%20%22bicycle%22%2C%20%22iconColor%22%3A%20%22white%22%2C%20%22markerColor%22%3A%20%22darkblue%22%2C%20%22prefix%22%3A%20%22fa%22%7D%0A%20%20%20%20%20%20%20%20%20%20%20%20%29%3B%0A%20%20%20%20%20%20%20%20%20%20%20%20marker_753a1494b08a4cbc8f873e0c5b7580b7.setIcon%28icon_1019e6bcc4bd4349be51bd8ad632419a%29%3B%0A%20%20%20%20%20%20%20%20%0A%20%20%20%20%0A%20%20%20%20%20%20%20%20var%20popup_d998334b499e466f9855e17a36045cc2%20%3D%20L.popup%28%7B%22maxWidth%22%3A%20%22100%25%22%7D%29%3B%0A%0A%20%20%20%20%20%20%20%20%0A%20%20%20%20%20%20%20%20%20%20%20%20var%20html_29f41c7733f4401188e282a09418ff57%20%3D%20%24%28%60%3Cdiv%20id%3D%22html_29f41c7733f4401188e282a09418ff57%22%20style%3D%22width%3A%20100.0%25%3B%20height%3A%20100.0%25%3B%22%3EId%3A%201877%3Cbr%3EPort%20Edgar%20Marina%3Cbr%3EDescription%3A%20Next%20to%20Marina%20Shop%20and%20Restaurant%3Cbr%3E%3Cbr%3ECounts%3A%20195%3C/div%3E%60%29%5B0%5D%3B%0A%20%20%20%20%20%20%20%20%20%20%20%20popup_d998334b499e466f9855e17a36045cc2.setContent%28html_29f41c7733f4401188e282a09418ff57%29%3B%0A%20%20%20%20%20%20%20%20%0A%0A%20%20%20%20%20%20%20%20marker_753a1494b08a4cbc8f873e0c5b7580b7.bindPopup%28popup_d998334b499e466f9855e17a36045cc2%29%0A%20%20%20%20%20%20%20%20%3B%0A%0A%20%20%20%20%20%20%20%20%0A%20%20%20%20%0A%20%20%20%20%0A%20%20%20%20%20%20%20%20%20%20%20%20var%20marker_4845c5a4fdda4938aab34c9864e98074%20%3D%20L.marker%28%0A%20%20%20%20%20%20%20%20%20%20%20%20%20%20%20%20%5B55.94034806856411%2C%20-3.172108169850503%5D%2C%0A%20%20%20%20%20%20%20%20%20%20%20%20%20%20%20%20%7B%7D%0A%20%20%20%20%20%20%20%20%20%20%20%20%29.addTo%28marker_cluster_ada872b66f8d4492ab77f3dff857f701%29%3B%0A%20%20%20%20%20%20%20%20%0A%20%20%20%20%0A%20%20%20%20%20%20%20%20%20%20%20%20var%20icon_9470185c0eb644f58ee93da9752d7dce%20%3D%20L.AwesomeMarkers.icon%28%0A%20%20%20%20%20%20%20%20%20%20%20%20%20%20%20%20%7B%22extraClasses%22%3A%20%22fa-rotate-0%22%2C%20%22icon%22%3A%20%22bicycle%22%2C%20%22iconColor%22%3A%20%22white%22%2C%20%22markerColor%22%3A%20%22darkblue%22%2C%20%22prefix%22%3A%20%22fa%22%7D%0A%20%20%20%20%20%20%20%20%20%20%20%20%29%3B%0A%20%20%20%20%20%20%20%20%20%20%20%20marker_4845c5a4fdda4938aab34c9864e98074.setIcon%28icon_9470185c0eb644f58ee93da9752d7dce%29%3B%0A%20%20%20%20%20%20%20%20%0A%20%20%20%20%0A%20%20%20%20%20%20%20%20var%20popup_13993483e50a4f008f78901b8b7e0d10%20%3D%20L.popup%28%7B%22maxWidth%22%3A%20%22100%25%22%7D%29%3B%0A%0A%20%20%20%20%20%20%20%20%0A%20%20%20%20%20%20%20%20%20%20%20%20var%20html_63356d4f490e468e90333bcf923afd47%20%3D%20%24%28%60%3Cdiv%20id%3D%22html_63356d4f490e468e90333bcf923afd47%22%20style%3D%22width%3A%20100.0%25%3B%20height%3A%20100.0%25%3B%22%3EId%3A%20860%3Cbr%3EPollock%20Halls%20Virtual%3Cbr%3EDescription%3A%20On%20pavement%20corner%20by%20the%20entrance%20gates%3Cbr%3E%3Cbr%3ECounts%3A%20191%3C/div%3E%60%29%5B0%5D%3B%0A%20%20%20%20%20%20%20%20%20%20%20%20popup_13993483e50a4f008f78901b8b7e0d10.setContent%28html_63356d4f490e468e90333bcf923afd47%29%3B%0A%20%20%20%20%20%20%20%20%0A%0A%20%20%20%20%20%20%20%20marker_4845c5a4fdda4938aab34c9864e98074.bindPopup%28popup_13993483e50a4f008f78901b8b7e0d10%29%0A%20%20%20%20%20%20%20%20%3B%0A%0A%20%20%20%20%20%20%20%20%0A%20%20%20%20%0A%20%20%20%20%0A%20%20%20%20%20%20%20%20%20%20%20%20var%20marker_418aafce41bf4e8ebaaeb0a3c7ee959f%20%3D%20L.marker%28%0A%20%20%20%20%20%20%20%20%20%20%20%20%20%20%20%20%5B55.9387919459937%2C%20-3.355556216932513%5D%2C%0A%20%20%20%20%20%20%20%20%20%20%20%20%20%20%20%20%7B%7D%0A%20%20%20%20%20%20%20%20%20%20%20%20%29.addTo%28marker_cluster_ada872b66f8d4492ab77f3dff857f701%29%3B%0A%20%20%20%20%20%20%20%20%0A%20%20%20%20%0A%20%20%20%20%20%20%20%20%20%20%20%20var%20icon_522ac59d37b84d64ab95e285a656bfdf%20%3D%20L.AwesomeMarkers.icon%28%0A%20%20%20%20%20%20%20%20%20%20%20%20%20%20%20%20%7B%22extraClasses%22%3A%20%22fa-rotate-0%22%2C%20%22icon%22%3A%20%22bicycle%22%2C%20%22iconColor%22%3A%20%22white%22%2C%20%22markerColor%22%3A%20%22darkblue%22%2C%20%22prefix%22%3A%20%22fa%22%7D%0A%20%20%20%20%20%20%20%20%20%20%20%20%29%3B%0A%20%20%20%20%20%20%20%20%20%20%20%20marker_418aafce41bf4e8ebaaeb0a3c7ee959f.setIcon%28icon_522ac59d37b84d64ab95e285a656bfdf%29%3B%0A%20%20%20%20%20%20%20%20%0A%20%20%20%20%0A%20%20%20%20%20%20%20%20var%20popup_604fc47a6f4743898ebfd97aefb2ec9d%20%3D%20L.popup%28%7B%22maxWidth%22%3A%20%22100%25%22%7D%29%3B%0A%0A%20%20%20%20%20%20%20%20%0A%20%20%20%20%20%20%20%20%20%20%20%20var%20html_1978f9d2eb9f40949e726071b603f52b%20%3D%20%24%28%60%3Cdiv%20id%3D%22html_1978f9d2eb9f40949e726071b603f52b%22%20style%3D%22width%3A%20100.0%25%3B%20height%3A%20100.0%25%3B%22%3EId%3A%201860%3Cbr%3EIngliston%20Park%20%26%20Ride%3Cbr%3EDescription%3A%20Next%20to%20Customer%20Service%20building%3Cbr%3E%3Cbr%3ECounts%3A%20136%3C/div%3E%60%29%5B0%5D%3B%0A%20%20%20%20%20%20%20%20%20%20%20%20popup_604fc47a6f4743898ebfd97aefb2ec9d.setContent%28html_1978f9d2eb9f40949e726071b603f52b%29%3B%0A%20%20%20%20%20%20%20%20%0A%0A%20%20%20%20%20%20%20%20marker_418aafce41bf4e8ebaaeb0a3c7ee959f.bindPopup%28popup_604fc47a6f4743898ebfd97aefb2ec9d%29%0A%20%20%20%20%20%20%20%20%3B%0A%0A%20%20%20%20%20%20%20%20%0A%20%20%20%20%0A%20%20%20%20%0A%20%20%20%20%20%20%20%20%20%20%20%20var%20marker_55817667d0bc4251889824c2feef5bde%20%3D%20L.marker%28%0A%20%20%20%20%20%20%20%20%20%20%20%20%20%20%20%20%5B55.97424715757633%2C%20-3.194482342104265%5D%2C%0A%20%20%20%20%20%20%20%20%20%20%20%20%20%20%20%20%7B%7D%0A%20%20%20%20%20%20%20%20%20%20%20%20%29.addTo%28marker_cluster_ada872b66f8d4492ab77f3dff857f701%29%3B%0A%20%20%20%20%20%20%20%20%0A%20%20%20%20%0A%20%20%20%20%20%20%20%20%20%20%20%20var%20icon_43d84543ed474fcaab3ba436ed3316d3%20%3D%20L.AwesomeMarkers.icon%28%0A%20%20%20%20%20%20%20%20%20%20%20%20%20%20%20%20%7B%22extraClasses%22%3A%20%22fa-rotate-0%22%2C%20%22icon%22%3A%20%22bicycle%22%2C%20%22iconColor%22%3A%20%22white%22%2C%20%22markerColor%22%3A%20%22darkblue%22%2C%20%22prefix%22%3A%20%22fa%22%7D%0A%20%20%20%20%20%20%20%20%20%20%20%20%29%3B%0A%20%20%20%20%20%20%20%20%20%20%20%20marker_55817667d0bc4251889824c2feef5bde.setIcon%28icon_43d84543ed474fcaab3ba436ed3316d3%29%3B%0A%20%20%20%20%20%20%20%20%0A%20%20%20%20%0A%20%20%20%20%20%20%20%20var%20popup_bc42c62da3674e44bfe5f11e57e061f8%20%3D%20L.popup%28%7B%22maxWidth%22%3A%20%22100%25%22%7D%29%3B%0A%0A%20%20%20%20%20%20%20%20%0A%20%20%20%20%20%20%20%20%20%20%20%20var%20html_45fb71d40eeb4b5aa123aa7ddef9b174%20%3D%20%24%28%60%3Cdiv%20id%3D%22html_45fb71d40eeb4b5aa123aa7ddef9b174%22%20style%3D%22width%3A%20100.0%25%3B%20height%3A%20100.0%25%3B%22%3EId%3A%20266%3Cbr%3EVictoria%20Park%3Cbr%3EDescription%3A%20Near%20Craighall%20Road%3Cbr%3E%3Cbr%3ECounts%3A%20135%3C/div%3E%60%29%5B0%5D%3B%0A%20%20%20%20%20%20%20%20%20%20%20%20popup_bc42c62da3674e44bfe5f11e57e061f8.setContent%28html_45fb71d40eeb4b5aa123aa7ddef9b174%29%3B%0A%20%20%20%20%20%20%20%20%0A%0A%20%20%20%20%20%20%20%20marker_55817667d0bc4251889824c2feef5bde.bindPopup%28popup_bc42c62da3674e44bfe5f11e57e061f8%29%0A%20%20%20%20%20%20%20%20%3B%0A%0A%20%20%20%20%20%20%20%20%0A%20%20%20%20%0A%20%20%20%20%0A%20%20%20%20%20%20%20%20%20%20%20%20var%20marker_c4522ad6775045149fde7d2dae543abf%20%3D%20L.marker%28%0A%20%20%20%20%20%20%20%20%20%20%20%20%20%20%20%20%5B55.94211968183478%2C%20-3.269279523944419%5D%2C%0A%20%20%20%20%20%20%20%20%20%20%20%20%20%20%20%20%7B%7D%0A%20%20%20%20%20%20%20%20%20%20%20%20%29.addTo%28marker_cluster_ada872b66f8d4492ab77f3dff857f701%29%3B%0A%20%20%20%20%20%20%20%20%0A%20%20%20%20%0A%20%20%20%20%20%20%20%20%20%20%20%20var%20icon_a66432f4498e460ea0914a57172db42a%20%3D%20L.AwesomeMarkers.icon%28%0A%20%20%20%20%20%20%20%20%20%20%20%20%20%20%20%20%7B%22extraClasses%22%3A%20%22fa-rotate-0%22%2C%20%22icon%22%3A%20%22bicycle%22%2C%20%22iconColor%22%3A%20%22white%22%2C%20%22markerColor%22%3A%20%22darkblue%22%2C%20%22prefix%22%3A%20%22fa%22%7D%0A%20%20%20%20%20%20%20%20%20%20%20%20%29%3B%0A%20%20%20%20%20%20%20%20%20%20%20%20marker_c4522ad6775045149fde7d2dae543abf.setIcon%28icon_a66432f4498e460ea0914a57172db42a%29%3B%0A%20%20%20%20%20%20%20%20%0A%20%20%20%20%0A%20%20%20%20%20%20%20%20var%20popup_bb9dd1968ff5480982723a3721eb709d%20%3D%20L.popup%28%7B%22maxWidth%22%3A%20%22100%25%22%7D%29%3B%0A%0A%20%20%20%20%20%20%20%20%0A%20%20%20%20%20%20%20%20%20%20%20%20var%20html_9e55bdcc55f2458bb245c05717ea3a60%20%3D%20%24%28%60%3Cdiv%20id%3D%22html_9e55bdcc55f2458bb245c05717ea3a60%22%20style%3D%22width%3A%20100.0%25%3B%20height%3A%20100.0%25%3B%22%3EId%3A%20874%3Cbr%3EEdinburgh%20Zoo%3Cbr%3EDescription%3A%20Outside%20zoo%20gatehouse%3Cbr%3E%3Cbr%3ECounts%3A%20129%3C/div%3E%60%29%5B0%5D%3B%0A%20%20%20%20%20%20%20%20%20%20%20%20popup_bb9dd1968ff5480982723a3721eb709d.setContent%28html_9e55bdcc55f2458bb245c05717ea3a60%29%3B%0A%20%20%20%20%20%20%20%20%0A%0A%20%20%20%20%20%20%20%20marker_c4522ad6775045149fde7d2dae543abf.bindPopup%28popup_bb9dd1968ff5480982723a3721eb709d%29%0A%20%20%20%20%20%20%20%20%3B%0A%0A%20%20%20%20%20%20%20%20%0A%20%20%20%20%0A%20%20%20%20%0A%20%20%20%20%20%20%20%20%20%20%20%20var%20marker_dc0907944bc54830b7a54dea5938a830%20%3D%20L.marker%28%0A%20%20%20%20%20%20%20%20%20%20%20%20%20%20%20%20%5B55.98110725959637%2C%20-3.39421060796127%5D%2C%0A%20%20%20%20%20%20%20%20%20%20%20%20%20%20%20%20%7B%7D%0A%20%20%20%20%20%20%20%20%20%20%20%20%29.addTo%28marker_cluster_ada872b66f8d4492ab77f3dff857f701%29%3B%0A%20%20%20%20%20%20%20%20%0A%20%20%20%20%0A%20%20%20%20%20%20%20%20%20%20%20%20var%20icon_df6bc13d78354c2aac443ae2f4c32f58%20%3D%20L.AwesomeMarkers.icon%28%0A%20%20%20%20%20%20%20%20%20%20%20%20%20%20%20%20%7B%22extraClasses%22%3A%20%22fa-rotate-0%22%2C%20%22icon%22%3A%20%22bicycle%22%2C%20%22iconColor%22%3A%20%22white%22%2C%20%22markerColor%22%3A%20%22darkblue%22%2C%20%22prefix%22%3A%20%22fa%22%7D%0A%20%20%20%20%20%20%20%20%20%20%20%20%29%3B%0A%20%20%20%20%20%20%20%20%20%20%20%20marker_dc0907944bc54830b7a54dea5938a830.setIcon%28icon_df6bc13d78354c2aac443ae2f4c32f58%29%3B%0A%20%20%20%20%20%20%20%20%0A%20%20%20%20%0A%20%20%20%20%20%20%20%20var%20popup_a07f8a34057e4a9bb41b09918bc69f07%20%3D%20L.popup%28%7B%22maxWidth%22%3A%20%22100%25%22%7D%29%3B%0A%0A%20%20%20%20%20%20%20%20%0A%20%20%20%20%20%20%20%20%20%20%20%20var%20html_43d2f01009be486d8613a50ed6e4c4eb%20%3D%20%24%28%60%3Cdiv%20id%3D%22html_43d2f01009be486d8613a50ed6e4c4eb%22%20style%3D%22width%3A%20100.0%25%3B%20height%3A%20100.0%25%3B%22%3EId%3A%201871%3Cbr%3EScotstoun%20House%3Cbr%3EDescription%3A%20ARUP%20Edinburgh%3Cbr%3E%3Cbr%3ECounts%3A%20128%3C/div%3E%60%29%5B0%5D%3B%0A%20%20%20%20%20%20%20%20%20%20%20%20popup_a07f8a34057e4a9bb41b09918bc69f07.setContent%28html_43d2f01009be486d8613a50ed6e4c4eb%29%3B%0A%20%20%20%20%20%20%20%20%0A%0A%20%20%20%20%20%20%20%20marker_dc0907944bc54830b7a54dea5938a830.bindPopup%28popup_a07f8a34057e4a9bb41b09918bc69f07%29%0A%20%20%20%20%20%20%20%20%3B%0A%0A%20%20%20%20%20%20%20%20%0A%20%20%20%20%0A%20%20%20%20%0A%20%20%20%20%20%20%20%20%20%20%20%20var%20marker_a04fdebff7ff449e9ce11c366c3217da%20%3D%20L.marker%28%0A%20%20%20%20%20%20%20%20%20%20%20%20%20%20%20%20%5B55.95791033111316%2C%20-3.180692837632364%5D%2C%0A%20%20%20%20%20%20%20%20%20%20%20%20%20%20%20%20%7B%7D%0A%20%20%20%20%20%20%20%20%20%20%20%20%29.addTo%28marker_cluster_ada872b66f8d4492ab77f3dff857f701%29%3B%0A%20%20%20%20%20%20%20%20%0A%20%20%20%20%0A%20%20%20%20%20%20%20%20%20%20%20%20var%20icon_d683343a700344fb8c5b58531aea034b%20%3D%20L.AwesomeMarkers.icon%28%0A%20%20%20%20%20%20%20%20%20%20%20%20%20%20%20%20%7B%22extraClasses%22%3A%20%22fa-rotate-0%22%2C%20%22icon%22%3A%20%22bicycle%22%2C%20%22iconColor%22%3A%20%22white%22%2C%20%22markerColor%22%3A%20%22darkblue%22%2C%20%22prefix%22%3A%20%22fa%22%7D%0A%20%20%20%20%20%20%20%20%20%20%20%20%29%3B%0A%20%20%20%20%20%20%20%20%20%20%20%20marker_a04fdebff7ff449e9ce11c366c3217da.setIcon%28icon_d683343a700344fb8c5b58531aea034b%29%3B%0A%20%20%20%20%20%20%20%20%0A%20%20%20%20%0A%20%20%20%20%20%20%20%20var%20popup_c58f01cb1d1c4e86b84a4b21fe3bc288%20%3D%20L.popup%28%7B%22maxWidth%22%3A%20%22100%25%22%7D%29%3B%0A%0A%20%20%20%20%20%20%20%20%0A%20%20%20%20%20%20%20%20%20%20%20%20var%20html_5c59563bf69a4100a0c1e57287b551a9%20%3D%20%24%28%60%3Cdiv%20id%3D%22html_5c59563bf69a4100a0c1e57287b551a9%22%20style%3D%22width%3A%20100.0%25%3B%20height%3A%20100.0%25%3B%22%3EId%3A%20869%3Cbr%3EHillside%20Crescent%201%3Cbr%3EDescription%3A%20West%20corner%20of%20Hillside%20Crescent%20%26%20London%20Road%3Cbr%3E%3Cbr%3ECounts%3A%20123%3C/div%3E%60%29%5B0%5D%3B%0A%20%20%20%20%20%20%20%20%20%20%20%20popup_c58f01cb1d1c4e86b84a4b21fe3bc288.setContent%28html_5c59563bf69a4100a0c1e57287b551a9%29%3B%0A%20%20%20%20%20%20%20%20%0A%0A%20%20%20%20%20%20%20%20marker_a04fdebff7ff449e9ce11c366c3217da.bindPopup%28popup_c58f01cb1d1c4e86b84a4b21fe3bc288%29%0A%20%20%20%20%20%20%20%20%3B%0A%0A%20%20%20%20%20%20%20%20%0A%20%20%20%20%0A%20%20%20%20%0A%20%20%20%20%20%20%20%20%20%20%20%20var%20marker_eb7b384287c24a3ea971d4f3a89aab66%20%3D%20L.marker%28%0A%20%20%20%20%20%20%20%20%20%20%20%20%20%20%20%20%5B55.94969158307013%2C%20-3.18781281937504%5D%2C%0A%20%20%20%20%20%20%20%20%20%20%20%20%20%20%20%20%7B%7D%0A%20%20%20%20%20%20%20%20%20%20%20%20%29.addTo%28marker_cluster_ada872b66f8d4492ab77f3dff857f701%29%3B%0A%20%20%20%20%20%20%20%20%0A%20%20%20%20%0A%20%20%20%20%20%20%20%20%20%20%20%20var%20icon_383e57a4d9e9487f918ac747269de301%20%3D%20L.AwesomeMarkers.icon%28%0A%20%20%20%20%20%20%20%20%20%20%20%20%20%20%20%20%7B%22extraClasses%22%3A%20%22fa-rotate-0%22%2C%20%22icon%22%3A%20%22bicycle%22%2C%20%22iconColor%22%3A%20%22white%22%2C%20%22markerColor%22%3A%20%22darkblue%22%2C%20%22prefix%22%3A%20%22fa%22%7D%0A%20%20%20%20%20%20%20%20%20%20%20%20%29%3B%0A%20%20%20%20%20%20%20%20%20%20%20%20marker_eb7b384287c24a3ea971d4f3a89aab66.setIcon%28icon_383e57a4d9e9487f918ac747269de301%29%3B%0A%20%20%20%20%20%20%20%20%0A%20%20%20%20%0A%20%20%20%20%20%20%20%20var%20popup_da4a7bffa69441fbac1d57ff27dfb0e2%20%3D%20L.popup%28%7B%22maxWidth%22%3A%20%22100%25%22%7D%29%3B%0A%0A%20%20%20%20%20%20%20%20%0A%20%20%20%20%20%20%20%20%20%20%20%20var%20html_0d645ecaf3a54ceab56ec187614a2cd9%20%3D%20%24%28%60%3Cdiv%20id%3D%22html_0d645ecaf3a54ceab56ec187614a2cd9%22%20style%3D%22width%3A%20100.0%25%3B%20height%3A%20100.0%25%3B%22%3EId%3A%201018%3Cbr%3EHunter%20Square%3Cbr%3EDescription%3A%20Next%20to%20Tron%20Kirk%20at%20top%20of%20Blair%20Street%3Cbr%3E%3Cbr%3ECounts%3A%20113%3C/div%3E%60%29%5B0%5D%3B%0A%20%20%20%20%20%20%20%20%20%20%20%20popup_da4a7bffa69441fbac1d57ff27dfb0e2.setContent%28html_0d645ecaf3a54ceab56ec187614a2cd9%29%3B%0A%20%20%20%20%20%20%20%20%0A%0A%20%20%20%20%20%20%20%20marker_eb7b384287c24a3ea971d4f3a89aab66.bindPopup%28popup_da4a7bffa69441fbac1d57ff27dfb0e2%29%0A%20%20%20%20%20%20%20%20%3B%0A%0A%20%20%20%20%20%20%20%20%0A%20%20%20%20%0A%20%20%20%20%0A%20%20%20%20%20%20%20%20%20%20%20%20var%20marker_2c47e9baa3f541f8a49ff03fd402e691%20%3D%20L.marker%28%0A%20%20%20%20%20%20%20%20%20%20%20%20%20%20%20%20%5B55.96403450946105%2C%20-3.195673725279903%5D%2C%0A%20%20%20%20%20%20%20%20%20%20%20%20%20%20%20%20%7B%7D%0A%20%20%20%20%20%20%20%20%20%20%20%20%29.addTo%28marker_cluster_ada872b66f8d4492ab77f3dff857f701%29%3B%0A%20%20%20%20%20%20%20%20%0A%20%20%20%20%0A%20%20%20%20%20%20%20%20%20%20%20%20var%20icon_204b5c40e5914d70bf60801302b6d102%20%3D%20L.AwesomeMarkers.icon%28%0A%20%20%20%20%20%20%20%20%20%20%20%20%20%20%20%20%7B%22extraClasses%22%3A%20%22fa-rotate-0%22%2C%20%22icon%22%3A%20%22bicycle%22%2C%20%22iconColor%22%3A%20%22white%22%2C%20%22markerColor%22%3A%20%22darkblue%22%2C%20%22prefix%22%3A%20%22fa%22%7D%0A%20%20%20%20%20%20%20%20%20%20%20%20%29%3B%0A%20%20%20%20%20%20%20%20%20%20%20%20marker_2c47e9baa3f541f8a49ff03fd402e691.setIcon%28icon_204b5c40e5914d70bf60801302b6d102%29%3B%0A%20%20%20%20%20%20%20%20%0A%20%20%20%20%0A%20%20%20%20%20%20%20%20var%20popup_70591da770104f1f9b8783884787a31d%20%3D%20L.popup%28%7B%22maxWidth%22%3A%20%22100%25%22%7D%29%3B%0A%0A%20%20%20%20%20%20%20%20%0A%20%20%20%20%20%20%20%20%20%20%20%20var%20html_7f585ef710564810a1029dd5c92d85e2%20%3D%20%24%28%60%3Cdiv%20id%3D%22html_7f585ef710564810a1029dd5c92d85e2%22%20style%3D%22width%3A%20100.0%25%3B%20height%3A%20100.0%25%3B%22%3EId%3A%20880%3Cbr%3ELogie%20Green%20Road%3Cbr%3EDescription%3A%20Outside%20Lidl%3Cbr%3E%3Cbr%3ECounts%3A%20109%3C/div%3E%60%29%5B0%5D%3B%0A%20%20%20%20%20%20%20%20%20%20%20%20popup_70591da770104f1f9b8783884787a31d.setContent%28html_7f585ef710564810a1029dd5c92d85e2%29%3B%0A%20%20%20%20%20%20%20%20%0A%0A%20%20%20%20%20%20%20%20marker_2c47e9baa3f541f8a49ff03fd402e691.bindPopup%28popup_70591da770104f1f9b8783884787a31d%29%0A%20%20%20%20%20%20%20%20%3B%0A%0A%20%20%20%20%20%20%20%20%0A%20%20%20%20%0A%20%20%20%20%0A%20%20%20%20%20%20%20%20%20%20%20%20var%20marker_455e40e1fcb64fc5960d121a56c09576%20%3D%20L.marker%28%0A%20%20%20%20%20%20%20%20%20%20%20%20%20%20%20%20%5B55.94405135341408%2C%20-3.098567246199309%5D%2C%0A%20%20%20%20%20%20%20%20%20%20%20%20%20%20%20%20%7B%7D%0A%20%20%20%20%20%20%20%20%20%20%20%20%29.addTo%28marker_cluster_ada872b66f8d4492ab77f3dff857f701%29%3B%0A%20%20%20%20%20%20%20%20%0A%20%20%20%20%0A%20%20%20%20%20%20%20%20%20%20%20%20var%20icon_ae165d3dff164e7dabbffb5170376be5%20%3D%20L.AwesomeMarkers.icon%28%0A%20%20%20%20%20%20%20%20%20%20%20%20%20%20%20%20%7B%22extraClasses%22%3A%20%22fa-rotate-0%22%2C%20%22icon%22%3A%20%22bicycle%22%2C%20%22iconColor%22%3A%20%22white%22%2C%20%22markerColor%22%3A%20%22darkblue%22%2C%20%22prefix%22%3A%20%22fa%22%7D%0A%20%20%20%20%20%20%20%20%20%20%20%20%29%3B%0A%20%20%20%20%20%20%20%20%20%20%20%20marker_455e40e1fcb64fc5960d121a56c09576.setIcon%28icon_ae165d3dff164e7dabbffb5170376be5%29%3B%0A%20%20%20%20%20%20%20%20%0A%20%20%20%20%0A%20%20%20%20%20%20%20%20var%20popup_037077e9a71b47098fc07e80d292c4a8%20%3D%20L.popup%28%7B%22maxWidth%22%3A%20%22100%25%22%7D%29%3B%0A%0A%20%20%20%20%20%20%20%20%0A%20%20%20%20%20%20%20%20%20%20%20%20var%20html_2645c22565c04b42a7f420ed593d0ec8%20%3D%20%24%28%60%3Cdiv%20id%3D%22html_2645c22565c04b42a7f420ed593d0ec8%22%20style%3D%22width%3A%20100.0%25%3B%20height%3A%20100.0%25%3B%22%3EId%3A%201041%3Cbr%3EMilton%20Road%20-%20Edinburgh%20College%3Cbr%3EDescription%3A%20Milton%20Road%20Campus%3Cbr%3E%3Cbr%3ECounts%3A%20102%3C/div%3E%60%29%5B0%5D%3B%0A%20%20%20%20%20%20%20%20%20%20%20%20popup_037077e9a71b47098fc07e80d292c4a8.setContent%28html_2645c22565c04b42a7f420ed593d0ec8%29%3B%0A%20%20%20%20%20%20%20%20%0A%0A%20%20%20%20%20%20%20%20marker_455e40e1fcb64fc5960d121a56c09576.bindPopup%28popup_037077e9a71b47098fc07e80d292c4a8%29%0A%20%20%20%20%20%20%20%20%3B%0A%0A%20%20%20%20%20%20%20%20%0A%20%20%20%20%0A%20%20%20%20%0A%20%20%20%20%20%20%20%20%20%20%20%20var%20marker_213fae1555a84eab9420a3f94e935479%20%3D%20L.marker%28%0A%20%20%20%20%20%20%20%20%20%20%20%20%20%20%20%20%5B55.93193490858167%2C%20-3.073045771766146%5D%2C%0A%20%20%20%20%20%20%20%20%20%20%20%20%20%20%20%20%7B%7D%0A%20%20%20%20%20%20%20%20%20%20%20%20%29.addTo%28marker_cluster_ada872b66f8d4492ab77f3dff857f701%29%3B%0A%20%20%20%20%20%20%20%20%0A%20%20%20%20%0A%20%20%20%20%20%20%20%20%20%20%20%20var%20icon_236a3eb9f32c46818fa3a77a10789d41%20%3D%20L.AwesomeMarkers.icon%28%0A%20%20%20%20%20%20%20%20%20%20%20%20%20%20%20%20%7B%22extraClasses%22%3A%20%22fa-rotate-0%22%2C%20%22icon%22%3A%20%22bicycle%22%2C%20%22iconColor%22%3A%20%22white%22%2C%20%22markerColor%22%3A%20%22darkblue%22%2C%20%22prefix%22%3A%20%22fa%22%7D%0A%20%20%20%20%20%20%20%20%20%20%20%20%29%3B%0A%20%20%20%20%20%20%20%20%20%20%20%20marker_213fae1555a84eab9420a3f94e935479.setIcon%28icon_236a3eb9f32c46818fa3a77a10789d41%29%3B%0A%20%20%20%20%20%20%20%20%0A%20%20%20%20%0A%20%20%20%20%20%20%20%20var%20popup_0a0e892425fc4eafb18be9a929e3d559%20%3D%20L.popup%28%7B%22maxWidth%22%3A%20%22100%25%22%7D%29%3B%0A%0A%20%20%20%20%20%20%20%20%0A%20%20%20%20%20%20%20%20%20%20%20%20var%20html_76bb1509cc344dd284b89e07fb2b875b%20%3D%20%24%28%60%3Cdiv%20id%3D%22html_76bb1509cc344dd284b89e07fb2b875b%22%20style%3D%22width%3A%20100.0%25%3B%20height%3A%20100.0%25%3B%22%3EId%3A%201033%3Cbr%3EQueen%20Margaret%20University%3Cbr%3EDescription%3A%20Opposite%20Maggies%20student%20union%3Cbr%3E%3Cbr%3ECounts%3A%2093%3C/div%3E%60%29%5B0%5D%3B%0A%20%20%20%20%20%20%20%20%20%20%20%20popup_0a0e892425fc4eafb18be9a929e3d559.setContent%28html_76bb1509cc344dd284b89e07fb2b875b%29%3B%0A%20%20%20%20%20%20%20%20%0A%0A%20%20%20%20%20%20%20%20marker_213fae1555a84eab9420a3f94e935479.bindPopup%28popup_0a0e892425fc4eafb18be9a929e3d559%29%0A%20%20%20%20%20%20%20%20%3B%0A%0A%20%20%20%20%20%20%20%20%0A%20%20%20%20%0A%20%20%20%20%0A%20%20%20%20%20%20%20%20%20%20%20%20var%20marker_ff3ad0e5eae94703ac752619cf6f42ad%20%3D%20L.marker%28%0A%20%20%20%20%20%20%20%20%20%20%20%20%20%20%20%20%5B55.96026010209808%2C%20-3.203912595837096%5D%2C%0A%20%20%20%20%20%20%20%20%20%20%20%20%20%20%20%20%7B%7D%0A%20%20%20%20%20%20%20%20%20%20%20%20%29.addTo%28marker_cluster_ada872b66f8d4492ab77f3dff857f701%29%3B%0A%20%20%20%20%20%20%20%20%0A%20%20%20%20%0A%20%20%20%20%20%20%20%20%20%20%20%20var%20icon_1e639fe0b4434b6baab62a79c6b55f15%20%3D%20L.AwesomeMarkers.icon%28%0A%20%20%20%20%20%20%20%20%20%20%20%20%20%20%20%20%7B%22extraClasses%22%3A%20%22fa-rotate-0%22%2C%20%22icon%22%3A%20%22bicycle%22%2C%20%22iconColor%22%3A%20%22white%22%2C%20%22markerColor%22%3A%20%22darkblue%22%2C%20%22prefix%22%3A%20%22fa%22%7D%0A%20%20%20%20%20%20%20%20%20%20%20%20%29%3B%0A%20%20%20%20%20%20%20%20%20%20%20%20marker_ff3ad0e5eae94703ac752619cf6f42ad.setIcon%28icon_1e639fe0b4434b6baab62a79c6b55f15%29%3B%0A%20%20%20%20%20%20%20%20%0A%20%20%20%20%0A%20%20%20%20%20%20%20%20var%20popup_2183f49b91044fce88980c4c0bfae6b7%20%3D%20L.popup%28%7B%22maxWidth%22%3A%20%22100%25%22%7D%29%3B%0A%0A%20%20%20%20%20%20%20%20%0A%20%20%20%20%20%20%20%20%20%20%20%20var%20html_22aa4b4b1a494b919c073586ae1193ef%20%3D%20%24%28%60%3Cdiv%20id%3D%22html_22aa4b4b1a494b919c073586ae1193ef%22%20style%3D%22width%3A%20100.0%25%3B%20height%3A%20100.0%25%3B%22%3EId%3A%20867%3Cbr%3EHenderson%20Row%3Cbr%3EDescription%3A%20Next%20to%20the%20Edinburgh%20Academy%3Cbr%3E%3Cbr%3ECounts%3A%2091%3C/div%3E%60%29%5B0%5D%3B%0A%20%20%20%20%20%20%20%20%20%20%20%20popup_2183f49b91044fce88980c4c0bfae6b7.setContent%28html_22aa4b4b1a494b919c073586ae1193ef%29%3B%0A%20%20%20%20%20%20%20%20%0A%0A%20%20%20%20%20%20%20%20marker_ff3ad0e5eae94703ac752619cf6f42ad.bindPopup%28popup_2183f49b91044fce88980c4c0bfae6b7%29%0A%20%20%20%20%20%20%20%20%3B%0A%0A%20%20%20%20%20%20%20%20%0A%20%20%20%20%0A%20%20%20%20%0A%20%20%20%20%20%20%20%20%20%20%20%20var%20marker_2b5e294329c741e9bc303f4d6211319d%20%3D%20L.marker%28%0A%20%20%20%20%20%20%20%20%20%20%20%20%20%20%20%20%5B55.93893772779211%2C%20-3.251173333050928%5D%2C%0A%20%20%20%20%20%20%20%20%20%20%20%20%20%20%20%20%7B%7D%0A%20%20%20%20%20%20%20%20%20%20%20%20%29.addTo%28marker_cluster_ada872b66f8d4492ab77f3dff857f701%29%3B%0A%20%20%20%20%20%20%20%20%0A%20%20%20%20%0A%20%20%20%20%20%20%20%20%20%20%20%20var%20icon_e2cd70912af84666b24c5ab8272fda28%20%3D%20L.AwesomeMarkers.icon%28%0A%20%20%20%20%20%20%20%20%20%20%20%20%20%20%20%20%7B%22extraClasses%22%3A%20%22fa-rotate-0%22%2C%20%22icon%22%3A%20%22bicycle%22%2C%20%22iconColor%22%3A%20%22white%22%2C%20%22markerColor%22%3A%20%22darkblue%22%2C%20%22prefix%22%3A%20%22fa%22%7D%0A%20%20%20%20%20%20%20%20%20%20%20%20%29%3B%0A%20%20%20%20%20%20%20%20%20%20%20%20marker_2b5e294329c741e9bc303f4d6211319d.setIcon%28icon_e2cd70912af84666b24c5ab8272fda28%29%3B%0A%20%20%20%20%20%20%20%20%0A%20%20%20%20%0A%20%20%20%20%20%20%20%20var%20popup_ccae68f7c7454493969d0c787fa36af6%20%3D%20L.popup%28%7B%22maxWidth%22%3A%20%22100%25%22%7D%29%3B%0A%0A%20%20%20%20%20%20%20%20%0A%20%20%20%20%20%20%20%20%20%20%20%20var%20html_03f554acaa7347379097b5989230b88d%20%3D%20%24%28%60%3Cdiv%20id%3D%22html_03f554acaa7347379097b5989230b88d%22%20style%3D%22width%3A%20100.0%25%3B%20height%3A%20100.0%25%3B%22%3EId%3A%20878%3Cbr%3EBalgreen%3Cbr%3EDescription%3A%20Opposite%20Jenners%20Depository%3Cbr%3E%3Cbr%3ECounts%3A%2085%3C/div%3E%60%29%5B0%5D%3B%0A%20%20%20%20%20%20%20%20%20%20%20%20popup_ccae68f7c7454493969d0c787fa36af6.setContent%28html_03f554acaa7347379097b5989230b88d%29%3B%0A%20%20%20%20%20%20%20%20%0A%0A%20%20%20%20%20%20%20%20marker_2b5e294329c741e9bc303f4d6211319d.bindPopup%28popup_ccae68f7c7454493969d0c787fa36af6%29%0A%20%20%20%20%20%20%20%20%3B%0A%0A%20%20%20%20%20%20%20%20%0A%20%20%20%20%0A%20%20%20%20%0A%20%20%20%20%20%20%20%20%20%20%20%20var%20marker_7d09306b498f4f8dbb6dd4b03f0f303e%20%3D%20L.marker%28%0A%20%20%20%20%20%20%20%20%20%20%20%20%20%20%20%20%5B55.96152699979099%2C%20-3.306114175491529%5D%2C%0A%20%20%20%20%20%20%20%20%20%20%20%20%20%20%20%20%7B%7D%0A%20%20%20%20%20%20%20%20%20%20%20%20%29.addTo%28marker_cluster_ada872b66f8d4492ab77f3dff857f701%29%3B%0A%20%20%20%20%20%20%20%20%0A%20%20%20%20%0A%20%20%20%20%20%20%20%20%20%20%20%20var%20icon_48d72d3ee75d479b9912287a5c5953ec%20%3D%20L.AwesomeMarkers.icon%28%0A%20%20%20%20%20%20%20%20%20%20%20%20%20%20%20%20%7B%22extraClasses%22%3A%20%22fa-rotate-0%22%2C%20%22icon%22%3A%20%22bicycle%22%2C%20%22iconColor%22%3A%20%22white%22%2C%20%22markerColor%22%3A%20%22darkblue%22%2C%20%22prefix%22%3A%20%22fa%22%7D%0A%20%20%20%20%20%20%20%20%20%20%20%20%29%3B%0A%20%20%20%20%20%20%20%20%20%20%20%20marker_7d09306b498f4f8dbb6dd4b03f0f303e.setIcon%28icon_48d72d3ee75d479b9912287a5c5953ec%29%3B%0A%20%20%20%20%20%20%20%20%0A%20%20%20%20%0A%20%20%20%20%20%20%20%20var%20popup_ace8d87d7c4c47478d8119a08990d3d7%20%3D%20L.popup%28%7B%22maxWidth%22%3A%20%22100%25%22%7D%29%3B%0A%0A%20%20%20%20%20%20%20%20%0A%20%20%20%20%20%20%20%20%20%20%20%20var%20html_7687e5f43d7147f89b2eb6e64035345b%20%3D%20%24%28%60%3Cdiv%20id%3D%22html_7687e5f43d7147f89b2eb6e64035345b%22%20style%3D%22width%3A%20100.0%25%3B%20height%3A%20100.0%25%3B%22%3EId%3A%20864%3Cbr%3EWhitehouse%20Road%3Cbr%3EDescription%3A%20Whitehouse%20road%20by%20Sainbury%27s%20%26%20bus%20stop%3Cbr%3E%3Cbr%3ECounts%3A%2062%3C/div%3E%60%29%5B0%5D%3B%0A%20%20%20%20%20%20%20%20%20%20%20%20popup_ace8d87d7c4c47478d8119a08990d3d7.setContent%28html_7687e5f43d7147f89b2eb6e64035345b%29%3B%0A%20%20%20%20%20%20%20%20%0A%0A%20%20%20%20%20%20%20%20marker_7d09306b498f4f8dbb6dd4b03f0f303e.bindPopup%28popup_ace8d87d7c4c47478d8119a08990d3d7%29%0A%20%20%20%20%20%20%20%20%3B%0A%0A%20%20%20%20%20%20%20%20%0A%20%20%20%20%0A%20%20%20%20%0A%20%20%20%20%20%20%20%20%20%20%20%20var%20marker_c6c437818fb247ceb967c2038711dab3%20%3D%20L.marker%28%0A%20%20%20%20%20%20%20%20%20%20%20%20%20%20%20%20%5B55.90878560997055%2C%20-3.320170069082337%5D%2C%0A%20%20%20%20%20%20%20%20%20%20%20%20%20%20%20%20%7B%7D%0A%20%20%20%20%20%20%20%20%20%20%20%20%29.addTo%28marker_cluster_ada872b66f8d4492ab77f3dff857f701%29%3B%0A%20%20%20%20%20%20%20%20%0A%20%20%20%20%0A%20%20%20%20%20%20%20%20%20%20%20%20var%20icon_1e09debd68ed4b44aa9a7b0375d3e087%20%3D%20L.AwesomeMarkers.icon%28%0A%20%20%20%20%20%20%20%20%20%20%20%20%20%20%20%20%7B%22extraClasses%22%3A%20%22fa-rotate-0%22%2C%20%22icon%22%3A%20%22bicycle%22%2C%20%22iconColor%22%3A%20%22white%22%2C%20%22markerColor%22%3A%20%22darkblue%22%2C%20%22prefix%22%3A%20%22fa%22%7D%0A%20%20%20%20%20%20%20%20%20%20%20%20%29%3B%0A%20%20%20%20%20%20%20%20%20%20%20%20marker_c6c437818fb247ceb967c2038711dab3.setIcon%28icon_1e09debd68ed4b44aa9a7b0375d3e087%29%3B%0A%20%20%20%20%20%20%20%20%0A%20%20%20%20%0A%20%20%20%20%20%20%20%20var%20popup_490046115f7148a5b8a424312e62863a%20%3D%20L.popup%28%7B%22maxWidth%22%3A%20%22100%25%22%7D%29%3B%0A%0A%20%20%20%20%20%20%20%20%0A%20%20%20%20%20%20%20%20%20%20%20%20var%20html_f575f2c43bcf41a285c936a1b66c5ba5%20%3D%20%24%28%60%3Cdiv%20id%3D%22html_f575f2c43bcf41a285c936a1b66c5ba5%22%20style%3D%22width%3A%20100.0%25%3B%20height%3A%20100.0%25%3B%22%3EId%3A%201723%3Cbr%3EHeriot%20Watt%20-%20Edinburgh%20Business%20School%3Cbr%3EDescription%3A%20Heriot%20Watt%20-%20Edinburgh%20Business%20School%3Cbr%3E%3Cbr%3ECounts%3A%2062%3C/div%3E%60%29%5B0%5D%3B%0A%20%20%20%20%20%20%20%20%20%20%20%20popup_490046115f7148a5b8a424312e62863a.setContent%28html_f575f2c43bcf41a285c936a1b66c5ba5%29%3B%0A%20%20%20%20%20%20%20%20%0A%0A%20%20%20%20%20%20%20%20marker_c6c437818fb247ceb967c2038711dab3.bindPopup%28popup_490046115f7148a5b8a424312e62863a%29%0A%20%20%20%20%20%20%20%20%3B%0A%0A%20%20%20%20%20%20%20%20%0A%20%20%20%20%0A%20%20%20%20%0A%20%20%20%20%20%20%20%20%20%20%20%20var%20marker_11239aa8716a463aa47edbe6aa440360%20%3D%20L.marker%28%0A%20%20%20%20%20%20%20%20%20%20%20%20%20%20%20%20%5B55.94294485385191%2C%20-3.290794069257344%5D%2C%0A%20%20%20%20%20%20%20%20%20%20%20%20%20%20%20%20%7B%7D%0A%20%20%20%20%20%20%20%20%20%20%20%20%29.addTo%28marker_cluster_ada872b66f8d4492ab77f3dff857f701%29%3B%0A%20%20%20%20%20%20%20%20%0A%20%20%20%20%0A%20%20%20%20%20%20%20%20%20%20%20%20var%20icon_4db71edf730d4146bf07cb417d614d82%20%3D%20L.AwesomeMarkers.icon%28%0A%20%20%20%20%20%20%20%20%20%20%20%20%20%20%20%20%7B%22extraClasses%22%3A%20%22fa-rotate-0%22%2C%20%22icon%22%3A%20%22bicycle%22%2C%20%22iconColor%22%3A%20%22white%22%2C%20%22markerColor%22%3A%20%22darkblue%22%2C%20%22prefix%22%3A%20%22fa%22%7D%0A%20%20%20%20%20%20%20%20%20%20%20%20%29%3B%0A%20%20%20%20%20%20%20%20%20%20%20%20marker_11239aa8716a463aa47edbe6aa440360.setIcon%28icon_4db71edf730d4146bf07cb417d614d82%29%3B%0A%20%20%20%20%20%20%20%20%0A%20%20%20%20%0A%20%20%20%20%20%20%20%20var%20popup_4dac794078e44c7696fd6a1da4f9b157%20%3D%20L.popup%28%7B%22maxWidth%22%3A%20%22100%25%22%7D%29%3B%0A%0A%20%20%20%20%20%20%20%20%0A%20%20%20%20%20%20%20%20%20%20%20%20var%20html_d0535d9c75904443a08f272aba569e2e%20%3D%20%24%28%60%3Cdiv%20id%3D%22html_d0535d9c75904443a08f272aba569e2e%22%20style%3D%22width%3A%20100.0%25%3B%20height%3A%20100.0%25%3B%22%3EId%3A%20872%3Cbr%3ESt.%20John%27s%20Road%202%3Cbr%3EDescription%3A%20Outside%20GuitarGuitar%3Cbr%3E%3Cbr%3ECounts%3A%2056%3C/div%3E%60%29%5B0%5D%3B%0A%20%20%20%20%20%20%20%20%20%20%20%20popup_4dac794078e44c7696fd6a1da4f9b157.setContent%28html_d0535d9c75904443a08f272aba569e2e%29%3B%0A%20%20%20%20%20%20%20%20%0A%0A%20%20%20%20%20%20%20%20marker_11239aa8716a463aa47edbe6aa440360.bindPopup%28popup_4dac794078e44c7696fd6a1da4f9b157%29%0A%20%20%20%20%20%20%20%20%3B%0A%0A%20%20%20%20%20%20%20%20%0A%20%20%20%20%0A%20%20%20%20%0A%20%20%20%20%20%20%20%20%20%20%20%20var%20marker_ebdc70e6656940d8baef53dac425db22%20%3D%20L.marker%28%0A%20%20%20%20%20%20%20%20%20%20%20%20%20%20%20%20%5B55.93997775814967%2C%20-3.189862157672223%5D%2C%0A%20%20%20%20%20%20%20%20%20%20%20%20%20%20%20%20%7B%7D%0A%20%20%20%20%20%20%20%20%20%20%20%20%29.addTo%28marker_cluster_ada872b66f8d4492ab77f3dff857f701%29%3B%0A%20%20%20%20%20%20%20%20%0A%20%20%20%20%0A%20%20%20%20%20%20%20%20%20%20%20%20var%20icon_edecf1fa0fbd46618a0dac2f922d375f%20%3D%20L.AwesomeMarkers.icon%28%0A%20%20%20%20%20%20%20%20%20%20%20%20%20%20%20%20%7B%22extraClasses%22%3A%20%22fa-rotate-0%22%2C%20%22icon%22%3A%20%22bicycle%22%2C%20%22iconColor%22%3A%20%22white%22%2C%20%22markerColor%22%3A%20%22darkblue%22%2C%20%22prefix%22%3A%20%22fa%22%7D%0A%20%20%20%20%20%20%20%20%20%20%20%20%29%3B%0A%20%20%20%20%20%20%20%20%20%20%20%20marker_ebdc70e6656940d8baef53dac425db22.setIcon%28icon_edecf1fa0fbd46618a0dac2f922d375f%29%3B%0A%20%20%20%20%20%20%20%20%0A%20%20%20%20%0A%20%20%20%20%20%20%20%20var%20popup_9de2e7bb7c1b473f92c4c19ea8f02a47%20%3D%20L.popup%28%7B%22maxWidth%22%3A%20%22100%25%22%7D%29%3B%0A%0A%20%20%20%20%20%20%20%20%0A%20%20%20%20%20%20%20%20%20%20%20%20var%20html_515eb420b5614ee498422384361c5917%20%3D%20%24%28%60%3Cdiv%20id%3D%22html_515eb420b5614ee498422384361c5917%22%20style%3D%22width%3A%20100.0%25%3B%20height%3A%20100.0%25%3B%22%3EId%3A%201094%3Cbr%3EHSBC%20UK%20Lets%20Ride%20-%20Meadows%20Event%3Cbr%3EDescription%3A%2020%20point%20virtual%20docking%20station%20for%20UK%20lets%20Ride%20Event%3Cbr%3E%3Cbr%3ECounts%3A%2055%3C/div%3E%60%29%5B0%5D%3B%0A%20%20%20%20%20%20%20%20%20%20%20%20popup_9de2e7bb7c1b473f92c4c19ea8f02a47.setContent%28html_515eb420b5614ee498422384361c5917%29%3B%0A%20%20%20%20%20%20%20%20%0A%0A%20%20%20%20%20%20%20%20marker_ebdc70e6656940d8baef53dac425db22.bindPopup%28popup_9de2e7bb7c1b473f92c4c19ea8f02a47%29%0A%20%20%20%20%20%20%20%20%3B%0A%0A%20%20%20%20%20%20%20%20%0A%20%20%20%20%0A%20%20%20%20%0A%20%20%20%20%20%20%20%20%20%20%20%20var%20marker_3036d91d466045de9bac5c561e5419e6%20%3D%20L.marker%28%0A%20%20%20%20%20%20%20%20%20%20%20%20%20%20%20%20%5B55.96953169937321%2C%20-3.307305425252252%5D%2C%0A%20%20%20%20%20%20%20%20%20%20%20%20%20%20%20%20%7B%7D%0A%20%20%20%20%20%20%20%20%20%20%20%20%29.addTo%28marker_cluster_ada872b66f8d4492ab77f3dff857f701%29%3B%0A%20%20%20%20%20%20%20%20%0A%20%20%20%20%0A%20%20%20%20%20%20%20%20%20%20%20%20var%20icon_ce60b3116879457a9efad2954005f6c1%20%3D%20L.AwesomeMarkers.icon%28%0A%20%20%20%20%20%20%20%20%20%20%20%20%20%20%20%20%7B%22extraClasses%22%3A%20%22fa-rotate-0%22%2C%20%22icon%22%3A%20%22bicycle%22%2C%20%22iconColor%22%3A%20%22white%22%2C%20%22markerColor%22%3A%20%22darkblue%22%2C%20%22prefix%22%3A%20%22fa%22%7D%0A%20%20%20%20%20%20%20%20%20%20%20%20%29%3B%0A%20%20%20%20%20%20%20%20%20%20%20%20marker_3036d91d466045de9bac5c561e5419e6.setIcon%28icon_ce60b3116879457a9efad2954005f6c1%29%3B%0A%20%20%20%20%20%20%20%20%0A%20%20%20%20%0A%20%20%20%20%20%20%20%20var%20popup_cb9e92ea964044e3af953baebfed286e%20%3D%20L.popup%28%7B%22maxWidth%22%3A%20%22100%25%22%7D%29%3B%0A%0A%20%20%20%20%20%20%20%20%0A%20%20%20%20%20%20%20%20%20%20%20%20var%20html_add6a50d647944689565167f9d3bbfac%20%3D%20%24%28%60%3Cdiv%20id%3D%22html_add6a50d647944689565167f9d3bbfac%22%20style%3D%22width%3A%20100.0%25%3B%20height%3A%20100.0%25%3B%22%3EId%3A%20863%3Cbr%3EGamekeeper%27s%20Road%3Cbr%3EDescription%3A%20Corner%20of%20Gamekeeper%27s%20Road%20%26%20Whitehouse%20Road%3Cbr%3E%3Cbr%3ECounts%3A%2053%3C/div%3E%60%29%5B0%5D%3B%0A%20%20%20%20%20%20%20%20%20%20%20%20popup_cb9e92ea964044e3af953baebfed286e.setContent%28html_add6a50d647944689565167f9d3bbfac%29%3B%0A%20%20%20%20%20%20%20%20%0A%0A%20%20%20%20%20%20%20%20marker_3036d91d466045de9bac5c561e5419e6.bindPopup%28popup_cb9e92ea964044e3af953baebfed286e%29%0A%20%20%20%20%20%20%20%20%3B%0A%0A%20%20%20%20%20%20%20%20%0A%20%20%20%20%0A%20%20%20%20%0A%20%20%20%20%20%20%20%20%20%20%20%20var%20marker_3b601e6333454806962e197c6156e5e1%20%3D%20L.marker%28%0A%20%20%20%20%20%20%20%20%20%20%20%20%20%20%20%20%5B55.94380585491596%2C%20-3.211238456749925%5D%2C%0A%20%20%20%20%20%20%20%20%20%20%20%20%20%20%20%20%7B%7D%0A%20%20%20%20%20%20%20%20%20%20%20%20%29.addTo%28marker_cluster_ada872b66f8d4492ab77f3dff857f701%29%3B%0A%20%20%20%20%20%20%20%20%0A%20%20%20%20%0A%20%20%20%20%20%20%20%20%20%20%20%20var%20icon_3a2303582bdb48bf9c54e61490edd5e9%20%3D%20L.AwesomeMarkers.icon%28%0A%20%20%20%20%20%20%20%20%20%20%20%20%20%20%20%20%7B%22extraClasses%22%3A%20%22fa-rotate-0%22%2C%20%22icon%22%3A%20%22bicycle%22%2C%20%22iconColor%22%3A%20%22white%22%2C%20%22markerColor%22%3A%20%22darkblue%22%2C%20%22prefix%22%3A%20%22fa%22%7D%0A%20%20%20%20%20%20%20%20%20%20%20%20%29%3B%0A%20%20%20%20%20%20%20%20%20%20%20%20marker_3b601e6333454806962e197c6156e5e1.setIcon%28icon_3a2303582bdb48bf9c54e61490edd5e9%29%3B%0A%20%20%20%20%20%20%20%20%0A%20%20%20%20%0A%20%20%20%20%20%20%20%20var%20popup_9f56b017df824369a93a0d738df87423%20%3D%20L.popup%28%7B%22maxWidth%22%3A%20%22100%25%22%7D%29%3B%0A%0A%20%20%20%20%20%20%20%20%0A%20%20%20%20%20%20%20%20%20%20%20%20var%20html_dfc65663662b46bc8bd454861f85207f%20%3D%20%24%28%60%3Cdiv%20id%3D%22html_dfc65663662b46bc8bd454861f85207f%22%20style%3D%22width%3A%20100.0%25%3B%20height%3A%20100.0%25%3B%22%3EId%3A%201030%3Cbr%3EFountain%20Court%20%20-%20Apartments%20%28RESIDENTS%20ONLY%29%3Cbr%3EDescription%3A%20Fountain%20Court%20%20-%20Apartments%20%28RESIDENTS%20ONLY%29%3Cbr%3E%3Cbr%3ECounts%3A%2047%3C/div%3E%60%29%5B0%5D%3B%0A%20%20%20%20%20%20%20%20%20%20%20%20popup_9f56b017df824369a93a0d738df87423.setContent%28html_dfc65663662b46bc8bd454861f85207f%29%3B%0A%20%20%20%20%20%20%20%20%0A%0A%20%20%20%20%20%20%20%20marker_3b601e6333454806962e197c6156e5e1.bindPopup%28popup_9f56b017df824369a93a0d738df87423%29%0A%20%20%20%20%20%20%20%20%3B%0A%0A%20%20%20%20%20%20%20%20%0A%20%20%20%20%0A%20%20%20%20%0A%20%20%20%20%20%20%20%20%20%20%20%20var%20marker_bfeb05f299fc45359da6b34644a4b24c%20%3D%20L.marker%28%0A%20%20%20%20%20%20%20%20%20%20%20%20%20%20%20%20%5B55.94274592050117%2C%20-3.281623013233002%5D%2C%0A%20%20%20%20%20%20%20%20%20%20%20%20%20%20%20%20%7B%7D%0A%20%20%20%20%20%20%20%20%20%20%20%20%29.addTo%28marker_cluster_ada872b66f8d4492ab77f3dff857f701%29%3B%0A%20%20%20%20%20%20%20%20%0A%20%20%20%20%0A%20%20%20%20%20%20%20%20%20%20%20%20var%20icon_412b33006d114b07b9b9a70cd2c7e394%20%3D%20L.AwesomeMarkers.icon%28%0A%20%20%20%20%20%20%20%20%20%20%20%20%20%20%20%20%7B%22extraClasses%22%3A%20%22fa-rotate-0%22%2C%20%22icon%22%3A%20%22bicycle%22%2C%20%22iconColor%22%3A%20%22white%22%2C%20%22markerColor%22%3A%20%22darkblue%22%2C%20%22prefix%22%3A%20%22fa%22%7D%0A%20%20%20%20%20%20%20%20%20%20%20%20%29%3B%0A%20%20%20%20%20%20%20%20%20%20%20%20marker_bfeb05f299fc45359da6b34644a4b24c.setIcon%28icon_412b33006d114b07b9b9a70cd2c7e394%29%3B%0A%20%20%20%20%20%20%20%20%0A%20%20%20%20%0A%20%20%20%20%20%20%20%20var%20popup_71ac82c241ea4fb3a272a779818ec5d3%20%3D%20L.popup%28%7B%22maxWidth%22%3A%20%22100%25%22%7D%29%3B%0A%0A%20%20%20%20%20%20%20%20%0A%20%20%20%20%20%20%20%20%20%20%20%20var%20html_1e305432026746a59c94d3cc60b3a64e%20%3D%20%24%28%60%3Cdiv%20id%3D%22html_1e305432026746a59c94d3cc60b3a64e%22%20style%3D%22width%3A%20100.0%25%3B%20height%3A%20100.0%25%3B%22%3EId%3A%20871%3Cbr%3ESt.%20John%27s%20Road%201%3Cbr%3EDescription%3A%20Outside%20Specsavers%3Cbr%3E%3Cbr%3ECounts%3A%2046%3C/div%3E%60%29%5B0%5D%3B%0A%20%20%20%20%20%20%20%20%20%20%20%20popup_71ac82c241ea4fb3a272a779818ec5d3.setContent%28html_1e305432026746a59c94d3cc60b3a64e%29%3B%0A%20%20%20%20%20%20%20%20%0A%0A%20%20%20%20%20%20%20%20marker_bfeb05f299fc45359da6b34644a4b24c.bindPopup%28popup_71ac82c241ea4fb3a272a779818ec5d3%29%0A%20%20%20%20%20%20%20%20%3B%0A%0A%20%20%20%20%20%20%20%20%0A%20%20%20%20%0A%20%20%20%20%0A%20%20%20%20%20%20%20%20%20%20%20%20var%20marker_1067d98c9f24463f89d01044aeace136%20%3D%20L.marker%28%0A%20%20%20%20%20%20%20%20%20%20%20%20%20%20%20%20%5B55.90840398606208%2C%20-3.328825358925314%5D%2C%0A%20%20%20%20%20%20%20%20%20%20%20%20%20%20%20%20%7B%7D%0A%20%20%20%20%20%20%20%20%20%20%20%20%29.addTo%28marker_cluster_ada872b66f8d4492ab77f3dff857f701%29%3B%0A%20%20%20%20%20%20%20%20%0A%20%20%20%20%0A%20%20%20%20%20%20%20%20%20%20%20%20var%20icon_0ac5ffb2e0a543be990249214d2c773c%20%3D%20L.AwesomeMarkers.icon%28%0A%20%20%20%20%20%20%20%20%20%20%20%20%20%20%20%20%7B%22extraClasses%22%3A%20%22fa-rotate-0%22%2C%20%22icon%22%3A%20%22bicycle%22%2C%20%22iconColor%22%3A%20%22white%22%2C%20%22markerColor%22%3A%20%22darkblue%22%2C%20%22prefix%22%3A%20%22fa%22%7D%0A%20%20%20%20%20%20%20%20%20%20%20%20%29%3B%0A%20%20%20%20%20%20%20%20%20%20%20%20marker_1067d98c9f24463f89d01044aeace136.setIcon%28icon_0ac5ffb2e0a543be990249214d2c773c%29%3B%0A%20%20%20%20%20%20%20%20%0A%20%20%20%20%0A%20%20%20%20%20%20%20%20var%20popup_00d88df2162a4e9eb888e4fe2f006ce5%20%3D%20L.popup%28%7B%22maxWidth%22%3A%20%22100%25%22%7D%29%3B%0A%0A%20%20%20%20%20%20%20%20%0A%20%20%20%20%20%20%20%20%20%20%20%20var%20html_f6f796802aec4be4bbdcfb5fe271fed1%20%3D%20%24%28%60%3Cdiv%20id%3D%22html_f6f796802aec4be4bbdcfb5fe271fed1%22%20style%3D%22width%3A%20100.0%25%3B%20height%3A%20100.0%25%3B%22%3EId%3A%201724%3Cbr%3EHeriot%20Watt%20-%20Student%20Accomodation%20%28Anna%20MacLeod%20Halls%29%3Cbr%3EDescription%3A%20Heriot%20Watt%20-%20Student%20Accomodation%20Heriot%20Watt%20-%20Student%20Accomodation%20%28Anna%20MacLeod%20Halls%29%29%3Cbr%3E%3Cbr%3ECounts%3A%2045%3C/div%3E%60%29%5B0%5D%3B%0A%20%20%20%20%20%20%20%20%20%20%20%20popup_00d88df2162a4e9eb888e4fe2f006ce5.setContent%28html_f6f796802aec4be4bbdcfb5fe271fed1%29%3B%0A%20%20%20%20%20%20%20%20%0A%0A%20%20%20%20%20%20%20%20marker_1067d98c9f24463f89d01044aeace136.bindPopup%28popup_00d88df2162a4e9eb888e4fe2f006ce5%29%0A%20%20%20%20%20%20%20%20%3B%0A%0A%20%20%20%20%20%20%20%20%0A%20%20%20%20%0A%20%20%20%20%0A%20%20%20%20%20%20%20%20%20%20%20%20var%20marker_338cb142568d4e099020ae16959cd9b0%20%3D%20L.marker%28%0A%20%20%20%20%20%20%20%20%20%20%20%20%20%20%20%20%5B55.94049262199568%2C%20-3.217144191708712%5D%2C%0A%20%20%20%20%20%20%20%20%20%20%20%20%20%20%20%20%7B%7D%0A%20%20%20%20%20%20%20%20%20%20%20%20%29.addTo%28marker_cluster_ada872b66f8d4492ab77f3dff857f701%29%3B%0A%20%20%20%20%20%20%20%20%0A%20%20%20%20%0A%20%20%20%20%20%20%20%20%20%20%20%20var%20icon_63cb7db25cc048c2b4560251159c2761%20%3D%20L.AwesomeMarkers.icon%28%0A%20%20%20%20%20%20%20%20%20%20%20%20%20%20%20%20%7B%22extraClasses%22%3A%20%22fa-rotate-0%22%2C%20%22icon%22%3A%20%22bicycle%22%2C%20%22iconColor%22%3A%20%22white%22%2C%20%22markerColor%22%3A%20%22darkblue%22%2C%20%22prefix%22%3A%20%22fa%22%7D%0A%20%20%20%20%20%20%20%20%20%20%20%20%29%3B%0A%20%20%20%20%20%20%20%20%20%20%20%20marker_338cb142568d4e099020ae16959cd9b0.setIcon%28icon_63cb7db25cc048c2b4560251159c2761%29%3B%0A%20%20%20%20%20%20%20%20%0A%20%20%20%20%0A%20%20%20%20%20%20%20%20var%20popup_4a0c263a385142cd879c277fa75be232%20%3D%20L.popup%28%7B%22maxWidth%22%3A%20%22100%25%22%7D%29%3B%0A%0A%20%20%20%20%20%20%20%20%0A%20%20%20%20%20%20%20%20%20%20%20%20var%20html_addff7f38299462a93eb0721ec19c1d7%20%3D%20%24%28%60%3Cdiv%20id%3D%22html_addff7f38299462a93eb0721ec19c1d7%22%20style%3D%22width%3A%20100.0%25%3B%20height%3A%20100.0%25%3B%22%3EId%3A%20353%3Cbr%3EGibson%20Terrace%3Cbr%3EDescription%3A%20Outside%20student%20accomodation%3Cbr%3E%3Cbr%3ECounts%3A%2045%3C/div%3E%60%29%5B0%5D%3B%0A%20%20%20%20%20%20%20%20%20%20%20%20popup_4a0c263a385142cd879c277fa75be232.setContent%28html_addff7f38299462a93eb0721ec19c1d7%29%3B%0A%20%20%20%20%20%20%20%20%0A%0A%20%20%20%20%20%20%20%20marker_338cb142568d4e099020ae16959cd9b0.bindPopup%28popup_4a0c263a385142cd879c277fa75be232%29%0A%20%20%20%20%20%20%20%20%3B%0A%0A%20%20%20%20%20%20%20%20%0A%20%20%20%20%0A%20%20%20%20%0A%20%20%20%20%20%20%20%20%20%20%20%20var%20marker_7d57d0847f254a2d97bc77e3a4f3d1a1%20%3D%20L.marker%28%0A%20%20%20%20%20%20%20%20%20%20%20%20%20%20%20%20%5B55.94255133939095%2C%20-3.191380756192416%5D%2C%0A%20%20%20%20%20%20%20%20%20%20%20%20%20%20%20%20%7B%7D%0A%20%20%20%20%20%20%20%20%20%20%20%20%29.addTo%28marker_cluster_ada872b66f8d4492ab77f3dff857f701%29%3B%0A%20%20%20%20%20%20%20%20%0A%20%20%20%20%0A%20%20%20%20%20%20%20%20%20%20%20%20var%20icon_ff1fc413a25b4dc3810a2dda5dee9db0%20%3D%20L.AwesomeMarkers.icon%28%0A%20%20%20%20%20%20%20%20%20%20%20%20%20%20%20%20%7B%22extraClasses%22%3A%20%22fa-rotate-0%22%2C%20%22icon%22%3A%20%22bicycle%22%2C%20%22iconColor%22%3A%20%22white%22%2C%20%22markerColor%22%3A%20%22darkblue%22%2C%20%22prefix%22%3A%20%22fa%22%7D%0A%20%20%20%20%20%20%20%20%20%20%20%20%29%3B%0A%20%20%20%20%20%20%20%20%20%20%20%20marker_7d57d0847f254a2d97bc77e3a4f3d1a1.setIcon%28icon_ff1fc413a25b4dc3810a2dda5dee9db0%29%3B%0A%20%20%20%20%20%20%20%20%0A%20%20%20%20%0A%20%20%20%20%20%20%20%20var%20popup_63216470b531412db7b9552e7cfcc211%20%3D%20L.popup%28%7B%22maxWidth%22%3A%20%22100%25%22%7D%29%3B%0A%0A%20%20%20%20%20%20%20%20%0A%20%20%20%20%20%20%20%20%20%20%20%20var%20html_cf36fb83a3504128a25b472eb6eeea4b%20%3D%20%24%28%60%3Cdiv%20id%3D%22html_cf36fb83a3504128a25b472eb6eeea4b%22%20style%3D%22width%3A%20100.0%25%3B%20height%3A%20100.0%25%3B%22%3EId%3A%20267%3Cbr%3ELaunch%20Day%20Event%3Cbr%3EDescription%3A%20The%20Meadows%3Cbr%3E%3Cbr%3ECounts%3A%2045%3C/div%3E%60%29%5B0%5D%3B%0A%20%20%20%20%20%20%20%20%20%20%20%20popup_63216470b531412db7b9552e7cfcc211.setContent%28html_cf36fb83a3504128a25b472eb6eeea4b%29%3B%0A%20%20%20%20%20%20%20%20%0A%0A%20%20%20%20%20%20%20%20marker_7d57d0847f254a2d97bc77e3a4f3d1a1.bindPopup%28popup_63216470b531412db7b9552e7cfcc211%29%0A%20%20%20%20%20%20%20%20%3B%0A%0A%20%20%20%20%20%20%20%20%0A%20%20%20%20%0A%20%20%20%20%0A%20%20%20%20%20%20%20%20%20%20%20%20var%20marker_8c03754ad8af4c9aa673df9f454ea8cd%20%3D%20L.marker%28%0A%20%20%20%20%20%20%20%20%20%20%20%20%20%20%20%20%5B55.94173596765826%2C%20-3.190360574257738%5D%2C%0A%20%20%20%20%20%20%20%20%20%20%20%20%20%20%20%20%7B%7D%0A%20%20%20%20%20%20%20%20%20%20%20%20%29.addTo%28marker_cluster_ada872b66f8d4492ab77f3dff857f701%29%3B%0A%20%20%20%20%20%20%20%20%0A%20%20%20%20%0A%20%20%20%20%20%20%20%20%20%20%20%20var%20icon_cd31e249ed3a415784b7c6cdcaab30ed%20%3D%20L.AwesomeMarkers.icon%28%0A%20%20%20%20%20%20%20%20%20%20%20%20%20%20%20%20%7B%22extraClasses%22%3A%20%22fa-rotate-0%22%2C%20%22icon%22%3A%20%22bicycle%22%2C%20%22iconColor%22%3A%20%22white%22%2C%20%22markerColor%22%3A%20%22darkblue%22%2C%20%22prefix%22%3A%20%22fa%22%7D%0A%20%20%20%20%20%20%20%20%20%20%20%20%29%3B%0A%20%20%20%20%20%20%20%20%20%20%20%20marker_8c03754ad8af4c9aa673df9f454ea8cd.setIcon%28icon_cd31e249ed3a415784b7c6cdcaab30ed%29%3B%0A%20%20%20%20%20%20%20%20%0A%20%20%20%20%0A%20%20%20%20%20%20%20%20var%20popup_02b91754c9cd4ce08f275701224bdab8%20%3D%20L.popup%28%7B%22maxWidth%22%3A%20%22100%25%22%7D%29%3B%0A%0A%20%20%20%20%20%20%20%20%0A%20%20%20%20%20%20%20%20%20%20%20%20var%20html_5371820180bb424fba0403dad6f244ed%20%3D%20%24%28%60%3Cdiv%20id%3D%22html_5371820180bb424fba0403dad6f244ed%22%20style%3D%22width%3A%20100.0%25%3B%20height%3A%20100.0%25%3B%22%3EId%3A%20991%3Cbr%3EMeadows%20-%20Edinburgh%20Climate%20Festival%3Cbr%3EDescription%3A%2020%20bike%20virtual%20station%20for%20edinburgh%20climate%20festival%3Cbr%3E%3Cbr%3ECounts%3A%2043%3C/div%3E%60%29%5B0%5D%3B%0A%20%20%20%20%20%20%20%20%20%20%20%20popup_02b91754c9cd4ce08f275701224bdab8.setContent%28html_5371820180bb424fba0403dad6f244ed%29%3B%0A%20%20%20%20%20%20%20%20%0A%0A%20%20%20%20%20%20%20%20marker_8c03754ad8af4c9aa673df9f454ea8cd.bindPopup%28popup_02b91754c9cd4ce08f275701224bdab8%29%0A%20%20%20%20%20%20%20%20%3B%0A%0A%20%20%20%20%20%20%20%20%0A%20%20%20%20%0A%20%20%20%20%0A%20%20%20%20%20%20%20%20%20%20%20%20var%20marker_f0277a6a0c684e9fb932370e6a9ac766%20%3D%20L.marker%28%0A%20%20%20%20%20%20%20%20%20%20%20%20%20%20%20%20%5B55.94065528387753%2C%20-3.381606403941987%5D%2C%0A%20%20%20%20%20%20%20%20%20%20%20%20%20%20%20%20%7B%7D%0A%20%20%20%20%20%20%20%20%20%20%20%20%29.addTo%28marker_cluster_ada872b66f8d4492ab77f3dff857f701%29%3B%0A%20%20%20%20%20%20%20%20%0A%20%20%20%20%0A%20%20%20%20%20%20%20%20%20%20%20%20var%20icon_a61fd6510d5e4be9868864978b7a1c5d%20%3D%20L.AwesomeMarkers.icon%28%0A%20%20%20%20%20%20%20%20%20%20%20%20%20%20%20%20%7B%22extraClasses%22%3A%20%22fa-rotate-0%22%2C%20%22icon%22%3A%20%22bicycle%22%2C%20%22iconColor%22%3A%20%22white%22%2C%20%22markerColor%22%3A%20%22darkblue%22%2C%20%22prefix%22%3A%20%22fa%22%7D%0A%20%20%20%20%20%20%20%20%20%20%20%20%29%3B%0A%20%20%20%20%20%20%20%20%20%20%20%20marker_f0277a6a0c684e9fb932370e6a9ac766.setIcon%28icon_a61fd6510d5e4be9868864978b7a1c5d%29%3B%0A%20%20%20%20%20%20%20%20%0A%20%20%20%20%0A%20%20%20%20%20%20%20%20var%20popup_12cfc232f38948869b5232e45819b305%20%3D%20L.popup%28%7B%22maxWidth%22%3A%20%22100%25%22%7D%29%3B%0A%0A%20%20%20%20%20%20%20%20%0A%20%20%20%20%20%20%20%20%20%20%20%20var%20html_d0cf4922ab1043b0b2e68653f1c91b18%20%3D%20%24%28%60%3Cdiv%20id%3D%22html_d0cf4922ab1043b0b2e68653f1c91b18%22%20style%3D%22width%3A%20100.0%25%3B%20height%3A%20100.0%25%3B%22%3EId%3A%20981%3Cbr%3ERHC%20-%20Edinburgh%20Festival%20Camping%20%2805th%20to%2026th%20August%29%3Cbr%3EDescription%3A%20Virtual%20station%20for%20Edinburgh%20Festival%20Camping%20at%20west%20gate%20of%20RHC%20%2805th%20to%2026th%20August%29%3Cbr%3E%3Cbr%3ECounts%3A%2041%3C/div%3E%60%29%5B0%5D%3B%0A%20%20%20%20%20%20%20%20%20%20%20%20popup_12cfc232f38948869b5232e45819b305.setContent%28html_d0cf4922ab1043b0b2e68653f1c91b18%29%3B%0A%20%20%20%20%20%20%20%20%0A%0A%20%20%20%20%20%20%20%20marker_f0277a6a0c684e9fb932370e6a9ac766.bindPopup%28popup_12cfc232f38948869b5232e45819b305%29%0A%20%20%20%20%20%20%20%20%3B%0A%0A%20%20%20%20%20%20%20%20%0A%20%20%20%20%0A%20%20%20%20%0A%20%20%20%20%20%20%20%20%20%20%20%20var%20marker_8733999f9949498b9d00e7e7ba317676%20%3D%20L.marker%28%0A%20%20%20%20%20%20%20%20%20%20%20%20%20%20%20%20%5B55.95454278693572%2C%20-3.23472817617926%5D%2C%0A%20%20%20%20%20%20%20%20%20%20%20%20%20%20%20%20%7B%7D%0A%20%20%20%20%20%20%20%20%20%20%20%20%29.addTo%28marker_cluster_ada872b66f8d4492ab77f3dff857f701%29%3B%0A%20%20%20%20%20%20%20%20%0A%20%20%20%20%0A%20%20%20%20%20%20%20%20%20%20%20%20var%20icon_39cf4a5110214409b04023ace93f8b86%20%3D%20L.AwesomeMarkers.icon%28%0A%20%20%20%20%20%20%20%20%20%20%20%20%20%20%20%20%7B%22extraClasses%22%3A%20%22fa-rotate-0%22%2C%20%22icon%22%3A%20%22bicycle%22%2C%20%22iconColor%22%3A%20%22white%22%2C%20%22markerColor%22%3A%20%22darkblue%22%2C%20%22prefix%22%3A%20%22fa%22%7D%0A%20%20%20%20%20%20%20%20%20%20%20%20%29%3B%0A%20%20%20%20%20%20%20%20%20%20%20%20marker_8733999f9949498b9d00e7e7ba317676.setIcon%28icon_39cf4a5110214409b04023ace93f8b86%29%3B%0A%20%20%20%20%20%20%20%20%0A%20%20%20%20%0A%20%20%20%20%20%20%20%20var%20popup_ffaf448120bf4c038bf027a781a3f348%20%3D%20L.popup%28%7B%22maxWidth%22%3A%20%22100%25%22%7D%29%3B%0A%0A%20%20%20%20%20%20%20%20%0A%20%20%20%20%20%20%20%20%20%20%20%20var%20html_7b39269cc7f94ec0add0796358b65533%20%3D%20%24%28%60%3Cdiv%20id%3D%22html_7b39269cc7f94ec0add0796358b65533%22%20style%3D%22width%3A%20100.0%25%3B%20height%3A%20100.0%25%3B%22%3EId%3A%20883%3Cbr%3EQueensferry%20Road%3Cbr%3EDescription%3A%20Corner%20of%20Queensferry%20Road%20%26%20Orchard%20Road%3Cbr%3E%3Cbr%3ECounts%3A%2039%3C/div%3E%60%29%5B0%5D%3B%0A%20%20%20%20%20%20%20%20%20%20%20%20popup_ffaf448120bf4c038bf027a781a3f348.setContent%28html_7b39269cc7f94ec0add0796358b65533%29%3B%0A%20%20%20%20%20%20%20%20%0A%0A%20%20%20%20%20%20%20%20marker_8733999f9949498b9d00e7e7ba317676.bindPopup%28popup_ffaf448120bf4c038bf027a781a3f348%29%0A%20%20%20%20%20%20%20%20%3B%0A%0A%20%20%20%20%20%20%20%20%0A%20%20%20%20%0A%20%20%20%20%0A%20%20%20%20%20%20%20%20%20%20%20%20var%20marker_0889b46a61414d3eaa3338bdbe9cd93b%20%3D%20L.marker%28%0A%20%20%20%20%20%20%20%20%20%20%20%20%20%20%20%20%5B55.926664566092654%2C%20-3.289467852759799%5D%2C%0A%20%20%20%20%20%20%20%20%20%20%20%20%20%20%20%20%7B%7D%0A%20%20%20%20%20%20%20%20%20%20%20%20%29.addTo%28marker_cluster_ada872b66f8d4492ab77f3dff857f701%29%3B%0A%20%20%20%20%20%20%20%20%0A%20%20%20%20%0A%20%20%20%20%20%20%20%20%20%20%20%20var%20icon_51d3514aa5d34b28bc7b3753cdb42d48%20%3D%20L.AwesomeMarkers.icon%28%0A%20%20%20%20%20%20%20%20%20%20%20%20%20%20%20%20%7B%22extraClasses%22%3A%20%22fa-rotate-0%22%2C%20%22icon%22%3A%20%22bicycle%22%2C%20%22iconColor%22%3A%20%22white%22%2C%20%22markerColor%22%3A%20%22darkblue%22%2C%20%22prefix%22%3A%20%22fa%22%7D%0A%20%20%20%20%20%20%20%20%20%20%20%20%29%3B%0A%20%20%20%20%20%20%20%20%20%20%20%20marker_0889b46a61414d3eaa3338bdbe9cd93b.setIcon%28icon_51d3514aa5d34b28bc7b3753cdb42d48%29%3B%0A%20%20%20%20%20%20%20%20%0A%20%20%20%20%0A%20%20%20%20%20%20%20%20var%20popup_25a48c2b8a9a47459f74adce6369a0fa%20%3D%20L.popup%28%7B%22maxWidth%22%3A%20%22100%25%22%7D%29%3B%0A%0A%20%20%20%20%20%20%20%20%0A%20%20%20%20%20%20%20%20%20%20%20%20var%20html_6af76457eb314d11bbc57ae93806aff4%20%3D%20%24%28%60%3Cdiv%20id%3D%22html_6af76457eb314d11bbc57ae93806aff4%22%20style%3D%22width%3A%20100.0%25%3B%20height%3A%20100.0%25%3B%22%3EId%3A%201040%3Cbr%3ESighthill%20-%20Edinburgh%20College%3Cbr%3EDescription%3A%20Sighthill%20Campus%3Cbr%3E%3Cbr%3ECounts%3A%2036%3C/div%3E%60%29%5B0%5D%3B%0A%20%20%20%20%20%20%20%20%20%20%20%20popup_25a48c2b8a9a47459f74adce6369a0fa.setContent%28html_6af76457eb314d11bbc57ae93806aff4%29%3B%0A%20%20%20%20%20%20%20%20%0A%0A%20%20%20%20%20%20%20%20marker_0889b46a61414d3eaa3338bdbe9cd93b.bindPopup%28popup_25a48c2b8a9a47459f74adce6369a0fa%29%0A%20%20%20%20%20%20%20%20%3B%0A%0A%20%20%20%20%20%20%20%20%0A%20%20%20%20%0A%20%20%20%20%0A%20%20%20%20%20%20%20%20%20%20%20%20var%20marker_f2d9e54c710244009ad12f4dd0df5eea%20%3D%20L.marker%28%0A%20%20%20%20%20%20%20%20%20%20%20%20%20%20%20%20%5B55.95261935955009%2C%20-3.205678007970846%5D%2C%0A%20%20%20%20%20%20%20%20%20%20%20%20%20%20%20%20%7B%7D%0A%20%20%20%20%20%20%20%20%20%20%20%20%29.addTo%28marker_cluster_ada872b66f8d4492ab77f3dff857f701%29%3B%0A%20%20%20%20%20%20%20%20%0A%20%20%20%20%0A%20%20%20%20%20%20%20%20%20%20%20%20var%20icon_82298ba4aa874f18a66766ba16580f96%20%3D%20L.AwesomeMarkers.icon%28%0A%20%20%20%20%20%20%20%20%20%20%20%20%20%20%20%20%7B%22extraClasses%22%3A%20%22fa-rotate-0%22%2C%20%22icon%22%3A%20%22bicycle%22%2C%20%22iconColor%22%3A%20%22white%22%2C%20%22markerColor%22%3A%20%22darkblue%22%2C%20%22prefix%22%3A%20%22fa%22%7D%0A%20%20%20%20%20%20%20%20%20%20%20%20%29%3B%0A%20%20%20%20%20%20%20%20%20%20%20%20marker_f2d9e54c710244009ad12f4dd0df5eea.setIcon%28icon_82298ba4aa874f18a66766ba16580f96%29%3B%0A%20%20%20%20%20%20%20%20%0A%20%20%20%20%0A%20%20%20%20%20%20%20%20var%20popup_b4d934f575b446feaa322fe0bf432472%20%3D%20L.popup%28%7B%22maxWidth%22%3A%20%22100%25%22%7D%29%3B%0A%0A%20%20%20%20%20%20%20%20%0A%20%20%20%20%20%20%20%20%20%20%20%20var%20html_29beb26ff7a143048a9e979787c065cb%20%3D%20%24%28%60%3Cdiv%20id%3D%22html_29beb26ff7a143048a9e979787c065cb%22%20style%3D%22width%3A%20100.0%25%3B%20height%3A%20100.0%25%3B%22%3EId%3A%201031%3Cbr%3EEden%20Locke%20-%20Aparthotel%20%28RESIDENTS%20ONLY%29%3Cbr%3EDescription%3A%20Eden%20Locke%20-%20Aparthotel%20%28RESIDENTS%20ONLY%29%3Cbr%3E%3Cbr%3ECounts%3A%2028%3C/div%3E%60%29%5B0%5D%3B%0A%20%20%20%20%20%20%20%20%20%20%20%20popup_b4d934f575b446feaa322fe0bf432472.setContent%28html_29beb26ff7a143048a9e979787c065cb%29%3B%0A%20%20%20%20%20%20%20%20%0A%0A%20%20%20%20%20%20%20%20marker_f2d9e54c710244009ad12f4dd0df5eea.bindPopup%28popup_b4d934f575b446feaa322fe0bf432472%29%0A%20%20%20%20%20%20%20%20%3B%0A%0A%20%20%20%20%20%20%20%20%0A%20%20%20%20%0A%20%20%20%20%0A%20%20%20%20%20%20%20%20%20%20%20%20var%20marker_3e7b5a0ee2144abfa333c6ee7b23810b%20%3D%20L.marker%28%0A%20%20%20%20%20%20%20%20%20%20%20%20%20%20%20%20%5B55.951813501278245%2C%20-3.178725911660876%5D%2C%0A%20%20%20%20%20%20%20%20%20%20%20%20%20%20%20%20%7B%7D%0A%20%20%20%20%20%20%20%20%20%20%20%20%29.addTo%28marker_cluster_ada872b66f8d4492ab77f3dff857f701%29%3B%0A%20%20%20%20%20%20%20%20%0A%20%20%20%20%0A%20%20%20%20%20%20%20%20%20%20%20%20var%20icon_e5546cfe8e5b4505a768c735f3966420%20%3D%20L.AwesomeMarkers.icon%28%0A%20%20%20%20%20%20%20%20%20%20%20%20%20%20%20%20%7B%22extraClasses%22%3A%20%22fa-rotate-0%22%2C%20%22icon%22%3A%20%22bicycle%22%2C%20%22iconColor%22%3A%20%22white%22%2C%20%22markerColor%22%3A%20%22darkblue%22%2C%20%22prefix%22%3A%20%22fa%22%7D%0A%20%20%20%20%20%20%20%20%20%20%20%20%29%3B%0A%20%20%20%20%20%20%20%20%20%20%20%20marker_3e7b5a0ee2144abfa333c6ee7b23810b.setIcon%28icon_e5546cfe8e5b4505a768c735f3966420%29%3B%0A%20%20%20%20%20%20%20%20%0A%20%20%20%20%0A%20%20%20%20%20%20%20%20var%20popup_ba1547cc1f2b42fcb5f379aaf8b454b5%20%3D%20L.popup%28%7B%22maxWidth%22%3A%20%22100%25%22%7D%29%3B%0A%0A%20%20%20%20%20%20%20%20%0A%20%20%20%20%20%20%20%20%20%20%20%20var%20html_ea55ab9f6ee5469fba89123a170507aa%20%3D%20%24%28%60%3Cdiv%20id%3D%22html_ea55ab9f6ee5469fba89123a170507aa%22%20style%3D%22width%3A%20100.0%25%3B%20height%3A%20100.0%25%3B%22%3EId%3A%20901%3Cbr%3EDunbar%E2%80%99s%20Close%20Garden%3Cbr%3EDescription%3A%20Inside%20garden%3Cbr%3E%3Cbr%3ECounts%3A%2025%3C/div%3E%60%29%5B0%5D%3B%0A%20%20%20%20%20%20%20%20%20%20%20%20popup_ba1547cc1f2b42fcb5f379aaf8b454b5.setContent%28html_ea55ab9f6ee5469fba89123a170507aa%29%3B%0A%20%20%20%20%20%20%20%20%0A%0A%20%20%20%20%20%20%20%20marker_3e7b5a0ee2144abfa333c6ee7b23810b.bindPopup%28popup_ba1547cc1f2b42fcb5f379aaf8b454b5%29%0A%20%20%20%20%20%20%20%20%3B%0A%0A%20%20%20%20%20%20%20%20%0A%20%20%20%20%0A%20%20%20%20%0A%20%20%20%20%20%20%20%20%20%20%20%20var%20marker_65988b09ab334011b2f96c169a31ec70%20%3D%20L.marker%28%0A%20%20%20%20%20%20%20%20%20%20%20%20%20%20%20%20%5B55.93821225851473%2C%20-3.17897226737648%5D%2C%0A%20%20%20%20%20%20%20%20%20%20%20%20%20%20%20%20%7B%7D%0A%20%20%20%20%20%20%20%20%20%20%20%20%29.addTo%28marker_cluster_ada872b66f8d4492ab77f3dff857f701%29%3B%0A%20%20%20%20%20%20%20%20%0A%20%20%20%20%0A%20%20%20%20%20%20%20%20%20%20%20%20var%20icon_6ed92a0db08f49a5a1c79937e1b1a73b%20%3D%20L.AwesomeMarkers.icon%28%0A%20%20%20%20%20%20%20%20%20%20%20%20%20%20%20%20%7B%22extraClasses%22%3A%20%22fa-rotate-0%22%2C%20%22icon%22%3A%20%22bicycle%22%2C%20%22iconColor%22%3A%20%22white%22%2C%20%22markerColor%22%3A%20%22darkblue%22%2C%20%22prefix%22%3A%20%22fa%22%7D%0A%20%20%20%20%20%20%20%20%20%20%20%20%29%3B%0A%20%20%20%20%20%20%20%20%20%20%20%20marker_65988b09ab334011b2f96c169a31ec70.setIcon%28icon_6ed92a0db08f49a5a1c79937e1b1a73b%29%3B%0A%20%20%20%20%20%20%20%20%0A%20%20%20%20%0A%20%20%20%20%20%20%20%20var%20popup_a8f7870aff3340539d3e5d4c41e799e7%20%3D%20L.popup%28%7B%22maxWidth%22%3A%20%22100%25%22%7D%29%3B%0A%0A%20%20%20%20%20%20%20%20%0A%20%20%20%20%20%20%20%20%20%20%20%20var%20html_4add29c431e74beda723bbc0b025c284%20%3D%20%24%28%60%3Cdiv%20id%3D%22html_4add29c431e74beda723bbc0b025c284%22%20style%3D%22width%3A%20100.0%25%3B%20height%3A%20100.0%25%3B%22%3EId%3A%20891%3Cbr%3EWest%20Newington%20Place%3Cbr%3EDescription%3A%20Corner%20of%20West%20Newington%20Place%20%26%20Newington%20Road%3Cbr%3E%3Cbr%3ECounts%3A%2019%3C/div%3E%60%29%5B0%5D%3B%0A%20%20%20%20%20%20%20%20%20%20%20%20popup_a8f7870aff3340539d3e5d4c41e799e7.setContent%28html_4add29c431e74beda723bbc0b025c284%29%3B%0A%20%20%20%20%20%20%20%20%0A%0A%20%20%20%20%20%20%20%20marker_65988b09ab334011b2f96c169a31ec70.bindPopup%28popup_a8f7870aff3340539d3e5d4c41e799e7%29%0A%20%20%20%20%20%20%20%20%3B%0A%0A%20%20%20%20%20%20%20%20%0A%20%20%20%20%0A%20%20%20%20%0A%20%20%20%20%20%20%20%20%20%20%20%20var%20marker_e231f18acdbb4b579f0723c633215332%20%3D%20L.marker%28%0A%20%20%20%20%20%20%20%20%20%20%20%20%20%20%20%20%5B55.92429517498461%2C%20-3.133510335817163%5D%2C%0A%20%20%20%20%20%20%20%20%20%20%20%20%20%20%20%20%7B%7D%0A%20%20%20%20%20%20%20%20%20%20%20%20%29.addTo%28marker_cluster_ada872b66f8d4492ab77f3dff857f701%29%3B%0A%20%20%20%20%20%20%20%20%0A%20%20%20%20%0A%20%20%20%20%20%20%20%20%20%20%20%20var%20icon_c82e48cbdc6049df8a3fd9f1f45385e2%20%3D%20L.AwesomeMarkers.icon%28%0A%20%20%20%20%20%20%20%20%20%20%20%20%20%20%20%20%7B%22extraClasses%22%3A%20%22fa-rotate-0%22%2C%20%22icon%22%3A%20%22bicycle%22%2C%20%22iconColor%22%3A%20%22white%22%2C%20%22markerColor%22%3A%20%22darkblue%22%2C%20%22prefix%22%3A%20%22fa%22%7D%0A%20%20%20%20%20%20%20%20%20%20%20%20%29%3B%0A%20%20%20%20%20%20%20%20%20%20%20%20marker_e231f18acdbb4b579f0723c633215332.setIcon%28icon_c82e48cbdc6049df8a3fd9f1f45385e2%29%3B%0A%20%20%20%20%20%20%20%20%0A%20%20%20%20%0A%20%20%20%20%20%20%20%20var%20popup_3a3de120b62941b693a0f6517f34309e%20%3D%20L.popup%28%7B%22maxWidth%22%3A%20%22100%25%22%7D%29%3B%0A%0A%20%20%20%20%20%20%20%20%0A%20%20%20%20%20%20%20%20%20%20%20%20var%20html_f5b9daf7a8ef4d6289a76c3b7c908035%20%3D%20%24%28%60%3Cdiv%20id%3D%22html_f5b9daf7a8ef4d6289a76c3b7c908035%22%20style%3D%22width%3A%20100.0%25%3B%20height%3A%20100.0%25%3B%22%3EId%3A%20297%3Cbr%3ERoyal%20Infirmary%3Cbr%3EDescription%3A%20Cycleway%20off%20Little%20France%3Cbr%3E%3Cbr%3ECounts%3A%2019%3C/div%3E%60%29%5B0%5D%3B%0A%20%20%20%20%20%20%20%20%20%20%20%20popup_3a3de120b62941b693a0f6517f34309e.setContent%28html_f5b9daf7a8ef4d6289a76c3b7c908035%29%3B%0A%20%20%20%20%20%20%20%20%0A%0A%20%20%20%20%20%20%20%20marker_e231f18acdbb4b579f0723c633215332.bindPopup%28popup_3a3de120b62941b693a0f6517f34309e%29%0A%20%20%20%20%20%20%20%20%3B%0A%0A%20%20%20%20%20%20%20%20%0A%20%20%20%20%0A%20%20%20%20%0A%20%20%20%20%20%20%20%20%20%20%20%20var%20marker_1c242af33df746539d674e96cdeb7200%20%3D%20L.marker%28%0A%20%20%20%20%20%20%20%20%20%20%20%20%20%20%20%20%5B55.945452213917534%2C%20-3.219679557435938%5D%2C%0A%20%20%20%20%20%20%20%20%20%20%20%20%20%20%20%20%7B%7D%0A%20%20%20%20%20%20%20%20%20%20%20%20%29.addTo%28marker_cluster_ada872b66f8d4492ab77f3dff857f701%29%3B%0A%20%20%20%20%20%20%20%20%0A%20%20%20%20%0A%20%20%20%20%20%20%20%20%20%20%20%20var%20icon_77b0e3e9efc8475d8e0b74275b244db0%20%3D%20L.AwesomeMarkers.icon%28%0A%20%20%20%20%20%20%20%20%20%20%20%20%20%20%20%20%7B%22extraClasses%22%3A%20%22fa-rotate-0%22%2C%20%22icon%22%3A%20%22bicycle%22%2C%20%22iconColor%22%3A%20%22white%22%2C%20%22markerColor%22%3A%20%22darkblue%22%2C%20%22prefix%22%3A%20%22fa%22%7D%0A%20%20%20%20%20%20%20%20%20%20%20%20%29%3B%0A%20%20%20%20%20%20%20%20%20%20%20%20marker_1c242af33df746539d674e96cdeb7200.setIcon%28icon_77b0e3e9efc8475d8e0b74275b244db0%29%3B%0A%20%20%20%20%20%20%20%20%0A%20%20%20%20%0A%20%20%20%20%20%20%20%20var%20popup_f5ab5084b4bd40aa8c3e0d39fbb6b963%20%3D%20L.popup%28%7B%22maxWidth%22%3A%20%22100%25%22%7D%29%3B%0A%0A%20%20%20%20%20%20%20%20%0A%20%20%20%20%20%20%20%20%20%20%20%20var%20html_35aebe73102f438383d649ee470cc304%20%3D%20%24%28%60%3Cdiv%20id%3D%22html_35aebe73102f438383d649ee470cc304%22%20style%3D%22width%3A%20100.0%25%3B%20height%3A%20100.0%25%3B%22%3EId%3A%20965%3Cbr%3EHaymarket%20-%20Murrayfield%20Rugby%20Event%3Cbr%3EDescription%3A%20Sustrans%20car%20parking%20space%2031%20for%20Murrayfield%20Rugby%20Event%3Cbr%3E%3Cbr%3ECounts%3A%2019%3C/div%3E%60%29%5B0%5D%3B%0A%20%20%20%20%20%20%20%20%20%20%20%20popup_f5ab5084b4bd40aa8c3e0d39fbb6b963.setContent%28html_35aebe73102f438383d649ee470cc304%29%3B%0A%20%20%20%20%20%20%20%20%0A%0A%20%20%20%20%20%20%20%20marker_1c242af33df746539d674e96cdeb7200.bindPopup%28popup_f5ab5084b4bd40aa8c3e0d39fbb6b963%29%0A%20%20%20%20%20%20%20%20%3B%0A%0A%20%20%20%20%20%20%20%20%0A%20%20%20%20%0A%20%20%20%20%0A%20%20%20%20%20%20%20%20%20%20%20%20var%20marker_7397689cf10645b6ad1aae219bb55ca9%20%3D%20L.marker%28%0A%20%20%20%20%20%20%20%20%20%20%20%20%20%20%20%20%5B55.942364438846695%2C%20-3.265384123501235%5D%2C%0A%20%20%20%20%20%20%20%20%20%20%20%20%20%20%20%20%7B%7D%0A%20%20%20%20%20%20%20%20%20%20%20%20%29.addTo%28marker_cluster_ada872b66f8d4492ab77f3dff857f701%29%3B%0A%20%20%20%20%20%20%20%20%0A%20%20%20%20%0A%20%20%20%20%20%20%20%20%20%20%20%20var%20icon_f363f86a1fbe459da1212dcb50962c6c%20%3D%20L.AwesomeMarkers.icon%28%0A%20%20%20%20%20%20%20%20%20%20%20%20%20%20%20%20%7B%22extraClasses%22%3A%20%22fa-rotate-0%22%2C%20%22icon%22%3A%20%22bicycle%22%2C%20%22iconColor%22%3A%20%22white%22%2C%20%22markerColor%22%3A%20%22darkblue%22%2C%20%22prefix%22%3A%20%22fa%22%7D%0A%20%20%20%20%20%20%20%20%20%20%20%20%29%3B%0A%20%20%20%20%20%20%20%20%20%20%20%20marker_7397689cf10645b6ad1aae219bb55ca9.setIcon%28icon_f363f86a1fbe459da1212dcb50962c6c%29%3B%0A%20%20%20%20%20%20%20%20%0A%20%20%20%20%0A%20%20%20%20%20%20%20%20var%20popup_219e06250add481b89be7dfcd9dfbd33%20%3D%20L.popup%28%7B%22maxWidth%22%3A%20%22100%25%22%7D%29%3B%0A%0A%20%20%20%20%20%20%20%20%0A%20%20%20%20%20%20%20%20%20%20%20%20var%20html_1d96299e524b4fde9843fa71dcf799f9%20%3D%20%24%28%60%3Cdiv%20id%3D%22html_1d96299e524b4fde9843fa71dcf799f9%22%20style%3D%22width%3A%20100.0%25%3B%20height%3A%20100.0%25%3B%22%3EId%3A%20875%3Cbr%3ECorstorphine%20Road%20-%20Pinkhill%3Cbr%3EDescription%3A%20Corner%20of%20Corstorphine%20Road%20%26%20Pinkhill%3Cbr%3E%3Cbr%3ECounts%3A%2018%3C/div%3E%60%29%5B0%5D%3B%0A%20%20%20%20%20%20%20%20%20%20%20%20popup_219e06250add481b89be7dfcd9dfbd33.setContent%28html_1d96299e524b4fde9843fa71dcf799f9%29%3B%0A%20%20%20%20%20%20%20%20%0A%0A%20%20%20%20%20%20%20%20marker_7397689cf10645b6ad1aae219bb55ca9.bindPopup%28popup_219e06250add481b89be7dfcd9dfbd33%29%0A%20%20%20%20%20%20%20%20%3B%0A%0A%20%20%20%20%20%20%20%20%0A%20%20%20%20%0A%20%20%20%20%0A%20%20%20%20%20%20%20%20%20%20%20%20var%20marker_a4d770d529274d6498bd681c57fe7685%20%3D%20L.marker%28%0A%20%20%20%20%20%20%20%20%20%20%20%20%20%20%20%20%5B55.93909048596021%2C%20-3.355912910873826%5D%2C%0A%20%20%20%20%20%20%20%20%20%20%20%20%20%20%20%20%7B%7D%0A%20%20%20%20%20%20%20%20%20%20%20%20%29.addTo%28marker_cluster_ada872b66f8d4492ab77f3dff857f701%29%3B%0A%20%20%20%20%20%20%20%20%0A%20%20%20%20%0A%20%20%20%20%20%20%20%20%20%20%20%20var%20icon_ba07cd65524b4ee287f533ac29b25858%20%3D%20L.AwesomeMarkers.icon%28%0A%20%20%20%20%20%20%20%20%20%20%20%20%20%20%20%20%7B%22extraClasses%22%3A%20%22fa-rotate-0%22%2C%20%22icon%22%3A%20%22bicycle%22%2C%20%22iconColor%22%3A%20%22white%22%2C%20%22markerColor%22%3A%20%22darkblue%22%2C%20%22prefix%22%3A%20%22fa%22%7D%0A%20%20%20%20%20%20%20%20%20%20%20%20%29%3B%0A%20%20%20%20%20%20%20%20%20%20%20%20marker_a4d770d529274d6498bd681c57fe7685.setIcon%28icon_ba07cd65524b4ee287f533ac29b25858%29%3B%0A%20%20%20%20%20%20%20%20%0A%20%20%20%20%0A%20%20%20%20%20%20%20%20var%20popup_9aff53a1294e49aeaa2c7a414f527936%20%3D%20L.popup%28%7B%22maxWidth%22%3A%20%22100%25%22%7D%29%3B%0A%0A%20%20%20%20%20%20%20%20%0A%20%20%20%20%20%20%20%20%20%20%20%20var%20html_57d2e8be6871469fb3baf0c8e570712e%20%3D%20%24%28%60%3Cdiv%20id%3D%22html_57d2e8be6871469fb3baf0c8e570712e%22%20style%3D%22width%3A%20100.0%25%3B%20height%3A%20100.0%25%3B%22%3EId%3A%20982%3Cbr%3EIngliston%20Park%20and%20Ride%20%2819th%20to%2023rd%20June%29%3Cbr%3EDescription%3A%20Virtual%20station%20at%20Ingliston%20Park%20and%20Ride%20%2819th%20to%2023rd%20June%29%3Cbr%3E%3Cbr%3ECounts%3A%2011%3C/div%3E%60%29%5B0%5D%3B%0A%20%20%20%20%20%20%20%20%20%20%20%20popup_9aff53a1294e49aeaa2c7a414f527936.setContent%28html_57d2e8be6871469fb3baf0c8e570712e%29%3B%0A%20%20%20%20%20%20%20%20%0A%0A%20%20%20%20%20%20%20%20marker_a4d770d529274d6498bd681c57fe7685.bindPopup%28popup_9aff53a1294e49aeaa2c7a414f527936%29%0A%20%20%20%20%20%20%20%20%3B%0A%0A%20%20%20%20%20%20%20%20%0A%20%20%20%20%0A%20%20%20%20%0A%20%20%20%20%20%20%20%20%20%20%20%20var%20marker_bf8042eeb6cd4215a2529bd366743b8b%20%3D%20L.marker%28%0A%20%20%20%20%20%20%20%20%20%20%20%20%20%20%20%20%5B55.96391066325888%2C%20-3.191861874639585%5D%2C%0A%20%20%20%20%20%20%20%20%20%20%20%20%20%20%20%20%7B%7D%0A%20%20%20%20%20%20%20%20%20%20%20%20%29.addTo%28marker_cluster_ada872b66f8d4492ab77f3dff857f701%29%3B%0A%20%20%20%20%20%20%20%20%0A%20%20%20%20%0A%20%20%20%20%20%20%20%20%20%20%20%20var%20icon_cf694031aa4e4b239be482913ff5b989%20%3D%20L.AwesomeMarkers.icon%28%0A%20%20%20%20%20%20%20%20%20%20%20%20%20%20%20%20%7B%22extraClasses%22%3A%20%22fa-rotate-0%22%2C%20%22icon%22%3A%20%22bicycle%22%2C%20%22iconColor%22%3A%20%22white%22%2C%20%22markerColor%22%3A%20%22darkblue%22%2C%20%22prefix%22%3A%20%22fa%22%7D%0A%20%20%20%20%20%20%20%20%20%20%20%20%29%3B%0A%20%20%20%20%20%20%20%20%20%20%20%20marker_bf8042eeb6cd4215a2529bd366743b8b.setIcon%28icon_cf694031aa4e4b239be482913ff5b989%29%3B%0A%20%20%20%20%20%20%20%20%0A%20%20%20%20%0A%20%20%20%20%20%20%20%20var%20popup_b505870356b149dfa4d98bdf49cc1482%20%3D%20L.popup%28%7B%22maxWidth%22%3A%20%22100%25%22%7D%29%3B%0A%0A%20%20%20%20%20%20%20%20%0A%20%20%20%20%20%20%20%20%20%20%20%20var%20html_3a1607b654694072b3f5f5309af9f21a%20%3D%20%24%28%60%3Cdiv%20id%3D%22html_3a1607b654694072b3f5f5309af9f21a%22%20style%3D%22width%3A%20100.0%25%3B%20height%3A%20100.0%25%3B%22%3EId%3A%201746%3Cbr%3ECrescent%20House%3Cbr%3EDescription%3A%20Crescent%20House%3Cbr%3E%3Cbr%3ECounts%3A%209%3C/div%3E%60%29%5B0%5D%3B%0A%20%20%20%20%20%20%20%20%20%20%20%20popup_b505870356b149dfa4d98bdf49cc1482.setContent%28html_3a1607b654694072b3f5f5309af9f21a%29%3B%0A%20%20%20%20%20%20%20%20%0A%0A%20%20%20%20%20%20%20%20marker_bf8042eeb6cd4215a2529bd366743b8b.bindPopup%28popup_b505870356b149dfa4d98bdf49cc1482%29%0A%20%20%20%20%20%20%20%20%3B%0A%0A%20%20%20%20%20%20%20%20%0A%20%20%20%20%0A%20%20%20%20%0A%20%20%20%20%20%20%20%20%20%20%20%20var%20marker_40a30b150212412fa8dc709b012f6f67%20%3D%20L.marker%28%0A%20%20%20%20%20%20%20%20%20%20%20%20%20%20%20%20%5B55.95135352288074%2C%20-3.168590609786974%5D%2C%0A%20%20%20%20%20%20%20%20%20%20%20%20%20%20%20%20%7B%7D%0A%20%20%20%20%20%20%20%20%20%20%20%20%29.addTo%28marker_cluster_ada872b66f8d4492ab77f3dff857f701%29%3B%0A%20%20%20%20%20%20%20%20%0A%20%20%20%20%0A%20%20%20%20%20%20%20%20%20%20%20%20var%20icon_72570aaa09a848799b6779246548adfb%20%3D%20L.AwesomeMarkers.icon%28%0A%20%20%20%20%20%20%20%20%20%20%20%20%20%20%20%20%7B%22extraClasses%22%3A%20%22fa-rotate-0%22%2C%20%22icon%22%3A%20%22bicycle%22%2C%20%22iconColor%22%3A%20%22white%22%2C%20%22markerColor%22%3A%20%22darkblue%22%2C%20%22prefix%22%3A%20%22fa%22%7D%0A%20%20%20%20%20%20%20%20%20%20%20%20%29%3B%0A%20%20%20%20%20%20%20%20%20%20%20%20marker_40a30b150212412fa8dc709b012f6f67.setIcon%28icon_72570aaa09a848799b6779246548adfb%29%3B%0A%20%20%20%20%20%20%20%20%0A%20%20%20%20%0A%20%20%20%20%20%20%20%20var%20popup_aaf785033db24ac39d03890500737f59%20%3D%20L.popup%28%7B%22maxWidth%22%3A%20%22100%25%22%7D%29%3B%0A%0A%20%20%20%20%20%20%20%20%0A%20%20%20%20%20%20%20%20%20%20%20%20var%20html_6eadc80504ff4dd59c2b498a848c590d%20%3D%20%24%28%60%3Cdiv%20id%3D%22html_6eadc80504ff4dd59c2b498a848c590d%22%20style%3D%22width%3A%20100.0%25%3B%20height%3A%20100.0%25%3B%22%3EId%3A%201032%3Cbr%3EHolyrood%20Park%20-%20Woman%27s%20Tour%20Of%20Scotland%20%28Event%2011/08/19%29%3Cbr%3EDescription%3A%20Holyrood%20Park%20-%20Woman%27s%20Tour%20Of%20Scotland%20%28Event%2011/08/19%29%3Cbr%3E%3Cbr%3ECounts%3A%206%3C/div%3E%60%29%5B0%5D%3B%0A%20%20%20%20%20%20%20%20%20%20%20%20popup_aaf785033db24ac39d03890500737f59.setContent%28html_6eadc80504ff4dd59c2b498a848c590d%29%3B%0A%20%20%20%20%20%20%20%20%0A%0A%20%20%20%20%20%20%20%20marker_40a30b150212412fa8dc709b012f6f67.bindPopup%28popup_aaf785033db24ac39d03890500737f59%29%0A%20%20%20%20%20%20%20%20%3B%0A%0A%20%20%20%20%20%20%20%20%0A%20%20%20%20%0A%20%20%20%20%0A%20%20%20%20%20%20%20%20%20%20%20%20var%20marker_21cbb83149e9400090a6a2571b5fcc9c%20%3D%20L.marker%28%0A%20%20%20%20%20%20%20%20%20%20%20%20%20%20%20%20%5B55.92701363904687%2C%20-3.248556775310362%5D%2C%0A%20%20%20%20%20%20%20%20%20%20%20%20%20%20%20%20%7B%7D%0A%20%20%20%20%20%20%20%20%20%20%20%20%29.addTo%28marker_cluster_ada872b66f8d4492ab77f3dff857f701%29%3B%0A%20%20%20%20%20%20%20%20%0A%20%20%20%20%0A%20%20%20%20%20%20%20%20%20%20%20%20var%20icon_822a1871c25f448f8266a30228a4aa4d%20%3D%20L.AwesomeMarkers.icon%28%0A%20%20%20%20%20%20%20%20%20%20%20%20%20%20%20%20%7B%22extraClasses%22%3A%20%22fa-rotate-0%22%2C%20%22icon%22%3A%20%22bicycle%22%2C%20%22iconColor%22%3A%20%22white%22%2C%20%22markerColor%22%3A%20%22darkblue%22%2C%20%22prefix%22%3A%20%22fa%22%7D%0A%20%20%20%20%20%20%20%20%20%20%20%20%29%3B%0A%20%20%20%20%20%20%20%20%20%20%20%20marker_21cbb83149e9400090a6a2571b5fcc9c.setIcon%28icon_822a1871c25f448f8266a30228a4aa4d%29%3B%0A%20%20%20%20%20%20%20%20%0A%20%20%20%20%0A%20%20%20%20%20%20%20%20var%20popup_85a11b1567224efd86a08023d554b576%20%3D%20L.popup%28%7B%22maxWidth%22%3A%20%22100%25%22%7D%29%3B%0A%0A%20%20%20%20%20%20%20%20%0A%20%20%20%20%20%20%20%20%20%20%20%20var%20html_1bf758b32746402fb6244713df4415f7%20%3D%20%24%28%60%3Cdiv%20id%3D%22html_1bf758b32746402fb6244713df4415f7%22%20style%3D%22width%3A%20100.0%25%3B%20height%3A%20100.0%25%3B%22%3EId%3A%20964%3Cbr%3ECorn%20Exchange%20-%20walk%20cycle%20event%3Cbr%3EDescription%3A%20Temporary%20event%20station%3Cbr%3E%3Cbr%3ECounts%3A%206%3C/div%3E%60%29%5B0%5D%3B%0A%20%20%20%20%20%20%20%20%20%20%20%20popup_85a11b1567224efd86a08023d554b576.setContent%28html_1bf758b32746402fb6244713df4415f7%29%3B%0A%20%20%20%20%20%20%20%20%0A%0A%20%20%20%20%20%20%20%20marker_21cbb83149e9400090a6a2571b5fcc9c.bindPopup%28popup_85a11b1567224efd86a08023d554b576%29%0A%20%20%20%20%20%20%20%20%3B%0A%0A%20%20%20%20%20%20%20%20%0A%20%20%20%20%0A%20%20%20%20%0A%20%20%20%20%20%20%20%20%20%20%20%20var%20marker_cdf470e459b641f5830565f92652dd25%20%3D%20L.marker%28%0A%20%20%20%20%20%20%20%20%20%20%20%20%20%20%20%20%5B55.940906749395%2C%20-3.3688722251728223%5D%2C%0A%20%20%20%20%20%20%20%20%20%20%20%20%20%20%20%20%7B%7D%0A%20%20%20%20%20%20%20%20%20%20%20%20%29.addTo%28marker_cluster_ada872b66f8d4492ab77f3dff857f701%29%3B%0A%20%20%20%20%20%20%20%20%0A%20%20%20%20%0A%20%20%20%20%20%20%20%20%20%20%20%20var%20icon_b6f13cc197e14dc78386f3d72e1e5c64%20%3D%20L.AwesomeMarkers.icon%28%0A%20%20%20%20%20%20%20%20%20%20%20%20%20%20%20%20%7B%22extraClasses%22%3A%20%22fa-rotate-0%22%2C%20%22icon%22%3A%20%22bicycle%22%2C%20%22iconColor%22%3A%20%22white%22%2C%20%22markerColor%22%3A%20%22darkblue%22%2C%20%22prefix%22%3A%20%22fa%22%7D%0A%20%20%20%20%20%20%20%20%20%20%20%20%29%3B%0A%20%20%20%20%20%20%20%20%20%20%20%20marker_cdf470e459b641f5830565f92652dd25.setIcon%28icon_b6f13cc197e14dc78386f3d72e1e5c64%29%3B%0A%20%20%20%20%20%20%20%20%0A%20%20%20%20%0A%20%20%20%20%20%20%20%20var%20popup_016e831c24624075b25cbfa01c2cf45c%20%3D%20L.popup%28%7B%22maxWidth%22%3A%20%22100%25%22%7D%29%3B%0A%0A%20%20%20%20%20%20%20%20%0A%20%20%20%20%20%20%20%20%20%20%20%20var%20html_ad9b3db47b2f402798b2ceb2f688e8d5%20%3D%20%24%28%60%3Cdiv%20id%3D%22html_ad9b3db47b2f402798b2ceb2f688e8d5%22%20style%3D%22width%3A%20100.0%25%3B%20height%3A%20100.0%25%3B%22%3EId%3A%20980%3Cbr%3ERoyal%20Highland%20Show%20-%20East%20Gate%20%2819th%20to%2023rd%20June%29%3Cbr%3EDescription%3A%20Virtual%20station%20at%20east%20gate%20of%20RHC%20%2819th%20to%2023rd%20June%29%3Cbr%3E%3Cbr%3ECounts%3A%206%3C/div%3E%60%29%5B0%5D%3B%0A%20%20%20%20%20%20%20%20%20%20%20%20popup_016e831c24624075b25cbfa01c2cf45c.setContent%28html_ad9b3db47b2f402798b2ceb2f688e8d5%29%3B%0A%20%20%20%20%20%20%20%20%0A%0A%20%20%20%20%20%20%20%20marker_cdf470e459b641f5830565f92652dd25.bindPopup%28popup_016e831c24624075b25cbfa01c2cf45c%29%0A%20%20%20%20%20%20%20%20%3B%0A%0A%20%20%20%20%20%20%20%20%0A%20%20%20%20%0A%20%20%20%20%0A%20%20%20%20%20%20%20%20%20%20%20%20var%20marker_1c95c94a90db4471bb706a240819c340%20%3D%20L.marker%28%0A%20%20%20%20%20%20%20%20%20%20%20%20%20%20%20%20%5B55.94489645971535%2C%20-3.199635221500898%5D%2C%0A%20%20%20%20%20%20%20%20%20%20%20%20%20%20%20%20%7B%7D%0A%20%20%20%20%20%20%20%20%20%20%20%20%29.addTo%28marker_cluster_ada872b66f8d4492ab77f3dff857f701%29%3B%0A%20%20%20%20%20%20%20%20%0A%20%20%20%20%0A%20%20%20%20%20%20%20%20%20%20%20%20var%20icon_074ce78fd74347ab87cf7fc84fa9f7a6%20%3D%20L.AwesomeMarkers.icon%28%0A%20%20%20%20%20%20%20%20%20%20%20%20%20%20%20%20%7B%22extraClasses%22%3A%20%22fa-rotate-0%22%2C%20%22icon%22%3A%20%22bicycle%22%2C%20%22iconColor%22%3A%20%22white%22%2C%20%22markerColor%22%3A%20%22darkblue%22%2C%20%22prefix%22%3A%20%22fa%22%7D%0A%20%20%20%20%20%20%20%20%20%20%20%20%29%3B%0A%20%20%20%20%20%20%20%20%20%20%20%20marker_1c95c94a90db4471bb706a240819c340.setIcon%28icon_074ce78fd74347ab87cf7fc84fa9f7a6%29%3B%0A%20%20%20%20%20%20%20%20%0A%20%20%20%20%0A%20%20%20%20%20%20%20%20var%20popup_825996fdda504a63952500330e0d9d07%20%3D%20L.popup%28%7B%22maxWidth%22%3A%20%22100%25%22%7D%29%3B%0A%0A%20%20%20%20%20%20%20%20%0A%20%20%20%20%20%20%20%20%20%20%20%20var%20html_f28205daad7446d9a43a1cc15f4f1466%20%3D%20%24%28%60%3Cdiv%20id%3D%22html_f28205daad7446d9a43a1cc15f4f1466%22%20style%3D%22width%3A%20100.0%25%3B%20height%3A%20100.0%25%3B%22%3EId%3A%20365%3Cbr%3ENovotel%3Cbr%3EDescription%3A%20Novotel%3Cbr%3E%3Cbr%3ECounts%3A%205%3C/div%3E%60%29%5B0%5D%3B%0A%20%20%20%20%20%20%20%20%20%20%20%20popup_825996fdda504a63952500330e0d9d07.setContent%28html_f28205daad7446d9a43a1cc15f4f1466%29%3B%0A%20%20%20%20%20%20%20%20%0A%0A%20%20%20%20%20%20%20%20marker_1c95c94a90db4471bb706a240819c340.bindPopup%28popup_825996fdda504a63952500330e0d9d07%29%0A%20%20%20%20%20%20%20%20%3B%0A%0A%20%20%20%20%20%20%20%20%0A%20%20%20%20%0A%20%20%20%20%0A%20%20%20%20%20%20%20%20%20%20%20%20var%20marker_62dfa3c3aa554d39b05b23b431dd01aa%20%3D%20L.marker%28%0A%20%20%20%20%20%20%20%20%20%20%20%20%20%20%20%20%5B55.93437199635734%2C%20-3.105037819791278%5D%2C%0A%20%20%20%20%20%20%20%20%20%20%20%20%20%20%20%20%7B%7D%0A%20%20%20%20%20%20%20%20%20%20%20%20%29.addTo%28marker_cluster_ada872b66f8d4492ab77f3dff857f701%29%3B%0A%20%20%20%20%20%20%20%20%0A%20%20%20%20%0A%20%20%20%20%20%20%20%20%20%20%20%20var%20icon_6625bdbdc99b491bae1e39207fddb60e%20%3D%20L.AwesomeMarkers.icon%28%0A%20%20%20%20%20%20%20%20%20%20%20%20%20%20%20%20%7B%22extraClasses%22%3A%20%22fa-rotate-0%22%2C%20%22icon%22%3A%20%22bicycle%22%2C%20%22iconColor%22%3A%20%22white%22%2C%20%22markerColor%22%3A%20%22darkblue%22%2C%20%22prefix%22%3A%20%22fa%22%7D%0A%20%20%20%20%20%20%20%20%20%20%20%20%29%3B%0A%20%20%20%20%20%20%20%20%20%20%20%20marker_62dfa3c3aa554d39b05b23b431dd01aa.setIcon%28icon_6625bdbdc99b491bae1e39207fddb60e%29%3B%0A%20%20%20%20%20%20%20%20%0A%20%20%20%20%0A%20%20%20%20%20%20%20%20var%20popup_ffa4d814d528454bb2d7acea18f1619a%20%3D%20L.popup%28%7B%22maxWidth%22%3A%20%22100%25%22%7D%29%3B%0A%0A%20%20%20%20%20%20%20%20%0A%20%20%20%20%20%20%20%20%20%20%20%20var%20html_1d999a095fd74f59b6812084adcce6f6%20%3D%20%24%28%60%3Cdiv%20id%3D%22html_1d999a095fd74f59b6812084adcce6f6%22%20style%3D%22width%3A%20100.0%25%3B%20height%3A%20100.0%25%3B%22%3EId%3A%201056%3Cbr%3EFort%20Kinnaird%3Cbr%3EDescription%3A%20Next%20to%20Playpark/Cafe%20Nero%3Cbr%3E%3Cbr%3ECounts%3A%203%3C/div%3E%60%29%5B0%5D%3B%0A%20%20%20%20%20%20%20%20%20%20%20%20popup_ffa4d814d528454bb2d7acea18f1619a.setContent%28html_1d999a095fd74f59b6812084adcce6f6%29%3B%0A%20%20%20%20%20%20%20%20%0A%0A%20%20%20%20%20%20%20%20marker_62dfa3c3aa554d39b05b23b431dd01aa.bindPopup%28popup_ffa4d814d528454bb2d7acea18f1619a%29%0A%20%20%20%20%20%20%20%20%3B%0A%0A%20%20%20%20%20%20%20%20%0A%20%20%20%20%0A%20%20%20%20%0A%20%20%20%20%20%20%20%20%20%20%20%20var%20marker_11811b7896444db6a7d4bd92a760802c%20%3D%20L.marker%28%0A%20%20%20%20%20%20%20%20%20%20%20%20%20%20%20%20%5B55.97233473082818%2C%20-3.155781602605998%5D%2C%0A%20%20%20%20%20%20%20%20%20%20%20%20%20%20%20%20%7B%7D%0A%20%20%20%20%20%20%20%20%20%20%20%20%29.addTo%28marker_cluster_ada872b66f8d4492ab77f3dff857f701%29%3B%0A%20%20%20%20%20%20%20%20%0A%20%20%20%20%0A%20%20%20%20%20%20%20%20%20%20%20%20var%20icon_3552c6dc24744270b1f8d1bc33c3a4d3%20%3D%20L.AwesomeMarkers.icon%28%0A%20%20%20%20%20%20%20%20%20%20%20%20%20%20%20%20%7B%22extraClasses%22%3A%20%22fa-rotate-0%22%2C%20%22icon%22%3A%20%22bicycle%22%2C%20%22iconColor%22%3A%20%22white%22%2C%20%22markerColor%22%3A%20%22darkblue%22%2C%20%22prefix%22%3A%20%22fa%22%7D%0A%20%20%20%20%20%20%20%20%20%20%20%20%29%3B%0A%20%20%20%20%20%20%20%20%20%20%20%20marker_11811b7896444db6a7d4bd92a760802c.setIcon%28icon_3552c6dc24744270b1f8d1bc33c3a4d3%29%3B%0A%20%20%20%20%20%20%20%20%0A%20%20%20%20%0A%20%20%20%20%20%20%20%20var%20popup_db8f6ca8c89445d98766d3462bc3419a%20%3D%20L.popup%28%7B%22maxWidth%22%3A%20%22100%25%22%7D%29%3B%0A%0A%20%20%20%20%20%20%20%20%0A%20%20%20%20%20%20%20%20%20%20%20%20var%20html_1cfe3851a44a4979a16ab0ef12e0dba3%20%3D%20%24%28%60%3Cdiv%20id%3D%22html_1cfe3851a44a4979a16ab0ef12e0dba3%22%20style%3D%22width%3A%20100.0%25%3B%20height%3A%20100.0%25%3B%22%3EId%3A%20299%3Cbr%3EDepot%20Virtual%3Cbr%3EDescription%3A%20Depot%20internal%20station%3Cbr%3E%3Cbr%3ECounts%3A%203%3C/div%3E%60%29%5B0%5D%3B%0A%20%20%20%20%20%20%20%20%20%20%20%20popup_db8f6ca8c89445d98766d3462bc3419a.setContent%28html_1cfe3851a44a4979a16ab0ef12e0dba3%29%3B%0A%20%20%20%20%20%20%20%20%0A%0A%20%20%20%20%20%20%20%20marker_11811b7896444db6a7d4bd92a760802c.bindPopup%28popup_db8f6ca8c89445d98766d3462bc3419a%29%0A%20%20%20%20%20%20%20%20%3B%0A%0A%20%20%20%20%20%20%20%20%0A%20%20%20%20%0A%20%20%20%20%0A%20%20%20%20%20%20%20%20%20%20%20%20var%20marker_985e7d4e6e5147d3abe1e992a1a63517%20%3D%20L.marker%28%0A%20%20%20%20%20%20%20%20%20%20%20%20%20%20%20%20%5B55.94820962824952%2C%20-3.181597452807864%5D%2C%0A%20%20%20%20%20%20%20%20%20%20%20%20%20%20%20%20%7B%7D%0A%20%20%20%20%20%20%20%20%20%20%20%20%29.addTo%28marker_cluster_ada872b66f8d4492ab77f3dff857f701%29%3B%0A%20%20%20%20%20%20%20%20%0A%20%20%20%20%0A%20%20%20%20%20%20%20%20%20%20%20%20var%20icon_a81e3af79fb947d4b27d133a63fdc176%20%3D%20L.AwesomeMarkers.icon%28%0A%20%20%20%20%20%20%20%20%20%20%20%20%20%20%20%20%7B%22extraClasses%22%3A%20%22fa-rotate-0%22%2C%20%22icon%22%3A%20%22bicycle%22%2C%20%22iconColor%22%3A%20%22white%22%2C%20%22markerColor%22%3A%20%22darkblue%22%2C%20%22prefix%22%3A%20%22fa%22%7D%0A%20%20%20%20%20%20%20%20%20%20%20%20%29%3B%0A%20%20%20%20%20%20%20%20%20%20%20%20marker_985e7d4e6e5147d3abe1e992a1a63517.setIcon%28icon_a81e3af79fb947d4b27d133a63fdc176%29%3B%0A%20%20%20%20%20%20%20%20%0A%20%20%20%20%0A%20%20%20%20%20%20%20%20var%20popup_5dbe302303e0475788ec331ccff51a9f%20%3D%20L.popup%28%7B%22maxWidth%22%3A%20%22100%25%22%7D%29%3B%0A%0A%20%20%20%20%20%20%20%20%0A%20%20%20%20%20%20%20%20%20%20%20%20var%20html_ead3224a52364d92839b8a4ec688fcdd%20%3D%20%24%28%60%3Cdiv%20id%3D%22html_ead3224a52364d92839b8a4ec688fcdd%22%20style%3D%22width%3A%20100.0%25%3B%20height%3A%20100.0%25%3B%22%3EId%3A%201057%3Cbr%3EPleasance%20-%20Edinburgh%20University%20Sports%20Fair%3Cbr%3EDescription%3A%20Pleasance%20Sports%20Complex%3Cbr%3E%3Cbr%3ECounts%3A%202%3C/div%3E%60%29%5B0%5D%3B%0A%20%20%20%20%20%20%20%20%20%20%20%20popup_5dbe302303e0475788ec331ccff51a9f.setContent%28html_ead3224a52364d92839b8a4ec688fcdd%29%3B%0A%20%20%20%20%20%20%20%20%0A%0A%20%20%20%20%20%20%20%20marker_985e7d4e6e5147d3abe1e992a1a63517.bindPopup%28popup_5dbe302303e0475788ec331ccff51a9f%29%0A%20%20%20%20%20%20%20%20%3B%0A%0A%20%20%20%20%20%20%20%20%0A%20%20%20%20%0A%20%20%20%20%0A%20%20%20%20%20%20%20%20%20%20%20%20var%20marker_8bdca14780dd4bb199feb74acd6f6ec6%20%3D%20L.marker%28%0A%20%20%20%20%20%20%20%20%20%20%20%20%20%20%20%20%5B55.97237325804326%2C%20-3.155833150766966%5D%2C%0A%20%20%20%20%20%20%20%20%20%20%20%20%20%20%20%20%7B%7D%0A%20%20%20%20%20%20%20%20%20%20%20%20%29.addTo%28marker_cluster_ada872b66f8d4492ab77f3dff857f701%29%3B%0A%20%20%20%20%20%20%20%20%0A%20%20%20%20%0A%20%20%20%20%20%20%20%20%20%20%20%20var%20icon_a9900b6620c146538de4f69b54c7ffb9%20%3D%20L.AwesomeMarkers.icon%28%0A%20%20%20%20%20%20%20%20%20%20%20%20%20%20%20%20%7B%22extraClasses%22%3A%20%22fa-rotate-0%22%2C%20%22icon%22%3A%20%22bicycle%22%2C%20%22iconColor%22%3A%20%22white%22%2C%20%22markerColor%22%3A%20%22darkblue%22%2C%20%22prefix%22%3A%20%22fa%22%7D%0A%20%20%20%20%20%20%20%20%20%20%20%20%29%3B%0A%20%20%20%20%20%20%20%20%20%20%20%20marker_8bdca14780dd4bb199feb74acd6f6ec6.setIcon%28icon_a9900b6620c146538de4f69b54c7ffb9%29%3B%0A%20%20%20%20%20%20%20%20%0A%20%20%20%20%0A%20%20%20%20%20%20%20%20var%20popup_6bb9cd9eb9fb474784099192b33800f3%20%3D%20L.popup%28%7B%22maxWidth%22%3A%20%22100%25%22%7D%29%3B%0A%0A%20%20%20%20%20%20%20%20%0A%20%20%20%20%20%20%20%20%20%20%20%20var%20html_d556410fdab240d8b1e14cc3d627990c%20%3D%20%24%28%60%3Cdiv%20id%3D%22html_d556410fdab240d8b1e14cc3d627990c%22%20style%3D%22width%3A%20100.0%25%3B%20height%3A%20100.0%25%3B%22%3EId%3A%20241%3Cbr%3EDepot%3Cbr%3EDescription%3A%20Depot%3Cbr%3E%3Cbr%3ECounts%3A%202%3C/div%3E%60%29%5B0%5D%3B%0A%20%20%20%20%20%20%20%20%20%20%20%20popup_6bb9cd9eb9fb474784099192b33800f3.setContent%28html_d556410fdab240d8b1e14cc3d627990c%29%3B%0A%20%20%20%20%20%20%20%20%0A%0A%20%20%20%20%20%20%20%20marker_8bdca14780dd4bb199feb74acd6f6ec6.bindPopup%28popup_6bb9cd9eb9fb474784099192b33800f3%29%0A%20%20%20%20%20%20%20%20%3B%0A%0A%20%20%20%20%20%20%20%20%0A%20%20%20%20%0A%20%20%20%20%0A%20%20%20%20%20%20%20%20%20%20%20%20var%20marker_0028143ba511493485949d49c2a5a751%20%3D%20L.marker%28%0A%20%20%20%20%20%20%20%20%20%20%20%20%20%20%20%20%5B55.940886347739024%2C%20-3.240777565829148%5D%2C%0A%20%20%20%20%20%20%20%20%20%20%20%20%20%20%20%20%7B%7D%0A%20%20%20%20%20%20%20%20%20%20%20%20%29.addTo%28marker_cluster_ada872b66f8d4492ab77f3dff857f701%29%3B%0A%20%20%20%20%20%20%20%20%0A%20%20%20%20%0A%20%20%20%20%20%20%20%20%20%20%20%20var%20icon_75044ce6e696443a81cd880412af8e25%20%3D%20L.AwesomeMarkers.icon%28%0A%20%20%20%20%20%20%20%20%20%20%20%20%20%20%20%20%7B%22extraClasses%22%3A%20%22fa-rotate-0%22%2C%20%22icon%22%3A%20%22bicycle%22%2C%20%22iconColor%22%3A%20%22white%22%2C%20%22markerColor%22%3A%20%22darkblue%22%2C%20%22prefix%22%3A%20%22fa%22%7D%0A%20%20%20%20%20%20%20%20%20%20%20%20%29%3B%0A%20%20%20%20%20%20%20%20%20%20%20%20marker_0028143ba511493485949d49c2a5a751.setIcon%28icon_75044ce6e696443a81cd880412af8e25%29%3B%0A%20%20%20%20%20%20%20%20%0A%20%20%20%20%0A%20%20%20%20%20%20%20%20var%20popup_68364cf09ed34ed9ad9c07c4b3615754%20%3D%20L.popup%28%7B%22maxWidth%22%3A%20%22100%25%22%7D%29%3B%0A%0A%20%20%20%20%20%20%20%20%0A%20%20%20%20%20%20%20%20%20%20%20%20var%20html_04c8efb9c24c40a7a6c9aed7d211a4ad%20%3D%20%24%28%60%3Cdiv%20id%3D%22html_04c8efb9c24c40a7a6c9aed7d211a4ad%22%20style%3D%22width%3A%20100.0%25%3B%20height%3A%20100.0%25%3B%22%3EId%3A%201740%3Cbr%3ECycling%20Scotland%20Conference%3Cbr%3EDescription%3A%20Murrayfield%20Stadium%3Cbr%3E%3Cbr%3ECounts%3A%201%3C/div%3E%60%29%5B0%5D%3B%0A%20%20%20%20%20%20%20%20%20%20%20%20popup_68364cf09ed34ed9ad9c07c4b3615754.setContent%28html_04c8efb9c24c40a7a6c9aed7d211a4ad%29%3B%0A%20%20%20%20%20%20%20%20%0A%0A%20%20%20%20%20%20%20%20marker_0028143ba511493485949d49c2a5a751.bindPopup%28popup_68364cf09ed34ed9ad9c07c4b3615754%29%0A%20%20%20%20%20%20%20%20%3B%0A%0A%20%20%20%20%20%20%20%20%0A%20%20%20%20%0A%20%20%20%20%0A%20%20%20%20%20%20%20%20%20%20%20%20var%20marker_03b8f25fc82e41008551c1dbc3cccd0f%20%3D%20L.marker%28%0A%20%20%20%20%20%20%20%20%20%20%20%20%20%20%20%20%5B55.950222304548845%2C%20-3.190270030188429%5D%2C%0A%20%20%20%20%20%20%20%20%20%20%20%20%20%20%20%20%7B%7D%0A%20%20%20%20%20%20%20%20%20%20%20%20%29.addTo%28marker_cluster_ada872b66f8d4492ab77f3dff857f701%29%3B%0A%20%20%20%20%20%20%20%20%0A%20%20%20%20%0A%20%20%20%20%20%20%20%20%20%20%20%20var%20icon_edd4c0401cc54542a426009cfbaa31d4%20%3D%20L.AwesomeMarkers.icon%28%0A%20%20%20%20%20%20%20%20%20%20%20%20%20%20%20%20%7B%22extraClasses%22%3A%20%22fa-rotate-0%22%2C%20%22icon%22%3A%20%22bicycle%22%2C%20%22iconColor%22%3A%20%22white%22%2C%20%22markerColor%22%3A%20%22darkblue%22%2C%20%22prefix%22%3A%20%22fa%22%7D%0A%20%20%20%20%20%20%20%20%20%20%20%20%29%3B%0A%20%20%20%20%20%20%20%20%20%20%20%20marker_03b8f25fc82e41008551c1dbc3cccd0f.setIcon%28icon_edd4c0401cc54542a426009cfbaa31d4%29%3B%0A%20%20%20%20%20%20%20%20%0A%20%20%20%20%0A%20%20%20%20%20%20%20%20var%20popup_6f082be7e87b4d6b8523482eceb748ec%20%3D%20L.popup%28%7B%22maxWidth%22%3A%20%22100%25%22%7D%29%3B%0A%0A%20%20%20%20%20%20%20%20%0A%20%20%20%20%20%20%20%20%20%20%20%20var%20html_c9f9ca61184e43da9c943a57ca3a37cb%20%3D%20%24%28%60%3Cdiv%20id%3D%22html_c9f9ca61184e43da9c943a57ca3a37cb%22%20style%3D%22width%3A%20100.0%25%3B%20height%3A%20100.0%25%3B%22%3EId%3A%201857%3Cbr%3ECity%20Chambers%20Launch%20Station%3Cbr%3EDescription%3A%20Temporary%20station%20at%20City%20Chambers%3Cbr%3E%3Cbr%3ECounts%3A%201%3C/div%3E%60%29%5B0%5D%3B%0A%20%20%20%20%20%20%20%20%20%20%20%20popup_6f082be7e87b4d6b8523482eceb748ec.setContent%28html_c9f9ca61184e43da9c943a57ca3a37cb%29%3B%0A%20%20%20%20%20%20%20%20%0A%0A%20%20%20%20%20%20%20%20marker_03b8f25fc82e41008551c1dbc3cccd0f.bindPopup%28popup_6f082be7e87b4d6b8523482eceb748ec%29%0A%20%20%20%20%20%20%20%20%3B%0A%0A%20%20%20%20%20%20%20%20%0A%20%20%20%20%0A%20%20%20%20%0A%20%20%20%20%20%20%20%20%20%20%20%20var%20map_d72f626dd3b84c72a9d2101ff1c40308%20%3D%20L.map%28%0A%20%20%20%20%20%20%20%20%20%20%20%20%20%20%20%20%22map_d72f626dd3b84c72a9d2101ff1c40308%22%2C%0A%20%20%20%20%20%20%20%20%20%20%20%20%20%20%20%20%7B%0A%20%20%20%20%20%20%20%20%20%20%20%20%20%20%20%20%20%20%20%20center%3A%20%5B55.953251%2C%20-3.1882675%5D%2C%0A%20%20%20%20%20%20%20%20%20%20%20%20%20%20%20%20%20%20%20%20crs%3A%20L.CRS.EPSG3857%2C%0A%20%20%20%20%20%20%20%20%20%20%20%20%20%20%20%20%20%20%20%20zoom%3A%2014%2C%0A%20%20%20%20%20%20%20%20%20%20%20%20%20%20%20%20%20%20%20%20zoomControl%3A%20true%2C%0A%20%20%20%20%20%20%20%20%20%20%20%20%20%20%20%20%20%20%20%20preferCanvas%3A%20false%2C%0A%20%20%20%20%20%20%20%20%20%20%20%20%20%20%20%20%7D%0A%20%20%20%20%20%20%20%20%20%20%20%20%29%3B%0A%0A%20%20%20%20%20%20%20%20%20%20%20%20%0A%0A%20%20%20%20%20%20%20%20%0A%20%20%20%20%0A%20%20%20%20%20%20%20%20%20%20%20%20var%20tile_layer_eac5cd366b06404b89a0b17f9d08a52f%20%3D%20L.tileLayer%28%0A%20%20%20%20%20%20%20%20%20%20%20%20%20%20%20%20%22https%3A//cartodb-basemaps-%7Bs%7D.global.ssl.fastly.net/light_all/%7Bz%7D/%7Bx%7D/%7By%7D.png%22%2C%0A%20%20%20%20%20%20%20%20%20%20%20%20%20%20%20%20%7B%22attribution%22%3A%20%22%5Cu0026copy%3B%20%5Cu003ca%20href%3D%5C%22http%3A//www.openstreetmap.org/copyright%5C%22%5Cu003eOpenStreetMap%5Cu003c/a%5Cu003e%20contributors%20%5Cu0026copy%3B%20%5Cu003ca%20href%3D%5C%22http%3A//cartodb.com/attributions%5C%22%5Cu003eCartoDB%5Cu003c/a%5Cu003e%2C%20CartoDB%20%5Cu003ca%20href%20%3D%5C%22http%3A//cartodb.com/attributions%5C%22%5Cu003eattributions%5Cu003c/a%5Cu003e%22%2C%20%22detectRetina%22%3A%20false%2C%20%22maxNativeZoom%22%3A%2018%2C%20%22maxZoom%22%3A%2018%2C%20%22minZoom%22%3A%200%2C%20%22noWrap%22%3A%20false%2C%20%22opacity%22%3A%201%2C%20%22subdomains%22%3A%20%22abc%22%2C%20%22tms%22%3A%20false%7D%0A%20%20%20%20%20%20%20%20%20%20%20%20%29.addTo%28map_d72f626dd3b84c72a9d2101ff1c40308%29%3B%0A%20%20%20%20%20%20%20%20%0A%20%20%20%20%0A%20%20%20%20%20%20%20%20%20%20%20%20var%20marker_cluster_67359bb34138463b8bbaf6c2ba135992%20%3D%20L.markerClusterGroup%28%0A%20%20%20%20%20%20%20%20%20%20%20%20%20%20%20%20%7B%7D%0A%20%20%20%20%20%20%20%20%20%20%20%20%29%3B%0A%20%20%20%20%20%20%20%20%20%20%20%20map_d72f626dd3b84c72a9d2101ff1c40308.addLayer%28marker_cluster_67359bb34138463b8bbaf6c2ba135992%29%3B%0A%20%20%20%20%20%20%20%20%0A%20%20%20%20%0A%20%20%20%20%20%20%20%20%20%20%20%20var%20marker_d593dfb0619e46a9b665a97b88caed0d%20%3D%20L.marker%28%0A%20%20%20%20%20%20%20%20%20%20%20%20%20%20%20%20%5B55.95791540692348%2C%20-3.118332042090287%5D%2C%0A%20%20%20%20%20%20%20%20%20%20%20%20%20%20%20%20%7B%7D%0A%20%20%20%20%20%20%20%20%20%20%20%20%29.addTo%28marker_cluster_67359bb34138463b8bbaf6c2ba135992%29%3B%0A%20%20%20%20%20%20%20%20%0A%20%20%20%20%0A%20%20%20%20%20%20%20%20%20%20%20%20var%20icon_e5f8a1429739430f8a03cb57cd9e209c%20%3D%20L.AwesomeMarkers.icon%28%0A%20%20%20%20%20%20%20%20%20%20%20%20%20%20%20%20%7B%22extraClasses%22%3A%20%22fa-rotate-0%22%2C%20%22icon%22%3A%20%22bicycle%22%2C%20%22iconColor%22%3A%20%22white%22%2C%20%22markerColor%22%3A%20%22red%22%2C%20%22prefic%22%3A%20%22fa%22%2C%20%22prefix%22%3A%20%22glyphicon%22%7D%0A%20%20%20%20%20%20%20%20%20%20%20%20%29%3B%0A%20%20%20%20%20%20%20%20%20%20%20%20marker_d593dfb0619e46a9b665a97b88caed0d.setIcon%28icon_e5f8a1429739430f8a03cb57cd9e209c%29%3B%0A%20%20%20%20%20%20%20%20%0A%20%20%20%20%0A%20%20%20%20%20%20%20%20var%20popup_e70c2f617c3f4d4685fdaadddedcdcc0%20%3D%20L.popup%28%7B%22maxWidth%22%3A%20%22100%25%22%7D%29%3B%0A%0A%20%20%20%20%20%20%20%20%0A%20%20%20%20%20%20%20%20%20%20%20%20var%20html_5b607fd0783643988f5c3710c7746d74%20%3D%20%24%28%60%3Cdiv%20id%3D%22html_5b607fd0783643988f5c3710c7746d74%22%20style%3D%22width%3A%20100.0%25%3B%20height%3A%20100.0%25%3B%22%3EId%3A%201728%3Cbr%3EPortobello%20-%20Kings%20Road%3Cbr%3EDescription%3A%20Foot%20of%20Kings%20Road%20next%20to%20the%20promenade%3Cbr%3E%3Cbr%3ECounts%3A%2016656%3C/div%3E%60%29%5B0%5D%3B%0A%20%20%20%20%20%20%20%20%20%20%20%20popup_e70c2f617c3f4d4685fdaadddedcdcc0.setContent%28html_5b607fd0783643988f5c3710c7746d74%29%3B%0A%20%20%20%20%20%20%20%20%0A%0A%20%20%20%20%20%20%20%20marker_d593dfb0619e46a9b665a97b88caed0d.bindPopup%28popup_e70c2f617c3f4d4685fdaadddedcdcc0%29%0A%20%20%20%20%20%20%20%20%3B%0A%0A%20%20%20%20%20%20%20%20%0A%20%20%20%20%0A%20%20%20%20%0A%20%20%20%20%20%20%20%20%20%20%20%20var%20marker_3b00597375074190ac8af6f3a0fc9943%20%3D%20L.marker%28%0A%20%20%20%20%20%20%20%20%20%20%20%20%20%20%20%20%5B55.97761715254634%2C%20-3.174126319457627%5D%2C%0A%20%20%20%20%20%20%20%20%20%20%20%20%20%20%20%20%7B%7D%0A%20%20%20%20%20%20%20%20%20%20%20%20%29.addTo%28marker_cluster_67359bb34138463b8bbaf6c2ba135992%29%3B%0A%20%20%20%20%20%20%20%20%0A%20%20%20%20%0A%20%20%20%20%20%20%20%20%20%20%20%20var%20icon_e431bcec4616414eb0cb46f2ac19af37%20%3D%20L.AwesomeMarkers.icon%28%0A%20%20%20%20%20%20%20%20%20%20%20%20%20%20%20%20%7B%22extraClasses%22%3A%20%22fa-rotate-0%22%2C%20%22icon%22%3A%20%22bicycle%22%2C%20%22iconColor%22%3A%20%22white%22%2C%20%22markerColor%22%3A%20%22red%22%2C%20%22prefic%22%3A%20%22fa%22%2C%20%22prefix%22%3A%20%22glyphicon%22%7D%0A%20%20%20%20%20%20%20%20%20%20%20%20%29%3B%0A%20%20%20%20%20%20%20%20%20%20%20%20marker_3b00597375074190ac8af6f3a0fc9943.setIcon%28icon_e431bcec4616414eb0cb46f2ac19af37%29%3B%0A%20%20%20%20%20%20%20%20%0A%20%20%20%20%0A%20%20%20%20%20%20%20%20var%20popup_539c04ce238b460da416b2fce611fe48%20%3D%20L.popup%28%7B%22maxWidth%22%3A%20%22100%25%22%7D%29%3B%0A%0A%20%20%20%20%20%20%20%20%0A%20%20%20%20%20%20%20%20%20%20%20%20var%20html_c89a102644f7433fa658cebefe1282d3%20%3D%20%24%28%60%3Cdiv%20id%3D%22html_c89a102644f7433fa658cebefe1282d3%22%20style%3D%22width%3A%20100.0%25%3B%20height%3A%20100.0%25%3B%22%3EId%3A%20250%3Cbr%3EVictoria%20Quay%3Cbr%3EDescription%3A%20Entrance%20to%20Scottish%20Government%20Office%3Cbr%3E%3Cbr%3ECounts%3A%2013931%3C/div%3E%60%29%5B0%5D%3B%0A%20%20%20%20%20%20%20%20%20%20%20%20popup_539c04ce238b460da416b2fce611fe48.setContent%28html_c89a102644f7433fa658cebefe1282d3%29%3B%0A%20%20%20%20%20%20%20%20%0A%0A%20%20%20%20%20%20%20%20marker_3b00597375074190ac8af6f3a0fc9943.bindPopup%28popup_539c04ce238b460da416b2fce611fe48%29%0A%20%20%20%20%20%20%20%20%3B%0A%0A%20%20%20%20%20%20%20%20%0A%20%20%20%20%0A%20%20%20%20%0A%20%20%20%20%20%20%20%20%20%20%20%20var%20marker_dbbc8f4a9895445ba6df1a3fea1a9623%20%3D%20L.marker%28%0A%20%20%20%20%20%20%20%20%20%20%20%20%20%20%20%20%5B55.96280408759764%2C%20-3.196283585062929%5D%2C%0A%20%20%20%20%20%20%20%20%20%20%20%20%20%20%20%20%7B%7D%0A%20%20%20%20%20%20%20%20%20%20%20%20%29.addTo%28marker_cluster_67359bb34138463b8bbaf6c2ba135992%29%3B%0A%20%20%20%20%20%20%20%20%0A%20%20%20%20%0A%20%20%20%20%20%20%20%20%20%20%20%20var%20icon_a200994a9fab4bd390ca5cb2e7d50a19%20%3D%20L.AwesomeMarkers.icon%28%0A%20%20%20%20%20%20%20%20%20%20%20%20%20%20%20%20%7B%22extraClasses%22%3A%20%22fa-rotate-0%22%2C%20%22icon%22%3A%20%22bicycle%22%2C%20%22iconColor%22%3A%20%22white%22%2C%20%22markerColor%22%3A%20%22red%22%2C%20%22prefic%22%3A%20%22fa%22%2C%20%22prefix%22%3A%20%22glyphicon%22%7D%0A%20%20%20%20%20%20%20%20%20%20%20%20%29%3B%0A%20%20%20%20%20%20%20%20%20%20%20%20marker_dbbc8f4a9895445ba6df1a3fea1a9623.setIcon%28icon_a200994a9fab4bd390ca5cb2e7d50a19%29%3B%0A%20%20%20%20%20%20%20%20%0A%20%20%20%20%0A%20%20%20%20%20%20%20%20var%20popup_e7a470852098487ea7d222cf13a837e7%20%3D%20L.popup%28%7B%22maxWidth%22%3A%20%22100%25%22%7D%29%3B%0A%0A%20%20%20%20%20%20%20%20%0A%20%20%20%20%20%20%20%20%20%20%20%20var%20html_ed44a99dec9a465d81e9eb39302cd5a8%20%3D%20%24%28%60%3Cdiv%20id%3D%22html_ed44a99dec9a465d81e9eb39302cd5a8%22%20style%3D%22width%3A%20100.0%25%3B%20height%3A%20100.0%25%3B%22%3EId%3A%20262%3Cbr%3ECanonmills%3Cbr%3EDescription%3A%20near%20Tesco%27s%3Cbr%3E%3Cbr%3ECounts%3A%2011940%3C/div%3E%60%29%5B0%5D%3B%0A%20%20%20%20%20%20%20%20%20%20%20%20popup_e7a470852098487ea7d222cf13a837e7.setContent%28html_ed44a99dec9a465d81e9eb39302cd5a8%29%3B%0A%20%20%20%20%20%20%20%20%0A%0A%20%20%20%20%20%20%20%20marker_dbbc8f4a9895445ba6df1a3fea1a9623.bindPopup%28popup_e7a470852098487ea7d222cf13a837e7%29%0A%20%20%20%20%20%20%20%20%3B%0A%0A%20%20%20%20%20%20%20%20%0A%20%20%20%20%0A%20%20%20%20%0A%20%20%20%20%20%20%20%20%20%20%20%20var%20marker_7c65d80d8e6e44b28373be7ceab3831e%20%3D%20L.marker%28%0A%20%20%20%20%20%20%20%20%20%20%20%20%20%20%20%20%5B55.96901164826488%2C%20-3.16739470303429%5D%2C%0A%20%20%20%20%20%20%20%20%20%20%20%20%20%20%20%20%7B%7D%0A%20%20%20%20%20%20%20%20%20%20%20%20%29.addTo%28marker_cluster_67359bb34138463b8bbaf6c2ba135992%29%3B%0A%20%20%20%20%20%20%20%20%0A%20%20%20%20%0A%20%20%20%20%20%20%20%20%20%20%20%20var%20icon_eb653bfc225045c89dcee9857c9d039b%20%3D%20L.AwesomeMarkers.icon%28%0A%20%20%20%20%20%20%20%20%20%20%20%20%20%20%20%20%7B%22extraClasses%22%3A%20%22fa-rotate-0%22%2C%20%22icon%22%3A%20%22bicycle%22%2C%20%22iconColor%22%3A%20%22white%22%2C%20%22markerColor%22%3A%20%22red%22%2C%20%22prefic%22%3A%20%22fa%22%2C%20%22prefix%22%3A%20%22glyphicon%22%7D%0A%20%20%20%20%20%20%20%20%20%20%20%20%29%3B%0A%20%20%20%20%20%20%20%20%20%20%20%20marker_7c65d80d8e6e44b28373be7ceab3831e.setIcon%28icon_eb653bfc225045c89dcee9857c9d039b%29%3B%0A%20%20%20%20%20%20%20%20%0A%20%20%20%20%0A%20%20%20%20%20%20%20%20var%20popup_f5fd88128c1c4bf2bb9903cc07865cb4%20%3D%20L.popup%28%7B%22maxWidth%22%3A%20%22100%25%22%7D%29%3B%0A%0A%20%20%20%20%20%20%20%20%0A%20%20%20%20%20%20%20%20%20%20%20%20var%20html_bf2ca9d35644481a9baf567e06420c51%20%3D%20%24%28%60%3Cdiv%20id%3D%22html_bf2ca9d35644481a9baf567e06420c51%22%20style%3D%22width%3A%20100.0%25%3B%20height%3A%20100.0%25%3B%22%3EId%3A%201824%3Cbr%3EDuke%20Street%3Cbr%3EDescription%3A%20Junction%20with%20Easter%20Road%3Cbr%3E%3Cbr%3ECounts%3A%2011264%3C/div%3E%60%29%5B0%5D%3B%0A%20%20%20%20%20%20%20%20%20%20%20%20popup_f5fd88128c1c4bf2bb9903cc07865cb4.setContent%28html_bf2ca9d35644481a9baf567e06420c51%29%3B%0A%20%20%20%20%20%20%20%20%0A%0A%20%20%20%20%20%20%20%20marker_7c65d80d8e6e44b28373be7ceab3831e.bindPopup%28popup_f5fd88128c1c4bf2bb9903cc07865cb4%29%0A%20%20%20%20%20%20%20%20%3B%0A%0A%20%20%20%20%20%20%20%20%0A%20%20%20%20%0A%20%20%20%20%0A%20%20%20%20%20%20%20%20%20%20%20%20var%20marker_dafae191695846a5a6bc1b0695b89ba0%20%3D%20L.marker%28%0A%20%20%20%20%20%20%20%20%20%20%20%20%20%20%20%20%5B55.96503980507732%2C%20-3.176686414784853%5D%2C%0A%20%20%20%20%20%20%20%20%20%20%20%20%20%20%20%20%7B%7D%0A%20%20%20%20%20%20%20%20%20%20%20%20%29.addTo%28marker_cluster_67359bb34138463b8bbaf6c2ba135992%29%3B%0A%20%20%20%20%20%20%20%20%0A%20%20%20%20%0A%20%20%20%20%20%20%20%20%20%20%20%20var%20icon_bfece0c18dcf45b5bdcf5fadcc72db0b%20%3D%20L.AwesomeMarkers.icon%28%0A%20%20%20%20%20%20%20%20%20%20%20%20%20%20%20%20%7B%22extraClasses%22%3A%20%22fa-rotate-0%22%2C%20%22icon%22%3A%20%22bicycle%22%2C%20%22iconColor%22%3A%20%22white%22%2C%20%22markerColor%22%3A%20%22red%22%2C%20%22prefic%22%3A%20%22fa%22%2C%20%22prefix%22%3A%20%22glyphicon%22%7D%0A%20%20%20%20%20%20%20%20%20%20%20%20%29%3B%0A%20%20%20%20%20%20%20%20%20%20%20%20marker_dafae191695846a5a6bc1b0695b89ba0.setIcon%28icon_bfece0c18dcf45b5bdcf5fadcc72db0b%29%3B%0A%20%20%20%20%20%20%20%20%0A%20%20%20%20%0A%20%20%20%20%20%20%20%20var%20popup_cc49714c4c8a4731900ef10cb17c370f%20%3D%20L.popup%28%7B%22maxWidth%22%3A%20%22100%25%22%7D%29%3B%0A%0A%20%20%20%20%20%20%20%20%0A%20%20%20%20%20%20%20%20%20%20%20%20var%20html_736f0ba3d58f4535a4ca1dd16e94c08b%20%3D%20%24%28%60%3Cdiv%20id%3D%22html_736f0ba3d58f4535a4ca1dd16e94c08b%22%20style%3D%22width%3A%20100.0%25%3B%20height%3A%20100.0%25%3B%22%3EId%3A%20358%3Cbr%3ELeith%20Walk%3Cbr%3EDescription%3A%20Leith%20Walk%20opposite%20Dalmeny%20Street%3Cbr%3E%3Cbr%3ECounts%3A%2010422%3C/div%3E%60%29%5B0%5D%3B%0A%20%20%20%20%20%20%20%20%20%20%20%20popup_cc49714c4c8a4731900ef10cb17c370f.setContent%28html_736f0ba3d58f4535a4ca1dd16e94c08b%29%3B%0A%20%20%20%20%20%20%20%20%0A%0A%20%20%20%20%20%20%20%20marker_dafae191695846a5a6bc1b0695b89ba0.bindPopup%28popup_cc49714c4c8a4731900ef10cb17c370f%29%0A%20%20%20%20%20%20%20%20%3B%0A%0A%20%20%20%20%20%20%20%20%0A%20%20%20%20%0A%20%20%20%20%0A%20%20%20%20%20%20%20%20%20%20%20%20var%20marker_21bc39f14a0842ada79a24c943aecc76%20%3D%20L.marker%28%0A%20%20%20%20%20%20%20%20%20%20%20%20%20%20%20%20%5B55.939809466328285%2C%20-3.182738850746432%5D%2C%0A%20%20%20%20%20%20%20%20%20%20%20%20%20%20%20%20%7B%7D%0A%20%20%20%20%20%20%20%20%20%20%20%20%29.addTo%28marker_cluster_67359bb34138463b8bbaf6c2ba135992%29%3B%0A%20%20%20%20%20%20%20%20%0A%20%20%20%20%0A%20%20%20%20%20%20%20%20%20%20%20%20var%20icon_e1dca9dd545048908cab571a3c5da68a%20%3D%20L.AwesomeMarkers.icon%28%0A%20%20%20%20%20%20%20%20%20%20%20%20%20%20%20%20%7B%22extraClasses%22%3A%20%22fa-rotate-0%22%2C%20%22icon%22%3A%20%22bicycle%22%2C%20%22iconColor%22%3A%20%22white%22%2C%20%22markerColor%22%3A%20%22red%22%2C%20%22prefic%22%3A%20%22fa%22%2C%20%22prefix%22%3A%20%22glyphicon%22%7D%0A%20%20%20%20%20%20%20%20%20%20%20%20%29%3B%0A%20%20%20%20%20%20%20%20%20%20%20%20marker_21bc39f14a0842ada79a24c943aecc76.setIcon%28icon_e1dca9dd545048908cab571a3c5da68a%29%3B%0A%20%20%20%20%20%20%20%20%0A%20%20%20%20%0A%20%20%20%20%20%20%20%20var%20popup_ae5b58579a3d45cdba3ea930e1892a54%20%3D%20L.popup%28%7B%22maxWidth%22%3A%20%22100%25%22%7D%29%3B%0A%0A%20%20%20%20%20%20%20%20%0A%20%20%20%20%20%20%20%20%20%20%20%20var%20html_269e024791c14e7996028ad90591b411%20%3D%20%24%28%60%3Cdiv%20id%3D%22html_269e024791c14e7996028ad90591b411%22%20style%3D%22width%3A%20100.0%25%3B%20height%3A%20100.0%25%3B%22%3EId%3A%20265%3Cbr%3EMeadows%20East%3Cbr%3EDescription%3A%20Between%20Melville%20Terrace%20and%20Sciennes%3Cbr%3E%3Cbr%3ECounts%3A%2010355%3C/div%3E%60%29%5B0%5D%3B%0A%20%20%20%20%20%20%20%20%20%20%20%20popup_ae5b58579a3d45cdba3ea930e1892a54.setContent%28html_269e024791c14e7996028ad90591b411%29%3B%0A%20%20%20%20%20%20%20%20%0A%0A%20%20%20%20%20%20%20%20marker_21bc39f14a0842ada79a24c943aecc76.bindPopup%28popup_ae5b58579a3d45cdba3ea930e1892a54%29%0A%20%20%20%20%20%20%20%20%3B%0A%0A%20%20%20%20%20%20%20%20%0A%20%20%20%20%0A%20%20%20%20%0A%20%20%20%20%20%20%20%20%20%20%20%20var%20marker_2530547f817347b3a0355968807805a9%20%3D%20L.marker%28%0A%20%20%20%20%20%20%20%20%20%20%20%20%20%20%20%20%5B55.94023763168944%2C%20-3.194640214184801%5D%2C%0A%20%20%20%20%20%20%20%20%20%20%20%20%20%20%20%20%7B%7D%0A%20%20%20%20%20%20%20%20%20%20%20%20%29.addTo%28marker_cluster_67359bb34138463b8bbaf6c2ba135992%29%3B%0A%20%20%20%20%20%20%20%20%0A%20%20%20%20%0A%20%20%20%20%20%20%20%20%20%20%20%20var%20icon_5c59f931a3014625b521d3e8c854596a%20%3D%20L.AwesomeMarkers.icon%28%0A%20%20%20%20%20%20%20%20%20%20%20%20%20%20%20%20%7B%22extraClasses%22%3A%20%22fa-rotate-0%22%2C%20%22icon%22%3A%20%22bicycle%22%2C%20%22iconColor%22%3A%20%22white%22%2C%20%22markerColor%22%3A%20%22red%22%2C%20%22prefic%22%3A%20%22fa%22%2C%20%22prefix%22%3A%20%22glyphicon%22%7D%0A%20%20%20%20%20%20%20%20%20%20%20%20%29%3B%0A%20%20%20%20%20%20%20%20%20%20%20%20marker_2530547f817347b3a0355968807805a9.setIcon%28icon_5c59f931a3014625b521d3e8c854596a%29%3B%0A%20%20%20%20%20%20%20%20%0A%20%20%20%20%0A%20%20%20%20%20%20%20%20var%20popup_02ea9c2f700f4206bfa924abf24de8a1%20%3D%20L.popup%28%7B%22maxWidth%22%3A%20%22100%25%22%7D%29%3B%0A%0A%20%20%20%20%20%20%20%20%0A%20%20%20%20%20%20%20%20%20%20%20%20var%20html_f61c3d865e484f7ab5d6852c445acb59%20%3D%20%24%28%60%3Cdiv%20id%3D%22html_f61c3d865e484f7ab5d6852c445acb59%22%20style%3D%22width%3A%20100.0%25%3B%20height%3A%20100.0%25%3B%22%3EId%3A%201024%3Cbr%3EMeadow%20Place%3Cbr%3EDescription%3A%20End%20of%20Meadow%20Place%3Cbr%3E%3Cbr%3ECounts%3A%208732%3C/div%3E%60%29%5B0%5D%3B%0A%20%20%20%20%20%20%20%20%20%20%20%20popup_02ea9c2f700f4206bfa924abf24de8a1.setContent%28html_f61c3d865e484f7ab5d6852c445acb59%29%3B%0A%20%20%20%20%20%20%20%20%0A%0A%20%20%20%20%20%20%20%20marker_2530547f817347b3a0355968807805a9.bindPopup%28popup_02ea9c2f700f4206bfa924abf24de8a1%29%0A%20%20%20%20%20%20%20%20%3B%0A%0A%20%20%20%20%20%20%20%20%0A%20%20%20%20%0A%20%20%20%20%0A%20%20%20%20%20%20%20%20%20%20%20%20var%20marker_0513fc2171d247d384be9e7d546f7381%20%3D%20L.marker%28%0A%20%20%20%20%20%20%20%20%20%20%20%20%20%20%20%20%5B55.95856558589723%2C%20-3.208070182227743%5D%2C%0A%20%20%20%20%20%20%20%20%20%20%20%20%20%20%20%20%7B%7D%0A%20%20%20%20%20%20%20%20%20%20%20%20%29.addTo%28marker_cluster_67359bb34138463b8bbaf6c2ba135992%29%3B%0A%20%20%20%20%20%20%20%20%0A%20%20%20%20%0A%20%20%20%20%20%20%20%20%20%20%20%20var%20icon_ec30830973674fe1b2838237cc7e0bc6%20%3D%20L.AwesomeMarkers.icon%28%0A%20%20%20%20%20%20%20%20%20%20%20%20%20%20%20%20%7B%22extraClasses%22%3A%20%22fa-rotate-0%22%2C%20%22icon%22%3A%20%22bicycle%22%2C%20%22iconColor%22%3A%20%22white%22%2C%20%22markerColor%22%3A%20%22red%22%2C%20%22prefic%22%3A%20%22fa%22%2C%20%22prefix%22%3A%20%22glyphicon%22%7D%0A%20%20%20%20%20%20%20%20%20%20%20%20%29%3B%0A%20%20%20%20%20%20%20%20%20%20%20%20marker_0513fc2171d247d384be9e7d546f7381.setIcon%28icon_ec30830973674fe1b2838237cc7e0bc6%29%3B%0A%20%20%20%20%20%20%20%20%0A%20%20%20%20%0A%20%20%20%20%20%20%20%20var%20popup_18f7e60ade084697a6886a968fab1209%20%3D%20L.popup%28%7B%22maxWidth%22%3A%20%22100%25%22%7D%29%3B%0A%0A%20%20%20%20%20%20%20%20%0A%20%20%20%20%20%20%20%20%20%20%20%20var%20html_15f1da9adb9f4238b1bf68c771e710b1%20%3D%20%24%28%60%3Cdiv%20id%3D%22html_15f1da9adb9f4238b1bf68c771e710b1%22%20style%3D%22width%3A%20100.0%25%3B%20height%3A%20100.0%25%3B%22%3EId%3A%20258%3Cbr%3EStockbridge%3Cbr%3EDescription%3A%20Hamilton%20Place%20by%20Dean%20Bank%20Lane%3Cbr%3E%3Cbr%3ECounts%3A%208212%3C/div%3E%60%29%5B0%5D%3B%0A%20%20%20%20%20%20%20%20%20%20%20%20popup_18f7e60ade084697a6886a968fab1209.setContent%28html_15f1da9adb9f4238b1bf68c771e710b1%29%3B%0A%20%20%20%20%20%20%20%20%0A%0A%20%20%20%20%20%20%20%20marker_0513fc2171d247d384be9e7d546f7381.bindPopup%28popup_18f7e60ade084697a6886a968fab1209%29%0A%20%20%20%20%20%20%20%20%3B%0A%0A%20%20%20%20%20%20%20%20%0A%20%20%20%20%0A%20%20%20%20%0A%20%20%20%20%20%20%20%20%20%20%20%20var%20marker_43589327c6b04460b2e409d563bd3d6a%20%3D%20L.marker%28%0A%20%20%20%20%20%20%20%20%20%20%20%20%20%20%20%20%5B55.98003076740317%2C%20-3.300641788832536%5D%2C%0A%20%20%20%20%20%20%20%20%20%20%20%20%20%20%20%20%7B%7D%0A%20%20%20%20%20%20%20%20%20%20%20%20%29.addTo%28marker_cluster_67359bb34138463b8bbaf6c2ba135992%29%3B%0A%20%20%20%20%20%20%20%20%0A%20%20%20%20%0A%20%20%20%20%20%20%20%20%20%20%20%20var%20icon_f3607ac827ce414b86abf021e89b7bfa%20%3D%20L.AwesomeMarkers.icon%28%0A%20%20%20%20%20%20%20%20%20%20%20%20%20%20%20%20%7B%22extraClasses%22%3A%20%22fa-rotate-0%22%2C%20%22icon%22%3A%20%22bicycle%22%2C%20%22iconColor%22%3A%20%22white%22%2C%20%22markerColor%22%3A%20%22red%22%2C%20%22prefic%22%3A%20%22fa%22%2C%20%22prefix%22%3A%20%22glyphicon%22%7D%0A%20%20%20%20%20%20%20%20%20%20%20%20%29%3B%0A%20%20%20%20%20%20%20%20%20%20%20%20marker_43589327c6b04460b2e409d563bd3d6a.setIcon%28icon_f3607ac827ce414b86abf021e89b7bfa%29%3B%0A%20%20%20%20%20%20%20%20%0A%20%20%20%20%0A%20%20%20%20%20%20%20%20var%20popup_3659337502b44c629c55a11d9757997d%20%3D%20L.popup%28%7B%22maxWidth%22%3A%20%22100%25%22%7D%29%3B%0A%0A%20%20%20%20%20%20%20%20%0A%20%20%20%20%20%20%20%20%20%20%20%20var%20html_a42a8e26ac424788a2505ab718b07ef6%20%3D%20%24%28%60%3Cdiv%20id%3D%22html_a42a8e26ac424788a2505ab718b07ef6%22%20style%3D%22width%3A%20100.0%25%3B%20height%3A%20100.0%25%3B%22%3EId%3A%201722%3Cbr%3ECramond%20Foreshore%3Cbr%3EDescription%3A%20Near%20Cramond%20Beach%3Cbr%3E%3Cbr%3ECounts%3A%207879%3C/div%3E%60%29%5B0%5D%3B%0A%20%20%20%20%20%20%20%20%20%20%20%20popup_3659337502b44c629c55a11d9757997d.setContent%28html_a42a8e26ac424788a2505ab718b07ef6%29%3B%0A%20%20%20%20%20%20%20%20%0A%0A%20%20%20%20%20%20%20%20marker_43589327c6b04460b2e409d563bd3d6a.bindPopup%28popup_3659337502b44c629c55a11d9757997d%29%0A%20%20%20%20%20%20%20%20%3B%0A%0A%20%20%20%20%20%20%20%20%0A%20%20%20%20%0A%20%20%20%20%0A%20%20%20%20%20%20%20%20%20%20%20%20var%20marker_78c5d18ec400476ba48c4a01ffa4cecf%20%3D%20L.marker%28%0A%20%20%20%20%20%20%20%20%20%20%20%20%20%20%20%20%5B55.95150073734976%2C%20-3.203183906525282%5D%2C%0A%20%20%20%20%20%20%20%20%20%20%20%20%20%20%20%20%7B%7D%0A%20%20%20%20%20%20%20%20%20%20%20%20%29.addTo%28marker_cluster_67359bb34138463b8bbaf6c2ba135992%29%3B%0A%20%20%20%20%20%20%20%20%0A%20%20%20%20%0A%20%20%20%20%20%20%20%20%20%20%20%20var%20icon_31ed520e4797486dbac7729f9f3c34ca%20%3D%20L.AwesomeMarkers.icon%28%0A%20%20%20%20%20%20%20%20%20%20%20%20%20%20%20%20%7B%22extraClasses%22%3A%20%22fa-rotate-0%22%2C%20%22icon%22%3A%20%22bicycle%22%2C%20%22iconColor%22%3A%20%22white%22%2C%20%22markerColor%22%3A%20%22red%22%2C%20%22prefic%22%3A%20%22fa%22%2C%20%22prefix%22%3A%20%22glyphicon%22%7D%0A%20%20%20%20%20%20%20%20%20%20%20%20%29%3B%0A%20%20%20%20%20%20%20%20%20%20%20%20marker_78c5d18ec400476ba48c4a01ffa4cecf.setIcon%28icon_31ed520e4797486dbac7729f9f3c34ca%29%3B%0A%20%20%20%20%20%20%20%20%0A%20%20%20%20%0A%20%20%20%20%20%20%20%20var%20popup_77c45190258e4ba99e27d303c8c170f9%20%3D%20L.popup%28%7B%22maxWidth%22%3A%20%22100%25%22%7D%29%3B%0A%0A%20%20%20%20%20%20%20%20%0A%20%20%20%20%20%20%20%20%20%20%20%20var%20html_0cef953d609a485bab8fa9610c86171f%20%3D%20%24%28%60%3Cdiv%20id%3D%22html_0cef953d609a485bab8fa9610c86171f%22%20style%3D%22width%3A%20100.0%25%3B%20height%3A%20100.0%25%3B%22%3EId%3A%20289%3Cbr%3ECastle%20Street%3Cbr%3EDescription%3A%20Near%20Rose%20Street%3Cbr%3E%3Cbr%3ECounts%3A%207398%3C/div%3E%60%29%5B0%5D%3B%0A%20%20%20%20%20%20%20%20%20%20%20%20popup_77c45190258e4ba99e27d303c8c170f9.setContent%28html_0cef953d609a485bab8fa9610c86171f%29%3B%0A%20%20%20%20%20%20%20%20%0A%0A%20%20%20%20%20%20%20%20marker_78c5d18ec400476ba48c4a01ffa4cecf.bindPopup%28popup_77c45190258e4ba99e27d303c8c170f9%29%0A%20%20%20%20%20%20%20%20%3B%0A%0A%20%20%20%20%20%20%20%20%0A%20%20%20%20%0A%20%20%20%20%0A%20%20%20%20%20%20%20%20%20%20%20%20var%20marker_7281ac9986754a379de0732a31503ae5%20%3D%20L.marker%28%0A%20%20%20%20%20%20%20%20%20%20%20%20%20%20%20%20%5B55.981286014792985%2C%20-3.176351263805259%5D%2C%0A%20%20%20%20%20%20%20%20%20%20%20%20%20%20%20%20%7B%7D%0A%20%20%20%20%20%20%20%20%20%20%20%20%29.addTo%28marker_cluster_67359bb34138463b8bbaf6c2ba135992%29%3B%0A%20%20%20%20%20%20%20%20%0A%20%20%20%20%0A%20%20%20%20%20%20%20%20%20%20%20%20var%20icon_21706dc663c5401ba6316603ef496e07%20%3D%20L.AwesomeMarkers.icon%28%0A%20%20%20%20%20%20%20%20%20%20%20%20%20%20%20%20%7B%22extraClasses%22%3A%20%22fa-rotate-0%22%2C%20%22icon%22%3A%20%22bicycle%22%2C%20%22iconColor%22%3A%20%22white%22%2C%20%22markerColor%22%3A%20%22red%22%2C%20%22prefic%22%3A%20%22fa%22%2C%20%22prefix%22%3A%20%22glyphicon%22%7D%0A%20%20%20%20%20%20%20%20%20%20%20%20%29%3B%0A%20%20%20%20%20%20%20%20%20%20%20%20marker_7281ac9986754a379de0732a31503ae5.setIcon%28icon_21706dc663c5401ba6316603ef496e07%29%3B%0A%20%20%20%20%20%20%20%20%0A%20%20%20%20%0A%20%20%20%20%20%20%20%20var%20popup_ddebfb7b5a96494cb6126fcadd317bbd%20%3D%20L.popup%28%7B%22maxWidth%22%3A%20%22100%25%22%7D%29%3B%0A%0A%20%20%20%20%20%20%20%20%0A%20%20%20%20%20%20%20%20%20%20%20%20var%20html_b9ff12f6360948de8f4ac0970f7e10cc%20%3D%20%24%28%60%3Cdiv%20id%3D%22html_b9ff12f6360948de8f4ac0970f7e10cc%22%20style%3D%22width%3A%20100.0%25%3B%20height%3A%20100.0%25%3B%22%3EId%3A%20285%3Cbr%3EOcean%20Terminal%3Cbr%3EDescription%3A%20Debenhams%20/%20Puregym%20entrance%3Cbr%3E%3Cbr%3ECounts%3A%207381%3C/div%3E%60%29%5B0%5D%3B%0A%20%20%20%20%20%20%20%20%20%20%20%20popup_ddebfb7b5a96494cb6126fcadd317bbd.setContent%28html_b9ff12f6360948de8f4ac0970f7e10cc%29%3B%0A%20%20%20%20%20%20%20%20%0A%0A%20%20%20%20%20%20%20%20marker_7281ac9986754a379de0732a31503ae5.bindPopup%28popup_ddebfb7b5a96494cb6126fcadd317bbd%29%0A%20%20%20%20%20%20%20%20%3B%0A%0A%20%20%20%20%20%20%20%20%0A%20%20%20%20%0A%20%20%20%20%0A%20%20%20%20%20%20%20%20%20%20%20%20var%20marker_c0c447a556d7409fa94e3ae5ff24d016%20%3D%20L.marker%28%0A%20%20%20%20%20%20%20%20%20%20%20%20%20%20%20%20%5B55.94335692764551%2C%20-3.209247501624645%5D%2C%0A%20%20%20%20%20%20%20%20%20%20%20%20%20%20%20%20%7B%7D%0A%20%20%20%20%20%20%20%20%20%20%20%20%29.addTo%28marker_cluster_67359bb34138463b8bbaf6c2ba135992%29%3B%0A%20%20%20%20%20%20%20%20%0A%20%20%20%20%0A%20%20%20%20%20%20%20%20%20%20%20%20var%20icon_10e99e1a21204a5c9a1703c6fc5f8a32%20%3D%20L.AwesomeMarkers.icon%28%0A%20%20%20%20%20%20%20%20%20%20%20%20%20%20%20%20%7B%22extraClasses%22%3A%20%22fa-rotate-0%22%2C%20%22icon%22%3A%20%22bicycle%22%2C%20%22iconColor%22%3A%20%22white%22%2C%20%22markerColor%22%3A%20%22red%22%2C%20%22prefic%22%3A%20%22fa%22%2C%20%22prefix%22%3A%20%22glyphicon%22%7D%0A%20%20%20%20%20%20%20%20%20%20%20%20%29%3B%0A%20%20%20%20%20%20%20%20%20%20%20%20marker_c0c447a556d7409fa94e3ae5ff24d016.setIcon%28icon_10e99e1a21204a5c9a1703c6fc5f8a32%29%3B%0A%20%20%20%20%20%20%20%20%0A%20%20%20%20%0A%20%20%20%20%20%20%20%20var%20popup_9c072841bea542d5b0a92251570a4c38%20%3D%20L.popup%28%7B%22maxWidth%22%3A%20%22100%25%22%7D%29%3B%0A%0A%20%20%20%20%20%20%20%20%0A%20%20%20%20%20%20%20%20%20%20%20%20var%20html_d821f9a114414c2aa1589a477de8c2df%20%3D%20%24%28%60%3Cdiv%20id%3D%22html_d821f9a114414c2aa1589a477de8c2df%22%20style%3D%22width%3A%20100.0%25%3B%20height%3A%20100.0%25%3B%22%3EId%3A%20249%3Cbr%3EFountainbridge%3Cbr%3EDescription%3A%20Fountainbridge%20by%20Gardner%27s%20Crescent%3Cbr%3E%3Cbr%3ECounts%3A%207315%3C/div%3E%60%29%5B0%5D%3B%0A%20%20%20%20%20%20%20%20%20%20%20%20popup_9c072841bea542d5b0a92251570a4c38.setContent%28html_d821f9a114414c2aa1589a477de8c2df%29%3B%0A%20%20%20%20%20%20%20%20%0A%0A%20%20%20%20%20%20%20%20marker_c0c447a556d7409fa94e3ae5ff24d016.bindPopup%28popup_9c072841bea542d5b0a92251570a4c38%29%0A%20%20%20%20%20%20%20%20%3B%0A%0A%20%20%20%20%20%20%20%20%0A%20%20%20%20%0A%20%20%20%20%0A%20%20%20%20%20%20%20%20%20%20%20%20var%20marker_766bc733ca394e8dab482257793716b3%20%3D%20L.marker%28%0A%20%20%20%20%20%20%20%20%20%20%20%20%20%20%20%20%5B55.95490573198223%2C%20-3.192443756949956%5D%2C%0A%20%20%20%20%20%20%20%20%20%20%20%20%20%20%20%20%7B%7D%0A%20%20%20%20%20%20%20%20%20%20%20%20%29.addTo%28marker_cluster_67359bb34138463b8bbaf6c2ba135992%29%3B%0A%20%20%20%20%20%20%20%20%0A%20%20%20%20%0A%20%20%20%20%20%20%20%20%20%20%20%20var%20icon_bc0aeefd8b4a4871b35ace2fe0e06606%20%3D%20L.AwesomeMarkers.icon%28%0A%20%20%20%20%20%20%20%20%20%20%20%20%20%20%20%20%7B%22extraClasses%22%3A%20%22fa-rotate-0%22%2C%20%22icon%22%3A%20%22bicycle%22%2C%20%22iconColor%22%3A%20%22white%22%2C%20%22markerColor%22%3A%20%22red%22%2C%20%22prefic%22%3A%20%22fa%22%2C%20%22prefix%22%3A%20%22glyphicon%22%7D%0A%20%20%20%20%20%20%20%20%20%20%20%20%29%3B%0A%20%20%20%20%20%20%20%20%20%20%20%20marker_766bc733ca394e8dab482257793716b3.setIcon%28icon_bc0aeefd8b4a4871b35ace2fe0e06606%29%3B%0A%20%20%20%20%20%20%20%20%0A%20%20%20%20%0A%20%20%20%20%20%20%20%20var%20popup_bd4cdc330c9b4582b980b373b9a15c26%20%3D%20L.popup%28%7B%22maxWidth%22%3A%20%22100%25%22%7D%29%3B%0A%0A%20%20%20%20%20%20%20%20%0A%20%20%20%20%20%20%20%20%20%20%20%20var%20html_57442575a917429e8d6f237028b615ec%20%3D%20%24%28%60%3Cdiv%20id%3D%22html_57442575a917429e8d6f237028b615ec%22%20style%3D%22width%3A%20100.0%25%3B%20height%3A%20100.0%25%3B%22%3EId%3A%20259%3Cbr%3ESt%20Andrew%20Square%3Cbr%3EDescription%3A%20North%20East%20corner%3Cbr%3E%3Cbr%3ECounts%3A%207308%3C/div%3E%60%29%5B0%5D%3B%0A%20%20%20%20%20%20%20%20%20%20%20%20popup_bd4cdc330c9b4582b980b373b9a15c26.setContent%28html_57442575a917429e8d6f237028b615ec%29%3B%0A%20%20%20%20%20%20%20%20%0A%0A%20%20%20%20%20%20%20%20marker_766bc733ca394e8dab482257793716b3.bindPopup%28popup_bd4cdc330c9b4582b980b373b9a15c26%29%0A%20%20%20%20%20%20%20%20%3B%0A%0A%20%20%20%20%20%20%20%20%0A%20%20%20%20%0A%20%20%20%20%0A%20%20%20%20%20%20%20%20%20%20%20%20var%20marker_b551393f604941c5a509df219eda9a64%20%3D%20L.marker%28%0A%20%20%20%20%20%20%20%20%20%20%20%20%20%20%20%20%5B55.93970989541296%2C%20-3.220588933667954%5D%2C%0A%20%20%20%20%20%20%20%20%20%20%20%20%20%20%20%20%7B%7D%0A%20%20%20%20%20%20%20%20%20%20%20%20%29.addTo%28marker_cluster_67359bb34138463b8bbaf6c2ba135992%29%3B%0A%20%20%20%20%20%20%20%20%0A%20%20%20%20%0A%20%20%20%20%20%20%20%20%20%20%20%20var%20icon_397aa8428f9d48d48f70141b07044ff7%20%3D%20L.AwesomeMarkers.icon%28%0A%20%20%20%20%20%20%20%20%20%20%20%20%20%20%20%20%7B%22extraClasses%22%3A%20%22fa-rotate-0%22%2C%20%22icon%22%3A%20%22bicycle%22%2C%20%22iconColor%22%3A%20%22white%22%2C%20%22markerColor%22%3A%20%22red%22%2C%20%22prefic%22%3A%20%22fa%22%2C%20%22prefix%22%3A%20%22glyphicon%22%7D%0A%20%20%20%20%20%20%20%20%20%20%20%20%29%3B%0A%20%20%20%20%20%20%20%20%20%20%20%20marker_b551393f604941c5a509df219eda9a64.setIcon%28icon_397aa8428f9d48d48f70141b07044ff7%29%3B%0A%20%20%20%20%20%20%20%20%0A%20%20%20%20%0A%20%20%20%20%20%20%20%20var%20popup_1cb7f55b37e44b379cfb0055324e1060%20%3D%20L.popup%28%7B%22maxWidth%22%3A%20%22100%25%22%7D%29%3B%0A%0A%20%20%20%20%20%20%20%20%0A%20%20%20%20%20%20%20%20%20%20%20%20var%20html_5ccaca9f9329479ea6d0f4b5fd131c0c%20%3D%20%24%28%60%3Cdiv%20id%3D%22html_5ccaca9f9329479ea6d0f4b5fd131c0c%22%20style%3D%22width%3A%20100.0%25%3B%20height%3A%20100.0%25%3B%22%3EId%3A%201025%3Cbr%3EDundee%20Terrace%3Cbr%3EDescription%3A%20Corner%20of%20Dundee%20Street%20%26%20Dundee%20Terrace%3Cbr%3E%3Cbr%3ECounts%3A%206858%3C/div%3E%60%29%5B0%5D%3B%0A%20%20%20%20%20%20%20%20%20%20%20%20popup_1cb7f55b37e44b379cfb0055324e1060.setContent%28html_5ccaca9f9329479ea6d0f4b5fd131c0c%29%3B%0A%20%20%20%20%20%20%20%20%0A%0A%20%20%20%20%20%20%20%20marker_b551393f604941c5a509df219eda9a64.bindPopup%28popup_1cb7f55b37e44b379cfb0055324e1060%29%0A%20%20%20%20%20%20%20%20%3B%0A%0A%20%20%20%20%20%20%20%20%0A%20%20%20%20%0A%20%20%20%20%0A%20%20%20%20%20%20%20%20%20%20%20%20var%20marker_547c85e1b03446e0999ff83cc76af97a%20%3D%20L.marker%28%0A%20%20%20%20%20%20%20%20%20%20%20%20%20%20%20%20%5B55.94308406301113%2C%20-3.188311072722399%5D%2C%0A%20%20%20%20%20%20%20%20%20%20%20%20%20%20%20%20%7B%7D%0A%20%20%20%20%20%20%20%20%20%20%20%20%29.addTo%28marker_cluster_67359bb34138463b8bbaf6c2ba135992%29%3B%0A%20%20%20%20%20%20%20%20%0A%20%20%20%20%0A%20%20%20%20%20%20%20%20%20%20%20%20var%20icon_d88651a7bd1945ac9ae5fe1ccd221d77%20%3D%20L.AwesomeMarkers.icon%28%0A%20%20%20%20%20%20%20%20%20%20%20%20%20%20%20%20%7B%22extraClasses%22%3A%20%22fa-rotate-0%22%2C%20%22icon%22%3A%20%22bicycle%22%2C%20%22iconColor%22%3A%20%22white%22%2C%20%22markerColor%22%3A%20%22red%22%2C%20%22prefic%22%3A%20%22fa%22%2C%20%22prefix%22%3A%20%22glyphicon%22%7D%0A%20%20%20%20%20%20%20%20%20%20%20%20%29%3B%0A%20%20%20%20%20%20%20%20%20%20%20%20marker_547c85e1b03446e0999ff83cc76af97a.setIcon%28icon_d88651a7bd1945ac9ae5fe1ccd221d77%29%3B%0A%20%20%20%20%20%20%20%20%0A%20%20%20%20%0A%20%20%20%20%20%20%20%20var%20popup_10da46f05a60459c9f862962eaa0eb3b%20%3D%20L.popup%28%7B%22maxWidth%22%3A%20%22100%25%22%7D%29%3B%0A%0A%20%20%20%20%20%20%20%20%0A%20%20%20%20%20%20%20%20%20%20%20%20var%20html_794c93960e744f329bdfeca6fa687d5d%20%3D%20%24%28%60%3Cdiv%20id%3D%22html_794c93960e744f329bdfeca6fa687d5d%22%20style%3D%22width%3A%20100.0%25%3B%20height%3A%20100.0%25%3B%22%3EId%3A%20171%3Cbr%3EGeorge%20Square%3Cbr%3EDescription%3A%20George%20Square%2C%20south%20side%20in%20front%20of%20University%20library%3Cbr%3E%3Cbr%3ECounts%3A%206160%3C/div%3E%60%29%5B0%5D%3B%0A%20%20%20%20%20%20%20%20%20%20%20%20popup_10da46f05a60459c9f862962eaa0eb3b.setContent%28html_794c93960e744f329bdfeca6fa687d5d%29%3B%0A%20%20%20%20%20%20%20%20%0A%0A%20%20%20%20%20%20%20%20marker_547c85e1b03446e0999ff83cc76af97a.bindPopup%28popup_10da46f05a60459c9f862962eaa0eb3b%29%0A%20%20%20%20%20%20%20%20%3B%0A%0A%20%20%20%20%20%20%20%20%0A%20%20%20%20%0A%20%20%20%20%0A%20%20%20%20%20%20%20%20%20%20%20%20var%20marker_199b800658414f56ba69faa698541efa%20%3D%20L.marker%28%0A%20%20%20%20%20%20%20%20%20%20%20%20%20%20%20%20%5B55.951089465236365%2C%20-3.17572460948655%5D%2C%0A%20%20%20%20%20%20%20%20%20%20%20%20%20%20%20%20%7B%7D%0A%20%20%20%20%20%20%20%20%20%20%20%20%29.addTo%28marker_cluster_67359bb34138463b8bbaf6c2ba135992%29%3B%0A%20%20%20%20%20%20%20%20%0A%20%20%20%20%0A%20%20%20%20%20%20%20%20%20%20%20%20var%20icon_caa6ef00a52f4fd68e5d447c0dcb014b%20%3D%20L.AwesomeMarkers.icon%28%0A%20%20%20%20%20%20%20%20%20%20%20%20%20%20%20%20%7B%22extraClasses%22%3A%20%22fa-rotate-0%22%2C%20%22icon%22%3A%20%22bicycle%22%2C%20%22iconColor%22%3A%20%22white%22%2C%20%22markerColor%22%3A%20%22red%22%2C%20%22prefic%22%3A%20%22fa%22%2C%20%22prefix%22%3A%20%22glyphicon%22%7D%0A%20%20%20%20%20%20%20%20%20%20%20%20%29%3B%0A%20%20%20%20%20%20%20%20%20%20%20%20marker_199b800658414f56ba69faa698541efa.setIcon%28icon_caa6ef00a52f4fd68e5d447c0dcb014b%29%3B%0A%20%20%20%20%20%20%20%20%0A%20%20%20%20%0A%20%20%20%20%20%20%20%20var%20popup_5f888268dc48438696769fa7be576dcc%20%3D%20L.popup%28%7B%22maxWidth%22%3A%20%22100%25%22%7D%29%3B%0A%0A%20%20%20%20%20%20%20%20%0A%20%20%20%20%20%20%20%20%20%20%20%20var%20html_a9e529b5a99c4cae880818178604dd21%20%3D%20%24%28%60%3Cdiv%20id%3D%22html_a9e529b5a99c4cae880818178604dd21%22%20style%3D%22width%3A%20100.0%25%3B%20height%3A%20100.0%25%3B%22%3EId%3A%201818%3Cbr%3EDynamic%20Earth%3Cbr%3EDescription%3A%20Outside%20Dynamic%20Earth%2C%20Holyrood%20Road%3Cbr%3E%3Cbr%3ECounts%3A%205824%3C/div%3E%60%29%5B0%5D%3B%0A%20%20%20%20%20%20%20%20%20%20%20%20popup_5f888268dc48438696769fa7be576dcc.setContent%28html_a9e529b5a99c4cae880818178604dd21%29%3B%0A%20%20%20%20%20%20%20%20%0A%0A%20%20%20%20%20%20%20%20marker_199b800658414f56ba69faa698541efa.bindPopup%28popup_5f888268dc48438696769fa7be576dcc%29%0A%20%20%20%20%20%20%20%20%3B%0A%0A%20%20%20%20%20%20%20%20%0A%20%20%20%20%0A%20%20%20%20%0A%20%20%20%20%20%20%20%20%20%20%20%20var%20marker_9eb8c090bdd947d19e80a0ac6822194f%20%3D%20L.marker%28%0A%20%20%20%20%20%20%20%20%20%20%20%20%20%20%20%20%5B55.97132539148155%2C%20-3.207963567424258%5D%2C%0A%20%20%20%20%20%20%20%20%20%20%20%20%20%20%20%20%7B%7D%0A%20%20%20%20%20%20%20%20%20%20%20%20%29.addTo%28marker_cluster_67359bb34138463b8bbaf6c2ba135992%29%3B%0A%20%20%20%20%20%20%20%20%0A%20%20%20%20%0A%20%20%20%20%20%20%20%20%20%20%20%20var%20icon_f00dc52cca4040879d09b9c0c8e3a9c6%20%3D%20L.AwesomeMarkers.icon%28%0A%20%20%20%20%20%20%20%20%20%20%20%20%20%20%20%20%7B%22extraClasses%22%3A%20%22fa-rotate-0%22%2C%20%22icon%22%3A%20%22bicycle%22%2C%20%22iconColor%22%3A%20%22white%22%2C%20%22markerColor%22%3A%20%22red%22%2C%20%22prefic%22%3A%20%22fa%22%2C%20%22prefix%22%3A%20%22glyphicon%22%7D%0A%20%20%20%20%20%20%20%20%20%20%20%20%29%3B%0A%20%20%20%20%20%20%20%20%20%20%20%20marker_9eb8c090bdd947d19e80a0ac6822194f.setIcon%28icon_f00dc52cca4040879d09b9c0c8e3a9c6%29%3B%0A%20%20%20%20%20%20%20%20%0A%20%20%20%20%0A%20%20%20%20%20%20%20%20var%20popup_d405a04c19194cde8e36e26e77d79ec7%20%3D%20L.popup%28%7B%22maxWidth%22%3A%20%22100%25%22%7D%29%3B%0A%0A%20%20%20%20%20%20%20%20%0A%20%20%20%20%20%20%20%20%20%20%20%20var%20html_dbe4d441f30c4472acbff8e71c9ead05%20%3D%20%24%28%60%3Cdiv%20id%3D%22html_dbe4d441f30c4472acbff8e71c9ead05%22%20style%3D%22width%3A%20100.0%25%3B%20height%3A%20100.0%25%3B%22%3EId%3A%201038%3Cbr%3ESouth%20Trinity%20Road%3Cbr%3EDescription%3A%20Corner%20of%20South%20Trinity%20Road%20and%20Ferry%20Road%3Cbr%3E%3Cbr%3ECounts%3A%205709%3C/div%3E%60%29%5B0%5D%3B%0A%20%20%20%20%20%20%20%20%20%20%20%20popup_d405a04c19194cde8e36e26e77d79ec7.setContent%28html_dbe4d441f30c4472acbff8e71c9ead05%29%3B%0A%20%20%20%20%20%20%20%20%0A%0A%20%20%20%20%20%20%20%20marker_9eb8c090bdd947d19e80a0ac6822194f.bindPopup%28popup_d405a04c19194cde8e36e26e77d79ec7%29%0A%20%20%20%20%20%20%20%20%3B%0A%0A%20%20%20%20%20%20%20%20%0A%20%20%20%20%0A%20%20%20%20%0A%20%20%20%20%20%20%20%20%20%20%20%20var%20marker_f4643d69ca7544a3875151ea2789537e%20%3D%20L.marker%28%0A%20%20%20%20%20%20%20%20%20%20%20%20%20%20%20%20%5B55.96085174106396%2C%20-3.180985762469163%5D%2C%0A%20%20%20%20%20%20%20%20%20%20%20%20%20%20%20%20%7B%7D%0A%20%20%20%20%20%20%20%20%20%20%20%20%29.addTo%28marker_cluster_67359bb34138463b8bbaf6c2ba135992%29%3B%0A%20%20%20%20%20%20%20%20%0A%20%20%20%20%0A%20%20%20%20%20%20%20%20%20%20%20%20var%20icon_b4562a0f558344f38575eb2b0f9a3ef9%20%3D%20L.AwesomeMarkers.icon%28%0A%20%20%20%20%20%20%20%20%20%20%20%20%20%20%20%20%7B%22extraClasses%22%3A%20%22fa-rotate-0%22%2C%20%22icon%22%3A%20%22bicycle%22%2C%20%22iconColor%22%3A%20%22white%22%2C%20%22markerColor%22%3A%20%22red%22%2C%20%22prefic%22%3A%20%22fa%22%2C%20%22prefix%22%3A%20%22glyphicon%22%7D%0A%20%20%20%20%20%20%20%20%20%20%20%20%29%3B%0A%20%20%20%20%20%20%20%20%20%20%20%20marker_f4643d69ca7544a3875151ea2789537e.setIcon%28icon_b4562a0f558344f38575eb2b0f9a3ef9%29%3B%0A%20%20%20%20%20%20%20%20%0A%20%20%20%20%0A%20%20%20%20%20%20%20%20var%20popup_ecb8ee571e4f44b594da6ac7fc47046f%20%3D%20L.popup%28%7B%22maxWidth%22%3A%20%22100%25%22%7D%29%3B%0A%0A%20%20%20%20%20%20%20%20%0A%20%20%20%20%20%20%20%20%20%20%20%20var%20html_d9f8213c0318489f80066e5f1d538321%20%3D%20%24%28%60%3Cdiv%20id%3D%22html_d9f8213c0318489f80066e5f1d538321%22%20style%3D%22width%3A%20100.0%25%3B%20height%3A%20100.0%25%3B%22%3EId%3A%201769%3Cbr%3EBrunswick%20Place%3Cbr%3EDescription%3A%20Corner%20of%20Elm%20Row/Brunswick%20Street%3Cbr%3E%3Cbr%3ECounts%3A%205571%3C/div%3E%60%29%5B0%5D%3B%0A%20%20%20%20%20%20%20%20%20%20%20%20popup_ecb8ee571e4f44b594da6ac7fc47046f.setContent%28html_d9f8213c0318489f80066e5f1d538321%29%3B%0A%20%20%20%20%20%20%20%20%0A%0A%20%20%20%20%20%20%20%20marker_f4643d69ca7544a3875151ea2789537e.bindPopup%28popup_ecb8ee571e4f44b594da6ac7fc47046f%29%0A%20%20%20%20%20%20%20%20%3B%0A%0A%20%20%20%20%20%20%20%20%0A%20%20%20%20%0A%20%20%20%20%0A%20%20%20%20%20%20%20%20%20%20%20%20var%20marker_fbea8be59bae4cea9b53378157ac9979%20%3D%20L.marker%28%0A%20%20%20%20%20%20%20%20%20%20%20%20%20%20%20%20%5B55.944248052468346%2C%20-3.203104599110474%5D%2C%0A%20%20%20%20%20%20%20%20%20%20%20%20%20%20%20%20%7B%7D%0A%20%20%20%20%20%20%20%20%20%20%20%20%29.addTo%28marker_cluster_67359bb34138463b8bbaf6c2ba135992%29%3B%0A%20%20%20%20%20%20%20%20%0A%20%20%20%20%0A%20%20%20%20%20%20%20%20%20%20%20%20var%20icon_2c8c65979fea4d51b0e37e022fe972a0%20%3D%20L.AwesomeMarkers.icon%28%0A%20%20%20%20%20%20%20%20%20%20%20%20%20%20%20%20%7B%22extraClasses%22%3A%20%22fa-rotate-0%22%2C%20%22icon%22%3A%20%22bicycle%22%2C%20%22iconColor%22%3A%20%22white%22%2C%20%22markerColor%22%3A%20%22red%22%2C%20%22prefic%22%3A%20%22fa%22%2C%20%22prefix%22%3A%20%22glyphicon%22%7D%0A%20%20%20%20%20%20%20%20%20%20%20%20%29%3B%0A%20%20%20%20%20%20%20%20%20%20%20%20marker_fbea8be59bae4cea9b53378157ac9979.setIcon%28icon_2c8c65979fea4d51b0e37e022fe972a0%29%3B%0A%20%20%20%20%20%20%20%20%0A%20%20%20%20%0A%20%20%20%20%20%20%20%20var%20popup_f60f272635c5477d93ed2c74ca48856c%20%3D%20L.popup%28%7B%22maxWidth%22%3A%20%22100%25%22%7D%29%3B%0A%0A%20%20%20%20%20%20%20%20%0A%20%20%20%20%20%20%20%20%20%20%20%20var%20html_07525fc2671547f692d1475270b08476%20%3D%20%24%28%60%3Cdiv%20id%3D%22html_07525fc2671547f692d1475270b08476%22%20style%3D%22width%3A%20100.0%25%3B%20height%3A%20100.0%25%3B%22%3EId%3A%201721%3Cbr%3ETollcross%3Cbr%3EDescription%3A%20Outside%20Piccolinos%20off%20Lauriston%20Place%3Cbr%3E%3Cbr%3ECounts%3A%205349%3C/div%3E%60%29%5B0%5D%3B%0A%20%20%20%20%20%20%20%20%20%20%20%20popup_f60f272635c5477d93ed2c74ca48856c.setContent%28html_07525fc2671547f692d1475270b08476%29%3B%0A%20%20%20%20%20%20%20%20%0A%0A%20%20%20%20%20%20%20%20marker_fbea8be59bae4cea9b53378157ac9979.bindPopup%28popup_f60f272635c5477d93ed2c74ca48856c%29%0A%20%20%20%20%20%20%20%20%3B%0A%0A%20%20%20%20%20%20%20%20%0A%20%20%20%20%0A%20%20%20%20%0A%20%20%20%20%20%20%20%20%20%20%20%20var%20marker_1f59850b87874c6587d098f7cdd1a938%20%3D%20L.marker%28%0A%20%20%20%20%20%20%20%20%20%20%20%20%20%20%20%20%5B55.94583371599285%2C%20-3.189053072075467%5D%2C%0A%20%20%20%20%20%20%20%20%20%20%20%20%20%20%20%20%7B%7D%0A%20%20%20%20%20%20%20%20%20%20%20%20%29.addTo%28marker_cluster_67359bb34138463b8bbaf6c2ba135992%29%3B%0A%20%20%20%20%20%20%20%20%0A%20%20%20%20%0A%20%20%20%20%20%20%20%20%20%20%20%20var%20icon_42b51315f55e47f78d82e5988b3e5613%20%3D%20L.AwesomeMarkers.icon%28%0A%20%20%20%20%20%20%20%20%20%20%20%20%20%20%20%20%7B%22extraClasses%22%3A%20%22fa-rotate-0%22%2C%20%22icon%22%3A%20%22bicycle%22%2C%20%22iconColor%22%3A%20%22white%22%2C%20%22markerColor%22%3A%20%22red%22%2C%20%22prefic%22%3A%20%22fa%22%2C%20%22prefix%22%3A%20%22glyphicon%22%7D%0A%20%20%20%20%20%20%20%20%20%20%20%20%29%3B%0A%20%20%20%20%20%20%20%20%20%20%20%20marker_1f59850b87874c6587d098f7cdd1a938.setIcon%28icon_42b51315f55e47f78d82e5988b3e5613%29%3B%0A%20%20%20%20%20%20%20%20%0A%20%20%20%20%0A%20%20%20%20%20%20%20%20var%20popup_53f329484ae5499fad39de3c4a194117%20%3D%20L.popup%28%7B%22maxWidth%22%3A%20%22100%25%22%7D%29%3B%0A%0A%20%20%20%20%20%20%20%20%0A%20%20%20%20%20%20%20%20%20%20%20%20var%20html_06ebb24d56f24d5d9ae33c6448fe728e%20%3D%20%24%28%60%3Cdiv%20id%3D%22html_06ebb24d56f24d5d9ae33c6448fe728e%22%20style%3D%22width%3A%20100.0%25%3B%20height%3A%20100.0%25%3B%22%3EId%3A%20248%3Cbr%3EBristo%20Square%3Cbr%3EDescription%3A%20Bristo%20Square%2C%20near%20Potterrow%3Cbr%3E%3Cbr%3ECounts%3A%205325%3C/div%3E%60%29%5B0%5D%3B%0A%20%20%20%20%20%20%20%20%20%20%20%20popup_53f329484ae5499fad39de3c4a194117.setContent%28html_06ebb24d56f24d5d9ae33c6448fe728e%29%3B%0A%20%20%20%20%20%20%20%20%0A%0A%20%20%20%20%20%20%20%20marker_1f59850b87874c6587d098f7cdd1a938.bindPopup%28popup_53f329484ae5499fad39de3c4a194117%29%0A%20%20%20%20%20%20%20%20%3B%0A%0A%20%20%20%20%20%20%20%20%0A%20%20%20%20%0A%20%20%20%20%0A%20%20%20%20%20%20%20%20%20%20%20%20var%20marker_1c94d7499a904b74b96877d918e637b1%20%3D%20L.marker%28%0A%20%20%20%20%20%20%20%20%20%20%20%20%20%20%20%20%5B55.957004308392506%2C%20-3.116888118730116%5D%2C%0A%20%20%20%20%20%20%20%20%20%20%20%20%20%20%20%20%7B%7D%0A%20%20%20%20%20%20%20%20%20%20%20%20%29.addTo%28marker_cluster_67359bb34138463b8bbaf6c2ba135992%29%3B%0A%20%20%20%20%20%20%20%20%0A%20%20%20%20%0A%20%20%20%20%20%20%20%20%20%20%20%20var%20icon_0a65c9b88be6467e8b2f64fca3341d88%20%3D%20L.AwesomeMarkers.icon%28%0A%20%20%20%20%20%20%20%20%20%20%20%20%20%20%20%20%7B%22extraClasses%22%3A%20%22fa-rotate-0%22%2C%20%22icon%22%3A%20%22bicycle%22%2C%20%22iconColor%22%3A%20%22white%22%2C%20%22markerColor%22%3A%20%22red%22%2C%20%22prefic%22%3A%20%22fa%22%2C%20%22prefix%22%3A%20%22glyphicon%22%7D%0A%20%20%20%20%20%20%20%20%20%20%20%20%29%3B%0A%20%20%20%20%20%20%20%20%20%20%20%20marker_1c94d7499a904b74b96877d918e637b1.setIcon%28icon_0a65c9b88be6467e8b2f64fca3341d88%29%3B%0A%20%20%20%20%20%20%20%20%0A%20%20%20%20%0A%20%20%20%20%20%20%20%20var%20popup_ac8a75e162604ba8aac0f197a5700620%20%3D%20L.popup%28%7B%22maxWidth%22%3A%20%22100%25%22%7D%29%3B%0A%0A%20%20%20%20%20%20%20%20%0A%20%20%20%20%20%20%20%20%20%20%20%20var%20html_97b87700d64746df9c9555d789eed494%20%3D%20%24%28%60%3Cdiv%20id%3D%22html_97b87700d64746df9c9555d789eed494%22%20style%3D%22width%3A%20100.0%25%3B%20height%3A%20100.0%25%3B%22%3EId%3A%20257%3Cbr%3EPortobello%3Cbr%3EDescription%3A%20Edinburgh%20Leisure%20Tumbles%20Centre%3Cbr%3E%3Cbr%3ECounts%3A%205280%3C/div%3E%60%29%5B0%5D%3B%0A%20%20%20%20%20%20%20%20%20%20%20%20popup_ac8a75e162604ba8aac0f197a5700620.setContent%28html_97b87700d64746df9c9555d789eed494%29%3B%0A%20%20%20%20%20%20%20%20%0A%0A%20%20%20%20%20%20%20%20marker_1c94d7499a904b74b96877d918e637b1.bindPopup%28popup_ac8a75e162604ba8aac0f197a5700620%29%0A%20%20%20%20%20%20%20%20%3B%0A%0A%20%20%20%20%20%20%20%20%0A%20%20%20%20%0A%20%20%20%20%0A%20%20%20%20%20%20%20%20%20%20%20%20var%20marker_e19472e28a5e4f73bb67b821b1084446%20%3D%20L.marker%28%0A%20%20%20%20%20%20%20%20%20%20%20%20%20%20%20%20%5B55.95524788917224%2C%20-3.17221628009507%5D%2C%0A%20%20%20%20%20%20%20%20%20%20%20%20%20%20%20%20%7B%7D%0A%20%20%20%20%20%20%20%20%20%20%20%20%29.addTo%28marker_cluster_67359bb34138463b8bbaf6c2ba135992%29%3B%0A%20%20%20%20%20%20%20%20%0A%20%20%20%20%0A%20%20%20%20%20%20%20%20%20%20%20%20var%20icon_06b4179ce4714b26a3dca9927bcc3c32%20%3D%20L.AwesomeMarkers.icon%28%0A%20%20%20%20%20%20%20%20%20%20%20%20%20%20%20%20%7B%22extraClasses%22%3A%20%22fa-rotate-0%22%2C%20%22icon%22%3A%20%22bicycle%22%2C%20%22iconColor%22%3A%20%22white%22%2C%20%22markerColor%22%3A%20%22red%22%2C%20%22prefic%22%3A%20%22fa%22%2C%20%22prefix%22%3A%20%22glyphicon%22%7D%0A%20%20%20%20%20%20%20%20%20%20%20%20%29%3B%0A%20%20%20%20%20%20%20%20%20%20%20%20marker_e19472e28a5e4f73bb67b821b1084446.setIcon%28icon_06b4179ce4714b26a3dca9927bcc3c32%29%3B%0A%20%20%20%20%20%20%20%20%0A%20%20%20%20%0A%20%20%20%20%20%20%20%20var%20popup_a0765d3db4a9459fa9a5767cf518682e%20%3D%20L.popup%28%7B%22maxWidth%22%3A%20%22100%25%22%7D%29%3B%0A%0A%20%20%20%20%20%20%20%20%0A%20%20%20%20%20%20%20%20%20%20%20%20var%20html_210ec05bdbb540fb8dacd789484c19b3%20%3D%20%24%28%60%3Cdiv%20id%3D%22html_210ec05bdbb540fb8dacd789484c19b3%22%20style%3D%22width%3A%20100.0%25%3B%20height%3A%20100.0%25%3B%22%3EId%3A%201814%3Cbr%3EAbbeyhill%3Cbr%3EDescription%3A%20Near%20Abbey%20Mount%3Cbr%3E%3Cbr%3ECounts%3A%205279%3C/div%3E%60%29%5B0%5D%3B%0A%20%20%20%20%20%20%20%20%20%20%20%20popup_a0765d3db4a9459fa9a5767cf518682e.setContent%28html_210ec05bdbb540fb8dacd789484c19b3%29%3B%0A%20%20%20%20%20%20%20%20%0A%0A%20%20%20%20%20%20%20%20marker_e19472e28a5e4f73bb67b821b1084446.bindPopup%28popup_a0765d3db4a9459fa9a5767cf518682e%29%0A%20%20%20%20%20%20%20%20%3B%0A%0A%20%20%20%20%20%20%20%20%0A%20%20%20%20%0A%20%20%20%20%0A%20%20%20%20%20%20%20%20%20%20%20%20var%20marker_629f1d90ce6b4ebebffe7ab31f11353c%20%3D%20L.marker%28%0A%20%20%20%20%20%20%20%20%20%20%20%20%20%20%20%20%5B55.95233546161639%2C%20-3.207101172107286%5D%2C%0A%20%20%20%20%20%20%20%20%20%20%20%20%20%20%20%20%7B%7D%0A%20%20%20%20%20%20%20%20%20%20%20%20%29.addTo%28marker_cluster_67359bb34138463b8bbaf6c2ba135992%29%3B%0A%20%20%20%20%20%20%20%20%0A%20%20%20%20%0A%20%20%20%20%20%20%20%20%20%20%20%20var%20icon_17fc65a1d7f94095a623e8947194898d%20%3D%20L.AwesomeMarkers.icon%28%0A%20%20%20%20%20%20%20%20%20%20%20%20%20%20%20%20%7B%22extraClasses%22%3A%20%22fa-rotate-0%22%2C%20%22icon%22%3A%20%22bicycle%22%2C%20%22iconColor%22%3A%20%22white%22%2C%20%22markerColor%22%3A%20%22red%22%2C%20%22prefic%22%3A%20%22fa%22%2C%20%22prefix%22%3A%20%22glyphicon%22%7D%0A%20%20%20%20%20%20%20%20%20%20%20%20%29%3B%0A%20%20%20%20%20%20%20%20%20%20%20%20marker_629f1d90ce6b4ebebffe7ab31f11353c.setIcon%28icon_17fc65a1d7f94095a623e8947194898d%29%3B%0A%20%20%20%20%20%20%20%20%0A%20%20%20%20%0A%20%20%20%20%20%20%20%20var%20popup_372cb66d67b94a3d91488a300f18af93%20%3D%20L.popup%28%7B%22maxWidth%22%3A%20%22100%25%22%7D%29%3B%0A%0A%20%20%20%20%20%20%20%20%0A%20%20%20%20%20%20%20%20%20%20%20%20var%20html_3d307d788425434c86846b08e481e05a%20%3D%20%24%28%60%3Cdiv%20id%3D%22html_3d307d788425434c86846b08e481e05a%22%20style%3D%22width%3A%20100.0%25%3B%20height%3A%20100.0%25%3B%22%3EId%3A%20247%3Cbr%3ECharlotte%20Square%3Cbr%3EDescription%3A%20North%20Corner%20of%20Charlotte%20Square%3Cbr%3E%3Cbr%3ECounts%3A%204980%3C/div%3E%60%29%5B0%5D%3B%0A%20%20%20%20%20%20%20%20%20%20%20%20popup_372cb66d67b94a3d91488a300f18af93.setContent%28html_3d307d788425434c86846b08e481e05a%29%3B%0A%20%20%20%20%20%20%20%20%0A%0A%20%20%20%20%20%20%20%20marker_629f1d90ce6b4ebebffe7ab31f11353c.bindPopup%28popup_372cb66d67b94a3d91488a300f18af93%29%0A%20%20%20%20%20%20%20%20%3B%0A%0A%20%20%20%20%20%20%20%20%0A%20%20%20%20%0A%20%20%20%20%0A%20%20%20%20%20%20%20%20%20%20%20%20var%20marker_5d9259bde3bb4b76b1a149bee4b56c57%20%3D%20L.marker%28%0A%20%20%20%20%20%20%20%20%20%20%20%20%20%20%20%20%5B55.94008064125911%2C%20-3.171746866852459%5D%2C%0A%20%20%20%20%20%20%20%20%20%20%20%20%20%20%20%20%7B%7D%0A%20%20%20%20%20%20%20%20%20%20%20%20%29.addTo%28marker_cluster_67359bb34138463b8bbaf6c2ba135992%29%3B%0A%20%20%20%20%20%20%20%20%0A%20%20%20%20%0A%20%20%20%20%20%20%20%20%20%20%20%20var%20icon_96fb8c36886949a18820bbc698f767dd%20%3D%20L.AwesomeMarkers.icon%28%0A%20%20%20%20%20%20%20%20%20%20%20%20%20%20%20%20%7B%22extraClasses%22%3A%20%22fa-rotate-0%22%2C%20%22icon%22%3A%20%22bicycle%22%2C%20%22iconColor%22%3A%20%22white%22%2C%20%22markerColor%22%3A%20%22red%22%2C%20%22prefic%22%3A%20%22fa%22%2C%20%22prefix%22%3A%20%22glyphicon%22%7D%0A%20%20%20%20%20%20%20%20%20%20%20%20%29%3B%0A%20%20%20%20%20%20%20%20%20%20%20%20marker_5d9259bde3bb4b76b1a149bee4b56c57.setIcon%28icon_96fb8c36886949a18820bbc698f767dd%29%3B%0A%20%20%20%20%20%20%20%20%0A%20%20%20%20%0A%20%20%20%20%20%20%20%20var%20popup_2194b4e0c52649aaa73d812fdf74ad16%20%3D%20L.popup%28%7B%22maxWidth%22%3A%20%22100%25%22%7D%29%3B%0A%0A%20%20%20%20%20%20%20%20%0A%20%20%20%20%20%20%20%20%20%20%20%20var%20html_7100f408c57c46a7b0fea86f08473354%20%3D%20%24%28%60%3Cdiv%20id%3D%22html_7100f408c57c46a7b0fea86f08473354%22%20style%3D%22width%3A%20100.0%25%3B%20height%3A%20100.0%25%3B%22%3EId%3A%20264%3Cbr%3EPollock%20Halls%3Cbr%3EDescription%3A%20Pollock%20Halls%20Entrance%3Cbr%3E%3Cbr%3ECounts%3A%204667%3C/div%3E%60%29%5B0%5D%3B%0A%20%20%20%20%20%20%20%20%20%20%20%20popup_2194b4e0c52649aaa73d812fdf74ad16.setContent%28html_7100f408c57c46a7b0fea86f08473354%29%3B%0A%20%20%20%20%20%20%20%20%0A%0A%20%20%20%20%20%20%20%20marker_5d9259bde3bb4b76b1a149bee4b56c57.bindPopup%28popup_2194b4e0c52649aaa73d812fdf74ad16%29%0A%20%20%20%20%20%20%20%20%3B%0A%0A%20%20%20%20%20%20%20%20%0A%20%20%20%20%0A%20%20%20%20%0A%20%20%20%20%20%20%20%20%20%20%20%20var%20marker_f2696a9ea416431cab12170dccab419f%20%3D%20L.marker%28%0A%20%20%20%20%20%20%20%20%20%20%20%20%20%20%20%20%5B55.92320215516664%2C%20-3.17164624536349%5D%2C%0A%20%20%20%20%20%20%20%20%20%20%20%20%20%20%20%20%7B%7D%0A%20%20%20%20%20%20%20%20%20%20%20%20%29.addTo%28marker_cluster_67359bb34138463b8bbaf6c2ba135992%29%3B%0A%20%20%20%20%20%20%20%20%0A%20%20%20%20%0A%20%20%20%20%20%20%20%20%20%20%20%20var%20icon_82d7c065a5cf41a9b8301fa5712bb46a%20%3D%20L.AwesomeMarkers.icon%28%0A%20%20%20%20%20%20%20%20%20%20%20%20%20%20%20%20%7B%22extraClasses%22%3A%20%22fa-rotate-0%22%2C%20%22icon%22%3A%20%22bicycle%22%2C%20%22iconColor%22%3A%20%22white%22%2C%20%22markerColor%22%3A%20%22red%22%2C%20%22prefic%22%3A%20%22fa%22%2C%20%22prefix%22%3A%20%22glyphicon%22%7D%0A%20%20%20%20%20%20%20%20%20%20%20%20%29%3B%0A%20%20%20%20%20%20%20%20%20%20%20%20marker_f2696a9ea416431cab12170dccab419f.setIcon%28icon_82d7c065a5cf41a9b8301fa5712bb46a%29%3B%0A%20%20%20%20%20%20%20%20%0A%20%20%20%20%0A%20%20%20%20%20%20%20%20var%20popup_0a93c26f2a164ef69b87e0c7e9b7f3c0%20%3D%20L.popup%28%7B%22maxWidth%22%3A%20%22100%25%22%7D%29%3B%0A%0A%20%20%20%20%20%20%20%20%0A%20%20%20%20%20%20%20%20%20%20%20%20var%20html_520c6ec31c454a93a6d54ebddc16a61a%20%3D%20%24%28%60%3Cdiv%20id%3D%22html_520c6ec31c454a93a6d54ebddc16a61a%22%20style%3D%22width%3A%20100.0%25%3B%20height%3A%20100.0%25%3B%22%3EId%3A%20253%3Cbr%3EKings%20Building%202%3Cbr%3EDescription%3A%20Sanderson%20Building%3Cbr%3E%3Cbr%3ECounts%3A%204557%3C/div%3E%60%29%5B0%5D%3B%0A%20%20%20%20%20%20%20%20%20%20%20%20popup_0a93c26f2a164ef69b87e0c7e9b7f3c0.setContent%28html_520c6ec31c454a93a6d54ebddc16a61a%29%3B%0A%20%20%20%20%20%20%20%20%0A%0A%20%20%20%20%20%20%20%20marker_f2696a9ea416431cab12170dccab419f.bindPopup%28popup_0a93c26f2a164ef69b87e0c7e9b7f3c0%29%0A%20%20%20%20%20%20%20%20%3B%0A%0A%20%20%20%20%20%20%20%20%0A%20%20%20%20%0A%20%20%20%20%0A%20%20%20%20%20%20%20%20%20%20%20%20var%20marker_97f823a95aba4277bcb0e0a7d5b4f1ac%20%3D%20L.marker%28%0A%20%20%20%20%20%20%20%20%20%20%20%20%20%20%20%20%5B55.95787194536338%2C%20-3.175888370919665%5D%2C%0A%20%20%20%20%20%20%20%20%20%20%20%20%20%20%20%20%7B%7D%0A%20%20%20%20%20%20%20%20%20%20%20%20%29.addTo%28marker_cluster_67359bb34138463b8bbaf6c2ba135992%29%3B%0A%20%20%20%20%20%20%20%20%0A%20%20%20%20%0A%20%20%20%20%20%20%20%20%20%20%20%20var%20icon_726ee874918a4a429d74e2285762511e%20%3D%20L.AwesomeMarkers.icon%28%0A%20%20%20%20%20%20%20%20%20%20%20%20%20%20%20%20%7B%22extraClasses%22%3A%20%22fa-rotate-0%22%2C%20%22icon%22%3A%20%22bicycle%22%2C%20%22iconColor%22%3A%20%22white%22%2C%20%22markerColor%22%3A%20%22red%22%2C%20%22prefic%22%3A%20%22fa%22%2C%20%22prefix%22%3A%20%22glyphicon%22%7D%0A%20%20%20%20%20%20%20%20%20%20%20%20%29%3B%0A%20%20%20%20%20%20%20%20%20%20%20%20marker_97f823a95aba4277bcb0e0a7d5b4f1ac.setIcon%28icon_726ee874918a4a429d74e2285762511e%29%3B%0A%20%20%20%20%20%20%20%20%0A%20%20%20%20%0A%20%20%20%20%20%20%20%20var%20popup_6db3e385b77f4efc8bde59ded95ca959%20%3D%20L.popup%28%7B%22maxWidth%22%3A%20%22100%25%22%7D%29%3B%0A%0A%20%20%20%20%20%20%20%20%0A%20%20%20%20%20%20%20%20%20%20%20%20var%20html_4df370f4958841cb80bae51991a80cfa%20%3D%20%24%28%60%3Cdiv%20id%3D%22html_4df370f4958841cb80bae51991a80cfa%22%20style%3D%22width%3A%20100.0%25%3B%20height%3A%20100.0%25%3B%22%3EId%3A%201090%3Cbr%3EHillside%20Crescent%3Cbr%3EDescription%3A%20East%20end%20of%20Hillside%20Crescent%3Cbr%3E%3Cbr%3ECounts%3A%204556%3C/div%3E%60%29%5B0%5D%3B%0A%20%20%20%20%20%20%20%20%20%20%20%20popup_6db3e385b77f4efc8bde59ded95ca959.setContent%28html_4df370f4958841cb80bae51991a80cfa%29%3B%0A%20%20%20%20%20%20%20%20%0A%0A%20%20%20%20%20%20%20%20marker_97f823a95aba4277bcb0e0a7d5b4f1ac.bindPopup%28popup_6db3e385b77f4efc8bde59ded95ca959%29%0A%20%20%20%20%20%20%20%20%3B%0A%0A%20%20%20%20%20%20%20%20%0A%20%20%20%20%0A%20%20%20%20%0A%20%20%20%20%20%20%20%20%20%20%20%20var%20marker_ed23d0dc1ce240c9a5d70e7f25b5ec6b%20%3D%20L.marker%28%0A%20%20%20%20%20%20%20%20%20%20%20%20%20%20%20%20%5B55.95134439884462%2C%20-3.191420998989883%5D%2C%0A%20%20%20%20%20%20%20%20%20%20%20%20%20%20%20%20%7B%7D%0A%20%20%20%20%20%20%20%20%20%20%20%20%29.addTo%28marker_cluster_67359bb34138463b8bbaf6c2ba135992%29%3B%0A%20%20%20%20%20%20%20%20%0A%20%20%20%20%0A%20%20%20%20%20%20%20%20%20%20%20%20var%20icon_e73d3eccda5d488fb16a15a51828e43b%20%3D%20L.AwesomeMarkers.icon%28%0A%20%20%20%20%20%20%20%20%20%20%20%20%20%20%20%20%7B%22extraClasses%22%3A%20%22fa-rotate-0%22%2C%20%22icon%22%3A%20%22bicycle%22%2C%20%22iconColor%22%3A%20%22white%22%2C%20%22markerColor%22%3A%20%22red%22%2C%20%22prefic%22%3A%20%22fa%22%2C%20%22prefix%22%3A%20%22glyphicon%22%7D%0A%20%20%20%20%20%20%20%20%20%20%20%20%29%3B%0A%20%20%20%20%20%20%20%20%20%20%20%20marker_ed23d0dc1ce240c9a5d70e7f25b5ec6b.setIcon%28icon_e73d3eccda5d488fb16a15a51828e43b%29%3B%0A%20%20%20%20%20%20%20%20%0A%20%20%20%20%0A%20%20%20%20%20%20%20%20var%20popup_056401f4d76f43cb86892648ccdb3747%20%3D%20L.popup%28%7B%22maxWidth%22%3A%20%22100%25%22%7D%29%3B%0A%0A%20%20%20%20%20%20%20%20%0A%20%20%20%20%20%20%20%20%20%20%20%20var%20html_7d99c26d455d42bb9c10f928de66d7f9%20%3D%20%24%28%60%3Cdiv%20id%3D%22html_7d99c26d455d42bb9c10f928de66d7f9%22%20style%3D%22width%3A%20100.0%25%3B%20height%3A%20100.0%25%3B%22%3EId%3A%20183%3Cbr%3EWaverley%20Bridge%3Cbr%3EDescription%3A%20near%20the%20top%20of%20the%20South%20ramp%3Cbr%3E%3Cbr%3ECounts%3A%204377%3C/div%3E%60%29%5B0%5D%3B%0A%20%20%20%20%20%20%20%20%20%20%20%20popup_056401f4d76f43cb86892648ccdb3747.setContent%28html_7d99c26d455d42bb9c10f928de66d7f9%29%3B%0A%20%20%20%20%20%20%20%20%0A%0A%20%20%20%20%20%20%20%20marker_ed23d0dc1ce240c9a5d70e7f25b5ec6b.bindPopup%28popup_056401f4d76f43cb86892648ccdb3747%29%0A%20%20%20%20%20%20%20%20%3B%0A%0A%20%20%20%20%20%20%20%20%0A%20%20%20%20%0A%20%20%20%20%0A%20%20%20%20%20%20%20%20%20%20%20%20var%20marker_08dc309928a645eebe486e6e76dcfdda%20%3D%20L.marker%28%0A%20%20%20%20%20%20%20%20%20%20%20%20%20%20%20%20%5B55.937123239991095%2C%20-3.206431879393449%5D%2C%0A%20%20%20%20%20%20%20%20%20%20%20%20%20%20%20%20%7B%7D%0A%20%20%20%20%20%20%20%20%20%20%20%20%29.addTo%28marker_cluster_67359bb34138463b8bbaf6c2ba135992%29%3B%0A%20%20%20%20%20%20%20%20%0A%20%20%20%20%0A%20%20%20%20%20%20%20%20%20%20%20%20var%20icon_3008a8b5af1340c4854a3ab16ed984f4%20%3D%20L.AwesomeMarkers.icon%28%0A%20%20%20%20%20%20%20%20%20%20%20%20%20%20%20%20%7B%22extraClasses%22%3A%20%22fa-rotate-0%22%2C%20%22icon%22%3A%20%22bicycle%22%2C%20%22iconColor%22%3A%20%22white%22%2C%20%22markerColor%22%3A%20%22red%22%2C%20%22prefic%22%3A%20%22fa%22%2C%20%22prefix%22%3A%20%22glyphicon%22%7D%0A%20%20%20%20%20%20%20%20%20%20%20%20%29%3B%0A%20%20%20%20%20%20%20%20%20%20%20%20marker_08dc309928a645eebe486e6e76dcfdda.setIcon%28icon_3008a8b5af1340c4854a3ab16ed984f4%29%3B%0A%20%20%20%20%20%20%20%20%0A%20%20%20%20%0A%20%20%20%20%20%20%20%20var%20popup_ff5b1626bdec4f2990f1e88baac0971c%20%3D%20L.popup%28%7B%22maxWidth%22%3A%20%22100%25%22%7D%29%3B%0A%0A%20%20%20%20%20%20%20%20%0A%20%20%20%20%20%20%20%20%20%20%20%20var%20html_1e0600af93d6434e9983858c29635830%20%3D%20%24%28%60%3Cdiv%20id%3D%22html_1e0600af93d6434e9983858c29635830%22%20style%3D%22width%3A%20100.0%25%3B%20height%3A%20100.0%25%3B%22%3EId%3A%201767%3Cbr%3EBruntsfield%20Links%3Cbr%3EDescription%3A%20Corner%20of%20Bruntsfield%20Links%20next%20to%20Public%20Toilets%3Cbr%3E%3Cbr%3ECounts%3A%204372%3C/div%3E%60%29%5B0%5D%3B%0A%20%20%20%20%20%20%20%20%20%20%20%20popup_ff5b1626bdec4f2990f1e88baac0971c.setContent%28html_1e0600af93d6434e9983858c29635830%29%3B%0A%20%20%20%20%20%20%20%20%0A%0A%20%20%20%20%20%20%20%20marker_08dc309928a645eebe486e6e76dcfdda.bindPopup%28popup_ff5b1626bdec4f2990f1e88baac0971c%29%0A%20%20%20%20%20%20%20%20%3B%0A%0A%20%20%20%20%20%20%20%20%0A%20%20%20%20%0A%20%20%20%20%0A%20%20%20%20%20%20%20%20%20%20%20%20var%20marker_d212c68e5da9446cb1de6f76e2d589a3%20%3D%20L.marker%28%0A%20%20%20%20%20%20%20%20%20%20%20%20%20%20%20%20%5B55.94007146917616%2C%20-3.215335840688084%5D%2C%0A%20%20%20%20%20%20%20%20%20%20%20%20%20%20%20%20%7B%7D%0A%20%20%20%20%20%20%20%20%20%20%20%20%29.addTo%28marker_cluster_67359bb34138463b8bbaf6c2ba135992%29%3B%0A%20%20%20%20%20%20%20%20%0A%20%20%20%20%0A%20%20%20%20%20%20%20%20%20%20%20%20var%20icon_f665c0d8173f494cb02114fdd3291c38%20%3D%20L.AwesomeMarkers.icon%28%0A%20%20%20%20%20%20%20%20%20%20%20%20%20%20%20%20%7B%22extraClasses%22%3A%20%22fa-rotate-0%22%2C%20%22icon%22%3A%20%22bicycle%22%2C%20%22iconColor%22%3A%20%22white%22%2C%20%22markerColor%22%3A%20%22red%22%2C%20%22prefic%22%3A%20%22fa%22%2C%20%22prefix%22%3A%20%22glyphicon%22%7D%0A%20%20%20%20%20%20%20%20%20%20%20%20%29%3B%0A%20%20%20%20%20%20%20%20%20%20%20%20marker_d212c68e5da9446cb1de6f76e2d589a3.setIcon%28icon_f665c0d8173f494cb02114fdd3291c38%29%3B%0A%20%20%20%20%20%20%20%20%0A%20%20%20%20%0A%20%20%20%20%20%20%20%20var%20popup_bec3ec15acc54205bdd920245a3abd3b%20%3D%20L.popup%28%7B%22maxWidth%22%3A%20%22100%25%22%7D%29%3B%0A%0A%20%20%20%20%20%20%20%20%0A%20%20%20%20%20%20%20%20%20%20%20%20var%20html_d29f31efc76f4d37bfe20adeb1cf81ce%20%3D%20%24%28%60%3Cdiv%20id%3D%22html_d29f31efc76f4d37bfe20adeb1cf81ce%22%20style%3D%22width%3A%20100.0%25%3B%20height%3A%20100.0%25%3B%22%3EId%3A%201823%3Cbr%3EBoroughmuir%3Cbr%3EDescription%3A%20Off%20Gibson%20Terrace%3Cbr%3E%3Cbr%3ECounts%3A%204245%3C/div%3E%60%29%5B0%5D%3B%0A%20%20%20%20%20%20%20%20%20%20%20%20popup_bec3ec15acc54205bdd920245a3abd3b.setContent%28html_d29f31efc76f4d37bfe20adeb1cf81ce%29%3B%0A%20%20%20%20%20%20%20%20%0A%0A%20%20%20%20%20%20%20%20marker_d212c68e5da9446cb1de6f76e2d589a3.bindPopup%28popup_bec3ec15acc54205bdd920245a3abd3b%29%0A%20%20%20%20%20%20%20%20%3B%0A%0A%20%20%20%20%20%20%20%20%0A%20%20%20%20%0A%20%20%20%20%0A%20%20%20%20%20%20%20%20%20%20%20%20var%20marker_a4791e8fbb5348ada387d733af9e81da%20%3D%20L.marker%28%0A%20%20%20%20%20%20%20%20%20%20%20%20%20%20%20%20%5B55.94955950619123%2C%20-3.180413257527789%5D%2C%0A%20%20%20%20%20%20%20%20%20%20%20%20%20%20%20%20%7B%7D%0A%20%20%20%20%20%20%20%20%20%20%20%20%29.addTo%28marker_cluster_67359bb34138463b8bbaf6c2ba135992%29%3B%0A%20%20%20%20%20%20%20%20%0A%20%20%20%20%0A%20%20%20%20%20%20%20%20%20%20%20%20var%20icon_28223c6b89d5488a80f8bff1f4593da4%20%3D%20L.AwesomeMarkers.icon%28%0A%20%20%20%20%20%20%20%20%20%20%20%20%20%20%20%20%7B%22extraClasses%22%3A%20%22fa-rotate-0%22%2C%20%22icon%22%3A%20%22bicycle%22%2C%20%22iconColor%22%3A%20%22white%22%2C%20%22markerColor%22%3A%20%22red%22%2C%20%22prefic%22%3A%20%22fa%22%2C%20%22prefix%22%3A%20%22glyphicon%22%7D%0A%20%20%20%20%20%20%20%20%20%20%20%20%29%3B%0A%20%20%20%20%20%20%20%20%20%20%20%20marker_a4791e8fbb5348ada387d733af9e81da.setIcon%28icon_28223c6b89d5488a80f8bff1f4593da4%29%3B%0A%20%20%20%20%20%20%20%20%0A%20%20%20%20%0A%20%20%20%20%20%20%20%20var%20popup_6f867d0d073244d5ab27b6b6bf8b98e7%20%3D%20L.popup%28%7B%22maxWidth%22%3A%20%22100%25%22%7D%29%3B%0A%0A%20%20%20%20%20%20%20%20%0A%20%20%20%20%20%20%20%20%20%20%20%20var%20html_55fd8bef3f79413eb7bae93fed645e8c%20%3D%20%24%28%60%3Cdiv%20id%3D%22html_55fd8bef3f79413eb7bae93fed645e8c%22%20style%3D%22width%3A%20100.0%25%3B%20height%3A%20100.0%25%3B%22%3EId%3A%201091%3Cbr%3EHolyrood%20Road%3Cbr%3EDescription%3A%20Opposite%20St%20Leonards%20Land%3Cbr%3E%3Cbr%3ECounts%3A%204240%3C/div%3E%60%29%5B0%5D%3B%0A%20%20%20%20%20%20%20%20%20%20%20%20popup_6f867d0d073244d5ab27b6b6bf8b98e7.setContent%28html_55fd8bef3f79413eb7bae93fed645e8c%29%3B%0A%20%20%20%20%20%20%20%20%0A%0A%20%20%20%20%20%20%20%20marker_a4791e8fbb5348ada387d733af9e81da.bindPopup%28popup_6f867d0d073244d5ab27b6b6bf8b98e7%29%0A%20%20%20%20%20%20%20%20%3B%0A%0A%20%20%20%20%20%20%20%20%0A%20%20%20%20%0A%20%20%20%20%0A%20%20%20%20%20%20%20%20%20%20%20%20var%20marker_94d579ac54a641aebe6bff8c62983ad2%20%3D%20L.marker%28%0A%20%20%20%20%20%20%20%20%20%20%20%20%20%20%20%20%5B55.93900024788877%2C%20-3.173923554315593%5D%2C%0A%20%20%20%20%20%20%20%20%20%20%20%20%20%20%20%20%7B%7D%0A%20%20%20%20%20%20%20%20%20%20%20%20%29.addTo%28marker_cluster_67359bb34138463b8bbaf6c2ba135992%29%3B%0A%20%20%20%20%20%20%20%20%0A%20%20%20%20%0A%20%20%20%20%20%20%20%20%20%20%20%20var%20icon_4796f576966f4ff4886c20cc9eccaf31%20%3D%20L.AwesomeMarkers.icon%28%0A%20%20%20%20%20%20%20%20%20%20%20%20%20%20%20%20%7B%22extraClasses%22%3A%20%22fa-rotate-0%22%2C%20%22icon%22%3A%20%22bicycle%22%2C%20%22iconColor%22%3A%20%22white%22%2C%20%22markerColor%22%3A%20%22red%22%2C%20%22prefic%22%3A%20%22fa%22%2C%20%22prefix%22%3A%20%22glyphicon%22%7D%0A%20%20%20%20%20%20%20%20%20%20%20%20%29%3B%0A%20%20%20%20%20%20%20%20%20%20%20%20marker_94d579ac54a641aebe6bff8c62983ad2.setIcon%28icon_4796f576966f4ff4886c20cc9eccaf31%29%3B%0A%20%20%20%20%20%20%20%20%0A%20%20%20%20%0A%20%20%20%20%20%20%20%20var%20popup_66c3062fa7864fcfbad589559616b33d%20%3D%20L.popup%28%7B%22maxWidth%22%3A%20%22100%25%22%7D%29%3B%0A%0A%20%20%20%20%20%20%20%20%0A%20%20%20%20%20%20%20%20%20%20%20%20var%20html_500b81fb31b54c3a83307b79aa4ebe10%20%3D%20%24%28%60%3Cdiv%20id%3D%22html_500b81fb31b54c3a83307b79aa4ebe10%22%20style%3D%22width%3A%20100.0%25%3B%20height%3A%20100.0%25%3B%22%3EId%3A%20246%3Cbr%3ERoyal%20Commonwealth%20Pool%3Cbr%3EDescription%3A%20Royal%20Commonwealth%20Pool%20Entrance%3Cbr%3E%3Cbr%3ECounts%3A%204090%3C/div%3E%60%29%5B0%5D%3B%0A%20%20%20%20%20%20%20%20%20%20%20%20popup_66c3062fa7864fcfbad589559616b33d.setContent%28html_500b81fb31b54c3a83307b79aa4ebe10%29%3B%0A%20%20%20%20%20%20%20%20%0A%0A%20%20%20%20%20%20%20%20marker_94d579ac54a641aebe6bff8c62983ad2.bindPopup%28popup_66c3062fa7864fcfbad589559616b33d%29%0A%20%20%20%20%20%20%20%20%3B%0A%0A%20%20%20%20%20%20%20%20%0A%20%20%20%20%0A%20%20%20%20%0A%20%20%20%20%20%20%20%20%20%20%20%20var%20marker_ff6cbc87c8d748e3bc7feb0557f05026%20%3D%20L.marker%28%0A%20%20%20%20%20%20%20%20%20%20%20%20%20%20%20%20%5B55.94894930668582%2C%20-3.094727261654725%5D%2C%0A%20%20%20%20%20%20%20%20%20%20%20%20%20%20%20%20%7B%7D%0A%20%20%20%20%20%20%20%20%20%20%20%20%29.addTo%28marker_cluster_67359bb34138463b8bbaf6c2ba135992%29%3B%0A%20%20%20%20%20%20%20%20%0A%20%20%20%20%0A%20%20%20%20%20%20%20%20%20%20%20%20var%20icon_f3b30afcdf0e470396eec2ac92357ec7%20%3D%20L.AwesomeMarkers.icon%28%0A%20%20%20%20%20%20%20%20%20%20%20%20%20%20%20%20%7B%22extraClasses%22%3A%20%22fa-rotate-0%22%2C%20%22icon%22%3A%20%22bicycle%22%2C%20%22iconColor%22%3A%20%22white%22%2C%20%22markerColor%22%3A%20%22red%22%2C%20%22prefic%22%3A%20%22fa%22%2C%20%22prefix%22%3A%20%22glyphicon%22%7D%0A%20%20%20%20%20%20%20%20%20%20%20%20%29%3B%0A%20%20%20%20%20%20%20%20%20%20%20%20marker_ff6cbc87c8d748e3bc7feb0557f05026.setIcon%28icon_f3b30afcdf0e470396eec2ac92357ec7%29%3B%0A%20%20%20%20%20%20%20%20%0A%20%20%20%20%0A%20%20%20%20%20%20%20%20var%20popup_acdd6d0fac9f4316a1b8625b62aba7bc%20%3D%20L.popup%28%7B%22maxWidth%22%3A%20%22100%25%22%7D%29%3B%0A%0A%20%20%20%20%20%20%20%20%0A%20%20%20%20%20%20%20%20%20%20%20%20var%20html_0af7e639051f40b9bc5c64d25cb59eee%20%3D%20%24%28%60%3Cdiv%20id%3D%22html_0af7e639051f40b9bc5c64d25cb59eee%22%20style%3D%22width%3A%20100.0%25%3B%20height%3A%20100.0%25%3B%22%3EId%3A%201800%3Cbr%3EJoppa%3Cbr%3EDescription%3A%20East%20end%20of%20Promenade%3Cbr%3E%3Cbr%3ECounts%3A%204052%3C/div%3E%60%29%5B0%5D%3B%0A%20%20%20%20%20%20%20%20%20%20%20%20popup_acdd6d0fac9f4316a1b8625b62aba7bc.setContent%28html_0af7e639051f40b9bc5c64d25cb59eee%29%3B%0A%20%20%20%20%20%20%20%20%0A%0A%20%20%20%20%20%20%20%20marker_ff6cbc87c8d748e3bc7feb0557f05026.bindPopup%28popup_acdd6d0fac9f4316a1b8625b62aba7bc%29%0A%20%20%20%20%20%20%20%20%3B%0A%0A%20%20%20%20%20%20%20%20%0A%20%20%20%20%0A%20%20%20%20%0A%20%20%20%20%20%20%20%20%20%20%20%20var%20marker_c085e4c4b55648b3b2d059a1bdd81ecc%20%3D%20L.marker%28%0A%20%20%20%20%20%20%20%20%20%20%20%20%20%20%20%20%5B55.9640310527501%2C%20-3.185175372950425%5D%2C%0A%20%20%20%20%20%20%20%20%20%20%20%20%20%20%20%20%7B%7D%0A%20%20%20%20%20%20%20%20%20%20%20%20%29.addTo%28marker_cluster_67359bb34138463b8bbaf6c2ba135992%29%3B%0A%20%20%20%20%20%20%20%20%0A%20%20%20%20%0A%20%20%20%20%20%20%20%20%20%20%20%20var%20icon_56e045e30cd346478fa13365376cc57c%20%3D%20L.AwesomeMarkers.icon%28%0A%20%20%20%20%20%20%20%20%20%20%20%20%20%20%20%20%7B%22extraClasses%22%3A%20%22fa-rotate-0%22%2C%20%22icon%22%3A%20%22bicycle%22%2C%20%22iconColor%22%3A%20%22white%22%2C%20%22markerColor%22%3A%20%22red%22%2C%20%22prefic%22%3A%20%22fa%22%2C%20%22prefix%22%3A%20%22glyphicon%22%7D%0A%20%20%20%20%20%20%20%20%20%20%20%20%29%3B%0A%20%20%20%20%20%20%20%20%20%20%20%20marker_c085e4c4b55648b3b2d059a1bdd81ecc.setIcon%28icon_56e045e30cd346478fa13365376cc57c%29%3B%0A%20%20%20%20%20%20%20%20%0A%20%20%20%20%0A%20%20%20%20%20%20%20%20var%20popup_91a00e765a014b8f9ce5ed27349f9737%20%3D%20L.popup%28%7B%22maxWidth%22%3A%20%22100%25%22%7D%29%3B%0A%0A%20%20%20%20%20%20%20%20%0A%20%20%20%20%20%20%20%20%20%20%20%20var%20html_cd41e88e3a4045378b860a37dc6774e7%20%3D%20%24%28%60%3Cdiv%20id%3D%22html_cd41e88e3a4045378b860a37dc6774e7%22%20style%3D%22width%3A%20100.0%25%3B%20height%3A%20100.0%25%3B%22%3EId%3A%201729%3Cbr%3EMcDonald%20Road%3Cbr%3EDescription%3A%20Next%20to%20Fire%20Station%3Cbr%3E%3Cbr%3ECounts%3A%204048%3C/div%3E%60%29%5B0%5D%3B%0A%20%20%20%20%20%20%20%20%20%20%20%20popup_91a00e765a014b8f9ce5ed27349f9737.setContent%28html_cd41e88e3a4045378b860a37dc6774e7%29%3B%0A%20%20%20%20%20%20%20%20%0A%0A%20%20%20%20%20%20%20%20marker_c085e4c4b55648b3b2d059a1bdd81ecc.bindPopup%28popup_91a00e765a014b8f9ce5ed27349f9737%29%0A%20%20%20%20%20%20%20%20%3B%0A%0A%20%20%20%20%20%20%20%20%0A%20%20%20%20%0A%20%20%20%20%0A%20%20%20%20%20%20%20%20%20%20%20%20var%20marker_6a4d94c1eba7492da58505df54d62d9a%20%3D%20L.marker%28%0A%20%20%20%20%20%20%20%20%20%20%20%20%20%20%20%20%5B55.927985349796536%2C%20-3.209749771944871%5D%2C%0A%20%20%20%20%20%20%20%20%20%20%20%20%20%20%20%20%7B%7D%0A%20%20%20%20%20%20%20%20%20%20%20%20%29.addTo%28marker_cluster_67359bb34138463b8bbaf6c2ba135992%29%3B%0A%20%20%20%20%20%20%20%20%0A%20%20%20%20%0A%20%20%20%20%20%20%20%20%20%20%20%20var%20icon_0dc45bad509a4ad89909dd885eabeab6%20%3D%20L.AwesomeMarkers.icon%28%0A%20%20%20%20%20%20%20%20%20%20%20%20%20%20%20%20%7B%22extraClasses%22%3A%20%22fa-rotate-0%22%2C%20%22icon%22%3A%20%22bicycle%22%2C%20%22iconColor%22%3A%20%22white%22%2C%20%22markerColor%22%3A%20%22red%22%2C%20%22prefic%22%3A%20%22fa%22%2C%20%22prefix%22%3A%20%22glyphicon%22%7D%0A%20%20%20%20%20%20%20%20%20%20%20%20%29%3B%0A%20%20%20%20%20%20%20%20%20%20%20%20marker_6a4d94c1eba7492da58505df54d62d9a.setIcon%28icon_0dc45bad509a4ad89909dd885eabeab6%29%3B%0A%20%20%20%20%20%20%20%20%0A%20%20%20%20%0A%20%20%20%20%20%20%20%20var%20popup_53efe200d51a4f32a0d0272e7af58cd1%20%3D%20L.popup%28%7B%22maxWidth%22%3A%20%22100%25%22%7D%29%3B%0A%0A%20%20%20%20%20%20%20%20%0A%20%20%20%20%20%20%20%20%20%20%20%20var%20html_4f137ef2ae42439c845cbcddabac4776%20%3D%20%24%28%60%3Cdiv%20id%3D%22html_4f137ef2ae42439c845cbcddabac4776%22%20style%3D%22width%3A%20100.0%25%3B%20height%3A%20100.0%25%3B%22%3EId%3A%201744%3Cbr%3EMorningside%20Road%3Cbr%3EDescription%3A%20Corner%20of%20Morningside%20Park%2C%20beside%20M%26S%3Cbr%3E%3Cbr%3ECounts%3A%203995%3C/div%3E%60%29%5B0%5D%3B%0A%20%20%20%20%20%20%20%20%20%20%20%20popup_53efe200d51a4f32a0d0272e7af58cd1.setContent%28html_4f137ef2ae42439c845cbcddabac4776%29%3B%0A%20%20%20%20%20%20%20%20%0A%0A%20%20%20%20%20%20%20%20marker_6a4d94c1eba7492da58505df54d62d9a.bindPopup%28popup_53efe200d51a4f32a0d0272e7af58cd1%29%0A%20%20%20%20%20%20%20%20%3B%0A%0A%20%20%20%20%20%20%20%20%0A%20%20%20%20%0A%20%20%20%20%0A%20%20%20%20%20%20%20%20%20%20%20%20var%20marker_38edcbc35f9241c385f5b3588279dcc9%20%3D%20L.marker%28%0A%20%20%20%20%20%20%20%20%20%20%20%20%20%20%20%20%5B55.95941012836135%2C%20-3.215661360613694%5D%2C%0A%20%20%20%20%20%20%20%20%20%20%20%20%20%20%20%20%7B%7D%0A%20%20%20%20%20%20%20%20%20%20%20%20%29.addTo%28marker_cluster_67359bb34138463b8bbaf6c2ba135992%29%3B%0A%20%20%20%20%20%20%20%20%0A%20%20%20%20%0A%20%20%20%20%20%20%20%20%20%20%20%20var%20icon_75b0aab8b94d4a979a14065cb79be010%20%3D%20L.AwesomeMarkers.icon%28%0A%20%20%20%20%20%20%20%20%20%20%20%20%20%20%20%20%7B%22extraClasses%22%3A%20%22fa-rotate-0%22%2C%20%22icon%22%3A%20%22bicycle%22%2C%20%22iconColor%22%3A%20%22white%22%2C%20%22markerColor%22%3A%20%22red%22%2C%20%22prefic%22%3A%20%22fa%22%2C%20%22prefix%22%3A%20%22glyphicon%22%7D%0A%20%20%20%20%20%20%20%20%20%20%20%20%29%3B%0A%20%20%20%20%20%20%20%20%20%20%20%20marker_38edcbc35f9241c385f5b3588279dcc9.setIcon%28icon_75b0aab8b94d4a979a14065cb79be010%29%3B%0A%20%20%20%20%20%20%20%20%0A%20%20%20%20%0A%20%20%20%20%20%20%20%20var%20popup_ba63a8939836416b8913c98834af4630%20%3D%20L.popup%28%7B%22maxWidth%22%3A%20%22100%25%22%7D%29%3B%0A%0A%20%20%20%20%20%20%20%20%0A%20%20%20%20%20%20%20%20%20%20%20%20var%20html_26ca603bf2c34f45b01c317406a43a44%20%3D%20%24%28%60%3Cdiv%20id%3D%22html_26ca603bf2c34f45b01c317406a43a44%22%20style%3D%22width%3A%20100.0%25%3B%20height%3A%20100.0%25%3B%22%3EId%3A%201763%3Cbr%3EComely%20Bank%20Road%3Cbr%3EDescription%3A%20Outside%20Raeburn%20Place%20Sports%20Ground%3Cbr%3E%3Cbr%3ECounts%3A%203959%3C/div%3E%60%29%5B0%5D%3B%0A%20%20%20%20%20%20%20%20%20%20%20%20popup_ba63a8939836416b8913c98834af4630.setContent%28html_26ca603bf2c34f45b01c317406a43a44%29%3B%0A%20%20%20%20%20%20%20%20%0A%0A%20%20%20%20%20%20%20%20marker_38edcbc35f9241c385f5b3588279dcc9.bindPopup%28popup_ba63a8939836416b8913c98834af4630%29%0A%20%20%20%20%20%20%20%20%3B%0A%0A%20%20%20%20%20%20%20%20%0A%20%20%20%20%0A%20%20%20%20%0A%20%20%20%20%20%20%20%20%20%20%20%20var%20marker_89931bd4d987467ba4e3eaaf0c6b10c8%20%3D%20L.marker%28%0A%20%20%20%20%20%20%20%20%20%20%20%20%20%20%20%20%5B55.94740919920712%2C%20-3.205765497136553%5D%2C%0A%20%20%20%20%20%20%20%20%20%20%20%20%20%20%20%20%7B%7D%0A%20%20%20%20%20%20%20%20%20%20%20%20%29.addTo%28marker_cluster_67359bb34138463b8bbaf6c2ba135992%29%3B%0A%20%20%20%20%20%20%20%20%0A%20%20%20%20%0A%20%20%20%20%20%20%20%20%20%20%20%20var%20icon_f151d7b3d54041188b2f6f247d2b6932%20%3D%20L.AwesomeMarkers.icon%28%0A%20%20%20%20%20%20%20%20%20%20%20%20%20%20%20%20%7B%22extraClasses%22%3A%20%22fa-rotate-0%22%2C%20%22icon%22%3A%20%22bicycle%22%2C%20%22iconColor%22%3A%20%22white%22%2C%20%22markerColor%22%3A%20%22red%22%2C%20%22prefic%22%3A%20%22fa%22%2C%20%22prefix%22%3A%20%22glyphicon%22%7D%0A%20%20%20%20%20%20%20%20%20%20%20%20%29%3B%0A%20%20%20%20%20%20%20%20%20%20%20%20marker_89931bd4d987467ba4e3eaaf0c6b10c8.setIcon%28icon_f151d7b3d54041188b2f6f247d2b6932%29%3B%0A%20%20%20%20%20%20%20%20%0A%20%20%20%20%0A%20%20%20%20%20%20%20%20var%20popup_cfbfa5beebf44c2481e1a083d362bf86%20%3D%20L.popup%28%7B%22maxWidth%22%3A%20%22100%25%22%7D%29%3B%0A%0A%20%20%20%20%20%20%20%20%0A%20%20%20%20%20%20%20%20%20%20%20%20var%20html_787029ee87784dbeabf3382e99ba3e0d%20%3D%20%24%28%60%3Cdiv%20id%3D%22html_787029ee87784dbeabf3382e99ba3e0d%22%20style%3D%22width%3A%20100.0%25%3B%20height%3A%20100.0%25%3B%22%3EId%3A%201039%3Cbr%3ELothian%20Road%3Cbr%3EDescription%3A%20Outside%20the%20Usher%20Hall%3Cbr%3E%3Cbr%3ECounts%3A%203950%3C/div%3E%60%29%5B0%5D%3B%0A%20%20%20%20%20%20%20%20%20%20%20%20popup_cfbfa5beebf44c2481e1a083d362bf86.setContent%28html_787029ee87784dbeabf3382e99ba3e0d%29%3B%0A%20%20%20%20%20%20%20%20%0A%0A%20%20%20%20%20%20%20%20marker_89931bd4d987467ba4e3eaaf0c6b10c8.bindPopup%28popup_cfbfa5beebf44c2481e1a083d362bf86%29%0A%20%20%20%20%20%20%20%20%3B%0A%0A%20%20%20%20%20%20%20%20%0A%20%20%20%20%0A%20%20%20%20%0A%20%20%20%20%20%20%20%20%20%20%20%20var%20marker_9e71cc451a424751a6bc4d0df7819cbd%20%3D%20L.marker%28%0A%20%20%20%20%20%20%20%20%20%20%20%20%20%20%20%20%5B55.93650603148236%2C%20-3.180166347615113%5D%2C%0A%20%20%20%20%20%20%20%20%20%20%20%20%20%20%20%20%7B%7D%0A%20%20%20%20%20%20%20%20%20%20%20%20%29.addTo%28marker_cluster_67359bb34138463b8bbaf6c2ba135992%29%3B%0A%20%20%20%20%20%20%20%20%0A%20%20%20%20%0A%20%20%20%20%20%20%20%20%20%20%20%20var%20icon_58aefdb28c6d4a4eaf468bb118bcc364%20%3D%20L.AwesomeMarkers.icon%28%0A%20%20%20%20%20%20%20%20%20%20%20%20%20%20%20%20%7B%22extraClasses%22%3A%20%22fa-rotate-0%22%2C%20%22icon%22%3A%20%22bicycle%22%2C%20%22iconColor%22%3A%20%22white%22%2C%20%22markerColor%22%3A%20%22red%22%2C%20%22prefic%22%3A%20%22fa%22%2C%20%22prefix%22%3A%20%22glyphicon%22%7D%0A%20%20%20%20%20%20%20%20%20%20%20%20%29%3B%0A%20%20%20%20%20%20%20%20%20%20%20%20marker_9e71cc451a424751a6bc4d0df7819cbd.setIcon%28icon_58aefdb28c6d4a4eaf468bb118bcc364%29%3B%0A%20%20%20%20%20%20%20%20%0A%20%20%20%20%0A%20%20%20%20%20%20%20%20var%20popup_9e4a3da5389b4e25a1d941593fe20fd5%20%3D%20L.popup%28%7B%22maxWidth%22%3A%20%22100%25%22%7D%29%3B%0A%0A%20%20%20%20%20%20%20%20%0A%20%20%20%20%20%20%20%20%20%20%20%20var%20html_5d8101ac2f3841bcad900dceae28fecc%20%3D%20%24%28%60%3Cdiv%20id%3D%22html_5d8101ac2f3841bcad900dceae28fecc%22%20style%3D%22width%3A%20100.0%25%3B%20height%3A%20100.0%25%3B%22%3EId%3A%201727%3Cbr%3ECausewayside%3Cbr%3EDescription%3A%20Outside%20National%20Library%20of%20Scotland%3Cbr%3E%3Cbr%3ECounts%3A%203933%3C/div%3E%60%29%5B0%5D%3B%0A%20%20%20%20%20%20%20%20%20%20%20%20popup_9e4a3da5389b4e25a1d941593fe20fd5.setContent%28html_5d8101ac2f3841bcad900dceae28fecc%29%3B%0A%20%20%20%20%20%20%20%20%0A%0A%20%20%20%20%20%20%20%20marker_9e71cc451a424751a6bc4d0df7819cbd.bindPopup%28popup_9e4a3da5389b4e25a1d941593fe20fd5%29%0A%20%20%20%20%20%20%20%20%3B%0A%0A%20%20%20%20%20%20%20%20%0A%20%20%20%20%0A%20%20%20%20%0A%20%20%20%20%20%20%20%20%20%20%20%20var%20marker_c2dbd3535429440bbd7304df178e2447%20%3D%20L.marker%28%0A%20%20%20%20%20%20%20%20%20%20%20%20%20%20%20%20%5B55.9607624081837%2C%20-3.201278014771333%5D%2C%0A%20%20%20%20%20%20%20%20%20%20%20%20%20%20%20%20%7B%7D%0A%20%20%20%20%20%20%20%20%20%20%20%20%29.addTo%28marker_cluster_67359bb34138463b8bbaf6c2ba135992%29%3B%0A%20%20%20%20%20%20%20%20%0A%20%20%20%20%0A%20%20%20%20%20%20%20%20%20%20%20%20var%20icon_e5d0f7c3ec2249e7979bfbfb60195403%20%3D%20L.AwesomeMarkers.icon%28%0A%20%20%20%20%20%20%20%20%20%20%20%20%20%20%20%20%7B%22extraClasses%22%3A%20%22fa-rotate-0%22%2C%20%22icon%22%3A%20%22bicycle%22%2C%20%22iconColor%22%3A%20%22white%22%2C%20%22markerColor%22%3A%20%22red%22%2C%20%22prefic%22%3A%20%22fa%22%2C%20%22prefix%22%3A%20%22glyphicon%22%7D%0A%20%20%20%20%20%20%20%20%20%20%20%20%29%3B%0A%20%20%20%20%20%20%20%20%20%20%20%20marker_c2dbd3535429440bbd7304df178e2447.setIcon%28icon_e5d0f7c3ec2249e7979bfbfb60195403%29%3B%0A%20%20%20%20%20%20%20%20%0A%20%20%20%20%0A%20%20%20%20%20%20%20%20var%20popup_ab51cbaafca6481c9fb520f67d404672%20%3D%20L.popup%28%7B%22maxWidth%22%3A%20%22100%25%22%7D%29%3B%0A%0A%20%20%20%20%20%20%20%20%0A%20%20%20%20%20%20%20%20%20%20%20%20var%20html_5bf868be36d24912ae4ae66c79efcf6c%20%3D%20%24%28%60%3Cdiv%20id%3D%22html_5bf868be36d24912ae4ae66c79efcf6c%22%20style%3D%22width%3A%20100.0%25%3B%20height%3A%20100.0%25%3B%22%3EId%3A%201720%3Cbr%3EDundas%20Street%3Cbr%3EDescription%3A%20On%20corner%20of%20Henderson%20Row%3Cbr%3E%3Cbr%3ECounts%3A%203921%3C/div%3E%60%29%5B0%5D%3B%0A%20%20%20%20%20%20%20%20%20%20%20%20popup_ab51cbaafca6481c9fb520f67d404672.setContent%28html_5bf868be36d24912ae4ae66c79efcf6c%29%3B%0A%20%20%20%20%20%20%20%20%0A%0A%20%20%20%20%20%20%20%20marker_c2dbd3535429440bbd7304df178e2447.bindPopup%28popup_ab51cbaafca6481c9fb520f67d404672%29%0A%20%20%20%20%20%20%20%20%3B%0A%0A%20%20%20%20%20%20%20%20%0A%20%20%20%20%0A%20%20%20%20%0A%20%20%20%20%20%20%20%20%20%20%20%20var%20marker_4b81ba5d8e0f4e30b49b3c8825770f31%20%3D%20L.marker%28%0A%20%20%20%20%20%20%20%20%20%20%20%20%20%20%20%20%5B55.94676648672239%2C%20-3.202037829055143%5D%2C%0A%20%20%20%20%20%20%20%20%20%20%20%20%20%20%20%20%7B%7D%0A%20%20%20%20%20%20%20%20%20%20%20%20%29.addTo%28marker_cluster_67359bb34138463b8bbaf6c2ba135992%29%3B%0A%20%20%20%20%20%20%20%20%0A%20%20%20%20%0A%20%20%20%20%20%20%20%20%20%20%20%20var%20icon_894fab6e277c42859cb6b8a96013f8a6%20%3D%20L.AwesomeMarkers.icon%28%0A%20%20%20%20%20%20%20%20%20%20%20%20%20%20%20%20%7B%22extraClasses%22%3A%20%22fa-rotate-0%22%2C%20%22icon%22%3A%20%22bicycle%22%2C%20%22iconColor%22%3A%20%22white%22%2C%20%22markerColor%22%3A%20%22red%22%2C%20%22prefic%22%3A%20%22fa%22%2C%20%22prefix%22%3A%20%22glyphicon%22%7D%0A%20%20%20%20%20%20%20%20%20%20%20%20%29%3B%0A%20%20%20%20%20%20%20%20%20%20%20%20marker_4b81ba5d8e0f4e30b49b3c8825770f31.setIcon%28icon_894fab6e277c42859cb6b8a96013f8a6%29%3B%0A%20%20%20%20%20%20%20%20%0A%20%20%20%20%0A%20%20%20%20%20%20%20%20var%20popup_9524f904897f4f9bba399d537128c498%20%3D%20L.popup%28%7B%22maxWidth%22%3A%20%22100%25%22%7D%29%3B%0A%0A%20%20%20%20%20%20%20%20%0A%20%20%20%20%20%20%20%20%20%20%20%20var%20html_981fa7cad60948f4b9be896891dfad7f%20%3D%20%24%28%60%3Cdiv%20id%3D%22html_981fa7cad60948f4b9be896891dfad7f%22%20style%3D%22width%3A%20100.0%25%3B%20height%3A%20100.0%25%3B%22%3EId%3A%20296%3Cbr%3ECastle%20Terrace%3Cbr%3EDescription%3A%20Corner%20of%20Castle%20Terrace%20and%20Lady%20Lawson%20St%3Cbr%3E%3Cbr%3ECounts%3A%203872%3C/div%3E%60%29%5B0%5D%3B%0A%20%20%20%20%20%20%20%20%20%20%20%20popup_9524f904897f4f9bba399d537128c498.setContent%28html_981fa7cad60948f4b9be896891dfad7f%29%3B%0A%20%20%20%20%20%20%20%20%0A%0A%20%20%20%20%20%20%20%20marker_4b81ba5d8e0f4e30b49b3c8825770f31.bindPopup%28popup_9524f904897f4f9bba399d537128c498%29%0A%20%20%20%20%20%20%20%20%3B%0A%0A%20%20%20%20%20%20%20%20%0A%20%20%20%20%0A%20%20%20%20%0A%20%20%20%20%20%20%20%20%20%20%20%20var%20marker_b83010dbc95749278cf8a639677760f8%20%3D%20L.marker%28%0A%20%20%20%20%20%20%20%20%20%20%20%20%20%20%20%20%5B55.94477165233548%2C%20-3.197265856419562%5D%2C%0A%20%20%20%20%20%20%20%20%20%20%20%20%20%20%20%20%7B%7D%0A%20%20%20%20%20%20%20%20%20%20%20%20%29.addTo%28marker_cluster_67359bb34138463b8bbaf6c2ba135992%29%3B%0A%20%20%20%20%20%20%20%20%0A%20%20%20%20%0A%20%20%20%20%20%20%20%20%20%20%20%20var%20icon_47b688b368924629b78ce70c7ff3ee75%20%3D%20L.AwesomeMarkers.icon%28%0A%20%20%20%20%20%20%20%20%20%20%20%20%20%20%20%20%7B%22extraClasses%22%3A%20%22fa-rotate-0%22%2C%20%22icon%22%3A%20%22bicycle%22%2C%20%22iconColor%22%3A%20%22white%22%2C%20%22markerColor%22%3A%20%22red%22%2C%20%22prefic%22%3A%20%22fa%22%2C%20%22prefix%22%3A%20%22glyphicon%22%7D%0A%20%20%20%20%20%20%20%20%20%20%20%20%29%3B%0A%20%20%20%20%20%20%20%20%20%20%20%20marker_b83010dbc95749278cf8a639677760f8.setIcon%28icon_47b688b368924629b78ce70c7ff3ee75%29%3B%0A%20%20%20%20%20%20%20%20%0A%20%20%20%20%0A%20%20%20%20%20%20%20%20var%20popup_924e21da86f44524b3f3f3c006dc530a%20%3D%20L.popup%28%7B%22maxWidth%22%3A%20%22100%25%22%7D%29%3B%0A%0A%20%20%20%20%20%20%20%20%0A%20%20%20%20%20%20%20%20%20%20%20%20var%20html_8ee4d0f3aa86456ab1d1e560f64bc25b%20%3D%20%24%28%60%3Cdiv%20id%3D%22html_8ee4d0f3aa86456ab1d1e560f64bc25b%22%20style%3D%22width%3A%20100.0%25%3B%20height%3A%20100.0%25%3B%22%3EId%3A%20260%3Cbr%3ELauriston%20Place%3Cbr%3EDescription%3A%20near%20Chalmers%20Street%3Cbr%3E%3Cbr%3ECounts%3A%203731%3C/div%3E%60%29%5B0%5D%3B%0A%20%20%20%20%20%20%20%20%20%20%20%20popup_924e21da86f44524b3f3f3c006dc530a.setContent%28html_8ee4d0f3aa86456ab1d1e560f64bc25b%29%3B%0A%20%20%20%20%20%20%20%20%0A%0A%20%20%20%20%20%20%20%20marker_b83010dbc95749278cf8a639677760f8.bindPopup%28popup_924e21da86f44524b3f3f3c006dc530a%29%0A%20%20%20%20%20%20%20%20%3B%0A%0A%20%20%20%20%20%20%20%20%0A%20%20%20%20%0A%20%20%20%20%0A%20%20%20%20%20%20%20%20%20%20%20%20var%20marker_c889ba695a0c4d0687e90160ca023917%20%3D%20L.marker%28%0A%20%20%20%20%20%20%20%20%20%20%20%20%20%20%20%20%5B55.9387414422504%2C%20-3.229909254900902%5D%2C%0A%20%20%20%20%20%20%20%20%20%20%20%20%20%20%20%20%7B%7D%0A%20%20%20%20%20%20%20%20%20%20%20%20%29.addTo%28marker_cluster_67359bb34138463b8bbaf6c2ba135992%29%3B%0A%20%20%20%20%20%20%20%20%0A%20%20%20%20%0A%20%20%20%20%20%20%20%20%20%20%20%20var%20icon_c6779474c8a64cc3ae3a3e331d31310e%20%3D%20L.AwesomeMarkers.icon%28%0A%20%20%20%20%20%20%20%20%20%20%20%20%20%20%20%20%7B%22extraClasses%22%3A%20%22fa-rotate-0%22%2C%20%22icon%22%3A%20%22bicycle%22%2C%20%22iconColor%22%3A%20%22white%22%2C%20%22markerColor%22%3A%20%22red%22%2C%20%22prefic%22%3A%20%22fa%22%2C%20%22prefix%22%3A%20%22glyphicon%22%7D%0A%20%20%20%20%20%20%20%20%20%20%20%20%29%3B%0A%20%20%20%20%20%20%20%20%20%20%20%20marker_c889ba695a0c4d0687e90160ca023917.setIcon%28icon_c6779474c8a64cc3ae3a3e331d31310e%29%3B%0A%20%20%20%20%20%20%20%20%0A%20%20%20%20%0A%20%20%20%20%20%20%20%20var%20popup_c33a6d65c76c430a95f615f89b6cbfde%20%3D%20L.popup%28%7B%22maxWidth%22%3A%20%22100%25%22%7D%29%3B%0A%0A%20%20%20%20%20%20%20%20%0A%20%20%20%20%20%20%20%20%20%20%20%20var%20html_576a9fbdcd69463e8b2fff1ca3eb87c2%20%3D%20%24%28%60%3Cdiv%20id%3D%22html_576a9fbdcd69463e8b2fff1ca3eb87c2%22%20style%3D%22width%3A%20100.0%25%3B%20height%3A%20100.0%25%3B%22%3EId%3A%201808%3Cbr%3EGorgie%20Road%3Cbr%3EDescription%3A%20Corner%20with%20McLeod%20Street%3Cbr%3E%3Cbr%3ECounts%3A%203349%3C/div%3E%60%29%5B0%5D%3B%0A%20%20%20%20%20%20%20%20%20%20%20%20popup_c33a6d65c76c430a95f615f89b6cbfde.setContent%28html_576a9fbdcd69463e8b2fff1ca3eb87c2%29%3B%0A%20%20%20%20%20%20%20%20%0A%0A%20%20%20%20%20%20%20%20marker_c889ba695a0c4d0687e90160ca023917.bindPopup%28popup_c33a6d65c76c430a95f615f89b6cbfde%29%0A%20%20%20%20%20%20%20%20%3B%0A%0A%20%20%20%20%20%20%20%20%0A%20%20%20%20%0A%20%20%20%20%0A%20%20%20%20%20%20%20%20%20%20%20%20var%20marker_aebe53694ddd404c9223bdf4dff6fd36%20%3D%20L.marker%28%0A%20%20%20%20%20%20%20%20%20%20%20%20%20%20%20%20%5B55.96411787988959%2C%20-3.202094747416367%5D%2C%0A%20%20%20%20%20%20%20%20%20%20%20%20%20%20%20%20%7B%7D%0A%20%20%20%20%20%20%20%20%20%20%20%20%29.addTo%28marker_cluster_67359bb34138463b8bbaf6c2ba135992%29%3B%0A%20%20%20%20%20%20%20%20%0A%20%20%20%20%0A%20%20%20%20%20%20%20%20%20%20%20%20var%20icon_2143d25f3d6b417cae242426b1180530%20%3D%20L.AwesomeMarkers.icon%28%0A%20%20%20%20%20%20%20%20%20%20%20%20%20%20%20%20%7B%22extraClasses%22%3A%20%22fa-rotate-0%22%2C%20%22icon%22%3A%20%22bicycle%22%2C%20%22iconColor%22%3A%20%22white%22%2C%20%22markerColor%22%3A%20%22red%22%2C%20%22prefic%22%3A%20%22fa%22%2C%20%22prefix%22%3A%20%22glyphicon%22%7D%0A%20%20%20%20%20%20%20%20%20%20%20%20%29%3B%0A%20%20%20%20%20%20%20%20%20%20%20%20marker_aebe53694ddd404c9223bdf4dff6fd36.setIcon%28icon_2143d25f3d6b417cae242426b1180530%29%3B%0A%20%20%20%20%20%20%20%20%0A%20%20%20%20%0A%20%20%20%20%20%20%20%20var%20popup_8703891659e24bda8f800490ba8cc64a%20%3D%20L.popup%28%7B%22maxWidth%22%3A%20%22100%25%22%7D%29%3B%0A%0A%20%20%20%20%20%20%20%20%0A%20%20%20%20%20%20%20%20%20%20%20%20var%20html_700d2b64be6b4259b0746012d2b33cec%20%3D%20%24%28%60%3Cdiv%20id%3D%22html_700d2b64be6b4259b0746012d2b33cec%22%20style%3D%22width%3A%20100.0%25%3B%20height%3A%20100.0%25%3B%22%3EId%3A%201737%3Cbr%3EInverleith%20Row%3Cbr%3EDescription%3A%20Corner%20with%20Inverleith%20Terrace%3Cbr%3E%3Cbr%3ECounts%3A%203240%3C/div%3E%60%29%5B0%5D%3B%0A%20%20%20%20%20%20%20%20%20%20%20%20popup_8703891659e24bda8f800490ba8cc64a.setContent%28html_700d2b64be6b4259b0746012d2b33cec%29%3B%0A%20%20%20%20%20%20%20%20%0A%0A%20%20%20%20%20%20%20%20marker_aebe53694ddd404c9223bdf4dff6fd36.bindPopup%28popup_8703891659e24bda8f800490ba8cc64a%29%0A%20%20%20%20%20%20%20%20%3B%0A%0A%20%20%20%20%20%20%20%20%0A%20%20%20%20%0A%20%20%20%20%0A%20%20%20%20%20%20%20%20%20%20%20%20var%20marker_19a3abc5eb2646f5bd19d7ec401d4ebe%20%3D%20L.marker%28%0A%20%20%20%20%20%20%20%20%20%20%20%20%20%20%20%20%5B55.9438359841253%2C%20-3.184951408497681%5D%2C%0A%20%20%20%20%20%20%20%20%20%20%20%20%20%20%20%20%7B%7D%0A%20%20%20%20%20%20%20%20%20%20%20%20%29.addTo%28marker_cluster_67359bb34138463b8bbaf6c2ba135992%29%3B%0A%20%20%20%20%20%20%20%20%0A%20%20%20%20%0A%20%20%20%20%20%20%20%20%20%20%20%20var%20icon_ce18c03455d24dee86d8be215690f1ee%20%3D%20L.AwesomeMarkers.icon%28%0A%20%20%20%20%20%20%20%20%20%20%20%20%20%20%20%20%7B%22extraClasses%22%3A%20%22fa-rotate-0%22%2C%20%22icon%22%3A%20%22bicycle%22%2C%20%22iconColor%22%3A%20%22white%22%2C%20%22markerColor%22%3A%20%22red%22%2C%20%22prefic%22%3A%20%22fa%22%2C%20%22prefix%22%3A%20%22glyphicon%22%7D%0A%20%20%20%20%20%20%20%20%20%20%20%20%29%3B%0A%20%20%20%20%20%20%20%20%20%20%20%20marker_19a3abc5eb2646f5bd19d7ec401d4ebe.setIcon%28icon_ce18c03455d24dee86d8be215690f1ee%29%3B%0A%20%20%20%20%20%20%20%20%0A%20%20%20%20%0A%20%20%20%20%20%20%20%20var%20popup_c9fece1eff924673bb6e3f543a11b9eb%20%3D%20L.popup%28%7B%22maxWidth%22%3A%20%22100%25%22%7D%29%3B%0A%0A%20%20%20%20%20%20%20%20%0A%20%20%20%20%20%20%20%20%20%20%20%20var%20html_1c16feec2e7146c69d5333b0c75f05a8%20%3D%20%24%28%60%3Cdiv%20id%3D%22html_1c16feec2e7146c69d5333b0c75f05a8%22%20style%3D%22width%3A%20100.0%25%3B%20height%3A%20100.0%25%3B%22%3EId%3A%201096%3Cbr%3EWest%20Crosscauseway%3Cbr%3EDescription%3A%20On%20island%20next%20to%20Buccleuch%20Street%3Cbr%3E%3Cbr%3ECounts%3A%203172%3C/div%3E%60%29%5B0%5D%3B%0A%20%20%20%20%20%20%20%20%20%20%20%20popup_c9fece1eff924673bb6e3f543a11b9eb.setContent%28html_1c16feec2e7146c69d5333b0c75f05a8%29%3B%0A%20%20%20%20%20%20%20%20%0A%0A%20%20%20%20%20%20%20%20marker_19a3abc5eb2646f5bd19d7ec401d4ebe.bindPopup%28popup_c9fece1eff924673bb6e3f543a11b9eb%29%0A%20%20%20%20%20%20%20%20%3B%0A%0A%20%20%20%20%20%20%20%20%0A%20%20%20%20%0A%20%20%20%20%0A%20%20%20%20%20%20%20%20%20%20%20%20var%20marker_4ceb6bc7e4714bdd832e1f15a2e835e3%20%3D%20L.marker%28%0A%20%20%20%20%20%20%20%20%20%20%20%20%20%20%20%20%5B55.94556945067266%2C%20-3.21818468327956%5D%2C%0A%20%20%20%20%20%20%20%20%20%20%20%20%20%20%20%20%7B%7D%0A%20%20%20%20%20%20%20%20%20%20%20%20%29.addTo%28marker_cluster_67359bb34138463b8bbaf6c2ba135992%29%3B%0A%20%20%20%20%20%20%20%20%0A%20%20%20%20%0A%20%20%20%20%20%20%20%20%20%20%20%20var%20icon_a5c5f263beca4eca96c43a18c2f7e323%20%3D%20L.AwesomeMarkers.icon%28%0A%20%20%20%20%20%20%20%20%20%20%20%20%20%20%20%20%7B%22extraClasses%22%3A%20%22fa-rotate-0%22%2C%20%22icon%22%3A%20%22bicycle%22%2C%20%22iconColor%22%3A%20%22white%22%2C%20%22markerColor%22%3A%20%22red%22%2C%20%22prefic%22%3A%20%22fa%22%2C%20%22prefix%22%3A%20%22glyphicon%22%7D%0A%20%20%20%20%20%20%20%20%20%20%20%20%29%3B%0A%20%20%20%20%20%20%20%20%20%20%20%20marker_4ceb6bc7e4714bdd832e1f15a2e835e3.setIcon%28icon_a5c5f263beca4eca96c43a18c2f7e323%29%3B%0A%20%20%20%20%20%20%20%20%0A%20%20%20%20%0A%20%20%20%20%20%20%20%20var%20popup_094e5c81ae3f4491a5c0378f9723f12b%20%3D%20L.popup%28%7B%22maxWidth%22%3A%20%22100%25%22%7D%29%3B%0A%0A%20%20%20%20%20%20%20%20%0A%20%20%20%20%20%20%20%20%20%20%20%20var%20html_360867b23a814b0e80f1fdd4b919af85%20%3D%20%24%28%60%3Cdiv%20id%3D%22html_360867b23a814b0e80f1fdd4b919af85%22%20style%3D%22width%3A%20100.0%25%3B%20height%3A%20100.0%25%3B%22%3EId%3A%201102%3Cbr%3EHaymarket%20Station%3Cbr%3EDescription%3A%20Haymarket%20Station%3Cbr%3E%3Cbr%3ECounts%3A%203006%3C/div%3E%60%29%5B0%5D%3B%0A%20%20%20%20%20%20%20%20%20%20%20%20popup_094e5c81ae3f4491a5c0378f9723f12b.setContent%28html_360867b23a814b0e80f1fdd4b919af85%29%3B%0A%20%20%20%20%20%20%20%20%0A%0A%20%20%20%20%20%20%20%20marker_4ceb6bc7e4714bdd832e1f15a2e835e3.bindPopup%28popup_094e5c81ae3f4491a5c0378f9723f12b%29%0A%20%20%20%20%20%20%20%20%3B%0A%0A%20%20%20%20%20%20%20%20%0A%20%20%20%20%0A%20%20%20%20%0A%20%20%20%20%20%20%20%20%20%20%20%20var%20marker_183b032ccff9442a8fcbafe845126226%20%3D%20L.marker%28%0A%20%20%20%20%20%20%20%20%20%20%20%20%20%20%20%20%5B55.95995414501485%2C%20-3.187197758547654%5D%2C%0A%20%20%20%20%20%20%20%20%20%20%20%20%20%20%20%20%7B%7D%0A%20%20%20%20%20%20%20%20%20%20%20%20%29.addTo%28marker_cluster_67359bb34138463b8bbaf6c2ba135992%29%3B%0A%20%20%20%20%20%20%20%20%0A%20%20%20%20%0A%20%20%20%20%20%20%20%20%20%20%20%20var%20icon_4525802a2eac4f4faa62aebeeb31a21b%20%3D%20L.AwesomeMarkers.icon%28%0A%20%20%20%20%20%20%20%20%20%20%20%20%20%20%20%20%7B%22extraClasses%22%3A%20%22fa-rotate-0%22%2C%20%22icon%22%3A%20%22bicycle%22%2C%20%22iconColor%22%3A%20%22white%22%2C%20%22markerColor%22%3A%20%22red%22%2C%20%22prefic%22%3A%20%22fa%22%2C%20%22prefix%22%3A%20%22glyphicon%22%7D%0A%20%20%20%20%20%20%20%20%20%20%20%20%29%3B%0A%20%20%20%20%20%20%20%20%20%20%20%20marker_183b032ccff9442a8fcbafe845126226.setIcon%28icon_4525802a2eac4f4faa62aebeeb31a21b%29%3B%0A%20%20%20%20%20%20%20%20%0A%20%20%20%20%0A%20%20%20%20%20%20%20%20var%20popup_0046e381fff6476bbc17ee3667db48e5%20%3D%20L.popup%28%7B%22maxWidth%22%3A%20%22100%25%22%7D%29%3B%0A%0A%20%20%20%20%20%20%20%20%0A%20%20%20%20%20%20%20%20%20%20%20%20var%20html_7e2bc87c7f6541b4839eca0eaee25edb%20%3D%20%24%28%60%3Cdiv%20id%3D%22html_7e2bc87c7f6541b4839eca0eaee25edb%22%20style%3D%22width%3A%20100.0%25%3B%20height%3A%20100.0%25%3B%22%3EId%3A%201730%3Cbr%3EEast%20London%20Street%3Cbr%3EDescription%3A%20Outside%20St%20Mary%27s%20Primary%20School%3Cbr%3E%3Cbr%3ECounts%3A%202992%3C/div%3E%60%29%5B0%5D%3B%0A%20%20%20%20%20%20%20%20%20%20%20%20popup_0046e381fff6476bbc17ee3667db48e5.setContent%28html_7e2bc87c7f6541b4839eca0eaee25edb%29%3B%0A%20%20%20%20%20%20%20%20%0A%0A%20%20%20%20%20%20%20%20marker_183b032ccff9442a8fcbafe845126226.bindPopup%28popup_0046e381fff6476bbc17ee3667db48e5%29%0A%20%20%20%20%20%20%20%20%3B%0A%0A%20%20%20%20%20%20%20%20%0A%20%20%20%20%0A%20%20%20%20%0A%20%20%20%20%20%20%20%20%20%20%20%20var%20marker_0026d80f1c1748e98e324d561ab07e24%20%3D%20L.marker%28%0A%20%20%20%20%20%20%20%20%20%20%20%20%20%20%20%20%5B55.92347880784664%2C%20-3.175384584907078%5D%2C%0A%20%20%20%20%20%20%20%20%20%20%20%20%20%20%20%20%7B%7D%0A%20%20%20%20%20%20%20%20%20%20%20%20%29.addTo%28marker_cluster_67359bb34138463b8bbaf6c2ba135992%29%3B%0A%20%20%20%20%20%20%20%20%0A%20%20%20%20%0A%20%20%20%20%20%20%20%20%20%20%20%20var%20icon_10b951171c614154aad0bbaceb1132a2%20%3D%20L.AwesomeMarkers.icon%28%0A%20%20%20%20%20%20%20%20%20%20%20%20%20%20%20%20%7B%22extraClasses%22%3A%20%22fa-rotate-0%22%2C%20%22icon%22%3A%20%22bicycle%22%2C%20%22iconColor%22%3A%20%22white%22%2C%20%22markerColor%22%3A%20%22red%22%2C%20%22prefic%22%3A%20%22fa%22%2C%20%22prefix%22%3A%20%22glyphicon%22%7D%0A%20%20%20%20%20%20%20%20%20%20%20%20%29%3B%0A%20%20%20%20%20%20%20%20%20%20%20%20marker_0026d80f1c1748e98e324d561ab07e24.setIcon%28icon_10b951171c614154aad0bbaceb1132a2%29%3B%0A%20%20%20%20%20%20%20%20%0A%20%20%20%20%0A%20%20%20%20%20%20%20%20var%20popup_7723757c80424229ab4aa129bd06eed3%20%3D%20L.popup%28%7B%22maxWidth%22%3A%20%22100%25%22%7D%29%3B%0A%0A%20%20%20%20%20%20%20%20%0A%20%20%20%20%20%20%20%20%20%20%20%20var%20html_dcd580769d994557aae7edd8cc48482f%20%3D%20%24%28%60%3Cdiv%20id%3D%22html_dcd580769d994557aae7edd8cc48482f%22%20style%3D%22width%3A%20100.0%25%3B%20height%3A%20100.0%25%3B%22%3EId%3A%20254%3Cbr%3EKings%20Building%203%3Cbr%3EDescription%3A%20Kings%20Building%20House%3Cbr%3E%3Cbr%3ECounts%3A%202979%3C/div%3E%60%29%5B0%5D%3B%0A%20%20%20%20%20%20%20%20%20%20%20%20popup_7723757c80424229ab4aa129bd06eed3.setContent%28html_dcd580769d994557aae7edd8cc48482f%29%3B%0A%20%20%20%20%20%20%20%20%0A%0A%20%20%20%20%20%20%20%20marker_0026d80f1c1748e98e324d561ab07e24.bindPopup%28popup_7723757c80424229ab4aa129bd06eed3%29%0A%20%20%20%20%20%20%20%20%3B%0A%0A%20%20%20%20%20%20%20%20%0A%20%20%20%20%0A%20%20%20%20%0A%20%20%20%20%20%20%20%20%20%20%20%20var%20marker_a65e7f73cb5a49699410b63c5d676cff%20%3D%20L.marker%28%0A%20%20%20%20%20%20%20%20%20%20%20%20%20%20%20%20%5B55.947097278583385%2C%20-3.1972457326126%5D%2C%0A%20%20%20%20%20%20%20%20%20%20%20%20%20%20%20%20%7B%7D%0A%20%20%20%20%20%20%20%20%20%20%20%20%29.addTo%28marker_cluster_67359bb34138463b8bbaf6c2ba135992%29%3B%0A%20%20%20%20%20%20%20%20%0A%20%20%20%20%0A%20%20%20%20%20%20%20%20%20%20%20%20var%20icon_50c308f19b614e1690c555105c6c0eb0%20%3D%20L.AwesomeMarkers.icon%28%0A%20%20%20%20%20%20%20%20%20%20%20%20%20%20%20%20%7B%22extraClasses%22%3A%20%22fa-rotate-0%22%2C%20%22icon%22%3A%20%22bicycle%22%2C%20%22iconColor%22%3A%20%22white%22%2C%20%22markerColor%22%3A%20%22red%22%2C%20%22prefic%22%3A%20%22fa%22%2C%20%22prefix%22%3A%20%22glyphicon%22%7D%0A%20%20%20%20%20%20%20%20%20%20%20%20%29%3B%0A%20%20%20%20%20%20%20%20%20%20%20%20marker_a65e7f73cb5a49699410b63c5d676cff.setIcon%28icon_50c308f19b614e1690c555105c6c0eb0%29%3B%0A%20%20%20%20%20%20%20%20%0A%20%20%20%20%0A%20%20%20%20%20%20%20%20var%20popup_13956838b0be41d980b0a431bc00853a%20%3D%20L.popup%28%7B%22maxWidth%22%3A%20%22100%25%22%7D%29%3B%0A%0A%20%20%20%20%20%20%20%20%0A%20%20%20%20%20%20%20%20%20%20%20%20var%20html_1383a5fa602542718245ee5358937dc3%20%3D%20%24%28%60%3Cdiv%20id%3D%22html_1383a5fa602542718245ee5358937dc3%22%20style%3D%22width%3A%20100.0%25%3B%20height%3A%20100.0%25%3B%22%3EId%3A%201019%3Cbr%3EGrassmarket%3Cbr%3EDescription%3A%20West%20end%20of%20Grassmarket%3Cbr%3E%3Cbr%3ECounts%3A%202919%3C/div%3E%60%29%5B0%5D%3B%0A%20%20%20%20%20%20%20%20%20%20%20%20popup_13956838b0be41d980b0a431bc00853a.setContent%28html_1383a5fa602542718245ee5358937dc3%29%3B%0A%20%20%20%20%20%20%20%20%0A%0A%20%20%20%20%20%20%20%20marker_a65e7f73cb5a49699410b63c5d676cff.bindPopup%28popup_13956838b0be41d980b0a431bc00853a%29%0A%20%20%20%20%20%20%20%20%3B%0A%0A%20%20%20%20%20%20%20%20%0A%20%20%20%20%0A%20%20%20%20%0A%20%20%20%20%20%20%20%20%20%20%20%20var%20marker_2db72509638f412e843a071d4efdee33%20%3D%20L.marker%28%0A%20%20%20%20%20%20%20%20%20%20%20%20%20%20%20%20%5B55.95953624971772%2C%20-3.223434402338853%5D%2C%0A%20%20%20%20%20%20%20%20%20%20%20%20%20%20%20%20%7B%7D%0A%20%20%20%20%20%20%20%20%20%20%20%20%29.addTo%28marker_cluster_67359bb34138463b8bbaf6c2ba135992%29%3B%0A%20%20%20%20%20%20%20%20%0A%20%20%20%20%0A%20%20%20%20%20%20%20%20%20%20%20%20var%20icon_9589c9ac8ed44a01910ba7d08c276d59%20%3D%20L.AwesomeMarkers.icon%28%0A%20%20%20%20%20%20%20%20%20%20%20%20%20%20%20%20%7B%22extraClasses%22%3A%20%22fa-rotate-0%22%2C%20%22icon%22%3A%20%22bicycle%22%2C%20%22iconColor%22%3A%20%22white%22%2C%20%22markerColor%22%3A%20%22red%22%2C%20%22prefic%22%3A%20%22fa%22%2C%20%22prefix%22%3A%20%22glyphicon%22%7D%0A%20%20%20%20%20%20%20%20%20%20%20%20%29%3B%0A%20%20%20%20%20%20%20%20%20%20%20%20marker_2db72509638f412e843a071d4efdee33.setIcon%28icon_9589c9ac8ed44a01910ba7d08c276d59%29%3B%0A%20%20%20%20%20%20%20%20%0A%20%20%20%20%0A%20%20%20%20%20%20%20%20var%20popup_07cbea43721e44f98f40852346d92a83%20%3D%20L.popup%28%7B%22maxWidth%22%3A%20%22100%25%22%7D%29%3B%0A%0A%20%20%20%20%20%20%20%20%0A%20%20%20%20%20%20%20%20%20%20%20%20var%20html_28b5fdea68b14f4a97bd9283cf9148f1%20%3D%20%24%28%60%3Cdiv%20id%3D%22html_28b5fdea68b14f4a97bd9283cf9148f1%22%20style%3D%22width%3A%20100.0%25%3B%20height%3A%20100.0%25%3B%22%3EId%3A%201753%3Cbr%3EWaitrose%20Comely%20Bank%3Cbr%3EDescription%3A%20On%20Fettes%20Avenue%20next%20to%20Waitrose%3Cbr%3E%3Cbr%3ECounts%3A%202865%3C/div%3E%60%29%5B0%5D%3B%0A%20%20%20%20%20%20%20%20%20%20%20%20popup_07cbea43721e44f98f40852346d92a83.setContent%28html_28b5fdea68b14f4a97bd9283cf9148f1%29%3B%0A%20%20%20%20%20%20%20%20%0A%0A%20%20%20%20%20%20%20%20marker_2db72509638f412e843a071d4efdee33.bindPopup%28popup_07cbea43721e44f98f40852346d92a83%29%0A%20%20%20%20%20%20%20%20%3B%0A%0A%20%20%20%20%20%20%20%20%0A%20%20%20%20%0A%20%20%20%20%0A%20%20%20%20%20%20%20%20%20%20%20%20var%20marker_1ce6e2bcf0054bdea01c9b42d0ab1ed9%20%3D%20L.marker%28%0A%20%20%20%20%20%20%20%20%20%20%20%20%20%20%20%20%5B55.93836921723555%2C%20-3.198032688546618%5D%2C%0A%20%20%20%20%20%20%20%20%20%20%20%20%20%20%20%20%7B%7D%0A%20%20%20%20%20%20%20%20%20%20%20%20%29.addTo%28marker_cluster_67359bb34138463b8bbaf6c2ba135992%29%3B%0A%20%20%20%20%20%20%20%20%0A%20%20%20%20%0A%20%20%20%20%20%20%20%20%20%20%20%20var%20icon_2926ddfe37a54abd920d183a6bb16ab8%20%3D%20L.AwesomeMarkers.icon%28%0A%20%20%20%20%20%20%20%20%20%20%20%20%20%20%20%20%7B%22extraClasses%22%3A%20%22fa-rotate-0%22%2C%20%22icon%22%3A%20%22bicycle%22%2C%20%22iconColor%22%3A%20%22white%22%2C%20%22markerColor%22%3A%20%22red%22%2C%20%22prefic%22%3A%20%22fa%22%2C%20%22prefix%22%3A%20%22glyphicon%22%7D%0A%20%20%20%20%20%20%20%20%20%20%20%20%29%3B%0A%20%20%20%20%20%20%20%20%20%20%20%20marker_1ce6e2bcf0054bdea01c9b42d0ab1ed9.setIcon%28icon_2926ddfe37a54abd920d183a6bb16ab8%29%3B%0A%20%20%20%20%20%20%20%20%0A%20%20%20%20%0A%20%20%20%20%20%20%20%20var%20popup_c4cfc94443564a358bc9e812cf89f63a%20%3D%20L.popup%28%7B%22maxWidth%22%3A%20%22100%25%22%7D%29%3B%0A%0A%20%20%20%20%20%20%20%20%0A%20%20%20%20%20%20%20%20%20%20%20%20var%20html_363471d8edb14e8cba4398ffd3d65acd%20%3D%20%24%28%60%3Cdiv%20id%3D%22html_363471d8edb14e8cba4398ffd3d65acd%22%20style%3D%22width%3A%20100.0%25%3B%20height%3A%20100.0%25%3B%22%3EId%3A%201051%3Cbr%3EWarrender%20Park%20Road%3Cbr%3EDescription%3A%20On%20corner%20with%20Spottiswoode%20Street%3Cbr%3E%3Cbr%3ECounts%3A%202864%3C/div%3E%60%29%5B0%5D%3B%0A%20%20%20%20%20%20%20%20%20%20%20%20popup_c4cfc94443564a358bc9e812cf89f63a.setContent%28html_363471d8edb14e8cba4398ffd3d65acd%29%3B%0A%20%20%20%20%20%20%20%20%0A%0A%20%20%20%20%20%20%20%20marker_1ce6e2bcf0054bdea01c9b42d0ab1ed9.bindPopup%28popup_c4cfc94443564a358bc9e812cf89f63a%29%0A%20%20%20%20%20%20%20%20%3B%0A%0A%20%20%20%20%20%20%20%20%0A%20%20%20%20%0A%20%20%20%20%0A%20%20%20%20%20%20%20%20%20%20%20%20var%20marker_bd7cfaac2b034d75999ba7d6b57a45e4%20%3D%20L.marker%28%0A%20%20%20%20%20%20%20%20%20%20%20%20%20%20%20%20%5B55.92758664038103%2C%20-3.23367105304419%5D%2C%0A%20%20%20%20%20%20%20%20%20%20%20%20%20%20%20%20%7B%7D%0A%20%20%20%20%20%20%20%20%20%20%20%20%29.addTo%28marker_cluster_67359bb34138463b8bbaf6c2ba135992%29%3B%0A%20%20%20%20%20%20%20%20%0A%20%20%20%20%0A%20%20%20%20%20%20%20%20%20%20%20%20var%20icon_6a31bdfd270d450383dc5798a70cc82a%20%3D%20L.AwesomeMarkers.icon%28%0A%20%20%20%20%20%20%20%20%20%20%20%20%20%20%20%20%7B%22extraClasses%22%3A%20%22fa-rotate-0%22%2C%20%22icon%22%3A%20%22bicycle%22%2C%20%22iconColor%22%3A%20%22white%22%2C%20%22markerColor%22%3A%20%22red%22%2C%20%22prefic%22%3A%20%22fa%22%2C%20%22prefix%22%3A%20%22glyphicon%22%7D%0A%20%20%20%20%20%20%20%20%20%20%20%20%29%3B%0A%20%20%20%20%20%20%20%20%20%20%20%20marker_bd7cfaac2b034d75999ba7d6b57a45e4.setIcon%28icon_6a31bdfd270d450383dc5798a70cc82a%29%3B%0A%20%20%20%20%20%20%20%20%0A%20%20%20%20%0A%20%20%20%20%20%20%20%20var%20popup_8b2db8bd6e3642aba506931197371065%20%3D%20L.popup%28%7B%22maxWidth%22%3A%20%22100%25%22%7D%29%3B%0A%0A%20%20%20%20%20%20%20%20%0A%20%20%20%20%20%20%20%20%20%20%20%20var%20html_e8681b7da18845aa8f73252e94f172ce%20%3D%20%24%28%60%3Cdiv%20id%3D%22html_e8681b7da18845aa8f73252e94f172ce%22%20style%3D%22width%3A%20100.0%25%3B%20height%3A%20100.0%25%3B%22%3EId%3A%201757%3Cbr%3EMeggetland%3Cbr%3EDescription%3A%20Meggetland%20Sports%20Complex%3Cbr%3E%3Cbr%3ECounts%3A%202860%3C/div%3E%60%29%5B0%5D%3B%0A%20%20%20%20%20%20%20%20%20%20%20%20popup_8b2db8bd6e3642aba506931197371065.setContent%28html_e8681b7da18845aa8f73252e94f172ce%29%3B%0A%20%20%20%20%20%20%20%20%0A%0A%20%20%20%20%20%20%20%20marker_bd7cfaac2b034d75999ba7d6b57a45e4.bindPopup%28popup_8b2db8bd6e3642aba506931197371065%29%0A%20%20%20%20%20%20%20%20%3B%0A%0A%20%20%20%20%20%20%20%20%0A%20%20%20%20%0A%20%20%20%20%0A%20%20%20%20%20%20%20%20%20%20%20%20var%20marker_434981f4d8a941778d5f20c65803ce6f%20%3D%20L.marker%28%0A%20%20%20%20%20%20%20%20%20%20%20%20%20%20%20%20%5B55.960929747664%2C%20-3.181005314780577%5D%2C%0A%20%20%20%20%20%20%20%20%20%20%20%20%20%20%20%20%7B%7D%0A%20%20%20%20%20%20%20%20%20%20%20%20%29.addTo%28marker_cluster_67359bb34138463b8bbaf6c2ba135992%29%3B%0A%20%20%20%20%20%20%20%20%0A%20%20%20%20%0A%20%20%20%20%20%20%20%20%20%20%20%20var%20icon_a3cffcd0a1ac4eed9c82329ef8afc711%20%3D%20L.AwesomeMarkers.icon%28%0A%20%20%20%20%20%20%20%20%20%20%20%20%20%20%20%20%7B%22extraClasses%22%3A%20%22fa-rotate-0%22%2C%20%22icon%22%3A%20%22bicycle%22%2C%20%22iconColor%22%3A%20%22white%22%2C%20%22markerColor%22%3A%20%22red%22%2C%20%22prefic%22%3A%20%22fa%22%2C%20%22prefix%22%3A%20%22glyphicon%22%7D%0A%20%20%20%20%20%20%20%20%20%20%20%20%29%3B%0A%20%20%20%20%20%20%20%20%20%20%20%20marker_434981f4d8a941778d5f20c65803ce6f.setIcon%28icon_a3cffcd0a1ac4eed9c82329ef8afc711%29%3B%0A%20%20%20%20%20%20%20%20%0A%20%20%20%20%0A%20%20%20%20%20%20%20%20var%20popup_77f6e47f011f489b97397ab258c36998%20%3D%20L.popup%28%7B%22maxWidth%22%3A%20%22100%25%22%7D%29%3B%0A%0A%20%20%20%20%20%20%20%20%0A%20%20%20%20%20%20%20%20%20%20%20%20var%20html_a7005638fda74c4e8f5a914422cb8b73%20%3D%20%24%28%60%3Cdiv%20id%3D%22html_a7005638fda74c4e8f5a914422cb8b73%22%20style%3D%22width%3A%20100.0%25%3B%20height%3A%20100.0%25%3B%22%3EId%3A%20261%3Cbr%3EBrunswick%20Place%3Cbr%3EDescription%3A%20Junction%20Brunswick%20Street%20and%20Elm%20Row%3Cbr%3E%3Cbr%3ECounts%3A%202749%3C/div%3E%60%29%5B0%5D%3B%0A%20%20%20%20%20%20%20%20%20%20%20%20popup_77f6e47f011f489b97397ab258c36998.setContent%28html_a7005638fda74c4e8f5a914422cb8b73%29%3B%0A%20%20%20%20%20%20%20%20%0A%0A%20%20%20%20%20%20%20%20marker_434981f4d8a941778d5f20c65803ce6f.bindPopup%28popup_77f6e47f011f489b97397ab258c36998%29%0A%20%20%20%20%20%20%20%20%3B%0A%0A%20%20%20%20%20%20%20%20%0A%20%20%20%20%0A%20%20%20%20%0A%20%20%20%20%20%20%20%20%20%20%20%20var%20marker_1097e18cfe1d4a979c6572b39810476b%20%3D%20L.marker%28%0A%20%20%20%20%20%20%20%20%20%20%20%20%20%20%20%20%5B55.95010933017899%2C%20-3.190257770093808%5D%2C%0A%20%20%20%20%20%20%20%20%20%20%20%20%20%20%20%20%7B%7D%0A%20%20%20%20%20%20%20%20%20%20%20%20%29.addTo%28marker_cluster_67359bb34138463b8bbaf6c2ba135992%29%3B%0A%20%20%20%20%20%20%20%20%0A%20%20%20%20%0A%20%20%20%20%20%20%20%20%20%20%20%20var%20icon_ff6625def71c442982e52f5bba479094%20%3D%20L.AwesomeMarkers.icon%28%0A%20%20%20%20%20%20%20%20%20%20%20%20%20%20%20%20%7B%22extraClasses%22%3A%20%22fa-rotate-0%22%2C%20%22icon%22%3A%20%22bicycle%22%2C%20%22iconColor%22%3A%20%22white%22%2C%20%22markerColor%22%3A%20%22red%22%2C%20%22prefic%22%3A%20%22fa%22%2C%20%22prefix%22%3A%20%22glyphicon%22%7D%0A%20%20%20%20%20%20%20%20%20%20%20%20%29%3B%0A%20%20%20%20%20%20%20%20%20%20%20%20marker_1097e18cfe1d4a979c6572b39810476b.setIcon%28icon_ff6625def71c442982e52f5bba479094%29%3B%0A%20%20%20%20%20%20%20%20%0A%20%20%20%20%0A%20%20%20%20%20%20%20%20var%20popup_9c2c9e389b2f43f9b4143808401a529d%20%3D%20L.popup%28%7B%22maxWidth%22%3A%20%22100%25%22%7D%29%3B%0A%0A%20%20%20%20%20%20%20%20%0A%20%20%20%20%20%20%20%20%20%20%20%20var%20html_8e78f691527f479089db7d3a509b23b7%20%3D%20%24%28%60%3Cdiv%20id%3D%22html_8e78f691527f479089db7d3a509b23b7%22%20style%3D%22width%3A%20100.0%25%3B%20height%3A%20100.0%25%3B%22%3EId%3A%20189%3Cbr%3ECity%20Chambers%3Cbr%3EDescription%3A%20City%20Chambers%20Quadrangle%3Cbr%3E%3Cbr%3ECounts%3A%202723%3C/div%3E%60%29%5B0%5D%3B%0A%20%20%20%20%20%20%20%20%20%20%20%20popup_9c2c9e389b2f43f9b4143808401a529d.setContent%28html_8e78f691527f479089db7d3a509b23b7%29%3B%0A%20%20%20%20%20%20%20%20%0A%0A%20%20%20%20%20%20%20%20marker_1097e18cfe1d4a979c6572b39810476b.bindPopup%28popup_9c2c9e389b2f43f9b4143808401a529d%29%0A%20%20%20%20%20%20%20%20%3B%0A%0A%20%20%20%20%20%20%20%20%0A%20%20%20%20%0A%20%20%20%20%0A%20%20%20%20%20%20%20%20%20%20%20%20var%20marker_612d4261c45a4789a39964cbdc097696%20%3D%20L.marker%28%0A%20%20%20%20%20%20%20%20%20%20%20%20%20%20%20%20%5B55.96037972054591%2C%20-3.195470336902758%5D%2C%0A%20%20%20%20%20%20%20%20%20%20%20%20%20%20%20%20%7B%7D%0A%20%20%20%20%20%20%20%20%20%20%20%20%29.addTo%28marker_cluster_67359bb34138463b8bbaf6c2ba135992%29%3B%0A%20%20%20%20%20%20%20%20%0A%20%20%20%20%0A%20%20%20%20%20%20%20%20%20%20%20%20var%20icon_27d0c0c03af749129ea03f6d35e3b30b%20%3D%20L.AwesomeMarkers.icon%28%0A%20%20%20%20%20%20%20%20%20%20%20%20%20%20%20%20%7B%22extraClasses%22%3A%20%22fa-rotate-0%22%2C%20%22icon%22%3A%20%22bicycle%22%2C%20%22iconColor%22%3A%20%22white%22%2C%20%22markerColor%22%3A%20%22red%22%2C%20%22prefic%22%3A%20%22fa%22%2C%20%22prefix%22%3A%20%22glyphicon%22%7D%0A%20%20%20%20%20%20%20%20%20%20%20%20%29%3B%0A%20%20%20%20%20%20%20%20%20%20%20%20marker_612d4261c45a4789a39964cbdc097696.setIcon%28icon_27d0c0c03af749129ea03f6d35e3b30b%29%3B%0A%20%20%20%20%20%20%20%20%0A%20%20%20%20%0A%20%20%20%20%20%20%20%20var%20popup_691691b90ba244a08a0b932fa1989970%20%3D%20L.popup%28%7B%22maxWidth%22%3A%20%22100%25%22%7D%29%3B%0A%0A%20%20%20%20%20%20%20%20%0A%20%20%20%20%20%20%20%20%20%20%20%20var%20html_2a9e28ae69d74c8b94675e1cb36bd226%20%3D%20%24%28%60%3Cdiv%20id%3D%22html_2a9e28ae69d74c8b94675e1cb36bd226%22%20style%3D%22width%3A%20100.0%25%3B%20height%3A%20100.0%25%3B%22%3EId%3A%201745%3Cbr%3EScotland%20Street%3Cbr%3EDescription%3A%20Corner%20with%20Royal%20Crescent%3Cbr%3E%3Cbr%3ECounts%3A%202672%3C/div%3E%60%29%5B0%5D%3B%0A%20%20%20%20%20%20%20%20%20%20%20%20popup_691691b90ba244a08a0b932fa1989970.setContent%28html_2a9e28ae69d74c8b94675e1cb36bd226%29%3B%0A%20%20%20%20%20%20%20%20%0A%0A%20%20%20%20%20%20%20%20marker_612d4261c45a4789a39964cbdc097696.bindPopup%28popup_691691b90ba244a08a0b932fa1989970%29%0A%20%20%20%20%20%20%20%20%3B%0A%0A%20%20%20%20%20%20%20%20%0A%20%20%20%20%0A%20%20%20%20%0A%20%20%20%20%20%20%20%20%20%20%20%20var%20marker_9944f6a2d9f24a2db961ce332f774914%20%3D%20L.marker%28%0A%20%20%20%20%20%20%20%20%20%20%20%20%20%20%20%20%5B55.97592062794979%2C%20-3.191346079294362%5D%2C%0A%20%20%20%20%20%20%20%20%20%20%20%20%20%20%20%20%7B%7D%0A%20%20%20%20%20%20%20%20%20%20%20%20%29.addTo%28marker_cluster_67359bb34138463b8bbaf6c2ba135992%29%3B%0A%20%20%20%20%20%20%20%20%0A%20%20%20%20%0A%20%20%20%20%20%20%20%20%20%20%20%20var%20icon_3f2e8442c0b4412fb41fe4ad3bce0d89%20%3D%20L.AwesomeMarkers.icon%28%0A%20%20%20%20%20%20%20%20%20%20%20%20%20%20%20%20%7B%22extraClasses%22%3A%20%22fa-rotate-0%22%2C%20%22icon%22%3A%20%22bicycle%22%2C%20%22iconColor%22%3A%20%22white%22%2C%20%22markerColor%22%3A%20%22red%22%2C%20%22prefic%22%3A%20%22fa%22%2C%20%22prefix%22%3A%20%22glyphicon%22%7D%0A%20%20%20%20%20%20%20%20%20%20%20%20%29%3B%0A%20%20%20%20%20%20%20%20%20%20%20%20marker_9944f6a2d9f24a2db961ce332f774914.setIcon%28icon_3f2e8442c0b4412fb41fe4ad3bce0d89%29%3B%0A%20%20%20%20%20%20%20%20%0A%20%20%20%20%0A%20%20%20%20%20%20%20%20var%20popup_41bbee3990e04d6b91b2404ef2d88b3e%20%3D%20L.popup%28%7B%22maxWidth%22%3A%20%22100%25%22%7D%29%3B%0A%0A%20%20%20%20%20%20%20%20%0A%20%20%20%20%20%20%20%20%20%20%20%20var%20html_8d84bde0512b488c980e498ede91db0e%20%3D%20%24%28%60%3Cdiv%20id%3D%22html_8d84bde0512b488c980e498ede91db0e%22%20style%3D%22width%3A%20100.0%25%3B%20height%3A%20100.0%25%3B%22%3EId%3A%20366%3Cbr%3EDudley%20Gardens%3Cbr%3EDescription%3A%20Corner%20of%20Dudley%20Gardens%20on%20Newhaven%20Road%3Cbr%3E%3Cbr%3ECounts%3A%202638%3C/div%3E%60%29%5B0%5D%3B%0A%20%20%20%20%20%20%20%20%20%20%20%20popup_41bbee3990e04d6b91b2404ef2d88b3e.setContent%28html_8d84bde0512b488c980e498ede91db0e%29%3B%0A%20%20%20%20%20%20%20%20%0A%0A%20%20%20%20%20%20%20%20marker_9944f6a2d9f24a2db961ce332f774914.bindPopup%28popup_41bbee3990e04d6b91b2404ef2d88b3e%29%0A%20%20%20%20%20%20%20%20%3B%0A%0A%20%20%20%20%20%20%20%20%0A%20%20%20%20%0A%20%20%20%20%0A%20%20%20%20%20%20%20%20%20%20%20%20var%20marker_9f0f13d850cd426eac7d3be84c848316%20%3D%20L.marker%28%0A%20%20%20%20%20%20%20%20%20%20%20%20%20%20%20%20%5B55.94607055533778%2C%20-3.210396331000765%5D%2C%0A%20%20%20%20%20%20%20%20%20%20%20%20%20%20%20%20%7B%7D%0A%20%20%20%20%20%20%20%20%20%20%20%20%29.addTo%28marker_cluster_67359bb34138463b8bbaf6c2ba135992%29%3B%0A%20%20%20%20%20%20%20%20%0A%20%20%20%20%0A%20%20%20%20%20%20%20%20%20%20%20%20var%20icon_d75492bb5fc247f084368f9d7f6fd3dd%20%3D%20L.AwesomeMarkers.icon%28%0A%20%20%20%20%20%20%20%20%20%20%20%20%20%20%20%20%7B%22extraClasses%22%3A%20%22fa-rotate-0%22%2C%20%22icon%22%3A%20%22bicycle%22%2C%20%22iconColor%22%3A%20%22white%22%2C%20%22markerColor%22%3A%20%22red%22%2C%20%22prefic%22%3A%20%22fa%22%2C%20%22prefix%22%3A%20%22glyphicon%22%7D%0A%20%20%20%20%20%20%20%20%20%20%20%20%29%3B%0A%20%20%20%20%20%20%20%20%20%20%20%20marker_9f0f13d850cd426eac7d3be84c848316.setIcon%28icon_d75492bb5fc247f084368f9d7f6fd3dd%29%3B%0A%20%20%20%20%20%20%20%20%0A%20%20%20%20%0A%20%20%20%20%20%20%20%20var%20popup_f24ade424e1144c596c9fcf5bfd3207f%20%3D%20L.popup%28%7B%22maxWidth%22%3A%20%22100%25%22%7D%29%3B%0A%0A%20%20%20%20%20%20%20%20%0A%20%20%20%20%20%20%20%20%20%20%20%20var%20html_dce145b6495a477987725fe6349571e9%20%3D%20%24%28%60%3Cdiv%20id%3D%22html_dce145b6495a477987725fe6349571e9%22%20style%3D%22width%3A%20100.0%25%3B%20height%3A%20100.0%25%3B%22%3EId%3A%201050%3Cbr%3EEICC%3Cbr%3EDescription%3A%20Outside%20Edinburgh%20International%20Conference%20Centre%3Cbr%3E%3Cbr%3ECounts%3A%202579%3C/div%3E%60%29%5B0%5D%3B%0A%20%20%20%20%20%20%20%20%20%20%20%20popup_f24ade424e1144c596c9fcf5bfd3207f.setContent%28html_dce145b6495a477987725fe6349571e9%29%3B%0A%20%20%20%20%20%20%20%20%0A%0A%20%20%20%20%20%20%20%20marker_9f0f13d850cd426eac7d3be84c848316.bindPopup%28popup_f24ade424e1144c596c9fcf5bfd3207f%29%0A%20%20%20%20%20%20%20%20%3B%0A%0A%20%20%20%20%20%20%20%20%0A%20%20%20%20%0A%20%20%20%20%0A%20%20%20%20%20%20%20%20%20%20%20%20var%20marker_c8aab1a7cffc4c6cabb80db9feac02a4%20%3D%20L.marker%28%0A%20%20%20%20%20%20%20%20%20%20%20%20%20%20%20%20%5B55.95159412232485%2C%20-3.212354285094022%5D%2C%0A%20%20%20%20%20%20%20%20%20%20%20%20%20%20%20%20%7B%7D%0A%20%20%20%20%20%20%20%20%20%20%20%20%29.addTo%28marker_cluster_67359bb34138463b8bbaf6c2ba135992%29%3B%0A%20%20%20%20%20%20%20%20%0A%20%20%20%20%0A%20%20%20%20%20%20%20%20%20%20%20%20var%20icon_a708e43a52d24a14885d40938e4e783a%20%3D%20L.AwesomeMarkers.icon%28%0A%20%20%20%20%20%20%20%20%20%20%20%20%20%20%20%20%7B%22extraClasses%22%3A%20%22fa-rotate-0%22%2C%20%22icon%22%3A%20%22bicycle%22%2C%20%22iconColor%22%3A%20%22white%22%2C%20%22markerColor%22%3A%20%22red%22%2C%20%22prefic%22%3A%20%22fa%22%2C%20%22prefix%22%3A%20%22glyphicon%22%7D%0A%20%20%20%20%20%20%20%20%20%20%20%20%29%3B%0A%20%20%20%20%20%20%20%20%20%20%20%20marker_c8aab1a7cffc4c6cabb80db9feac02a4.setIcon%28icon_a708e43a52d24a14885d40938e4e783a%29%3B%0A%20%20%20%20%20%20%20%20%0A%20%20%20%20%0A%20%20%20%20%20%20%20%20var%20popup_56c30976ad2141f99c1471793642c475%20%3D%20L.popup%28%7B%22maxWidth%22%3A%20%22100%25%22%7D%29%3B%0A%0A%20%20%20%20%20%20%20%20%0A%20%20%20%20%20%20%20%20%20%20%20%20var%20html_71c75fa5669a4cb6be9229e4ff7e1b52%20%3D%20%24%28%60%3Cdiv%20id%3D%22html_71c75fa5669a4cb6be9229e4ff7e1b52%22%20style%3D%22width%3A%20100.0%25%3B%20height%3A%20100.0%25%3B%22%3EId%3A%201821%3Cbr%3EDrumsheugh%20Place%3Cbr%3EDescription%3A%20Corner%20with%20Drumsheugh%20Gardens%3Cbr%3E%3Cbr%3ECounts%3A%202565%3C/div%3E%60%29%5B0%5D%3B%0A%20%20%20%20%20%20%20%20%20%20%20%20popup_56c30976ad2141f99c1471793642c475.setContent%28html_71c75fa5669a4cb6be9229e4ff7e1b52%29%3B%0A%20%20%20%20%20%20%20%20%0A%0A%20%20%20%20%20%20%20%20marker_c8aab1a7cffc4c6cabb80db9feac02a4.bindPopup%28popup_56c30976ad2141f99c1471793642c475%29%0A%20%20%20%20%20%20%20%20%3B%0A%0A%20%20%20%20%20%20%20%20%0A%20%20%20%20%0A%20%20%20%20%0A%20%20%20%20%20%20%20%20%20%20%20%20var%20marker_9732e2fbbcd34dd1864fc2fa70c93462%20%3D%20L.marker%28%0A%20%20%20%20%20%20%20%20%20%20%20%20%20%20%20%20%5B55.96264210870907%2C%20-3.231915547243943%5D%2C%0A%20%20%20%20%20%20%20%20%20%20%20%20%20%20%20%20%7B%7D%0A%20%20%20%20%20%20%20%20%20%20%20%20%29.addTo%28marker_cluster_67359bb34138463b8bbaf6c2ba135992%29%3B%0A%20%20%20%20%20%20%20%20%0A%20%20%20%20%0A%20%20%20%20%20%20%20%20%20%20%20%20var%20icon_9bf3e6c31a064576b6b67c83cfcb2b77%20%3D%20L.AwesomeMarkers.icon%28%0A%20%20%20%20%20%20%20%20%20%20%20%20%20%20%20%20%7B%22extraClasses%22%3A%20%22fa-rotate-0%22%2C%20%22icon%22%3A%20%22bicycle%22%2C%20%22iconColor%22%3A%20%22white%22%2C%20%22markerColor%22%3A%20%22red%22%2C%20%22prefic%22%3A%20%22fa%22%2C%20%22prefix%22%3A%20%22glyphicon%22%7D%0A%20%20%20%20%20%20%20%20%20%20%20%20%29%3B%0A%20%20%20%20%20%20%20%20%20%20%20%20marker_9732e2fbbcd34dd1864fc2fa70c93462.setIcon%28icon_9bf3e6c31a064576b6b67c83cfcb2b77%29%3B%0A%20%20%20%20%20%20%20%20%0A%20%20%20%20%0A%20%20%20%20%20%20%20%20var%20popup_d75371139e7b4091b3cb857536339b06%20%3D%20L.popup%28%7B%22maxWidth%22%3A%20%22100%25%22%7D%29%3B%0A%0A%20%20%20%20%20%20%20%20%0A%20%20%20%20%20%20%20%20%20%20%20%20var%20html_3abaa90719a74d88ab5679a5c8bc3429%20%3D%20%24%28%60%3Cdiv%20id%3D%22html_3abaa90719a74d88ab5679a5c8bc3429%22%20style%3D%22width%3A%20100.0%25%3B%20height%3A%20100.0%25%3B%22%3EId%3A%201752%3Cbr%3EIGMM%20-%20Western%20General%3Cbr%3EDescription%3A%20The%20Institute%20of%20Genetics%20and%20Molecular%20Medicine%3Cbr%3E%3Cbr%3ECounts%3A%202470%3C/div%3E%60%29%5B0%5D%3B%0A%20%20%20%20%20%20%20%20%20%20%20%20popup_d75371139e7b4091b3cb857536339b06.setContent%28html_3abaa90719a74d88ab5679a5c8bc3429%29%3B%0A%20%20%20%20%20%20%20%20%0A%0A%20%20%20%20%20%20%20%20marker_9732e2fbbcd34dd1864fc2fa70c93462.bindPopup%28popup_d75371139e7b4091b3cb857536339b06%29%0A%20%20%20%20%20%20%20%20%3B%0A%0A%20%20%20%20%20%20%20%20%0A%20%20%20%20%0A%20%20%20%20%0A%20%20%20%20%20%20%20%20%20%20%20%20var%20marker_d1d148043b9f46bbb3df330683777487%20%3D%20L.marker%28%0A%20%20%20%20%20%20%20%20%20%20%20%20%20%20%20%20%5B55.94478427951007%2C%20-3.186906245433761%5D%2C%0A%20%20%20%20%20%20%20%20%20%20%20%20%20%20%20%20%7B%7D%0A%20%20%20%20%20%20%20%20%20%20%20%20%29.addTo%28marker_cluster_67359bb34138463b8bbaf6c2ba135992%29%3B%0A%20%20%20%20%20%20%20%20%0A%20%20%20%20%0A%20%20%20%20%20%20%20%20%20%20%20%20var%20icon_44b6a9c3d57e4b669cd47abe1ac91451%20%3D%20L.AwesomeMarkers.icon%28%0A%20%20%20%20%20%20%20%20%20%20%20%20%20%20%20%20%7B%22extraClasses%22%3A%20%22fa-rotate-0%22%2C%20%22icon%22%3A%20%22bicycle%22%2C%20%22iconColor%22%3A%20%22white%22%2C%20%22markerColor%22%3A%20%22red%22%2C%20%22prefic%22%3A%20%22fa%22%2C%20%22prefix%22%3A%20%22glyphicon%22%7D%0A%20%20%20%20%20%20%20%20%20%20%20%20%29%3B%0A%20%20%20%20%20%20%20%20%20%20%20%20marker_d1d148043b9f46bbb3df330683777487.setIcon%28icon_44b6a9c3d57e4b669cd47abe1ac91451%29%3B%0A%20%20%20%20%20%20%20%20%0A%20%20%20%20%0A%20%20%20%20%20%20%20%20var%20popup_04ae22a89af142c2ab99827dac9829d7%20%3D%20L.popup%28%7B%22maxWidth%22%3A%20%22100%25%22%7D%29%3B%0A%0A%20%20%20%20%20%20%20%20%0A%20%20%20%20%20%20%20%20%20%20%20%20var%20html_51937e94c1074eb6bcad1891d2539de5%20%3D%20%24%28%60%3Cdiv%20id%3D%22html_51937e94c1074eb6bcad1891d2539de5%22%20style%3D%22width%3A%20100.0%25%3B%20height%3A%20100.0%25%3B%22%3EId%3A%201017%3Cbr%3ECrichton%20Street%3Cbr%3EDescription%3A%20East%20end%20of%20street%3Cbr%3E%3Cbr%3ECounts%3A%202412%3C/div%3E%60%29%5B0%5D%3B%0A%20%20%20%20%20%20%20%20%20%20%20%20popup_04ae22a89af142c2ab99827dac9829d7.setContent%28html_51937e94c1074eb6bcad1891d2539de5%29%3B%0A%20%20%20%20%20%20%20%20%0A%0A%20%20%20%20%20%20%20%20marker_d1d148043b9f46bbb3df330683777487.bindPopup%28popup_04ae22a89af142c2ab99827dac9829d7%29%0A%20%20%20%20%20%20%20%20%3B%0A%0A%20%20%20%20%20%20%20%20%0A%20%20%20%20%0A%20%20%20%20%0A%20%20%20%20%20%20%20%20%20%20%20%20var%20marker_bd86f0728fe5495083bce905e2a45ff9%20%3D%20L.marker%28%0A%20%20%20%20%20%20%20%20%20%20%20%20%20%20%20%20%5B55.95173449698344%2C%20-3.18417853540609%5D%2C%0A%20%20%20%20%20%20%20%20%20%20%20%20%20%20%20%20%7B%7D%0A%20%20%20%20%20%20%20%20%20%20%20%20%29.addTo%28marker_cluster_67359bb34138463b8bbaf6c2ba135992%29%3B%0A%20%20%20%20%20%20%20%20%0A%20%20%20%20%0A%20%20%20%20%20%20%20%20%20%20%20%20var%20icon_391e2752ed7f4491a7bb8d7c037cf971%20%3D%20L.AwesomeMarkers.icon%28%0A%20%20%20%20%20%20%20%20%20%20%20%20%20%20%20%20%7B%22extraClasses%22%3A%20%22fa-rotate-0%22%2C%20%22icon%22%3A%20%22bicycle%22%2C%20%22iconColor%22%3A%20%22white%22%2C%20%22markerColor%22%3A%20%22red%22%2C%20%22prefic%22%3A%20%22fa%22%2C%20%22prefix%22%3A%20%22glyphicon%22%7D%0A%20%20%20%20%20%20%20%20%20%20%20%20%29%3B%0A%20%20%20%20%20%20%20%20%20%20%20%20marker_bd86f0728fe5495083bce905e2a45ff9.setIcon%28icon_391e2752ed7f4491a7bb8d7c037cf971%29%3B%0A%20%20%20%20%20%20%20%20%0A%20%20%20%20%0A%20%20%20%20%20%20%20%20var%20popup_674df78316e94dc7bce527a104011423%20%3D%20L.popup%28%7B%22maxWidth%22%3A%20%22100%25%22%7D%29%3B%0A%0A%20%20%20%20%20%20%20%20%0A%20%20%20%20%20%20%20%20%20%20%20%20var%20html_456ec5ed20cf445db950c805177225a0%20%3D%20%24%28%60%3Cdiv%20id%3D%22html_456ec5ed20cf445db950c805177225a0%22%20style%3D%22width%3A%20100.0%25%3B%20height%3A%20100.0%25%3B%22%3EId%3A%20225%3Cbr%3EWaverley%20Court%3Cbr%3EDescription%3A%20On%20Waverley%20Court%20forecourt%3Cbr%3E%3Cbr%3ECounts%3A%202378%3C/div%3E%60%29%5B0%5D%3B%0A%20%20%20%20%20%20%20%20%20%20%20%20popup_674df78316e94dc7bce527a104011423.setContent%28html_456ec5ed20cf445db950c805177225a0%29%3B%0A%20%20%20%20%20%20%20%20%0A%0A%20%20%20%20%20%20%20%20marker_bd86f0728fe5495083bce905e2a45ff9.bindPopup%28popup_674df78316e94dc7bce527a104011423%29%0A%20%20%20%20%20%20%20%20%3B%0A%0A%20%20%20%20%20%20%20%20%0A%20%20%20%20%0A%20%20%20%20%0A%20%20%20%20%20%20%20%20%20%20%20%20var%20marker_ff8b577736a94ddd8bd3db5dac0dc01c%20%3D%20L.marker%28%0A%20%20%20%20%20%20%20%20%20%20%20%20%20%20%20%20%5B55.94979756563328%2C%20-3.1877950320129%5D%2C%0A%20%20%20%20%20%20%20%20%20%20%20%20%20%20%20%20%7B%7D%0A%20%20%20%20%20%20%20%20%20%20%20%20%29.addTo%28marker_cluster_67359bb34138463b8bbaf6c2ba135992%29%3B%0A%20%20%20%20%20%20%20%20%0A%20%20%20%20%0A%20%20%20%20%20%20%20%20%20%20%20%20var%20icon_88bdb8b0243347928cf44d95722c79a5%20%3D%20L.AwesomeMarkers.icon%28%0A%20%20%20%20%20%20%20%20%20%20%20%20%20%20%20%20%7B%22extraClasses%22%3A%20%22fa-rotate-0%22%2C%20%22icon%22%3A%20%22bicycle%22%2C%20%22iconColor%22%3A%20%22white%22%2C%20%22markerColor%22%3A%20%22red%22%2C%20%22prefic%22%3A%20%22fa%22%2C%20%22prefix%22%3A%20%22glyphicon%22%7D%0A%20%20%20%20%20%20%20%20%20%20%20%20%29%3B%0A%20%20%20%20%20%20%20%20%20%20%20%20marker_ff8b577736a94ddd8bd3db5dac0dc01c.setIcon%28icon_88bdb8b0243347928cf44d95722c79a5%29%3B%0A%20%20%20%20%20%20%20%20%0A%20%20%20%20%0A%20%20%20%20%20%20%20%20var%20popup_22b31d1f3cd84b4386550b034692a498%20%3D%20L.popup%28%7B%22maxWidth%22%3A%20%22100%25%22%7D%29%3B%0A%0A%20%20%20%20%20%20%20%20%0A%20%20%20%20%20%20%20%20%20%20%20%20var%20html_ba20493189f84015b476d3af7cb3df16%20%3D%20%24%28%60%3Cdiv%20id%3D%22html_ba20493189f84015b476d3af7cb3df16%22%20style%3D%22width%3A%20100.0%25%3B%20height%3A%20100.0%25%3B%22%3EId%3A%201028%3Cbr%3EHunter%20Square%3Cbr%3EDescription%3A%20In%20Hunter%20Square%20next%20to%20Tron%20Kirk%3Cbr%3E%3Cbr%3ECounts%3A%202322%3C/div%3E%60%29%5B0%5D%3B%0A%20%20%20%20%20%20%20%20%20%20%20%20popup_22b31d1f3cd84b4386550b034692a498.setContent%28html_ba20493189f84015b476d3af7cb3df16%29%3B%0A%20%20%20%20%20%20%20%20%0A%0A%20%20%20%20%20%20%20%20marker_ff8b577736a94ddd8bd3db5dac0dc01c.bindPopup%28popup_22b31d1f3cd84b4386550b034692a498%29%0A%20%20%20%20%20%20%20%20%3B%0A%0A%20%20%20%20%20%20%20%20%0A%20%20%20%20%0A%20%20%20%20%0A%20%20%20%20%20%20%20%20%20%20%20%20var%20marker_62b9dc48cdff4d8e8dfbd80bcee01b63%20%3D%20L.marker%28%0A%20%20%20%20%20%20%20%20%20%20%20%20%20%20%20%20%5B55.9364319181482%2C%20-3.194150044314256%5D%2C%0A%20%20%20%20%20%20%20%20%20%20%20%20%20%20%20%20%7B%7D%0A%20%20%20%20%20%20%20%20%20%20%20%20%29.addTo%28marker_cluster_67359bb34138463b8bbaf6c2ba135992%29%3B%0A%20%20%20%20%20%20%20%20%0A%20%20%20%20%0A%20%20%20%20%20%20%20%20%20%20%20%20var%20icon_2859e81594ce4475a2e78b03751cdc89%20%3D%20L.AwesomeMarkers.icon%28%0A%20%20%20%20%20%20%20%20%20%20%20%20%20%20%20%20%7B%22extraClasses%22%3A%20%22fa-rotate-0%22%2C%20%22icon%22%3A%20%22bicycle%22%2C%20%22iconColor%22%3A%20%22white%22%2C%20%22markerColor%22%3A%20%22red%22%2C%20%22prefic%22%3A%20%22fa%22%2C%20%22prefix%22%3A%20%22glyphicon%22%7D%0A%20%20%20%20%20%20%20%20%20%20%20%20%29%3B%0A%20%20%20%20%20%20%20%20%20%20%20%20marker_62b9dc48cdff4d8e8dfbd80bcee01b63.setIcon%28icon_2859e81594ce4475a2e78b03751cdc89%29%3B%0A%20%20%20%20%20%20%20%20%0A%20%20%20%20%0A%20%20%20%20%20%20%20%20var%20popup_c9ae4efb653f47f190415783e9d66f41%20%3D%20L.popup%28%7B%22maxWidth%22%3A%20%22100%25%22%7D%29%3B%0A%0A%20%20%20%20%20%20%20%20%0A%20%20%20%20%20%20%20%20%20%20%20%20var%20html_7283226c14ca4d39b55bab16b08436ac%20%3D%20%24%28%60%3Cdiv%20id%3D%22html_7283226c14ca4d39b55bab16b08436ac%22%20style%3D%22width%3A%20100.0%25%3B%20height%3A%20100.0%25%3B%22%3EId%3A%201098%3Cbr%3EMarchmont%20Crescent%3Cbr%3EDescription%3A%20Corner%20of%20Marchmont%20Road%3Cbr%3E%3Cbr%3ECounts%3A%202296%3C/div%3E%60%29%5B0%5D%3B%0A%20%20%20%20%20%20%20%20%20%20%20%20popup_c9ae4efb653f47f190415783e9d66f41.setContent%28html_7283226c14ca4d39b55bab16b08436ac%29%3B%0A%20%20%20%20%20%20%20%20%0A%0A%20%20%20%20%20%20%20%20marker_62b9dc48cdff4d8e8dfbd80bcee01b63.bindPopup%28popup_c9ae4efb653f47f190415783e9d66f41%29%0A%20%20%20%20%20%20%20%20%3B%0A%0A%20%20%20%20%20%20%20%20%0A%20%20%20%20%0A%20%20%20%20%0A%20%20%20%20%20%20%20%20%20%20%20%20var%20marker_4eb801bfb7f54b45828256cece4ca68f%20%3D%20L.marker%28%0A%20%20%20%20%20%20%20%20%20%20%20%20%20%20%20%20%5B55.946063966641006%2C%20-3.223024024359574%5D%2C%0A%20%20%20%20%20%20%20%20%20%20%20%20%20%20%20%20%7B%7D%0A%20%20%20%20%20%20%20%20%20%20%20%20%29.addTo%28marker_cluster_67359bb34138463b8bbaf6c2ba135992%29%3B%0A%20%20%20%20%20%20%20%20%0A%20%20%20%20%0A%20%20%20%20%20%20%20%20%20%20%20%20var%20icon_1eefb70147f045ba9da0eff038db0e5d%20%3D%20L.AwesomeMarkers.icon%28%0A%20%20%20%20%20%20%20%20%20%20%20%20%20%20%20%20%7B%22extraClasses%22%3A%20%22fa-rotate-0%22%2C%20%22icon%22%3A%20%22bicycle%22%2C%20%22iconColor%22%3A%20%22white%22%2C%20%22markerColor%22%3A%20%22red%22%2C%20%22prefic%22%3A%20%22fa%22%2C%20%22prefix%22%3A%20%22glyphicon%22%7D%0A%20%20%20%20%20%20%20%20%20%20%20%20%29%3B%0A%20%20%20%20%20%20%20%20%20%20%20%20marker_4eb801bfb7f54b45828256cece4ca68f.setIcon%28icon_1eefb70147f045ba9da0eff038db0e5d%29%3B%0A%20%20%20%20%20%20%20%20%0A%20%20%20%20%0A%20%20%20%20%20%20%20%20var%20popup_e556d9b378254391bb549abeaf5efeb1%20%3D%20L.popup%28%7B%22maxWidth%22%3A%20%22100%25%22%7D%29%3B%0A%0A%20%20%20%20%20%20%20%20%0A%20%20%20%20%20%20%20%20%20%20%20%20var%20html_d77c109a6cd34b9fb6ff0313223190c6%20%3D%20%24%28%60%3Cdiv%20id%3D%22html_d77c109a6cd34b9fb6ff0313223190c6%22%20style%3D%22width%3A%20100.0%25%3B%20height%3A%20100.0%25%3B%22%3EId%3A%201765%3Cbr%3EHaymarket%20Terrace%3Cbr%3EDescription%3A%20Corner%20of%20Magdala%20Crescent%3Cbr%3E%3Cbr%3ECounts%3A%202293%3C/div%3E%60%29%5B0%5D%3B%0A%20%20%20%20%20%20%20%20%20%20%20%20popup_e556d9b378254391bb549abeaf5efeb1.setContent%28html_d77c109a6cd34b9fb6ff0313223190c6%29%3B%0A%20%20%20%20%20%20%20%20%0A%0A%20%20%20%20%20%20%20%20marker_4eb801bfb7f54b45828256cece4ca68f.bindPopup%28popup_e556d9b378254391bb549abeaf5efeb1%29%0A%20%20%20%20%20%20%20%20%3B%0A%0A%20%20%20%20%20%20%20%20%0A%20%20%20%20%0A%20%20%20%20%0A%20%20%20%20%20%20%20%20%20%20%20%20var%20marker_fd9740b1659e49e0b62275c5f9c75b33%20%3D%20L.marker%28%0A%20%20%20%20%20%20%20%20%20%20%20%20%20%20%20%20%5B55.93894174548949%2C%20-3.251110776059022%5D%2C%0A%20%20%20%20%20%20%20%20%20%20%20%20%20%20%20%20%7B%7D%0A%20%20%20%20%20%20%20%20%20%20%20%20%29.addTo%28marker_cluster_67359bb34138463b8bbaf6c2ba135992%29%3B%0A%20%20%20%20%20%20%20%20%0A%20%20%20%20%0A%20%20%20%20%20%20%20%20%20%20%20%20var%20icon_8f67badeb34542b4a6261241fecc5cd7%20%3D%20L.AwesomeMarkers.icon%28%0A%20%20%20%20%20%20%20%20%20%20%20%20%20%20%20%20%7B%22extraClasses%22%3A%20%22fa-rotate-0%22%2C%20%22icon%22%3A%20%22bicycle%22%2C%20%22iconColor%22%3A%20%22white%22%2C%20%22markerColor%22%3A%20%22red%22%2C%20%22prefic%22%3A%20%22fa%22%2C%20%22prefix%22%3A%20%22glyphicon%22%7D%0A%20%20%20%20%20%20%20%20%20%20%20%20%29%3B%0A%20%20%20%20%20%20%20%20%20%20%20%20marker_fd9740b1659e49e0b62275c5f9c75b33.setIcon%28icon_8f67badeb34542b4a6261241fecc5cd7%29%3B%0A%20%20%20%20%20%20%20%20%0A%20%20%20%20%0A%20%20%20%20%20%20%20%20var%20popup_c6181fb6a2fd435bae2df3af6f22a084%20%3D%20L.popup%28%7B%22maxWidth%22%3A%20%22100%25%22%7D%29%3B%0A%0A%20%20%20%20%20%20%20%20%0A%20%20%20%20%20%20%20%20%20%20%20%20var%20html_e36e26d76e2f49f9b6bd9be723ebb23f%20%3D%20%24%28%60%3Cdiv%20id%3D%22html_e36e26d76e2f49f9b6bd9be723ebb23f%22%20style%3D%22width%3A%20100.0%25%3B%20height%3A%20100.0%25%3B%22%3EId%3A%201766%3Cbr%3EBalgreen%20Road%3Cbr%3EDescription%3A%20Opposite%20Jenners%20Depository%3Cbr%3E%3Cbr%3ECounts%3A%202243%3C/div%3E%60%29%5B0%5D%3B%0A%20%20%20%20%20%20%20%20%20%20%20%20popup_c6181fb6a2fd435bae2df3af6f22a084.setContent%28html_e36e26d76e2f49f9b6bd9be723ebb23f%29%3B%0A%20%20%20%20%20%20%20%20%0A%0A%20%20%20%20%20%20%20%20marker_fd9740b1659e49e0b62275c5f9c75b33.bindPopup%28popup_c6181fb6a2fd435bae2df3af6f22a084%29%0A%20%20%20%20%20%20%20%20%3B%0A%0A%20%20%20%20%20%20%20%20%0A%20%20%20%20%0A%20%20%20%20%0A%20%20%20%20%20%20%20%20%20%20%20%20var%20marker_969b5592b368476eb063dba7d0128c34%20%3D%20L.marker%28%0A%20%20%20%20%20%20%20%20%20%20%20%20%20%20%20%20%5B55.94664279961712%2C%20-3.185474585938891%5D%2C%0A%20%20%20%20%20%20%20%20%20%20%20%20%20%20%20%20%7B%7D%0A%20%20%20%20%20%20%20%20%20%20%20%20%29.addTo%28marker_cluster_67359bb34138463b8bbaf6c2ba135992%29%3B%0A%20%20%20%20%20%20%20%20%0A%20%20%20%20%0A%20%20%20%20%20%20%20%20%20%20%20%20var%20icon_6820502f189645c49381dfa128160a24%20%3D%20L.AwesomeMarkers.icon%28%0A%20%20%20%20%20%20%20%20%20%20%20%20%20%20%20%20%7B%22extraClasses%22%3A%20%22fa-rotate-0%22%2C%20%22icon%22%3A%20%22bicycle%22%2C%20%22iconColor%22%3A%20%22white%22%2C%20%22markerColor%22%3A%20%22red%22%2C%20%22prefic%22%3A%20%22fa%22%2C%20%22prefix%22%3A%20%22glyphicon%22%7D%0A%20%20%20%20%20%20%20%20%20%20%20%20%29%3B%0A%20%20%20%20%20%20%20%20%20%20%20%20marker_969b5592b368476eb063dba7d0128c34.setIcon%28icon_6820502f189645c49381dfa128160a24%29%3B%0A%20%20%20%20%20%20%20%20%0A%20%20%20%20%0A%20%20%20%20%20%20%20%20var%20popup_e99bb852d0e94e85bb7979badd3522df%20%3D%20L.popup%28%7B%22maxWidth%22%3A%20%22100%25%22%7D%29%3B%0A%0A%20%20%20%20%20%20%20%20%0A%20%20%20%20%20%20%20%20%20%20%20%20var%20html_fbde81cf071d4b3c8641667d3b4411b7%20%3D%20%24%28%60%3Cdiv%20id%3D%22html_fbde81cf071d4b3c8641667d3b4411b7%22%20style%3D%22width%3A%20100.0%25%3B%20height%3A%20100.0%25%3B%22%3EId%3A%201052%3Cbr%3ESurgeons%20Hall%3Cbr%3EDescription%3A%20East%20side%20of%20Nicolson%20Street%3Cbr%3E%3Cbr%3ECounts%3A%202240%3C/div%3E%60%29%5B0%5D%3B%0A%20%20%20%20%20%20%20%20%20%20%20%20popup_e99bb852d0e94e85bb7979badd3522df.setContent%28html_fbde81cf071d4b3c8641667d3b4411b7%29%3B%0A%20%20%20%20%20%20%20%20%0A%0A%20%20%20%20%20%20%20%20marker_969b5592b368476eb063dba7d0128c34.bindPopup%28popup_e99bb852d0e94e85bb7979badd3522df%29%0A%20%20%20%20%20%20%20%20%3B%0A%0A%20%20%20%20%20%20%20%20%0A%20%20%20%20%0A%20%20%20%20%0A%20%20%20%20%20%20%20%20%20%20%20%20var%20marker_b97e35fbab144790b51b204c81c0a26a%20%3D%20L.marker%28%0A%20%20%20%20%20%20%20%20%20%20%20%20%20%20%20%20%5B55.96414559786725%2C%20-3.202073560611438%5D%2C%0A%20%20%20%20%20%20%20%20%20%20%20%20%20%20%20%20%7B%7D%0A%20%20%20%20%20%20%20%20%20%20%20%20%29.addTo%28marker_cluster_67359bb34138463b8bbaf6c2ba135992%29%3B%0A%20%20%20%20%20%20%20%20%0A%20%20%20%20%0A%20%20%20%20%20%20%20%20%20%20%20%20var%20icon_c089e08f5b7748f58dbf360ee8d670a6%20%3D%20L.AwesomeMarkers.icon%28%0A%20%20%20%20%20%20%20%20%20%20%20%20%20%20%20%20%7B%22extraClasses%22%3A%20%22fa-rotate-0%22%2C%20%22icon%22%3A%20%22bicycle%22%2C%20%22iconColor%22%3A%20%22white%22%2C%20%22markerColor%22%3A%20%22red%22%2C%20%22prefic%22%3A%20%22fa%22%2C%20%22prefix%22%3A%20%22glyphicon%22%7D%0A%20%20%20%20%20%20%20%20%20%20%20%20%29%3B%0A%20%20%20%20%20%20%20%20%20%20%20%20marker_b97e35fbab144790b51b204c81c0a26a.setIcon%28icon_c089e08f5b7748f58dbf360ee8d670a6%29%3B%0A%20%20%20%20%20%20%20%20%0A%20%20%20%20%0A%20%20%20%20%20%20%20%20var%20popup_19315e04b8084a44bfcb54d2444c9dd3%20%3D%20L.popup%28%7B%22maxWidth%22%3A%20%22100%25%22%7D%29%3B%0A%0A%20%20%20%20%20%20%20%20%0A%20%20%20%20%20%20%20%20%20%20%20%20var%20html_997b45dc4b3d406494f11605820b78c0%20%3D%20%24%28%60%3Cdiv%20id%3D%22html_997b45dc4b3d406494f11605820b78c0%22%20style%3D%22width%3A%20100.0%25%3B%20height%3A%20100.0%25%3B%22%3EId%3A%20355%3Cbr%3EInverleith%20Row%3Cbr%3EDescription%3A%20Corner%20of%20Inverleith%20Row%20%26%20Inverleith%20Terrace%3Cbr%3E%3Cbr%3ECounts%3A%202232%3C/div%3E%60%29%5B0%5D%3B%0A%20%20%20%20%20%20%20%20%20%20%20%20popup_19315e04b8084a44bfcb54d2444c9dd3.setContent%28html_997b45dc4b3d406494f11605820b78c0%29%3B%0A%20%20%20%20%20%20%20%20%0A%0A%20%20%20%20%20%20%20%20marker_b97e35fbab144790b51b204c81c0a26a.bindPopup%28popup_19315e04b8084a44bfcb54d2444c9dd3%29%0A%20%20%20%20%20%20%20%20%3B%0A%0A%20%20%20%20%20%20%20%20%0A%20%20%20%20%0A%20%20%20%20%0A%20%20%20%20%20%20%20%20%20%20%20%20var%20marker_bf1cd0d986494df0a3bdc5c467c28513%20%3D%20L.marker%28%0A%20%20%20%20%20%20%20%20%20%20%20%20%20%20%20%20%5B55.964058329676064%2C%20-3.195700361124863%5D%2C%0A%20%20%20%20%20%20%20%20%20%20%20%20%20%20%20%20%7B%7D%0A%20%20%20%20%20%20%20%20%20%20%20%20%29.addTo%28marker_cluster_67359bb34138463b8bbaf6c2ba135992%29%3B%0A%20%20%20%20%20%20%20%20%0A%20%20%20%20%0A%20%20%20%20%20%20%20%20%20%20%20%20var%20icon_65eb3e6e82004e2fb6d762669c4539c2%20%3D%20L.AwesomeMarkers.icon%28%0A%20%20%20%20%20%20%20%20%20%20%20%20%20%20%20%20%7B%22extraClasses%22%3A%20%22fa-rotate-0%22%2C%20%22icon%22%3A%20%22bicycle%22%2C%20%22iconColor%22%3A%20%22white%22%2C%20%22markerColor%22%3A%20%22red%22%2C%20%22prefic%22%3A%20%22fa%22%2C%20%22prefix%22%3A%20%22glyphicon%22%7D%0A%20%20%20%20%20%20%20%20%20%20%20%20%29%3B%0A%20%20%20%20%20%20%20%20%20%20%20%20marker_bf1cd0d986494df0a3bdc5c467c28513.setIcon%28icon_65eb3e6e82004e2fb6d762669c4539c2%29%3B%0A%20%20%20%20%20%20%20%20%0A%20%20%20%20%0A%20%20%20%20%20%20%20%20var%20popup_42f53264d4104afca7dafe815c5b4b97%20%3D%20L.popup%28%7B%22maxWidth%22%3A%20%22100%25%22%7D%29%3B%0A%0A%20%20%20%20%20%20%20%20%0A%20%20%20%20%20%20%20%20%20%20%20%20var%20html_93fd27ca829145b8b46c667e478883ea%20%3D%20%24%28%60%3Cdiv%20id%3D%22html_93fd27ca829145b8b46c667e478883ea%22%20style%3D%22width%3A%20100.0%25%3B%20height%3A%20100.0%25%3B%22%3EId%3A%201743%3Cbr%3ELogie%20Green%20Road%3Cbr%3EDescription%3A%20Outside%20Lidl%3Cbr%3E%3Cbr%3ECounts%3A%202082%3C/div%3E%60%29%5B0%5D%3B%0A%20%20%20%20%20%20%20%20%20%20%20%20popup_42f53264d4104afca7dafe815c5b4b97.setContent%28html_93fd27ca829145b8b46c667e478883ea%29%3B%0A%20%20%20%20%20%20%20%20%0A%0A%20%20%20%20%20%20%20%20marker_bf1cd0d986494df0a3bdc5c467c28513.bindPopup%28popup_42f53264d4104afca7dafe815c5b4b97%29%0A%20%20%20%20%20%20%20%20%3B%0A%0A%20%20%20%20%20%20%20%20%0A%20%20%20%20%0A%20%20%20%20%0A%20%20%20%20%20%20%20%20%20%20%20%20var%20marker_91ee35f30e6340789187a81b30ca0e8f%20%3D%20L.marker%28%0A%20%20%20%20%20%20%20%20%20%20%20%20%20%20%20%20%5B55.94564841884953%2C%20-3.231847150914063%5D%2C%0A%20%20%20%20%20%20%20%20%20%20%20%20%20%20%20%20%7B%7D%0A%20%20%20%20%20%20%20%20%20%20%20%20%29.addTo%28marker_cluster_67359bb34138463b8bbaf6c2ba135992%29%3B%0A%20%20%20%20%20%20%20%20%0A%20%20%20%20%0A%20%20%20%20%20%20%20%20%20%20%20%20var%20icon_f10736afa14c47b8a20dd87504eeefcd%20%3D%20L.AwesomeMarkers.icon%28%0A%20%20%20%20%20%20%20%20%20%20%20%20%20%20%20%20%7B%22extraClasses%22%3A%20%22fa-rotate-0%22%2C%20%22icon%22%3A%20%22bicycle%22%2C%20%22iconColor%22%3A%20%22white%22%2C%20%22markerColor%22%3A%20%22red%22%2C%20%22prefic%22%3A%20%22fa%22%2C%20%22prefix%22%3A%20%22glyphicon%22%7D%0A%20%20%20%20%20%20%20%20%20%20%20%20%29%3B%0A%20%20%20%20%20%20%20%20%20%20%20%20marker_91ee35f30e6340789187a81b30ca0e8f.setIcon%28icon_f10736afa14c47b8a20dd87504eeefcd%29%3B%0A%20%20%20%20%20%20%20%20%0A%20%20%20%20%0A%20%20%20%20%20%20%20%20var%20popup_31e6156ba7eb4cd2b2ed3b4b8844619c%20%3D%20L.popup%28%7B%22maxWidth%22%3A%20%22100%25%22%7D%29%3B%0A%0A%20%20%20%20%20%20%20%20%0A%20%20%20%20%20%20%20%20%20%20%20%20var%20html_d346dd6c1833409298268476464bd583%20%3D%20%24%28%60%3Cdiv%20id%3D%22html_d346dd6c1833409298268476464bd583%22%20style%3D%22width%3A%20100.0%25%3B%20height%3A%20100.0%25%3B%22%3EId%3A%201738%3Cbr%3EWester%20Coates%20Terrace%3Cbr%3EDescription%3A%20Junction%20with%20Roseburn%20Terrace%3Cbr%3E%3Cbr%3ECounts%3A%202080%3C/div%3E%60%29%5B0%5D%3B%0A%20%20%20%20%20%20%20%20%20%20%20%20popup_31e6156ba7eb4cd2b2ed3b4b8844619c.setContent%28html_d346dd6c1833409298268476464bd583%29%3B%0A%20%20%20%20%20%20%20%20%0A%0A%20%20%20%20%20%20%20%20marker_91ee35f30e6340789187a81b30ca0e8f.bindPopup%28popup_31e6156ba7eb4cd2b2ed3b4b8844619c%29%0A%20%20%20%20%20%20%20%20%3B%0A%0A%20%20%20%20%20%20%20%20%0A%20%20%20%20%0A%20%20%20%20%0A%20%20%20%20%20%20%20%20%20%20%20%20var%20marker_dc2c63c189564952b2c85bd3ed87ab14%20%3D%20L.marker%28%0A%20%20%20%20%20%20%20%20%20%20%20%20%20%20%20%20%5B55.93796327344498%2C%20-3.185021145932069%5D%2C%0A%20%20%20%20%20%20%20%20%20%20%20%20%20%20%20%20%7B%7D%0A%20%20%20%20%20%20%20%20%20%20%20%20%29.addTo%28marker_cluster_67359bb34138463b8bbaf6c2ba135992%29%3B%0A%20%20%20%20%20%20%20%20%0A%20%20%20%20%0A%20%20%20%20%20%20%20%20%20%20%20%20var%20icon_24548e1010c44700abfab34a85158c90%20%3D%20L.AwesomeMarkers.icon%28%0A%20%20%20%20%20%20%20%20%20%20%20%20%20%20%20%20%7B%22extraClasses%22%3A%20%22fa-rotate-0%22%2C%20%22icon%22%3A%20%22bicycle%22%2C%20%22iconColor%22%3A%20%22white%22%2C%20%22markerColor%22%3A%20%22red%22%2C%20%22prefic%22%3A%20%22fa%22%2C%20%22prefix%22%3A%20%22glyphicon%22%7D%0A%20%20%20%20%20%20%20%20%20%20%20%20%29%3B%0A%20%20%20%20%20%20%20%20%20%20%20%20marker_dc2c63c189564952b2c85bd3ed87ab14.setIcon%28icon_24548e1010c44700abfab34a85158c90%29%3B%0A%20%20%20%20%20%20%20%20%0A%20%20%20%20%0A%20%20%20%20%20%20%20%20var%20popup_0006b7221221497fad9754bb82916642%20%3D%20L.popup%28%7B%22maxWidth%22%3A%20%22100%25%22%7D%29%3B%0A%0A%20%20%20%20%20%20%20%20%0A%20%20%20%20%20%20%20%20%20%20%20%20var%20html_a6a80698bee443b99cde809cdecd6b06%20%3D%20%24%28%60%3Cdiv%20id%3D%22html_a6a80698bee443b99cde809cdecd6b06%22%20style%3D%22width%3A%20100.0%25%3B%20height%3A%20100.0%25%3B%22%3EId%3A%201097%3Cbr%3EGladstone%20Terrace%3Cbr%3EDescription%3A%20Corner%20of%20Gladstone%20Terrace%20and%20Sciennes%20Road%3Cbr%3E%3Cbr%3ECounts%3A%201996%3C/div%3E%60%29%5B0%5D%3B%0A%20%20%20%20%20%20%20%20%20%20%20%20popup_0006b7221221497fad9754bb82916642.setContent%28html_a6a80698bee443b99cde809cdecd6b06%29%3B%0A%20%20%20%20%20%20%20%20%0A%0A%20%20%20%20%20%20%20%20marker_dc2c63c189564952b2c85bd3ed87ab14.bindPopup%28popup_0006b7221221497fad9754bb82916642%29%0A%20%20%20%20%20%20%20%20%3B%0A%0A%20%20%20%20%20%20%20%20%0A%20%20%20%20%0A%20%20%20%20%0A%20%20%20%20%20%20%20%20%20%20%20%20var%20marker_257641f4aa7d4724a07df70b948f2963%20%3D%20L.marker%28%0A%20%20%20%20%20%20%20%20%20%20%20%20%20%20%20%20%5B55.92418540667696%2C%20-3.173830830087809%5D%2C%0A%20%20%20%20%20%20%20%20%20%20%20%20%20%20%20%20%7B%7D%0A%20%20%20%20%20%20%20%20%20%20%20%20%29.addTo%28marker_cluster_67359bb34138463b8bbaf6c2ba135992%29%3B%0A%20%20%20%20%20%20%20%20%0A%20%20%20%20%0A%20%20%20%20%20%20%20%20%20%20%20%20var%20icon_ce5aeb6463ef433f83111a3731c11ec4%20%3D%20L.AwesomeMarkers.icon%28%0A%20%20%20%20%20%20%20%20%20%20%20%20%20%20%20%20%7B%22extraClasses%22%3A%20%22fa-rotate-0%22%2C%20%22icon%22%3A%20%22bicycle%22%2C%20%22iconColor%22%3A%20%22white%22%2C%20%22markerColor%22%3A%20%22red%22%2C%20%22prefic%22%3A%20%22fa%22%2C%20%22prefix%22%3A%20%22glyphicon%22%7D%0A%20%20%20%20%20%20%20%20%20%20%20%20%29%3B%0A%20%20%20%20%20%20%20%20%20%20%20%20marker_257641f4aa7d4724a07df70b948f2963.setIcon%28icon_ce5aeb6463ef433f83111a3731c11ec4%29%3B%0A%20%20%20%20%20%20%20%20%0A%20%20%20%20%0A%20%20%20%20%20%20%20%20var%20popup_1a70b85306054a8381a6716243aa1cae%20%3D%20L.popup%28%7B%22maxWidth%22%3A%20%22100%25%22%7D%29%3B%0A%0A%20%20%20%20%20%20%20%20%0A%20%20%20%20%20%20%20%20%20%20%20%20var%20html_fd9b45319f644c5ba35f49be28897aad%20%3D%20%24%28%60%3Cdiv%20id%3D%22html_fd9b45319f644c5ba35f49be28897aad%22%20style%3D%22width%3A%20100.0%25%3B%20height%3A%20100.0%25%3B%22%3EId%3A%20252%3Cbr%3EKings%20Buildings%201%3Cbr%3EDescription%3A%20Grant%20Institute%3Cbr%3E%3Cbr%3ECounts%3A%201958%3C/div%3E%60%29%5B0%5D%3B%0A%20%20%20%20%20%20%20%20%20%20%20%20popup_1a70b85306054a8381a6716243aa1cae.setContent%28html_fd9b45319f644c5ba35f49be28897aad%29%3B%0A%20%20%20%20%20%20%20%20%0A%0A%20%20%20%20%20%20%20%20marker_257641f4aa7d4724a07df70b948f2963.bindPopup%28popup_1a70b85306054a8381a6716243aa1cae%29%0A%20%20%20%20%20%20%20%20%3B%0A%0A%20%20%20%20%20%20%20%20%0A%20%20%20%20%0A%20%20%20%20%0A%20%20%20%20%20%20%20%20%20%20%20%20var%20marker_a225dbba0d744b969f5d1e03c8229155%20%3D%20L.marker%28%0A%20%20%20%20%20%20%20%20%20%20%20%20%20%20%20%20%5B55.95316433242384%2C%20-3.181682340931843%5D%2C%0A%20%20%20%20%20%20%20%20%20%20%20%20%20%20%20%20%7B%7D%0A%20%20%20%20%20%20%20%20%20%20%20%20%29.addTo%28marker_cluster_67359bb34138463b8bbaf6c2ba135992%29%3B%0A%20%20%20%20%20%20%20%20%0A%20%20%20%20%0A%20%20%20%20%20%20%20%20%20%20%20%20var%20icon_b641f09729f342c8a25bbfd722a624a8%20%3D%20L.AwesomeMarkers.icon%28%0A%20%20%20%20%20%20%20%20%20%20%20%20%20%20%20%20%7B%22extraClasses%22%3A%20%22fa-rotate-0%22%2C%20%22icon%22%3A%20%22bicycle%22%2C%20%22iconColor%22%3A%20%22white%22%2C%20%22markerColor%22%3A%20%22red%22%2C%20%22prefic%22%3A%20%22fa%22%2C%20%22prefix%22%3A%20%22glyphicon%22%7D%0A%20%20%20%20%20%20%20%20%20%20%20%20%29%3B%0A%20%20%20%20%20%20%20%20%20%20%20%20marker_a225dbba0d744b969f5d1e03c8229155.setIcon%28icon_b641f09729f342c8a25bbfd722a624a8%29%3B%0A%20%20%20%20%20%20%20%20%0A%20%20%20%20%0A%20%20%20%20%20%20%20%20var%20popup_927ab7969de94c028274b235daae9803%20%3D%20L.popup%28%7B%22maxWidth%22%3A%20%22100%25%22%7D%29%3B%0A%0A%20%20%20%20%20%20%20%20%0A%20%20%20%20%20%20%20%20%20%20%20%20var%20html_f0885965754a4273894fb151626325ac%20%3D%20%24%28%60%3Cdiv%20id%3D%22html_f0885965754a4273894fb151626325ac%22%20style%3D%22width%3A%20100.0%25%3B%20height%3A%20100.0%25%3B%22%3EId%3A%20256%3Cbr%3ESt%20Andrews%20House%3Cbr%3EDescription%3A%20beside%20Jacobs%20ladder%3Cbr%3E%3Cbr%3ECounts%3A%201957%3C/div%3E%60%29%5B0%5D%3B%0A%20%20%20%20%20%20%20%20%20%20%20%20popup_927ab7969de94c028274b235daae9803.setContent%28html_f0885965754a4273894fb151626325ac%29%3B%0A%20%20%20%20%20%20%20%20%0A%0A%20%20%20%20%20%20%20%20marker_a225dbba0d744b969f5d1e03c8229155.bindPopup%28popup_927ab7969de94c028274b235daae9803%29%0A%20%20%20%20%20%20%20%20%3B%0A%0A%20%20%20%20%20%20%20%20%0A%20%20%20%20%0A%20%20%20%20%0A%20%20%20%20%20%20%20%20%20%20%20%20var%20marker_71600d92a2f648369c93f1b07e25d360%20%3D%20L.marker%28%0A%20%20%20%20%20%20%20%20%20%20%20%20%20%20%20%20%5B55.99052952143077%2C%20-3.385596660576908%5D%2C%0A%20%20%20%20%20%20%20%20%20%20%20%20%20%20%20%20%7B%7D%0A%20%20%20%20%20%20%20%20%20%20%20%20%29.addTo%28marker_cluster_67359bb34138463b8bbaf6c2ba135992%29%3B%0A%20%20%20%20%20%20%20%20%0A%20%20%20%20%0A%20%20%20%20%20%20%20%20%20%20%20%20var%20icon_7f0ae787268642979b442340c6006112%20%3D%20L.AwesomeMarkers.icon%28%0A%20%20%20%20%20%20%20%20%20%20%20%20%20%20%20%20%7B%22extraClasses%22%3A%20%22fa-rotate-0%22%2C%20%22icon%22%3A%20%22bicycle%22%2C%20%22iconColor%22%3A%20%22white%22%2C%20%22markerColor%22%3A%20%22red%22%2C%20%22prefic%22%3A%20%22fa%22%2C%20%22prefix%22%3A%20%22glyphicon%22%7D%0A%20%20%20%20%20%20%20%20%20%20%20%20%29%3B%0A%20%20%20%20%20%20%20%20%20%20%20%20marker_71600d92a2f648369c93f1b07e25d360.setIcon%28icon_7f0ae787268642979b442340c6006112%29%3B%0A%20%20%20%20%20%20%20%20%0A%20%20%20%20%0A%20%20%20%20%20%20%20%20var%20popup_3a914d8e45734884b4743220857d6a32%20%3D%20L.popup%28%7B%22maxWidth%22%3A%20%22100%25%22%7D%29%3B%0A%0A%20%20%20%20%20%20%20%20%0A%20%20%20%20%20%20%20%20%20%20%20%20var%20html_10d3e60307b345dc94276c41ea9544c3%20%3D%20%24%28%60%3Cdiv%20id%3D%22html_10d3e60307b345dc94276c41ea9544c3%22%20style%3D%22width%3A%20100.0%25%3B%20height%3A%20100.0%25%3B%22%3EId%3A%201870%3Cbr%3EHawes%20Pier%3Cbr%3EDescription%3A%20Off%20Newhalls%20Road%3Cbr%3E%3Cbr%3ECounts%3A%201911%3C/div%3E%60%29%5B0%5D%3B%0A%20%20%20%20%20%20%20%20%20%20%20%20popup_3a914d8e45734884b4743220857d6a32.setContent%28html_10d3e60307b345dc94276c41ea9544c3%29%3B%0A%20%20%20%20%20%20%20%20%0A%0A%20%20%20%20%20%20%20%20marker_71600d92a2f648369c93f1b07e25d360.bindPopup%28popup_3a914d8e45734884b4743220857d6a32%29%0A%20%20%20%20%20%20%20%20%3B%0A%0A%20%20%20%20%20%20%20%20%0A%20%20%20%20%0A%20%20%20%20%0A%20%20%20%20%20%20%20%20%20%20%20%20var%20marker_cbe7c7242d2a470d80301df0bdcbcff8%20%3D%20L.marker%28%0A%20%20%20%20%20%20%20%20%20%20%20%20%20%20%20%20%5B55.97070402016615%2C%20-3.171623996101516%5D%2C%0A%20%20%20%20%20%20%20%20%20%20%20%20%20%20%20%20%7B%7D%0A%20%20%20%20%20%20%20%20%20%20%20%20%29.addTo%28marker_cluster_67359bb34138463b8bbaf6c2ba135992%29%3B%0A%20%20%20%20%20%20%20%20%0A%20%20%20%20%0A%20%20%20%20%20%20%20%20%20%20%20%20var%20icon_a482d59c05a740b5825791b79cf5e4e2%20%3D%20L.AwesomeMarkers.icon%28%0A%20%20%20%20%20%20%20%20%20%20%20%20%20%20%20%20%7B%22extraClasses%22%3A%20%22fa-rotate-0%22%2C%20%22icon%22%3A%20%22bicycle%22%2C%20%22iconColor%22%3A%20%22white%22%2C%20%22markerColor%22%3A%20%22red%22%2C%20%22prefic%22%3A%20%22fa%22%2C%20%22prefix%22%3A%20%22glyphicon%22%7D%0A%20%20%20%20%20%20%20%20%20%20%20%20%29%3B%0A%20%20%20%20%20%20%20%20%20%20%20%20marker_cbe7c7242d2a470d80301df0bdcbcff8.setIcon%28icon_a482d59c05a740b5825791b79cf5e4e2%29%3B%0A%20%20%20%20%20%20%20%20%0A%20%20%20%20%0A%20%20%20%20%20%20%20%20var%20popup_9e9852def4cb4641839f123db0967e19%20%3D%20L.popup%28%7B%22maxWidth%22%3A%20%22100%25%22%7D%29%3B%0A%0A%20%20%20%20%20%20%20%20%0A%20%20%20%20%20%20%20%20%20%20%20%20var%20html_84565b14864041a9a836de245a293a09%20%3D%20%24%28%60%3Cdiv%20id%3D%22html_84565b14864041a9a836de245a293a09%22%20style%3D%22width%3A%20100.0%25%3B%20height%3A%20100.0%25%3B%22%3EId%3A%20820%3Cbr%3ENewkirkgate%3Cbr%3EDescription%3A%2019%20point%20docking%20station%20beside%20queen%20victoria%20monument%3Cbr%3E%3Cbr%3ECounts%3A%201908%3C/div%3E%60%29%5B0%5D%3B%0A%20%20%20%20%20%20%20%20%20%20%20%20popup_9e9852def4cb4641839f123db0967e19.setContent%28html_84565b14864041a9a836de245a293a09%29%3B%0A%20%20%20%20%20%20%20%20%0A%0A%20%20%20%20%20%20%20%20marker_cbe7c7242d2a470d80301df0bdcbcff8.bindPopup%28popup_9e9852def4cb4641839f123db0967e19%29%0A%20%20%20%20%20%20%20%20%3B%0A%0A%20%20%20%20%20%20%20%20%0A%20%20%20%20%0A%20%20%20%20%0A%20%20%20%20%20%20%20%20%20%20%20%20var%20marker_98d0ef933c544e8db17dc70fd32d8ef2%20%3D%20L.marker%28%0A%20%20%20%20%20%20%20%20%20%20%20%20%20%20%20%20%5B55.94442555452843%2C%20-3.234497716594433%5D%2C%0A%20%20%20%20%20%20%20%20%20%20%20%20%20%20%20%20%7B%7D%0A%20%20%20%20%20%20%20%20%20%20%20%20%29.addTo%28marker_cluster_67359bb34138463b8bbaf6c2ba135992%29%3B%0A%20%20%20%20%20%20%20%20%0A%20%20%20%20%0A%20%20%20%20%20%20%20%20%20%20%20%20var%20icon_08ef647b887f4bf291643bba195db106%20%3D%20L.AwesomeMarkers.icon%28%0A%20%20%20%20%20%20%20%20%20%20%20%20%20%20%20%20%7B%22extraClasses%22%3A%20%22fa-rotate-0%22%2C%20%22icon%22%3A%20%22bicycle%22%2C%20%22iconColor%22%3A%20%22white%22%2C%20%22markerColor%22%3A%20%22red%22%2C%20%22prefic%22%3A%20%22fa%22%2C%20%22prefix%22%3A%20%22glyphicon%22%7D%0A%20%20%20%20%20%20%20%20%20%20%20%20%29%3B%0A%20%20%20%20%20%20%20%20%20%20%20%20marker_98d0ef933c544e8db17dc70fd32d8ef2.setIcon%28icon_08ef647b887f4bf291643bba195db106%29%3B%0A%20%20%20%20%20%20%20%20%0A%20%20%20%20%0A%20%20%20%20%20%20%20%20var%20popup_be73c6bd39d8483ca681ad7f9baf810d%20%3D%20L.popup%28%7B%22maxWidth%22%3A%20%22100%25%22%7D%29%3B%0A%0A%20%20%20%20%20%20%20%20%0A%20%20%20%20%20%20%20%20%20%20%20%20var%20html_f2fdd8e62dde4b88896292fc817c9241%20%3D%20%24%28%60%3Cdiv%20id%3D%22html_f2fdd8e62dde4b88896292fc817c9241%22%20style%3D%22width%3A%20100.0%25%3B%20height%3A%20100.0%25%3B%22%3EId%3A%201055%3Cbr%3ERoseburn%20Street%3Cbr%3EDescription%3A%20On%20corner%20with%20Russell%20Gardens%3Cbr%3E%3Cbr%3ECounts%3A%201871%3C/div%3E%60%29%5B0%5D%3B%0A%20%20%20%20%20%20%20%20%20%20%20%20popup_be73c6bd39d8483ca681ad7f9baf810d.setContent%28html_f2fdd8e62dde4b88896292fc817c9241%29%3B%0A%20%20%20%20%20%20%20%20%0A%0A%20%20%20%20%20%20%20%20marker_98d0ef933c544e8db17dc70fd32d8ef2.bindPopup%28popup_be73c6bd39d8483ca681ad7f9baf810d%29%0A%20%20%20%20%20%20%20%20%3B%0A%0A%20%20%20%20%20%20%20%20%0A%20%20%20%20%0A%20%20%20%20%0A%20%20%20%20%20%20%20%20%20%20%20%20var%20marker_de6eb2f7fe004efda19dd2c3bfc18499%20%3D%20L.marker%28%0A%20%20%20%20%20%20%20%20%20%20%20%20%20%20%20%20%5B55.93972942415463%2C%20-3.220602995527315%5D%2C%0A%20%20%20%20%20%20%20%20%20%20%20%20%20%20%20%20%7B%7D%0A%20%20%20%20%20%20%20%20%20%20%20%20%29.addTo%28marker_cluster_67359bb34138463b8bbaf6c2ba135992%29%3B%0A%20%20%20%20%20%20%20%20%0A%20%20%20%20%0A%20%20%20%20%20%20%20%20%20%20%20%20var%20icon_104300c936014fd99d2344978ca7075a%20%3D%20L.AwesomeMarkers.icon%28%0A%20%20%20%20%20%20%20%20%20%20%20%20%20%20%20%20%7B%22extraClasses%22%3A%20%22fa-rotate-0%22%2C%20%22icon%22%3A%20%22bicycle%22%2C%20%22iconColor%22%3A%20%22white%22%2C%20%22markerColor%22%3A%20%22red%22%2C%20%22prefic%22%3A%20%22fa%22%2C%20%22prefix%22%3A%20%22glyphicon%22%7D%0A%20%20%20%20%20%20%20%20%20%20%20%20%29%3B%0A%20%20%20%20%20%20%20%20%20%20%20%20marker_de6eb2f7fe004efda19dd2c3bfc18499.setIcon%28icon_104300c936014fd99d2344978ca7075a%29%3B%0A%20%20%20%20%20%20%20%20%0A%20%20%20%20%0A%20%20%20%20%20%20%20%20var%20popup_2f5703de4caf4c6da4a16822ae052a3e%20%3D%20L.popup%28%7B%22maxWidth%22%3A%20%22100%25%22%7D%29%3B%0A%0A%20%20%20%20%20%20%20%20%0A%20%20%20%20%20%20%20%20%20%20%20%20var%20html_d9133fe943734786bc959f6bb415ac03%20%3D%20%24%28%60%3Cdiv%20id%3D%22html_d9133fe943734786bc959f6bb415ac03%22%20style%3D%22width%3A%20100.0%25%3B%20height%3A%20100.0%25%3B%22%3EId%3A%20352%3Cbr%3EDundee%20Terrace%3Cbr%3EDescription%3A%20Dundee%20Terrace%20outside%20%22glass%20supplies%22%3Cbr%3E%3Cbr%3ECounts%3A%201759%3C/div%3E%60%29%5B0%5D%3B%0A%20%20%20%20%20%20%20%20%20%20%20%20popup_2f5703de4caf4c6da4a16822ae052a3e.setContent%28html_d9133fe943734786bc959f6bb415ac03%29%3B%0A%20%20%20%20%20%20%20%20%0A%0A%20%20%20%20%20%20%20%20marker_de6eb2f7fe004efda19dd2c3bfc18499.bindPopup%28popup_2f5703de4caf4c6da4a16822ae052a3e%29%0A%20%20%20%20%20%20%20%20%3B%0A%0A%20%20%20%20%20%20%20%20%0A%20%20%20%20%0A%20%20%20%20%0A%20%20%20%20%20%20%20%20%20%20%20%20var%20marker_e62ce86c609045b998fdaff19d75677b%20%3D%20L.marker%28%0A%20%20%20%20%20%20%20%20%20%20%20%20%20%20%20%20%5B55.94485886752089%2C%20-3.182589723460069%5D%2C%0A%20%20%20%20%20%20%20%20%20%20%20%20%20%20%20%20%7B%7D%0A%20%20%20%20%20%20%20%20%20%20%20%20%29.addTo%28marker_cluster_67359bb34138463b8bbaf6c2ba135992%29%3B%0A%20%20%20%20%20%20%20%20%0A%20%20%20%20%0A%20%20%20%20%20%20%20%20%20%20%20%20var%20icon_56bc416fbb424d9ea5993ae016388868%20%3D%20L.AwesomeMarkers.icon%28%0A%20%20%20%20%20%20%20%20%20%20%20%20%20%20%20%20%7B%22extraClasses%22%3A%20%22fa-rotate-0%22%2C%20%22icon%22%3A%20%22bicycle%22%2C%20%22iconColor%22%3A%20%22white%22%2C%20%22markerColor%22%3A%20%22red%22%2C%20%22prefic%22%3A%20%22fa%22%2C%20%22prefix%22%3A%20%22glyphicon%22%7D%0A%20%20%20%20%20%20%20%20%20%20%20%20%29%3B%0A%20%20%20%20%20%20%20%20%20%20%20%20marker_e62ce86c609045b998fdaff19d75677b.setIcon%28icon_56bc416fbb424d9ea5993ae016388868%29%3B%0A%20%20%20%20%20%20%20%20%0A%20%20%20%20%0A%20%20%20%20%20%20%20%20var%20popup_37c828f2ca8e48e0ae16d743531aa0ab%20%3D%20L.popup%28%7B%22maxWidth%22%3A%20%22100%25%22%7D%29%3B%0A%0A%20%20%20%20%20%20%20%20%0A%20%20%20%20%20%20%20%20%20%20%20%20var%20html_e6f1ed6a81844febb290edee3dd1f26b%20%3D%20%24%28%60%3Cdiv%20id%3D%22html_e6f1ed6a81844febb290edee3dd1f26b%22%20style%3D%22width%3A%20100.0%25%3B%20height%3A%20100.0%25%3B%22%3EId%3A%201726%3Cbr%3ESimon%20Square%3Cbr%3EDescription%3A%20Between%20Pleasance%20and%20Nicholson%20Street%3Cbr%3E%3Cbr%3ECounts%3A%201688%3C/div%3E%60%29%5B0%5D%3B%0A%20%20%20%20%20%20%20%20%20%20%20%20popup_37c828f2ca8e48e0ae16d743531aa0ab.setContent%28html_e6f1ed6a81844febb290edee3dd1f26b%29%3B%0A%20%20%20%20%20%20%20%20%0A%0A%20%20%20%20%20%20%20%20marker_e62ce86c609045b998fdaff19d75677b.bindPopup%28popup_37c828f2ca8e48e0ae16d743531aa0ab%29%0A%20%20%20%20%20%20%20%20%3B%0A%0A%20%20%20%20%20%20%20%20%0A%20%20%20%20%0A%20%20%20%20%0A%20%20%20%20%20%20%20%20%20%20%20%20var%20marker_3861811521314d3eac35ed3328c75f16%20%3D%20L.marker%28%0A%20%20%20%20%20%20%20%20%20%20%20%20%20%20%20%20%5B55.97544142756835%2C%20-3.166806411195239%5D%2C%0A%20%20%20%20%20%20%20%20%20%20%20%20%20%20%20%20%7B%7D%0A%20%20%20%20%20%20%20%20%20%20%20%20%29.addTo%28marker_cluster_67359bb34138463b8bbaf6c2ba135992%29%3B%0A%20%20%20%20%20%20%20%20%0A%20%20%20%20%0A%20%20%20%20%20%20%20%20%20%20%20%20var%20icon_e335bd93305548e9af903ced68166519%20%3D%20L.AwesomeMarkers.icon%28%0A%20%20%20%20%20%20%20%20%20%20%20%20%20%20%20%20%7B%22extraClasses%22%3A%20%22fa-rotate-0%22%2C%20%22icon%22%3A%20%22bicycle%22%2C%20%22iconColor%22%3A%20%22white%22%2C%20%22markerColor%22%3A%20%22red%22%2C%20%22prefic%22%3A%20%22fa%22%2C%20%22prefix%22%3A%20%22glyphicon%22%7D%0A%20%20%20%20%20%20%20%20%20%20%20%20%29%3B%0A%20%20%20%20%20%20%20%20%20%20%20%20marker_3861811521314d3eac35ed3328c75f16.setIcon%28icon_e335bd93305548e9af903ced68166519%29%3B%0A%20%20%20%20%20%20%20%20%0A%20%20%20%20%0A%20%20%20%20%20%20%20%20var%20popup_2a1c790f593c4fb485c4940f3cdd712e%20%3D%20L.popup%28%7B%22maxWidth%22%3A%20%22100%25%22%7D%29%3B%0A%0A%20%20%20%20%20%20%20%20%0A%20%20%20%20%20%20%20%20%20%20%20%20var%20html_14ebe7a5bc4840fc9d5be99473aa5467%20%3D%20%24%28%60%3Cdiv%20id%3D%22html_14ebe7a5bc4840fc9d5be99473aa5467%22%20style%3D%22width%3A%20100.0%25%3B%20height%3A%20100.0%25%3B%22%3EId%3A%201026%3Cbr%3EConstitution%20Street%3Cbr%3EDescription%3A%20Next%20to%20Burns%20Statue%3Cbr%3E%3Cbr%3ECounts%3A%201664%3C/div%3E%60%29%5B0%5D%3B%0A%20%20%20%20%20%20%20%20%20%20%20%20popup_2a1c790f593c4fb485c4940f3cdd712e.setContent%28html_14ebe7a5bc4840fc9d5be99473aa5467%29%3B%0A%20%20%20%20%20%20%20%20%0A%0A%20%20%20%20%20%20%20%20marker_3861811521314d3eac35ed3328c75f16.bindPopup%28popup_2a1c790f593c4fb485c4940f3cdd712e%29%0A%20%20%20%20%20%20%20%20%3B%0A%0A%20%20%20%20%20%20%20%20%0A%20%20%20%20%0A%20%20%20%20%0A%20%20%20%20%20%20%20%20%20%20%20%20var%20marker_61a9b04a85e64852b271c3f3a2e36efd%20%3D%20L.marker%28%0A%20%20%20%20%20%20%20%20%20%20%20%20%20%20%20%20%5B55.97593978299806%2C%20-3.191321207818646%5D%2C%0A%20%20%20%20%20%20%20%20%20%20%20%20%20%20%20%20%7B%7D%0A%20%20%20%20%20%20%20%20%20%20%20%20%29.addTo%28marker_cluster_67359bb34138463b8bbaf6c2ba135992%29%3B%0A%20%20%20%20%20%20%20%20%0A%20%20%20%20%0A%20%20%20%20%20%20%20%20%20%20%20%20var%20icon_2828ea1930b2435385a60e28476a3582%20%3D%20L.AwesomeMarkers.icon%28%0A%20%20%20%20%20%20%20%20%20%20%20%20%20%20%20%20%7B%22extraClasses%22%3A%20%22fa-rotate-0%22%2C%20%22icon%22%3A%20%22bicycle%22%2C%20%22iconColor%22%3A%20%22white%22%2C%20%22markerColor%22%3A%20%22red%22%2C%20%22prefic%22%3A%20%22fa%22%2C%20%22prefix%22%3A%20%22glyphicon%22%7D%0A%20%20%20%20%20%20%20%20%20%20%20%20%29%3B%0A%20%20%20%20%20%20%20%20%20%20%20%20marker_61a9b04a85e64852b271c3f3a2e36efd.setIcon%28icon_2828ea1930b2435385a60e28476a3582%29%3B%0A%20%20%20%20%20%20%20%20%0A%20%20%20%20%0A%20%20%20%20%20%20%20%20var%20popup_01fbdec8618149bfb4dfc5509803702f%20%3D%20L.popup%28%7B%22maxWidth%22%3A%20%22100%25%22%7D%29%3B%0A%0A%20%20%20%20%20%20%20%20%0A%20%20%20%20%20%20%20%20%20%20%20%20var%20html_963593d54b554c79a7923ec2676a50da%20%3D%20%24%28%60%3Cdiv%20id%3D%22html_963593d54b554c79a7923ec2676a50da%22%20style%3D%22width%3A%20100.0%25%3B%20height%3A%20100.0%25%3B%22%3EId%3A%201095%3Cbr%3EDudley%20Gardens%3Cbr%3EDescription%3A%20Opposite%20Victoria%20Park%20on%20Newhaven%20Road%3Cbr%3E%3Cbr%3ECounts%3A%201629%3C/div%3E%60%29%5B0%5D%3B%0A%20%20%20%20%20%20%20%20%20%20%20%20popup_01fbdec8618149bfb4dfc5509803702f.setContent%28html_963593d54b554c79a7923ec2676a50da%29%3B%0A%20%20%20%20%20%20%20%20%0A%0A%20%20%20%20%20%20%20%20marker_61a9b04a85e64852b271c3f3a2e36efd.bindPopup%28popup_01fbdec8618149bfb4dfc5509803702f%29%0A%20%20%20%20%20%20%20%20%3B%0A%0A%20%20%20%20%20%20%20%20%0A%20%20%20%20%0A%20%20%20%20%0A%20%20%20%20%20%20%20%20%20%20%20%20var%20marker_7c5ba2cfd6dc4702aba4e0cd48f807b2%20%3D%20L.marker%28%0A%20%20%20%20%20%20%20%20%20%20%20%20%20%20%20%20%5B55.93341635916104%2C%20-3.21239711224257%5D%2C%0A%20%20%20%20%20%20%20%20%20%20%20%20%20%20%20%20%7B%7D%0A%20%20%20%20%20%20%20%20%20%20%20%20%29.addTo%28marker_cluster_67359bb34138463b8bbaf6c2ba135992%29%3B%0A%20%20%20%20%20%20%20%20%0A%20%20%20%20%0A%20%20%20%20%20%20%20%20%20%20%20%20var%20icon_8e78894b9b2d41ec9dfa7c2d92c5d22a%20%3D%20L.AwesomeMarkers.icon%28%0A%20%20%20%20%20%20%20%20%20%20%20%20%20%20%20%20%7B%22extraClasses%22%3A%20%22fa-rotate-0%22%2C%20%22icon%22%3A%20%22bicycle%22%2C%20%22iconColor%22%3A%20%22white%22%2C%20%22markerColor%22%3A%20%22red%22%2C%20%22prefic%22%3A%20%22fa%22%2C%20%22prefix%22%3A%20%22glyphicon%22%7D%0A%20%20%20%20%20%20%20%20%20%20%20%20%29%3B%0A%20%20%20%20%20%20%20%20%20%20%20%20marker_7c5ba2cfd6dc4702aba4e0cd48f807b2.setIcon%28icon_8e78894b9b2d41ec9dfa7c2d92c5d22a%29%3B%0A%20%20%20%20%20%20%20%20%0A%20%20%20%20%0A%20%20%20%20%20%20%20%20var%20popup_4b5b72af72844c899e34fadfd0854674%20%3D%20L.popup%28%7B%22maxWidth%22%3A%20%22100%25%22%7D%29%3B%0A%0A%20%20%20%20%20%20%20%20%0A%20%20%20%20%20%20%20%20%20%20%20%20var%20html_a9dd5bf143cc46628315cc9b33ad841b%20%3D%20%24%28%60%3Cdiv%20id%3D%22html_a9dd5bf143cc46628315cc9b33ad841b%22%20style%3D%22width%3A%20100.0%25%3B%20height%3A%20100.0%25%3B%22%3EId%3A%201748%3Cbr%3EColinton%20Road%3Cbr%3EDescription%3A%20Near%20Napier%20University%20Merchiston%20Campus%3Cbr%3E%3Cbr%3ECounts%3A%201570%3C/div%3E%60%29%5B0%5D%3B%0A%20%20%20%20%20%20%20%20%20%20%20%20popup_4b5b72af72844c899e34fadfd0854674.setContent%28html_a9dd5bf143cc46628315cc9b33ad841b%29%3B%0A%20%20%20%20%20%20%20%20%0A%0A%20%20%20%20%20%20%20%20marker_7c5ba2cfd6dc4702aba4e0cd48f807b2.bindPopup%28popup_4b5b72af72844c899e34fadfd0854674%29%0A%20%20%20%20%20%20%20%20%3B%0A%0A%20%20%20%20%20%20%20%20%0A%20%20%20%20%0A%20%20%20%20%0A%20%20%20%20%20%20%20%20%20%20%20%20var%20marker_4bb3c486fb7342c494f8a719510710aa%20%3D%20L.marker%28%0A%20%20%20%20%20%20%20%20%20%20%20%20%20%20%20%20%5B55.92798551356313%2C%20-3.209738736635245%5D%2C%0A%20%20%20%20%20%20%20%20%20%20%20%20%20%20%20%20%7B%7D%0A%20%20%20%20%20%20%20%20%20%20%20%20%29.addTo%28marker_cluster_67359bb34138463b8bbaf6c2ba135992%29%3B%0A%20%20%20%20%20%20%20%20%0A%20%20%20%20%0A%20%20%20%20%20%20%20%20%20%20%20%20var%20icon_03a182f8baec43ffbb35a7536699c1f0%20%3D%20L.AwesomeMarkers.icon%28%0A%20%20%20%20%20%20%20%20%20%20%20%20%20%20%20%20%7B%22extraClasses%22%3A%20%22fa-rotate-0%22%2C%20%22icon%22%3A%20%22bicycle%22%2C%20%22iconColor%22%3A%20%22white%22%2C%20%22markerColor%22%3A%20%22red%22%2C%20%22prefic%22%3A%20%22fa%22%2C%20%22prefix%22%3A%20%22glyphicon%22%7D%0A%20%20%20%20%20%20%20%20%20%20%20%20%29%3B%0A%20%20%20%20%20%20%20%20%20%20%20%20marker_4bb3c486fb7342c494f8a719510710aa.setIcon%28icon_03a182f8baec43ffbb35a7536699c1f0%29%3B%0A%20%20%20%20%20%20%20%20%0A%20%20%20%20%0A%20%20%20%20%20%20%20%20var%20popup_0e64708282af4bd69d99ecdcc10b9b32%20%3D%20L.popup%28%7B%22maxWidth%22%3A%20%22100%25%22%7D%29%3B%0A%0A%20%20%20%20%20%20%20%20%0A%20%20%20%20%20%20%20%20%20%20%20%20var%20html_0dcc1b280938484391d6cabc3414dca3%20%3D%20%24%28%60%3Cdiv%20id%3D%22html_0dcc1b280938484391d6cabc3414dca3%22%20style%3D%22width%3A%20100.0%25%3B%20height%3A%20100.0%25%3B%22%3EId%3A%20346%3Cbr%3EMorningside%20Road%3Cbr%3EDescription%3A%20Corner%20of%20Morningside%20Road%20%26%20Morningside%20Park%20by%20M%20%26%20S%20car%20park%3Cbr%3E%3Cbr%3ECounts%3A%201541%3C/div%3E%60%29%5B0%5D%3B%0A%20%20%20%20%20%20%20%20%20%20%20%20popup_0e64708282af4bd69d99ecdcc10b9b32.setContent%28html_0dcc1b280938484391d6cabc3414dca3%29%3B%0A%20%20%20%20%20%20%20%20%0A%0A%20%20%20%20%20%20%20%20marker_4bb3c486fb7342c494f8a719510710aa.bindPopup%28popup_0e64708282af4bd69d99ecdcc10b9b32%29%0A%20%20%20%20%20%20%20%20%3B%0A%0A%20%20%20%20%20%20%20%20%0A%20%20%20%20%0A%20%20%20%20%0A%20%20%20%20%20%20%20%20%20%20%20%20var%20marker_63ba748cb23046eeab00ad9a4012a3ad%20%3D%20L.marker%28%0A%20%20%20%20%20%20%20%20%20%20%20%20%20%20%20%20%5B55.96791807044289%2C%20-3.17358629706473%5D%2C%0A%20%20%20%20%20%20%20%20%20%20%20%20%20%20%20%20%7B%7D%0A%20%20%20%20%20%20%20%20%20%20%20%20%29.addTo%28marker_cluster_67359bb34138463b8bbaf6c2ba135992%29%3B%0A%20%20%20%20%20%20%20%20%0A%20%20%20%20%0A%20%20%20%20%20%20%20%20%20%20%20%20var%20icon_a1e93e850034413b88c854c210613503%20%3D%20L.AwesomeMarkers.icon%28%0A%20%20%20%20%20%20%20%20%20%20%20%20%20%20%20%20%7B%22extraClasses%22%3A%20%22fa-rotate-0%22%2C%20%22icon%22%3A%20%22bicycle%22%2C%20%22iconColor%22%3A%20%22white%22%2C%20%22markerColor%22%3A%20%22red%22%2C%20%22prefic%22%3A%20%22fa%22%2C%20%22prefix%22%3A%20%22glyphicon%22%7D%0A%20%20%20%20%20%20%20%20%20%20%20%20%29%3B%0A%20%20%20%20%20%20%20%20%20%20%20%20marker_63ba748cb23046eeab00ad9a4012a3ad.setIcon%28icon_a1e93e850034413b88c854c210613503%29%3B%0A%20%20%20%20%20%20%20%20%0A%20%20%20%20%0A%20%20%20%20%20%20%20%20var%20popup_4e3d7ee4ed45422ca03e226161aaf45d%20%3D%20L.popup%28%7B%22maxWidth%22%3A%20%22100%25%22%7D%29%3B%0A%0A%20%20%20%20%20%20%20%20%0A%20%20%20%20%20%20%20%20%20%20%20%20var%20html_7e49ea09d1c94c98b827ea35d9ce7f16%20%3D%20%24%28%60%3Cdiv%20id%3D%22html_7e49ea09d1c94c98b827ea35d9ce7f16%22%20style%3D%22width%3A%20100.0%25%3B%20height%3A%20100.0%25%3B%22%3EId%3A%202259%3Cbr%3ELeith%20Walk%20North%3Cbr%3EDescription%3A%20Next%20to%20Allander%20House%3Cbr%3E%3Cbr%3ECounts%3A%201537%3C/div%3E%60%29%5B0%5D%3B%0A%20%20%20%20%20%20%20%20%20%20%20%20popup_4e3d7ee4ed45422ca03e226161aaf45d.setContent%28html_7e49ea09d1c94c98b827ea35d9ce7f16%29%3B%0A%20%20%20%20%20%20%20%20%0A%0A%20%20%20%20%20%20%20%20marker_63ba748cb23046eeab00ad9a4012a3ad.bindPopup%28popup_4e3d7ee4ed45422ca03e226161aaf45d%29%0A%20%20%20%20%20%20%20%20%3B%0A%0A%20%20%20%20%20%20%20%20%0A%20%20%20%20%0A%20%20%20%20%0A%20%20%20%20%20%20%20%20%20%20%20%20var%20marker_30bb5de9d82c486291e9a8deccf23cfa%20%3D%20L.marker%28%0A%20%20%20%20%20%20%20%20%20%20%20%20%20%20%20%20%5B55.921220122613306%2C%20-3.13907555503124%5D%2C%0A%20%20%20%20%20%20%20%20%20%20%20%20%20%20%20%20%7B%7D%0A%20%20%20%20%20%20%20%20%20%20%20%20%29.addTo%28marker_cluster_67359bb34138463b8bbaf6c2ba135992%29%3B%0A%20%20%20%20%20%20%20%20%0A%20%20%20%20%0A%20%20%20%20%20%20%20%20%20%20%20%20var%20icon_e4a3a180ba4348099302e09ee9dcbd95%20%3D%20L.AwesomeMarkers.icon%28%0A%20%20%20%20%20%20%20%20%20%20%20%20%20%20%20%20%7B%22extraClasses%22%3A%20%22fa-rotate-0%22%2C%20%22icon%22%3A%20%22bicycle%22%2C%20%22iconColor%22%3A%20%22white%22%2C%20%22markerColor%22%3A%20%22red%22%2C%20%22prefic%22%3A%20%22fa%22%2C%20%22prefix%22%3A%20%22glyphicon%22%7D%0A%20%20%20%20%20%20%20%20%20%20%20%20%29%3B%0A%20%20%20%20%20%20%20%20%20%20%20%20marker_30bb5de9d82c486291e9a8deccf23cfa.setIcon%28icon_e4a3a180ba4348099302e09ee9dcbd95%29%3B%0A%20%20%20%20%20%20%20%20%0A%20%20%20%20%0A%20%20%20%20%20%20%20%20var%20popup_99a38929e84544ed9ac67c7e1e881fa6%20%3D%20L.popup%28%7B%22maxWidth%22%3A%20%22100%25%22%7D%29%3B%0A%0A%20%20%20%20%20%20%20%20%0A%20%20%20%20%20%20%20%20%20%20%20%20var%20html_d1eec6463be744bba216093e4f250b33%20%3D%20%24%28%60%3Cdiv%20id%3D%22html_d1eec6463be744bba216093e4f250b33%22%20style%3D%22width%3A%20100.0%25%3B%20height%3A%20100.0%25%3B%22%3EId%3A%201739%3Cbr%3EEdinburgh%20Royal%20Infirmary%3Cbr%3EDescription%3A%20Front%20of%20new%20Sick%20Kids%20Hospital%3Cbr%3E%3Cbr%3ECounts%3A%201529%3C/div%3E%60%29%5B0%5D%3B%0A%20%20%20%20%20%20%20%20%20%20%20%20popup_99a38929e84544ed9ac67c7e1e881fa6.setContent%28html_d1eec6463be744bba216093e4f250b33%29%3B%0A%20%20%20%20%20%20%20%20%0A%0A%20%20%20%20%20%20%20%20marker_30bb5de9d82c486291e9a8deccf23cfa.bindPopup%28popup_99a38929e84544ed9ac67c7e1e881fa6%29%0A%20%20%20%20%20%20%20%20%3B%0A%0A%20%20%20%20%20%20%20%20%0A%20%20%20%20%0A%20%20%20%20%0A%20%20%20%20%20%20%20%20%20%20%20%20var%20marker_97d45604767541fcabc9931416302b29%20%3D%20L.marker%28%0A%20%20%20%20%20%20%20%20%20%20%20%20%20%20%20%20%5B55.969442746098885%2C%20-3.307258798472374%5D%2C%0A%20%20%20%20%20%20%20%20%20%20%20%20%20%20%20%20%7B%7D%0A%20%20%20%20%20%20%20%20%20%20%20%20%29.addTo%28marker_cluster_67359bb34138463b8bbaf6c2ba135992%29%3B%0A%20%20%20%20%20%20%20%20%0A%20%20%20%20%0A%20%20%20%20%20%20%20%20%20%20%20%20var%20icon_c538397506b746d78ae9f7ca14bff25d%20%3D%20L.AwesomeMarkers.icon%28%0A%20%20%20%20%20%20%20%20%20%20%20%20%20%20%20%20%7B%22extraClasses%22%3A%20%22fa-rotate-0%22%2C%20%22icon%22%3A%20%22bicycle%22%2C%20%22iconColor%22%3A%20%22white%22%2C%20%22markerColor%22%3A%20%22red%22%2C%20%22prefic%22%3A%20%22fa%22%2C%20%22prefix%22%3A%20%22glyphicon%22%7D%0A%20%20%20%20%20%20%20%20%20%20%20%20%29%3B%0A%20%20%20%20%20%20%20%20%20%20%20%20marker_97d45604767541fcabc9931416302b29.setIcon%28icon_c538397506b746d78ae9f7ca14bff25d%29%3B%0A%20%20%20%20%20%20%20%20%0A%20%20%20%20%0A%20%20%20%20%20%20%20%20var%20popup_20167733683941829849b2094edb936a%20%3D%20L.popup%28%7B%22maxWidth%22%3A%20%22100%25%22%7D%29%3B%0A%0A%20%20%20%20%20%20%20%20%0A%20%20%20%20%20%20%20%20%20%20%20%20var%20html_8cdc3b697ca742989cd605f70f6d7ce5%20%3D%20%24%28%60%3Cdiv%20id%3D%22html_8cdc3b697ca742989cd605f70f6d7ce5%22%20style%3D%22width%3A%20100.0%25%3B%20height%3A%20100.0%25%3B%22%3EId%3A%201807%3Cbr%3EGamekeeper%27s%20Road%3Cbr%3EDescription%3A%20Junction%20with%20Whitehouse%20Road%3Cbr%3E%3Cbr%3ECounts%3A%201527%3C/div%3E%60%29%5B0%5D%3B%0A%20%20%20%20%20%20%20%20%20%20%20%20popup_20167733683941829849b2094edb936a.setContent%28html_8cdc3b697ca742989cd605f70f6d7ce5%29%3B%0A%20%20%20%20%20%20%20%20%0A%0A%20%20%20%20%20%20%20%20marker_97d45604767541fcabc9931416302b29.bindPopup%28popup_20167733683941829849b2094edb936a%29%0A%20%20%20%20%20%20%20%20%3B%0A%0A%20%20%20%20%20%20%20%20%0A%20%20%20%20%0A%20%20%20%20%0A%20%20%20%20%20%20%20%20%20%20%20%20var%20marker_08e3beea021d49c48dc3d81c9ff31653%20%3D%20L.marker%28%0A%20%20%20%20%20%20%20%20%20%20%20%20%20%20%20%20%5B55.957278012740645%2C%20-3.214285387389054%5D%2C%0A%20%20%20%20%20%20%20%20%20%20%20%20%20%20%20%20%7B%7D%0A%20%20%20%20%20%20%20%20%20%20%20%20%29.addTo%28marker_cluster_67359bb34138463b8bbaf6c2ba135992%29%3B%0A%20%20%20%20%20%20%20%20%0A%20%20%20%20%0A%20%20%20%20%20%20%20%20%20%20%20%20var%20icon_767642f1163245359ae75e48ea423960%20%3D%20L.AwesomeMarkers.icon%28%0A%20%20%20%20%20%20%20%20%20%20%20%20%20%20%20%20%7B%22extraClasses%22%3A%20%22fa-rotate-0%22%2C%20%22icon%22%3A%20%22bicycle%22%2C%20%22iconColor%22%3A%20%22white%22%2C%20%22markerColor%22%3A%20%22red%22%2C%20%22prefic%22%3A%20%22fa%22%2C%20%22prefix%22%3A%20%22glyphicon%22%7D%0A%20%20%20%20%20%20%20%20%20%20%20%20%29%3B%0A%20%20%20%20%20%20%20%20%20%20%20%20marker_08e3beea021d49c48dc3d81c9ff31653.setIcon%28icon_767642f1163245359ae75e48ea423960%29%3B%0A%20%20%20%20%20%20%20%20%0A%20%20%20%20%0A%20%20%20%20%20%20%20%20var%20popup_3200322e77804be68c7112d4076edc49%20%3D%20L.popup%28%7B%22maxWidth%22%3A%20%22100%25%22%7D%29%3B%0A%0A%20%20%20%20%20%20%20%20%0A%20%20%20%20%20%20%20%20%20%20%20%20var%20html_06a55271fc2f4396bc187d2ba7f42d4e%20%3D%20%24%28%60%3Cdiv%20id%3D%22html_06a55271fc2f4396bc187d2ba7f42d4e%22%20style%3D%22width%3A%20100.0%25%3B%20height%3A%20100.0%25%3B%22%3EId%3A%201749%3Cbr%3EDean%20Street%3Cbr%3EDescription%3A%20Corner%20of%20Dean%20Park%20Mews%3Cbr%3E%3Cbr%3ECounts%3A%201519%3C/div%3E%60%29%5B0%5D%3B%0A%20%20%20%20%20%20%20%20%20%20%20%20popup_3200322e77804be68c7112d4076edc49.setContent%28html_06a55271fc2f4396bc187d2ba7f42d4e%29%3B%0A%20%20%20%20%20%20%20%20%0A%0A%20%20%20%20%20%20%20%20marker_08e3beea021d49c48dc3d81c9ff31653.bindPopup%28popup_3200322e77804be68c7112d4076edc49%29%0A%20%20%20%20%20%20%20%20%3B%0A%0A%20%20%20%20%20%20%20%20%0A%20%20%20%20%0A%20%20%20%20%0A%20%20%20%20%20%20%20%20%20%20%20%20var%20marker_8615f12b8402452b804ab9fd86b5b4de%20%3D%20L.marker%28%0A%20%20%20%20%20%20%20%20%20%20%20%20%20%20%20%20%5B55.95653524179326%2C%20-3.18624761207468%5D%2C%0A%20%20%20%20%20%20%20%20%20%20%20%20%20%20%20%20%7B%7D%0A%20%20%20%20%20%20%20%20%20%20%20%20%29.addTo%28marker_cluster_67359bb34138463b8bbaf6c2ba135992%29%3B%0A%20%20%20%20%20%20%20%20%0A%20%20%20%20%0A%20%20%20%20%20%20%20%20%20%20%20%20var%20icon_9d92046d7d154935922ac67e7e994b82%20%3D%20L.AwesomeMarkers.icon%28%0A%20%20%20%20%20%20%20%20%20%20%20%20%20%20%20%20%7B%22extraClasses%22%3A%20%22fa-rotate-0%22%2C%20%22icon%22%3A%20%22bicycle%22%2C%20%22iconColor%22%3A%20%22white%22%2C%20%22markerColor%22%3A%20%22red%22%2C%20%22prefic%22%3A%20%22fa%22%2C%20%22prefix%22%3A%20%22glyphicon%22%7D%0A%20%20%20%20%20%20%20%20%20%20%20%20%29%3B%0A%20%20%20%20%20%20%20%20%20%20%20%20marker_8615f12b8402452b804ab9fd86b5b4de.setIcon%28icon_9d92046d7d154935922ac67e7e994b82%29%3B%0A%20%20%20%20%20%20%20%20%0A%20%20%20%20%0A%20%20%20%20%20%20%20%20var%20popup_c988f14b7bd74f57a4e2e042d58d3d27%20%3D%20L.popup%28%7B%22maxWidth%22%3A%20%22100%25%22%7D%29%3B%0A%0A%20%20%20%20%20%20%20%20%0A%20%20%20%20%20%20%20%20%20%20%20%20var%20html_33f0596275d24d59892b51f27a60dbe2%20%3D%20%24%28%60%3Cdiv%20id%3D%22html_33f0596275d24d59892b51f27a60dbe2%22%20style%3D%22width%3A%20100.0%25%3B%20height%3A%20100.0%25%3B%22%3EId%3A%202268%3Cbr%3EPicardy%20Place%3Cbr%3EDescription%3A%20Outside%20Omni%20Centre%3Cbr%3E%3Cbr%3ECounts%3A%201474%3C/div%3E%60%29%5B0%5D%3B%0A%20%20%20%20%20%20%20%20%20%20%20%20popup_c988f14b7bd74f57a4e2e042d58d3d27.setContent%28html_33f0596275d24d59892b51f27a60dbe2%29%3B%0A%20%20%20%20%20%20%20%20%0A%0A%20%20%20%20%20%20%20%20marker_8615f12b8402452b804ab9fd86b5b4de.bindPopup%28popup_c988f14b7bd74f57a4e2e042d58d3d27%29%0A%20%20%20%20%20%20%20%20%3B%0A%0A%20%20%20%20%20%20%20%20%0A%20%20%20%20%0A%20%20%20%20%0A%20%20%20%20%20%20%20%20%20%20%20%20var%20marker_1ccb6e2dfde6475d85f6ea368da4ac3b%20%3D%20L.marker%28%0A%20%20%20%20%20%20%20%20%20%20%20%20%20%20%20%20%5B55.952641035774384%2C%20-3.187526919462357%5D%2C%0A%20%20%20%20%20%20%20%20%20%20%20%20%20%20%20%20%7B%7D%0A%20%20%20%20%20%20%20%20%20%20%20%20%29.addTo%28marker_cluster_67359bb34138463b8bbaf6c2ba135992%29%3B%0A%20%20%20%20%20%20%20%20%0A%20%20%20%20%0A%20%20%20%20%20%20%20%20%20%20%20%20var%20icon_5cc05efffef847e391e05572e6eaaa27%20%3D%20L.AwesomeMarkers.icon%28%0A%20%20%20%20%20%20%20%20%20%20%20%20%20%20%20%20%7B%22extraClasses%22%3A%20%22fa-rotate-0%22%2C%20%22icon%22%3A%20%22bicycle%22%2C%20%22iconColor%22%3A%20%22white%22%2C%20%22markerColor%22%3A%20%22red%22%2C%20%22prefic%22%3A%20%22fa%22%2C%20%22prefix%22%3A%20%22glyphicon%22%7D%0A%20%20%20%20%20%20%20%20%20%20%20%20%29%3B%0A%20%20%20%20%20%20%20%20%20%20%20%20marker_1ccb6e2dfde6475d85f6ea368da4ac3b.setIcon%28icon_5cc05efffef847e391e05572e6eaaa27%29%3B%0A%20%20%20%20%20%20%20%20%0A%20%20%20%20%0A%20%20%20%20%20%20%20%20var%20popup_e7f5fd3c99f94cb28367b420e0920002%20%3D%20L.popup%28%7B%22maxWidth%22%3A%20%22100%25%22%7D%29%3B%0A%0A%20%20%20%20%20%20%20%20%0A%20%20%20%20%20%20%20%20%20%20%20%20var%20html_0719faffe5aa46049e9b2199e4291911%20%3D%20%24%28%60%3Cdiv%20id%3D%22html_0719faffe5aa46049e9b2199e4291911%22%20style%3D%22width%3A%20100.0%25%3B%20height%3A%20100.0%25%3B%22%3EId%3A%20251%3Cbr%3EWaverley%20Station%3Cbr%3EDescription%3A%20Platform%20level%20near%20Calton%20Road%20Exit%3Cbr%3E%3Cbr%3ECounts%3A%201460%3C/div%3E%60%29%5B0%5D%3B%0A%20%20%20%20%20%20%20%20%20%20%20%20popup_e7f5fd3c99f94cb28367b420e0920002.setContent%28html_0719faffe5aa46049e9b2199e4291911%29%3B%0A%20%20%20%20%20%20%20%20%0A%0A%20%20%20%20%20%20%20%20marker_1ccb6e2dfde6475d85f6ea368da4ac3b.bindPopup%28popup_e7f5fd3c99f94cb28367b420e0920002%29%0A%20%20%20%20%20%20%20%20%3B%0A%0A%20%20%20%20%20%20%20%20%0A%20%20%20%20%0A%20%20%20%20%0A%20%20%20%20%20%20%20%20%20%20%20%20var%20marker_d14ad3a626ca4f91b7c827d40d2cd604%20%3D%20L.marker%28%0A%20%20%20%20%20%20%20%20%20%20%20%20%20%20%20%20%5B55.94166971920444%2C%20-3.271523727766862%5D%2C%0A%20%20%20%20%20%20%20%20%20%20%20%20%20%20%20%20%7B%7D%0A%20%20%20%20%20%20%20%20%20%20%20%20%29.addTo%28marker_cluster_67359bb34138463b8bbaf6c2ba135992%29%3B%0A%20%20%20%20%20%20%20%20%0A%20%20%20%20%0A%20%20%20%20%20%20%20%20%20%20%20%20var%20icon_ae465da1c4ee443db75e044167246cbb%20%3D%20L.AwesomeMarkers.icon%28%0A%20%20%20%20%20%20%20%20%20%20%20%20%20%20%20%20%7B%22extraClasses%22%3A%20%22fa-rotate-0%22%2C%20%22icon%22%3A%20%22bicycle%22%2C%20%22iconColor%22%3A%20%22white%22%2C%20%22markerColor%22%3A%20%22red%22%2C%20%22prefic%22%3A%20%22fa%22%2C%20%22prefix%22%3A%20%22glyphicon%22%7D%0A%20%20%20%20%20%20%20%20%20%20%20%20%29%3B%0A%20%20%20%20%20%20%20%20%20%20%20%20marker_d14ad3a626ca4f91b7c827d40d2cd604.setIcon%28icon_ae465da1c4ee443db75e044167246cbb%29%3B%0A%20%20%20%20%20%20%20%20%0A%20%20%20%20%0A%20%20%20%20%20%20%20%20var%20popup_98d224147b3c46b7b7f4625024e371a1%20%3D%20L.popup%28%7B%22maxWidth%22%3A%20%22100%25%22%7D%29%3B%0A%0A%20%20%20%20%20%20%20%20%0A%20%20%20%20%20%20%20%20%20%20%20%20var%20html_d4ad8fa9bea4471bb084f06cd8fdd6f7%20%3D%20%24%28%60%3Cdiv%20id%3D%22html_d4ad8fa9bea4471bb084f06cd8fdd6f7%22%20style%3D%22width%3A%20100.0%25%3B%20height%3A%20100.0%25%3B%22%3EId%3A%201747%3Cbr%3ECorstorphine%20Road%3Cbr%3EDescription%3A%20Outside%20Silvan%20House%2C%20Forestry%20and%20Land%20Scotland%3Cbr%3E%3Cbr%3ECounts%3A%201456%3C/div%3E%60%29%5B0%5D%3B%0A%20%20%20%20%20%20%20%20%20%20%20%20popup_98d224147b3c46b7b7f4625024e371a1.setContent%28html_d4ad8fa9bea4471bb084f06cd8fdd6f7%29%3B%0A%20%20%20%20%20%20%20%20%0A%0A%20%20%20%20%20%20%20%20marker_d14ad3a626ca4f91b7c827d40d2cd604.bindPopup%28popup_98d224147b3c46b7b7f4625024e371a1%29%0A%20%20%20%20%20%20%20%20%3B%0A%0A%20%20%20%20%20%20%20%20%0A%20%20%20%20%0A%20%20%20%20%0A%20%20%20%20%20%20%20%20%20%20%20%20var%20marker_77af41d3a56a416dab8e6afdba978b29%20%3D%20L.marker%28%0A%20%20%20%20%20%20%20%20%20%20%20%20%20%20%20%20%5B55.95508276879095%2C%20-3.223634263956455%5D%2C%0A%20%20%20%20%20%20%20%20%20%20%20%20%20%20%20%20%7B%7D%0A%20%20%20%20%20%20%20%20%20%20%20%20%29.addTo%28marker_cluster_67359bb34138463b8bbaf6c2ba135992%29%3B%0A%20%20%20%20%20%20%20%20%0A%20%20%20%20%0A%20%20%20%20%20%20%20%20%20%20%20%20var%20icon_53dd3e494ff84301a84c005b547594c4%20%3D%20L.AwesomeMarkers.icon%28%0A%20%20%20%20%20%20%20%20%20%20%20%20%20%20%20%20%7B%22extraClasses%22%3A%20%22fa-rotate-0%22%2C%20%22icon%22%3A%20%22bicycle%22%2C%20%22iconColor%22%3A%20%22white%22%2C%20%22markerColor%22%3A%20%22red%22%2C%20%22prefic%22%3A%20%22fa%22%2C%20%22prefix%22%3A%20%22glyphicon%22%7D%0A%20%20%20%20%20%20%20%20%20%20%20%20%29%3B%0A%20%20%20%20%20%20%20%20%20%20%20%20marker_77af41d3a56a416dab8e6afdba978b29.setIcon%28icon_53dd3e494ff84301a84c005b547594c4%29%3B%0A%20%20%20%20%20%20%20%20%0A%20%20%20%20%0A%20%20%20%20%20%20%20%20var%20popup_6d27c2c38c3947379babbfc4ace3cc39%20%3D%20L.popup%28%7B%22maxWidth%22%3A%20%22100%25%22%7D%29%3B%0A%0A%20%20%20%20%20%20%20%20%0A%20%20%20%20%20%20%20%20%20%20%20%20var%20html_f7c824c2bfd64e1bbfd9e9f07aafa8fa%20%3D%20%24%28%60%3Cdiv%20id%3D%22html_f7c824c2bfd64e1bbfd9e9f07aafa8fa%22%20style%3D%22width%3A%20100.0%25%3B%20height%3A%20100.0%25%3B%22%3EId%3A%20349%3Cbr%3EOrchard%20Brae%20House%3Cbr%3EDescription%3A%20Outside%20Orchard%20Brae%20House%20on%20Queensferry%20Road%3Cbr%3E%3Cbr%3ECounts%3A%201390%3C/div%3E%60%29%5B0%5D%3B%0A%20%20%20%20%20%20%20%20%20%20%20%20popup_6d27c2c38c3947379babbfc4ace3cc39.setContent%28html_f7c824c2bfd64e1bbfd9e9f07aafa8fa%29%3B%0A%20%20%20%20%20%20%20%20%0A%0A%20%20%20%20%20%20%20%20marker_77af41d3a56a416dab8e6afdba978b29.bindPopup%28popup_6d27c2c38c3947379babbfc4ace3cc39%29%0A%20%20%20%20%20%20%20%20%3B%0A%0A%20%20%20%20%20%20%20%20%0A%20%20%20%20%0A%20%20%20%20%0A%20%20%20%20%20%20%20%20%20%20%20%20var%20marker_b35432ed7b2b4f6593d6ced1322d6381%20%3D%20L.marker%28%0A%20%20%20%20%20%20%20%20%20%20%20%20%20%20%20%20%5B55.93715871276677%2C%20-3.206435329645956%5D%2C%0A%20%20%20%20%20%20%20%20%20%20%20%20%20%20%20%20%7B%7D%0A%20%20%20%20%20%20%20%20%20%20%20%20%29.addTo%28marker_cluster_67359bb34138463b8bbaf6c2ba135992%29%3B%0A%20%20%20%20%20%20%20%20%0A%20%20%20%20%0A%20%20%20%20%20%20%20%20%20%20%20%20var%20icon_da25a849b36e411280d0d2c43cfbeeaa%20%3D%20L.AwesomeMarkers.icon%28%0A%20%20%20%20%20%20%20%20%20%20%20%20%20%20%20%20%7B%22extraClasses%22%3A%20%22fa-rotate-0%22%2C%20%22icon%22%3A%20%22bicycle%22%2C%20%22iconColor%22%3A%20%22white%22%2C%20%22markerColor%22%3A%20%22red%22%2C%20%22prefic%22%3A%20%22fa%22%2C%20%22prefix%22%3A%20%22glyphicon%22%7D%0A%20%20%20%20%20%20%20%20%20%20%20%20%29%3B%0A%20%20%20%20%20%20%20%20%20%20%20%20marker_b35432ed7b2b4f6593d6ced1322d6381.setIcon%28icon_da25a849b36e411280d0d2c43cfbeeaa%29%3B%0A%20%20%20%20%20%20%20%20%0A%20%20%20%20%0A%20%20%20%20%20%20%20%20var%20popup_0cb9638c10ac408e952be80f2327e9d3%20%3D%20L.popup%28%7B%22maxWidth%22%3A%20%22100%25%22%7D%29%3B%0A%0A%20%20%20%20%20%20%20%20%0A%20%20%20%20%20%20%20%20%20%20%20%20var%20html_1d621411b0344c8ca62f09f6f29cd000%20%3D%20%24%28%60%3Cdiv%20id%3D%22html_1d621411b0344c8ca62f09f6f29cd000%22%20style%3D%22width%3A%20100.0%25%3B%20height%3A%20100.0%25%3B%22%3EId%3A%20290%3Cbr%3EBruntsfield%3Cbr%3EDescription%3A%20Corner%20of%20Bruntsfield%20Terrace%20and%20Bruntsfield%20Place%3Cbr%3E%3Cbr%3ECounts%3A%201389%3C/div%3E%60%29%5B0%5D%3B%0A%20%20%20%20%20%20%20%20%20%20%20%20popup_0cb9638c10ac408e952be80f2327e9d3.setContent%28html_1d621411b0344c8ca62f09f6f29cd000%29%3B%0A%20%20%20%20%20%20%20%20%0A%0A%20%20%20%20%20%20%20%20marker_b35432ed7b2b4f6593d6ced1322d6381.bindPopup%28popup_0cb9638c10ac408e952be80f2327e9d3%29%0A%20%20%20%20%20%20%20%20%3B%0A%0A%20%20%20%20%20%20%20%20%0A%20%20%20%20%0A%20%20%20%20%0A%20%20%20%20%20%20%20%20%20%20%20%20var%20marker_6b5a54dca07a495b8f560804f5e6ca52%20%3D%20L.marker%28%0A%20%20%20%20%20%20%20%20%20%20%20%20%20%20%20%20%5B55.94406627599551%2C%20-3.098561479441612%5D%2C%0A%20%20%20%20%20%20%20%20%20%20%20%20%20%20%20%20%7B%7D%0A%20%20%20%20%20%20%20%20%20%20%20%20%29.addTo%28marker_cluster_67359bb34138463b8bbaf6c2ba135992%29%3B%0A%20%20%20%20%20%20%20%20%0A%20%20%20%20%0A%20%20%20%20%20%20%20%20%20%20%20%20var%20icon_efea4eee34214f33abe0f07f8187f3df%20%3D%20L.AwesomeMarkers.icon%28%0A%20%20%20%20%20%20%20%20%20%20%20%20%20%20%20%20%7B%22extraClasses%22%3A%20%22fa-rotate-0%22%2C%20%22icon%22%3A%20%22bicycle%22%2C%20%22iconColor%22%3A%20%22white%22%2C%20%22markerColor%22%3A%20%22red%22%2C%20%22prefic%22%3A%20%22fa%22%2C%20%22prefix%22%3A%20%22glyphicon%22%7D%0A%20%20%20%20%20%20%20%20%20%20%20%20%29%3B%0A%20%20%20%20%20%20%20%20%20%20%20%20marker_6b5a54dca07a495b8f560804f5e6ca52.setIcon%28icon_efea4eee34214f33abe0f07f8187f3df%29%3B%0A%20%20%20%20%20%20%20%20%0A%20%20%20%20%0A%20%20%20%20%20%20%20%20var%20popup_8de350de22ac4283856e6e7fd8136e66%20%3D%20L.popup%28%7B%22maxWidth%22%3A%20%22100%25%22%7D%29%3B%0A%0A%20%20%20%20%20%20%20%20%0A%20%20%20%20%20%20%20%20%20%20%20%20var%20html_dfe40f51eaec43529785d42f32816c9a%20%3D%20%24%28%60%3Cdiv%20id%3D%22html_dfe40f51eaec43529785d42f32816c9a%22%20style%3D%22width%3A%20100.0%25%3B%20height%3A%20100.0%25%3B%22%3EId%3A%201813%3Cbr%3EMilton%20Road%20-%20Edinburgh%20College%3Cbr%3EDescription%3A%20Milton%20Road%20Campus%3Cbr%3E%3Cbr%3ECounts%3A%201364%3C/div%3E%60%29%5B0%5D%3B%0A%20%20%20%20%20%20%20%20%20%20%20%20popup_8de350de22ac4283856e6e7fd8136e66.setContent%28html_dfe40f51eaec43529785d42f32816c9a%29%3B%0A%20%20%20%20%20%20%20%20%0A%0A%20%20%20%20%20%20%20%20marker_6b5a54dca07a495b8f560804f5e6ca52.bindPopup%28popup_8de350de22ac4283856e6e7fd8136e66%29%0A%20%20%20%20%20%20%20%20%3B%0A%0A%20%20%20%20%20%20%20%20%0A%20%20%20%20%0A%20%20%20%20%0A%20%20%20%20%20%20%20%20%20%20%20%20var%20marker_ded119fa72df4c0da28de17c8630119f%20%3D%20L.marker%28%0A%20%20%20%20%20%20%20%20%20%20%20%20%20%20%20%20%5B55.94760044619224%2C%20-3.188919736735215%5D%2C%0A%20%20%20%20%20%20%20%20%20%20%20%20%20%20%20%20%7B%7D%0A%20%20%20%20%20%20%20%20%20%20%20%20%29.addTo%28marker_cluster_67359bb34138463b8bbaf6c2ba135992%29%3B%0A%20%20%20%20%20%20%20%20%0A%20%20%20%20%0A%20%20%20%20%20%20%20%20%20%20%20%20var%20icon_0d0c4d8be3174ebbb47b2903efa776c7%20%3D%20L.AwesomeMarkers.icon%28%0A%20%20%20%20%20%20%20%20%20%20%20%20%20%20%20%20%7B%22extraClasses%22%3A%20%22fa-rotate-0%22%2C%20%22icon%22%3A%20%22bicycle%22%2C%20%22iconColor%22%3A%20%22white%22%2C%20%22markerColor%22%3A%20%22red%22%2C%20%22prefic%22%3A%20%22fa%22%2C%20%22prefix%22%3A%20%22glyphicon%22%7D%0A%20%20%20%20%20%20%20%20%20%20%20%20%29%3B%0A%20%20%20%20%20%20%20%20%20%20%20%20marker_ded119fa72df4c0da28de17c8630119f.setIcon%28icon_0d0c4d8be3174ebbb47b2903efa776c7%29%3B%0A%20%20%20%20%20%20%20%20%0A%20%20%20%20%0A%20%20%20%20%20%20%20%20var%20popup_735525246d7846058a3bd69734b2ddd0%20%3D%20L.popup%28%7B%22maxWidth%22%3A%20%22100%25%22%7D%29%3B%0A%0A%20%20%20%20%20%20%20%20%0A%20%20%20%20%20%20%20%20%20%20%20%20var%20html_9976f6138e1146718739c866d244962b%20%3D%20%24%28%60%3Cdiv%20id%3D%22html_9976f6138e1146718739c866d244962b%22%20style%3D%22width%3A%20100.0%25%3B%20height%3A%20100.0%25%3B%22%3EId%3A%201798%3Cbr%3EChambers%20Street%3Cbr%3EDescription%3A%20Outside%20National%20Museum%3Cbr%3E%3Cbr%3ECounts%3A%201359%3C/div%3E%60%29%5B0%5D%3B%0A%20%20%20%20%20%20%20%20%20%20%20%20popup_735525246d7846058a3bd69734b2ddd0.setContent%28html_9976f6138e1146718739c866d244962b%29%3B%0A%20%20%20%20%20%20%20%20%0A%0A%20%20%20%20%20%20%20%20marker_ded119fa72df4c0da28de17c8630119f.bindPopup%28popup_735525246d7846058a3bd69734b2ddd0%29%0A%20%20%20%20%20%20%20%20%3B%0A%0A%20%20%20%20%20%20%20%20%0A%20%20%20%20%0A%20%20%20%20%0A%20%20%20%20%20%20%20%20%20%20%20%20var%20marker_e02d5d82d79c49b8bca575df2b8e8b17%20%3D%20L.marker%28%0A%20%20%20%20%20%20%20%20%20%20%20%20%20%20%20%20%5B55.931980482636575%2C%20-3.073104633681168%5D%2C%0A%20%20%20%20%20%20%20%20%20%20%20%20%20%20%20%20%7B%7D%0A%20%20%20%20%20%20%20%20%20%20%20%20%29.addTo%28marker_cluster_67359bb34138463b8bbaf6c2ba135992%29%3B%0A%20%20%20%20%20%20%20%20%0A%20%20%20%20%0A%20%20%20%20%20%20%20%20%20%20%20%20var%20icon_2506fffee7d24a0aa06ca732cea91a4a%20%3D%20L.AwesomeMarkers.icon%28%0A%20%20%20%20%20%20%20%20%20%20%20%20%20%20%20%20%7B%22extraClasses%22%3A%20%22fa-rotate-0%22%2C%20%22icon%22%3A%20%22bicycle%22%2C%20%22iconColor%22%3A%20%22white%22%2C%20%22markerColor%22%3A%20%22red%22%2C%20%22prefic%22%3A%20%22fa%22%2C%20%22prefix%22%3A%20%22glyphicon%22%7D%0A%20%20%20%20%20%20%20%20%20%20%20%20%29%3B%0A%20%20%20%20%20%20%20%20%20%20%20%20marker_e02d5d82d79c49b8bca575df2b8e8b17.setIcon%28icon_2506fffee7d24a0aa06ca732cea91a4a%29%3B%0A%20%20%20%20%20%20%20%20%0A%20%20%20%20%0A%20%20%20%20%20%20%20%20var%20popup_7e01cb65241748cfa22239a18b9f51cb%20%3D%20L.popup%28%7B%22maxWidth%22%3A%20%22100%25%22%7D%29%3B%0A%0A%20%20%20%20%20%20%20%20%0A%20%20%20%20%20%20%20%20%20%20%20%20var%20html_ae79e82ffac94fb0b4e17f6af00f1221%20%3D%20%24%28%60%3Cdiv%20id%3D%22html_ae79e82ffac94fb0b4e17f6af00f1221%22%20style%3D%22width%3A%20100.0%25%3B%20height%3A%20100.0%25%3B%22%3EId%3A%201758%3Cbr%3EQueen%20Margaret%20University%3Cbr%3EDescription%3A%20University%20Courtyard%3Cbr%3E%3Cbr%3ECounts%3A%201354%3C/div%3E%60%29%5B0%5D%3B%0A%20%20%20%20%20%20%20%20%20%20%20%20popup_7e01cb65241748cfa22239a18b9f51cb.setContent%28html_ae79e82ffac94fb0b4e17f6af00f1221%29%3B%0A%20%20%20%20%20%20%20%20%0A%0A%20%20%20%20%20%20%20%20marker_e02d5d82d79c49b8bca575df2b8e8b17.bindPopup%28popup_7e01cb65241748cfa22239a18b9f51cb%29%0A%20%20%20%20%20%20%20%20%3B%0A%0A%20%20%20%20%20%20%20%20%0A%20%20%20%20%0A%20%20%20%20%0A%20%20%20%20%20%20%20%20%20%20%20%20var%20marker_2bf3165393ed4f99a9b31216fd5456d7%20%3D%20L.marker%28%0A%20%20%20%20%20%20%20%20%20%20%20%20%20%20%20%20%5B55.96399515097124%2C%20-3.185188767893123%5D%2C%0A%20%20%20%20%20%20%20%20%20%20%20%20%20%20%20%20%7B%7D%0A%20%20%20%20%20%20%20%20%20%20%20%20%29.addTo%28marker_cluster_67359bb34138463b8bbaf6c2ba135992%29%3B%0A%20%20%20%20%20%20%20%20%0A%20%20%20%20%0A%20%20%20%20%20%20%20%20%20%20%20%20var%20icon_15b3ee56e8954d68983149977dec2936%20%3D%20L.AwesomeMarkers.icon%28%0A%20%20%20%20%20%20%20%20%20%20%20%20%20%20%20%20%7B%22extraClasses%22%3A%20%22fa-rotate-0%22%2C%20%22icon%22%3A%20%22bicycle%22%2C%20%22iconColor%22%3A%20%22white%22%2C%20%22markerColor%22%3A%20%22red%22%2C%20%22prefic%22%3A%20%22fa%22%2C%20%22prefix%22%3A%20%22glyphicon%22%7D%0A%20%20%20%20%20%20%20%20%20%20%20%20%29%3B%0A%20%20%20%20%20%20%20%20%20%20%20%20marker_2bf3165393ed4f99a9b31216fd5456d7.setIcon%28icon_15b3ee56e8954d68983149977dec2936%29%3B%0A%20%20%20%20%20%20%20%20%0A%20%20%20%20%0A%20%20%20%20%20%20%20%20var%20popup_96e51c8d671a4d01a54864a3c5047afb%20%3D%20L.popup%28%7B%22maxWidth%22%3A%20%22100%25%22%7D%29%3B%0A%0A%20%20%20%20%20%20%20%20%0A%20%20%20%20%20%20%20%20%20%20%20%20var%20html_f057ef3f3da6411dab2c4bb62ec27e5e%20%3D%20%24%28%60%3Cdiv%20id%3D%22html_f057ef3f3da6411dab2c4bb62ec27e5e%22%20style%3D%22width%3A%20100.0%25%3B%20height%3A%20100.0%25%3B%22%3EId%3A%20357%3Cbr%3EMacdonald%20Road%3Cbr%3EDescription%3A%20Macdonald%20Road%3Cbr%3E%3Cbr%3ECounts%3A%201341%3C/div%3E%60%29%5B0%5D%3B%0A%20%20%20%20%20%20%20%20%20%20%20%20popup_96e51c8d671a4d01a54864a3c5047afb.setContent%28html_f057ef3f3da6411dab2c4bb62ec27e5e%29%3B%0A%20%20%20%20%20%20%20%20%0A%0A%20%20%20%20%20%20%20%20marker_2bf3165393ed4f99a9b31216fd5456d7.bindPopup%28popup_96e51c8d671a4d01a54864a3c5047afb%29%0A%20%20%20%20%20%20%20%20%3B%0A%0A%20%20%20%20%20%20%20%20%0A%20%20%20%20%0A%20%20%20%20%0A%20%20%20%20%20%20%20%20%20%20%20%20var%20marker_408b6d704b7743c78f7e8026d26149f5%20%3D%20L.marker%28%0A%20%20%20%20%20%20%20%20%20%20%20%20%20%20%20%20%5B55.96094446922441%2C%20-3.201386994249105%5D%2C%0A%20%20%20%20%20%20%20%20%20%20%20%20%20%20%20%20%7B%7D%0A%20%20%20%20%20%20%20%20%20%20%20%20%29.addTo%28marker_cluster_67359bb34138463b8bbaf6c2ba135992%29%3B%0A%20%20%20%20%20%20%20%20%0A%20%20%20%20%0A%20%20%20%20%20%20%20%20%20%20%20%20var%20icon_cfe67c0cb96243f29e1202baa7659697%20%3D%20L.AwesomeMarkers.icon%28%0A%20%20%20%20%20%20%20%20%20%20%20%20%20%20%20%20%7B%22extraClasses%22%3A%20%22fa-rotate-0%22%2C%20%22icon%22%3A%20%22bicycle%22%2C%20%22iconColor%22%3A%20%22white%22%2C%20%22markerColor%22%3A%20%22red%22%2C%20%22prefic%22%3A%20%22fa%22%2C%20%22prefix%22%3A%20%22glyphicon%22%7D%0A%20%20%20%20%20%20%20%20%20%20%20%20%29%3B%0A%20%20%20%20%20%20%20%20%20%20%20%20marker_408b6d704b7743c78f7e8026d26149f5.setIcon%28icon_cfe67c0cb96243f29e1202baa7659697%29%3B%0A%20%20%20%20%20%20%20%20%0A%20%20%20%20%0A%20%20%20%20%20%20%20%20var%20popup_c89ed7b9a5f540dd836c80f6bfa7b8de%20%3D%20L.popup%28%7B%22maxWidth%22%3A%20%22100%25%22%7D%29%3B%0A%0A%20%20%20%20%20%20%20%20%0A%20%20%20%20%20%20%20%20%20%20%20%20var%20html_0d9aec66295045099911908556fa552f%20%3D%20%24%28%60%3Cdiv%20id%3D%22html_0d9aec66295045099911908556fa552f%22%20style%3D%22width%3A%20100.0%25%3B%20height%3A%20100.0%25%3B%22%3EId%3A%20868%3Cbr%3EDundas%20Street%3Cbr%3EDescription%3A%20Corner%20of%20Dundas%20Street%20%26%20Henderson%20Row%3Cbr%3E%3Cbr%3ECounts%3A%201337%3C/div%3E%60%29%5B0%5D%3B%0A%20%20%20%20%20%20%20%20%20%20%20%20popup_c89ed7b9a5f540dd836c80f6bfa7b8de.setContent%28html_0d9aec66295045099911908556fa552f%29%3B%0A%20%20%20%20%20%20%20%20%0A%0A%20%20%20%20%20%20%20%20marker_408b6d704b7743c78f7e8026d26149f5.bindPopup%28popup_c89ed7b9a5f540dd836c80f6bfa7b8de%29%0A%20%20%20%20%20%20%20%20%3B%0A%0A%20%20%20%20%20%20%20%20%0A%20%20%20%20%0A%20%20%20%20%0A%20%20%20%20%20%20%20%20%20%20%20%20var%20marker_77446945cd854fa1b942576e51734353%20%3D%20L.marker%28%0A%20%20%20%20%20%20%20%20%20%20%20%20%20%20%20%20%5B55.92446420087144%2C%20-3.178731512475451%5D%2C%0A%20%20%20%20%20%20%20%20%20%20%20%20%20%20%20%20%7B%7D%0A%20%20%20%20%20%20%20%20%20%20%20%20%29.addTo%28marker_cluster_67359bb34138463b8bbaf6c2ba135992%29%3B%0A%20%20%20%20%20%20%20%20%0A%20%20%20%20%0A%20%20%20%20%20%20%20%20%20%20%20%20var%20icon_121a9dfc384340f486b2c576954e3fea%20%3D%20L.AwesomeMarkers.icon%28%0A%20%20%20%20%20%20%20%20%20%20%20%20%20%20%20%20%7B%22extraClasses%22%3A%20%22fa-rotate-0%22%2C%20%22icon%22%3A%20%22bicycle%22%2C%20%22iconColor%22%3A%20%22white%22%2C%20%22markerColor%22%3A%20%22red%22%2C%20%22prefic%22%3A%20%22fa%22%2C%20%22prefix%22%3A%20%22glyphicon%22%7D%0A%20%20%20%20%20%20%20%20%20%20%20%20%29%3B%0A%20%20%20%20%20%20%20%20%20%20%20%20marker_77446945cd854fa1b942576e51734353.setIcon%28icon_121a9dfc384340f486b2c576954e3fea%29%3B%0A%20%20%20%20%20%20%20%20%0A%20%20%20%20%0A%20%20%20%20%20%20%20%20var%20popup_ae12147302d54c18be58ebcce2e1338f%20%3D%20L.popup%28%7B%22maxWidth%22%3A%20%22100%25%22%7D%29%3B%0A%0A%20%20%20%20%20%20%20%20%0A%20%20%20%20%20%20%20%20%20%20%20%20var%20html_ee41141c91b04ef8bebc8a457170d936%20%3D%20%24%28%60%3Cdiv%20id%3D%22html_ee41141c91b04ef8bebc8a457170d936%22%20style%3D%22width%3A%20100.0%25%3B%20height%3A%20100.0%25%3B%22%3EId%3A%201042%3Cbr%3EKings%20Buildings%20-%20Murchison%20House%3Cbr%3EDescription%3A%20West%20end%20of%20campus%3Cbr%3E%3Cbr%3ECounts%3A%201308%3C/div%3E%60%29%5B0%5D%3B%0A%20%20%20%20%20%20%20%20%20%20%20%20popup_ae12147302d54c18be58ebcce2e1338f.setContent%28html_ee41141c91b04ef8bebc8a457170d936%29%3B%0A%20%20%20%20%20%20%20%20%0A%0A%20%20%20%20%20%20%20%20marker_77446945cd854fa1b942576e51734353.bindPopup%28popup_ae12147302d54c18be58ebcce2e1338f%29%0A%20%20%20%20%20%20%20%20%3B%0A%0A%20%20%20%20%20%20%20%20%0A%20%20%20%20%0A%20%20%20%20%0A%20%20%20%20%20%20%20%20%20%20%20%20var%20marker_bd88289f45fa480c93af569186324490%20%3D%20L.marker%28%0A%20%20%20%20%20%20%20%20%20%20%20%20%20%20%20%20%5B55.95940686974708%2C%20-3.215659820662267%5D%2C%0A%20%20%20%20%20%20%20%20%20%20%20%20%20%20%20%20%7B%7D%0A%20%20%20%20%20%20%20%20%20%20%20%20%29.addTo%28marker_cluster_67359bb34138463b8bbaf6c2ba135992%29%3B%0A%20%20%20%20%20%20%20%20%0A%20%20%20%20%0A%20%20%20%20%20%20%20%20%20%20%20%20var%20icon_90b8db59265f40c783ad25d644b380db%20%3D%20L.AwesomeMarkers.icon%28%0A%20%20%20%20%20%20%20%20%20%20%20%20%20%20%20%20%7B%22extraClasses%22%3A%20%22fa-rotate-0%22%2C%20%22icon%22%3A%20%22bicycle%22%2C%20%22iconColor%22%3A%20%22white%22%2C%20%22markerColor%22%3A%20%22red%22%2C%20%22prefic%22%3A%20%22fa%22%2C%20%22prefix%22%3A%20%22glyphicon%22%7D%0A%20%20%20%20%20%20%20%20%20%20%20%20%29%3B%0A%20%20%20%20%20%20%20%20%20%20%20%20marker_bd88289f45fa480c93af569186324490.setIcon%28icon_90b8db59265f40c783ad25d644b380db%29%3B%0A%20%20%20%20%20%20%20%20%0A%20%20%20%20%0A%20%20%20%20%20%20%20%20var%20popup_8240ed073f7340ca96c6392ed79557e3%20%3D%20L.popup%28%7B%22maxWidth%22%3A%20%22100%25%22%7D%29%3B%0A%0A%20%20%20%20%20%20%20%20%0A%20%20%20%20%20%20%20%20%20%20%20%20var%20html_e1b7d1888df74036a5c4d5ffde5ce067%20%3D%20%24%28%60%3Cdiv%20id%3D%22html_e1b7d1888df74036a5c4d5ffde5ce067%22%20style%3D%22width%3A%20100.0%25%3B%20height%3A%20100.0%25%3B%22%3EId%3A%20866%3Cbr%3EComely%20Bank%20Road%3Cbr%3EDescription%3A%20Between%20trees%20on%20Comely%20Bank%20Road%3Cbr%3E%3Cbr%3ECounts%3A%201272%3C/div%3E%60%29%5B0%5D%3B%0A%20%20%20%20%20%20%20%20%20%20%20%20popup_8240ed073f7340ca96c6392ed79557e3.setContent%28html_e1b7d1888df74036a5c4d5ffde5ce067%29%3B%0A%20%20%20%20%20%20%20%20%0A%0A%20%20%20%20%20%20%20%20marker_bd88289f45fa480c93af569186324490.bindPopup%28popup_8240ed073f7340ca96c6392ed79557e3%29%0A%20%20%20%20%20%20%20%20%3B%0A%0A%20%20%20%20%20%20%20%20%0A%20%20%20%20%0A%20%20%20%20%0A%20%20%20%20%20%20%20%20%20%20%20%20var%20marker_7657ef8070e64bc78aa66d2485dc8733%20%3D%20L.marker%28%0A%20%20%20%20%20%20%20%20%20%20%20%20%20%20%20%20%5B55.93532370964813%2C%20-3.198763443819871%5D%2C%0A%20%20%20%20%20%20%20%20%20%20%20%20%20%20%20%20%7B%7D%0A%20%20%20%20%20%20%20%20%20%20%20%20%29.addTo%28marker_cluster_67359bb34138463b8bbaf6c2ba135992%29%3B%0A%20%20%20%20%20%20%20%20%0A%20%20%20%20%0A%20%20%20%20%20%20%20%20%20%20%20%20var%20icon_e4b6feae32744bb5aa1d689847d69fa8%20%3D%20L.AwesomeMarkers.icon%28%0A%20%20%20%20%20%20%20%20%20%20%20%20%20%20%20%20%7B%22extraClasses%22%3A%20%22fa-rotate-0%22%2C%20%22icon%22%3A%20%22bicycle%22%2C%20%22iconColor%22%3A%20%22white%22%2C%20%22markerColor%22%3A%20%22red%22%2C%20%22prefic%22%3A%20%22fa%22%2C%20%22prefix%22%3A%20%22glyphicon%22%7D%0A%20%20%20%20%20%20%20%20%20%20%20%20%29%3B%0A%20%20%20%20%20%20%20%20%20%20%20%20marker_7657ef8070e64bc78aa66d2485dc8733.setIcon%28icon_e4b6feae32744bb5aa1d689847d69fa8%29%3B%0A%20%20%20%20%20%20%20%20%0A%20%20%20%20%0A%20%20%20%20%20%20%20%20var%20popup_29045cebc43a478a97cc6698e22aad68%20%3D%20L.popup%28%7B%22maxWidth%22%3A%20%22100%25%22%7D%29%3B%0A%0A%20%20%20%20%20%20%20%20%0A%20%20%20%20%20%20%20%20%20%20%20%20var%20html_b4f3efd7597d48c48c373bc6445ef78a%20%3D%20%24%28%60%3Cdiv%20id%3D%22html_b4f3efd7597d48c48c373bc6445ef78a%22%20style%3D%22width%3A%20100.0%25%3B%20height%3A%20100.0%25%3B%22%3EId%3A%201768%3Cbr%3EThirlestane%20Road%3Cbr%3EDescription%3A%20On%20corner%20with%20St%20Margaret%27s%20Place%3Cbr%3E%3Cbr%3ECounts%3A%201255%3C/div%3E%60%29%5B0%5D%3B%0A%20%20%20%20%20%20%20%20%20%20%20%20popup_29045cebc43a478a97cc6698e22aad68.setContent%28html_b4f3efd7597d48c48c373bc6445ef78a%29%3B%0A%20%20%20%20%20%20%20%20%0A%0A%20%20%20%20%20%20%20%20marker_7657ef8070e64bc78aa66d2485dc8733.bindPopup%28popup_29045cebc43a478a97cc6698e22aad68%29%0A%20%20%20%20%20%20%20%20%3B%0A%0A%20%20%20%20%20%20%20%20%0A%20%20%20%20%0A%20%20%20%20%0A%20%20%20%20%20%20%20%20%20%20%20%20var%20marker_0983f808b7424a0e88e6ac14a920d2c5%20%3D%20L.marker%28%0A%20%20%20%20%20%20%20%20%20%20%20%20%20%20%20%20%5B55.95994339132352%2C%20-3.187329201962484%5D%2C%0A%20%20%20%20%20%20%20%20%20%20%20%20%20%20%20%20%7B%7D%0A%20%20%20%20%20%20%20%20%20%20%20%20%29.addTo%28marker_cluster_67359bb34138463b8bbaf6c2ba135992%29%3B%0A%20%20%20%20%20%20%20%20%0A%20%20%20%20%0A%20%20%20%20%20%20%20%20%20%20%20%20var%20icon_99c0040ad48f4d21baa1eaddd92e86ad%20%3D%20L.AwesomeMarkers.icon%28%0A%20%20%20%20%20%20%20%20%20%20%20%20%20%20%20%20%7B%22extraClasses%22%3A%20%22fa-rotate-0%22%2C%20%22icon%22%3A%20%22bicycle%22%2C%20%22iconColor%22%3A%20%22white%22%2C%20%22markerColor%22%3A%20%22red%22%2C%20%22prefic%22%3A%20%22fa%22%2C%20%22prefix%22%3A%20%22glyphicon%22%7D%0A%20%20%20%20%20%20%20%20%20%20%20%20%29%3B%0A%20%20%20%20%20%20%20%20%20%20%20%20marker_0983f808b7424a0e88e6ac14a920d2c5.setIcon%28icon_99c0040ad48f4d21baa1eaddd92e86ad%29%3B%0A%20%20%20%20%20%20%20%20%0A%20%20%20%20%0A%20%20%20%20%20%20%20%20var%20popup_000e914441ef4352856574d5b20f9c8d%20%3D%20L.popup%28%7B%22maxWidth%22%3A%20%22100%25%22%7D%29%3B%0A%0A%20%20%20%20%20%20%20%20%0A%20%20%20%20%20%20%20%20%20%20%20%20var%20html_1567739e99ad4cd484e5d36d5df1c431%20%3D%20%24%28%60%3Cdiv%20id%3D%22html_1567739e99ad4cd484e5d36d5df1c431%22%20style%3D%22width%3A%20100.0%25%3B%20height%3A%20100.0%25%3B%22%3EId%3A%20356%3Cbr%3EEast%20London%20Street%3Cbr%3EDescription%3A%20Outside%20St.%20Mary%27s%20Primary%20School%3Cbr%3E%3Cbr%3ECounts%3A%201231%3C/div%3E%60%29%5B0%5D%3B%0A%20%20%20%20%20%20%20%20%20%20%20%20popup_000e914441ef4352856574d5b20f9c8d.setContent%28html_1567739e99ad4cd484e5d36d5df1c431%29%3B%0A%20%20%20%20%20%20%20%20%0A%0A%20%20%20%20%20%20%20%20marker_0983f808b7424a0e88e6ac14a920d2c5.bindPopup%28popup_000e914441ef4352856574d5b20f9c8d%29%0A%20%20%20%20%20%20%20%20%3B%0A%0A%20%20%20%20%20%20%20%20%0A%20%20%20%20%0A%20%20%20%20%0A%20%20%20%20%20%20%20%20%20%20%20%20var%20marker_91b09b526b214dfcbd47fb29fac6f7a9%20%3D%20L.marker%28%0A%20%20%20%20%20%20%20%20%20%20%20%20%20%20%20%20%5B55.96283984266853%2C%20-3.234135938375289%5D%2C%0A%20%20%20%20%20%20%20%20%20%20%20%20%20%20%20%20%7B%7D%0A%20%20%20%20%20%20%20%20%20%20%20%20%29.addTo%28marker_cluster_67359bb34138463b8bbaf6c2ba135992%29%3B%0A%20%20%20%20%20%20%20%20%0A%20%20%20%20%0A%20%20%20%20%20%20%20%20%20%20%20%20var%20icon_6af623e7f5274838a1afd03db2672bec%20%3D%20L.AwesomeMarkers.icon%28%0A%20%20%20%20%20%20%20%20%20%20%20%20%20%20%20%20%7B%22extraClasses%22%3A%20%22fa-rotate-0%22%2C%20%22icon%22%3A%20%22bicycle%22%2C%20%22iconColor%22%3A%20%22white%22%2C%20%22markerColor%22%3A%20%22red%22%2C%20%22prefic%22%3A%20%22fa%22%2C%20%22prefix%22%3A%20%22glyphicon%22%7D%0A%20%20%20%20%20%20%20%20%20%20%20%20%29%3B%0A%20%20%20%20%20%20%20%20%20%20%20%20marker_91b09b526b214dfcbd47fb29fac6f7a9.setIcon%28icon_6af623e7f5274838a1afd03db2672bec%29%3B%0A%20%20%20%20%20%20%20%20%0A%20%20%20%20%0A%20%20%20%20%20%20%20%20var%20popup_ddf89af4989a4b128d644ae947e65f23%20%3D%20L.popup%28%7B%22maxWidth%22%3A%20%22100%25%22%7D%29%3B%0A%0A%20%20%20%20%20%20%20%20%0A%20%20%20%20%20%20%20%20%20%20%20%20var%20html_b8f70d4b1adc4c3c87fdb1f8aa4f8fa0%20%3D%20%24%28%60%3Cdiv%20id%3D%22html_b8f70d4b1adc4c3c87fdb1f8aa4f8fa0%22%20style%3D%22width%3A%20100.0%25%3B%20height%3A%20100.0%25%3B%22%3EId%3A%201756%3Cbr%3EWestern%20General%20Hospital%3Cbr%3EDescription%3A%20Porterfield%20Road%3Cbr%3E%3Cbr%3ECounts%3A%201212%3C/div%3E%60%29%5B0%5D%3B%0A%20%20%20%20%20%20%20%20%20%20%20%20popup_ddf89af4989a4b128d644ae947e65f23.setContent%28html_b8f70d4b1adc4c3c87fdb1f8aa4f8fa0%29%3B%0A%20%20%20%20%20%20%20%20%0A%0A%20%20%20%20%20%20%20%20marker_91b09b526b214dfcbd47fb29fac6f7a9.bindPopup%28popup_ddf89af4989a4b128d644ae947e65f23%29%0A%20%20%20%20%20%20%20%20%3B%0A%0A%20%20%20%20%20%20%20%20%0A%20%20%20%20%0A%20%20%20%20%0A%20%20%20%20%20%20%20%20%20%20%20%20var%20marker_e77eda33153246249282f37fa3db8e79%20%3D%20L.marker%28%0A%20%20%20%20%20%20%20%20%20%20%20%20%20%20%20%20%5B55.96253727246136%2C%20-3.179472670388236%5D%2C%0A%20%20%20%20%20%20%20%20%20%20%20%20%20%20%20%20%7B%7D%0A%20%20%20%20%20%20%20%20%20%20%20%20%29.addTo%28marker_cluster_67359bb34138463b8bbaf6c2ba135992%29%3B%0A%20%20%20%20%20%20%20%20%0A%20%20%20%20%0A%20%20%20%20%20%20%20%20%20%20%20%20var%20icon_a856f4c1c469452ea61429bfc7415ff7%20%3D%20L.AwesomeMarkers.icon%28%0A%20%20%20%20%20%20%20%20%20%20%20%20%20%20%20%20%7B%22extraClasses%22%3A%20%22fa-rotate-0%22%2C%20%22icon%22%3A%20%22bicycle%22%2C%20%22iconColor%22%3A%20%22white%22%2C%20%22markerColor%22%3A%20%22red%22%2C%20%22prefic%22%3A%20%22fa%22%2C%20%22prefix%22%3A%20%22glyphicon%22%7D%0A%20%20%20%20%20%20%20%20%20%20%20%20%29%3B%0A%20%20%20%20%20%20%20%20%20%20%20%20marker_e77eda33153246249282f37fa3db8e79.setIcon%28icon_a856f4c1c469452ea61429bfc7415ff7%29%3B%0A%20%20%20%20%20%20%20%20%0A%20%20%20%20%0A%20%20%20%20%20%20%20%20var%20popup_b9f8d97578fa4f6bacd5eb42a0a302ad%20%3D%20L.popup%28%7B%22maxWidth%22%3A%20%22100%25%22%7D%29%3B%0A%0A%20%20%20%20%20%20%20%20%0A%20%20%20%20%20%20%20%20%20%20%20%20var%20html_bbf54c9957b84d19894a95606ff43869%20%3D%20%24%28%60%3Cdiv%20id%3D%22html_bbf54c9957b84d19894a95606ff43869%22%20style%3D%22width%3A%20100.0%25%3B%20height%3A%20100.0%25%3B%22%3EId%3A%20273%3Cbr%3EShrubhill%3Cbr%3EDescription%3A%20Sainsbury%27s%20Leith%20Walk%3Cbr%3E%3Cbr%3ECounts%3A%201153%3C/div%3E%60%29%5B0%5D%3B%0A%20%20%20%20%20%20%20%20%20%20%20%20popup_b9f8d97578fa4f6bacd5eb42a0a302ad.setContent%28html_bbf54c9957b84d19894a95606ff43869%29%3B%0A%20%20%20%20%20%20%20%20%0A%0A%20%20%20%20%20%20%20%20marker_e77eda33153246249282f37fa3db8e79.bindPopup%28popup_b9f8d97578fa4f6bacd5eb42a0a302ad%29%0A%20%20%20%20%20%20%20%20%3B%0A%0A%20%20%20%20%20%20%20%20%0A%20%20%20%20%0A%20%20%20%20%0A%20%20%20%20%20%20%20%20%20%20%20%20var%20marker_015f5d26c8b640c7bd7925ac83965c8d%20%3D%20L.marker%28%0A%20%20%20%20%20%20%20%20%20%20%20%20%20%20%20%20%5B55.95657629337518%2C%20-3.237939788691392%5D%2C%0A%20%20%20%20%20%20%20%20%20%20%20%20%20%20%20%20%7B%7D%0A%20%20%20%20%20%20%20%20%20%20%20%20%29.addTo%28marker_cluster_67359bb34138463b8bbaf6c2ba135992%29%3B%0A%20%20%20%20%20%20%20%20%0A%20%20%20%20%0A%20%20%20%20%20%20%20%20%20%20%20%20var%20icon_8cf229ce704d4a8084da51087c1c66c9%20%3D%20L.AwesomeMarkers.icon%28%0A%20%20%20%20%20%20%20%20%20%20%20%20%20%20%20%20%7B%22extraClasses%22%3A%20%22fa-rotate-0%22%2C%20%22icon%22%3A%20%22bicycle%22%2C%20%22iconColor%22%3A%20%22white%22%2C%20%22markerColor%22%3A%20%22red%22%2C%20%22prefic%22%3A%20%22fa%22%2C%20%22prefix%22%3A%20%22glyphicon%22%7D%0A%20%20%20%20%20%20%20%20%20%20%20%20%29%3B%0A%20%20%20%20%20%20%20%20%20%20%20%20marker_015f5d26c8b640c7bd7925ac83965c8d.setIcon%28icon_8cf229ce704d4a8084da51087c1c66c9%29%3B%0A%20%20%20%20%20%20%20%20%0A%20%20%20%20%0A%20%20%20%20%20%20%20%20var%20popup_9930bd4695d540328683561532b31c65%20%3D%20L.popup%28%7B%22maxWidth%22%3A%20%22100%25%22%7D%29%3B%0A%0A%20%20%20%20%20%20%20%20%0A%20%20%20%20%20%20%20%20%20%20%20%20var%20html_259ed899af1e46e8bd1f039e77b14798%20%3D%20%24%28%60%3Cdiv%20id%3D%22html_259ed899af1e46e8bd1f039e77b14798%22%20style%3D%22width%3A%20100.0%25%3B%20height%3A%20100.0%25%3B%22%3EId%3A%201764%3Cbr%3ECraigleith%20Road%3Cbr%3EDescription%3A%20Next%20to%20Craigleith%20Hill%20Bus%20Stop%3Cbr%3E%3Cbr%3ECounts%3A%201136%3C/div%3E%60%29%5B0%5D%3B%0A%20%20%20%20%20%20%20%20%20%20%20%20popup_9930bd4695d540328683561532b31c65.setContent%28html_259ed899af1e46e8bd1f039e77b14798%29%3B%0A%20%20%20%20%20%20%20%20%0A%0A%20%20%20%20%20%20%20%20marker_015f5d26c8b640c7bd7925ac83965c8d.bindPopup%28popup_9930bd4695d540328683561532b31c65%29%0A%20%20%20%20%20%20%20%20%3B%0A%0A%20%20%20%20%20%20%20%20%0A%20%20%20%20%0A%20%20%20%20%0A%20%20%20%20%20%20%20%20%20%20%20%20var%20marker_6d61652d42214dbf90404c2b9bccfb88%20%3D%20L.marker%28%0A%20%20%20%20%20%20%20%20%20%20%20%20%20%20%20%20%5B55.99018214620787%2C%20-3.404603924278717%5D%2C%0A%20%20%20%20%20%20%20%20%20%20%20%20%20%20%20%20%7B%7D%0A%20%20%20%20%20%20%20%20%20%20%20%20%29.addTo%28marker_cluster_67359bb34138463b8bbaf6c2ba135992%29%3B%0A%20%20%20%20%20%20%20%20%0A%20%20%20%20%0A%20%20%20%20%20%20%20%20%20%20%20%20var%20icon_b3bba9f4b1cd49959c3d077c202d551e%20%3D%20L.AwesomeMarkers.icon%28%0A%20%20%20%20%20%20%20%20%20%20%20%20%20%20%20%20%7B%22extraClasses%22%3A%20%22fa-rotate-0%22%2C%20%22icon%22%3A%20%22bicycle%22%2C%20%22iconColor%22%3A%20%22white%22%2C%20%22markerColor%22%3A%20%22red%22%2C%20%22prefic%22%3A%20%22fa%22%2C%20%22prefix%22%3A%20%22glyphicon%22%7D%0A%20%20%20%20%20%20%20%20%20%20%20%20%29%3B%0A%20%20%20%20%20%20%20%20%20%20%20%20marker_6d61652d42214dbf90404c2b9bccfb88.setIcon%28icon_b3bba9f4b1cd49959c3d077c202d551e%29%3B%0A%20%20%20%20%20%20%20%20%0A%20%20%20%20%0A%20%20%20%20%20%20%20%20var%20popup_72ed5f315e5a4a6094a7e1c513fb787e%20%3D%20L.popup%28%7B%22maxWidth%22%3A%20%22100%25%22%7D%29%3B%0A%0A%20%20%20%20%20%20%20%20%0A%20%20%20%20%20%20%20%20%20%20%20%20var%20html_f8203e2db498451fa2fc0fa43baaddb5%20%3D%20%24%28%60%3Cdiv%20id%3D%22html_f8203e2db498451fa2fc0fa43baaddb5%22%20style%3D%22width%3A%20100.0%25%3B%20height%3A%20100.0%25%3B%22%3EId%3A%201869%3Cbr%3EHopetoun%20Road%3Cbr%3EDescription%3A%20Junction%20with%20Farquhar%20Terrace/Boness%20Road%3Cbr%3E%3Cbr%3ECounts%3A%201086%3C/div%3E%60%29%5B0%5D%3B%0A%20%20%20%20%20%20%20%20%20%20%20%20popup_72ed5f315e5a4a6094a7e1c513fb787e.setContent%28html_f8203e2db498451fa2fc0fa43baaddb5%29%3B%0A%20%20%20%20%20%20%20%20%0A%0A%20%20%20%20%20%20%20%20marker_6d61652d42214dbf90404c2b9bccfb88.bindPopup%28popup_72ed5f315e5a4a6094a7e1c513fb787e%29%0A%20%20%20%20%20%20%20%20%3B%0A%0A%20%20%20%20%20%20%20%20%0A%20%20%20%20%0A%20%20%20%20%0A%20%20%20%20%20%20%20%20%20%20%20%20var%20marker_32ab3bd188084300b790d079358977d7%20%3D%20L.marker%28%0A%20%20%20%20%20%20%20%20%20%20%20%20%20%20%20%20%5B55.94428069681837%2C%20-3.202964359237739%5D%2C%0A%20%20%20%20%20%20%20%20%20%20%20%20%20%20%20%20%7B%7D%0A%20%20%20%20%20%20%20%20%20%20%20%20%29.addTo%28marker_cluster_67359bb34138463b8bbaf6c2ba135992%29%3B%0A%20%20%20%20%20%20%20%20%0A%20%20%20%20%0A%20%20%20%20%20%20%20%20%20%20%20%20var%20icon_136b5f98fcaa415ca47f091c63f73aca%20%3D%20L.AwesomeMarkers.icon%28%0A%20%20%20%20%20%20%20%20%20%20%20%20%20%20%20%20%7B%22extraClasses%22%3A%20%22fa-rotate-0%22%2C%20%22icon%22%3A%20%22bicycle%22%2C%20%22iconColor%22%3A%20%22white%22%2C%20%22markerColor%22%3A%20%22red%22%2C%20%22prefic%22%3A%20%22fa%22%2C%20%22prefix%22%3A%20%22glyphicon%22%7D%0A%20%20%20%20%20%20%20%20%20%20%20%20%29%3B%0A%20%20%20%20%20%20%20%20%20%20%20%20marker_32ab3bd188084300b790d079358977d7.setIcon%28icon_136b5f98fcaa415ca47f091c63f73aca%29%3B%0A%20%20%20%20%20%20%20%20%0A%20%20%20%20%0A%20%20%20%20%20%20%20%20var%20popup_881d68418aa047b8a4c079dd4479e6f6%20%3D%20L.popup%28%7B%22maxWidth%22%3A%20%22100%25%22%7D%29%3B%0A%0A%20%20%20%20%20%20%20%20%0A%20%20%20%20%20%20%20%20%20%20%20%20var%20html_694772aecb2d4b5dad53cf06ee3ef77e%20%3D%20%24%28%60%3Cdiv%20id%3D%22html_694772aecb2d4b5dad53cf06ee3ef77e%22%20style%3D%22width%3A%20100.0%25%3B%20height%3A%20100.0%25%3B%22%3EId%3A%20881%3Cbr%3ETollcross%3Cbr%3EDescription%3A%20Outside%20Piccolino%3Cbr%3E%3Cbr%3ECounts%3A%201075%3C/div%3E%60%29%5B0%5D%3B%0A%20%20%20%20%20%20%20%20%20%20%20%20popup_881d68418aa047b8a4c079dd4479e6f6.setContent%28html_694772aecb2d4b5dad53cf06ee3ef77e%29%3B%0A%20%20%20%20%20%20%20%20%0A%0A%20%20%20%20%20%20%20%20marker_32ab3bd188084300b790d079358977d7.bindPopup%28popup_881d68418aa047b8a4c079dd4479e6f6%29%0A%20%20%20%20%20%20%20%20%3B%0A%0A%20%20%20%20%20%20%20%20%0A%20%20%20%20%0A%20%20%20%20%0A%20%20%20%20%20%20%20%20%20%20%20%20var%20marker_67de8a959655450fae8c0c4aafe3fdf0%20%3D%20L.marker%28%0A%20%20%20%20%20%20%20%20%20%20%20%20%20%20%20%20%5B55.94030045743447%2C%20-3.194591930765%5D%2C%0A%20%20%20%20%20%20%20%20%20%20%20%20%20%20%20%20%7B%7D%0A%20%20%20%20%20%20%20%20%20%20%20%20%29.addTo%28marker_cluster_67359bb34138463b8bbaf6c2ba135992%29%3B%0A%20%20%20%20%20%20%20%20%0A%20%20%20%20%0A%20%20%20%20%20%20%20%20%20%20%20%20var%20icon_51dd7ecc33234bcdaa96905d97d30450%20%3D%20L.AwesomeMarkers.icon%28%0A%20%20%20%20%20%20%20%20%20%20%20%20%20%20%20%20%7B%22extraClasses%22%3A%20%22fa-rotate-0%22%2C%20%22icon%22%3A%20%22bicycle%22%2C%20%22iconColor%22%3A%20%22white%22%2C%20%22markerColor%22%3A%20%22red%22%2C%20%22prefic%22%3A%20%22fa%22%2C%20%22prefix%22%3A%20%22glyphicon%22%7D%0A%20%20%20%20%20%20%20%20%20%20%20%20%29%3B%0A%20%20%20%20%20%20%20%20%20%20%20%20marker_67de8a959655450fae8c0c4aafe3fdf0.setIcon%28icon_51dd7ecc33234bcdaa96905d97d30450%29%3B%0A%20%20%20%20%20%20%20%20%0A%20%20%20%20%0A%20%20%20%20%20%20%20%20var%20popup_095ce6525f5b4b26819f649f5f761d1a%20%3D%20L.popup%28%7B%22maxWidth%22%3A%20%22100%25%22%7D%29%3B%0A%0A%20%20%20%20%20%20%20%20%0A%20%20%20%20%20%20%20%20%20%20%20%20var%20html_a0b5b2dd337444d6985a9422b56c7842%20%3D%20%24%28%60%3Cdiv%20id%3D%22html_a0b5b2dd337444d6985a9422b56c7842%22%20style%3D%22width%3A%20100.0%25%3B%20height%3A%20100.0%25%3B%22%3EId%3A%20340%3Cbr%3EMeadow%20Place%3Cbr%3EDescription%3A%20Corner%20of%20Meadow%20Place%20and%20Melville%20Drive%3Cbr%3E%3Cbr%3ECounts%3A%201064%3C/div%3E%60%29%5B0%5D%3B%0A%20%20%20%20%20%20%20%20%20%20%20%20popup_095ce6525f5b4b26819f649f5f761d1a.setContent%28html_a0b5b2dd337444d6985a9422b56c7842%29%3B%0A%20%20%20%20%20%20%20%20%0A%0A%20%20%20%20%20%20%20%20marker_67de8a959655450fae8c0c4aafe3fdf0.bindPopup%28popup_095ce6525f5b4b26819f649f5f761d1a%29%0A%20%20%20%20%20%20%20%20%3B%0A%0A%20%20%20%20%20%20%20%20%0A%20%20%20%20%0A%20%20%20%20%0A%20%20%20%20%20%20%20%20%20%20%20%20var%20marker_539d9125390e41de85c91851b376b317%20%3D%20L.marker%28%0A%20%20%20%20%20%20%20%20%20%20%20%20%20%20%20%20%5B55.95197357717703%2C%20-3.226124804664096%5D%2C%0A%20%20%20%20%20%20%20%20%20%20%20%20%20%20%20%20%7B%7D%0A%20%20%20%20%20%20%20%20%20%20%20%20%29.addTo%28marker_cluster_67359bb34138463b8bbaf6c2ba135992%29%3B%0A%20%20%20%20%20%20%20%20%0A%20%20%20%20%0A%20%20%20%20%20%20%20%20%20%20%20%20var%20icon_544eaa464d9d49449e7ff7de0886d954%20%3D%20L.AwesomeMarkers.icon%28%0A%20%20%20%20%20%20%20%20%20%20%20%20%20%20%20%20%7B%22extraClasses%22%3A%20%22fa-rotate-0%22%2C%20%22icon%22%3A%20%22bicycle%22%2C%20%22iconColor%22%3A%20%22white%22%2C%20%22markerColor%22%3A%20%22red%22%2C%20%22prefic%22%3A%20%22fa%22%2C%20%22prefix%22%3A%20%22glyphicon%22%7D%0A%20%20%20%20%20%20%20%20%20%20%20%20%29%3B%0A%20%20%20%20%20%20%20%20%20%20%20%20marker_539d9125390e41de85c91851b376b317.setIcon%28icon_544eaa464d9d49449e7ff7de0886d954%29%3B%0A%20%20%20%20%20%20%20%20%0A%20%20%20%20%0A%20%20%20%20%20%20%20%20var%20popup_233e1fc076cd4e6a881635c2ad1717b5%20%3D%20L.popup%28%7B%22maxWidth%22%3A%20%22100%25%22%7D%29%3B%0A%0A%20%20%20%20%20%20%20%20%0A%20%20%20%20%20%20%20%20%20%20%20%20var%20html_12b8c5c7c520475fba4309e3ebc60268%20%3D%20%24%28%60%3Cdiv%20id%3D%22html_12b8c5c7c520475fba4309e3ebc60268%22%20style%3D%22width%3A%20100.0%25%3B%20height%3A%20100.0%25%3B%22%3EId%3A%201093%3Cbr%3EBelford%20Road%3Cbr%3EDescription%3A%20Outside%20Scottish%20National%20Gallery%20of%20Modern%20Art%3Cbr%3E%3Cbr%3ECounts%3A%201024%3C/div%3E%60%29%5B0%5D%3B%0A%20%20%20%20%20%20%20%20%20%20%20%20popup_233e1fc076cd4e6a881635c2ad1717b5.setContent%28html_12b8c5c7c520475fba4309e3ebc60268%29%3B%0A%20%20%20%20%20%20%20%20%0A%0A%20%20%20%20%20%20%20%20marker_539d9125390e41de85c91851b376b317.bindPopup%28popup_233e1fc076cd4e6a881635c2ad1717b5%29%0A%20%20%20%20%20%20%20%20%3B%0A%0A%20%20%20%20%20%20%20%20%0A%20%20%20%20%0A%20%20%20%20%0A%20%20%20%20%20%20%20%20%20%20%20%20var%20marker_a734ce8ccbde4c1589d7959aa40755cd%20%3D%20L.marker%28%0A%20%20%20%20%20%20%20%20%20%20%20%20%20%20%20%20%5B55.94191081116495%2C%20-3.237800313822617%5D%2C%0A%20%20%20%20%20%20%20%20%20%20%20%20%20%20%20%20%7B%7D%0A%20%20%20%20%20%20%20%20%20%20%20%20%29.addTo%28marker_cluster_67359bb34138463b8bbaf6c2ba135992%29%3B%0A%20%20%20%20%20%20%20%20%0A%20%20%20%20%0A%20%20%20%20%20%20%20%20%20%20%20%20var%20icon_1e99b6e2ee444aa9aa42bd5c9f519822%20%3D%20L.AwesomeMarkers.icon%28%0A%20%20%20%20%20%20%20%20%20%20%20%20%20%20%20%20%7B%22extraClasses%22%3A%20%22fa-rotate-0%22%2C%20%22icon%22%3A%20%22bicycle%22%2C%20%22iconColor%22%3A%20%22white%22%2C%20%22markerColor%22%3A%20%22red%22%2C%20%22prefic%22%3A%20%22fa%22%2C%20%22prefix%22%3A%20%22glyphicon%22%7D%0A%20%20%20%20%20%20%20%20%20%20%20%20%29%3B%0A%20%20%20%20%20%20%20%20%20%20%20%20marker_a734ce8ccbde4c1589d7959aa40755cd.setIcon%28icon_1e99b6e2ee444aa9aa42bd5c9f519822%29%3B%0A%20%20%20%20%20%20%20%20%0A%20%20%20%20%0A%20%20%20%20%20%20%20%20var%20popup_303186dcecaa497ebf76885b1160232c%20%3D%20L.popup%28%7B%22maxWidth%22%3A%20%22100%25%22%7D%29%3B%0A%0A%20%20%20%20%20%20%20%20%0A%20%20%20%20%20%20%20%20%20%20%20%20var%20html_ac8f9c2cad8a49ed80494af10bb8f26d%20%3D%20%24%28%60%3Cdiv%20id%3D%22html_ac8f9c2cad8a49ed80494af10bb8f26d%22%20style%3D%22width%3A%20100.0%25%3B%20height%3A%20100.0%25%3B%22%3EId%3A%201754%3Cbr%3EMurrayfield%20Tram%3Cbr%3EDescription%3A%20Next%20to%20Murrayfield%20Tram%20Station%3Cbr%3E%3Cbr%3ECounts%3A%20997%3C/div%3E%60%29%5B0%5D%3B%0A%20%20%20%20%20%20%20%20%20%20%20%20popup_303186dcecaa497ebf76885b1160232c.setContent%28html_ac8f9c2cad8a49ed80494af10bb8f26d%29%3B%0A%20%20%20%20%20%20%20%20%0A%0A%20%20%20%20%20%20%20%20marker_a734ce8ccbde4c1589d7959aa40755cd.bindPopup%28popup_303186dcecaa497ebf76885b1160232c%29%0A%20%20%20%20%20%20%20%20%3B%0A%0A%20%20%20%20%20%20%20%20%0A%20%20%20%20%0A%20%20%20%20%0A%20%20%20%20%20%20%20%20%20%20%20%20var%20marker_00d1b65041704c96a6a43e2cad4cc027%20%3D%20L.marker%28%0A%20%20%20%20%20%20%20%20%20%20%20%20%20%20%20%20%5B55.93642987756881%2C%20-3.180114903557978%5D%2C%0A%20%20%20%20%20%20%20%20%20%20%20%20%20%20%20%20%7B%7D%0A%20%20%20%20%20%20%20%20%20%20%20%20%29.addTo%28marker_cluster_67359bb34138463b8bbaf6c2ba135992%29%3B%0A%20%20%20%20%20%20%20%20%0A%20%20%20%20%0A%20%20%20%20%20%20%20%20%20%20%20%20var%20icon_08418db97a5443219ecc35746e34d46e%20%3D%20L.AwesomeMarkers.icon%28%0A%20%20%20%20%20%20%20%20%20%20%20%20%20%20%20%20%7B%22extraClasses%22%3A%20%22fa-rotate-0%22%2C%20%22icon%22%3A%20%22bicycle%22%2C%20%22iconColor%22%3A%20%22white%22%2C%20%22markerColor%22%3A%20%22red%22%2C%20%22prefic%22%3A%20%22fa%22%2C%20%22prefix%22%3A%20%22glyphicon%22%7D%0A%20%20%20%20%20%20%20%20%20%20%20%20%29%3B%0A%20%20%20%20%20%20%20%20%20%20%20%20marker_00d1b65041704c96a6a43e2cad4cc027.setIcon%28icon_08418db97a5443219ecc35746e34d46e%29%3B%0A%20%20%20%20%20%20%20%20%0A%20%20%20%20%0A%20%20%20%20%20%20%20%20var%20popup_73a1ba3519144053a66d60bfabd8c41c%20%3D%20L.popup%28%7B%22maxWidth%22%3A%20%22100%25%22%7D%29%3B%0A%0A%20%20%20%20%20%20%20%20%0A%20%20%20%20%20%20%20%20%20%20%20%20var%20html_cba9d715045646afb5b643a63ded62e5%20%3D%20%24%28%60%3Cdiv%20id%3D%22html_cba9d715045646afb5b643a63ded62e5%22%20style%3D%22width%3A%20100.0%25%3B%20height%3A%20100.0%25%3B%22%3EId%3A%20359%3Cbr%3ECausewayside%3Cbr%3EDescription%3A%20Causewayside%20outside%20NLS%3Cbr%3E%3Cbr%3ECounts%3A%20970%3C/div%3E%60%29%5B0%5D%3B%0A%20%20%20%20%20%20%20%20%20%20%20%20popup_73a1ba3519144053a66d60bfabd8c41c.setContent%28html_cba9d715045646afb5b643a63ded62e5%29%3B%0A%20%20%20%20%20%20%20%20%0A%0A%20%20%20%20%20%20%20%20marker_00d1b65041704c96a6a43e2cad4cc027.bindPopup%28popup_73a1ba3519144053a66d60bfabd8c41c%29%0A%20%20%20%20%20%20%20%20%3B%0A%0A%20%20%20%20%20%20%20%20%0A%20%20%20%20%0A%20%20%20%20%0A%20%20%20%20%20%20%20%20%20%20%20%20var%20marker_1b899d3265fa42cca3551343d24d0686%20%3D%20L.marker%28%0A%20%20%20%20%20%20%20%20%20%20%20%20%20%20%20%20%5B55.92738267693901%2C%20-3.307442444578868%5D%2C%0A%20%20%20%20%20%20%20%20%20%20%20%20%20%20%20%20%7B%7D%0A%20%20%20%20%20%20%20%20%20%20%20%20%29.addTo%28marker_cluster_67359bb34138463b8bbaf6c2ba135992%29%3B%0A%20%20%20%20%20%20%20%20%0A%20%20%20%20%0A%20%20%20%20%20%20%20%20%20%20%20%20var%20icon_2d546807f4c94205a31564afd74cb42f%20%3D%20L.AwesomeMarkers.icon%28%0A%20%20%20%20%20%20%20%20%20%20%20%20%20%20%20%20%7B%22extraClasses%22%3A%20%22fa-rotate-0%22%2C%20%22icon%22%3A%20%22bicycle%22%2C%20%22iconColor%22%3A%20%22white%22%2C%20%22markerColor%22%3A%20%22red%22%2C%20%22prefic%22%3A%20%22fa%22%2C%20%22prefix%22%3A%20%22glyphicon%22%7D%0A%20%20%20%20%20%20%20%20%20%20%20%20%29%3B%0A%20%20%20%20%20%20%20%20%20%20%20%20marker_1b899d3265fa42cca3551343d24d0686.setIcon%28icon_2d546807f4c94205a31564afd74cb42f%29%3B%0A%20%20%20%20%20%20%20%20%0A%20%20%20%20%0A%20%20%20%20%20%20%20%20var%20popup_d4b1ad78f95749578d2b2a02ab6abbed%20%3D%20L.popup%28%7B%22maxWidth%22%3A%20%22100%25%22%7D%29%3B%0A%0A%20%20%20%20%20%20%20%20%0A%20%20%20%20%20%20%20%20%20%20%20%20var%20html_e55a841a423749c18df8bebf8ea0136b%20%3D%20%24%28%60%3Cdiv%20id%3D%22html_e55a841a423749c18df8bebf8ea0136b%22%20style%3D%22width%3A%20100.0%25%3B%20height%3A%20100.0%25%3B%22%3EId%3A%201822%3Cbr%3EEdinburgh%20Park%20Station%3Cbr%3EDescription%3A%20Next%20to%20Rail%20and%20Tram%20stations%3Cbr%3E%3Cbr%3ECounts%3A%20966%3C/div%3E%60%29%5B0%5D%3B%0A%20%20%20%20%20%20%20%20%20%20%20%20popup_d4b1ad78f95749578d2b2a02ab6abbed.setContent%28html_e55a841a423749c18df8bebf8ea0136b%29%3B%0A%20%20%20%20%20%20%20%20%0A%0A%20%20%20%20%20%20%20%20marker_1b899d3265fa42cca3551343d24d0686.bindPopup%28popup_d4b1ad78f95749578d2b2a02ab6abbed%29%0A%20%20%20%20%20%20%20%20%3B%0A%0A%20%20%20%20%20%20%20%20%0A%20%20%20%20%0A%20%20%20%20%0A%20%20%20%20%20%20%20%20%20%20%20%20var%20marker_b7fa38f615044cac839e6c2a969d19ab%20%3D%20L.marker%28%0A%20%20%20%20%20%20%20%20%20%20%20%20%20%20%20%20%5B55.98002374180832%2C%20-3.300622016981151%5D%2C%0A%20%20%20%20%20%20%20%20%20%20%20%20%20%20%20%20%7B%7D%0A%20%20%20%20%20%20%20%20%20%20%20%20%29.addTo%28marker_cluster_67359bb34138463b8bbaf6c2ba135992%29%3B%0A%20%20%20%20%20%20%20%20%0A%20%20%20%20%0A%20%20%20%20%20%20%20%20%20%20%20%20var%20icon_29c2b11c39d6479ab0de0a3b2ebf18b3%20%3D%20L.AwesomeMarkers.icon%28%0A%20%20%20%20%20%20%20%20%20%20%20%20%20%20%20%20%7B%22extraClasses%22%3A%20%22fa-rotate-0%22%2C%20%22icon%22%3A%20%22bicycle%22%2C%20%22iconColor%22%3A%20%22white%22%2C%20%22markerColor%22%3A%20%22red%22%2C%20%22prefic%22%3A%20%22fa%22%2C%20%22prefix%22%3A%20%22glyphicon%22%7D%0A%20%20%20%20%20%20%20%20%20%20%20%20%29%3B%0A%20%20%20%20%20%20%20%20%20%20%20%20marker_b7fa38f615044cac839e6c2a969d19ab.setIcon%28icon_29c2b11c39d6479ab0de0a3b2ebf18b3%29%3B%0A%20%20%20%20%20%20%20%20%0A%20%20%20%20%0A%20%20%20%20%20%20%20%20var%20popup_5819b768803e47bda4bd55902f8bc495%20%3D%20L.popup%28%7B%22maxWidth%22%3A%20%22100%25%22%7D%29%3B%0A%0A%20%20%20%20%20%20%20%20%0A%20%20%20%20%20%20%20%20%20%20%20%20var%20html_17b5fe741a114f10952ccf95dcfeb5d7%20%3D%20%24%28%60%3Cdiv%20id%3D%22html_17b5fe741a114f10952ccf95dcfeb5d7%22%20style%3D%22width%3A%20100.0%25%3B%20height%3A%20100.0%25%3B%22%3EId%3A%20862%3Cbr%3ECramond%20Foreshore%3Cbr%3EDescription%3A%20Cramond%20foreshore%20by%20turning%20circle%3Cbr%3E%3Cbr%3ECounts%3A%20948%3C/div%3E%60%29%5B0%5D%3B%0A%20%20%20%20%20%20%20%20%20%20%20%20popup_5819b768803e47bda4bd55902f8bc495.setContent%28html_17b5fe741a114f10952ccf95dcfeb5d7%29%3B%0A%20%20%20%20%20%20%20%20%0A%0A%20%20%20%20%20%20%20%20marker_b7fa38f615044cac839e6c2a969d19ab.bindPopup%28popup_5819b768803e47bda4bd55902f8bc495%29%0A%20%20%20%20%20%20%20%20%3B%0A%0A%20%20%20%20%20%20%20%20%0A%20%20%20%20%0A%20%20%20%20%0A%20%20%20%20%20%20%20%20%20%20%20%20var%20marker_d96b5271f0c043af8596bb67b5bdac0b%20%3D%20L.marker%28%0A%20%20%20%20%20%20%20%20%20%20%20%20%20%20%20%20%5B55.9088228790413%2C%20-3.320113285176247%5D%2C%0A%20%20%20%20%20%20%20%20%20%20%20%20%20%20%20%20%7B%7D%0A%20%20%20%20%20%20%20%20%20%20%20%20%29.addTo%28marker_cluster_67359bb34138463b8bbaf6c2ba135992%29%3B%0A%20%20%20%20%20%20%20%20%0A%20%20%20%20%0A%20%20%20%20%20%20%20%20%20%20%20%20var%20icon_7debd4cb38f74e64b255199a2f2e0e70%20%3D%20L.AwesomeMarkers.icon%28%0A%20%20%20%20%20%20%20%20%20%20%20%20%20%20%20%20%7B%22extraClasses%22%3A%20%22fa-rotate-0%22%2C%20%22icon%22%3A%20%22bicycle%22%2C%20%22iconColor%22%3A%20%22white%22%2C%20%22markerColor%22%3A%20%22red%22%2C%20%22prefic%22%3A%20%22fa%22%2C%20%22prefix%22%3A%20%22glyphicon%22%7D%0A%20%20%20%20%20%20%20%20%20%20%20%20%29%3B%0A%20%20%20%20%20%20%20%20%20%20%20%20marker_d96b5271f0c043af8596bb67b5bdac0b.setIcon%28icon_7debd4cb38f74e64b255199a2f2e0e70%29%3B%0A%20%20%20%20%20%20%20%20%0A%20%20%20%20%0A%20%20%20%20%20%20%20%20var%20popup_217ebfc5f38047a4a70c1d6b7491d99e%20%3D%20L.popup%28%7B%22maxWidth%22%3A%20%22100%25%22%7D%29%3B%0A%0A%20%20%20%20%20%20%20%20%0A%20%20%20%20%20%20%20%20%20%20%20%20var%20html_820da6da9fe54606a5a97bc168da37b2%20%3D%20%24%28%60%3Cdiv%20id%3D%22html_820da6da9fe54606a5a97bc168da37b2%22%20style%3D%22width%3A%20100.0%25%3B%20height%3A%20100.0%25%3B%22%3EId%3A%201819%3Cbr%3EHeriot%20Watt%20-%20Edinburgh%20Business%20School%3Cbr%3EDescription%3A%20Outside%20Edinburgh%20Business%20School%3Cbr%3E%3Cbr%3ECounts%3A%20947%3C/div%3E%60%29%5B0%5D%3B%0A%20%20%20%20%20%20%20%20%20%20%20%20popup_217ebfc5f38047a4a70c1d6b7491d99e.setContent%28html_820da6da9fe54606a5a97bc168da37b2%29%3B%0A%20%20%20%20%20%20%20%20%0A%0A%20%20%20%20%20%20%20%20marker_d96b5271f0c043af8596bb67b5bdac0b.bindPopup%28popup_217ebfc5f38047a4a70c1d6b7491d99e%29%0A%20%20%20%20%20%20%20%20%3B%0A%0A%20%20%20%20%20%20%20%20%0A%20%20%20%20%0A%20%20%20%20%0A%20%20%20%20%20%20%20%20%20%20%20%20var%20marker_b6df623b1650473599c9ddec78713caa%20%3D%20L.marker%28%0A%20%20%20%20%20%20%20%20%20%20%20%20%20%20%20%20%5B55.94211534619251%2C%20-3.269286765448441%5D%2C%0A%20%20%20%20%20%20%20%20%20%20%20%20%20%20%20%20%7B%7D%0A%20%20%20%20%20%20%20%20%20%20%20%20%29.addTo%28marker_cluster_67359bb34138463b8bbaf6c2ba135992%29%3B%0A%20%20%20%20%20%20%20%20%0A%20%20%20%20%0A%20%20%20%20%20%20%20%20%20%20%20%20var%20icon_b2392c2e1642445e9def2dee13c75dad%20%3D%20L.AwesomeMarkers.icon%28%0A%20%20%20%20%20%20%20%20%20%20%20%20%20%20%20%20%7B%22extraClasses%22%3A%20%22fa-rotate-0%22%2C%20%22icon%22%3A%20%22bicycle%22%2C%20%22iconColor%22%3A%20%22white%22%2C%20%22markerColor%22%3A%20%22red%22%2C%20%22prefic%22%3A%20%22fa%22%2C%20%22prefix%22%3A%20%22glyphicon%22%7D%0A%20%20%20%20%20%20%20%20%20%20%20%20%29%3B%0A%20%20%20%20%20%20%20%20%20%20%20%20marker_b6df623b1650473599c9ddec78713caa.setIcon%28icon_b2392c2e1642445e9def2dee13c75dad%29%3B%0A%20%20%20%20%20%20%20%20%0A%20%20%20%20%0A%20%20%20%20%20%20%20%20var%20popup_5d992bd919984bf581c8a69c82dd839f%20%3D%20L.popup%28%7B%22maxWidth%22%3A%20%22100%25%22%7D%29%3B%0A%0A%20%20%20%20%20%20%20%20%0A%20%20%20%20%20%20%20%20%20%20%20%20var%20html_c30d96af23274fe7b743c1ce795298f8%20%3D%20%24%28%60%3Cdiv%20id%3D%22html_c30d96af23274fe7b743c1ce795298f8%22%20style%3D%22width%3A%20100.0%25%3B%20height%3A%20100.0%25%3B%22%3EId%3A%201725%3Cbr%3EEdinburgh%20Zoo%3Cbr%3EDescription%3A%20Corstorphine%20Road%2C%20Edinburgh%3Cbr%3E%3Cbr%3ECounts%3A%20935%3C/div%3E%60%29%5B0%5D%3B%0A%20%20%20%20%20%20%20%20%20%20%20%20popup_5d992bd919984bf581c8a69c82dd839f.setContent%28html_c30d96af23274fe7b743c1ce795298f8%29%3B%0A%20%20%20%20%20%20%20%20%0A%0A%20%20%20%20%20%20%20%20marker_b6df623b1650473599c9ddec78713caa.bindPopup%28popup_5d992bd919984bf581c8a69c82dd839f%29%0A%20%20%20%20%20%20%20%20%3B%0A%0A%20%20%20%20%20%20%20%20%0A%20%20%20%20%0A%20%20%20%20%0A%20%20%20%20%20%20%20%20%20%20%20%20var%20marker_91cea2aac8ce425ab062e34a2b133d4d%20%3D%20L.marker%28%0A%20%20%20%20%20%20%20%20%20%20%20%20%20%20%20%20%5B55.944867799682754%2C%20-3.182670511194715%5D%2C%0A%20%20%20%20%20%20%20%20%20%20%20%20%20%20%20%20%7B%7D%0A%20%20%20%20%20%20%20%20%20%20%20%20%29.addTo%28marker_cluster_67359bb34138463b8bbaf6c2ba135992%29%3B%0A%20%20%20%20%20%20%20%20%0A%20%20%20%20%0A%20%20%20%20%20%20%20%20%20%20%20%20var%20icon_be78581928c345be8dddbae533765fb6%20%3D%20L.AwesomeMarkers.icon%28%0A%20%20%20%20%20%20%20%20%20%20%20%20%20%20%20%20%7B%22extraClasses%22%3A%20%22fa-rotate-0%22%2C%20%22icon%22%3A%20%22bicycle%22%2C%20%22iconColor%22%3A%20%22white%22%2C%20%22markerColor%22%3A%20%22red%22%2C%20%22prefic%22%3A%20%22fa%22%2C%20%22prefix%22%3A%20%22glyphicon%22%7D%0A%20%20%20%20%20%20%20%20%20%20%20%20%29%3B%0A%20%20%20%20%20%20%20%20%20%20%20%20marker_91cea2aac8ce425ab062e34a2b133d4d.setIcon%28icon_be78581928c345be8dddbae533765fb6%29%3B%0A%20%20%20%20%20%20%20%20%0A%20%20%20%20%0A%20%20%20%20%20%20%20%20var%20popup_3d94af50b33c4263b758489de39cbf11%20%3D%20L.popup%28%7B%22maxWidth%22%3A%20%22100%25%22%7D%29%3B%0A%0A%20%20%20%20%20%20%20%20%0A%20%20%20%20%20%20%20%20%20%20%20%20var%20html_b5b2074fb7cd4bbcab48096e0014bc52%20%3D%20%24%28%60%3Cdiv%20id%3D%22html_b5b2074fb7cd4bbcab48096e0014bc52%22%20style%3D%22width%3A%20100.0%25%3B%20height%3A%20100.0%25%3B%22%3EId%3A%20347%3Cbr%3ESimon%20Square%3Cbr%3EDescription%3A%20Corner%20of%20Simon%20Square%20%26%20Gilmour%20Street%3Cbr%3E%3Cbr%3ECounts%3A%20882%3C/div%3E%60%29%5B0%5D%3B%0A%20%20%20%20%20%20%20%20%20%20%20%20popup_3d94af50b33c4263b758489de39cbf11.setContent%28html_b5b2074fb7cd4bbcab48096e0014bc52%29%3B%0A%20%20%20%20%20%20%20%20%0A%0A%20%20%20%20%20%20%20%20marker_91cea2aac8ce425ab062e34a2b133d4d.bindPopup%28popup_3d94af50b33c4263b758489de39cbf11%29%0A%20%20%20%20%20%20%20%20%3B%0A%0A%20%20%20%20%20%20%20%20%0A%20%20%20%20%0A%20%20%20%20%0A%20%20%20%20%20%20%20%20%20%20%20%20var%20marker_563a53078f7a4e22b27b6754ba3ed085%20%3D%20L.marker%28%0A%20%20%20%20%20%20%20%20%20%20%20%20%20%20%20%20%5B55.945159896857184%2C%20-3.203678290717107%5D%2C%0A%20%20%20%20%20%20%20%20%20%20%20%20%20%20%20%20%7B%7D%0A%20%20%20%20%20%20%20%20%20%20%20%20%29.addTo%28marker_cluster_67359bb34138463b8bbaf6c2ba135992%29%3B%0A%20%20%20%20%20%20%20%20%0A%20%20%20%20%0A%20%20%20%20%20%20%20%20%20%20%20%20var%20icon_a497f488b9354ae190b40caaaa1acdd1%20%3D%20L.AwesomeMarkers.icon%28%0A%20%20%20%20%20%20%20%20%20%20%20%20%20%20%20%20%7B%22extraClasses%22%3A%20%22fa-rotate-0%22%2C%20%22icon%22%3A%20%22bicycle%22%2C%20%22iconColor%22%3A%20%22white%22%2C%20%22markerColor%22%3A%20%22red%22%2C%20%22prefic%22%3A%20%22fa%22%2C%20%22prefix%22%3A%20%22glyphicon%22%7D%0A%20%20%20%20%20%20%20%20%20%20%20%20%29%3B%0A%20%20%20%20%20%20%20%20%20%20%20%20marker_563a53078f7a4e22b27b6754ba3ed085.setIcon%28icon_a497f488b9354ae190b40caaaa1acdd1%29%3B%0A%20%20%20%20%20%20%20%20%0A%20%20%20%20%0A%20%20%20%20%20%20%20%20var%20popup_75e37e31670044f88b61afc7dd7c8e52%20%3D%20L.popup%28%7B%22maxWidth%22%3A%20%22100%25%22%7D%29%3B%0A%0A%20%20%20%20%20%20%20%20%0A%20%20%20%20%20%20%20%20%20%20%20%20var%20html_df63533decd14e549625d5ec55852854%20%3D%20%24%28%60%3Cdiv%20id%3D%22html_df63533decd14e549625d5ec55852854%22%20style%3D%22width%3A%20100.0%25%3B%20height%3A%20100.0%25%3B%22%3EId%3A%20275%3Cbr%3ERiego%20Street%3Cbr%3EDescription%3A%20Riego%20Street%20on%20junction%20with%20East%20Fountainbridge%3Cbr%3E%3Cbr%3ECounts%3A%20877%3C/div%3E%60%29%5B0%5D%3B%0A%20%20%20%20%20%20%20%20%20%20%20%20popup_75e37e31670044f88b61afc7dd7c8e52.setContent%28html_df63533decd14e549625d5ec55852854%29%3B%0A%20%20%20%20%20%20%20%20%0A%0A%20%20%20%20%20%20%20%20marker_563a53078f7a4e22b27b6754ba3ed085.bindPopup%28popup_75e37e31670044f88b61afc7dd7c8e52%29%0A%20%20%20%20%20%20%20%20%3B%0A%0A%20%20%20%20%20%20%20%20%0A%20%20%20%20%0A%20%20%20%20%0A%20%20%20%20%20%20%20%20%20%20%20%20var%20marker_67c07186322743bb9281f474fa6baa71%20%3D%20L.marker%28%0A%20%20%20%20%20%20%20%20%20%20%20%20%20%20%20%20%5B55.957792800284125%2C%20-3.175798619087572%5D%2C%0A%20%20%20%20%20%20%20%20%20%20%20%20%20%20%20%20%7B%7D%0A%20%20%20%20%20%20%20%20%20%20%20%20%29.addTo%28marker_cluster_67359bb34138463b8bbaf6c2ba135992%29%3B%0A%20%20%20%20%20%20%20%20%0A%20%20%20%20%0A%20%20%20%20%20%20%20%20%20%20%20%20var%20icon_36b7fb824fd2445ab0323f09a1581637%20%3D%20L.AwesomeMarkers.icon%28%0A%20%20%20%20%20%20%20%20%20%20%20%20%20%20%20%20%7B%22extraClasses%22%3A%20%22fa-rotate-0%22%2C%20%22icon%22%3A%20%22bicycle%22%2C%20%22iconColor%22%3A%20%22white%22%2C%20%22markerColor%22%3A%20%22red%22%2C%20%22prefic%22%3A%20%22fa%22%2C%20%22prefix%22%3A%20%22glyphicon%22%7D%0A%20%20%20%20%20%20%20%20%20%20%20%20%29%3B%0A%20%20%20%20%20%20%20%20%20%20%20%20marker_67c07186322743bb9281f474fa6baa71.setIcon%28icon_36b7fb824fd2445ab0323f09a1581637%29%3B%0A%20%20%20%20%20%20%20%20%0A%20%20%20%20%0A%20%20%20%20%20%20%20%20var%20popup_c119d1f7e05a46639ea73ba3e4f2d18d%20%3D%20L.popup%28%7B%22maxWidth%22%3A%20%22100%25%22%7D%29%3B%0A%0A%20%20%20%20%20%20%20%20%0A%20%20%20%20%20%20%20%20%20%20%20%20var%20html_285a5e180fe54e7db2c79ff8220637aa%20%3D%20%24%28%60%3Cdiv%20id%3D%22html_285a5e180fe54e7db2c79ff8220637aa%22%20style%3D%22width%3A%20100.0%25%3B%20height%3A%20100.0%25%3B%22%3EId%3A%20870%3Cbr%3EHillside%20Crescent%3Cbr%3EDescription%3A%20East%20corner%20of%20Hillside%20Crescent%20%26%20London%20Road%3Cbr%3E%3Cbr%3ECounts%3A%20840%3C/div%3E%60%29%5B0%5D%3B%0A%20%20%20%20%20%20%20%20%20%20%20%20popup_c119d1f7e05a46639ea73ba3e4f2d18d.setContent%28html_285a5e180fe54e7db2c79ff8220637aa%29%3B%0A%20%20%20%20%20%20%20%20%0A%0A%20%20%20%20%20%20%20%20marker_67c07186322743bb9281f474fa6baa71.bindPopup%28popup_c119d1f7e05a46639ea73ba3e4f2d18d%29%0A%20%20%20%20%20%20%20%20%3B%0A%0A%20%20%20%20%20%20%20%20%0A%20%20%20%20%0A%20%20%20%20%0A%20%20%20%20%20%20%20%20%20%20%20%20var%20marker_a9558bd4c45b4dec837494493af12afa%20%3D%20L.marker%28%0A%20%20%20%20%20%20%20%20%20%20%20%20%20%20%20%20%5B55.94388031687606%2C%20-3.066753916217862%5D%2C%0A%20%20%20%20%20%20%20%20%20%20%20%20%20%20%20%20%7B%7D%0A%20%20%20%20%20%20%20%20%20%20%20%20%29.addTo%28marker_cluster_67359bb34138463b8bbaf6c2ba135992%29%3B%0A%20%20%20%20%20%20%20%20%0A%20%20%20%20%0A%20%20%20%20%20%20%20%20%20%20%20%20var%20icon_8ec6839ba2204ff19a30347ab7a0aa55%20%3D%20L.AwesomeMarkers.icon%28%0A%20%20%20%20%20%20%20%20%20%20%20%20%20%20%20%20%7B%22extraClasses%22%3A%20%22fa-rotate-0%22%2C%20%22icon%22%3A%20%22bicycle%22%2C%20%22iconColor%22%3A%20%22white%22%2C%20%22markerColor%22%3A%20%22red%22%2C%20%22prefic%22%3A%20%22fa%22%2C%20%22prefix%22%3A%20%22glyphicon%22%7D%0A%20%20%20%20%20%20%20%20%20%20%20%20%29%3B%0A%20%20%20%20%20%20%20%20%20%20%20%20marker_a9558bd4c45b4dec837494493af12afa.setIcon%28icon_8ec6839ba2204ff19a30347ab7a0aa55%29%3B%0A%20%20%20%20%20%20%20%20%0A%20%20%20%20%0A%20%20%20%20%20%20%20%20var%20popup_0c2b683755c04e108052ff2dca5838d2%20%3D%20L.popup%28%7B%22maxWidth%22%3A%20%22100%25%22%7D%29%3B%0A%0A%20%20%20%20%20%20%20%20%0A%20%20%20%20%20%20%20%20%20%20%20%20var%20html_772dd931970346758815c7159d16f2d3%20%3D%20%24%28%60%3Cdiv%20id%3D%22html_772dd931970346758815c7159d16f2d3%22%20style%3D%22width%3A%20100.0%25%3B%20height%3A%20100.0%25%3B%22%3EId%3A%202263%3Cbr%3EMusselburgh%20Lidl%3Cbr%3EDescription%3A%20Musselborough%20North%20High%20Street%20opposite%20Harbour%20Road%3Cbr%3E%3Cbr%3ECounts%3A%20838%3C/div%3E%60%29%5B0%5D%3B%0A%20%20%20%20%20%20%20%20%20%20%20%20popup_0c2b683755c04e108052ff2dca5838d2.setContent%28html_772dd931970346758815c7159d16f2d3%29%3B%0A%20%20%20%20%20%20%20%20%0A%0A%20%20%20%20%20%20%20%20marker_a9558bd4c45b4dec837494493af12afa.bindPopup%28popup_0c2b683755c04e108052ff2dca5838d2%29%0A%20%20%20%20%20%20%20%20%3B%0A%0A%20%20%20%20%20%20%20%20%0A%20%20%20%20%0A%20%20%20%20%0A%20%20%20%20%20%20%20%20%20%20%20%20var%20marker_cef128a341dc4933bf4df5215447d504%20%3D%20L.marker%28%0A%20%20%20%20%20%20%20%20%20%20%20%20%20%20%20%20%5B55.97126891219085%2C%20-3.207815717530479%5D%2C%0A%20%20%20%20%20%20%20%20%20%20%20%20%20%20%20%20%7B%7D%0A%20%20%20%20%20%20%20%20%20%20%20%20%29.addTo%28marker_cluster_67359bb34138463b8bbaf6c2ba135992%29%3B%0A%20%20%20%20%20%20%20%20%0A%20%20%20%20%0A%20%20%20%20%20%20%20%20%20%20%20%20var%20icon_e109335a8e0c4607abe1d4922644ba1f%20%3D%20L.AwesomeMarkers.icon%28%0A%20%20%20%20%20%20%20%20%20%20%20%20%20%20%20%20%7B%22extraClasses%22%3A%20%22fa-rotate-0%22%2C%20%22icon%22%3A%20%22bicycle%22%2C%20%22iconColor%22%3A%20%22white%22%2C%20%22markerColor%22%3A%20%22red%22%2C%20%22prefic%22%3A%20%22fa%22%2C%20%22prefix%22%3A%20%22glyphicon%22%7D%0A%20%20%20%20%20%20%20%20%20%20%20%20%29%3B%0A%20%20%20%20%20%20%20%20%20%20%20%20marker_cef128a341dc4933bf4df5215447d504.setIcon%28icon_e109335a8e0c4607abe1d4922644ba1f%29%3B%0A%20%20%20%20%20%20%20%20%0A%20%20%20%20%0A%20%20%20%20%20%20%20%20var%20popup_bac9746345b447df9856927c24e91a9e%20%3D%20L.popup%28%7B%22maxWidth%22%3A%20%22100%25%22%7D%29%3B%0A%0A%20%20%20%20%20%20%20%20%0A%20%20%20%20%20%20%20%20%20%20%20%20var%20html_19cf843fa5c74f0b812bc225ddb80d11%20%3D%20%24%28%60%3Cdiv%20id%3D%22html_19cf843fa5c74f0b812bc225ddb80d11%22%20style%3D%22width%3A%20100.0%25%3B%20height%3A%20100.0%25%3B%22%3EId%3A%20354%3Cbr%3ESouth%20Trinity%20Road%3Cbr%3EDescription%3A%20Corner%20of%20South%20Trinity%20Road%20%26%20Ferry%20Road%3Cbr%3E%3Cbr%3ECounts%3A%20813%3C/div%3E%60%29%5B0%5D%3B%0A%20%20%20%20%20%20%20%20%20%20%20%20popup_bac9746345b447df9856927c24e91a9e.setContent%28html_19cf843fa5c74f0b812bc225ddb80d11%29%3B%0A%20%20%20%20%20%20%20%20%0A%0A%20%20%20%20%20%20%20%20marker_cef128a341dc4933bf4df5215447d504.bindPopup%28popup_bac9746345b447df9856927c24e91a9e%29%0A%20%20%20%20%20%20%20%20%3B%0A%0A%20%20%20%20%20%20%20%20%0A%20%20%20%20%0A%20%20%20%20%0A%20%20%20%20%20%20%20%20%20%20%20%20var%20marker_00750e1f7387490295b39476eeb1f50f%20%3D%20L.marker%28%0A%20%20%20%20%20%20%20%20%20%20%20%20%20%20%20%20%5B55.96919856910954%2C%20-3.166884617023356%5D%2C%0A%20%20%20%20%20%20%20%20%20%20%20%20%20%20%20%20%7B%7D%0A%20%20%20%20%20%20%20%20%20%20%20%20%29.addTo%28marker_cluster_67359bb34138463b8bbaf6c2ba135992%29%3B%0A%20%20%20%20%20%20%20%20%0A%20%20%20%20%0A%20%20%20%20%20%20%20%20%20%20%20%20var%20icon_7d220463767f40b58ed14e9ed35fc65e%20%3D%20L.AwesomeMarkers.icon%28%0A%20%20%20%20%20%20%20%20%20%20%20%20%20%20%20%20%7B%22extraClasses%22%3A%20%22fa-rotate-0%22%2C%20%22icon%22%3A%20%22bicycle%22%2C%20%22iconColor%22%3A%20%22white%22%2C%20%22markerColor%22%3A%20%22red%22%2C%20%22prefic%22%3A%20%22fa%22%2C%20%22prefix%22%3A%20%22glyphicon%22%7D%0A%20%20%20%20%20%20%20%20%20%20%20%20%29%3B%0A%20%20%20%20%20%20%20%20%20%20%20%20marker_00750e1f7387490295b39476eeb1f50f.setIcon%28icon_7d220463767f40b58ed14e9ed35fc65e%29%3B%0A%20%20%20%20%20%20%20%20%0A%20%20%20%20%0A%20%20%20%20%20%20%20%20var%20popup_d43fd7ac9259469aa2f142067f0293e9%20%3D%20L.popup%28%7B%22maxWidth%22%3A%20%22100%25%22%7D%29%3B%0A%0A%20%20%20%20%20%20%20%20%0A%20%20%20%20%20%20%20%20%20%20%20%20var%20html_3dfd870796d949299da100f1691d39c9%20%3D%20%24%28%60%3Cdiv%20id%3D%22html_3dfd870796d949299da100f1691d39c9%22%20style%3D%22width%3A%20100.0%25%3B%20height%3A%20100.0%25%3B%22%3EId%3A%20284%3Cbr%3ELeith%20Links%3Cbr%3EDescription%3A%20Corner%20of%20Vanburgh%20Place%20and%20Lochend%20Road%3Cbr%3E%3Cbr%3ECounts%3A%20809%3C/div%3E%60%29%5B0%5D%3B%0A%20%20%20%20%20%20%20%20%20%20%20%20popup_d43fd7ac9259469aa2f142067f0293e9.setContent%28html_3dfd870796d949299da100f1691d39c9%29%3B%0A%20%20%20%20%20%20%20%20%0A%0A%20%20%20%20%20%20%20%20marker_00750e1f7387490295b39476eeb1f50f.bindPopup%28popup_d43fd7ac9259469aa2f142067f0293e9%29%0A%20%20%20%20%20%20%20%20%3B%0A%0A%20%20%20%20%20%20%20%20%0A%20%20%20%20%0A%20%20%20%20%0A%20%20%20%20%20%20%20%20%20%20%20%20var%20marker_6d3bbe1036a948e081e3fca12b015e3c%20%3D%20L.marker%28%0A%20%20%20%20%20%20%20%20%20%20%20%20%20%20%20%20%5B55.94479128084842%2C%20-3.243673010460725%5D%2C%0A%20%20%20%20%20%20%20%20%20%20%20%20%20%20%20%20%7B%7D%0A%20%20%20%20%20%20%20%20%20%20%20%20%29.addTo%28marker_cluster_67359bb34138463b8bbaf6c2ba135992%29%3B%0A%20%20%20%20%20%20%20%20%0A%20%20%20%20%0A%20%20%20%20%20%20%20%20%20%20%20%20var%20icon_b66b9ee255e74058b36073017fd6dcc1%20%3D%20L.AwesomeMarkers.icon%28%0A%20%20%20%20%20%20%20%20%20%20%20%20%20%20%20%20%7B%22extraClasses%22%3A%20%22fa-rotate-0%22%2C%20%22icon%22%3A%20%22bicycle%22%2C%20%22iconColor%22%3A%20%22white%22%2C%20%22markerColor%22%3A%20%22red%22%2C%20%22prefic%22%3A%20%22fa%22%2C%20%22prefix%22%3A%20%22glyphicon%22%7D%0A%20%20%20%20%20%20%20%20%20%20%20%20%29%3B%0A%20%20%20%20%20%20%20%20%20%20%20%20marker_6d3bbe1036a948e081e3fca12b015e3c.setIcon%28icon_b66b9ee255e74058b36073017fd6dcc1%29%3B%0A%20%20%20%20%20%20%20%20%0A%20%20%20%20%0A%20%20%20%20%20%20%20%20var%20popup_0b0e5d973048445d82221b5b109d3a2f%20%3D%20L.popup%28%7B%22maxWidth%22%3A%20%22100%25%22%7D%29%3B%0A%0A%20%20%20%20%20%20%20%20%0A%20%20%20%20%20%20%20%20%20%20%20%20var%20html_6cb02a17676d4d06ab8306dadce7f1f2%20%3D%20%24%28%60%3Cdiv%20id%3D%22html_6cb02a17676d4d06ab8306dadce7f1f2%22%20style%3D%22width%3A%20100.0%25%3B%20height%3A%20100.0%25%3B%22%3EId%3A%201799%3Cbr%3EMurrayfield%3Cbr%3EDescription%3A%20Near%20Stadium%20and%20Ice%20Rink%3Cbr%3E%3Cbr%3ECounts%3A%20804%3C/div%3E%60%29%5B0%5D%3B%0A%20%20%20%20%20%20%20%20%20%20%20%20popup_0b0e5d973048445d82221b5b109d3a2f.setContent%28html_6cb02a17676d4d06ab8306dadce7f1f2%29%3B%0A%20%20%20%20%20%20%20%20%0A%0A%20%20%20%20%20%20%20%20marker_6d3bbe1036a948e081e3fca12b015e3c.bindPopup%28popup_0b0e5d973048445d82221b5b109d3a2f%29%0A%20%20%20%20%20%20%20%20%3B%0A%0A%20%20%20%20%20%20%20%20%0A%20%20%20%20%0A%20%20%20%20%0A%20%20%20%20%20%20%20%20%20%20%20%20var%20marker_2e49bd035c4841408cc37468a7a7760f%20%3D%20L.marker%28%0A%20%20%20%20%20%20%20%20%20%20%20%20%20%20%20%20%5B55.938363058645024%2C%20-3.198031182386103%5D%2C%0A%20%20%20%20%20%20%20%20%20%20%20%20%20%20%20%20%7B%7D%0A%20%20%20%20%20%20%20%20%20%20%20%20%29.addTo%28marker_cluster_67359bb34138463b8bbaf6c2ba135992%29%3B%0A%20%20%20%20%20%20%20%20%0A%20%20%20%20%0A%20%20%20%20%20%20%20%20%20%20%20%20var%20icon_26be6eb0f8844986b82f486fa5928110%20%3D%20L.AwesomeMarkers.icon%28%0A%20%20%20%20%20%20%20%20%20%20%20%20%20%20%20%20%7B%22extraClasses%22%3A%20%22fa-rotate-0%22%2C%20%22icon%22%3A%20%22bicycle%22%2C%20%22iconColor%22%3A%20%22white%22%2C%20%22markerColor%22%3A%20%22red%22%2C%20%22prefic%22%3A%20%22fa%22%2C%20%22prefix%22%3A%20%22glyphicon%22%7D%0A%20%20%20%20%20%20%20%20%20%20%20%20%29%3B%0A%20%20%20%20%20%20%20%20%20%20%20%20marker_2e49bd035c4841408cc37468a7a7760f.setIcon%28icon_26be6eb0f8844986b82f486fa5928110%29%3B%0A%20%20%20%20%20%20%20%20%0A%20%20%20%20%0A%20%20%20%20%20%20%20%20var%20popup_bc792902d3b24d939d890cf83c65a657%20%3D%20L.popup%28%7B%22maxWidth%22%3A%20%22100%25%22%7D%29%3B%0A%0A%20%20%20%20%20%20%20%20%0A%20%20%20%20%20%20%20%20%20%20%20%20var%20html_d7dd6de72df0439e8df35a323663036f%20%3D%20%24%28%60%3Cdiv%20id%3D%22html_d7dd6de72df0439e8df35a323663036f%22%20style%3D%22width%3A%20100.0%25%3B%20height%3A%20100.0%25%3B%22%3EId%3A%20341%3Cbr%3EWarrender%20Park%20Road%3Cbr%3EDescription%3A%20Corner%20of%20Warrender%20Park%20Road%20%26%20Spottiswoode%20Street%3Cbr%3E%3Cbr%3ECounts%3A%20801%3C/div%3E%60%29%5B0%5D%3B%0A%20%20%20%20%20%20%20%20%20%20%20%20popup_bc792902d3b24d939d890cf83c65a657.setContent%28html_d7dd6de72df0439e8df35a323663036f%29%3B%0A%20%20%20%20%20%20%20%20%0A%0A%20%20%20%20%20%20%20%20marker_2e49bd035c4841408cc37468a7a7760f.bindPopup%28popup_bc792902d3b24d939d890cf83c65a657%29%0A%20%20%20%20%20%20%20%20%3B%0A%0A%20%20%20%20%20%20%20%20%0A%20%20%20%20%0A%20%20%20%20%0A%20%20%20%20%20%20%20%20%20%20%20%20var%20marker_b5871954ce444d5582aee0b7c82a29c2%20%3D%20L.marker%28%0A%20%20%20%20%20%20%20%20%20%20%20%20%20%20%20%20%5B55.93639749674367%2C%20-3.194252202886105%5D%2C%0A%20%20%20%20%20%20%20%20%20%20%20%20%20%20%20%20%7B%7D%0A%20%20%20%20%20%20%20%20%20%20%20%20%29.addTo%28marker_cluster_67359bb34138463b8bbaf6c2ba135992%29%3B%0A%20%20%20%20%20%20%20%20%0A%20%20%20%20%0A%20%20%20%20%20%20%20%20%20%20%20%20var%20icon_349e590a47904a1493ceb1c2481cb1ce%20%3D%20L.AwesomeMarkers.icon%28%0A%20%20%20%20%20%20%20%20%20%20%20%20%20%20%20%20%7B%22extraClasses%22%3A%20%22fa-rotate-0%22%2C%20%22icon%22%3A%20%22bicycle%22%2C%20%22iconColor%22%3A%20%22white%22%2C%20%22markerColor%22%3A%20%22red%22%2C%20%22prefic%22%3A%20%22fa%22%2C%20%22prefix%22%3A%20%22glyphicon%22%7D%0A%20%20%20%20%20%20%20%20%20%20%20%20%29%3B%0A%20%20%20%20%20%20%20%20%20%20%20%20marker_b5871954ce444d5582aee0b7c82a29c2.setIcon%28icon_349e590a47904a1493ceb1c2481cb1ce%29%3B%0A%20%20%20%20%20%20%20%20%0A%20%20%20%20%0A%20%20%20%20%20%20%20%20var%20popup_5ca3f31b69ff43d9bf06ee7ed5cc2fdc%20%3D%20L.popup%28%7B%22maxWidth%22%3A%20%22100%25%22%7D%29%3B%0A%0A%20%20%20%20%20%20%20%20%0A%20%20%20%20%20%20%20%20%20%20%20%20var%20html_b5467dd5576f445e82c091cb194da809%20%3D%20%24%28%60%3Cdiv%20id%3D%22html_b5467dd5576f445e82c091cb194da809%22%20style%3D%22width%3A%20100.0%25%3B%20height%3A%20100.0%25%3B%22%3EId%3A%20344%3Cbr%3EMarchmont%20Crescent%3Cbr%3EDescription%3A%20Corner%20of%20Marchmont%20Crescent%20%26%20Marchmont%20Road%3Cbr%3E%3Cbr%3ECounts%3A%20788%3C/div%3E%60%29%5B0%5D%3B%0A%20%20%20%20%20%20%20%20%20%20%20%20popup_5ca3f31b69ff43d9bf06ee7ed5cc2fdc.setContent%28html_b5467dd5576f445e82c091cb194da809%29%3B%0A%20%20%20%20%20%20%20%20%0A%0A%20%20%20%20%20%20%20%20marker_b5871954ce444d5582aee0b7c82a29c2.bindPopup%28popup_5ca3f31b69ff43d9bf06ee7ed5cc2fdc%29%0A%20%20%20%20%20%20%20%20%3B%0A%0A%20%20%20%20%20%20%20%20%0A%20%20%20%20%0A%20%20%20%20%0A%20%20%20%20%20%20%20%20%20%20%20%20var%20marker_9266ae09d40a4702975547a6582f940b%20%3D%20L.marker%28%0A%20%20%20%20%20%20%20%20%20%20%20%20%20%20%20%20%5B55.947490592969416%2C%20-3.181112126101965%5D%2C%0A%20%20%20%20%20%20%20%20%20%20%20%20%20%20%20%20%7B%7D%0A%20%20%20%20%20%20%20%20%20%20%20%20%29.addTo%28marker_cluster_67359bb34138463b8bbaf6c2ba135992%29%3B%0A%20%20%20%20%20%20%20%20%0A%20%20%20%20%0A%20%20%20%20%20%20%20%20%20%20%20%20var%20icon_eb9ae7a820264fdd9641bff23a83f10b%20%3D%20L.AwesomeMarkers.icon%28%0A%20%20%20%20%20%20%20%20%20%20%20%20%20%20%20%20%7B%22extraClasses%22%3A%20%22fa-rotate-0%22%2C%20%22icon%22%3A%20%22bicycle%22%2C%20%22iconColor%22%3A%20%22white%22%2C%20%22markerColor%22%3A%20%22red%22%2C%20%22prefic%22%3A%20%22fa%22%2C%20%22prefix%22%3A%20%22glyphicon%22%7D%0A%20%20%20%20%20%20%20%20%20%20%20%20%29%3B%0A%20%20%20%20%20%20%20%20%20%20%20%20marker_9266ae09d40a4702975547a6582f940b.setIcon%28icon_eb9ae7a820264fdd9641bff23a83f10b%29%3B%0A%20%20%20%20%20%20%20%20%0A%20%20%20%20%0A%20%20%20%20%20%20%20%20var%20popup_e23cdb0560cd447982b6f41e8fdd4144%20%3D%20L.popup%28%7B%22maxWidth%22%3A%20%22100%25%22%7D%29%3B%0A%0A%20%20%20%20%20%20%20%20%0A%20%20%20%20%20%20%20%20%20%20%20%20var%20html_797dd58a16b046bca77c35ccc3a19370%20%3D%20%24%28%60%3Cdiv%20id%3D%22html_797dd58a16b046bca77c35ccc3a19370%22%20style%3D%22width%3A%20100.0%25%3B%20height%3A%20100.0%25%3B%22%3EId%3A%201731%3Cbr%3EPleasance%20Courtyard%3Cbr%3EDescription%3A%20Edinburgh%20University%2C%20The%20Pleasance%3Cbr%3E%3Cbr%3ECounts%3A%20770%3C/div%3E%60%29%5B0%5D%3B%0A%20%20%20%20%20%20%20%20%20%20%20%20popup_e23cdb0560cd447982b6f41e8fdd4144.setContent%28html_797dd58a16b046bca77c35ccc3a19370%29%3B%0A%20%20%20%20%20%20%20%20%0A%0A%20%20%20%20%20%20%20%20marker_9266ae09d40a4702975547a6582f940b.bindPopup%28popup_e23cdb0560cd447982b6f41e8fdd4144%29%0A%20%20%20%20%20%20%20%20%3B%0A%0A%20%20%20%20%20%20%20%20%0A%20%20%20%20%0A%20%20%20%20%0A%20%20%20%20%20%20%20%20%20%20%20%20var%20marker_0e88ab3f5e544c70ba91d74b10eb3a0e%20%3D%20L.marker%28%0A%20%20%20%20%20%20%20%20%20%20%20%20%20%20%20%20%5B55.98989968232655%2C%20-3.397772901929727%5D%2C%0A%20%20%20%20%20%20%20%20%20%20%20%20%20%20%20%20%7B%7D%0A%20%20%20%20%20%20%20%20%20%20%20%20%29.addTo%28marker_cluster_67359bb34138463b8bbaf6c2ba135992%29%3B%0A%20%20%20%20%20%20%20%20%0A%20%20%20%20%0A%20%20%20%20%20%20%20%20%20%20%20%20var%20icon_fb1d2265e65542cbae6fe41cc850d89b%20%3D%20L.AwesomeMarkers.icon%28%0A%20%20%20%20%20%20%20%20%20%20%20%20%20%20%20%20%7B%22extraClasses%22%3A%20%22fa-rotate-0%22%2C%20%22icon%22%3A%20%22bicycle%22%2C%20%22iconColor%22%3A%20%22white%22%2C%20%22markerColor%22%3A%20%22red%22%2C%20%22prefic%22%3A%20%22fa%22%2C%20%22prefix%22%3A%20%22glyphicon%22%7D%0A%20%20%20%20%20%20%20%20%20%20%20%20%29%3B%0A%20%20%20%20%20%20%20%20%20%20%20%20marker_0e88ab3f5e544c70ba91d74b10eb3a0e.setIcon%28icon_fb1d2265e65542cbae6fe41cc850d89b%29%3B%0A%20%20%20%20%20%20%20%20%0A%20%20%20%20%0A%20%20%20%20%20%20%20%20var%20popup_65443ca121d143888e2e67aca2144ea4%20%3D%20L.popup%28%7B%22maxWidth%22%3A%20%22100%25%22%7D%29%3B%0A%0A%20%20%20%20%20%20%20%20%0A%20%20%20%20%20%20%20%20%20%20%20%20var%20html_4c1ff4d0ce9e4bd0aed4fab2c31c4bf4%20%3D%20%24%28%60%3Cdiv%20id%3D%22html_4c1ff4d0ce9e4bd0aed4fab2c31c4bf4%22%20style%3D%22width%3A%20100.0%25%3B%20height%3A%20100.0%25%3B%22%3EId%3A%201866%3Cbr%3EThe%20Loan%3Cbr%3EDescription%3A%20Next%20to%20East%20Coast%20Tyres%3Cbr%3E%3Cbr%3ECounts%3A%20766%3C/div%3E%60%29%5B0%5D%3B%0A%20%20%20%20%20%20%20%20%20%20%20%20popup_65443ca121d143888e2e67aca2144ea4.setContent%28html_4c1ff4d0ce9e4bd0aed4fab2c31c4bf4%29%3B%0A%20%20%20%20%20%20%20%20%0A%0A%20%20%20%20%20%20%20%20marker_0e88ab3f5e544c70ba91d74b10eb3a0e.bindPopup%28popup_65443ca121d143888e2e67aca2144ea4%29%0A%20%20%20%20%20%20%20%20%3B%0A%0A%20%20%20%20%20%20%20%20%0A%20%20%20%20%0A%20%20%20%20%0A%20%20%20%20%20%20%20%20%20%20%20%20var%20marker_0a2cd31853984fb3817144c9c29c055d%20%3D%20L.marker%28%0A%20%20%20%20%20%20%20%20%20%20%20%20%20%20%20%20%5B55.94604282192561%2C%20-3.210484908343801%5D%2C%0A%20%20%20%20%20%20%20%20%20%20%20%20%20%20%20%20%7B%7D%0A%20%20%20%20%20%20%20%20%20%20%20%20%29.addTo%28marker_cluster_67359bb34138463b8bbaf6c2ba135992%29%3B%0A%20%20%20%20%20%20%20%20%0A%20%20%20%20%0A%20%20%20%20%20%20%20%20%20%20%20%20var%20icon_9186daa9ec714b79932018ea824f8585%20%3D%20L.AwesomeMarkers.icon%28%0A%20%20%20%20%20%20%20%20%20%20%20%20%20%20%20%20%7B%22extraClasses%22%3A%20%22fa-rotate-0%22%2C%20%22icon%22%3A%20%22bicycle%22%2C%20%22iconColor%22%3A%20%22white%22%2C%20%22markerColor%22%3A%20%22red%22%2C%20%22prefic%22%3A%20%22fa%22%2C%20%22prefix%22%3A%20%22glyphicon%22%7D%0A%20%20%20%20%20%20%20%20%20%20%20%20%29%3B%0A%20%20%20%20%20%20%20%20%20%20%20%20marker_0a2cd31853984fb3817144c9c29c055d.setIcon%28icon_9186daa9ec714b79932018ea824f8585%29%3B%0A%20%20%20%20%20%20%20%20%0A%20%20%20%20%0A%20%20%20%20%20%20%20%20var%20popup_a01ecfcfe3ee40f78317c0fbb9a7219e%20%3D%20L.popup%28%7B%22maxWidth%22%3A%20%22100%25%22%7D%29%3B%0A%0A%20%20%20%20%20%20%20%20%0A%20%20%20%20%20%20%20%20%20%20%20%20var%20html_8303845275c34474a0e5ff4d2f5ffe97%20%3D%20%24%28%60%3Cdiv%20id%3D%22html_8303845275c34474a0e5ff4d2f5ffe97%22%20style%3D%22width%3A%20100.0%25%3B%20height%3A%20100.0%25%3B%22%3EId%3A%20882%3Cbr%3EEICC%3Cbr%3EDescription%3A%20Between%20planters%20next%20to%20EICC%3Cbr%3E%3Cbr%3ECounts%3A%20760%3C/div%3E%60%29%5B0%5D%3B%0A%20%20%20%20%20%20%20%20%20%20%20%20popup_a01ecfcfe3ee40f78317c0fbb9a7219e.setContent%28html_8303845275c34474a0e5ff4d2f5ffe97%29%3B%0A%20%20%20%20%20%20%20%20%0A%0A%20%20%20%20%20%20%20%20marker_0a2cd31853984fb3817144c9c29c055d.bindPopup%28popup_a01ecfcfe3ee40f78317c0fbb9a7219e%29%0A%20%20%20%20%20%20%20%20%3B%0A%0A%20%20%20%20%20%20%20%20%0A%20%20%20%20%0A%20%20%20%20%0A%20%20%20%20%20%20%20%20%20%20%20%20var%20marker_5af84cf364c54369829f6b7b293f8a19%20%3D%20L.marker%28%0A%20%20%20%20%20%20%20%20%20%20%20%20%20%20%20%20%5B55.95950417668882%2C%20-3.223428055375961%5D%2C%0A%20%20%20%20%20%20%20%20%20%20%20%20%20%20%20%20%7B%7D%0A%20%20%20%20%20%20%20%20%20%20%20%20%29.addTo%28marker_cluster_67359bb34138463b8bbaf6c2ba135992%29%3B%0A%20%20%20%20%20%20%20%20%0A%20%20%20%20%0A%20%20%20%20%20%20%20%20%20%20%20%20var%20icon_6cca08f849dd4029a8648bd76e02376e%20%3D%20L.AwesomeMarkers.icon%28%0A%20%20%20%20%20%20%20%20%20%20%20%20%20%20%20%20%7B%22extraClasses%22%3A%20%22fa-rotate-0%22%2C%20%22icon%22%3A%20%22bicycle%22%2C%20%22iconColor%22%3A%20%22white%22%2C%20%22markerColor%22%3A%20%22red%22%2C%20%22prefic%22%3A%20%22fa%22%2C%20%22prefix%22%3A%20%22glyphicon%22%7D%0A%20%20%20%20%20%20%20%20%20%20%20%20%29%3B%0A%20%20%20%20%20%20%20%20%20%20%20%20marker_5af84cf364c54369829f6b7b293f8a19.setIcon%28icon_6cca08f849dd4029a8648bd76e02376e%29%3B%0A%20%20%20%20%20%20%20%20%0A%20%20%20%20%0A%20%20%20%20%20%20%20%20var%20popup_1f5d303f1abc451fb7941e1278e40392%20%3D%20L.popup%28%7B%22maxWidth%22%3A%20%22100%25%22%7D%29%3B%0A%0A%20%20%20%20%20%20%20%20%0A%20%20%20%20%20%20%20%20%20%20%20%20var%20html_99da5f64b9564a09bcdf18ee3c2be1c9%20%3D%20%24%28%60%3Cdiv%20id%3D%22html_99da5f64b9564a09bcdf18ee3c2be1c9%22%20style%3D%22width%3A%20100.0%25%3B%20height%3A%20100.0%25%3B%22%3EId%3A%20277%3Cbr%3EWaitrose%2C%20Comely%20Bank%3Cbr%3EDescription%3A%20Fettes%20Avenue%3Cbr%3E%3Cbr%3ECounts%3A%20749%3C/div%3E%60%29%5B0%5D%3B%0A%20%20%20%20%20%20%20%20%20%20%20%20popup_1f5d303f1abc451fb7941e1278e40392.setContent%28html_99da5f64b9564a09bcdf18ee3c2be1c9%29%3B%0A%20%20%20%20%20%20%20%20%0A%0A%20%20%20%20%20%20%20%20marker_5af84cf364c54369829f6b7b293f8a19.bindPopup%28popup_1f5d303f1abc451fb7941e1278e40392%29%0A%20%20%20%20%20%20%20%20%3B%0A%0A%20%20%20%20%20%20%20%20%0A%20%20%20%20%0A%20%20%20%20%0A%20%20%20%20%20%20%20%20%20%20%20%20var%20marker_d82665018d2a4a7798405b5940384b97%20%3D%20L.marker%28%0A%20%20%20%20%20%20%20%20%20%20%20%20%20%20%20%20%5B55.945045875212095%2C%20-3.250881447188249%5D%2C%0A%20%20%20%20%20%20%20%20%20%20%20%20%20%20%20%20%7B%7D%0A%20%20%20%20%20%20%20%20%20%20%20%20%29.addTo%28marker_cluster_67359bb34138463b8bbaf6c2ba135992%29%3B%0A%20%20%20%20%20%20%20%20%0A%20%20%20%20%0A%20%20%20%20%20%20%20%20%20%20%20%20var%20icon_36cc462a14e34131831a35cc0b108afd%20%3D%20L.AwesomeMarkers.icon%28%0A%20%20%20%20%20%20%20%20%20%20%20%20%20%20%20%20%7B%22extraClasses%22%3A%20%22fa-rotate-0%22%2C%20%22icon%22%3A%20%22bicycle%22%2C%20%22iconColor%22%3A%20%22white%22%2C%20%22markerColor%22%3A%20%22red%22%2C%20%22prefic%22%3A%20%22fa%22%2C%20%22prefix%22%3A%20%22glyphicon%22%7D%0A%20%20%20%20%20%20%20%20%20%20%20%20%29%3B%0A%20%20%20%20%20%20%20%20%20%20%20%20marker_d82665018d2a4a7798405b5940384b97.setIcon%28icon_36cc462a14e34131831a35cc0b108afd%29%3B%0A%20%20%20%20%20%20%20%20%0A%20%20%20%20%0A%20%20%20%20%20%20%20%20var%20popup_50b88ba59add47bbb86715e00997d605%20%3D%20L.popup%28%7B%22maxWidth%22%3A%20%22100%25%22%7D%29%3B%0A%0A%20%20%20%20%20%20%20%20%0A%20%20%20%20%20%20%20%20%20%20%20%20var%20html_94e3c2d98555447aac205c6ab96c1bcb%20%3D%20%24%28%60%3Cdiv%20id%3D%22html_94e3c2d98555447aac205c6ab96c1bcb%22%20style%3D%22width%3A%20100.0%25%3B%20height%3A%20100.0%25%3B%22%3EId%3A%201770%3Cbr%3EEllersly%20Road%3Cbr%3EDescription%3A%20Corner%20with%20A8%20Corstorphine%20Road%20at%20Western%20Terrace%3Cbr%3E%3Cbr%3ECounts%3A%20703%3C/div%3E%60%29%5B0%5D%3B%0A%20%20%20%20%20%20%20%20%20%20%20%20popup_50b88ba59add47bbb86715e00997d605.setContent%28html_94e3c2d98555447aac205c6ab96c1bcb%29%3B%0A%20%20%20%20%20%20%20%20%0A%0A%20%20%20%20%20%20%20%20marker_d82665018d2a4a7798405b5940384b97.bindPopup%28popup_50b88ba59add47bbb86715e00997d605%29%0A%20%20%20%20%20%20%20%20%3B%0A%0A%20%20%20%20%20%20%20%20%0A%20%20%20%20%0A%20%20%20%20%0A%20%20%20%20%20%20%20%20%20%20%20%20var%20marker_745d3695ff524c48968434c089ce149b%20%3D%20L.marker%28%0A%20%20%20%20%20%20%20%20%20%20%20%20%20%20%20%20%5B55.92668427748757%2C%20-3.289481117121666%5D%2C%0A%20%20%20%20%20%20%20%20%20%20%20%20%20%20%20%20%7B%7D%0A%20%20%20%20%20%20%20%20%20%20%20%20%29.addTo%28marker_cluster_67359bb34138463b8bbaf6c2ba135992%29%3B%0A%20%20%20%20%20%20%20%20%0A%20%20%20%20%0A%20%20%20%20%20%20%20%20%20%20%20%20var%20icon_89c013beee77485c92a7da2058488420%20%3D%20L.AwesomeMarkers.icon%28%0A%20%20%20%20%20%20%20%20%20%20%20%20%20%20%20%20%7B%22extraClasses%22%3A%20%22fa-rotate-0%22%2C%20%22icon%22%3A%20%22bicycle%22%2C%20%22iconColor%22%3A%20%22white%22%2C%20%22markerColor%22%3A%20%22red%22%2C%20%22prefic%22%3A%20%22fa%22%2C%20%22prefix%22%3A%20%22glyphicon%22%7D%0A%20%20%20%20%20%20%20%20%20%20%20%20%29%3B%0A%20%20%20%20%20%20%20%20%20%20%20%20marker_745d3695ff524c48968434c089ce149b.setIcon%28icon_89c013beee77485c92a7da2058488420%29%3B%0A%20%20%20%20%20%20%20%20%0A%20%20%20%20%0A%20%20%20%20%20%20%20%20var%20popup_48a2f34cca664cc782935e3999d8dec8%20%3D%20L.popup%28%7B%22maxWidth%22%3A%20%22100%25%22%7D%29%3B%0A%0A%20%20%20%20%20%20%20%20%0A%20%20%20%20%20%20%20%20%20%20%20%20var%20html_de3fde6d249b48a9af8767f11f17c639%20%3D%20%24%28%60%3Cdiv%20id%3D%22html_de3fde6d249b48a9af8767f11f17c639%22%20style%3D%22width%3A%20100.0%25%3B%20height%3A%20100.0%25%3B%22%3EId%3A%201815%3Cbr%3ESighthill%20-%20Edinburgh%20College%3Cbr%3EDescription%3A%20Sighthill%20Campus%3Cbr%3E%3Cbr%3ECounts%3A%20654%3C/div%3E%60%29%5B0%5D%3B%0A%20%20%20%20%20%20%20%20%20%20%20%20popup_48a2f34cca664cc782935e3999d8dec8.setContent%28html_de3fde6d249b48a9af8767f11f17c639%29%3B%0A%20%20%20%20%20%20%20%20%0A%0A%20%20%20%20%20%20%20%20marker_745d3695ff524c48968434c089ce149b.bindPopup%28popup_48a2f34cca664cc782935e3999d8dec8%29%0A%20%20%20%20%20%20%20%20%3B%0A%0A%20%20%20%20%20%20%20%20%0A%20%20%20%20%0A%20%20%20%20%0A%20%20%20%20%20%20%20%20%20%20%20%20var%20marker_960e32d57778466abf8f98f15a4474be%20%3D%20L.marker%28%0A%20%20%20%20%20%20%20%20%20%20%20%20%20%20%20%20%5B55.93339776573361%2C%20-3.212428647463525%5D%2C%0A%20%20%20%20%20%20%20%20%20%20%20%20%20%20%20%20%7B%7D%0A%20%20%20%20%20%20%20%20%20%20%20%20%29.addTo%28marker_cluster_67359bb34138463b8bbaf6c2ba135992%29%3B%0A%20%20%20%20%20%20%20%20%0A%20%20%20%20%0A%20%20%20%20%20%20%20%20%20%20%20%20var%20icon_c291255830774ccda3476634696b8a49%20%3D%20L.AwesomeMarkers.icon%28%0A%20%20%20%20%20%20%20%20%20%20%20%20%20%20%20%20%7B%22extraClasses%22%3A%20%22fa-rotate-0%22%2C%20%22icon%22%3A%20%22bicycle%22%2C%20%22iconColor%22%3A%20%22white%22%2C%20%22markerColor%22%3A%20%22red%22%2C%20%22prefic%22%3A%20%22fa%22%2C%20%22prefix%22%3A%20%22glyphicon%22%7D%0A%20%20%20%20%20%20%20%20%20%20%20%20%29%3B%0A%20%20%20%20%20%20%20%20%20%20%20%20marker_960e32d57778466abf8f98f15a4474be.setIcon%28icon_c291255830774ccda3476634696b8a49%29%3B%0A%20%20%20%20%20%20%20%20%0A%20%20%20%20%0A%20%20%20%20%20%20%20%20var%20popup_7bde36410cac4c7797f9a55fcc05924c%20%3D%20L.popup%28%7B%22maxWidth%22%3A%20%22100%25%22%7D%29%3B%0A%0A%20%20%20%20%20%20%20%20%0A%20%20%20%20%20%20%20%20%20%20%20%20var%20html_5b5871dbdf1140d88f35f960b6158c69%20%3D%20%24%28%60%3Cdiv%20id%3D%22html_5b5871dbdf1140d88f35f960b6158c69%22%20style%3D%22width%3A%20100.0%25%3B%20height%3A%20100.0%25%3B%22%3EId%3A%20345%3Cbr%3EColinton%20Road%3Cbr%3EDescription%3A%20Colinton%20Road%20next%20to%20Napier%20University%3Cbr%3E%3Cbr%3ECounts%3A%20619%3C/div%3E%60%29%5B0%5D%3B%0A%20%20%20%20%20%20%20%20%20%20%20%20popup_7bde36410cac4c7797f9a55fcc05924c.setContent%28html_5b5871dbdf1140d88f35f960b6158c69%29%3B%0A%20%20%20%20%20%20%20%20%0A%0A%20%20%20%20%20%20%20%20marker_960e32d57778466abf8f98f15a4474be.bindPopup%28popup_7bde36410cac4c7797f9a55fcc05924c%29%0A%20%20%20%20%20%20%20%20%3B%0A%0A%20%20%20%20%20%20%20%20%0A%20%20%20%20%0A%20%20%20%20%0A%20%20%20%20%20%20%20%20%20%20%20%20var%20marker_db9be704d33346d3a5825b0854f8d2e3%20%3D%20L.marker%28%0A%20%20%20%20%20%20%20%20%20%20%20%20%20%20%20%20%5B55.9456092021698%2C%20-3.231715619159217%5D%2C%0A%20%20%20%20%20%20%20%20%20%20%20%20%20%20%20%20%7B%7D%0A%20%20%20%20%20%20%20%20%20%20%20%20%29.addTo%28marker_cluster_67359bb34138463b8bbaf6c2ba135992%29%3B%0A%20%20%20%20%20%20%20%20%0A%20%20%20%20%0A%20%20%20%20%20%20%20%20%20%20%20%20var%20icon_aae103cbcfc9433ea32045e5a319f4ec%20%3D%20L.AwesomeMarkers.icon%28%0A%20%20%20%20%20%20%20%20%20%20%20%20%20%20%20%20%7B%22extraClasses%22%3A%20%22fa-rotate-0%22%2C%20%22icon%22%3A%20%22bicycle%22%2C%20%22iconColor%22%3A%20%22white%22%2C%20%22markerColor%22%3A%20%22red%22%2C%20%22prefic%22%3A%20%22fa%22%2C%20%22prefix%22%3A%20%22glyphicon%22%7D%0A%20%20%20%20%20%20%20%20%20%20%20%20%29%3B%0A%20%20%20%20%20%20%20%20%20%20%20%20marker_db9be704d33346d3a5825b0854f8d2e3.setIcon%28icon_aae103cbcfc9433ea32045e5a319f4ec%29%3B%0A%20%20%20%20%20%20%20%20%0A%20%20%20%20%0A%20%20%20%20%20%20%20%20var%20popup_6db0b0ee61614c9bb284dc952ab1b843%20%3D%20L.popup%28%7B%22maxWidth%22%3A%20%22100%25%22%7D%29%3B%0A%0A%20%20%20%20%20%20%20%20%0A%20%20%20%20%20%20%20%20%20%20%20%20var%20html_e97333a294d242e7bcaabc51bd955a7b%20%3D%20%24%28%60%3Cdiv%20id%3D%22html_e97333a294d242e7bcaabc51bd955a7b%22%20style%3D%22width%3A%20100.0%25%3B%20height%3A%20100.0%25%3B%22%3EId%3A%20885%3Cbr%3EWester%20Coates%20Terrace%3Cbr%3EDescription%3A%20Corner%20of%20Wester%20Coates%20Terrace%20%26%20Roseburn%20Terrace%3Cbr%3E%3Cbr%3ECounts%3A%20619%3C/div%3E%60%29%5B0%5D%3B%0A%20%20%20%20%20%20%20%20%20%20%20%20popup_6db0b0ee61614c9bb284dc952ab1b843.setContent%28html_e97333a294d242e7bcaabc51bd955a7b%29%3B%0A%20%20%20%20%20%20%20%20%0A%0A%20%20%20%20%20%20%20%20marker_db9be704d33346d3a5825b0854f8d2e3.bindPopup%28popup_6db0b0ee61614c9bb284dc952ab1b843%29%0A%20%20%20%20%20%20%20%20%3B%0A%0A%20%20%20%20%20%20%20%20%0A%20%20%20%20%0A%20%20%20%20%0A%20%20%20%20%20%20%20%20%20%20%20%20var%20marker_c5753b6ee5234e438aadbb5a975bd331%20%3D%20L.marker%28%0A%20%20%20%20%20%20%20%20%20%20%20%20%20%20%20%20%5B55.98260596953824%2C%20-3.381454898058535%5D%2C%0A%20%20%20%20%20%20%20%20%20%20%20%20%20%20%20%20%7B%7D%0A%20%20%20%20%20%20%20%20%20%20%20%20%29.addTo%28marker_cluster_67359bb34138463b8bbaf6c2ba135992%29%3B%0A%20%20%20%20%20%20%20%20%0A%20%20%20%20%0A%20%20%20%20%20%20%20%20%20%20%20%20var%20icon_65651eebbbef4de2b0d8242e37fd181f%20%3D%20L.AwesomeMarkers.icon%28%0A%20%20%20%20%20%20%20%20%20%20%20%20%20%20%20%20%7B%22extraClasses%22%3A%20%22fa-rotate-0%22%2C%20%22icon%22%3A%20%22bicycle%22%2C%20%22iconColor%22%3A%20%22white%22%2C%20%22markerColor%22%3A%20%22red%22%2C%20%22prefic%22%3A%20%22fa%22%2C%20%22prefix%22%3A%20%22glyphicon%22%7D%0A%20%20%20%20%20%20%20%20%20%20%20%20%29%3B%0A%20%20%20%20%20%20%20%20%20%20%20%20marker_c5753b6ee5234e438aadbb5a975bd331.setIcon%28icon_65651eebbbef4de2b0d8242e37fd181f%29%3B%0A%20%20%20%20%20%20%20%20%0A%20%20%20%20%0A%20%20%20%20%20%20%20%20var%20popup_0bbad680cd70455f8a6f0a8822754595%20%3D%20L.popup%28%7B%22maxWidth%22%3A%20%22100%25%22%7D%29%3B%0A%0A%20%20%20%20%20%20%20%20%0A%20%20%20%20%20%20%20%20%20%20%20%20var%20html_eb57ee3dcde243d79a5d6362a4b11bb0%20%3D%20%24%28%60%3Cdiv%20id%3D%22html_eb57ee3dcde243d79a5d6362a4b11bb0%22%20style%3D%22width%3A%20100.0%25%3B%20height%3A%20100.0%25%3B%22%3EId%3A%201864%3Cbr%3EBorrowman%20Square%3Cbr%3EDescription%3A%20Near%20to%20Scotstoun%20Bus%20Terminus%3Cbr%3E%3Cbr%3ECounts%3A%20548%3C/div%3E%60%29%5B0%5D%3B%0A%20%20%20%20%20%20%20%20%20%20%20%20popup_0bbad680cd70455f8a6f0a8822754595.setContent%28html_eb57ee3dcde243d79a5d6362a4b11bb0%29%3B%0A%20%20%20%20%20%20%20%20%0A%0A%20%20%20%20%20%20%20%20marker_c5753b6ee5234e438aadbb5a975bd331.bindPopup%28popup_0bbad680cd70455f8a6f0a8822754595%29%0A%20%20%20%20%20%20%20%20%3B%0A%0A%20%20%20%20%20%20%20%20%0A%20%20%20%20%0A%20%20%20%20%0A%20%20%20%20%20%20%20%20%20%20%20%20var%20marker_a049cf62a8554127aa4618a39c12ac9f%20%3D%20L.marker%28%0A%20%20%20%20%20%20%20%20%20%20%20%20%20%20%20%20%5B55.94271471556419%2C%20-3.221430982426%5D%2C%0A%20%20%20%20%20%20%20%20%20%20%20%20%20%20%20%20%7B%7D%0A%20%20%20%20%20%20%20%20%20%20%20%20%29.addTo%28marker_cluster_67359bb34138463b8bbaf6c2ba135992%29%3B%0A%20%20%20%20%20%20%20%20%0A%20%20%20%20%0A%20%20%20%20%20%20%20%20%20%20%20%20var%20icon_c9e52d8650894f55b7acd5e235275cf9%20%3D%20L.AwesomeMarkers.icon%28%0A%20%20%20%20%20%20%20%20%20%20%20%20%20%20%20%20%7B%22extraClasses%22%3A%20%22fa-rotate-0%22%2C%20%22icon%22%3A%20%22bicycle%22%2C%20%22iconColor%22%3A%20%22white%22%2C%20%22markerColor%22%3A%20%22red%22%2C%20%22prefic%22%3A%20%22fa%22%2C%20%22prefix%22%3A%20%22glyphicon%22%7D%0A%20%20%20%20%20%20%20%20%20%20%20%20%29%3B%0A%20%20%20%20%20%20%20%20%20%20%20%20marker_a049cf62a8554127aa4618a39c12ac9f.setIcon%28icon_c9e52d8650894f55b7acd5e235275cf9%29%3B%0A%20%20%20%20%20%20%20%20%0A%20%20%20%20%0A%20%20%20%20%20%20%20%20var%20popup_a74c1e0691b14dd8a65a08bed36b38d6%20%3D%20L.popup%28%7B%22maxWidth%22%3A%20%22100%25%22%7D%29%3B%0A%0A%20%20%20%20%20%20%20%20%0A%20%20%20%20%20%20%20%20%20%20%20%20var%20html_29aac327fd074d8a97c89d24d9874dcd%20%3D%20%24%28%60%3Cdiv%20id%3D%22html_29aac327fd074d8a97c89d24d9874dcd%22%20style%3D%22width%3A%20100.0%25%3B%20height%3A%20100.0%25%3B%22%3EId%3A%20351%3Cbr%3EDalry%20Road%20Co-op%3Cbr%3EDescription%3A%20By%20co-op%20%28outside%20maplins%29%3Cbr%3E%3Cbr%3ECounts%3A%20522%3C/div%3E%60%29%5B0%5D%3B%0A%20%20%20%20%20%20%20%20%20%20%20%20popup_a74c1e0691b14dd8a65a08bed36b38d6.setContent%28html_29aac327fd074d8a97c89d24d9874dcd%29%3B%0A%20%20%20%20%20%20%20%20%0A%0A%20%20%20%20%20%20%20%20marker_a049cf62a8554127aa4618a39c12ac9f.bindPopup%28popup_a74c1e0691b14dd8a65a08bed36b38d6%29%0A%20%20%20%20%20%20%20%20%3B%0A%0A%20%20%20%20%20%20%20%20%0A%20%20%20%20%0A%20%20%20%20%0A%20%20%20%20%20%20%20%20%20%20%20%20var%20marker_f435efa7ca3e4e548a43411d08e253b5%20%3D%20L.marker%28%0A%20%20%20%20%20%20%20%20%20%20%20%20%20%20%20%20%5B55.96248692705142%2C%20-3.232031328469361%5D%2C%0A%20%20%20%20%20%20%20%20%20%20%20%20%20%20%20%20%7B%7D%0A%20%20%20%20%20%20%20%20%20%20%20%20%29.addTo%28marker_cluster_67359bb34138463b8bbaf6c2ba135992%29%3B%0A%20%20%20%20%20%20%20%20%0A%20%20%20%20%0A%20%20%20%20%20%20%20%20%20%20%20%20var%20icon_76e7eea54a3d4718bc0c166cb4ae8c05%20%3D%20L.AwesomeMarkers.icon%28%0A%20%20%20%20%20%20%20%20%20%20%20%20%20%20%20%20%7B%22extraClasses%22%3A%20%22fa-rotate-0%22%2C%20%22icon%22%3A%20%22bicycle%22%2C%20%22iconColor%22%3A%20%22white%22%2C%20%22markerColor%22%3A%20%22red%22%2C%20%22prefic%22%3A%20%22fa%22%2C%20%22prefix%22%3A%20%22glyphicon%22%7D%0A%20%20%20%20%20%20%20%20%20%20%20%20%29%3B%0A%20%20%20%20%20%20%20%20%20%20%20%20marker_f435efa7ca3e4e548a43411d08e253b5.setIcon%28icon_76e7eea54a3d4718bc0c166cb4ae8c05%29%3B%0A%20%20%20%20%20%20%20%20%0A%20%20%20%20%0A%20%20%20%20%20%20%20%20var%20popup_43d3b121cc3b4d3d8a655a74e545bf8f%20%3D%20L.popup%28%7B%22maxWidth%22%3A%20%22100%25%22%7D%29%3B%0A%0A%20%20%20%20%20%20%20%20%0A%20%20%20%20%20%20%20%20%20%20%20%20var%20html_853f2a7328ad41178c3f16f25a24e917%20%3D%20%24%28%60%3Cdiv%20id%3D%22html_853f2a7328ad41178c3f16f25a24e917%22%20style%3D%22width%3A%20100.0%25%3B%20height%3A%20100.0%25%3B%22%3EId%3A%20884%3Cbr%3EIGMM%3Cbr%3EDescription%3A%20IGMM%20at%20Western%20General%20Hospital%3Cbr%3E%3Cbr%3ECounts%3A%20510%3C/div%3E%60%29%5B0%5D%3B%0A%20%20%20%20%20%20%20%20%20%20%20%20popup_43d3b121cc3b4d3d8a655a74e545bf8f.setContent%28html_853f2a7328ad41178c3f16f25a24e917%29%3B%0A%20%20%20%20%20%20%20%20%0A%0A%20%20%20%20%20%20%20%20marker_f435efa7ca3e4e548a43411d08e253b5.bindPopup%28popup_43d3b121cc3b4d3d8a655a74e545bf8f%29%0A%20%20%20%20%20%20%20%20%3B%0A%0A%20%20%20%20%20%20%20%20%0A%20%20%20%20%0A%20%20%20%20%0A%20%20%20%20%20%20%20%20%20%20%20%20var%20marker_19a5ca5518a94e1f94c9adf1102c4d83%20%3D%20L.marker%28%0A%20%20%20%20%20%20%20%20%20%20%20%20%20%20%20%20%5B55.93802439880083%2C%20-3.184979210204801%5D%2C%0A%20%20%20%20%20%20%20%20%20%20%20%20%20%20%20%20%7B%7D%0A%20%20%20%20%20%20%20%20%20%20%20%20%29.addTo%28marker_cluster_67359bb34138463b8bbaf6c2ba135992%29%3B%0A%20%20%20%20%20%20%20%20%0A%20%20%20%20%0A%20%20%20%20%20%20%20%20%20%20%20%20var%20icon_b5c7ed4d00524e3488f08e782326b23d%20%3D%20L.AwesomeMarkers.icon%28%0A%20%20%20%20%20%20%20%20%20%20%20%20%20%20%20%20%7B%22extraClasses%22%3A%20%22fa-rotate-0%22%2C%20%22icon%22%3A%20%22bicycle%22%2C%20%22iconColor%22%3A%20%22white%22%2C%20%22markerColor%22%3A%20%22red%22%2C%20%22prefic%22%3A%20%22fa%22%2C%20%22prefix%22%3A%20%22glyphicon%22%7D%0A%20%20%20%20%20%20%20%20%20%20%20%20%29%3B%0A%20%20%20%20%20%20%20%20%20%20%20%20marker_19a5ca5518a94e1f94c9adf1102c4d83.setIcon%28icon_b5c7ed4d00524e3488f08e782326b23d%29%3B%0A%20%20%20%20%20%20%20%20%0A%20%20%20%20%0A%20%20%20%20%20%20%20%20var%20popup_3eb0f07c3ca24830850e67db1f50a92a%20%3D%20L.popup%28%7B%22maxWidth%22%3A%20%22100%25%22%7D%29%3B%0A%0A%20%20%20%20%20%20%20%20%0A%20%20%20%20%20%20%20%20%20%20%20%20var%20html_e5b4da389208443d869dbe6706dd136e%20%3D%20%24%28%60%3Cdiv%20id%3D%22html_e5b4da389208443d869dbe6706dd136e%22%20style%3D%22width%3A%20100.0%25%3B%20height%3A%20100.0%25%3B%22%3EId%3A%20879%3Cbr%3EGladstone%20Terrace%3Cbr%3EDescription%3A%20Corner%20of%20Gladstone%20Terrace%20%26%20Sciennes%20ROad%3Cbr%3E%3Cbr%3ECounts%3A%20509%3C/div%3E%60%29%5B0%5D%3B%0A%20%20%20%20%20%20%20%20%20%20%20%20popup_3eb0f07c3ca24830850e67db1f50a92a.setContent%28html_e5b4da389208443d869dbe6706dd136e%29%3B%0A%20%20%20%20%20%20%20%20%0A%0A%20%20%20%20%20%20%20%20marker_19a5ca5518a94e1f94c9adf1102c4d83.bindPopup%28popup_3eb0f07c3ca24830850e67db1f50a92a%29%0A%20%20%20%20%20%20%20%20%3B%0A%0A%20%20%20%20%20%20%20%20%0A%20%20%20%20%0A%20%20%20%20%0A%20%20%20%20%20%20%20%20%20%20%20%20var%20marker_06d502fad313409d94f3a6d2c624aaca%20%3D%20L.marker%28%0A%20%20%20%20%20%20%20%20%20%20%20%20%20%20%20%20%5B55.987743170866025%2C%20-3.40375244599943%5D%2C%0A%20%20%20%20%20%20%20%20%20%20%20%20%20%20%20%20%7B%7D%0A%20%20%20%20%20%20%20%20%20%20%20%20%29.addTo%28marker_cluster_67359bb34138463b8bbaf6c2ba135992%29%3B%0A%20%20%20%20%20%20%20%20%0A%20%20%20%20%0A%20%20%20%20%20%20%20%20%20%20%20%20var%20icon_4e10393bc4b3456086ddfb2d29912984%20%3D%20L.AwesomeMarkers.icon%28%0A%20%20%20%20%20%20%20%20%20%20%20%20%20%20%20%20%7B%22extraClasses%22%3A%20%22fa-rotate-0%22%2C%20%22icon%22%3A%20%22bicycle%22%2C%20%22iconColor%22%3A%20%22white%22%2C%20%22markerColor%22%3A%20%22red%22%2C%20%22prefic%22%3A%20%22fa%22%2C%20%22prefix%22%3A%20%22glyphicon%22%7D%0A%20%20%20%20%20%20%20%20%20%20%20%20%29%3B%0A%20%20%20%20%20%20%20%20%20%20%20%20marker_06d502fad313409d94f3a6d2c624aaca.setIcon%28icon_4e10393bc4b3456086ddfb2d29912984%29%3B%0A%20%20%20%20%20%20%20%20%0A%20%20%20%20%0A%20%20%20%20%20%20%20%20var%20popup_1d5a19d919f64be4a8babf02ee499a2d%20%3D%20L.popup%28%7B%22maxWidth%22%3A%20%22100%25%22%7D%29%3B%0A%0A%20%20%20%20%20%20%20%20%0A%20%20%20%20%20%20%20%20%20%20%20%20var%20html_2f974ebddf7045dc9f8c82287175fc4a%20%3D%20%24%28%60%3Cdiv%20id%3D%22html_2f974ebddf7045dc9f8c82287175fc4a%22%20style%3D%22width%3A%20100.0%25%3B%20height%3A%20100.0%25%3B%22%3EId%3A%201868%3Cbr%3EForth%20Bridge%20Visitors%20Centre%3Cbr%3EDescription%3A%20Off%20Ferrymuir%20Gait%3Cbr%3E%3Cbr%3ECounts%3A%20489%3C/div%3E%60%29%5B0%5D%3B%0A%20%20%20%20%20%20%20%20%20%20%20%20popup_1d5a19d919f64be4a8babf02ee499a2d.setContent%28html_2f974ebddf7045dc9f8c82287175fc4a%29%3B%0A%20%20%20%20%20%20%20%20%0A%0A%20%20%20%20%20%20%20%20marker_06d502fad313409d94f3a6d2c624aaca.bindPopup%28popup_1d5a19d919f64be4a8babf02ee499a2d%29%0A%20%20%20%20%20%20%20%20%3B%0A%0A%20%20%20%20%20%20%20%20%0A%20%20%20%20%0A%20%20%20%20%0A%20%20%20%20%20%20%20%20%20%20%20%20var%20marker_d2896d2d90874b44a64b0377ced5a5e6%20%3D%20L.marker%28%0A%20%20%20%20%20%20%20%20%20%20%20%20%20%20%20%20%5B55.94476686576929%2C%20-3.243687888944919%5D%2C%0A%20%20%20%20%20%20%20%20%20%20%20%20%20%20%20%20%7B%7D%0A%20%20%20%20%20%20%20%20%20%20%20%20%29.addTo%28marker_cluster_67359bb34138463b8bbaf6c2ba135992%29%3B%0A%20%20%20%20%20%20%20%20%0A%20%20%20%20%0A%20%20%20%20%20%20%20%20%20%20%20%20var%20icon_5d5962c985ef4dc1a97e33c43ad7e80b%20%3D%20L.AwesomeMarkers.icon%28%0A%20%20%20%20%20%20%20%20%20%20%20%20%20%20%20%20%7B%22extraClasses%22%3A%20%22fa-rotate-0%22%2C%20%22icon%22%3A%20%22bicycle%22%2C%20%22iconColor%22%3A%20%22white%22%2C%20%22markerColor%22%3A%20%22red%22%2C%20%22prefic%22%3A%20%22fa%22%2C%20%22prefix%22%3A%20%22glyphicon%22%7D%0A%20%20%20%20%20%20%20%20%20%20%20%20%29%3B%0A%20%20%20%20%20%20%20%20%20%20%20%20marker_d2896d2d90874b44a64b0377ced5a5e6.setIcon%28icon_5d5962c985ef4dc1a97e33c43ad7e80b%29%3B%0A%20%20%20%20%20%20%20%20%0A%20%20%20%20%0A%20%20%20%20%20%20%20%20var%20popup_1e69ecf071a94f26b5af86e9453b7cff%20%3D%20L.popup%28%7B%22maxWidth%22%3A%20%22100%25%22%7D%29%3B%0A%0A%20%20%20%20%20%20%20%20%0A%20%20%20%20%20%20%20%20%20%20%20%20var%20html_7bf56661727445b8b7ba111c7c8421cb%20%3D%20%24%28%60%3Cdiv%20id%3D%22html_7bf56661727445b8b7ba111c7c8421cb%22%20style%3D%22width%3A%20100.0%25%3B%20height%3A%20100.0%25%3B%22%3EId%3A%20876%3Cbr%3EMurrayfield%3Cbr%3EDescription%3A%20Riversdale%20Crescent%3Cbr%3E%3Cbr%3ECounts%3A%20455%3C/div%3E%60%29%5B0%5D%3B%0A%20%20%20%20%20%20%20%20%20%20%20%20popup_1e69ecf071a94f26b5af86e9453b7cff.setContent%28html_7bf56661727445b8b7ba111c7c8421cb%29%3B%0A%20%20%20%20%20%20%20%20%0A%0A%20%20%20%20%20%20%20%20marker_d2896d2d90874b44a64b0377ced5a5e6.bindPopup%28popup_1e69ecf071a94f26b5af86e9453b7cff%29%0A%20%20%20%20%20%20%20%20%3B%0A%0A%20%20%20%20%20%20%20%20%0A%20%20%20%20%0A%20%20%20%20%0A%20%20%20%20%20%20%20%20%20%20%20%20var%20marker_0070f192622345d689d6e7be3981d67e%20%3D%20L.marker%28%0A%20%20%20%20%20%20%20%20%20%20%20%20%20%20%20%20%5B55.90841344459825%2C%20-3.328783525816887%5D%2C%0A%20%20%20%20%20%20%20%20%20%20%20%20%20%20%20%20%7B%7D%0A%20%20%20%20%20%20%20%20%20%20%20%20%29.addTo%28marker_cluster_67359bb34138463b8bbaf6c2ba135992%29%3B%0A%20%20%20%20%20%20%20%20%0A%20%20%20%20%0A%20%20%20%20%20%20%20%20%20%20%20%20var%20icon_5833ab4325e440a1adb32e3e772197cd%20%3D%20L.AwesomeMarkers.icon%28%0A%20%20%20%20%20%20%20%20%20%20%20%20%20%20%20%20%7B%22extraClasses%22%3A%20%22fa-rotate-0%22%2C%20%22icon%22%3A%20%22bicycle%22%2C%20%22iconColor%22%3A%20%22white%22%2C%20%22markerColor%22%3A%20%22red%22%2C%20%22prefic%22%3A%20%22fa%22%2C%20%22prefix%22%3A%20%22glyphicon%22%7D%0A%20%20%20%20%20%20%20%20%20%20%20%20%29%3B%0A%20%20%20%20%20%20%20%20%20%20%20%20marker_0070f192622345d689d6e7be3981d67e.setIcon%28icon_5833ab4325e440a1adb32e3e772197cd%29%3B%0A%20%20%20%20%20%20%20%20%0A%20%20%20%20%0A%20%20%20%20%20%20%20%20var%20popup_5b65fd170cbd471692bf27d132fb81b6%20%3D%20L.popup%28%7B%22maxWidth%22%3A%20%22100%25%22%7D%29%3B%0A%0A%20%20%20%20%20%20%20%20%0A%20%20%20%20%20%20%20%20%20%20%20%20var%20html_677eac3ea8c644d2adb3c58c91b3717a%20%3D%20%24%28%60%3Cdiv%20id%3D%22html_677eac3ea8c644d2adb3c58c91b3717a%22%20style%3D%22width%3A%20100.0%25%3B%20height%3A%20100.0%25%3B%22%3EId%3A%201820%3Cbr%3EHeriot%20Watt%20-%20Student%20Accommodation%3Cbr%3EDescription%3A%20Outside%20Anna%20Macleod%20Halls%3Cbr%3E%3Cbr%3ECounts%3A%20429%3C/div%3E%60%29%5B0%5D%3B%0A%20%20%20%20%20%20%20%20%20%20%20%20popup_5b65fd170cbd471692bf27d132fb81b6.setContent%28html_677eac3ea8c644d2adb3c58c91b3717a%29%3B%0A%20%20%20%20%20%20%20%20%0A%0A%20%20%20%20%20%20%20%20marker_0070f192622345d689d6e7be3981d67e.bindPopup%28popup_5b65fd170cbd471692bf27d132fb81b6%29%0A%20%20%20%20%20%20%20%20%3B%0A%0A%20%20%20%20%20%20%20%20%0A%20%20%20%20%0A%20%20%20%20%0A%20%20%20%20%20%20%20%20%20%20%20%20var%20marker_661d644162ff4b8f8db4602eef31d17e%20%3D%20L.marker%28%0A%20%20%20%20%20%20%20%20%20%20%20%20%20%20%20%20%5B55.92781815597736%2C%20-3.213307722203224%5D%2C%0A%20%20%20%20%20%20%20%20%20%20%20%20%20%20%20%20%7B%7D%0A%20%20%20%20%20%20%20%20%20%20%20%20%29.addTo%28marker_cluster_67359bb34138463b8bbaf6c2ba135992%29%3B%0A%20%20%20%20%20%20%20%20%0A%20%20%20%20%0A%20%20%20%20%20%20%20%20%20%20%20%20var%20icon_d92870d7fe394f299e5487a1c5f3e637%20%3D%20L.AwesomeMarkers.icon%28%0A%20%20%20%20%20%20%20%20%20%20%20%20%20%20%20%20%7B%22extraClasses%22%3A%20%22fa-rotate-0%22%2C%20%22icon%22%3A%20%22bicycle%22%2C%20%22iconColor%22%3A%20%22white%22%2C%20%22markerColor%22%3A%20%22red%22%2C%20%22prefic%22%3A%20%22fa%22%2C%20%22prefix%22%3A%20%22glyphicon%22%7D%0A%20%20%20%20%20%20%20%20%20%20%20%20%29%3B%0A%20%20%20%20%20%20%20%20%20%20%20%20marker_661d644162ff4b8f8db4602eef31d17e.setIcon%28icon_d92870d7fe394f299e5487a1c5f3e637%29%3B%0A%20%20%20%20%20%20%20%20%0A%20%20%20%20%0A%20%20%20%20%20%20%20%20var%20popup_5c52cfe9db0e4c4493ee7f02fb4d2a67%20%3D%20L.popup%28%7B%22maxWidth%22%3A%20%22100%25%22%7D%29%3B%0A%0A%20%20%20%20%20%20%20%20%0A%20%20%20%20%20%20%20%20%20%20%20%20var%20html_7e3c9e8fb1aa4ac9af488dd24bc24e2d%20%3D%20%24%28%60%3Cdiv%20id%3D%22html_7e3c9e8fb1aa4ac9af488dd24bc24e2d%22%20style%3D%22width%3A%20100.0%25%3B%20height%3A%20100.0%25%3B%22%3EId%3A%201809%3Cbr%3ERoyal%20Edinburgh%20Hospital%3Cbr%3EDescription%3A%20Next%20to%20Kennedy%20Tower%3Cbr%3E%3Cbr%3ECounts%3A%20428%3C/div%3E%60%29%5B0%5D%3B%0A%20%20%20%20%20%20%20%20%20%20%20%20popup_5c52cfe9db0e4c4493ee7f02fb4d2a67.setContent%28html_7e3c9e8fb1aa4ac9af488dd24bc24e2d%29%3B%0A%20%20%20%20%20%20%20%20%0A%0A%20%20%20%20%20%20%20%20marker_661d644162ff4b8f8db4602eef31d17e.bindPopup%28popup_5c52cfe9db0e4c4493ee7f02fb4d2a67%29%0A%20%20%20%20%20%20%20%20%3B%0A%0A%20%20%20%20%20%20%20%20%0A%20%20%20%20%0A%20%20%20%20%0A%20%20%20%20%20%20%20%20%20%20%20%20var%20marker_498271dfd68d4582a21ac017f4f31860%20%3D%20L.marker%28%0A%20%20%20%20%20%20%20%20%20%20%20%20%20%20%20%20%5B55.94174288122498%2C%20-3.271484360775275%5D%2C%0A%20%20%20%20%20%20%20%20%20%20%20%20%20%20%20%20%7B%7D%0A%20%20%20%20%20%20%20%20%20%20%20%20%29.addTo%28marker_cluster_67359bb34138463b8bbaf6c2ba135992%29%3B%0A%20%20%20%20%20%20%20%20%0A%20%20%20%20%0A%20%20%20%20%20%20%20%20%20%20%20%20var%20icon_bc96bf666a1d4f6faa36d484711fc062%20%3D%20L.AwesomeMarkers.icon%28%0A%20%20%20%20%20%20%20%20%20%20%20%20%20%20%20%20%7B%22extraClasses%22%3A%20%22fa-rotate-0%22%2C%20%22icon%22%3A%20%22bicycle%22%2C%20%22iconColor%22%3A%20%22white%22%2C%20%22markerColor%22%3A%20%22red%22%2C%20%22prefic%22%3A%20%22fa%22%2C%20%22prefix%22%3A%20%22glyphicon%22%7D%0A%20%20%20%20%20%20%20%20%20%20%20%20%29%3B%0A%20%20%20%20%20%20%20%20%20%20%20%20marker_498271dfd68d4582a21ac017f4f31860.setIcon%28icon_bc96bf666a1d4f6faa36d484711fc062%29%3B%0A%20%20%20%20%20%20%20%20%0A%20%20%20%20%0A%20%20%20%20%20%20%20%20var%20popup_77a7e619a9a84e449186be0f92397715%20%3D%20L.popup%28%7B%22maxWidth%22%3A%20%22100%25%22%7D%29%3B%0A%0A%20%20%20%20%20%20%20%20%0A%20%20%20%20%20%20%20%20%20%20%20%20var%20html_09fc5421d756483dba03e4125da8d05d%20%3D%20%24%28%60%3Cdiv%20id%3D%22html_09fc5421d756483dba03e4125da8d05d%22%20style%3D%22width%3A%20100.0%25%3B%20height%3A%20100.0%25%3B%22%3EId%3A%20873%3Cbr%3ECorstorphine%20Road%3Cbr%3EDescription%3A%20Outside%20Forestry%20%26%20Land%20Scotland%3Cbr%3E%3Cbr%3ECounts%3A%20425%3C/div%3E%60%29%5B0%5D%3B%0A%20%20%20%20%20%20%20%20%20%20%20%20popup_77a7e619a9a84e449186be0f92397715.setContent%28html_09fc5421d756483dba03e4125da8d05d%29%3B%0A%20%20%20%20%20%20%20%20%0A%0A%20%20%20%20%20%20%20%20marker_498271dfd68d4582a21ac017f4f31860.bindPopup%28popup_77a7e619a9a84e449186be0f92397715%29%0A%20%20%20%20%20%20%20%20%3B%0A%0A%20%20%20%20%20%20%20%20%0A%20%20%20%20%0A%20%20%20%20%0A%20%20%20%20%20%20%20%20%20%20%20%20var%20marker_432192fbe9594f7fb08d476da6f57eaa%20%3D%20L.marker%28%0A%20%20%20%20%20%20%20%20%20%20%20%20%20%20%20%20%5B55.94386198333096%2C%20-3.184972223259024%5D%2C%0A%20%20%20%20%20%20%20%20%20%20%20%20%20%20%20%20%7B%7D%0A%20%20%20%20%20%20%20%20%20%20%20%20%29.addTo%28marker_cluster_67359bb34138463b8bbaf6c2ba135992%29%3B%0A%20%20%20%20%20%20%20%20%0A%20%20%20%20%0A%20%20%20%20%20%20%20%20%20%20%20%20var%20icon_90af2153cb504ecda8019cbd4a851d66%20%3D%20L.AwesomeMarkers.icon%28%0A%20%20%20%20%20%20%20%20%20%20%20%20%20%20%20%20%7B%22extraClasses%22%3A%20%22fa-rotate-0%22%2C%20%22icon%22%3A%20%22bicycle%22%2C%20%22iconColor%22%3A%20%22white%22%2C%20%22markerColor%22%3A%20%22red%22%2C%20%22prefic%22%3A%20%22fa%22%2C%20%22prefix%22%3A%20%22glyphicon%22%7D%0A%20%20%20%20%20%20%20%20%20%20%20%20%29%3B%0A%20%20%20%20%20%20%20%20%20%20%20%20marker_432192fbe9594f7fb08d476da6f57eaa.setIcon%28icon_90af2153cb504ecda8019cbd4a851d66%29%3B%0A%20%20%20%20%20%20%20%20%0A%20%20%20%20%0A%20%20%20%20%20%20%20%20var%20popup_229059b551a042c9a9499efa0df12c36%20%3D%20L.popup%28%7B%22maxWidth%22%3A%20%22100%25%22%7D%29%3B%0A%0A%20%20%20%20%20%20%20%20%0A%20%20%20%20%20%20%20%20%20%20%20%20var%20html_c88969368ac8430c8dd6da8fe1ff70a0%20%3D%20%24%28%60%3Cdiv%20id%3D%22html_c88969368ac8430c8dd6da8fe1ff70a0%22%20style%3D%22width%3A%20100.0%25%3B%20height%3A%20100.0%25%3B%22%3EId%3A%20890%3Cbr%3EWest%20Crosscauseway%3Cbr%3EDescription%3A%20Corner%20of%20West%20Crosscauseway%20%26%20Buccleugh%20Street%3Cbr%3E%3Cbr%3ECounts%3A%20421%3C/div%3E%60%29%5B0%5D%3B%0A%20%20%20%20%20%20%20%20%20%20%20%20popup_229059b551a042c9a9499efa0df12c36.setContent%28html_c88969368ac8430c8dd6da8fe1ff70a0%29%3B%0A%20%20%20%20%20%20%20%20%0A%0A%20%20%20%20%20%20%20%20marker_432192fbe9594f7fb08d476da6f57eaa.bindPopup%28popup_229059b551a042c9a9499efa0df12c36%29%0A%20%20%20%20%20%20%20%20%3B%0A%0A%20%20%20%20%20%20%20%20%0A%20%20%20%20%0A%20%20%20%20%0A%20%20%20%20%20%20%20%20%20%20%20%20var%20marker_dddc376a53594891a1b721d2db56822a%20%3D%20L.marker%28%0A%20%20%20%20%20%20%20%20%20%20%20%20%20%20%20%20%5B55.9417543014448%2C%20-3.222524291865397%5D%2C%0A%20%20%20%20%20%20%20%20%20%20%20%20%20%20%20%20%7B%7D%0A%20%20%20%20%20%20%20%20%20%20%20%20%29.addTo%28marker_cluster_67359bb34138463b8bbaf6c2ba135992%29%3B%0A%20%20%20%20%20%20%20%20%0A%20%20%20%20%0A%20%20%20%20%20%20%20%20%20%20%20%20var%20icon_bc752592b15648b3b8ae99183b9eed44%20%3D%20L.AwesomeMarkers.icon%28%0A%20%20%20%20%20%20%20%20%20%20%20%20%20%20%20%20%7B%22extraClasses%22%3A%20%22fa-rotate-0%22%2C%20%22icon%22%3A%20%22bicycle%22%2C%20%22iconColor%22%3A%20%22white%22%2C%20%22markerColor%22%3A%20%22red%22%2C%20%22prefic%22%3A%20%22fa%22%2C%20%22prefix%22%3A%20%22glyphicon%22%7D%0A%20%20%20%20%20%20%20%20%20%20%20%20%29%3B%0A%20%20%20%20%20%20%20%20%20%20%20%20marker_dddc376a53594891a1b721d2db56822a.setIcon%28icon_bc752592b15648b3b8ae99183b9eed44%29%3B%0A%20%20%20%20%20%20%20%20%0A%20%20%20%20%0A%20%20%20%20%20%20%20%20var%20popup_eaf6a6cdd36a468f9a425196a9f4434d%20%3D%20L.popup%28%7B%22maxWidth%22%3A%20%22100%25%22%7D%29%3B%0A%0A%20%20%20%20%20%20%20%20%0A%20%20%20%20%20%20%20%20%20%20%20%20var%20html_ebe450df104a46138f72daf33ed9af74%20%3D%20%24%28%60%3Cdiv%20id%3D%22html_ebe450df104a46138f72daf33ed9af74%22%20style%3D%22width%3A%20100.0%25%3B%20height%3A%20100.0%25%3B%22%3EId%3A%20350%3Cbr%3EDalry%20Road%20Lidl%3Cbr%3EDescription%3A%20outside%20Lidl%3Cbr%3E%3Cbr%3ECounts%3A%20417%3C/div%3E%60%29%5B0%5D%3B%0A%20%20%20%20%20%20%20%20%20%20%20%20popup_eaf6a6cdd36a468f9a425196a9f4434d.setContent%28html_ebe450df104a46138f72daf33ed9af74%29%3B%0A%20%20%20%20%20%20%20%20%0A%0A%20%20%20%20%20%20%20%20marker_dddc376a53594891a1b721d2db56822a.bindPopup%28popup_eaf6a6cdd36a468f9a425196a9f4434d%29%0A%20%20%20%20%20%20%20%20%3B%0A%0A%20%20%20%20%20%20%20%20%0A%20%20%20%20%0A%20%20%20%20%0A%20%20%20%20%20%20%20%20%20%20%20%20var%20marker_11d4778d82d04a2697aca3b1853691b1%20%3D%20L.marker%28%0A%20%20%20%20%20%20%20%20%20%20%20%20%20%20%20%20%5B55.96345848770889%2C%20-3.23280956008216%5D%2C%0A%20%20%20%20%20%20%20%20%20%20%20%20%20%20%20%20%7B%7D%0A%20%20%20%20%20%20%20%20%20%20%20%20%29.addTo%28marker_cluster_67359bb34138463b8bbaf6c2ba135992%29%3B%0A%20%20%20%20%20%20%20%20%0A%20%20%20%20%0A%20%20%20%20%20%20%20%20%20%20%20%20var%20icon_cdf81fd2d97a487c9c6955f6dafb0731%20%3D%20L.AwesomeMarkers.icon%28%0A%20%20%20%20%20%20%20%20%20%20%20%20%20%20%20%20%7B%22extraClasses%22%3A%20%22fa-rotate-0%22%2C%20%22icon%22%3A%20%22bicycle%22%2C%20%22iconColor%22%3A%20%22white%22%2C%20%22markerColor%22%3A%20%22red%22%2C%20%22prefic%22%3A%20%22fa%22%2C%20%22prefix%22%3A%20%22glyphicon%22%7D%0A%20%20%20%20%20%20%20%20%20%20%20%20%29%3B%0A%20%20%20%20%20%20%20%20%20%20%20%20marker_11d4778d82d04a2697aca3b1853691b1.setIcon%28icon_cdf81fd2d97a487c9c6955f6dafb0731%29%3B%0A%20%20%20%20%20%20%20%20%0A%20%20%20%20%0A%20%20%20%20%20%20%20%20var%20popup_3d978c2d6cc841ceaccf0430a4b2fcb6%20%3D%20L.popup%28%7B%22maxWidth%22%3A%20%22100%25%22%7D%29%3B%0A%0A%20%20%20%20%20%20%20%20%0A%20%20%20%20%20%20%20%20%20%20%20%20var%20html_40744b3cf9284f71b8570f0df3c7e078%20%3D%20%24%28%60%3Cdiv%20id%3D%22html_40744b3cf9284f71b8570f0df3c7e078%22%20style%3D%22width%3A%20100.0%25%3B%20height%3A%20100.0%25%3B%22%3EId%3A%20648%3Cbr%3EWestern%20General%3Cbr%3EDescription%3A%20Western%20General%20virtual%20station%20across%20from%20public%20multi%20storey%3Cbr%3E%3Cbr%3ECounts%3A%20404%3C/div%3E%60%29%5B0%5D%3B%0A%20%20%20%20%20%20%20%20%20%20%20%20popup_3d978c2d6cc841ceaccf0430a4b2fcb6.setContent%28html_40744b3cf9284f71b8570f0df3c7e078%29%3B%0A%20%20%20%20%20%20%20%20%0A%0A%20%20%20%20%20%20%20%20marker_11d4778d82d04a2697aca3b1853691b1.bindPopup%28popup_3d978c2d6cc841ceaccf0430a4b2fcb6%29%0A%20%20%20%20%20%20%20%20%3B%0A%0A%20%20%20%20%20%20%20%20%0A%20%20%20%20%0A%20%20%20%20%0A%20%20%20%20%20%20%20%20%20%20%20%20var%20marker_c79873d1db7648f09fc7a0d55f2ce12f%20%3D%20L.marker%28%0A%20%20%20%20%20%20%20%20%20%20%20%20%20%20%20%20%5B55.94446626439512%2C%20-3.234541218248978%5D%2C%0A%20%20%20%20%20%20%20%20%20%20%20%20%20%20%20%20%7B%7D%0A%20%20%20%20%20%20%20%20%20%20%20%20%29.addTo%28marker_cluster_67359bb34138463b8bbaf6c2ba135992%29%3B%0A%20%20%20%20%20%20%20%20%0A%20%20%20%20%0A%20%20%20%20%20%20%20%20%20%20%20%20var%20icon_9e3a9550c79b498a89901e109fb25e90%20%3D%20L.AwesomeMarkers.icon%28%0A%20%20%20%20%20%20%20%20%20%20%20%20%20%20%20%20%7B%22extraClasses%22%3A%20%22fa-rotate-0%22%2C%20%22icon%22%3A%20%22bicycle%22%2C%20%22iconColor%22%3A%20%22white%22%2C%20%22markerColor%22%3A%20%22red%22%2C%20%22prefic%22%3A%20%22fa%22%2C%20%22prefix%22%3A%20%22glyphicon%22%7D%0A%20%20%20%20%20%20%20%20%20%20%20%20%29%3B%0A%20%20%20%20%20%20%20%20%20%20%20%20marker_c79873d1db7648f09fc7a0d55f2ce12f.setIcon%28icon_9e3a9550c79b498a89901e109fb25e90%29%3B%0A%20%20%20%20%20%20%20%20%0A%20%20%20%20%0A%20%20%20%20%20%20%20%20var%20popup_2d11439ac8b441178f56689177fa3275%20%3D%20L.popup%28%7B%22maxWidth%22%3A%20%22100%25%22%7D%29%3B%0A%0A%20%20%20%20%20%20%20%20%0A%20%20%20%20%20%20%20%20%20%20%20%20var%20html_fb0d8590825c4fc3bc4bbe0bed1b32bc%20%3D%20%24%28%60%3Cdiv%20id%3D%22html_fb0d8590825c4fc3bc4bbe0bed1b32bc%22%20style%3D%22width%3A%20100.0%25%3B%20height%3A%20100.0%25%3B%22%3EId%3A%20887%3Cbr%3ERoseburn%20Street%3Cbr%3EDescription%3A%20Corner%20of%20Roseburn%20Street%20%26%20Russell%20Gardens%3Cbr%3E%3Cbr%3ECounts%3A%20383%3C/div%3E%60%29%5B0%5D%3B%0A%20%20%20%20%20%20%20%20%20%20%20%20popup_2d11439ac8b441178f56689177fa3275.setContent%28html_fb0d8590825c4fc3bc4bbe0bed1b32bc%29%3B%0A%20%20%20%20%20%20%20%20%0A%0A%20%20%20%20%20%20%20%20marker_c79873d1db7648f09fc7a0d55f2ce12f.bindPopup%28popup_2d11439ac8b441178f56689177fa3275%29%0A%20%20%20%20%20%20%20%20%3B%0A%0A%20%20%20%20%20%20%20%20%0A%20%20%20%20%0A%20%20%20%20%0A%20%20%20%20%20%20%20%20%20%20%20%20var%20marker_6fafe6f7442048e29093e793fe8ae371%20%3D%20L.marker%28%0A%20%20%20%20%20%20%20%20%20%20%20%20%20%20%20%20%5B55.95661859471628%2C%20-3.237802968201094%5D%2C%0A%20%20%20%20%20%20%20%20%20%20%20%20%20%20%20%20%7B%7D%0A%20%20%20%20%20%20%20%20%20%20%20%20%29.addTo%28marker_cluster_67359bb34138463b8bbaf6c2ba135992%29%3B%0A%20%20%20%20%20%20%20%20%0A%20%20%20%20%0A%20%20%20%20%20%20%20%20%20%20%20%20var%20icon_1774fb65833f4cd693f7f4ccf0cc5e75%20%3D%20L.AwesomeMarkers.icon%28%0A%20%20%20%20%20%20%20%20%20%20%20%20%20%20%20%20%7B%22extraClasses%22%3A%20%22fa-rotate-0%22%2C%20%22icon%22%3A%20%22bicycle%22%2C%20%22iconColor%22%3A%20%22white%22%2C%20%22markerColor%22%3A%20%22red%22%2C%20%22prefic%22%3A%20%22fa%22%2C%20%22prefix%22%3A%20%22glyphicon%22%7D%0A%20%20%20%20%20%20%20%20%20%20%20%20%29%3B%0A%20%20%20%20%20%20%20%20%20%20%20%20marker_6fafe6f7442048e29093e793fe8ae371.setIcon%28icon_1774fb65833f4cd693f7f4ccf0cc5e75%29%3B%0A%20%20%20%20%20%20%20%20%0A%20%20%20%20%0A%20%20%20%20%20%20%20%20var%20popup_4470b3045c32481b8aa2e568ebbf88f5%20%3D%20L.popup%28%7B%22maxWidth%22%3A%20%22100%25%22%7D%29%3B%0A%0A%20%20%20%20%20%20%20%20%0A%20%20%20%20%20%20%20%20%20%20%20%20var%20html_4f7fce5081c64cbda59564503c089b9f%20%3D%20%24%28%60%3Cdiv%20id%3D%22html_4f7fce5081c64cbda59564503c089b9f%22%20style%3D%22width%3A%20100.0%25%3B%20height%3A%20100.0%25%3B%22%3EId%3A%20865%3Cbr%3ECraigleith%20Road%3Cbr%3EDescription%3A%20Craigleith%20road%20by%20bus%20stop%3Cbr%3E%3Cbr%3ECounts%3A%20380%3C/div%3E%60%29%5B0%5D%3B%0A%20%20%20%20%20%20%20%20%20%20%20%20popup_4470b3045c32481b8aa2e568ebbf88f5.setContent%28html_4f7fce5081c64cbda59564503c089b9f%29%3B%0A%20%20%20%20%20%20%20%20%0A%0A%20%20%20%20%20%20%20%20marker_6fafe6f7442048e29093e793fe8ae371.bindPopup%28popup_4470b3045c32481b8aa2e568ebbf88f5%29%0A%20%20%20%20%20%20%20%20%3B%0A%0A%20%20%20%20%20%20%20%20%0A%20%20%20%20%0A%20%20%20%20%0A%20%20%20%20%20%20%20%20%20%20%20%20var%20marker_9a7683744fd945228de8861128e139fa%20%3D%20L.marker%28%0A%20%20%20%20%20%20%20%20%20%20%20%20%20%20%20%20%5B55.9483365370385%2C%20-3.18226129953905%5D%2C%0A%20%20%20%20%20%20%20%20%20%20%20%20%20%20%20%20%7B%7D%0A%20%20%20%20%20%20%20%20%20%20%20%20%29.addTo%28marker_cluster_67359bb34138463b8bbaf6c2ba135992%29%3B%0A%20%20%20%20%20%20%20%20%0A%20%20%20%20%0A%20%20%20%20%20%20%20%20%20%20%20%20var%20icon_91b7719e9e774d1d8c48d7eff805d593%20%3D%20L.AwesomeMarkers.icon%28%0A%20%20%20%20%20%20%20%20%20%20%20%20%20%20%20%20%7B%22extraClasses%22%3A%20%22fa-rotate-0%22%2C%20%22icon%22%3A%20%22bicycle%22%2C%20%22iconColor%22%3A%20%22white%22%2C%20%22markerColor%22%3A%20%22red%22%2C%20%22prefic%22%3A%20%22fa%22%2C%20%22prefix%22%3A%20%22glyphicon%22%7D%0A%20%20%20%20%20%20%20%20%20%20%20%20%29%3B%0A%20%20%20%20%20%20%20%20%20%20%20%20marker_9a7683744fd945228de8861128e139fa.setIcon%28icon_91b7719e9e774d1d8c48d7eff805d593%29%3B%0A%20%20%20%20%20%20%20%20%0A%20%20%20%20%0A%20%20%20%20%20%20%20%20var%20popup_bfe467e502b9478faa6c8fbf2846e8f1%20%3D%20L.popup%28%7B%22maxWidth%22%3A%20%22100%25%22%7D%29%3B%0A%0A%20%20%20%20%20%20%20%20%0A%20%20%20%20%20%20%20%20%20%20%20%20var%20html_4039227d913a43a7b77bfeba6f58033e%20%3D%20%24%28%60%3Cdiv%20id%3D%22html_4039227d913a43a7b77bfeba6f58033e%22%20style%3D%22width%3A%20100.0%25%3B%20height%3A%20100.0%25%3B%22%3EId%3A%201027%3Cbr%3EDrummond%20Street%3Cbr%3EDescription%3A%20Opposite%20the%20Pleasance%20Grand%3Cbr%3E%3Cbr%3ECounts%3A%20359%3C/div%3E%60%29%5B0%5D%3B%0A%20%20%20%20%20%20%20%20%20%20%20%20popup_bfe467e502b9478faa6c8fbf2846e8f1.setContent%28html_4039227d913a43a7b77bfeba6f58033e%29%3B%0A%20%20%20%20%20%20%20%20%0A%0A%20%20%20%20%20%20%20%20marker_9a7683744fd945228de8861128e139fa.bindPopup%28popup_bfe467e502b9478faa6c8fbf2846e8f1%29%0A%20%20%20%20%20%20%20%20%3B%0A%0A%20%20%20%20%20%20%20%20%0A%20%20%20%20%0A%20%20%20%20%0A%20%20%20%20%20%20%20%20%20%20%20%20var%20marker_6d9a89a09e204d959cd031705d9c5f2c%20%3D%20L.marker%28%0A%20%20%20%20%20%20%20%20%20%20%20%20%20%20%20%20%5B55.9419563895648%2C%20-3.237802024128314%5D%2C%0A%20%20%20%20%20%20%20%20%20%20%20%20%20%20%20%20%7B%7D%0A%20%20%20%20%20%20%20%20%20%20%20%20%29.addTo%28marker_cluster_67359bb34138463b8bbaf6c2ba135992%29%3B%0A%20%20%20%20%20%20%20%20%0A%20%20%20%20%0A%20%20%20%20%20%20%20%20%20%20%20%20var%20icon_643a34307e104d699e6b812fb1620865%20%3D%20L.AwesomeMarkers.icon%28%0A%20%20%20%20%20%20%20%20%20%20%20%20%20%20%20%20%7B%22extraClasses%22%3A%20%22fa-rotate-0%22%2C%20%22icon%22%3A%20%22bicycle%22%2C%20%22iconColor%22%3A%20%22white%22%2C%20%22markerColor%22%3A%20%22red%22%2C%20%22prefic%22%3A%20%22fa%22%2C%20%22prefix%22%3A%20%22glyphicon%22%7D%0A%20%20%20%20%20%20%20%20%20%20%20%20%29%3B%0A%20%20%20%20%20%20%20%20%20%20%20%20marker_6d9a89a09e204d959cd031705d9c5f2c.setIcon%28icon_643a34307e104d699e6b812fb1620865%29%3B%0A%20%20%20%20%20%20%20%20%0A%20%20%20%20%0A%20%20%20%20%20%20%20%20var%20popup_4e6e8ee5aa934fa49e79cf78887e0e93%20%3D%20L.popup%28%7B%22maxWidth%22%3A%20%22100%25%22%7D%29%3B%0A%0A%20%20%20%20%20%20%20%20%0A%20%20%20%20%20%20%20%20%20%20%20%20var%20html_04d6709218274b018dd228b751db1025%20%3D%20%24%28%60%3Cdiv%20id%3D%22html_04d6709218274b018dd228b751db1025%22%20style%3D%22width%3A%20100.0%25%3B%20height%3A%20100.0%25%3B%22%3EId%3A%20889%3Cbr%3EMurrayfield%20Tram%3Cbr%3EDescription%3A%20By%20the%20side%20of%20the%20station%20entrance%3Cbr%3E%3Cbr%3ECounts%3A%20327%3C/div%3E%60%29%5B0%5D%3B%0A%20%20%20%20%20%20%20%20%20%20%20%20popup_4e6e8ee5aa934fa49e79cf78887e0e93.setContent%28html_04d6709218274b018dd228b751db1025%29%3B%0A%20%20%20%20%20%20%20%20%0A%0A%20%20%20%20%20%20%20%20marker_6d9a89a09e204d959cd031705d9c5f2c.bindPopup%28popup_4e6e8ee5aa934fa49e79cf78887e0e93%29%0A%20%20%20%20%20%20%20%20%3B%0A%0A%20%20%20%20%20%20%20%20%0A%20%20%20%20%0A%20%20%20%20%0A%20%20%20%20%20%20%20%20%20%20%20%20var%20marker_5c4d5d0520274be6a08322403284f50d%20%3D%20L.marker%28%0A%20%20%20%20%20%20%20%20%20%20%20%20%20%20%20%20%5B55.98676132611317%2C%20-3.382426853781425%5D%2C%0A%20%20%20%20%20%20%20%20%20%20%20%20%20%20%20%20%7B%7D%0A%20%20%20%20%20%20%20%20%20%20%20%20%29.addTo%28marker_cluster_67359bb34138463b8bbaf6c2ba135992%29%3B%0A%20%20%20%20%20%20%20%20%0A%20%20%20%20%0A%20%20%20%20%20%20%20%20%20%20%20%20var%20icon_b3df814212f44645a8d64ccc4013091a%20%3D%20L.AwesomeMarkers.icon%28%0A%20%20%20%20%20%20%20%20%20%20%20%20%20%20%20%20%7B%22extraClasses%22%3A%20%22fa-rotate-0%22%2C%20%22icon%22%3A%20%22bicycle%22%2C%20%22iconColor%22%3A%20%22white%22%2C%20%22markerColor%22%3A%20%22red%22%2C%20%22prefic%22%3A%20%22fa%22%2C%20%22prefix%22%3A%20%22glyphicon%22%7D%0A%20%20%20%20%20%20%20%20%20%20%20%20%29%3B%0A%20%20%20%20%20%20%20%20%20%20%20%20marker_5c4d5d0520274be6a08322403284f50d.setIcon%28icon_b3df814212f44645a8d64ccc4013091a%29%3B%0A%20%20%20%20%20%20%20%20%0A%20%20%20%20%0A%20%20%20%20%20%20%20%20var%20popup_9de427cd56014cb799dc35f84740838c%20%3D%20L.popup%28%7B%22maxWidth%22%3A%20%22100%25%22%7D%29%3B%0A%0A%20%20%20%20%20%20%20%20%0A%20%20%20%20%20%20%20%20%20%20%20%20var%20html_7470ce52e6cb4e79bc77cd623847276b%20%3D%20%24%28%60%3Cdiv%20id%3D%22html_7470ce52e6cb4e79bc77cd623847276b%22%20style%3D%22width%3A%20100.0%25%3B%20height%3A%20100.0%25%3B%22%3EId%3A%201865%3Cbr%3EDalmeny%20Station%3Cbr%3EDescription%3A%20Next%20to%20bike%20shelter%3Cbr%3E%3Cbr%3ECounts%3A%20324%3C/div%3E%60%29%5B0%5D%3B%0A%20%20%20%20%20%20%20%20%20%20%20%20popup_9de427cd56014cb799dc35f84740838c.setContent%28html_7470ce52e6cb4e79bc77cd623847276b%29%3B%0A%20%20%20%20%20%20%20%20%0A%0A%20%20%20%20%20%20%20%20marker_5c4d5d0520274be6a08322403284f50d.bindPopup%28popup_9de427cd56014cb799dc35f84740838c%29%0A%20%20%20%20%20%20%20%20%3B%0A%0A%20%20%20%20%20%20%20%20%0A%20%20%20%20%0A%20%20%20%20%0A%20%20%20%20%20%20%20%20%20%20%20%20var%20marker_fe670c099ec34d6ba19a5c6c8b2188de%20%3D%20L.marker%28%0A%20%20%20%20%20%20%20%20%20%20%20%20%20%20%20%20%5B55.94474957118208%2C%20-3.186542135633317%5D%2C%0A%20%20%20%20%20%20%20%20%20%20%20%20%20%20%20%20%7B%7D%0A%20%20%20%20%20%20%20%20%20%20%20%20%29.addTo%28marker_cluster_67359bb34138463b8bbaf6c2ba135992%29%3B%0A%20%20%20%20%20%20%20%20%0A%20%20%20%20%0A%20%20%20%20%20%20%20%20%20%20%20%20var%20icon_e9bc8e3d82934984b25115700251bc42%20%3D%20L.AwesomeMarkers.icon%28%0A%20%20%20%20%20%20%20%20%20%20%20%20%20%20%20%20%7B%22extraClasses%22%3A%20%22fa-rotate-0%22%2C%20%22icon%22%3A%20%22bicycle%22%2C%20%22iconColor%22%3A%20%22white%22%2C%20%22markerColor%22%3A%20%22red%22%2C%20%22prefic%22%3A%20%22fa%22%2C%20%22prefix%22%3A%20%22glyphicon%22%7D%0A%20%20%20%20%20%20%20%20%20%20%20%20%29%3B%0A%20%20%20%20%20%20%20%20%20%20%20%20marker_fe670c099ec34d6ba19a5c6c8b2188de.setIcon%28icon_e9bc8e3d82934984b25115700251bc42%29%3B%0A%20%20%20%20%20%20%20%20%0A%20%20%20%20%0A%20%20%20%20%20%20%20%20var%20popup_816cc94542e144da847f5ade119aac34%20%3D%20L.popup%28%7B%22maxWidth%22%3A%20%22100%25%22%7D%29%3B%0A%0A%20%20%20%20%20%20%20%20%0A%20%20%20%20%20%20%20%20%20%20%20%20var%20html_1f18518c8f3843a294829d56df7830b5%20%3D%20%24%28%60%3Cdiv%20id%3D%22html_1f18518c8f3843a294829d56df7830b5%22%20style%3D%22width%3A%20100.0%25%3B%20height%3A%20100.0%25%3B%22%3EId%3A%20888%3Cbr%3ECrichton%20Street%3Cbr%3EDescription%3A%20Corner%20of%20Crichton%20Street%20%26%20Potterow%3Cbr%3E%3Cbr%3ECounts%3A%20286%3C/div%3E%60%29%5B0%5D%3B%0A%20%20%20%20%20%20%20%20%20%20%20%20popup_816cc94542e144da847f5ade119aac34.setContent%28html_1f18518c8f3843a294829d56df7830b5%29%3B%0A%20%20%20%20%20%20%20%20%0A%0A%20%20%20%20%20%20%20%20marker_fe670c099ec34d6ba19a5c6c8b2188de.bindPopup%28popup_816cc94542e144da847f5ade119aac34%29%0A%20%20%20%20%20%20%20%20%3B%0A%0A%20%20%20%20%20%20%20%20%0A%20%20%20%20%0A%20%20%20%20%0A%20%20%20%20%20%20%20%20%20%20%20%20var%20marker_9da0eba04aac4ab39fa0a709d8f54398%20%3D%20L.marker%28%0A%20%20%20%20%20%20%20%20%20%20%20%20%20%20%20%20%5B55.94632179137708%2C%20-3.236542329964095%5D%2C%0A%20%20%20%20%20%20%20%20%20%20%20%20%20%20%20%20%7B%7D%0A%20%20%20%20%20%20%20%20%20%20%20%20%29.addTo%28marker_cluster_67359bb34138463b8bbaf6c2ba135992%29%3B%0A%20%20%20%20%20%20%20%20%0A%20%20%20%20%0A%20%20%20%20%20%20%20%20%20%20%20%20var%20icon_e4addc60775048cb82d18ee5cb233f93%20%3D%20L.AwesomeMarkers.icon%28%0A%20%20%20%20%20%20%20%20%20%20%20%20%20%20%20%20%7B%22extraClasses%22%3A%20%22fa-rotate-0%22%2C%20%22icon%22%3A%20%22bicycle%22%2C%20%22iconColor%22%3A%20%22white%22%2C%20%22markerColor%22%3A%20%22red%22%2C%20%22prefic%22%3A%20%22fa%22%2C%20%22prefix%22%3A%20%22glyphicon%22%7D%0A%20%20%20%20%20%20%20%20%20%20%20%20%29%3B%0A%20%20%20%20%20%20%20%20%20%20%20%20marker_9da0eba04aac4ab39fa0a709d8f54398.setIcon%28icon_e4addc60775048cb82d18ee5cb233f93%29%3B%0A%20%20%20%20%20%20%20%20%0A%20%20%20%20%0A%20%20%20%20%20%20%20%20var%20popup_6d87efaac5a145beab58c57625f4067d%20%3D%20L.popup%28%7B%22maxWidth%22%3A%20%22100%25%22%7D%29%3B%0A%0A%20%20%20%20%20%20%20%20%0A%20%20%20%20%20%20%20%20%20%20%20%20var%20html_0322b020736d4644ae56e621dd2f0a58%20%3D%20%24%28%60%3Cdiv%20id%3D%22html_0322b020736d4644ae56e621dd2f0a58%22%20style%3D%22width%3A%20100.0%25%3B%20height%3A%20100.0%25%3B%22%3EId%3A%20877%3Cbr%3EMurrayfield%20Avenue%3Cbr%3EDescription%3A%20Corner%20of%20Murrayfield%20Avenue%20%26%20Murrayfield%20Place%3Cbr%3E%3Cbr%3ECounts%3A%20275%3C/div%3E%60%29%5B0%5D%3B%0A%20%20%20%20%20%20%20%20%20%20%20%20popup_6d87efaac5a145beab58c57625f4067d.setContent%28html_0322b020736d4644ae56e621dd2f0a58%29%3B%0A%20%20%20%20%20%20%20%20%0A%0A%20%20%20%20%20%20%20%20marker_9da0eba04aac4ab39fa0a709d8f54398.bindPopup%28popup_6d87efaac5a145beab58c57625f4067d%29%0A%20%20%20%20%20%20%20%20%3B%0A%0A%20%20%20%20%20%20%20%20%0A%20%20%20%20%0A%20%20%20%20%0A%20%20%20%20%20%20%20%20%20%20%20%20var%20marker_1ab103aa08104546ad4e8addc4f567c7%20%3D%20L.marker%28%0A%20%20%20%20%20%20%20%20%20%20%20%20%20%20%20%20%5B55.94396074176487%2C%20-3.058306836702485%5D%2C%0A%20%20%20%20%20%20%20%20%20%20%20%20%20%20%20%20%7B%7D%0A%20%20%20%20%20%20%20%20%20%20%20%20%29.addTo%28marker_cluster_67359bb34138463b8bbaf6c2ba135992%29%3B%0A%20%20%20%20%20%20%20%20%0A%20%20%20%20%0A%20%20%20%20%20%20%20%20%20%20%20%20var%20icon_4b10f241f800497c82e5c85bbf99accb%20%3D%20L.AwesomeMarkers.icon%28%0A%20%20%20%20%20%20%20%20%20%20%20%20%20%20%20%20%7B%22extraClasses%22%3A%20%22fa-rotate-0%22%2C%20%22icon%22%3A%20%22bicycle%22%2C%20%22iconColor%22%3A%20%22white%22%2C%20%22markerColor%22%3A%20%22red%22%2C%20%22prefic%22%3A%20%22fa%22%2C%20%22prefix%22%3A%20%22glyphicon%22%7D%0A%20%20%20%20%20%20%20%20%20%20%20%20%29%3B%0A%20%20%20%20%20%20%20%20%20%20%20%20marker_1ab103aa08104546ad4e8addc4f567c7.setIcon%28icon_4b10f241f800497c82e5c85bbf99accb%29%3B%0A%20%20%20%20%20%20%20%20%0A%20%20%20%20%0A%20%20%20%20%20%20%20%20var%20popup_46a0200daf8f42ef84b9ef3a74b25d73%20%3D%20L.popup%28%7B%22maxWidth%22%3A%20%22100%25%22%7D%29%3B%0A%0A%20%20%20%20%20%20%20%20%0A%20%20%20%20%20%20%20%20%20%20%20%20var%20html_959d29be8b194512872707e99f97c313%20%3D%20%24%28%60%3Cdiv%20id%3D%22html_959d29be8b194512872707e99f97c313%22%20style%3D%22width%3A%20100.0%25%3B%20height%3A%20100.0%25%3B%22%3EId%3A%202265%3Cbr%3EMusselburgh%20Brunton%20Hall%3Cbr%3EDescription%3A%20Adjacent%20to%20the%20Brunton%20Theatre%20%3Cbr%3E%3Cbr%3ECounts%3A%20270%3C/div%3E%60%29%5B0%5D%3B%0A%20%20%20%20%20%20%20%20%20%20%20%20popup_46a0200daf8f42ef84b9ef3a74b25d73.setContent%28html_959d29be8b194512872707e99f97c313%29%3B%0A%20%20%20%20%20%20%20%20%0A%0A%20%20%20%20%20%20%20%20marker_1ab103aa08104546ad4e8addc4f567c7.bindPopup%28popup_46a0200daf8f42ef84b9ef3a74b25d73%29%0A%20%20%20%20%20%20%20%20%3B%0A%0A%20%20%20%20%20%20%20%20%0A%20%20%20%20%0A%20%20%20%20%0A%20%20%20%20%20%20%20%20%20%20%20%20var%20marker_6c9e95d553a24a0a937176d6d2a0a1f4%20%3D%20L.marker%28%0A%20%20%20%20%20%20%20%20%20%20%20%20%20%20%20%20%5B55.931168715771065%2C%20-3.314414297805683%5D%2C%0A%20%20%20%20%20%20%20%20%20%20%20%20%20%20%20%20%7B%7D%0A%20%20%20%20%20%20%20%20%20%20%20%20%29.addTo%28marker_cluster_67359bb34138463b8bbaf6c2ba135992%29%3B%0A%20%20%20%20%20%20%20%20%0A%20%20%20%20%0A%20%20%20%20%20%20%20%20%20%20%20%20var%20icon_7a29bee9eaf74c11880421c72fb91633%20%3D%20L.AwesomeMarkers.icon%28%0A%20%20%20%20%20%20%20%20%20%20%20%20%20%20%20%20%7B%22extraClasses%22%3A%20%22fa-rotate-0%22%2C%20%22icon%22%3A%20%22bicycle%22%2C%20%22iconColor%22%3A%20%22white%22%2C%20%22markerColor%22%3A%20%22red%22%2C%20%22prefic%22%3A%20%22fa%22%2C%20%22prefix%22%3A%20%22glyphicon%22%7D%0A%20%20%20%20%20%20%20%20%20%20%20%20%29%3B%0A%20%20%20%20%20%20%20%20%20%20%20%20marker_6c9e95d553a24a0a937176d6d2a0a1f4.setIcon%28icon_7a29bee9eaf74c11880421c72fb91633%29%3B%0A%20%20%20%20%20%20%20%20%0A%20%20%20%20%0A%20%20%20%20%20%20%20%20var%20popup_bd508b73ddd84f3bb7d7001672587096%20%3D%20L.popup%28%7B%22maxWidth%22%3A%20%22100%25%22%7D%29%3B%0A%0A%20%20%20%20%20%20%20%20%0A%20%20%20%20%20%20%20%20%20%20%20%20var%20html_63dcd2a10c17424780b6b2403b3852dc%20%3D%20%24%28%60%3Cdiv%20id%3D%22html_63dcd2a10c17424780b6b2403b3852dc%22%20style%3D%22width%3A%20100.0%25%3B%20height%3A%20100.0%25%3B%22%3EId%3A%201859%3Cbr%3EEdinburgh%20Park%20Central%3Cbr%3EDescription%3A%20Between%20Lochside%20Court%20and%20Lochside%20Avenue%3Cbr%3E%3Cbr%3ECounts%3A%20237%3C/div%3E%60%29%5B0%5D%3B%0A%20%20%20%20%20%20%20%20%20%20%20%20popup_bd508b73ddd84f3bb7d7001672587096.setContent%28html_63dcd2a10c17424780b6b2403b3852dc%29%3B%0A%20%20%20%20%20%20%20%20%0A%0A%20%20%20%20%20%20%20%20marker_6c9e95d553a24a0a937176d6d2a0a1f4.bindPopup%28popup_bd508b73ddd84f3bb7d7001672587096%29%0A%20%20%20%20%20%20%20%20%3B%0A%0A%20%20%20%20%20%20%20%20%0A%20%20%20%20%0A%20%20%20%20%0A%20%20%20%20%20%20%20%20%20%20%20%20var%20marker_2a91196230454af4ba7e4e1d611bd5a7%20%3D%20L.marker%28%0A%20%20%20%20%20%20%20%20%20%20%20%20%20%20%20%20%5B55.9387919459937%2C%20-3.355556216932513%5D%2C%0A%20%20%20%20%20%20%20%20%20%20%20%20%20%20%20%20%7B%7D%0A%20%20%20%20%20%20%20%20%20%20%20%20%29.addTo%28marker_cluster_67359bb34138463b8bbaf6c2ba135992%29%3B%0A%20%20%20%20%20%20%20%20%0A%20%20%20%20%0A%20%20%20%20%20%20%20%20%20%20%20%20var%20icon_f72f6a0e2cdc40a494b0cba84c474b16%20%3D%20L.AwesomeMarkers.icon%28%0A%20%20%20%20%20%20%20%20%20%20%20%20%20%20%20%20%7B%22extraClasses%22%3A%20%22fa-rotate-0%22%2C%20%22icon%22%3A%20%22bicycle%22%2C%20%22iconColor%22%3A%20%22white%22%2C%20%22markerColor%22%3A%20%22red%22%2C%20%22prefic%22%3A%20%22fa%22%2C%20%22prefix%22%3A%20%22glyphicon%22%7D%0A%20%20%20%20%20%20%20%20%20%20%20%20%29%3B%0A%20%20%20%20%20%20%20%20%20%20%20%20marker_2a91196230454af4ba7e4e1d611bd5a7.setIcon%28icon_f72f6a0e2cdc40a494b0cba84c474b16%29%3B%0A%20%20%20%20%20%20%20%20%0A%20%20%20%20%0A%20%20%20%20%20%20%20%20var%20popup_c1fc272f7a8448fc8274b07ddf905fc1%20%3D%20L.popup%28%7B%22maxWidth%22%3A%20%22100%25%22%7D%29%3B%0A%0A%20%20%20%20%20%20%20%20%0A%20%20%20%20%20%20%20%20%20%20%20%20var%20html_471cb97495a145ddbc3fe3dfe8ccf29d%20%3D%20%24%28%60%3Cdiv%20id%3D%22html_471cb97495a145ddbc3fe3dfe8ccf29d%22%20style%3D%22width%3A%20100.0%25%3B%20height%3A%20100.0%25%3B%22%3EId%3A%201860%3Cbr%3EIngliston%20Park%20%26%20Ride%3Cbr%3EDescription%3A%20Next%20to%20Customer%20Service%20building%3Cbr%3E%3Cbr%3ECounts%3A%20224%3C/div%3E%60%29%5B0%5D%3B%0A%20%20%20%20%20%20%20%20%20%20%20%20popup_c1fc272f7a8448fc8274b07ddf905fc1.setContent%28html_471cb97495a145ddbc3fe3dfe8ccf29d%29%3B%0A%20%20%20%20%20%20%20%20%0A%0A%20%20%20%20%20%20%20%20marker_2a91196230454af4ba7e4e1d611bd5a7.bindPopup%28popup_c1fc272f7a8448fc8274b07ddf905fc1%29%0A%20%20%20%20%20%20%20%20%3B%0A%0A%20%20%20%20%20%20%20%20%0A%20%20%20%20%0A%20%20%20%20%0A%20%20%20%20%20%20%20%20%20%20%20%20var%20marker_d87ecc30c18d4be0855efc2f4811aa0e%20%3D%20L.marker%28%0A%20%20%20%20%20%20%20%20%20%20%20%20%20%20%20%20%5B55.992957267668345%2C%20-3.407156205559118%5D%2C%0A%20%20%20%20%20%20%20%20%20%20%20%20%20%20%20%20%7B%7D%0A%20%20%20%20%20%20%20%20%20%20%20%20%29.addTo%28marker_cluster_67359bb34138463b8bbaf6c2ba135992%29%3B%0A%20%20%20%20%20%20%20%20%0A%20%20%20%20%0A%20%20%20%20%20%20%20%20%20%20%20%20var%20icon_3e14689fb9a04aae9e3755cbfb222eb1%20%3D%20L.AwesomeMarkers.icon%28%0A%20%20%20%20%20%20%20%20%20%20%20%20%20%20%20%20%7B%22extraClasses%22%3A%20%22fa-rotate-0%22%2C%20%22icon%22%3A%20%22bicycle%22%2C%20%22iconColor%22%3A%20%22white%22%2C%20%22markerColor%22%3A%20%22red%22%2C%20%22prefic%22%3A%20%22fa%22%2C%20%22prefix%22%3A%20%22glyphicon%22%7D%0A%20%20%20%20%20%20%20%20%20%20%20%20%29%3B%0A%20%20%20%20%20%20%20%20%20%20%20%20marker_d87ecc30c18d4be0855efc2f4811aa0e.setIcon%28icon_3e14689fb9a04aae9e3755cbfb222eb1%29%3B%0A%20%20%20%20%20%20%20%20%0A%20%20%20%20%0A%20%20%20%20%20%20%20%20var%20popup_c5a663eafce04dc382c8adc63a993f78%20%3D%20L.popup%28%7B%22maxWidth%22%3A%20%22100%25%22%7D%29%3B%0A%0A%20%20%20%20%20%20%20%20%0A%20%20%20%20%20%20%20%20%20%20%20%20var%20html_cda52376ca5b483d9db9dda809580a8a%20%3D%20%24%28%60%3Cdiv%20id%3D%22html_cda52376ca5b483d9db9dda809580a8a%22%20style%3D%22width%3A%20100.0%25%3B%20height%3A%20100.0%25%3B%22%3EId%3A%201877%3Cbr%3EPort%20Edgar%20Marina%3Cbr%3EDescription%3A%20Next%20to%20Marina%20Shop%20and%20Restaurant%3Cbr%3E%3Cbr%3ECounts%3A%20203%3C/div%3E%60%29%5B0%5D%3B%0A%20%20%20%20%20%20%20%20%20%20%20%20popup_c5a663eafce04dc382c8adc63a993f78.setContent%28html_cda52376ca5b483d9db9dda809580a8a%29%3B%0A%20%20%20%20%20%20%20%20%0A%0A%20%20%20%20%20%20%20%20marker_d87ecc30c18d4be0855efc2f4811aa0e.bindPopup%28popup_c5a663eafce04dc382c8adc63a993f78%29%0A%20%20%20%20%20%20%20%20%3B%0A%0A%20%20%20%20%20%20%20%20%0A%20%20%20%20%0A%20%20%20%20%0A%20%20%20%20%20%20%20%20%20%20%20%20var%20marker_480a64bfa494441994038d67115020e0%20%3D%20L.marker%28%0A%20%20%20%20%20%20%20%20%20%20%20%20%20%20%20%20%5B55.98376618789104%2C%20-3.401351801602175%5D%2C%0A%20%20%20%20%20%20%20%20%20%20%20%20%20%20%20%20%7B%7D%0A%20%20%20%20%20%20%20%20%20%20%20%20%29.addTo%28marker_cluster_67359bb34138463b8bbaf6c2ba135992%29%3B%0A%20%20%20%20%20%20%20%20%0A%20%20%20%20%0A%20%20%20%20%20%20%20%20%20%20%20%20var%20icon_9b0947fbe5f04f82aeeea2b6451b6144%20%3D%20L.AwesomeMarkers.icon%28%0A%20%20%20%20%20%20%20%20%20%20%20%20%20%20%20%20%7B%22extraClasses%22%3A%20%22fa-rotate-0%22%2C%20%22icon%22%3A%20%22bicycle%22%2C%20%22iconColor%22%3A%20%22white%22%2C%20%22markerColor%22%3A%20%22red%22%2C%20%22prefic%22%3A%20%22fa%22%2C%20%22prefix%22%3A%20%22glyphicon%22%7D%0A%20%20%20%20%20%20%20%20%20%20%20%20%29%3B%0A%20%20%20%20%20%20%20%20%20%20%20%20marker_480a64bfa494441994038d67115020e0.setIcon%28icon_9b0947fbe5f04f82aeeea2b6451b6144%29%3B%0A%20%20%20%20%20%20%20%20%0A%20%20%20%20%0A%20%20%20%20%20%20%20%20var%20popup_9fc1c50cbe7646d8be417ee8cec5c0c8%20%3D%20L.popup%28%7B%22maxWidth%22%3A%20%22100%25%22%7D%29%3B%0A%0A%20%20%20%20%20%20%20%20%0A%20%20%20%20%20%20%20%20%20%20%20%20var%20html_c54045d5c8c2421ab518d385094c25cc%20%3D%20%24%28%60%3Cdiv%20id%3D%22html_c54045d5c8c2421ab518d385094c25cc%22%20style%3D%22width%3A%20100.0%25%3B%20height%3A%20100.0%25%3B%22%3EId%3A%201874%3Cbr%3ETesco%20Ferrymuir%3Cbr%3EDescription%3A%20Outside%20supermarket%3Cbr%3E%3Cbr%3ECounts%3A%20200%3C/div%3E%60%29%5B0%5D%3B%0A%20%20%20%20%20%20%20%20%20%20%20%20popup_9fc1c50cbe7646d8be417ee8cec5c0c8.setContent%28html_c54045d5c8c2421ab518d385094c25cc%29%3B%0A%20%20%20%20%20%20%20%20%0A%0A%20%20%20%20%20%20%20%20marker_480a64bfa494441994038d67115020e0.bindPopup%28popup_9fc1c50cbe7646d8be417ee8cec5c0c8%29%0A%20%20%20%20%20%20%20%20%3B%0A%0A%20%20%20%20%20%20%20%20%0A%20%20%20%20%0A%20%20%20%20%0A%20%20%20%20%20%20%20%20%20%20%20%20var%20marker_495772ec90de499485cb3315f8b47d53%20%3D%20L.marker%28%0A%20%20%20%20%20%20%20%20%20%20%20%20%20%20%20%20%5B55.92200087060626%2C%20-3.176901814164921%5D%2C%0A%20%20%20%20%20%20%20%20%20%20%20%20%20%20%20%20%7B%7D%0A%20%20%20%20%20%20%20%20%20%20%20%20%29.addTo%28marker_cluster_67359bb34138463b8bbaf6c2ba135992%29%3B%0A%20%20%20%20%20%20%20%20%0A%20%20%20%20%0A%20%20%20%20%20%20%20%20%20%20%20%20var%20icon_825d3970f1144a649b5d788368de85d7%20%3D%20L.AwesomeMarkers.icon%28%0A%20%20%20%20%20%20%20%20%20%20%20%20%20%20%20%20%7B%22extraClasses%22%3A%20%22fa-rotate-0%22%2C%20%22icon%22%3A%20%22bicycle%22%2C%20%22iconColor%22%3A%20%22white%22%2C%20%22markerColor%22%3A%20%22red%22%2C%20%22prefic%22%3A%20%22fa%22%2C%20%22prefix%22%3A%20%22glyphicon%22%7D%0A%20%20%20%20%20%20%20%20%20%20%20%20%29%3B%0A%20%20%20%20%20%20%20%20%20%20%20%20marker_495772ec90de499485cb3315f8b47d53.setIcon%28icon_825d3970f1144a649b5d788368de85d7%29%3B%0A%20%20%20%20%20%20%20%20%0A%20%20%20%20%0A%20%20%20%20%20%20%20%20var%20popup_b349c0f46e71480bab6c7c55ccbf8de5%20%3D%20L.popup%28%7B%22maxWidth%22%3A%20%22100%25%22%7D%29%3B%0A%0A%20%20%20%20%20%20%20%20%0A%20%20%20%20%20%20%20%20%20%20%20%20var%20html_17e0ff8140c648c196fed25b49a74a06%20%3D%20%24%28%60%3Cdiv%20id%3D%22html_17e0ff8140c648c196fed25b49a74a06%22%20style%3D%22width%3A%20100.0%25%3B%20height%3A%20100.0%25%3B%22%3EId%3A%20255%3Cbr%3EKings%20Buildings%204%3Cbr%3EDescription%3A%20X-Y%20Cafe%3Cbr%3E%3Cbr%3ECounts%3A%20196%3C/div%3E%60%29%5B0%5D%3B%0A%20%20%20%20%20%20%20%20%20%20%20%20popup_b349c0f46e71480bab6c7c55ccbf8de5.setContent%28html_17e0ff8140c648c196fed25b49a74a06%29%3B%0A%20%20%20%20%20%20%20%20%0A%0A%20%20%20%20%20%20%20%20marker_495772ec90de499485cb3315f8b47d53.bindPopup%28popup_b349c0f46e71480bab6c7c55ccbf8de5%29%0A%20%20%20%20%20%20%20%20%3B%0A%0A%20%20%20%20%20%20%20%20%0A%20%20%20%20%0A%20%20%20%20%0A%20%20%20%20%20%20%20%20%20%20%20%20var%20marker_aef1049bc54a480b818f6161d6d169dd%20%3D%20L.marker%28%0A%20%20%20%20%20%20%20%20%20%20%20%20%20%20%20%20%5B55.94034806856411%2C%20-3.172108169850503%5D%2C%0A%20%20%20%20%20%20%20%20%20%20%20%20%20%20%20%20%7B%7D%0A%20%20%20%20%20%20%20%20%20%20%20%20%29.addTo%28marker_cluster_67359bb34138463b8bbaf6c2ba135992%29%3B%0A%20%20%20%20%20%20%20%20%0A%20%20%20%20%0A%20%20%20%20%20%20%20%20%20%20%20%20var%20icon_202c977467ce4f54895a1a878b4b4bb0%20%3D%20L.AwesomeMarkers.icon%28%0A%20%20%20%20%20%20%20%20%20%20%20%20%20%20%20%20%7B%22extraClasses%22%3A%20%22fa-rotate-0%22%2C%20%22icon%22%3A%20%22bicycle%22%2C%20%22iconColor%22%3A%20%22white%22%2C%20%22markerColor%22%3A%20%22red%22%2C%20%22prefic%22%3A%20%22fa%22%2C%20%22prefix%22%3A%20%22glyphicon%22%7D%0A%20%20%20%20%20%20%20%20%20%20%20%20%29%3B%0A%20%20%20%20%20%20%20%20%20%20%20%20marker_aef1049bc54a480b818f6161d6d169dd.setIcon%28icon_202c977467ce4f54895a1a878b4b4bb0%29%3B%0A%20%20%20%20%20%20%20%20%0A%20%20%20%20%0A%20%20%20%20%20%20%20%20var%20popup_ac2719f13d774ede8e22a3a0bbbfa7b8%20%3D%20L.popup%28%7B%22maxWidth%22%3A%20%22100%25%22%7D%29%3B%0A%0A%20%20%20%20%20%20%20%20%0A%20%20%20%20%20%20%20%20%20%20%20%20var%20html_b7b3f7689d7c493ca06078efa7af916d%20%3D%20%24%28%60%3Cdiv%20id%3D%22html_b7b3f7689d7c493ca06078efa7af916d%22%20style%3D%22width%3A%20100.0%25%3B%20height%3A%20100.0%25%3B%22%3EId%3A%20860%3Cbr%3EPollock%20Halls%20Virtual%3Cbr%3EDescription%3A%20On%20pavement%20corner%20by%20the%20entrance%20gates%3Cbr%3E%3Cbr%3ECounts%3A%20177%3C/div%3E%60%29%5B0%5D%3B%0A%20%20%20%20%20%20%20%20%20%20%20%20popup_ac2719f13d774ede8e22a3a0bbbfa7b8.setContent%28html_b7b3f7689d7c493ca06078efa7af916d%29%3B%0A%20%20%20%20%20%20%20%20%0A%0A%20%20%20%20%20%20%20%20marker_aef1049bc54a480b818f6161d6d169dd.bindPopup%28popup_ac2719f13d774ede8e22a3a0bbbfa7b8%29%0A%20%20%20%20%20%20%20%20%3B%0A%0A%20%20%20%20%20%20%20%20%0A%20%20%20%20%0A%20%20%20%20%0A%20%20%20%20%20%20%20%20%20%20%20%20var%20marker_06b1667d72ba4371ad673cb6fecab612%20%3D%20L.marker%28%0A%20%20%20%20%20%20%20%20%20%20%20%20%20%20%20%20%5B55.97424715757633%2C%20-3.194482342104265%5D%2C%0A%20%20%20%20%20%20%20%20%20%20%20%20%20%20%20%20%7B%7D%0A%20%20%20%20%20%20%20%20%20%20%20%20%29.addTo%28marker_cluster_67359bb34138463b8bbaf6c2ba135992%29%3B%0A%20%20%20%20%20%20%20%20%0A%20%20%20%20%0A%20%20%20%20%20%20%20%20%20%20%20%20var%20icon_bbab4be87d2845b39ead7e3fc35c2614%20%3D%20L.AwesomeMarkers.icon%28%0A%20%20%20%20%20%20%20%20%20%20%20%20%20%20%20%20%7B%22extraClasses%22%3A%20%22fa-rotate-0%22%2C%20%22icon%22%3A%20%22bicycle%22%2C%20%22iconColor%22%3A%20%22white%22%2C%20%22markerColor%22%3A%20%22red%22%2C%20%22prefic%22%3A%20%22fa%22%2C%20%22prefix%22%3A%20%22glyphicon%22%7D%0A%20%20%20%20%20%20%20%20%20%20%20%20%29%3B%0A%20%20%20%20%20%20%20%20%20%20%20%20marker_06b1667d72ba4371ad673cb6fecab612.setIcon%28icon_bbab4be87d2845b39ead7e3fc35c2614%29%3B%0A%20%20%20%20%20%20%20%20%0A%20%20%20%20%0A%20%20%20%20%20%20%20%20var%20popup_4cfc244c3960485dbd7a51331242dd8d%20%3D%20L.popup%28%7B%22maxWidth%22%3A%20%22100%25%22%7D%29%3B%0A%0A%20%20%20%20%20%20%20%20%0A%20%20%20%20%20%20%20%20%20%20%20%20var%20html_c7bef1844f5c4a809867dd0c8db22c24%20%3D%20%24%28%60%3Cdiv%20id%3D%22html_c7bef1844f5c4a809867dd0c8db22c24%22%20style%3D%22width%3A%20100.0%25%3B%20height%3A%20100.0%25%3B%22%3EId%3A%20266%3Cbr%3EVictoria%20Park%3Cbr%3EDescription%3A%20Near%20Craighall%20Road%3Cbr%3E%3Cbr%3ECounts%3A%20171%3C/div%3E%60%29%5B0%5D%3B%0A%20%20%20%20%20%20%20%20%20%20%20%20popup_4cfc244c3960485dbd7a51331242dd8d.setContent%28html_c7bef1844f5c4a809867dd0c8db22c24%29%3B%0A%20%20%20%20%20%20%20%20%0A%0A%20%20%20%20%20%20%20%20marker_06b1667d72ba4371ad673cb6fecab612.bindPopup%28popup_4cfc244c3960485dbd7a51331242dd8d%29%0A%20%20%20%20%20%20%20%20%3B%0A%0A%20%20%20%20%20%20%20%20%0A%20%20%20%20%0A%20%20%20%20%0A%20%20%20%20%20%20%20%20%20%20%20%20var%20marker_c0ef522f2fef4e259db90c1c4b9c9dac%20%3D%20L.marker%28%0A%20%20%20%20%20%20%20%20%20%20%20%20%20%20%20%20%5B55.93536510821717%2C%20-3.198671326704016%5D%2C%0A%20%20%20%20%20%20%20%20%20%20%20%20%20%20%20%20%7B%7D%0A%20%20%20%20%20%20%20%20%20%20%20%20%29.addTo%28marker_cluster_67359bb34138463b8bbaf6c2ba135992%29%3B%0A%20%20%20%20%20%20%20%20%0A%20%20%20%20%0A%20%20%20%20%20%20%20%20%20%20%20%20var%20icon_a4ad7d450e1e4b4180fd2b955cc0cb5d%20%3D%20L.AwesomeMarkers.icon%28%0A%20%20%20%20%20%20%20%20%20%20%20%20%20%20%20%20%7B%22extraClasses%22%3A%20%22fa-rotate-0%22%2C%20%22icon%22%3A%20%22bicycle%22%2C%20%22iconColor%22%3A%20%22white%22%2C%20%22markerColor%22%3A%20%22red%22%2C%20%22prefic%22%3A%20%22fa%22%2C%20%22prefix%22%3A%20%22glyphicon%22%7D%0A%20%20%20%20%20%20%20%20%20%20%20%20%29%3B%0A%20%20%20%20%20%20%20%20%20%20%20%20marker_c0ef522f2fef4e259db90c1c4b9c9dac.setIcon%28icon_a4ad7d450e1e4b4180fd2b955cc0cb5d%29%3B%0A%20%20%20%20%20%20%20%20%0A%20%20%20%20%0A%20%20%20%20%20%20%20%20var%20popup_cf17d3d4c96c467eb0352f4a76e9ce62%20%3D%20L.popup%28%7B%22maxWidth%22%3A%20%22100%25%22%7D%29%3B%0A%0A%20%20%20%20%20%20%20%20%0A%20%20%20%20%20%20%20%20%20%20%20%20var%20html_42ecf9b80eb641938076c4f8dabc3a00%20%3D%20%24%28%60%3Cdiv%20id%3D%22html_42ecf9b80eb641938076c4f8dabc3a00%22%20style%3D%22width%3A%20100.0%25%3B%20height%3A%20100.0%25%3B%22%3EId%3A%20343%3Cbr%3EThirlestane%20Road%3Cbr%3EDescription%3A%20Corner%20of%20Thirlestane%20Road%20%26%20St.%20Margaret%27s%20Place%3Cbr%3E%3Cbr%3ECounts%3A%20167%3C/div%3E%60%29%5B0%5D%3B%0A%20%20%20%20%20%20%20%20%20%20%20%20popup_cf17d3d4c96c467eb0352f4a76e9ce62.setContent%28html_42ecf9b80eb641938076c4f8dabc3a00%29%3B%0A%20%20%20%20%20%20%20%20%0A%0A%20%20%20%20%20%20%20%20marker_c0ef522f2fef4e259db90c1c4b9c9dac.bindPopup%28popup_cf17d3d4c96c467eb0352f4a76e9ce62%29%0A%20%20%20%20%20%20%20%20%3B%0A%0A%20%20%20%20%20%20%20%20%0A%20%20%20%20%0A%20%20%20%20%0A%20%20%20%20%20%20%20%20%20%20%20%20var%20marker_75bc8df6493042e0a6f131dafdfd9d04%20%3D%20L.marker%28%0A%20%20%20%20%20%20%20%20%20%20%20%20%20%20%20%20%5B55.94405135341408%2C%20-3.098567246199309%5D%2C%0A%20%20%20%20%20%20%20%20%20%20%20%20%20%20%20%20%7B%7D%0A%20%20%20%20%20%20%20%20%20%20%20%20%29.addTo%28marker_cluster_67359bb34138463b8bbaf6c2ba135992%29%3B%0A%20%20%20%20%20%20%20%20%0A%20%20%20%20%0A%20%20%20%20%20%20%20%20%20%20%20%20var%20icon_1399f90e4dba4d499edc4b2e96be95aa%20%3D%20L.AwesomeMarkers.icon%28%0A%20%20%20%20%20%20%20%20%20%20%20%20%20%20%20%20%7B%22extraClasses%22%3A%20%22fa-rotate-0%22%2C%20%22icon%22%3A%20%22bicycle%22%2C%20%22iconColor%22%3A%20%22white%22%2C%20%22markerColor%22%3A%20%22red%22%2C%20%22prefic%22%3A%20%22fa%22%2C%20%22prefix%22%3A%20%22glyphicon%22%7D%0A%20%20%20%20%20%20%20%20%20%20%20%20%29%3B%0A%20%20%20%20%20%20%20%20%20%20%20%20marker_75bc8df6493042e0a6f131dafdfd9d04.setIcon%28icon_1399f90e4dba4d499edc4b2e96be95aa%29%3B%0A%20%20%20%20%20%20%20%20%0A%20%20%20%20%0A%20%20%20%20%20%20%20%20var%20popup_8f5e98c9c0bc457baeddf063724c27e3%20%3D%20L.popup%28%7B%22maxWidth%22%3A%20%22100%25%22%7D%29%3B%0A%0A%20%20%20%20%20%20%20%20%0A%20%20%20%20%20%20%20%20%20%20%20%20var%20html_f192e931817a4e5782a0bc1151047ea6%20%3D%20%24%28%60%3Cdiv%20id%3D%22html_f192e931817a4e5782a0bc1151047ea6%22%20style%3D%22width%3A%20100.0%25%3B%20height%3A%20100.0%25%3B%22%3EId%3A%201041%3Cbr%3EMilton%20Road%20-%20Edinburgh%20College%3Cbr%3EDescription%3A%20Milton%20Road%20Campus%3Cbr%3E%3Cbr%3ECounts%3A%20162%3C/div%3E%60%29%5B0%5D%3B%0A%20%20%20%20%20%20%20%20%20%20%20%20popup_8f5e98c9c0bc457baeddf063724c27e3.setContent%28html_f192e931817a4e5782a0bc1151047ea6%29%3B%0A%20%20%20%20%20%20%20%20%0A%0A%20%20%20%20%20%20%20%20marker_75bc8df6493042e0a6f131dafdfd9d04.bindPopup%28popup_8f5e98c9c0bc457baeddf063724c27e3%29%0A%20%20%20%20%20%20%20%20%3B%0A%0A%20%20%20%20%20%20%20%20%0A%20%20%20%20%0A%20%20%20%20%0A%20%20%20%20%20%20%20%20%20%20%20%20var%20marker_0fe61ea3edc04c99992d9a24298df0ce%20%3D%20L.marker%28%0A%20%20%20%20%20%20%20%20%20%20%20%20%20%20%20%20%5B55.95791033111316%2C%20-3.180692837632364%5D%2C%0A%20%20%20%20%20%20%20%20%20%20%20%20%20%20%20%20%7B%7D%0A%20%20%20%20%20%20%20%20%20%20%20%20%29.addTo%28marker_cluster_67359bb34138463b8bbaf6c2ba135992%29%3B%0A%20%20%20%20%20%20%20%20%0A%20%20%20%20%0A%20%20%20%20%20%20%20%20%20%20%20%20var%20icon_05c8d990113b4228996419f14ad4518c%20%3D%20L.AwesomeMarkers.icon%28%0A%20%20%20%20%20%20%20%20%20%20%20%20%20%20%20%20%7B%22extraClasses%22%3A%20%22fa-rotate-0%22%2C%20%22icon%22%3A%20%22bicycle%22%2C%20%22iconColor%22%3A%20%22white%22%2C%20%22markerColor%22%3A%20%22red%22%2C%20%22prefic%22%3A%20%22fa%22%2C%20%22prefix%22%3A%20%22glyphicon%22%7D%0A%20%20%20%20%20%20%20%20%20%20%20%20%29%3B%0A%20%20%20%20%20%20%20%20%20%20%20%20marker_0fe61ea3edc04c99992d9a24298df0ce.setIcon%28icon_05c8d990113b4228996419f14ad4518c%29%3B%0A%20%20%20%20%20%20%20%20%0A%20%20%20%20%0A%20%20%20%20%20%20%20%20var%20popup_571c45b09e40452982fb3300f8da267a%20%3D%20L.popup%28%7B%22maxWidth%22%3A%20%22100%25%22%7D%29%3B%0A%0A%20%20%20%20%20%20%20%20%0A%20%20%20%20%20%20%20%20%20%20%20%20var%20html_8a89a366708e4309bab761b1a6001e74%20%3D%20%24%28%60%3Cdiv%20id%3D%22html_8a89a366708e4309bab761b1a6001e74%22%20style%3D%22width%3A%20100.0%25%3B%20height%3A%20100.0%25%3B%22%3EId%3A%20869%3Cbr%3EHillside%20Crescent%201%3Cbr%3EDescription%3A%20West%20corner%20of%20Hillside%20Crescent%20%26%20London%20Road%3Cbr%3E%3Cbr%3ECounts%3A%20149%3C/div%3E%60%29%5B0%5D%3B%0A%20%20%20%20%20%20%20%20%20%20%20%20popup_571c45b09e40452982fb3300f8da267a.setContent%28html_8a89a366708e4309bab761b1a6001e74%29%3B%0A%20%20%20%20%20%20%20%20%0A%0A%20%20%20%20%20%20%20%20marker_0fe61ea3edc04c99992d9a24298df0ce.bindPopup%28popup_571c45b09e40452982fb3300f8da267a%29%0A%20%20%20%20%20%20%20%20%3B%0A%0A%20%20%20%20%20%20%20%20%0A%20%20%20%20%0A%20%20%20%20%0A%20%20%20%20%20%20%20%20%20%20%20%20var%20marker_643fad7a5b734d01a90c81469dc2cc29%20%3D%20L.marker%28%0A%20%20%20%20%20%20%20%20%20%20%20%20%20%20%20%20%5B55.96403450946105%2C%20-3.195673725279903%5D%2C%0A%20%20%20%20%20%20%20%20%20%20%20%20%20%20%20%20%7B%7D%0A%20%20%20%20%20%20%20%20%20%20%20%20%29.addTo%28marker_cluster_67359bb34138463b8bbaf6c2ba135992%29%3B%0A%20%20%20%20%20%20%20%20%0A%20%20%20%20%0A%20%20%20%20%20%20%20%20%20%20%20%20var%20icon_f23b6fad1ef2452eb3bba29d6907e505%20%3D%20L.AwesomeMarkers.icon%28%0A%20%20%20%20%20%20%20%20%20%20%20%20%20%20%20%20%7B%22extraClasses%22%3A%20%22fa-rotate-0%22%2C%20%22icon%22%3A%20%22bicycle%22%2C%20%22iconColor%22%3A%20%22white%22%2C%20%22markerColor%22%3A%20%22red%22%2C%20%22prefic%22%3A%20%22fa%22%2C%20%22prefix%22%3A%20%22glyphicon%22%7D%0A%20%20%20%20%20%20%20%20%20%20%20%20%29%3B%0A%20%20%20%20%20%20%20%20%20%20%20%20marker_643fad7a5b734d01a90c81469dc2cc29.setIcon%28icon_f23b6fad1ef2452eb3bba29d6907e505%29%3B%0A%20%20%20%20%20%20%20%20%0A%20%20%20%20%0A%20%20%20%20%20%20%20%20var%20popup_2d04dac5e2aa4e42aa548ef4d4c49b52%20%3D%20L.popup%28%7B%22maxWidth%22%3A%20%22100%25%22%7D%29%3B%0A%0A%20%20%20%20%20%20%20%20%0A%20%20%20%20%20%20%20%20%20%20%20%20var%20html_b8c9debe20e2405bb89c5b64583ae946%20%3D%20%24%28%60%3Cdiv%20id%3D%22html_b8c9debe20e2405bb89c5b64583ae946%22%20style%3D%22width%3A%20100.0%25%3B%20height%3A%20100.0%25%3B%22%3EId%3A%20880%3Cbr%3ELogie%20Green%20Road%3Cbr%3EDescription%3A%20Outside%20Lidl%3Cbr%3E%3Cbr%3ECounts%3A%20140%3C/div%3E%60%29%5B0%5D%3B%0A%20%20%20%20%20%20%20%20%20%20%20%20popup_2d04dac5e2aa4e42aa548ef4d4c49b52.setContent%28html_b8c9debe20e2405bb89c5b64583ae946%29%3B%0A%20%20%20%20%20%20%20%20%0A%0A%20%20%20%20%20%20%20%20marker_643fad7a5b734d01a90c81469dc2cc29.bindPopup%28popup_2d04dac5e2aa4e42aa548ef4d4c49b52%29%0A%20%20%20%20%20%20%20%20%3B%0A%0A%20%20%20%20%20%20%20%20%0A%20%20%20%20%0A%20%20%20%20%0A%20%20%20%20%20%20%20%20%20%20%20%20var%20marker_c60a0bad89494b7197db7fe2a149ca63%20%3D%20L.marker%28%0A%20%20%20%20%20%20%20%20%20%20%20%20%20%20%20%20%5B55.94211968183478%2C%20-3.269279523944419%5D%2C%0A%20%20%20%20%20%20%20%20%20%20%20%20%20%20%20%20%7B%7D%0A%20%20%20%20%20%20%20%20%20%20%20%20%29.addTo%28marker_cluster_67359bb34138463b8bbaf6c2ba135992%29%3B%0A%20%20%20%20%20%20%20%20%0A%20%20%20%20%0A%20%20%20%20%20%20%20%20%20%20%20%20var%20icon_b914010abb5542ff97352d95ee7a1320%20%3D%20L.AwesomeMarkers.icon%28%0A%20%20%20%20%20%20%20%20%20%20%20%20%20%20%20%20%7B%22extraClasses%22%3A%20%22fa-rotate-0%22%2C%20%22icon%22%3A%20%22bicycle%22%2C%20%22iconColor%22%3A%20%22white%22%2C%20%22markerColor%22%3A%20%22red%22%2C%20%22prefic%22%3A%20%22fa%22%2C%20%22prefix%22%3A%20%22glyphicon%22%7D%0A%20%20%20%20%20%20%20%20%20%20%20%20%29%3B%0A%20%20%20%20%20%20%20%20%20%20%20%20marker_c60a0bad89494b7197db7fe2a149ca63.setIcon%28icon_b914010abb5542ff97352d95ee7a1320%29%3B%0A%20%20%20%20%20%20%20%20%0A%20%20%20%20%0A%20%20%20%20%20%20%20%20var%20popup_0d83bfba9d4f43289e253109564d408d%20%3D%20L.popup%28%7B%22maxWidth%22%3A%20%22100%25%22%7D%29%3B%0A%0A%20%20%20%20%20%20%20%20%0A%20%20%20%20%20%20%20%20%20%20%20%20var%20html_936df81f140e42f7a2d1b0318a7d193d%20%3D%20%24%28%60%3Cdiv%20id%3D%22html_936df81f140e42f7a2d1b0318a7d193d%22%20style%3D%22width%3A%20100.0%25%3B%20height%3A%20100.0%25%3B%22%3EId%3A%20874%3Cbr%3EEdinburgh%20Zoo%3Cbr%3EDescription%3A%20Outside%20zoo%20gatehouse%3Cbr%3E%3Cbr%3ECounts%3A%20128%3C/div%3E%60%29%5B0%5D%3B%0A%20%20%20%20%20%20%20%20%20%20%20%20popup_0d83bfba9d4f43289e253109564d408d.setContent%28html_936df81f140e42f7a2d1b0318a7d193d%29%3B%0A%20%20%20%20%20%20%20%20%0A%0A%20%20%20%20%20%20%20%20marker_c60a0bad89494b7197db7fe2a149ca63.bindPopup%28popup_0d83bfba9d4f43289e253109564d408d%29%0A%20%20%20%20%20%20%20%20%3B%0A%0A%20%20%20%20%20%20%20%20%0A%20%20%20%20%0A%20%20%20%20%0A%20%20%20%20%20%20%20%20%20%20%20%20var%20marker_fae0e55ecec3412a834bc0e8b1b5f919%20%3D%20L.marker%28%0A%20%20%20%20%20%20%20%20%20%20%20%20%20%20%20%20%5B55.98110725959637%2C%20-3.39421060796127%5D%2C%0A%20%20%20%20%20%20%20%20%20%20%20%20%20%20%20%20%7B%7D%0A%20%20%20%20%20%20%20%20%20%20%20%20%29.addTo%28marker_cluster_67359bb34138463b8bbaf6c2ba135992%29%3B%0A%20%20%20%20%20%20%20%20%0A%20%20%20%20%0A%20%20%20%20%20%20%20%20%20%20%20%20var%20icon_5e559c59897342ae9d04fa8441bec9de%20%3D%20L.AwesomeMarkers.icon%28%0A%20%20%20%20%20%20%20%20%20%20%20%20%20%20%20%20%7B%22extraClasses%22%3A%20%22fa-rotate-0%22%2C%20%22icon%22%3A%20%22bicycle%22%2C%20%22iconColor%22%3A%20%22white%22%2C%20%22markerColor%22%3A%20%22red%22%2C%20%22prefic%22%3A%20%22fa%22%2C%20%22prefix%22%3A%20%22glyphicon%22%7D%0A%20%20%20%20%20%20%20%20%20%20%20%20%29%3B%0A%20%20%20%20%20%20%20%20%20%20%20%20marker_fae0e55ecec3412a834bc0e8b1b5f919.setIcon%28icon_5e559c59897342ae9d04fa8441bec9de%29%3B%0A%20%20%20%20%20%20%20%20%0A%20%20%20%20%0A%20%20%20%20%20%20%20%20var%20popup_f6ab10d9d6174de09991a6fa6bd358e1%20%3D%20L.popup%28%7B%22maxWidth%22%3A%20%22100%25%22%7D%29%3B%0A%0A%20%20%20%20%20%20%20%20%0A%20%20%20%20%20%20%20%20%20%20%20%20var%20html_38596b669c7b4faba2e04566378746fb%20%3D%20%24%28%60%3Cdiv%20id%3D%22html_38596b669c7b4faba2e04566378746fb%22%20style%3D%22width%3A%20100.0%25%3B%20height%3A%20100.0%25%3B%22%3EId%3A%201871%3Cbr%3EScotstoun%20House%3Cbr%3EDescription%3A%20ARUP%20Edinburgh%3Cbr%3E%3Cbr%3ECounts%3A%20122%3C/div%3E%60%29%5B0%5D%3B%0A%20%20%20%20%20%20%20%20%20%20%20%20popup_f6ab10d9d6174de09991a6fa6bd358e1.setContent%28html_38596b669c7b4faba2e04566378746fb%29%3B%0A%20%20%20%20%20%20%20%20%0A%0A%20%20%20%20%20%20%20%20marker_fae0e55ecec3412a834bc0e8b1b5f919.bindPopup%28popup_f6ab10d9d6174de09991a6fa6bd358e1%29%0A%20%20%20%20%20%20%20%20%3B%0A%0A%20%20%20%20%20%20%20%20%0A%20%20%20%20%0A%20%20%20%20%0A%20%20%20%20%20%20%20%20%20%20%20%20var%20marker_e2c717c988734e4d96f7f566d540bb24%20%3D%20L.marker%28%0A%20%20%20%20%20%20%20%20%20%20%20%20%20%20%20%20%5B55.93632904938287%2C%20-3.202294536676049%5D%2C%0A%20%20%20%20%20%20%20%20%20%20%20%20%20%20%20%20%7B%7D%0A%20%20%20%20%20%20%20%20%20%20%20%20%29.addTo%28marker_cluster_67359bb34138463b8bbaf6c2ba135992%29%3B%0A%20%20%20%20%20%20%20%20%0A%20%20%20%20%0A%20%20%20%20%20%20%20%20%20%20%20%20var%20icon_e201f945d20e4ab2aa524d0f983cdfbd%20%3D%20L.AwesomeMarkers.icon%28%0A%20%20%20%20%20%20%20%20%20%20%20%20%20%20%20%20%7B%22extraClasses%22%3A%20%22fa-rotate-0%22%2C%20%22icon%22%3A%20%22bicycle%22%2C%20%22iconColor%22%3A%20%22white%22%2C%20%22markerColor%22%3A%20%22red%22%2C%20%22prefic%22%3A%20%22fa%22%2C%20%22prefix%22%3A%20%22glyphicon%22%7D%0A%20%20%20%20%20%20%20%20%20%20%20%20%29%3B%0A%20%20%20%20%20%20%20%20%20%20%20%20marker_e2c717c988734e4d96f7f566d540bb24.setIcon%28icon_e201f945d20e4ab2aa524d0f983cdfbd%29%3B%0A%20%20%20%20%20%20%20%20%0A%20%20%20%20%0A%20%20%20%20%20%20%20%20var%20popup_6351152501a04969871b89903190fa14%20%3D%20L.popup%28%7B%22maxWidth%22%3A%20%22100%25%22%7D%29%3B%0A%0A%20%20%20%20%20%20%20%20%0A%20%20%20%20%20%20%20%20%20%20%20%20var%20html_7790f14455cd431db27ec81282316cc6%20%3D%20%24%28%60%3Cdiv%20id%3D%22html_7790f14455cd431db27ec81282316cc6%22%20style%3D%22width%3A%20100.0%25%3B%20height%3A%20100.0%25%3B%22%3EId%3A%20342%3Cbr%3EWhitehouse%20Loan%3Cbr%3EDescription%3A%20Corner%20of%20Whitehouse%20Loan%20%26%20Bruntsfield%20Crescent%3Cbr%3E%3Cbr%3ECounts%3A%20109%3C/div%3E%60%29%5B0%5D%3B%0A%20%20%20%20%20%20%20%20%20%20%20%20popup_6351152501a04969871b89903190fa14.setContent%28html_7790f14455cd431db27ec81282316cc6%29%3B%0A%20%20%20%20%20%20%20%20%0A%0A%20%20%20%20%20%20%20%20marker_e2c717c988734e4d96f7f566d540bb24.bindPopup%28popup_6351152501a04969871b89903190fa14%29%0A%20%20%20%20%20%20%20%20%3B%0A%0A%20%20%20%20%20%20%20%20%0A%20%20%20%20%0A%20%20%20%20%0A%20%20%20%20%20%20%20%20%20%20%20%20var%20marker_a8798b9e63274ed9bb8da81b5a7ceb27%20%3D%20L.marker%28%0A%20%20%20%20%20%20%20%20%20%20%20%20%20%20%20%20%5B55.93893772779211%2C%20-3.251173333050928%5D%2C%0A%20%20%20%20%20%20%20%20%20%20%20%20%20%20%20%20%7B%7D%0A%20%20%20%20%20%20%20%20%20%20%20%20%29.addTo%28marker_cluster_67359bb34138463b8bbaf6c2ba135992%29%3B%0A%20%20%20%20%20%20%20%20%0A%20%20%20%20%0A%20%20%20%20%20%20%20%20%20%20%20%20var%20icon_ff2638519ed24926b18a8554a0e83d65%20%3D%20L.AwesomeMarkers.icon%28%0A%20%20%20%20%20%20%20%20%20%20%20%20%20%20%20%20%7B%22extraClasses%22%3A%20%22fa-rotate-0%22%2C%20%22icon%22%3A%20%22bicycle%22%2C%20%22iconColor%22%3A%20%22white%22%2C%20%22markerColor%22%3A%20%22red%22%2C%20%22prefic%22%3A%20%22fa%22%2C%20%22prefix%22%3A%20%22glyphicon%22%7D%0A%20%20%20%20%20%20%20%20%20%20%20%20%29%3B%0A%20%20%20%20%20%20%20%20%20%20%20%20marker_a8798b9e63274ed9bb8da81b5a7ceb27.setIcon%28icon_ff2638519ed24926b18a8554a0e83d65%29%3B%0A%20%20%20%20%20%20%20%20%0A%20%20%20%20%0A%20%20%20%20%20%20%20%20var%20popup_ae195a1bf6ab44b49820ea2187ab20e3%20%3D%20L.popup%28%7B%22maxWidth%22%3A%20%22100%25%22%7D%29%3B%0A%0A%20%20%20%20%20%20%20%20%0A%20%20%20%20%20%20%20%20%20%20%20%20var%20html_dae1019cbe59418aad9c6580867eaaa9%20%3D%20%24%28%60%3Cdiv%20id%3D%22html_dae1019cbe59418aad9c6580867eaaa9%22%20style%3D%22width%3A%20100.0%25%3B%20height%3A%20100.0%25%3B%22%3EId%3A%20878%3Cbr%3EBalgreen%3Cbr%3EDescription%3A%20Opposite%20Jenners%20Depository%3Cbr%3E%3Cbr%3ECounts%3A%20104%3C/div%3E%60%29%5B0%5D%3B%0A%20%20%20%20%20%20%20%20%20%20%20%20popup_ae195a1bf6ab44b49820ea2187ab20e3.setContent%28html_dae1019cbe59418aad9c6580867eaaa9%29%3B%0A%20%20%20%20%20%20%20%20%0A%0A%20%20%20%20%20%20%20%20marker_a8798b9e63274ed9bb8da81b5a7ceb27.bindPopup%28popup_ae195a1bf6ab44b49820ea2187ab20e3%29%0A%20%20%20%20%20%20%20%20%3B%0A%0A%20%20%20%20%20%20%20%20%0A%20%20%20%20%0A%20%20%20%20%0A%20%20%20%20%20%20%20%20%20%20%20%20var%20marker_b08abb7027ec47309731b660950f8f73%20%3D%20L.marker%28%0A%20%20%20%20%20%20%20%20%20%20%20%20%20%20%20%20%5B55.93193490858167%2C%20-3.073045771766146%5D%2C%0A%20%20%20%20%20%20%20%20%20%20%20%20%20%20%20%20%7B%7D%0A%20%20%20%20%20%20%20%20%20%20%20%20%29.addTo%28marker_cluster_67359bb34138463b8bbaf6c2ba135992%29%3B%0A%20%20%20%20%20%20%20%20%0A%20%20%20%20%0A%20%20%20%20%20%20%20%20%20%20%20%20var%20icon_50740b84f28b4feea33ce7e332f84eb6%20%3D%20L.AwesomeMarkers.icon%28%0A%20%20%20%20%20%20%20%20%20%20%20%20%20%20%20%20%7B%22extraClasses%22%3A%20%22fa-rotate-0%22%2C%20%22icon%22%3A%20%22bicycle%22%2C%20%22iconColor%22%3A%20%22white%22%2C%20%22markerColor%22%3A%20%22red%22%2C%20%22prefic%22%3A%20%22fa%22%2C%20%22prefix%22%3A%20%22glyphicon%22%7D%0A%20%20%20%20%20%20%20%20%20%20%20%20%29%3B%0A%20%20%20%20%20%20%20%20%20%20%20%20marker_b08abb7027ec47309731b660950f8f73.setIcon%28icon_50740b84f28b4feea33ce7e332f84eb6%29%3B%0A%20%20%20%20%20%20%20%20%0A%20%20%20%20%0A%20%20%20%20%20%20%20%20var%20popup_724468b5a3b542ecb50b0659bbd1a555%20%3D%20L.popup%28%7B%22maxWidth%22%3A%20%22100%25%22%7D%29%3B%0A%0A%20%20%20%20%20%20%20%20%0A%20%20%20%20%20%20%20%20%20%20%20%20var%20html_4698e7a38f20420b95dec65c629aee6c%20%3D%20%24%28%60%3Cdiv%20id%3D%22html_4698e7a38f20420b95dec65c629aee6c%22%20style%3D%22width%3A%20100.0%25%3B%20height%3A%20100.0%25%3B%22%3EId%3A%201033%3Cbr%3EQueen%20Margaret%20University%3Cbr%3EDescription%3A%20Opposite%20Maggies%20student%20union%3Cbr%3E%3Cbr%3ECounts%3A%2098%3C/div%3E%60%29%5B0%5D%3B%0A%20%20%20%20%20%20%20%20%20%20%20%20popup_724468b5a3b542ecb50b0659bbd1a555.setContent%28html_4698e7a38f20420b95dec65c629aee6c%29%3B%0A%20%20%20%20%20%20%20%20%0A%0A%20%20%20%20%20%20%20%20marker_b08abb7027ec47309731b660950f8f73.bindPopup%28popup_724468b5a3b542ecb50b0659bbd1a555%29%0A%20%20%20%20%20%20%20%20%3B%0A%0A%20%20%20%20%20%20%20%20%0A%20%20%20%20%0A%20%20%20%20%0A%20%20%20%20%20%20%20%20%20%20%20%20var%20marker_e1b41aa8f1704f96b09fa74608e245af%20%3D%20L.marker%28%0A%20%20%20%20%20%20%20%20%20%20%20%20%20%20%20%20%5B55.96026010209808%2C%20-3.203912595837096%5D%2C%0A%20%20%20%20%20%20%20%20%20%20%20%20%20%20%20%20%7B%7D%0A%20%20%20%20%20%20%20%20%20%20%20%20%29.addTo%28marker_cluster_67359bb34138463b8bbaf6c2ba135992%29%3B%0A%20%20%20%20%20%20%20%20%0A%20%20%20%20%0A%20%20%20%20%20%20%20%20%20%20%20%20var%20icon_0f12ccfdfd264bc7be28efffcc34f1fd%20%3D%20L.AwesomeMarkers.icon%28%0A%20%20%20%20%20%20%20%20%20%20%20%20%20%20%20%20%7B%22extraClasses%22%3A%20%22fa-rotate-0%22%2C%20%22icon%22%3A%20%22bicycle%22%2C%20%22iconColor%22%3A%20%22white%22%2C%20%22markerColor%22%3A%20%22red%22%2C%20%22prefic%22%3A%20%22fa%22%2C%20%22prefix%22%3A%20%22glyphicon%22%7D%0A%20%20%20%20%20%20%20%20%20%20%20%20%29%3B%0A%20%20%20%20%20%20%20%20%20%20%20%20marker_e1b41aa8f1704f96b09fa74608e245af.setIcon%28icon_0f12ccfdfd264bc7be28efffcc34f1fd%29%3B%0A%20%20%20%20%20%20%20%20%0A%20%20%20%20%0A%20%20%20%20%20%20%20%20var%20popup_4e6d5fb37286435ba98182d30b458553%20%3D%20L.popup%28%7B%22maxWidth%22%3A%20%22100%25%22%7D%29%3B%0A%0A%20%20%20%20%20%20%20%20%0A%20%20%20%20%20%20%20%20%20%20%20%20var%20html_c31295b1ed954b438e57b421ae2597e9%20%3D%20%24%28%60%3Cdiv%20id%3D%22html_c31295b1ed954b438e57b421ae2597e9%22%20style%3D%22width%3A%20100.0%25%3B%20height%3A%20100.0%25%3B%22%3EId%3A%20867%3Cbr%3EHenderson%20Row%3Cbr%3EDescription%3A%20Next%20to%20the%20Edinburgh%20Academy%3Cbr%3E%3Cbr%3ECounts%3A%2095%3C/div%3E%60%29%5B0%5D%3B%0A%20%20%20%20%20%20%20%20%20%20%20%20popup_4e6d5fb37286435ba98182d30b458553.setContent%28html_c31295b1ed954b438e57b421ae2597e9%29%3B%0A%20%20%20%20%20%20%20%20%0A%0A%20%20%20%20%20%20%20%20marker_e1b41aa8f1704f96b09fa74608e245af.bindPopup%28popup_4e6d5fb37286435ba98182d30b458553%29%0A%20%20%20%20%20%20%20%20%3B%0A%0A%20%20%20%20%20%20%20%20%0A%20%20%20%20%0A%20%20%20%20%0A%20%20%20%20%20%20%20%20%20%20%20%20var%20marker_bdcbf31172364dfabe0a421ed66c7708%20%3D%20L.marker%28%0A%20%20%20%20%20%20%20%20%20%20%20%20%20%20%20%20%5B55.94969158307013%2C%20-3.18781281937504%5D%2C%0A%20%20%20%20%20%20%20%20%20%20%20%20%20%20%20%20%7B%7D%0A%20%20%20%20%20%20%20%20%20%20%20%20%29.addTo%28marker_cluster_67359bb34138463b8bbaf6c2ba135992%29%3B%0A%20%20%20%20%20%20%20%20%0A%20%20%20%20%0A%20%20%20%20%20%20%20%20%20%20%20%20var%20icon_6907cd7ce56e4f30968740eeaaa923d6%20%3D%20L.AwesomeMarkers.icon%28%0A%20%20%20%20%20%20%20%20%20%20%20%20%20%20%20%20%7B%22extraClasses%22%3A%20%22fa-rotate-0%22%2C%20%22icon%22%3A%20%22bicycle%22%2C%20%22iconColor%22%3A%20%22white%22%2C%20%22markerColor%22%3A%20%22red%22%2C%20%22prefic%22%3A%20%22fa%22%2C%20%22prefix%22%3A%20%22glyphicon%22%7D%0A%20%20%20%20%20%20%20%20%20%20%20%20%29%3B%0A%20%20%20%20%20%20%20%20%20%20%20%20marker_bdcbf31172364dfabe0a421ed66c7708.setIcon%28icon_6907cd7ce56e4f30968740eeaaa923d6%29%3B%0A%20%20%20%20%20%20%20%20%0A%20%20%20%20%0A%20%20%20%20%20%20%20%20var%20popup_3300b10cb7d54253a609c6e514720458%20%3D%20L.popup%28%7B%22maxWidth%22%3A%20%22100%25%22%7D%29%3B%0A%0A%20%20%20%20%20%20%20%20%0A%20%20%20%20%20%20%20%20%20%20%20%20var%20html_57b6bcf778f44cc28b48f71e89e6804f%20%3D%20%24%28%60%3Cdiv%20id%3D%22html_57b6bcf778f44cc28b48f71e89e6804f%22%20style%3D%22width%3A%20100.0%25%3B%20height%3A%20100.0%25%3B%22%3EId%3A%201018%3Cbr%3EHunter%20Square%3Cbr%3EDescription%3A%20Next%20to%20Tron%20Kirk%20at%20top%20of%20Blair%20Street%3Cbr%3E%3Cbr%3ECounts%3A%2089%3C/div%3E%60%29%5B0%5D%3B%0A%20%20%20%20%20%20%20%20%20%20%20%20popup_3300b10cb7d54253a609c6e514720458.setContent%28html_57b6bcf778f44cc28b48f71e89e6804f%29%3B%0A%20%20%20%20%20%20%20%20%0A%0A%20%20%20%20%20%20%20%20marker_bdcbf31172364dfabe0a421ed66c7708.bindPopup%28popup_3300b10cb7d54253a609c6e514720458%29%0A%20%20%20%20%20%20%20%20%3B%0A%0A%20%20%20%20%20%20%20%20%0A%20%20%20%20%0A%20%20%20%20%0A%20%20%20%20%20%20%20%20%20%20%20%20var%20marker_1100f7fa6ccb49509c9fe072d16986e4%20%3D%20L.marker%28%0A%20%20%20%20%20%20%20%20%20%20%20%20%20%20%20%20%5B55.96152699979099%2C%20-3.306114175491529%5D%2C%0A%20%20%20%20%20%20%20%20%20%20%20%20%20%20%20%20%7B%7D%0A%20%20%20%20%20%20%20%20%20%20%20%20%29.addTo%28marker_cluster_67359bb34138463b8bbaf6c2ba135992%29%3B%0A%20%20%20%20%20%20%20%20%0A%20%20%20%20%0A%20%20%20%20%20%20%20%20%20%20%20%20var%20icon_e3cf145a77424cc8afba8556bc49349b%20%3D%20L.AwesomeMarkers.icon%28%0A%20%20%20%20%20%20%20%20%20%20%20%20%20%20%20%20%7B%22extraClasses%22%3A%20%22fa-rotate-0%22%2C%20%22icon%22%3A%20%22bicycle%22%2C%20%22iconColor%22%3A%20%22white%22%2C%20%22markerColor%22%3A%20%22red%22%2C%20%22prefic%22%3A%20%22fa%22%2C%20%22prefix%22%3A%20%22glyphicon%22%7D%0A%20%20%20%20%20%20%20%20%20%20%20%20%29%3B%0A%20%20%20%20%20%20%20%20%20%20%20%20marker_1100f7fa6ccb49509c9fe072d16986e4.setIcon%28icon_e3cf145a77424cc8afba8556bc49349b%29%3B%0A%20%20%20%20%20%20%20%20%0A%20%20%20%20%0A%20%20%20%20%20%20%20%20var%20popup_32e63a82f2734b97a43ee6a5457360d1%20%3D%20L.popup%28%7B%22maxWidth%22%3A%20%22100%25%22%7D%29%3B%0A%0A%20%20%20%20%20%20%20%20%0A%20%20%20%20%20%20%20%20%20%20%20%20var%20html_5b434d89de7547a8ad862f64b2a77d94%20%3D%20%24%28%60%3Cdiv%20id%3D%22html_5b434d89de7547a8ad862f64b2a77d94%22%20style%3D%22width%3A%20100.0%25%3B%20height%3A%20100.0%25%3B%22%3EId%3A%20864%3Cbr%3EWhitehouse%20Road%3Cbr%3EDescription%3A%20Whitehouse%20road%20by%20Sainbury%27s%20%26%20bus%20stop%3Cbr%3E%3Cbr%3ECounts%3A%2088%3C/div%3E%60%29%5B0%5D%3B%0A%20%20%20%20%20%20%20%20%20%20%20%20popup_32e63a82f2734b97a43ee6a5457360d1.setContent%28html_5b434d89de7547a8ad862f64b2a77d94%29%3B%0A%20%20%20%20%20%20%20%20%0A%0A%20%20%20%20%20%20%20%20marker_1100f7fa6ccb49509c9fe072d16986e4.bindPopup%28popup_32e63a82f2734b97a43ee6a5457360d1%29%0A%20%20%20%20%20%20%20%20%3B%0A%0A%20%20%20%20%20%20%20%20%0A%20%20%20%20%0A%20%20%20%20%0A%20%20%20%20%20%20%20%20%20%20%20%20var%20marker_fd5600fd567f406b8b900255cb1a9e9c%20%3D%20L.marker%28%0A%20%20%20%20%20%20%20%20%20%20%20%20%20%20%20%20%5B55.94294485385191%2C%20-3.290794069257344%5D%2C%0A%20%20%20%20%20%20%20%20%20%20%20%20%20%20%20%20%7B%7D%0A%20%20%20%20%20%20%20%20%20%20%20%20%29.addTo%28marker_cluster_67359bb34138463b8bbaf6c2ba135992%29%3B%0A%20%20%20%20%20%20%20%20%0A%20%20%20%20%0A%20%20%20%20%20%20%20%20%20%20%20%20var%20icon_db39805cad3346119efbb6383f129188%20%3D%20L.AwesomeMarkers.icon%28%0A%20%20%20%20%20%20%20%20%20%20%20%20%20%20%20%20%7B%22extraClasses%22%3A%20%22fa-rotate-0%22%2C%20%22icon%22%3A%20%22bicycle%22%2C%20%22iconColor%22%3A%20%22white%22%2C%20%22markerColor%22%3A%20%22red%22%2C%20%22prefic%22%3A%20%22fa%22%2C%20%22prefix%22%3A%20%22glyphicon%22%7D%0A%20%20%20%20%20%20%20%20%20%20%20%20%29%3B%0A%20%20%20%20%20%20%20%20%20%20%20%20marker_fd5600fd567f406b8b900255cb1a9e9c.setIcon%28icon_db39805cad3346119efbb6383f129188%29%3B%0A%20%20%20%20%20%20%20%20%0A%20%20%20%20%0A%20%20%20%20%20%20%20%20var%20popup_ba6792cd40f14fd7a1102c058f7e6b06%20%3D%20L.popup%28%7B%22maxWidth%22%3A%20%22100%25%22%7D%29%3B%0A%0A%20%20%20%20%20%20%20%20%0A%20%20%20%20%20%20%20%20%20%20%20%20var%20html_0c032c1cec204c99887b1169d4c9294d%20%3D%20%24%28%60%3Cdiv%20id%3D%22html_0c032c1cec204c99887b1169d4c9294d%22%20style%3D%22width%3A%20100.0%25%3B%20height%3A%20100.0%25%3B%22%3EId%3A%20872%3Cbr%3ESt.%20John%27s%20Road%202%3Cbr%3EDescription%3A%20Outside%20GuitarGuitar%3Cbr%3E%3Cbr%3ECounts%3A%2067%3C/div%3E%60%29%5B0%5D%3B%0A%20%20%20%20%20%20%20%20%20%20%20%20popup_ba6792cd40f14fd7a1102c058f7e6b06.setContent%28html_0c032c1cec204c99887b1169d4c9294d%29%3B%0A%20%20%20%20%20%20%20%20%0A%0A%20%20%20%20%20%20%20%20marker_fd5600fd567f406b8b900255cb1a9e9c.bindPopup%28popup_ba6792cd40f14fd7a1102c058f7e6b06%29%0A%20%20%20%20%20%20%20%20%3B%0A%0A%20%20%20%20%20%20%20%20%0A%20%20%20%20%0A%20%20%20%20%0A%20%20%20%20%20%20%20%20%20%20%20%20var%20marker_ddb35965cb1245f393ff3cc76f1a9fcc%20%3D%20L.marker%28%0A%20%20%20%20%20%20%20%20%20%20%20%20%20%20%20%20%5B55.94274592050117%2C%20-3.281623013233002%5D%2C%0A%20%20%20%20%20%20%20%20%20%20%20%20%20%20%20%20%7B%7D%0A%20%20%20%20%20%20%20%20%20%20%20%20%29.addTo%28marker_cluster_67359bb34138463b8bbaf6c2ba135992%29%3B%0A%20%20%20%20%20%20%20%20%0A%20%20%20%20%0A%20%20%20%20%20%20%20%20%20%20%20%20var%20icon_0548738e337642a78ac81f00abed4c9d%20%3D%20L.AwesomeMarkers.icon%28%0A%20%20%20%20%20%20%20%20%20%20%20%20%20%20%20%20%7B%22extraClasses%22%3A%20%22fa-rotate-0%22%2C%20%22icon%22%3A%20%22bicycle%22%2C%20%22iconColor%22%3A%20%22white%22%2C%20%22markerColor%22%3A%20%22red%22%2C%20%22prefic%22%3A%20%22fa%22%2C%20%22prefix%22%3A%20%22glyphicon%22%7D%0A%20%20%20%20%20%20%20%20%20%20%20%20%29%3B%0A%20%20%20%20%20%20%20%20%20%20%20%20marker_ddb35965cb1245f393ff3cc76f1a9fcc.setIcon%28icon_0548738e337642a78ac81f00abed4c9d%29%3B%0A%20%20%20%20%20%20%20%20%0A%20%20%20%20%0A%20%20%20%20%20%20%20%20var%20popup_2e00a1a360984c35a1fd1e0c617d0a59%20%3D%20L.popup%28%7B%22maxWidth%22%3A%20%22100%25%22%7D%29%3B%0A%0A%20%20%20%20%20%20%20%20%0A%20%20%20%20%20%20%20%20%20%20%20%20var%20html_07e365e838d942a691c0cb658938d23a%20%3D%20%24%28%60%3Cdiv%20id%3D%22html_07e365e838d942a691c0cb658938d23a%22%20style%3D%22width%3A%20100.0%25%3B%20height%3A%20100.0%25%3B%22%3EId%3A%20871%3Cbr%3ESt.%20John%27s%20Road%201%3Cbr%3EDescription%3A%20Outside%20Specsavers%3Cbr%3E%3Cbr%3ECounts%3A%2064%3C/div%3E%60%29%5B0%5D%3B%0A%20%20%20%20%20%20%20%20%20%20%20%20popup_2e00a1a360984c35a1fd1e0c617d0a59.setContent%28html_07e365e838d942a691c0cb658938d23a%29%3B%0A%20%20%20%20%20%20%20%20%0A%0A%20%20%20%20%20%20%20%20marker_ddb35965cb1245f393ff3cc76f1a9fcc.bindPopup%28popup_2e00a1a360984c35a1fd1e0c617d0a59%29%0A%20%20%20%20%20%20%20%20%3B%0A%0A%20%20%20%20%20%20%20%20%0A%20%20%20%20%0A%20%20%20%20%0A%20%20%20%20%20%20%20%20%20%20%20%20var%20marker_bab4e3b6403f4b7a9d7ef91e4807ca3d%20%3D%20L.marker%28%0A%20%20%20%20%20%20%20%20%20%20%20%20%20%20%20%20%5B55.90878560997055%2C%20-3.320170069082337%5D%2C%0A%20%20%20%20%20%20%20%20%20%20%20%20%20%20%20%20%7B%7D%0A%20%20%20%20%20%20%20%20%20%20%20%20%29.addTo%28marker_cluster_67359bb34138463b8bbaf6c2ba135992%29%3B%0A%20%20%20%20%20%20%20%20%0A%20%20%20%20%0A%20%20%20%20%20%20%20%20%20%20%20%20var%20icon_ad1c9435ff8942ea90d9b256794643f9%20%3D%20L.AwesomeMarkers.icon%28%0A%20%20%20%20%20%20%20%20%20%20%20%20%20%20%20%20%7B%22extraClasses%22%3A%20%22fa-rotate-0%22%2C%20%22icon%22%3A%20%22bicycle%22%2C%20%22iconColor%22%3A%20%22white%22%2C%20%22markerColor%22%3A%20%22red%22%2C%20%22prefic%22%3A%20%22fa%22%2C%20%22prefix%22%3A%20%22glyphicon%22%7D%0A%20%20%20%20%20%20%20%20%20%20%20%20%29%3B%0A%20%20%20%20%20%20%20%20%20%20%20%20marker_bab4e3b6403f4b7a9d7ef91e4807ca3d.setIcon%28icon_ad1c9435ff8942ea90d9b256794643f9%29%3B%0A%20%20%20%20%20%20%20%20%0A%20%20%20%20%0A%20%20%20%20%20%20%20%20var%20popup_011425af6811426fa9a41e82c23bde2f%20%3D%20L.popup%28%7B%22maxWidth%22%3A%20%22100%25%22%7D%29%3B%0A%0A%20%20%20%20%20%20%20%20%0A%20%20%20%20%20%20%20%20%20%20%20%20var%20html_5e7f72b1a7484fca946f0658c0d091b7%20%3D%20%24%28%60%3Cdiv%20id%3D%22html_5e7f72b1a7484fca946f0658c0d091b7%22%20style%3D%22width%3A%20100.0%25%3B%20height%3A%20100.0%25%3B%22%3EId%3A%201723%3Cbr%3EHeriot%20Watt%20-%20Edinburgh%20Business%20School%3Cbr%3EDescription%3A%20Heriot%20Watt%20-%20Edinburgh%20Business%20School%3Cbr%3E%3Cbr%3ECounts%3A%2058%3C/div%3E%60%29%5B0%5D%3B%0A%20%20%20%20%20%20%20%20%20%20%20%20popup_011425af6811426fa9a41e82c23bde2f.setContent%28html_5e7f72b1a7484fca946f0658c0d091b7%29%3B%0A%20%20%20%20%20%20%20%20%0A%0A%20%20%20%20%20%20%20%20marker_bab4e3b6403f4b7a9d7ef91e4807ca3d.bindPopup%28popup_011425af6811426fa9a41e82c23bde2f%29%0A%20%20%20%20%20%20%20%20%3B%0A%0A%20%20%20%20%20%20%20%20%0A%20%20%20%20%0A%20%20%20%20%0A%20%20%20%20%20%20%20%20%20%20%20%20var%20marker_8dcd76a272e341aebcec4a65883acdd7%20%3D%20L.marker%28%0A%20%20%20%20%20%20%20%20%20%20%20%20%20%20%20%20%5B55.96953169937321%2C%20-3.307305425252252%5D%2C%0A%20%20%20%20%20%20%20%20%20%20%20%20%20%20%20%20%7B%7D%0A%20%20%20%20%20%20%20%20%20%20%20%20%29.addTo%28marker_cluster_67359bb34138463b8bbaf6c2ba135992%29%3B%0A%20%20%20%20%20%20%20%20%0A%20%20%20%20%0A%20%20%20%20%20%20%20%20%20%20%20%20var%20icon_e8176d35fd7648dd9a0cf0657a78614f%20%3D%20L.AwesomeMarkers.icon%28%0A%20%20%20%20%20%20%20%20%20%20%20%20%20%20%20%20%7B%22extraClasses%22%3A%20%22fa-rotate-0%22%2C%20%22icon%22%3A%20%22bicycle%22%2C%20%22iconColor%22%3A%20%22white%22%2C%20%22markerColor%22%3A%20%22red%22%2C%20%22prefic%22%3A%20%22fa%22%2C%20%22prefix%22%3A%20%22glyphicon%22%7D%0A%20%20%20%20%20%20%20%20%20%20%20%20%29%3B%0A%20%20%20%20%20%20%20%20%20%20%20%20marker_8dcd76a272e341aebcec4a65883acdd7.setIcon%28icon_e8176d35fd7648dd9a0cf0657a78614f%29%3B%0A%20%20%20%20%20%20%20%20%0A%20%20%20%20%0A%20%20%20%20%20%20%20%20var%20popup_488bbe48098341a28c6cc9b518ba8393%20%3D%20L.popup%28%7B%22maxWidth%22%3A%20%22100%25%22%7D%29%3B%0A%0A%20%20%20%20%20%20%20%20%0A%20%20%20%20%20%20%20%20%20%20%20%20var%20html_bb836156bcc04200b253e3c49e3117f9%20%3D%20%24%28%60%3Cdiv%20id%3D%22html_bb836156bcc04200b253e3c49e3117f9%22%20style%3D%22width%3A%20100.0%25%3B%20height%3A%20100.0%25%3B%22%3EId%3A%20863%3Cbr%3EGamekeeper%27s%20Road%3Cbr%3EDescription%3A%20Corner%20of%20Gamekeeper%27s%20Road%20%26%20Whitehouse%20Road%3Cbr%3E%3Cbr%3ECounts%3A%2056%3C/div%3E%60%29%5B0%5D%3B%0A%20%20%20%20%20%20%20%20%20%20%20%20popup_488bbe48098341a28c6cc9b518ba8393.setContent%28html_bb836156bcc04200b253e3c49e3117f9%29%3B%0A%20%20%20%20%20%20%20%20%0A%0A%20%20%20%20%20%20%20%20marker_8dcd76a272e341aebcec4a65883acdd7.bindPopup%28popup_488bbe48098341a28c6cc9b518ba8393%29%0A%20%20%20%20%20%20%20%20%3B%0A%0A%20%20%20%20%20%20%20%20%0A%20%20%20%20%0A%20%20%20%20%0A%20%20%20%20%20%20%20%20%20%20%20%20var%20marker_d0ded3a1930c46beab2f422acd1e04ee%20%3D%20L.marker%28%0A%20%20%20%20%20%20%20%20%20%20%20%20%20%20%20%20%5B55.95454278693572%2C%20-3.23472817617926%5D%2C%0A%20%20%20%20%20%20%20%20%20%20%20%20%20%20%20%20%7B%7D%0A%20%20%20%20%20%20%20%20%20%20%20%20%29.addTo%28marker_cluster_67359bb34138463b8bbaf6c2ba135992%29%3B%0A%20%20%20%20%20%20%20%20%0A%20%20%20%20%0A%20%20%20%20%20%20%20%20%20%20%20%20var%20icon_98114195837341a295a5b433bdd57668%20%3D%20L.AwesomeMarkers.icon%28%0A%20%20%20%20%20%20%20%20%20%20%20%20%20%20%20%20%7B%22extraClasses%22%3A%20%22fa-rotate-0%22%2C%20%22icon%22%3A%20%22bicycle%22%2C%20%22iconColor%22%3A%20%22white%22%2C%20%22markerColor%22%3A%20%22red%22%2C%20%22prefic%22%3A%20%22fa%22%2C%20%22prefix%22%3A%20%22glyphicon%22%7D%0A%20%20%20%20%20%20%20%20%20%20%20%20%29%3B%0A%20%20%20%20%20%20%20%20%20%20%20%20marker_d0ded3a1930c46beab2f422acd1e04ee.setIcon%28icon_98114195837341a295a5b433bdd57668%29%3B%0A%20%20%20%20%20%20%20%20%0A%20%20%20%20%0A%20%20%20%20%20%20%20%20var%20popup_ca4fd4b4065e43cbbbb2845684fbc462%20%3D%20L.popup%28%7B%22maxWidth%22%3A%20%22100%25%22%7D%29%3B%0A%0A%20%20%20%20%20%20%20%20%0A%20%20%20%20%20%20%20%20%20%20%20%20var%20html_49b3383c713f47f7a4c09fef020cde34%20%3D%20%24%28%60%3Cdiv%20id%3D%22html_49b3383c713f47f7a4c09fef020cde34%22%20style%3D%22width%3A%20100.0%25%3B%20height%3A%20100.0%25%3B%22%3EId%3A%20883%3Cbr%3EQueensferry%20Road%3Cbr%3EDescription%3A%20Corner%20of%20Queensferry%20Road%20%26%20Orchard%20Road%3Cbr%3E%3Cbr%3ECounts%3A%2051%3C/div%3E%60%29%5B0%5D%3B%0A%20%20%20%20%20%20%20%20%20%20%20%20popup_ca4fd4b4065e43cbbbb2845684fbc462.setContent%28html_49b3383c713f47f7a4c09fef020cde34%29%3B%0A%20%20%20%20%20%20%20%20%0A%0A%20%20%20%20%20%20%20%20marker_d0ded3a1930c46beab2f422acd1e04ee.bindPopup%28popup_ca4fd4b4065e43cbbbb2845684fbc462%29%0A%20%20%20%20%20%20%20%20%3B%0A%0A%20%20%20%20%20%20%20%20%0A%20%20%20%20%0A%20%20%20%20%0A%20%20%20%20%20%20%20%20%20%20%20%20var%20marker_5dca671c2eb9404f849b210c2ca2c4a2%20%3D%20L.marker%28%0A%20%20%20%20%20%20%20%20%20%20%20%20%20%20%20%20%5B55.93997775814967%2C%20-3.189862157672223%5D%2C%0A%20%20%20%20%20%20%20%20%20%20%20%20%20%20%20%20%7B%7D%0A%20%20%20%20%20%20%20%20%20%20%20%20%29.addTo%28marker_cluster_67359bb34138463b8bbaf6c2ba135992%29%3B%0A%20%20%20%20%20%20%20%20%0A%20%20%20%20%0A%20%20%20%20%20%20%20%20%20%20%20%20var%20icon_3a17b68f225b473098643c15717b1de3%20%3D%20L.AwesomeMarkers.icon%28%0A%20%20%20%20%20%20%20%20%20%20%20%20%20%20%20%20%7B%22extraClasses%22%3A%20%22fa-rotate-0%22%2C%20%22icon%22%3A%20%22bicycle%22%2C%20%22iconColor%22%3A%20%22white%22%2C%20%22markerColor%22%3A%20%22red%22%2C%20%22prefic%22%3A%20%22fa%22%2C%20%22prefix%22%3A%20%22glyphicon%22%7D%0A%20%20%20%20%20%20%20%20%20%20%20%20%29%3B%0A%20%20%20%20%20%20%20%20%20%20%20%20marker_5dca671c2eb9404f849b210c2ca2c4a2.setIcon%28icon_3a17b68f225b473098643c15717b1de3%29%3B%0A%20%20%20%20%20%20%20%20%0A%20%20%20%20%0A%20%20%20%20%20%20%20%20var%20popup_ea1dc56f6e3e4e839192f620ce860567%20%3D%20L.popup%28%7B%22maxWidth%22%3A%20%22100%25%22%7D%29%3B%0A%0A%20%20%20%20%20%20%20%20%0A%20%20%20%20%20%20%20%20%20%20%20%20var%20html_93772b05ce81482bb467590e1e2a4e1f%20%3D%20%24%28%60%3Cdiv%20id%3D%22html_93772b05ce81482bb467590e1e2a4e1f%22%20style%3D%22width%3A%20100.0%25%3B%20height%3A%20100.0%25%3B%22%3EId%3A%201094%3Cbr%3EHSBC%20UK%20Lets%20Ride%20-%20Meadows%20Event%3Cbr%3EDescription%3A%2020%20point%20virtual%20docking%20station%20for%20UK%20lets%20Ride%20Event%3Cbr%3E%3Cbr%3ECounts%3A%2050%3C/div%3E%60%29%5B0%5D%3B%0A%20%20%20%20%20%20%20%20%20%20%20%20popup_ea1dc56f6e3e4e839192f620ce860567.setContent%28html_93772b05ce81482bb467590e1e2a4e1f%29%3B%0A%20%20%20%20%20%20%20%20%0A%0A%20%20%20%20%20%20%20%20marker_5dca671c2eb9404f849b210c2ca2c4a2.bindPopup%28popup_ea1dc56f6e3e4e839192f620ce860567%29%0A%20%20%20%20%20%20%20%20%3B%0A%0A%20%20%20%20%20%20%20%20%0A%20%20%20%20%0A%20%20%20%20%0A%20%20%20%20%20%20%20%20%20%20%20%20var%20marker_3d9f1de3633742e3a2819b6060b6e83f%20%3D%20L.marker%28%0A%20%20%20%20%20%20%20%20%20%20%20%20%20%20%20%20%5B55.94255133939095%2C%20-3.191380756192416%5D%2C%0A%20%20%20%20%20%20%20%20%20%20%20%20%20%20%20%20%7B%7D%0A%20%20%20%20%20%20%20%20%20%20%20%20%29.addTo%28marker_cluster_67359bb34138463b8bbaf6c2ba135992%29%3B%0A%20%20%20%20%20%20%20%20%0A%20%20%20%20%0A%20%20%20%20%20%20%20%20%20%20%20%20var%20icon_fcfcd2fe00ed4fc99d051fcc3cfcf9d1%20%3D%20L.AwesomeMarkers.icon%28%0A%20%20%20%20%20%20%20%20%20%20%20%20%20%20%20%20%7B%22extraClasses%22%3A%20%22fa-rotate-0%22%2C%20%22icon%22%3A%20%22bicycle%22%2C%20%22iconColor%22%3A%20%22white%22%2C%20%22markerColor%22%3A%20%22red%22%2C%20%22prefic%22%3A%20%22fa%22%2C%20%22prefix%22%3A%20%22glyphicon%22%7D%0A%20%20%20%20%20%20%20%20%20%20%20%20%29%3B%0A%20%20%20%20%20%20%20%20%20%20%20%20marker_3d9f1de3633742e3a2819b6060b6e83f.setIcon%28icon_fcfcd2fe00ed4fc99d051fcc3cfcf9d1%29%3B%0A%20%20%20%20%20%20%20%20%0A%20%20%20%20%0A%20%20%20%20%20%20%20%20var%20popup_c896d570d4774a6ba492cc873609e0d7%20%3D%20L.popup%28%7B%22maxWidth%22%3A%20%22100%25%22%7D%29%3B%0A%0A%20%20%20%20%20%20%20%20%0A%20%20%20%20%20%20%20%20%20%20%20%20var%20html_7b7cc8c9ea584e26a2aa5386c6ece1f8%20%3D%20%24%28%60%3Cdiv%20id%3D%22html_7b7cc8c9ea584e26a2aa5386c6ece1f8%22%20style%3D%22width%3A%20100.0%25%3B%20height%3A%20100.0%25%3B%22%3EId%3A%20267%3Cbr%3ELaunch%20Day%20Event%3Cbr%3EDescription%3A%20The%20Meadows%3Cbr%3E%3Cbr%3ECounts%3A%2049%3C/div%3E%60%29%5B0%5D%3B%0A%20%20%20%20%20%20%20%20%20%20%20%20popup_c896d570d4774a6ba492cc873609e0d7.setContent%28html_7b7cc8c9ea584e26a2aa5386c6ece1f8%29%3B%0A%20%20%20%20%20%20%20%20%0A%0A%20%20%20%20%20%20%20%20marker_3d9f1de3633742e3a2819b6060b6e83f.bindPopup%28popup_c896d570d4774a6ba492cc873609e0d7%29%0A%20%20%20%20%20%20%20%20%3B%0A%0A%20%20%20%20%20%20%20%20%0A%20%20%20%20%0A%20%20%20%20%0A%20%20%20%20%20%20%20%20%20%20%20%20var%20marker_ed55c3b3e6644c1ea831c79712c55fba%20%3D%20L.marker%28%0A%20%20%20%20%20%20%20%20%20%20%20%20%20%20%20%20%5B55.94049262199568%2C%20-3.217144191708712%5D%2C%0A%20%20%20%20%20%20%20%20%20%20%20%20%20%20%20%20%7B%7D%0A%20%20%20%20%20%20%20%20%20%20%20%20%29.addTo%28marker_cluster_67359bb34138463b8bbaf6c2ba135992%29%3B%0A%20%20%20%20%20%20%20%20%0A%20%20%20%20%0A%20%20%20%20%20%20%20%20%20%20%20%20var%20icon_2ecb0cb49ca2445db6b706c3507baa1e%20%3D%20L.AwesomeMarkers.icon%28%0A%20%20%20%20%20%20%20%20%20%20%20%20%20%20%20%20%7B%22extraClasses%22%3A%20%22fa-rotate-0%22%2C%20%22icon%22%3A%20%22bicycle%22%2C%20%22iconColor%22%3A%20%22white%22%2C%20%22markerColor%22%3A%20%22red%22%2C%20%22prefic%22%3A%20%22fa%22%2C%20%22prefix%22%3A%20%22glyphicon%22%7D%0A%20%20%20%20%20%20%20%20%20%20%20%20%29%3B%0A%20%20%20%20%20%20%20%20%20%20%20%20marker_ed55c3b3e6644c1ea831c79712c55fba.setIcon%28icon_2ecb0cb49ca2445db6b706c3507baa1e%29%3B%0A%20%20%20%20%20%20%20%20%0A%20%20%20%20%0A%20%20%20%20%20%20%20%20var%20popup_33304837969f4e1b8c3162960f62c03d%20%3D%20L.popup%28%7B%22maxWidth%22%3A%20%22100%25%22%7D%29%3B%0A%0A%20%20%20%20%20%20%20%20%0A%20%20%20%20%20%20%20%20%20%20%20%20var%20html_f47bcae68d9a4426bd6d7315120d5afc%20%3D%20%24%28%60%3Cdiv%20id%3D%22html_f47bcae68d9a4426bd6d7315120d5afc%22%20style%3D%22width%3A%20100.0%25%3B%20height%3A%20100.0%25%3B%22%3EId%3A%20353%3Cbr%3EGibson%20Terrace%3Cbr%3EDescription%3A%20Outside%20student%20accomodation%3Cbr%3E%3Cbr%3ECounts%3A%2044%3C/div%3E%60%29%5B0%5D%3B%0A%20%20%20%20%20%20%20%20%20%20%20%20popup_33304837969f4e1b8c3162960f62c03d.setContent%28html_f47bcae68d9a4426bd6d7315120d5afc%29%3B%0A%20%20%20%20%20%20%20%20%0A%0A%20%20%20%20%20%20%20%20marker_ed55c3b3e6644c1ea831c79712c55fba.bindPopup%28popup_33304837969f4e1b8c3162960f62c03d%29%0A%20%20%20%20%20%20%20%20%3B%0A%0A%20%20%20%20%20%20%20%20%0A%20%20%20%20%0A%20%20%20%20%0A%20%20%20%20%20%20%20%20%20%20%20%20var%20marker_20284444b6ef483ab1a776df98f2cc5b%20%3D%20L.marker%28%0A%20%20%20%20%20%20%20%20%20%20%20%20%20%20%20%20%5B55.926664566092654%2C%20-3.289467852759799%5D%2C%0A%20%20%20%20%20%20%20%20%20%20%20%20%20%20%20%20%7B%7D%0A%20%20%20%20%20%20%20%20%20%20%20%20%29.addTo%28marker_cluster_67359bb34138463b8bbaf6c2ba135992%29%3B%0A%20%20%20%20%20%20%20%20%0A%20%20%20%20%0A%20%20%20%20%20%20%20%20%20%20%20%20var%20icon_332dd212fe5940abb757d38c7e247ba1%20%3D%20L.AwesomeMarkers.icon%28%0A%20%20%20%20%20%20%20%20%20%20%20%20%20%20%20%20%7B%22extraClasses%22%3A%20%22fa-rotate-0%22%2C%20%22icon%22%3A%20%22bicycle%22%2C%20%22iconColor%22%3A%20%22white%22%2C%20%22markerColor%22%3A%20%22red%22%2C%20%22prefic%22%3A%20%22fa%22%2C%20%22prefix%22%3A%20%22glyphicon%22%7D%0A%20%20%20%20%20%20%20%20%20%20%20%20%29%3B%0A%20%20%20%20%20%20%20%20%20%20%20%20marker_20284444b6ef483ab1a776df98f2cc5b.setIcon%28icon_332dd212fe5940abb757d38c7e247ba1%29%3B%0A%20%20%20%20%20%20%20%20%0A%20%20%20%20%0A%20%20%20%20%20%20%20%20var%20popup_16002d203b2340c6b4b730ba856bca70%20%3D%20L.popup%28%7B%22maxWidth%22%3A%20%22100%25%22%7D%29%3B%0A%0A%20%20%20%20%20%20%20%20%0A%20%20%20%20%20%20%20%20%20%20%20%20var%20html_1e3990a0bfdd4586903a1a5828eac8ac%20%3D%20%24%28%60%3Cdiv%20id%3D%22html_1e3990a0bfdd4586903a1a5828eac8ac%22%20style%3D%22width%3A%20100.0%25%3B%20height%3A%20100.0%25%3B%22%3EId%3A%201040%3Cbr%3ESighthill%20-%20Edinburgh%20College%3Cbr%3EDescription%3A%20Sighthill%20Campus%3Cbr%3E%3Cbr%3ECounts%3A%2044%3C/div%3E%60%29%5B0%5D%3B%0A%20%20%20%20%20%20%20%20%20%20%20%20popup_16002d203b2340c6b4b730ba856bca70.setContent%28html_1e3990a0bfdd4586903a1a5828eac8ac%29%3B%0A%20%20%20%20%20%20%20%20%0A%0A%20%20%20%20%20%20%20%20marker_20284444b6ef483ab1a776df98f2cc5b.bindPopup%28popup_16002d203b2340c6b4b730ba856bca70%29%0A%20%20%20%20%20%20%20%20%3B%0A%0A%20%20%20%20%20%20%20%20%0A%20%20%20%20%0A%20%20%20%20%0A%20%20%20%20%20%20%20%20%20%20%20%20var%20marker_16108cf6ae4a49bb8e9621b00fecf0bc%20%3D%20L.marker%28%0A%20%20%20%20%20%20%20%20%20%20%20%20%20%20%20%20%5B55.94173596765826%2C%20-3.190360574257738%5D%2C%0A%20%20%20%20%20%20%20%20%20%20%20%20%20%20%20%20%7B%7D%0A%20%20%20%20%20%20%20%20%20%20%20%20%29.addTo%28marker_cluster_67359bb34138463b8bbaf6c2ba135992%29%3B%0A%20%20%20%20%20%20%20%20%0A%20%20%20%20%0A%20%20%20%20%20%20%20%20%20%20%20%20var%20icon_65ceb335c80e4db3b2d4ed958a7486d1%20%3D%20L.AwesomeMarkers.icon%28%0A%20%20%20%20%20%20%20%20%20%20%20%20%20%20%20%20%7B%22extraClasses%22%3A%20%22fa-rotate-0%22%2C%20%22icon%22%3A%20%22bicycle%22%2C%20%22iconColor%22%3A%20%22white%22%2C%20%22markerColor%22%3A%20%22red%22%2C%20%22prefic%22%3A%20%22fa%22%2C%20%22prefix%22%3A%20%22glyphicon%22%7D%0A%20%20%20%20%20%20%20%20%20%20%20%20%29%3B%0A%20%20%20%20%20%20%20%20%20%20%20%20marker_16108cf6ae4a49bb8e9621b00fecf0bc.setIcon%28icon_65ceb335c80e4db3b2d4ed958a7486d1%29%3B%0A%20%20%20%20%20%20%20%20%0A%20%20%20%20%0A%20%20%20%20%20%20%20%20var%20popup_124d6d146cd64bf98942779ff4cca116%20%3D%20L.popup%28%7B%22maxWidth%22%3A%20%22100%25%22%7D%29%3B%0A%0A%20%20%20%20%20%20%20%20%0A%20%20%20%20%20%20%20%20%20%20%20%20var%20html_7c59296d8f6e4906aa9b4a8c97b1f477%20%3D%20%24%28%60%3Cdiv%20id%3D%22html_7c59296d8f6e4906aa9b4a8c97b1f477%22%20style%3D%22width%3A%20100.0%25%3B%20height%3A%20100.0%25%3B%22%3EId%3A%20991%3Cbr%3EMeadows%20-%20Edinburgh%20Climate%20Festival%3Cbr%3EDescription%3A%2020%20bike%20virtual%20station%20for%20edinburgh%20climate%20festival%3Cbr%3E%3Cbr%3ECounts%3A%2042%3C/div%3E%60%29%5B0%5D%3B%0A%20%20%20%20%20%20%20%20%20%20%20%20popup_124d6d146cd64bf98942779ff4cca116.setContent%28html_7c59296d8f6e4906aa9b4a8c97b1f477%29%3B%0A%20%20%20%20%20%20%20%20%0A%0A%20%20%20%20%20%20%20%20marker_16108cf6ae4a49bb8e9621b00fecf0bc.bindPopup%28popup_124d6d146cd64bf98942779ff4cca116%29%0A%20%20%20%20%20%20%20%20%3B%0A%0A%20%20%20%20%20%20%20%20%0A%20%20%20%20%0A%20%20%20%20%0A%20%20%20%20%20%20%20%20%20%20%20%20var%20marker_e58cc6a676eb4133a50511fa6a36f7a9%20%3D%20L.marker%28%0A%20%20%20%20%20%20%20%20%20%20%20%20%20%20%20%20%5B55.94380585491596%2C%20-3.211238456749925%5D%2C%0A%20%20%20%20%20%20%20%20%20%20%20%20%20%20%20%20%7B%7D%0A%20%20%20%20%20%20%20%20%20%20%20%20%29.addTo%28marker_cluster_67359bb34138463b8bbaf6c2ba135992%29%3B%0A%20%20%20%20%20%20%20%20%0A%20%20%20%20%0A%20%20%20%20%20%20%20%20%20%20%20%20var%20icon_95072ca437c04ee29510e7a2ad671ce7%20%3D%20L.AwesomeMarkers.icon%28%0A%20%20%20%20%20%20%20%20%20%20%20%20%20%20%20%20%7B%22extraClasses%22%3A%20%22fa-rotate-0%22%2C%20%22icon%22%3A%20%22bicycle%22%2C%20%22iconColor%22%3A%20%22white%22%2C%20%22markerColor%22%3A%20%22red%22%2C%20%22prefic%22%3A%20%22fa%22%2C%20%22prefix%22%3A%20%22glyphicon%22%7D%0A%20%20%20%20%20%20%20%20%20%20%20%20%29%3B%0A%20%20%20%20%20%20%20%20%20%20%20%20marker_e58cc6a676eb4133a50511fa6a36f7a9.setIcon%28icon_95072ca437c04ee29510e7a2ad671ce7%29%3B%0A%20%20%20%20%20%20%20%20%0A%20%20%20%20%0A%20%20%20%20%20%20%20%20var%20popup_a9253b1d57914939b27e5c85ffd112ee%20%3D%20L.popup%28%7B%22maxWidth%22%3A%20%22100%25%22%7D%29%3B%0A%0A%20%20%20%20%20%20%20%20%0A%20%20%20%20%20%20%20%20%20%20%20%20var%20html_650a659a336f48fb88e66619f35caedd%20%3D%20%24%28%60%3Cdiv%20id%3D%22html_650a659a336f48fb88e66619f35caedd%22%20style%3D%22width%3A%20100.0%25%3B%20height%3A%20100.0%25%3B%22%3EId%3A%201030%3Cbr%3EFountain%20Court%20%20-%20Apartments%20%28RESIDENTS%20ONLY%29%3Cbr%3EDescription%3A%20Fountain%20Court%20%20-%20Apartments%20%28RESIDENTS%20ONLY%29%3Cbr%3E%3Cbr%3ECounts%3A%2036%3C/div%3E%60%29%5B0%5D%3B%0A%20%20%20%20%20%20%20%20%20%20%20%20popup_a9253b1d57914939b27e5c85ffd112ee.setContent%28html_650a659a336f48fb88e66619f35caedd%29%3B%0A%20%20%20%20%20%20%20%20%0A%0A%20%20%20%20%20%20%20%20marker_e58cc6a676eb4133a50511fa6a36f7a9.bindPopup%28popup_a9253b1d57914939b27e5c85ffd112ee%29%0A%20%20%20%20%20%20%20%20%3B%0A%0A%20%20%20%20%20%20%20%20%0A%20%20%20%20%0A%20%20%20%20%0A%20%20%20%20%20%20%20%20%20%20%20%20var%20marker_2d9f92c325024a93a3856147aa769b6e%20%3D%20L.marker%28%0A%20%20%20%20%20%20%20%20%20%20%20%20%20%20%20%20%5B55.92429517498461%2C%20-3.133510335817163%5D%2C%0A%20%20%20%20%20%20%20%20%20%20%20%20%20%20%20%20%7B%7D%0A%20%20%20%20%20%20%20%20%20%20%20%20%29.addTo%28marker_cluster_67359bb34138463b8bbaf6c2ba135992%29%3B%0A%20%20%20%20%20%20%20%20%0A%20%20%20%20%0A%20%20%20%20%20%20%20%20%20%20%20%20var%20icon_3c6e0d108b98411a9a52af52e6124c88%20%3D%20L.AwesomeMarkers.icon%28%0A%20%20%20%20%20%20%20%20%20%20%20%20%20%20%20%20%7B%22extraClasses%22%3A%20%22fa-rotate-0%22%2C%20%22icon%22%3A%20%22bicycle%22%2C%20%22iconColor%22%3A%20%22white%22%2C%20%22markerColor%22%3A%20%22red%22%2C%20%22prefic%22%3A%20%22fa%22%2C%20%22prefix%22%3A%20%22glyphicon%22%7D%0A%20%20%20%20%20%20%20%20%20%20%20%20%29%3B%0A%20%20%20%20%20%20%20%20%20%20%20%20marker_2d9f92c325024a93a3856147aa769b6e.setIcon%28icon_3c6e0d108b98411a9a52af52e6124c88%29%3B%0A%20%20%20%20%20%20%20%20%0A%20%20%20%20%0A%20%20%20%20%20%20%20%20var%20popup_ab251829486a41888e9d14c061c71e78%20%3D%20L.popup%28%7B%22maxWidth%22%3A%20%22100%25%22%7D%29%3B%0A%0A%20%20%20%20%20%20%20%20%0A%20%20%20%20%20%20%20%20%20%20%20%20var%20html_5734bdd88ed0455d87da7fd98119886b%20%3D%20%24%28%60%3Cdiv%20id%3D%22html_5734bdd88ed0455d87da7fd98119886b%22%20style%3D%22width%3A%20100.0%25%3B%20height%3A%20100.0%25%3B%22%3EId%3A%20297%3Cbr%3ERoyal%20Infirmary%3Cbr%3EDescription%3A%20Cycleway%20off%20Little%20France%3Cbr%3E%3Cbr%3ECounts%3A%2035%3C/div%3E%60%29%5B0%5D%3B%0A%20%20%20%20%20%20%20%20%20%20%20%20popup_ab251829486a41888e9d14c061c71e78.setContent%28html_5734bdd88ed0455d87da7fd98119886b%29%3B%0A%20%20%20%20%20%20%20%20%0A%0A%20%20%20%20%20%20%20%20marker_2d9f92c325024a93a3856147aa769b6e.bindPopup%28popup_ab251829486a41888e9d14c061c71e78%29%0A%20%20%20%20%20%20%20%20%3B%0A%0A%20%20%20%20%20%20%20%20%0A%20%20%20%20%0A%20%20%20%20%0A%20%20%20%20%20%20%20%20%20%20%20%20var%20marker_93accb50234d47f987ce96ad9efe2414%20%3D%20L.marker%28%0A%20%20%20%20%20%20%20%20%20%20%20%20%20%20%20%20%5B55.90840398606208%2C%20-3.328825358925314%5D%2C%0A%20%20%20%20%20%20%20%20%20%20%20%20%20%20%20%20%7B%7D%0A%20%20%20%20%20%20%20%20%20%20%20%20%29.addTo%28marker_cluster_67359bb34138463b8bbaf6c2ba135992%29%3B%0A%20%20%20%20%20%20%20%20%0A%20%20%20%20%0A%20%20%20%20%20%20%20%20%20%20%20%20var%20icon_ac718c3df0bf453ea470dd3bdefb4b7a%20%3D%20L.AwesomeMarkers.icon%28%0A%20%20%20%20%20%20%20%20%20%20%20%20%20%20%20%20%7B%22extraClasses%22%3A%20%22fa-rotate-0%22%2C%20%22icon%22%3A%20%22bicycle%22%2C%20%22iconColor%22%3A%20%22white%22%2C%20%22markerColor%22%3A%20%22red%22%2C%20%22prefic%22%3A%20%22fa%22%2C%20%22prefix%22%3A%20%22glyphicon%22%7D%0A%20%20%20%20%20%20%20%20%20%20%20%20%29%3B%0A%20%20%20%20%20%20%20%20%20%20%20%20marker_93accb50234d47f987ce96ad9efe2414.setIcon%28icon_ac718c3df0bf453ea470dd3bdefb4b7a%29%3B%0A%20%20%20%20%20%20%20%20%0A%20%20%20%20%0A%20%20%20%20%20%20%20%20var%20popup_093a294f10bf4c59a81380eb97ea86ad%20%3D%20L.popup%28%7B%22maxWidth%22%3A%20%22100%25%22%7D%29%3B%0A%0A%20%20%20%20%20%20%20%20%0A%20%20%20%20%20%20%20%20%20%20%20%20var%20html_693bd799966b4ec4a824115b0c0af01a%20%3D%20%24%28%60%3Cdiv%20id%3D%22html_693bd799966b4ec4a824115b0c0af01a%22%20style%3D%22width%3A%20100.0%25%3B%20height%3A%20100.0%25%3B%22%3EId%3A%201724%3Cbr%3EHeriot%20Watt%20-%20Student%20Accomodation%20%28Anna%20MacLeod%20Halls%29%3Cbr%3EDescription%3A%20Heriot%20Watt%20-%20Student%20Accomodation%20Heriot%20Watt%20-%20Student%20Accomodation%20%28Anna%20MacLeod%20Halls%29%29%3Cbr%3E%3Cbr%3ECounts%3A%2035%3C/div%3E%60%29%5B0%5D%3B%0A%20%20%20%20%20%20%20%20%20%20%20%20popup_093a294f10bf4c59a81380eb97ea86ad.setContent%28html_693bd799966b4ec4a824115b0c0af01a%29%3B%0A%20%20%20%20%20%20%20%20%0A%0A%20%20%20%20%20%20%20%20marker_93accb50234d47f987ce96ad9efe2414.bindPopup%28popup_093a294f10bf4c59a81380eb97ea86ad%29%0A%20%20%20%20%20%20%20%20%3B%0A%0A%20%20%20%20%20%20%20%20%0A%20%20%20%20%0A%20%20%20%20%0A%20%20%20%20%20%20%20%20%20%20%20%20var%20marker_1d5561d4ed224a3bbee81950eb5f20bb%20%3D%20L.marker%28%0A%20%20%20%20%20%20%20%20%20%20%20%20%20%20%20%20%5B55.951813501278245%2C%20-3.178725911660876%5D%2C%0A%20%20%20%20%20%20%20%20%20%20%20%20%20%20%20%20%7B%7D%0A%20%20%20%20%20%20%20%20%20%20%20%20%29.addTo%28marker_cluster_67359bb34138463b8bbaf6c2ba135992%29%3B%0A%20%20%20%20%20%20%20%20%0A%20%20%20%20%0A%20%20%20%20%20%20%20%20%20%20%20%20var%20icon_610a959f21214a93a7eefc4d72b55f40%20%3D%20L.AwesomeMarkers.icon%28%0A%20%20%20%20%20%20%20%20%20%20%20%20%20%20%20%20%7B%22extraClasses%22%3A%20%22fa-rotate-0%22%2C%20%22icon%22%3A%20%22bicycle%22%2C%20%22iconColor%22%3A%20%22white%22%2C%20%22markerColor%22%3A%20%22red%22%2C%20%22prefic%22%3A%20%22fa%22%2C%20%22prefix%22%3A%20%22glyphicon%22%7D%0A%20%20%20%20%20%20%20%20%20%20%20%20%29%3B%0A%20%20%20%20%20%20%20%20%20%20%20%20marker_1d5561d4ed224a3bbee81950eb5f20bb.setIcon%28icon_610a959f21214a93a7eefc4d72b55f40%29%3B%0A%20%20%20%20%20%20%20%20%0A%20%20%20%20%0A%20%20%20%20%20%20%20%20var%20popup_df6a6e15329a43aab1c7748f708c4e73%20%3D%20L.popup%28%7B%22maxWidth%22%3A%20%22100%25%22%7D%29%3B%0A%0A%20%20%20%20%20%20%20%20%0A%20%20%20%20%20%20%20%20%20%20%20%20var%20html_d5bc3b309df340c99dd75c4b053a97f0%20%3D%20%24%28%60%3Cdiv%20id%3D%22html_d5bc3b309df340c99dd75c4b053a97f0%22%20style%3D%22width%3A%20100.0%25%3B%20height%3A%20100.0%25%3B%22%3EId%3A%20901%3Cbr%3EDunbar%E2%80%99s%20Close%20Garden%3Cbr%3EDescription%3A%20Inside%20garden%3Cbr%3E%3Cbr%3ECounts%3A%2024%3C/div%3E%60%29%5B0%5D%3B%0A%20%20%20%20%20%20%20%20%20%20%20%20popup_df6a6e15329a43aab1c7748f708c4e73.setContent%28html_d5bc3b309df340c99dd75c4b053a97f0%29%3B%0A%20%20%20%20%20%20%20%20%0A%0A%20%20%20%20%20%20%20%20marker_1d5561d4ed224a3bbee81950eb5f20bb.bindPopup%28popup_df6a6e15329a43aab1c7748f708c4e73%29%0A%20%20%20%20%20%20%20%20%3B%0A%0A%20%20%20%20%20%20%20%20%0A%20%20%20%20%0A%20%20%20%20%0A%20%20%20%20%20%20%20%20%20%20%20%20var%20marker_bdb203cc947a4cb08ddfe88eba2b7f54%20%3D%20L.marker%28%0A%20%20%20%20%20%20%20%20%20%20%20%20%20%20%20%20%5B55.94065528387753%2C%20-3.381606403941987%5D%2C%0A%20%20%20%20%20%20%20%20%20%20%20%20%20%20%20%20%7B%7D%0A%20%20%20%20%20%20%20%20%20%20%20%20%29.addTo%28marker_cluster_67359bb34138463b8bbaf6c2ba135992%29%3B%0A%20%20%20%20%20%20%20%20%0A%20%20%20%20%0A%20%20%20%20%20%20%20%20%20%20%20%20var%20icon_d5893c3fd2c545478dae3a212d24e0e6%20%3D%20L.AwesomeMarkers.icon%28%0A%20%20%20%20%20%20%20%20%20%20%20%20%20%20%20%20%7B%22extraClasses%22%3A%20%22fa-rotate-0%22%2C%20%22icon%22%3A%20%22bicycle%22%2C%20%22iconColor%22%3A%20%22white%22%2C%20%22markerColor%22%3A%20%22red%22%2C%20%22prefic%22%3A%20%22fa%22%2C%20%22prefix%22%3A%20%22glyphicon%22%7D%0A%20%20%20%20%20%20%20%20%20%20%20%20%29%3B%0A%20%20%20%20%20%20%20%20%20%20%20%20marker_bdb203cc947a4cb08ddfe88eba2b7f54.setIcon%28icon_d5893c3fd2c545478dae3a212d24e0e6%29%3B%0A%20%20%20%20%20%20%20%20%0A%20%20%20%20%0A%20%20%20%20%20%20%20%20var%20popup_de8a26cb2207454c85eb1ac739a8032b%20%3D%20L.popup%28%7B%22maxWidth%22%3A%20%22100%25%22%7D%29%3B%0A%0A%20%20%20%20%20%20%20%20%0A%20%20%20%20%20%20%20%20%20%20%20%20var%20html_b7e94c1495c040c3978db8788b96bb4d%20%3D%20%24%28%60%3Cdiv%20id%3D%22html_b7e94c1495c040c3978db8788b96bb4d%22%20style%3D%22width%3A%20100.0%25%3B%20height%3A%20100.0%25%3B%22%3EId%3A%20981%3Cbr%3ERHC%20-%20Edinburgh%20Festival%20Camping%20%2805th%20to%2026th%20August%29%3Cbr%3EDescription%3A%20Virtual%20station%20for%20Edinburgh%20Festival%20Camping%20at%20west%20gate%20of%20RHC%20%2805th%20to%2026th%20August%29%3Cbr%3E%3Cbr%3ECounts%3A%2022%3C/div%3E%60%29%5B0%5D%3B%0A%20%20%20%20%20%20%20%20%20%20%20%20popup_de8a26cb2207454c85eb1ac739a8032b.setContent%28html_b7e94c1495c040c3978db8788b96bb4d%29%3B%0A%20%20%20%20%20%20%20%20%0A%0A%20%20%20%20%20%20%20%20marker_bdb203cc947a4cb08ddfe88eba2b7f54.bindPopup%28popup_de8a26cb2207454c85eb1ac739a8032b%29%0A%20%20%20%20%20%20%20%20%3B%0A%0A%20%20%20%20%20%20%20%20%0A%20%20%20%20%0A%20%20%20%20%0A%20%20%20%20%20%20%20%20%20%20%20%20var%20marker_88e4d7e06ab040d08e509e3f40a63acb%20%3D%20L.marker%28%0A%20%20%20%20%20%20%20%20%20%20%20%20%20%20%20%20%5B55.942364438846695%2C%20-3.265384123501235%5D%2C%0A%20%20%20%20%20%20%20%20%20%20%20%20%20%20%20%20%7B%7D%0A%20%20%20%20%20%20%20%20%20%20%20%20%29.addTo%28marker_cluster_67359bb34138463b8bbaf6c2ba135992%29%3B%0A%20%20%20%20%20%20%20%20%0A%20%20%20%20%0A%20%20%20%20%20%20%20%20%20%20%20%20var%20icon_62d4316794884fafa64a578465c3bbfd%20%3D%20L.AwesomeMarkers.icon%28%0A%20%20%20%20%20%20%20%20%20%20%20%20%20%20%20%20%7B%22extraClasses%22%3A%20%22fa-rotate-0%22%2C%20%22icon%22%3A%20%22bicycle%22%2C%20%22iconColor%22%3A%20%22white%22%2C%20%22markerColor%22%3A%20%22red%22%2C%20%22prefic%22%3A%20%22fa%22%2C%20%22prefix%22%3A%20%22glyphicon%22%7D%0A%20%20%20%20%20%20%20%20%20%20%20%20%29%3B%0A%20%20%20%20%20%20%20%20%20%20%20%20marker_88e4d7e06ab040d08e509e3f40a63acb.setIcon%28icon_62d4316794884fafa64a578465c3bbfd%29%3B%0A%20%20%20%20%20%20%20%20%0A%20%20%20%20%0A%20%20%20%20%20%20%20%20var%20popup_f27a6cfd183443a2823105c2e0ceacbc%20%3D%20L.popup%28%7B%22maxWidth%22%3A%20%22100%25%22%7D%29%3B%0A%0A%20%20%20%20%20%20%20%20%0A%20%20%20%20%20%20%20%20%20%20%20%20var%20html_9a362ae7f77747ca84ea78cfcffab094%20%3D%20%24%28%60%3Cdiv%20id%3D%22html_9a362ae7f77747ca84ea78cfcffab094%22%20style%3D%22width%3A%20100.0%25%3B%20height%3A%20100.0%25%3B%22%3EId%3A%20875%3Cbr%3ECorstorphine%20Road%20-%20Pinkhill%3Cbr%3EDescription%3A%20Corner%20of%20Corstorphine%20Road%20%26%20Pinkhill%3Cbr%3E%3Cbr%3ECounts%3A%2021%3C/div%3E%60%29%5B0%5D%3B%0A%20%20%20%20%20%20%20%20%20%20%20%20popup_f27a6cfd183443a2823105c2e0ceacbc.setContent%28html_9a362ae7f77747ca84ea78cfcffab094%29%3B%0A%20%20%20%20%20%20%20%20%0A%0A%20%20%20%20%20%20%20%20marker_88e4d7e06ab040d08e509e3f40a63acb.bindPopup%28popup_f27a6cfd183443a2823105c2e0ceacbc%29%0A%20%20%20%20%20%20%20%20%3B%0A%0A%20%20%20%20%20%20%20%20%0A%20%20%20%20%0A%20%20%20%20%0A%20%20%20%20%20%20%20%20%20%20%20%20var%20marker_24de21cdcf2a410bbda49450b0fc020e%20%3D%20L.marker%28%0A%20%20%20%20%20%20%20%20%20%20%20%20%20%20%20%20%5B55.95261935955009%2C%20-3.205678007970846%5D%2C%0A%20%20%20%20%20%20%20%20%20%20%20%20%20%20%20%20%7B%7D%0A%20%20%20%20%20%20%20%20%20%20%20%20%29.addTo%28marker_cluster_67359bb34138463b8bbaf6c2ba135992%29%3B%0A%20%20%20%20%20%20%20%20%0A%20%20%20%20%0A%20%20%20%20%20%20%20%20%20%20%20%20var%20icon_1a7a1d5c0d524f1ea11de837776dc13c%20%3D%20L.AwesomeMarkers.icon%28%0A%20%20%20%20%20%20%20%20%20%20%20%20%20%20%20%20%7B%22extraClasses%22%3A%20%22fa-rotate-0%22%2C%20%22icon%22%3A%20%22bicycle%22%2C%20%22iconColor%22%3A%20%22white%22%2C%20%22markerColor%22%3A%20%22red%22%2C%20%22prefic%22%3A%20%22fa%22%2C%20%22prefix%22%3A%20%22glyphicon%22%7D%0A%20%20%20%20%20%20%20%20%20%20%20%20%29%3B%0A%20%20%20%20%20%20%20%20%20%20%20%20marker_24de21cdcf2a410bbda49450b0fc020e.setIcon%28icon_1a7a1d5c0d524f1ea11de837776dc13c%29%3B%0A%20%20%20%20%20%20%20%20%0A%20%20%20%20%0A%20%20%20%20%20%20%20%20var%20popup_9dc0fafb37564b4b83e1caad44d77b63%20%3D%20L.popup%28%7B%22maxWidth%22%3A%20%22100%25%22%7D%29%3B%0A%0A%20%20%20%20%20%20%20%20%0A%20%20%20%20%20%20%20%20%20%20%20%20var%20html_4661ff7eaf1f4145a395d7917757b4bc%20%3D%20%24%28%60%3Cdiv%20id%3D%22html_4661ff7eaf1f4145a395d7917757b4bc%22%20style%3D%22width%3A%20100.0%25%3B%20height%3A%20100.0%25%3B%22%3EId%3A%201031%3Cbr%3EEden%20Locke%20-%20Aparthotel%20%28RESIDENTS%20ONLY%29%3Cbr%3EDescription%3A%20Eden%20Locke%20-%20Aparthotel%20%28RESIDENTS%20ONLY%29%3Cbr%3E%3Cbr%3ECounts%3A%2020%3C/div%3E%60%29%5B0%5D%3B%0A%20%20%20%20%20%20%20%20%20%20%20%20popup_9dc0fafb37564b4b83e1caad44d77b63.setContent%28html_4661ff7eaf1f4145a395d7917757b4bc%29%3B%0A%20%20%20%20%20%20%20%20%0A%0A%20%20%20%20%20%20%20%20marker_24de21cdcf2a410bbda49450b0fc020e.bindPopup%28popup_9dc0fafb37564b4b83e1caad44d77b63%29%0A%20%20%20%20%20%20%20%20%3B%0A%0A%20%20%20%20%20%20%20%20%0A%20%20%20%20%0A%20%20%20%20%0A%20%20%20%20%20%20%20%20%20%20%20%20var%20marker_7810e0efde9b4889bd97182c9881b179%20%3D%20L.marker%28%0A%20%20%20%20%20%20%20%20%20%20%20%20%20%20%20%20%5B55.93821225851473%2C%20-3.17897226737648%5D%2C%0A%20%20%20%20%20%20%20%20%20%20%20%20%20%20%20%20%7B%7D%0A%20%20%20%20%20%20%20%20%20%20%20%20%29.addTo%28marker_cluster_67359bb34138463b8bbaf6c2ba135992%29%3B%0A%20%20%20%20%20%20%20%20%0A%20%20%20%20%0A%20%20%20%20%20%20%20%20%20%20%20%20var%20icon_68edc149798b4534a7858cff65ab0984%20%3D%20L.AwesomeMarkers.icon%28%0A%20%20%20%20%20%20%20%20%20%20%20%20%20%20%20%20%7B%22extraClasses%22%3A%20%22fa-rotate-0%22%2C%20%22icon%22%3A%20%22bicycle%22%2C%20%22iconColor%22%3A%20%22white%22%2C%20%22markerColor%22%3A%20%22red%22%2C%20%22prefic%22%3A%20%22fa%22%2C%20%22prefix%22%3A%20%22glyphicon%22%7D%0A%20%20%20%20%20%20%20%20%20%20%20%20%29%3B%0A%20%20%20%20%20%20%20%20%20%20%20%20marker_7810e0efde9b4889bd97182c9881b179.setIcon%28icon_68edc149798b4534a7858cff65ab0984%29%3B%0A%20%20%20%20%20%20%20%20%0A%20%20%20%20%0A%20%20%20%20%20%20%20%20var%20popup_2cf50aa0fbfe4f308cb4fe68a1930adf%20%3D%20L.popup%28%7B%22maxWidth%22%3A%20%22100%25%22%7D%29%3B%0A%0A%20%20%20%20%20%20%20%20%0A%20%20%20%20%20%20%20%20%20%20%20%20var%20html_b8b5a846906a471ea427a7ffaba6437a%20%3D%20%24%28%60%3Cdiv%20id%3D%22html_b8b5a846906a471ea427a7ffaba6437a%22%20style%3D%22width%3A%20100.0%25%3B%20height%3A%20100.0%25%3B%22%3EId%3A%20891%3Cbr%3EWest%20Newington%20Place%3Cbr%3EDescription%3A%20Corner%20of%20West%20Newington%20Place%20%26%20Newington%20Road%3Cbr%3E%3Cbr%3ECounts%3A%2018%3C/div%3E%60%29%5B0%5D%3B%0A%20%20%20%20%20%20%20%20%20%20%20%20popup_2cf50aa0fbfe4f308cb4fe68a1930adf.setContent%28html_b8b5a846906a471ea427a7ffaba6437a%29%3B%0A%20%20%20%20%20%20%20%20%0A%0A%20%20%20%20%20%20%20%20marker_7810e0efde9b4889bd97182c9881b179.bindPopup%28popup_2cf50aa0fbfe4f308cb4fe68a1930adf%29%0A%20%20%20%20%20%20%20%20%3B%0A%0A%20%20%20%20%20%20%20%20%0A%20%20%20%20%0A%20%20%20%20%0A%20%20%20%20%20%20%20%20%20%20%20%20var%20marker_8025450fb7364ca6a2c4556efc737a73%20%3D%20L.marker%28%0A%20%20%20%20%20%20%20%20%20%20%20%20%20%20%20%20%5B55.945452213917534%2C%20-3.219679557435938%5D%2C%0A%20%20%20%20%20%20%20%20%20%20%20%20%20%20%20%20%7B%7D%0A%20%20%20%20%20%20%20%20%20%20%20%20%29.addTo%28marker_cluster_67359bb34138463b8bbaf6c2ba135992%29%3B%0A%20%20%20%20%20%20%20%20%0A%20%20%20%20%0A%20%20%20%20%20%20%20%20%20%20%20%20var%20icon_3c3e6ed74f934cfb81e3e677e0161d3c%20%3D%20L.AwesomeMarkers.icon%28%0A%20%20%20%20%20%20%20%20%20%20%20%20%20%20%20%20%7B%22extraClasses%22%3A%20%22fa-rotate-0%22%2C%20%22icon%22%3A%20%22bicycle%22%2C%20%22iconColor%22%3A%20%22white%22%2C%20%22markerColor%22%3A%20%22red%22%2C%20%22prefic%22%3A%20%22fa%22%2C%20%22prefix%22%3A%20%22glyphicon%22%7D%0A%20%20%20%20%20%20%20%20%20%20%20%20%29%3B%0A%20%20%20%20%20%20%20%20%20%20%20%20marker_8025450fb7364ca6a2c4556efc737a73.setIcon%28icon_3c3e6ed74f934cfb81e3e677e0161d3c%29%3B%0A%20%20%20%20%20%20%20%20%0A%20%20%20%20%0A%20%20%20%20%20%20%20%20var%20popup_2faa3ba1a9be4f7a88292f3e3eb219d3%20%3D%20L.popup%28%7B%22maxWidth%22%3A%20%22100%25%22%7D%29%3B%0A%0A%20%20%20%20%20%20%20%20%0A%20%20%20%20%20%20%20%20%20%20%20%20var%20html_8cfdad8412184cc88b55f29e242cfd45%20%3D%20%24%28%60%3Cdiv%20id%3D%22html_8cfdad8412184cc88b55f29e242cfd45%22%20style%3D%22width%3A%20100.0%25%3B%20height%3A%20100.0%25%3B%22%3EId%3A%20965%3Cbr%3EHaymarket%20-%20Murrayfield%20Rugby%20Event%3Cbr%3EDescription%3A%20Sustrans%20car%20parking%20space%2031%20for%20Murrayfield%20Rugby%20Event%3Cbr%3E%3Cbr%3ECounts%3A%2011%3C/div%3E%60%29%5B0%5D%3B%0A%20%20%20%20%20%20%20%20%20%20%20%20popup_2faa3ba1a9be4f7a88292f3e3eb219d3.setContent%28html_8cfdad8412184cc88b55f29e242cfd45%29%3B%0A%20%20%20%20%20%20%20%20%0A%0A%20%20%20%20%20%20%20%20marker_8025450fb7364ca6a2c4556efc737a73.bindPopup%28popup_2faa3ba1a9be4f7a88292f3e3eb219d3%29%0A%20%20%20%20%20%20%20%20%3B%0A%0A%20%20%20%20%20%20%20%20%0A%20%20%20%20%0A%20%20%20%20%0A%20%20%20%20%20%20%20%20%20%20%20%20var%20marker_2805736d1f984de4ab318c7729877f35%20%3D%20L.marker%28%0A%20%20%20%20%20%20%20%20%20%20%20%20%20%20%20%20%5B55.96391066325888%2C%20-3.191861874639585%5D%2C%0A%20%20%20%20%20%20%20%20%20%20%20%20%20%20%20%20%7B%7D%0A%20%20%20%20%20%20%20%20%20%20%20%20%29.addTo%28marker_cluster_67359bb34138463b8bbaf6c2ba135992%29%3B%0A%20%20%20%20%20%20%20%20%0A%20%20%20%20%0A%20%20%20%20%20%20%20%20%20%20%20%20var%20icon_645c6a247b1f4598bd1244bca6539781%20%3D%20L.AwesomeMarkers.icon%28%0A%20%20%20%20%20%20%20%20%20%20%20%20%20%20%20%20%7B%22extraClasses%22%3A%20%22fa-rotate-0%22%2C%20%22icon%22%3A%20%22bicycle%22%2C%20%22iconColor%22%3A%20%22white%22%2C%20%22markerColor%22%3A%20%22red%22%2C%20%22prefic%22%3A%20%22fa%22%2C%20%22prefix%22%3A%20%22glyphicon%22%7D%0A%20%20%20%20%20%20%20%20%20%20%20%20%29%3B%0A%20%20%20%20%20%20%20%20%20%20%20%20marker_2805736d1f984de4ab318c7729877f35.setIcon%28icon_645c6a247b1f4598bd1244bca6539781%29%3B%0A%20%20%20%20%20%20%20%20%0A%20%20%20%20%0A%20%20%20%20%20%20%20%20var%20popup_4f360c89ba82452ba09954c0981828f1%20%3D%20L.popup%28%7B%22maxWidth%22%3A%20%22100%25%22%7D%29%3B%0A%0A%20%20%20%20%20%20%20%20%0A%20%20%20%20%20%20%20%20%20%20%20%20var%20html_8cfd91a5e9fb482f9277ffe5990f42ff%20%3D%20%24%28%60%3Cdiv%20id%3D%22html_8cfd91a5e9fb482f9277ffe5990f42ff%22%20style%3D%22width%3A%20100.0%25%3B%20height%3A%20100.0%25%3B%22%3EId%3A%201746%3Cbr%3ECrescent%20House%3Cbr%3EDescription%3A%20Crescent%20House%3Cbr%3E%3Cbr%3ECounts%3A%209%3C/div%3E%60%29%5B0%5D%3B%0A%20%20%20%20%20%20%20%20%20%20%20%20popup_4f360c89ba82452ba09954c0981828f1.setContent%28html_8cfd91a5e9fb482f9277ffe5990f42ff%29%3B%0A%20%20%20%20%20%20%20%20%0A%0A%20%20%20%20%20%20%20%20marker_2805736d1f984de4ab318c7729877f35.bindPopup%28popup_4f360c89ba82452ba09954c0981828f1%29%0A%20%20%20%20%20%20%20%20%3B%0A%0A%20%20%20%20%20%20%20%20%0A%20%20%20%20%0A%20%20%20%20%0A%20%20%20%20%20%20%20%20%20%20%20%20var%20marker_34aa83142976445d9767667ebeec6057%20%3D%20L.marker%28%0A%20%20%20%20%20%20%20%20%20%20%20%20%20%20%20%20%5B55.940906749395%2C%20-3.3688722251728223%5D%2C%0A%20%20%20%20%20%20%20%20%20%20%20%20%20%20%20%20%7B%7D%0A%20%20%20%20%20%20%20%20%20%20%20%20%29.addTo%28marker_cluster_67359bb34138463b8bbaf6c2ba135992%29%3B%0A%20%20%20%20%20%20%20%20%0A%20%20%20%20%0A%20%20%20%20%20%20%20%20%20%20%20%20var%20icon_146b7d76061244d1993340d430cc27e6%20%3D%20L.AwesomeMarkers.icon%28%0A%20%20%20%20%20%20%20%20%20%20%20%20%20%20%20%20%7B%22extraClasses%22%3A%20%22fa-rotate-0%22%2C%20%22icon%22%3A%20%22bicycle%22%2C%20%22iconColor%22%3A%20%22white%22%2C%20%22markerColor%22%3A%20%22red%22%2C%20%22prefic%22%3A%20%22fa%22%2C%20%22prefix%22%3A%20%22glyphicon%22%7D%0A%20%20%20%20%20%20%20%20%20%20%20%20%29%3B%0A%20%20%20%20%20%20%20%20%20%20%20%20marker_34aa83142976445d9767667ebeec6057.setIcon%28icon_146b7d76061244d1993340d430cc27e6%29%3B%0A%20%20%20%20%20%20%20%20%0A%20%20%20%20%0A%20%20%20%20%20%20%20%20var%20popup_8a9f252a314e4cd2bed2e1f7ee79f1cd%20%3D%20L.popup%28%7B%22maxWidth%22%3A%20%22100%25%22%7D%29%3B%0A%0A%20%20%20%20%20%20%20%20%0A%20%20%20%20%20%20%20%20%20%20%20%20var%20html_6068926c0d0849e99f0dd0a813ca0e20%20%3D%20%24%28%60%3Cdiv%20id%3D%22html_6068926c0d0849e99f0dd0a813ca0e20%22%20style%3D%22width%3A%20100.0%25%3B%20height%3A%20100.0%25%3B%22%3EId%3A%20980%3Cbr%3ERoyal%20Highland%20Show%20-%20East%20Gate%20%2819th%20to%2023rd%20June%29%3Cbr%3EDescription%3A%20Virtual%20station%20at%20east%20gate%20of%20RHC%20%2819th%20to%2023rd%20June%29%3Cbr%3E%3Cbr%3ECounts%3A%208%3C/div%3E%60%29%5B0%5D%3B%0A%20%20%20%20%20%20%20%20%20%20%20%20popup_8a9f252a314e4cd2bed2e1f7ee79f1cd.setContent%28html_6068926c0d0849e99f0dd0a813ca0e20%29%3B%0A%20%20%20%20%20%20%20%20%0A%0A%20%20%20%20%20%20%20%20marker_34aa83142976445d9767667ebeec6057.bindPopup%28popup_8a9f252a314e4cd2bed2e1f7ee79f1cd%29%0A%20%20%20%20%20%20%20%20%3B%0A%0A%20%20%20%20%20%20%20%20%0A%20%20%20%20%0A%20%20%20%20%0A%20%20%20%20%20%20%20%20%20%20%20%20var%20marker_dc7ae87095904184acc78c7be7cf46f2%20%3D%20L.marker%28%0A%20%20%20%20%20%20%20%20%20%20%20%20%20%20%20%20%5B55.92701363904687%2C%20-3.248556775310362%5D%2C%0A%20%20%20%20%20%20%20%20%20%20%20%20%20%20%20%20%7B%7D%0A%20%20%20%20%20%20%20%20%20%20%20%20%29.addTo%28marker_cluster_67359bb34138463b8bbaf6c2ba135992%29%3B%0A%20%20%20%20%20%20%20%20%0A%20%20%20%20%0A%20%20%20%20%20%20%20%20%20%20%20%20var%20icon_4d7412c34d964a9683ce925ce2965873%20%3D%20L.AwesomeMarkers.icon%28%0A%20%20%20%20%20%20%20%20%20%20%20%20%20%20%20%20%7B%22extraClasses%22%3A%20%22fa-rotate-0%22%2C%20%22icon%22%3A%20%22bicycle%22%2C%20%22iconColor%22%3A%20%22white%22%2C%20%22markerColor%22%3A%20%22red%22%2C%20%22prefic%22%3A%20%22fa%22%2C%20%22prefix%22%3A%20%22glyphicon%22%7D%0A%20%20%20%20%20%20%20%20%20%20%20%20%29%3B%0A%20%20%20%20%20%20%20%20%20%20%20%20marker_dc7ae87095904184acc78c7be7cf46f2.setIcon%28icon_4d7412c34d964a9683ce925ce2965873%29%3B%0A%20%20%20%20%20%20%20%20%0A%20%20%20%20%0A%20%20%20%20%20%20%20%20var%20popup_27255de8d1e3425bafeddd4a8ce3320d%20%3D%20L.popup%28%7B%22maxWidth%22%3A%20%22100%25%22%7D%29%3B%0A%0A%20%20%20%20%20%20%20%20%0A%20%20%20%20%20%20%20%20%20%20%20%20var%20html_932813d481914a55abff4dd48332d2cb%20%3D%20%24%28%60%3Cdiv%20id%3D%22html_932813d481914a55abff4dd48332d2cb%22%20style%3D%22width%3A%20100.0%25%3B%20height%3A%20100.0%25%3B%22%3EId%3A%20964%3Cbr%3ECorn%20Exchange%20-%20walk%20cycle%20event%3Cbr%3EDescription%3A%20Temporary%20event%20station%3Cbr%3E%3Cbr%3ECounts%3A%207%3C/div%3E%60%29%5B0%5D%3B%0A%20%20%20%20%20%20%20%20%20%20%20%20popup_27255de8d1e3425bafeddd4a8ce3320d.setContent%28html_932813d481914a55abff4dd48332d2cb%29%3B%0A%20%20%20%20%20%20%20%20%0A%0A%20%20%20%20%20%20%20%20marker_dc7ae87095904184acc78c7be7cf46f2.bindPopup%28popup_27255de8d1e3425bafeddd4a8ce3320d%29%0A%20%20%20%20%20%20%20%20%3B%0A%0A%20%20%20%20%20%20%20%20%0A%20%20%20%20%0A%20%20%20%20%0A%20%20%20%20%20%20%20%20%20%20%20%20var%20marker_69c3cb91000e45eda20892b9209f5515%20%3D%20L.marker%28%0A%20%20%20%20%20%20%20%20%20%20%20%20%20%20%20%20%5B55.93909048596021%2C%20-3.355912910873826%5D%2C%0A%20%20%20%20%20%20%20%20%20%20%20%20%20%20%20%20%7B%7D%0A%20%20%20%20%20%20%20%20%20%20%20%20%29.addTo%28marker_cluster_67359bb34138463b8bbaf6c2ba135992%29%3B%0A%20%20%20%20%20%20%20%20%0A%20%20%20%20%0A%20%20%20%20%20%20%20%20%20%20%20%20var%20icon_b24b9e1ad6954e50a184f4d06ace69b9%20%3D%20L.AwesomeMarkers.icon%28%0A%20%20%20%20%20%20%20%20%20%20%20%20%20%20%20%20%7B%22extraClasses%22%3A%20%22fa-rotate-0%22%2C%20%22icon%22%3A%20%22bicycle%22%2C%20%22iconColor%22%3A%20%22white%22%2C%20%22markerColor%22%3A%20%22red%22%2C%20%22prefic%22%3A%20%22fa%22%2C%20%22prefix%22%3A%20%22glyphicon%22%7D%0A%20%20%20%20%20%20%20%20%20%20%20%20%29%3B%0A%20%20%20%20%20%20%20%20%20%20%20%20marker_69c3cb91000e45eda20892b9209f5515.setIcon%28icon_b24b9e1ad6954e50a184f4d06ace69b9%29%3B%0A%20%20%20%20%20%20%20%20%0A%20%20%20%20%0A%20%20%20%20%20%20%20%20var%20popup_f96b0b4f14b445b58f14ec7afdba9375%20%3D%20L.popup%28%7B%22maxWidth%22%3A%20%22100%25%22%7D%29%3B%0A%0A%20%20%20%20%20%20%20%20%0A%20%20%20%20%20%20%20%20%20%20%20%20var%20html_52aae9a5912f4899acdaf5a0d4d6e68c%20%3D%20%24%28%60%3Cdiv%20id%3D%22html_52aae9a5912f4899acdaf5a0d4d6e68c%22%20style%3D%22width%3A%20100.0%25%3B%20height%3A%20100.0%25%3B%22%3EId%3A%20982%3Cbr%3EIngliston%20Park%20and%20Ride%20%2819th%20to%2023rd%20June%29%3Cbr%3EDescription%3A%20Virtual%20station%20at%20Ingliston%20Park%20and%20Ride%20%2819th%20to%2023rd%20June%29%3Cbr%3E%3Cbr%3ECounts%3A%207%3C/div%3E%60%29%5B0%5D%3B%0A%20%20%20%20%20%20%20%20%20%20%20%20popup_f96b0b4f14b445b58f14ec7afdba9375.setContent%28html_52aae9a5912f4899acdaf5a0d4d6e68c%29%3B%0A%20%20%20%20%20%20%20%20%0A%0A%20%20%20%20%20%20%20%20marker_69c3cb91000e45eda20892b9209f5515.bindPopup%28popup_f96b0b4f14b445b58f14ec7afdba9375%29%0A%20%20%20%20%20%20%20%20%3B%0A%0A%20%20%20%20%20%20%20%20%0A%20%20%20%20%0A%20%20%20%20%0A%20%20%20%20%20%20%20%20%20%20%20%20var%20marker_ab211b89e59b40f7b1076423da26987c%20%3D%20L.marker%28%0A%20%20%20%20%20%20%20%20%20%20%20%20%20%20%20%20%5B55.94489645971535%2C%20-3.199635221500898%5D%2C%0A%20%20%20%20%20%20%20%20%20%20%20%20%20%20%20%20%7B%7D%0A%20%20%20%20%20%20%20%20%20%20%20%20%29.addTo%28marker_cluster_67359bb34138463b8bbaf6c2ba135992%29%3B%0A%20%20%20%20%20%20%20%20%0A%20%20%20%20%0A%20%20%20%20%20%20%20%20%20%20%20%20var%20icon_a2765b7a1d8f4806bbfdc476e1d163a2%20%3D%20L.AwesomeMarkers.icon%28%0A%20%20%20%20%20%20%20%20%20%20%20%20%20%20%20%20%7B%22extraClasses%22%3A%20%22fa-rotate-0%22%2C%20%22icon%22%3A%20%22bicycle%22%2C%20%22iconColor%22%3A%20%22white%22%2C%20%22markerColor%22%3A%20%22red%22%2C%20%22prefic%22%3A%20%22fa%22%2C%20%22prefix%22%3A%20%22glyphicon%22%7D%0A%20%20%20%20%20%20%20%20%20%20%20%20%29%3B%0A%20%20%20%20%20%20%20%20%20%20%20%20marker_ab211b89e59b40f7b1076423da26987c.setIcon%28icon_a2765b7a1d8f4806bbfdc476e1d163a2%29%3B%0A%20%20%20%20%20%20%20%20%0A%20%20%20%20%0A%20%20%20%20%20%20%20%20var%20popup_a52bf45fdb2b4615a12cf3f39d0f7cc6%20%3D%20L.popup%28%7B%22maxWidth%22%3A%20%22100%25%22%7D%29%3B%0A%0A%20%20%20%20%20%20%20%20%0A%20%20%20%20%20%20%20%20%20%20%20%20var%20html_ad192c13bbb34ff894b308b78232f3f9%20%3D%20%24%28%60%3Cdiv%20id%3D%22html_ad192c13bbb34ff894b308b78232f3f9%22%20style%3D%22width%3A%20100.0%25%3B%20height%3A%20100.0%25%3B%22%3EId%3A%20365%3Cbr%3ENovotel%3Cbr%3EDescription%3A%20Novotel%3Cbr%3E%3Cbr%3ECounts%3A%206%3C/div%3E%60%29%5B0%5D%3B%0A%20%20%20%20%20%20%20%20%20%20%20%20popup_a52bf45fdb2b4615a12cf3f39d0f7cc6.setContent%28html_ad192c13bbb34ff894b308b78232f3f9%29%3B%0A%20%20%20%20%20%20%20%20%0A%0A%20%20%20%20%20%20%20%20marker_ab211b89e59b40f7b1076423da26987c.bindPopup%28popup_a52bf45fdb2b4615a12cf3f39d0f7cc6%29%0A%20%20%20%20%20%20%20%20%3B%0A%0A%20%20%20%20%20%20%20%20%0A%20%20%20%20%0A%20%20%20%20%0A%20%20%20%20%20%20%20%20%20%20%20%20var%20marker_62853e9d3422404a93e5c32506b32df8%20%3D%20L.marker%28%0A%20%20%20%20%20%20%20%20%20%20%20%20%20%20%20%20%5B55.97233473082818%2C%20-3.155781602605998%5D%2C%0A%20%20%20%20%20%20%20%20%20%20%20%20%20%20%20%20%7B%7D%0A%20%20%20%20%20%20%20%20%20%20%20%20%29.addTo%28marker_cluster_67359bb34138463b8bbaf6c2ba135992%29%3B%0A%20%20%20%20%20%20%20%20%0A%20%20%20%20%0A%20%20%20%20%20%20%20%20%20%20%20%20var%20icon_b6d6d4d50f204aa28ea184c815620fc1%20%3D%20L.AwesomeMarkers.icon%28%0A%20%20%20%20%20%20%20%20%20%20%20%20%20%20%20%20%7B%22extraClasses%22%3A%20%22fa-rotate-0%22%2C%20%22icon%22%3A%20%22bicycle%22%2C%20%22iconColor%22%3A%20%22white%22%2C%20%22markerColor%22%3A%20%22red%22%2C%20%22prefic%22%3A%20%22fa%22%2C%20%22prefix%22%3A%20%22glyphicon%22%7D%0A%20%20%20%20%20%20%20%20%20%20%20%20%29%3B%0A%20%20%20%20%20%20%20%20%20%20%20%20marker_62853e9d3422404a93e5c32506b32df8.setIcon%28icon_b6d6d4d50f204aa28ea184c815620fc1%29%3B%0A%20%20%20%20%20%20%20%20%0A%20%20%20%20%0A%20%20%20%20%20%20%20%20var%20popup_1a7ef1de0e75492cba39342fa41646b0%20%3D%20L.popup%28%7B%22maxWidth%22%3A%20%22100%25%22%7D%29%3B%0A%0A%20%20%20%20%20%20%20%20%0A%20%20%20%20%20%20%20%20%20%20%20%20var%20html_0ce5ca0aa6ec4e258e5955f43ed418a4%20%3D%20%24%28%60%3Cdiv%20id%3D%22html_0ce5ca0aa6ec4e258e5955f43ed418a4%22%20style%3D%22width%3A%20100.0%25%3B%20height%3A%20100.0%25%3B%22%3EId%3A%20299%3Cbr%3EDepot%20Virtual%3Cbr%3EDescription%3A%20Depot%20internal%20station%3Cbr%3E%3Cbr%3ECounts%3A%206%3C/div%3E%60%29%5B0%5D%3B%0A%20%20%20%20%20%20%20%20%20%20%20%20popup_1a7ef1de0e75492cba39342fa41646b0.setContent%28html_0ce5ca0aa6ec4e258e5955f43ed418a4%29%3B%0A%20%20%20%20%20%20%20%20%0A%0A%20%20%20%20%20%20%20%20marker_62853e9d3422404a93e5c32506b32df8.bindPopup%28popup_1a7ef1de0e75492cba39342fa41646b0%29%0A%20%20%20%20%20%20%20%20%3B%0A%0A%20%20%20%20%20%20%20%20%0A%20%20%20%20%0A%20%20%20%20%0A%20%20%20%20%20%20%20%20%20%20%20%20var%20marker_7d74c7a8c0be4a44bceb985468d3d07c%20%3D%20L.marker%28%0A%20%20%20%20%20%20%20%20%20%20%20%20%20%20%20%20%5B55.93437199635734%2C%20-3.105037819791278%5D%2C%0A%20%20%20%20%20%20%20%20%20%20%20%20%20%20%20%20%7B%7D%0A%20%20%20%20%20%20%20%20%20%20%20%20%29.addTo%28marker_cluster_67359bb34138463b8bbaf6c2ba135992%29%3B%0A%20%20%20%20%20%20%20%20%0A%20%20%20%20%0A%20%20%20%20%20%20%20%20%20%20%20%20var%20icon_ea0903b2186e403795a1cc287238ed84%20%3D%20L.AwesomeMarkers.icon%28%0A%20%20%20%20%20%20%20%20%20%20%20%20%20%20%20%20%7B%22extraClasses%22%3A%20%22fa-rotate-0%22%2C%20%22icon%22%3A%20%22bicycle%22%2C%20%22iconColor%22%3A%20%22white%22%2C%20%22markerColor%22%3A%20%22red%22%2C%20%22prefic%22%3A%20%22fa%22%2C%20%22prefix%22%3A%20%22glyphicon%22%7D%0A%20%20%20%20%20%20%20%20%20%20%20%20%29%3B%0A%20%20%20%20%20%20%20%20%20%20%20%20marker_7d74c7a8c0be4a44bceb985468d3d07c.setIcon%28icon_ea0903b2186e403795a1cc287238ed84%29%3B%0A%20%20%20%20%20%20%20%20%0A%20%20%20%20%0A%20%20%20%20%20%20%20%20var%20popup_60dee842f106459fb8226ce59c562395%20%3D%20L.popup%28%7B%22maxWidth%22%3A%20%22100%25%22%7D%29%3B%0A%0A%20%20%20%20%20%20%20%20%0A%20%20%20%20%20%20%20%20%20%20%20%20var%20html_e6914f6a9415410788fb7b5d8270b8e4%20%3D%20%24%28%60%3Cdiv%20id%3D%22html_e6914f6a9415410788fb7b5d8270b8e4%22%20style%3D%22width%3A%20100.0%25%3B%20height%3A%20100.0%25%3B%22%3EId%3A%201056%3Cbr%3EFort%20Kinnaird%3Cbr%3EDescription%3A%20Next%20to%20Playpark/Cafe%20Nero%3Cbr%3E%3Cbr%3ECounts%3A%206%3C/div%3E%60%29%5B0%5D%3B%0A%20%20%20%20%20%20%20%20%20%20%20%20popup_60dee842f106459fb8226ce59c562395.setContent%28html_e6914f6a9415410788fb7b5d8270b8e4%29%3B%0A%20%20%20%20%20%20%20%20%0A%0A%20%20%20%20%20%20%20%20marker_7d74c7a8c0be4a44bceb985468d3d07c.bindPopup%28popup_60dee842f106459fb8226ce59c562395%29%0A%20%20%20%20%20%20%20%20%3B%0A%0A%20%20%20%20%20%20%20%20%0A%20%20%20%20%0A%20%20%20%20%0A%20%20%20%20%20%20%20%20%20%20%20%20var%20marker_f89093d133f64e6695ec331607c4a7e4%20%3D%20L.marker%28%0A%20%20%20%20%20%20%20%20%20%20%20%20%20%20%20%20%5B55.94820962824952%2C%20-3.181597452807864%5D%2C%0A%20%20%20%20%20%20%20%20%20%20%20%20%20%20%20%20%7B%7D%0A%20%20%20%20%20%20%20%20%20%20%20%20%29.addTo%28marker_cluster_67359bb34138463b8bbaf6c2ba135992%29%3B%0A%20%20%20%20%20%20%20%20%0A%20%20%20%20%0A%20%20%20%20%20%20%20%20%20%20%20%20var%20icon_f786640e94de45448f44a15327cb1df4%20%3D%20L.AwesomeMarkers.icon%28%0A%20%20%20%20%20%20%20%20%20%20%20%20%20%20%20%20%7B%22extraClasses%22%3A%20%22fa-rotate-0%22%2C%20%22icon%22%3A%20%22bicycle%22%2C%20%22iconColor%22%3A%20%22white%22%2C%20%22markerColor%22%3A%20%22red%22%2C%20%22prefic%22%3A%20%22fa%22%2C%20%22prefix%22%3A%20%22glyphicon%22%7D%0A%20%20%20%20%20%20%20%20%20%20%20%20%29%3B%0A%20%20%20%20%20%20%20%20%20%20%20%20marker_f89093d133f64e6695ec331607c4a7e4.setIcon%28icon_f786640e94de45448f44a15327cb1df4%29%3B%0A%20%20%20%20%20%20%20%20%0A%20%20%20%20%0A%20%20%20%20%20%20%20%20var%20popup_6b42f0bb37f0431badda5e91325bb5bf%20%3D%20L.popup%28%7B%22maxWidth%22%3A%20%22100%25%22%7D%29%3B%0A%0A%20%20%20%20%20%20%20%20%0A%20%20%20%20%20%20%20%20%20%20%20%20var%20html_8e58aea989cd4cd49954c6c5e257b36f%20%3D%20%24%28%60%3Cdiv%20id%3D%22html_8e58aea989cd4cd49954c6c5e257b36f%22%20style%3D%22width%3A%20100.0%25%3B%20height%3A%20100.0%25%3B%22%3EId%3A%201057%3Cbr%3EPleasance%20-%20Edinburgh%20University%20Sports%20Fair%3Cbr%3EDescription%3A%20Pleasance%20Sports%20Complex%3Cbr%3E%3Cbr%3ECounts%3A%206%3C/div%3E%60%29%5B0%5D%3B%0A%20%20%20%20%20%20%20%20%20%20%20%20popup_6b42f0bb37f0431badda5e91325bb5bf.setContent%28html_8e58aea989cd4cd49954c6c5e257b36f%29%3B%0A%20%20%20%20%20%20%20%20%0A%0A%20%20%20%20%20%20%20%20marker_f89093d133f64e6695ec331607c4a7e4.bindPopup%28popup_6b42f0bb37f0431badda5e91325bb5bf%29%0A%20%20%20%20%20%20%20%20%3B%0A%0A%20%20%20%20%20%20%20%20%0A%20%20%20%20%0A%20%20%20%20%0A%20%20%20%20%20%20%20%20%20%20%20%20var%20marker_8eae9fdb12cf40aabf8c5123cef52923%20%3D%20L.marker%28%0A%20%20%20%20%20%20%20%20%20%20%20%20%20%20%20%20%5B55.95135352288074%2C%20-3.168590609786974%5D%2C%0A%20%20%20%20%20%20%20%20%20%20%20%20%20%20%20%20%7B%7D%0A%20%20%20%20%20%20%20%20%20%20%20%20%29.addTo%28marker_cluster_67359bb34138463b8bbaf6c2ba135992%29%3B%0A%20%20%20%20%20%20%20%20%0A%20%20%20%20%0A%20%20%20%20%20%20%20%20%20%20%20%20var%20icon_328e4e7049a6456096ca0a0f1ef7ad5c%20%3D%20L.AwesomeMarkers.icon%28%0A%20%20%20%20%20%20%20%20%20%20%20%20%20%20%20%20%7B%22extraClasses%22%3A%20%22fa-rotate-0%22%2C%20%22icon%22%3A%20%22bicycle%22%2C%20%22iconColor%22%3A%20%22white%22%2C%20%22markerColor%22%3A%20%22red%22%2C%20%22prefic%22%3A%20%22fa%22%2C%20%22prefix%22%3A%20%22glyphicon%22%7D%0A%20%20%20%20%20%20%20%20%20%20%20%20%29%3B%0A%20%20%20%20%20%20%20%20%20%20%20%20marker_8eae9fdb12cf40aabf8c5123cef52923.setIcon%28icon_328e4e7049a6456096ca0a0f1ef7ad5c%29%3B%0A%20%20%20%20%20%20%20%20%0A%20%20%20%20%0A%20%20%20%20%20%20%20%20var%20popup_aeb9b39ba78a404c8f7ac715684ba143%20%3D%20L.popup%28%7B%22maxWidth%22%3A%20%22100%25%22%7D%29%3B%0A%0A%20%20%20%20%20%20%20%20%0A%20%20%20%20%20%20%20%20%20%20%20%20var%20html_95a5b19dc14c41b0a62cd8a1ecd6609b%20%3D%20%24%28%60%3Cdiv%20id%3D%22html_95a5b19dc14c41b0a62cd8a1ecd6609b%22%20style%3D%22width%3A%20100.0%25%3B%20height%3A%20100.0%25%3B%22%3EId%3A%201032%3Cbr%3EHolyrood%20Park%20-%20Woman%27s%20Tour%20Of%20Scotland%20%28Event%2011/08/19%29%3Cbr%3EDescription%3A%20Holyrood%20Park%20-%20Woman%27s%20Tour%20Of%20Scotland%20%28Event%2011/08/19%29%3Cbr%3E%3Cbr%3ECounts%3A%205%3C/div%3E%60%29%5B0%5D%3B%0A%20%20%20%20%20%20%20%20%20%20%20%20popup_aeb9b39ba78a404c8f7ac715684ba143.setContent%28html_95a5b19dc14c41b0a62cd8a1ecd6609b%29%3B%0A%20%20%20%20%20%20%20%20%0A%0A%20%20%20%20%20%20%20%20marker_8eae9fdb12cf40aabf8c5123cef52923.bindPopup%28popup_aeb9b39ba78a404c8f7ac715684ba143%29%0A%20%20%20%20%20%20%20%20%3B%0A%0A%20%20%20%20%20%20%20%20%0A%20%20%20%20%0A%20%20%20%20%0A%20%20%20%20%20%20%20%20%20%20%20%20var%20marker_4a044d2cddc24922b72fb4e54d11b9bf%20%3D%20L.marker%28%0A%20%20%20%20%20%20%20%20%20%20%20%20%20%20%20%20%5B55.97237325804326%2C%20-3.155833150766966%5D%2C%0A%20%20%20%20%20%20%20%20%20%20%20%20%20%20%20%20%7B%7D%0A%20%20%20%20%20%20%20%20%20%20%20%20%29.addTo%28marker_cluster_67359bb34138463b8bbaf6c2ba135992%29%3B%0A%20%20%20%20%20%20%20%20%0A%20%20%20%20%0A%20%20%20%20%20%20%20%20%20%20%20%20var%20icon_eb9fb5349c154c97b163f62adc57e084%20%3D%20L.AwesomeMarkers.icon%28%0A%20%20%20%20%20%20%20%20%20%20%20%20%20%20%20%20%7B%22extraClasses%22%3A%20%22fa-rotate-0%22%2C%20%22icon%22%3A%20%22bicycle%22%2C%20%22iconColor%22%3A%20%22white%22%2C%20%22markerColor%22%3A%20%22red%22%2C%20%22prefic%22%3A%20%22fa%22%2C%20%22prefix%22%3A%20%22glyphicon%22%7D%0A%20%20%20%20%20%20%20%20%20%20%20%20%29%3B%0A%20%20%20%20%20%20%20%20%20%20%20%20marker_4a044d2cddc24922b72fb4e54d11b9bf.setIcon%28icon_eb9fb5349c154c97b163f62adc57e084%29%3B%0A%20%20%20%20%20%20%20%20%0A%20%20%20%20%0A%20%20%20%20%20%20%20%20var%20popup_fca48e97ba4446a192c07719b277381a%20%3D%20L.popup%28%7B%22maxWidth%22%3A%20%22100%25%22%7D%29%3B%0A%0A%20%20%20%20%20%20%20%20%0A%20%20%20%20%20%20%20%20%20%20%20%20var%20html_655d117fa66e4da1b603e2c9a930b051%20%3D%20%24%28%60%3Cdiv%20id%3D%22html_655d117fa66e4da1b603e2c9a930b051%22%20style%3D%22width%3A%20100.0%25%3B%20height%3A%20100.0%25%3B%22%3EId%3A%20241%3Cbr%3EDepot%3Cbr%3EDescription%3A%20Depot%3Cbr%3E%3Cbr%3ECounts%3A%203%3C/div%3E%60%29%5B0%5D%3B%0A%20%20%20%20%20%20%20%20%20%20%20%20popup_fca48e97ba4446a192c07719b277381a.setContent%28html_655d117fa66e4da1b603e2c9a930b051%29%3B%0A%20%20%20%20%20%20%20%20%0A%0A%20%20%20%20%20%20%20%20marker_4a044d2cddc24922b72fb4e54d11b9bf.bindPopup%28popup_fca48e97ba4446a192c07719b277381a%29%0A%20%20%20%20%20%20%20%20%3B%0A%0A%20%20%20%20%20%20%20%20%0A%20%20%20%20%0A%20%20%20%20%0A%20%20%20%20%20%20%20%20%20%20%20%20var%20marker_cfe355a7e82f4733a6a6994585c18ebe%20%3D%20L.marker%28%0A%20%20%20%20%20%20%20%20%20%20%20%20%20%20%20%20%5B53.39552546462075%2C%20-2.9901380418724552%5D%2C%0A%20%20%20%20%20%20%20%20%20%20%20%20%20%20%20%20%7B%7D%0A%20%20%20%20%20%20%20%20%20%20%20%20%29.addTo%28marker_cluster_67359bb34138463b8bbaf6c2ba135992%29%3B%0A%20%20%20%20%20%20%20%20%0A%20%20%20%20%0A%20%20%20%20%20%20%20%20%20%20%20%20var%20icon_2f210fc21fd048ffb92fb1eb1e0f02e9%20%3D%20L.AwesomeMarkers.icon%28%0A%20%20%20%20%20%20%20%20%20%20%20%20%20%20%20%20%7B%22extraClasses%22%3A%20%22fa-rotate-0%22%2C%20%22icon%22%3A%20%22bicycle%22%2C%20%22iconColor%22%3A%20%22white%22%2C%20%22markerColor%22%3A%20%22red%22%2C%20%22prefic%22%3A%20%22fa%22%2C%20%22prefix%22%3A%20%22glyphicon%22%7D%0A%20%20%20%20%20%20%20%20%20%20%20%20%29%3B%0A%20%20%20%20%20%20%20%20%20%20%20%20marker_cfe355a7e82f4733a6a6994585c18ebe.setIcon%28icon_2f210fc21fd048ffb92fb1eb1e0f02e9%29%3B%0A%20%20%20%20%20%20%20%20%0A%20%20%20%20%0A%20%20%20%20%20%20%20%20var%20popup_d0f006efbc8643fabcd3d0c9ffb0a16e%20%3D%20L.popup%28%7B%22maxWidth%22%3A%20%22100%25%22%7D%29%3B%0A%0A%20%20%20%20%20%20%20%20%0A%20%20%20%20%20%20%20%20%20%20%20%20var%20html_c73d1f6c577c4c4bbb40c5a980e9b103%20%3D%20%24%28%60%3Cdiv%20id%3D%22html_c73d1f6c577c4c4bbb40c5a980e9b103%22%20style%3D%22width%3A%20100.0%25%3B%20height%3A%20100.0%25%3B%22%3EId%3A%20280%3Cbr%3ESmarter%20Travel%20Station%3Cbr%3EDescription%3A%20The%20Street%3Cbr%3E%3Cbr%3ECounts%3A%203%3C/div%3E%60%29%5B0%5D%3B%0A%20%20%20%20%20%20%20%20%20%20%20%20popup_d0f006efbc8643fabcd3d0c9ffb0a16e.setContent%28html_c73d1f6c577c4c4bbb40c5a980e9b103%29%3B%0A%20%20%20%20%20%20%20%20%0A%0A%20%20%20%20%20%20%20%20marker_cfe355a7e82f4733a6a6994585c18ebe.bindPopup%28popup_d0f006efbc8643fabcd3d0c9ffb0a16e%29%0A%20%20%20%20%20%20%20%20%3B%0A%0A%20%20%20%20%20%20%20%20%0A%20%20%20%20%0A%20%20%20%20%0A%20%20%20%20%20%20%20%20%20%20%20%20var%20marker_0a9eb54e9cc94a7e98587ab30203b5ce%20%3D%20L.marker%28%0A%20%20%20%20%20%20%20%20%20%20%20%20%20%20%20%20%5B55.940886347739024%2C%20-3.240777565829148%5D%2C%0A%20%20%20%20%20%20%20%20%20%20%20%20%20%20%20%20%7B%7D%0A%20%20%20%20%20%20%20%20%20%20%20%20%29.addTo%28marker_cluster_67359bb34138463b8bbaf6c2ba135992%29%3B%0A%20%20%20%20%20%20%20%20%0A%20%20%20%20%0A%20%20%20%20%20%20%20%20%20%20%20%20var%20icon_5564d4a714f74185bf1d8db6a7f36208%20%3D%20L.AwesomeMarkers.icon%28%0A%20%20%20%20%20%20%20%20%20%20%20%20%20%20%20%20%7B%22extraClasses%22%3A%20%22fa-rotate-0%22%2C%20%22icon%22%3A%20%22bicycle%22%2C%20%22iconColor%22%3A%20%22white%22%2C%20%22markerColor%22%3A%20%22red%22%2C%20%22prefic%22%3A%20%22fa%22%2C%20%22prefix%22%3A%20%22glyphicon%22%7D%0A%20%20%20%20%20%20%20%20%20%20%20%20%29%3B%0A%20%20%20%20%20%20%20%20%20%20%20%20marker_0a9eb54e9cc94a7e98587ab30203b5ce.setIcon%28icon_5564d4a714f74185bf1d8db6a7f36208%29%3B%0A%20%20%20%20%20%20%20%20%0A%20%20%20%20%0A%20%20%20%20%20%20%20%20var%20popup_6766db07c7f44fc69ca322cf88f4a9e9%20%3D%20L.popup%28%7B%22maxWidth%22%3A%20%22100%25%22%7D%29%3B%0A%0A%20%20%20%20%20%20%20%20%0A%20%20%20%20%20%20%20%20%20%20%20%20var%20html_ba0019a67fc34495b7de1f9358fa2a61%20%3D%20%24%28%60%3Cdiv%20id%3D%22html_ba0019a67fc34495b7de1f9358fa2a61%22%20style%3D%22width%3A%20100.0%25%3B%20height%3A%20100.0%25%3B%22%3EId%3A%201740%3Cbr%3ECycling%20Scotland%20Conference%3Cbr%3EDescription%3A%20Murrayfield%20Stadium%3Cbr%3E%3Cbr%3ECounts%3A%202%3C/div%3E%60%29%5B0%5D%3B%0A%20%20%20%20%20%20%20%20%20%20%20%20popup_6766db07c7f44fc69ca322cf88f4a9e9.setContent%28html_ba0019a67fc34495b7de1f9358fa2a61%29%3B%0A%20%20%20%20%20%20%20%20%0A%0A%20%20%20%20%20%20%20%20marker_0a9eb54e9cc94a7e98587ab30203b5ce.bindPopup%28popup_6766db07c7f44fc69ca322cf88f4a9e9%29%0A%20%20%20%20%20%20%20%20%3B%0A%0A%20%20%20%20%20%20%20%20%0A%20%20%20%20%0A%20%20%20%20%0A%20%20%20%20%20%20%20%20%20%20%20%20var%20marker_93c83124c1f4478ba7305986c0993144%20%3D%20L.marker%28%0A%20%20%20%20%20%20%20%20%20%20%20%20%20%20%20%20%5B55.97240196356882%2C%20-3.155794035109693%5D%2C%0A%20%20%20%20%20%20%20%20%20%20%20%20%20%20%20%20%7B%7D%0A%20%20%20%20%20%20%20%20%20%20%20%20%29.addTo%28marker_cluster_67359bb34138463b8bbaf6c2ba135992%29%3B%0A%20%20%20%20%20%20%20%20%0A%20%20%20%20%0A%20%20%20%20%20%20%20%20%20%20%20%20var%20icon_c1eadade09f944358a070bb9ccb0e612%20%3D%20L.AwesomeMarkers.icon%28%0A%20%20%20%20%20%20%20%20%20%20%20%20%20%20%20%20%7B%22extraClasses%22%3A%20%22fa-rotate-0%22%2C%20%22icon%22%3A%20%22bicycle%22%2C%20%22iconColor%22%3A%20%22white%22%2C%20%22markerColor%22%3A%20%22red%22%2C%20%22prefic%22%3A%20%22fa%22%2C%20%22prefix%22%3A%20%22glyphicon%22%7D%0A%20%20%20%20%20%20%20%20%20%20%20%20%29%3B%0A%20%20%20%20%20%20%20%20%20%20%20%20marker_93c83124c1f4478ba7305986c0993144.setIcon%28icon_c1eadade09f944358a070bb9ccb0e612%29%3B%0A%20%20%20%20%20%20%20%20%0A%20%20%20%20%0A%20%20%20%20%20%20%20%20var%20popup_3c48b4711e7d439fba8bb42e5ef18829%20%3D%20L.popup%28%7B%22maxWidth%22%3A%20%22100%25%22%7D%29%3B%0A%0A%20%20%20%20%20%20%20%20%0A%20%20%20%20%20%20%20%20%20%20%20%20var%20html_9cc0126b4d3b4da2ae2fd0d4b4078c63%20%3D%20%24%28%60%3Cdiv%20id%3D%22html_9cc0126b4d3b4da2ae2fd0d4b4078c63%22%20style%3D%22width%3A%20100.0%25%3B%20height%3A%20100.0%25%3B%22%3EId%3A%20242%3Cbr%3EVirtual%20Depot%3Cbr%3EDescription%3A%20Virtual%20Depot%3Cbr%3E%3Cbr%3ECounts%3A%202%3C/div%3E%60%29%5B0%5D%3B%0A%20%20%20%20%20%20%20%20%20%20%20%20popup_3c48b4711e7d439fba8bb42e5ef18829.setContent%28html_9cc0126b4d3b4da2ae2fd0d4b4078c63%29%3B%0A%20%20%20%20%20%20%20%20%0A%0A%20%20%20%20%20%20%20%20marker_93c83124c1f4478ba7305986c0993144.bindPopup%28popup_3c48b4711e7d439fba8bb42e5ef18829%29%0A%20%20%20%20%20%20%20%20%3B%0A%0A%20%20%20%20%20%20%20%20%0A%20%20%20%20%0A%20%20%20%20%0A%20%20%20%20%20%20%20%20%20%20%20%20map_66f500360f02406484285f676144cfba.sync%28map_d72f626dd3b84c72a9d2101ff1c40308%29%3B%0A%20%20%20%20%20%20%20%20%20%20%20%20map_d72f626dd3b84c72a9d2101ff1c40308.sync%28map_66f500360f02406484285f676144cfba%29%3B%0A%20%20%20%20%20%20%20%20%0A%3C/script%3E onload=\"this.contentDocument.open();this.contentDocument.write(    decodeURIComponent(this.getAttribute('data-html')));this.contentDocument.close();\" allowfullscreen webkitallowfullscreen mozallowfullscreen></iframe></div></div>"
      ],
      "text/plain": [
       "<folium.plugins.dual_map.DualMap at 0x7fdc7ef29f60>"
      ]
     },
     "execution_count": 43,
     "metadata": {},
     "output_type": "execute_result"
    }
   ],
   "source": [
    "dualMap"
   ]
  },
  {
   "cell_type": "code",
   "execution_count": 44,
   "id": "f2aa1bac",
   "metadata": {},
   "outputs": [],
   "source": [
    "# saving map\n",
    "dualMap.save('DualMap-start and end stations, Id, Counts and descriptions .html')"
   ]
  },
  {
   "cell_type": "markdown",
   "id": "14030f58",
   "metadata": {},
   "source": [
    "- ve vyse uvedene mape mame zobrazene stanice i pocet stanic v jednotlivych castech Edinburgu. V leve casti jsou to startovni (vychozi) stanice a v prave konecna stanice. Pokud rozklikneme na konkretni stanici, zobrazi se Id stanice, popis stanice a jeji jmeno a take cislo, urcujici, kolikrat byla stanice v prubehu existence vyuzita. Stejne tak muzeme videt pocet stanic nachazejicich se v jednotlivych oblastech Edinburghu."
   ]
  },
  {
   "cell_type": "code",
   "execution_count": 45,
   "id": "c9aa6a05",
   "metadata": {},
   "outputs": [],
   "source": [
    "bikes = bikes_data.copy()\n",
    "bikes.set_index('started_at',inplace=True)"
   ]
  },
  {
   "cell_type": "code",
   "execution_count": 46,
   "id": "22af1933",
   "metadata": {},
   "outputs": [
    {
     "data": {
      "text/html": [
       "<div>\n",
       "<style scoped>\n",
       "    .dataframe tbody tr th:only-of-type {\n",
       "        vertical-align: middle;\n",
       "    }\n",
       "\n",
       "    .dataframe tbody tr th {\n",
       "        vertical-align: top;\n",
       "    }\n",
       "\n",
       "    .dataframe thead th {\n",
       "        text-align: right;\n",
       "    }\n",
       "</style>\n",
       "<table border=\"1\" class=\"dataframe\">\n",
       "  <thead>\n",
       "    <tr style=\"text-align: right;\">\n",
       "      <th></th>\n",
       "      <th>index</th>\n",
       "      <th>ended_at</th>\n",
       "      <th>duration in min</th>\n",
       "      <th>start_id</th>\n",
       "      <th>start_name</th>\n",
       "      <th>description_start</th>\n",
       "      <th>s_lat</th>\n",
       "      <th>s_lon</th>\n",
       "      <th>end_id</th>\n",
       "      <th>end_name</th>\n",
       "      <th>...</th>\n",
       "      <th>e_lat</th>\n",
       "      <th>e_lon</th>\n",
       "      <th>date</th>\n",
       "      <th>weekday</th>\n",
       "      <th>weekend</th>\n",
       "      <th>hour</th>\n",
       "      <th>week</th>\n",
       "      <th>month</th>\n",
       "      <th>year</th>\n",
       "      <th>season</th>\n",
       "    </tr>\n",
       "    <tr>\n",
       "      <th>started_at</th>\n",
       "      <th></th>\n",
       "      <th></th>\n",
       "      <th></th>\n",
       "      <th></th>\n",
       "      <th></th>\n",
       "      <th></th>\n",
       "      <th></th>\n",
       "      <th></th>\n",
       "      <th></th>\n",
       "      <th></th>\n",
       "      <th></th>\n",
       "      <th></th>\n",
       "      <th></th>\n",
       "      <th></th>\n",
       "      <th></th>\n",
       "      <th></th>\n",
       "      <th></th>\n",
       "      <th></th>\n",
       "      <th></th>\n",
       "      <th></th>\n",
       "      <th></th>\n",
       "    </tr>\n",
       "  </thead>\n",
       "  <tbody>\n",
       "    <tr>\n",
       "      <th>2018-09-15 08:52:05</th>\n",
       "      <td>0</td>\n",
       "      <td>2018-09-15 09:11:48</td>\n",
       "      <td>19.7</td>\n",
       "      <td>247</td>\n",
       "      <td>Charlotte Square</td>\n",
       "      <td>North Corner of Charlotte Square</td>\n",
       "      <td>55.952335</td>\n",
       "      <td>-3.207101</td>\n",
       "      <td>259</td>\n",
       "      <td>St Andrew Square</td>\n",
       "      <td>...</td>\n",
       "      <td>55.954728</td>\n",
       "      <td>-3.192653</td>\n",
       "      <td>2018-09-15</td>\n",
       "      <td>5</td>\n",
       "      <td>1</td>\n",
       "      <td>8</td>\n",
       "      <td>37</td>\n",
       "      <td>9</td>\n",
       "      <td>2018</td>\n",
       "      <td>2</td>\n",
       "    </tr>\n",
       "  </tbody>\n",
       "</table>\n",
       "<p>1 rows × 21 columns</p>\n",
       "</div>"
      ],
      "text/plain": [
       "                     index            ended_at  duration in min  start_id  \\\n",
       "started_at                                                                  \n",
       "2018-09-15 08:52:05      0 2018-09-15 09:11:48             19.7       247   \n",
       "\n",
       "                           start_name                 description_start  \\\n",
       "started_at                                                                \n",
       "2018-09-15 08:52:05  Charlotte Square  North Corner of Charlotte Square   \n",
       "\n",
       "                         s_lat     s_lon  end_id          end_name  ...  \\\n",
       "started_at                                                          ...   \n",
       "2018-09-15 08:52:05  55.952335 -3.207101     259  St Andrew Square  ...   \n",
       "\n",
       "                         e_lat     e_lon       date weekday  weekend  hour  \\\n",
       "started_at                                                                   \n",
       "2018-09-15 08:52:05  55.954728 -3.192653 2018-09-15       5        1     8   \n",
       "\n",
       "                     week  month  year  season  \n",
       "started_at                                      \n",
       "2018-09-15 08:52:05    37      9  2018       2  \n",
       "\n",
       "[1 rows x 21 columns]"
      ]
     },
     "execution_count": 46,
     "metadata": {},
     "output_type": "execute_result"
    }
   ],
   "source": [
    "bikes.head(1)"
   ]
  },
  {
   "cell_type": "code",
   "execution_count": 47,
   "id": "4b7e9e71",
   "metadata": {},
   "outputs": [],
   "source": [
    "# help us pivoting\n",
    "bikes['type'] = 'stations'"
   ]
  },
  {
   "cell_type": "code",
   "execution_count": 48,
   "id": "d6363c4c",
   "metadata": {
    "scrolled": false
   },
   "outputs": [
    {
     "data": {
      "text/html": [
       "<div>\n",
       "<style scoped>\n",
       "    .dataframe tbody tr th:only-of-type {\n",
       "        vertical-align: middle;\n",
       "    }\n",
       "\n",
       "    .dataframe tbody tr th {\n",
       "        vertical-align: top;\n",
       "    }\n",
       "\n",
       "    .dataframe thead th {\n",
       "        text-align: right;\n",
       "    }\n",
       "</style>\n",
       "<table border=\"1\" class=\"dataframe\">\n",
       "  <thead>\n",
       "    <tr style=\"text-align: right;\">\n",
       "      <th>type</th>\n",
       "      <th>start_id</th>\n",
       "      <th>date</th>\n",
       "      <th>s_lat</th>\n",
       "      <th>s_lon</th>\n",
       "      <th>started_at</th>\n",
       "      <th>stations</th>\n",
       "    </tr>\n",
       "  </thead>\n",
       "  <tbody>\n",
       "    <tr>\n",
       "      <th>0</th>\n",
       "      <td>171</td>\n",
       "      <td>2018-09-17</td>\n",
       "      <td>55.943084</td>\n",
       "      <td>-3.188311</td>\n",
       "      <td>10</td>\n",
       "      <td>3</td>\n",
       "    </tr>\n",
       "    <tr>\n",
       "      <th>1</th>\n",
       "      <td>171</td>\n",
       "      <td>2018-09-17</td>\n",
       "      <td>55.943084</td>\n",
       "      <td>-3.188311</td>\n",
       "      <td>13</td>\n",
       "      <td>1</td>\n",
       "    </tr>\n",
       "    <tr>\n",
       "      <th>2</th>\n",
       "      <td>171</td>\n",
       "      <td>2018-09-17</td>\n",
       "      <td>55.943084</td>\n",
       "      <td>-3.188311</td>\n",
       "      <td>14</td>\n",
       "      <td>4</td>\n",
       "    </tr>\n",
       "    <tr>\n",
       "      <th>3</th>\n",
       "      <td>171</td>\n",
       "      <td>2018-09-17</td>\n",
       "      <td>55.943084</td>\n",
       "      <td>-3.188311</td>\n",
       "      <td>15</td>\n",
       "      <td>9</td>\n",
       "    </tr>\n",
       "    <tr>\n",
       "      <th>4</th>\n",
       "      <td>171</td>\n",
       "      <td>2018-09-17</td>\n",
       "      <td>55.943084</td>\n",
       "      <td>-3.188311</td>\n",
       "      <td>16</td>\n",
       "      <td>8</td>\n",
       "    </tr>\n",
       "    <tr>\n",
       "      <th>...</th>\n",
       "      <td>...</td>\n",
       "      <td>...</td>\n",
       "      <td>...</td>\n",
       "      <td>...</td>\n",
       "      <td>...</td>\n",
       "      <td>...</td>\n",
       "    </tr>\n",
       "    <tr>\n",
       "      <th>273355</th>\n",
       "      <td>2268</td>\n",
       "      <td>2021-06-30</td>\n",
       "      <td>55.956535</td>\n",
       "      <td>-3.186248</td>\n",
       "      <td>16</td>\n",
       "      <td>1</td>\n",
       "    </tr>\n",
       "    <tr>\n",
       "      <th>273356</th>\n",
       "      <td>2268</td>\n",
       "      <td>2021-06-30</td>\n",
       "      <td>55.956535</td>\n",
       "      <td>-3.186248</td>\n",
       "      <td>17</td>\n",
       "      <td>2</td>\n",
       "    </tr>\n",
       "    <tr>\n",
       "      <th>273357</th>\n",
       "      <td>2268</td>\n",
       "      <td>2021-06-30</td>\n",
       "      <td>55.956535</td>\n",
       "      <td>-3.186248</td>\n",
       "      <td>18</td>\n",
       "      <td>1</td>\n",
       "    </tr>\n",
       "    <tr>\n",
       "      <th>273358</th>\n",
       "      <td>2268</td>\n",
       "      <td>2021-06-30</td>\n",
       "      <td>55.956535</td>\n",
       "      <td>-3.186248</td>\n",
       "      <td>20</td>\n",
       "      <td>1</td>\n",
       "    </tr>\n",
       "    <tr>\n",
       "      <th>273359</th>\n",
       "      <td>2268</td>\n",
       "      <td>2021-06-30</td>\n",
       "      <td>55.956535</td>\n",
       "      <td>-3.186248</td>\n",
       "      <td>21</td>\n",
       "      <td>4</td>\n",
       "    </tr>\n",
       "  </tbody>\n",
       "</table>\n",
       "<p>273360 rows × 6 columns</p>\n",
       "</div>"
      ],
      "text/plain": [
       "type    start_id       date      s_lat     s_lon  started_at  stations\n",
       "0            171 2018-09-17  55.943084 -3.188311          10         3\n",
       "1            171 2018-09-17  55.943084 -3.188311          13         1\n",
       "2            171 2018-09-17  55.943084 -3.188311          14         4\n",
       "3            171 2018-09-17  55.943084 -3.188311          15         9\n",
       "4            171 2018-09-17  55.943084 -3.188311          16         8\n",
       "...          ...        ...        ...       ...         ...       ...\n",
       "273355      2268 2021-06-30  55.956535 -3.186248          16         1\n",
       "273356      2268 2021-06-30  55.956535 -3.186248          17         2\n",
       "273357      2268 2021-06-30  55.956535 -3.186248          18         1\n",
       "273358      2268 2021-06-30  55.956535 -3.186248          20         1\n",
       "273359      2268 2021-06-30  55.956535 -3.186248          21         4\n",
       "\n",
       "[273360 rows x 6 columns]"
      ]
     },
     "execution_count": 48,
     "metadata": {},
     "output_type": "execute_result"
    }
   ],
   "source": [
    "# aggregate number of trips for each start station by hour of the day\n",
    "start = bikes.pivot_table('duration in min',\n",
    "                        index=['start_id',\n",
    "                               'date',\n",
    "                              's_lat',\n",
    "                              's_lon',\n",
    "                              bikes.index.hour],\n",
    "                        columns='type',\n",
    "                        aggfunc='count').reset_index()\n",
    "start"
   ]
  },
  {
   "cell_type": "code",
   "execution_count": 49,
   "id": "7c5433b1",
   "metadata": {},
   "outputs": [
    {
     "data": {
      "text/html": [
       "<div>\n",
       "<style scoped>\n",
       "    .dataframe tbody tr th:only-of-type {\n",
       "        vertical-align: middle;\n",
       "    }\n",
       "\n",
       "    .dataframe tbody tr th {\n",
       "        vertical-align: top;\n",
       "    }\n",
       "\n",
       "    .dataframe thead th {\n",
       "        text-align: right;\n",
       "    }\n",
       "</style>\n",
       "<table border=\"1\" class=\"dataframe\">\n",
       "  <thead>\n",
       "    <tr style=\"text-align: right;\">\n",
       "      <th></th>\n",
       "      <th>start_id</th>\n",
       "      <th>date</th>\n",
       "      <th>lat</th>\n",
       "      <th>lon</th>\n",
       "      <th>hour</th>\n",
       "      <th>stations</th>\n",
       "      <th>fillColor</th>\n",
       "    </tr>\n",
       "  </thead>\n",
       "  <tbody>\n",
       "    <tr>\n",
       "      <th>0</th>\n",
       "      <td>171</td>\n",
       "      <td>2018-09-17</td>\n",
       "      <td>55.943084</td>\n",
       "      <td>-3.188311</td>\n",
       "      <td>10</td>\n",
       "      <td>3</td>\n",
       "      <td>#55aa7f</td>\n",
       "    </tr>\n",
       "    <tr>\n",
       "      <th>1</th>\n",
       "      <td>171</td>\n",
       "      <td>2018-09-17</td>\n",
       "      <td>55.943084</td>\n",
       "      <td>-3.188311</td>\n",
       "      <td>13</td>\n",
       "      <td>1</td>\n",
       "      <td>#55aa7f</td>\n",
       "    </tr>\n",
       "    <tr>\n",
       "      <th>2</th>\n",
       "      <td>171</td>\n",
       "      <td>2018-09-17</td>\n",
       "      <td>55.943084</td>\n",
       "      <td>-3.188311</td>\n",
       "      <td>14</td>\n",
       "      <td>4</td>\n",
       "      <td>#55aa7f</td>\n",
       "    </tr>\n",
       "    <tr>\n",
       "      <th>3</th>\n",
       "      <td>171</td>\n",
       "      <td>2018-09-17</td>\n",
       "      <td>55.943084</td>\n",
       "      <td>-3.188311</td>\n",
       "      <td>15</td>\n",
       "      <td>9</td>\n",
       "      <td>#55aa7f</td>\n",
       "    </tr>\n",
       "    <tr>\n",
       "      <th>4</th>\n",
       "      <td>171</td>\n",
       "      <td>2018-09-17</td>\n",
       "      <td>55.943084</td>\n",
       "      <td>-3.188311</td>\n",
       "      <td>16</td>\n",
       "      <td>8</td>\n",
       "      <td>#55aa7f</td>\n",
       "    </tr>\n",
       "    <tr>\n",
       "      <th>...</th>\n",
       "      <td>...</td>\n",
       "      <td>...</td>\n",
       "      <td>...</td>\n",
       "      <td>...</td>\n",
       "      <td>...</td>\n",
       "      <td>...</td>\n",
       "      <td>...</td>\n",
       "    </tr>\n",
       "    <tr>\n",
       "      <th>273355</th>\n",
       "      <td>2268</td>\n",
       "      <td>2021-06-30</td>\n",
       "      <td>55.956535</td>\n",
       "      <td>-3.186248</td>\n",
       "      <td>16</td>\n",
       "      <td>1</td>\n",
       "      <td>#55aa7f</td>\n",
       "    </tr>\n",
       "    <tr>\n",
       "      <th>273356</th>\n",
       "      <td>2268</td>\n",
       "      <td>2021-06-30</td>\n",
       "      <td>55.956535</td>\n",
       "      <td>-3.186248</td>\n",
       "      <td>17</td>\n",
       "      <td>2</td>\n",
       "      <td>#55aa7f</td>\n",
       "    </tr>\n",
       "    <tr>\n",
       "      <th>273357</th>\n",
       "      <td>2268</td>\n",
       "      <td>2021-06-30</td>\n",
       "      <td>55.956535</td>\n",
       "      <td>-3.186248</td>\n",
       "      <td>18</td>\n",
       "      <td>1</td>\n",
       "      <td>#55aa7f</td>\n",
       "    </tr>\n",
       "    <tr>\n",
       "      <th>273358</th>\n",
       "      <td>2268</td>\n",
       "      <td>2021-06-30</td>\n",
       "      <td>55.956535</td>\n",
       "      <td>-3.186248</td>\n",
       "      <td>20</td>\n",
       "      <td>1</td>\n",
       "      <td>#55aa7f</td>\n",
       "    </tr>\n",
       "    <tr>\n",
       "      <th>273359</th>\n",
       "      <td>2268</td>\n",
       "      <td>2021-06-30</td>\n",
       "      <td>55.956535</td>\n",
       "      <td>-3.186248</td>\n",
       "      <td>21</td>\n",
       "      <td>4</td>\n",
       "      <td>#55aa7f</td>\n",
       "    </tr>\n",
       "  </tbody>\n",
       "</table>\n",
       "<p>273360 rows × 7 columns</p>\n",
       "</div>"
      ],
      "text/plain": [
       "        start_id       date        lat       lon  hour  stations fillColor\n",
       "0            171 2018-09-17  55.943084 -3.188311    10         3   #55aa7f\n",
       "1            171 2018-09-17  55.943084 -3.188311    13         1   #55aa7f\n",
       "2            171 2018-09-17  55.943084 -3.188311    14         4   #55aa7f\n",
       "3            171 2018-09-17  55.943084 -3.188311    15         9   #55aa7f\n",
       "4            171 2018-09-17  55.943084 -3.188311    16         8   #55aa7f\n",
       "...          ...        ...        ...       ...   ...       ...       ...\n",
       "273355      2268 2021-06-30  55.956535 -3.186248    16         1   #55aa7f\n",
       "273356      2268 2021-06-30  55.956535 -3.186248    17         2   #55aa7f\n",
       "273357      2268 2021-06-30  55.956535 -3.186248    18         1   #55aa7f\n",
       "273358      2268 2021-06-30  55.956535 -3.186248    20         1   #55aa7f\n",
       "273359      2268 2021-06-30  55.956535 -3.186248    21         4   #55aa7f\n",
       "\n",
       "[273360 rows x 7 columns]"
      ]
     },
     "execution_count": 49,
     "metadata": {},
     "output_type": "execute_result"
    }
   ],
   "source": [
    "start.columns = ['start_id','date','lat','lon','hour','stations']\n",
    "\n",
    "# define color\n",
    "start['fillColor'] = '#55aa7f'\n",
    "\n",
    "# Stop with less than one daily ride\n",
    "# different color\n",
    "start.loc[start['stations']<1, 'fillColor'] = '#ff0000'\n",
    "\n",
    "start"
   ]
  },
  {
   "cell_type": "markdown",
   "id": "ac3cd6d0",
   "metadata": {},
   "source": [
    "- V horni pomocne dataframe mame upravenou puvodni dataframe tak, ze muzeme videt, kolikrat byla vyuzita konkretni pocatecni stanice v jednotlivych hodinach v prubehu kazdeho dne. Pokud byla stanice vyuzita min jak dvakrat mame ji oznacenou jinou barvou nez pokud byla vyuzita vickrat. Odvodila jsem to od toho, ze prumer vychazel 2 krat provedena vypujcka pro kazdou stanici v hodine."
   ]
  },
  {
   "cell_type": "code",
   "execution_count": 50,
   "id": "3021cb70",
   "metadata": {},
   "outputs": [],
   "source": [
    "e_map = bikes.reset_index().set_index('ended_at')"
   ]
  },
  {
   "cell_type": "code",
   "execution_count": 51,
   "id": "d6795ee5",
   "metadata": {},
   "outputs": [
    {
     "data": {
      "text/html": [
       "<div>\n",
       "<style scoped>\n",
       "    .dataframe tbody tr th:only-of-type {\n",
       "        vertical-align: middle;\n",
       "    }\n",
       "\n",
       "    .dataframe tbody tr th {\n",
       "        vertical-align: top;\n",
       "    }\n",
       "\n",
       "    .dataframe thead th {\n",
       "        text-align: right;\n",
       "    }\n",
       "</style>\n",
       "<table border=\"1\" class=\"dataframe\">\n",
       "  <thead>\n",
       "    <tr style=\"text-align: right;\">\n",
       "      <th>type</th>\n",
       "      <th>end_id</th>\n",
       "      <th>date</th>\n",
       "      <th>e_lat</th>\n",
       "      <th>e_lon</th>\n",
       "      <th>started_at</th>\n",
       "      <th>stations</th>\n",
       "    </tr>\n",
       "  </thead>\n",
       "  <tbody>\n",
       "    <tr>\n",
       "      <th>0</th>\n",
       "      <td>171</td>\n",
       "      <td>2018-09-17</td>\n",
       "      <td>55.943084</td>\n",
       "      <td>-3.188311</td>\n",
       "      <td>9</td>\n",
       "      <td>1</td>\n",
       "    </tr>\n",
       "    <tr>\n",
       "      <th>1</th>\n",
       "      <td>171</td>\n",
       "      <td>2018-09-17</td>\n",
       "      <td>55.943084</td>\n",
       "      <td>-3.188311</td>\n",
       "      <td>11</td>\n",
       "      <td>1</td>\n",
       "    </tr>\n",
       "    <tr>\n",
       "      <th>2</th>\n",
       "      <td>171</td>\n",
       "      <td>2018-09-17</td>\n",
       "      <td>55.943084</td>\n",
       "      <td>-3.188311</td>\n",
       "      <td>12</td>\n",
       "      <td>1</td>\n",
       "    </tr>\n",
       "    <tr>\n",
       "      <th>3</th>\n",
       "      <td>171</td>\n",
       "      <td>2018-09-17</td>\n",
       "      <td>55.943084</td>\n",
       "      <td>-3.188311</td>\n",
       "      <td>13</td>\n",
       "      <td>3</td>\n",
       "    </tr>\n",
       "    <tr>\n",
       "      <th>4</th>\n",
       "      <td>171</td>\n",
       "      <td>2018-09-17</td>\n",
       "      <td>55.943084</td>\n",
       "      <td>-3.188311</td>\n",
       "      <td>14</td>\n",
       "      <td>3</td>\n",
       "    </tr>\n",
       "    <tr>\n",
       "      <th>...</th>\n",
       "      <td>...</td>\n",
       "      <td>...</td>\n",
       "      <td>...</td>\n",
       "      <td>...</td>\n",
       "      <td>...</td>\n",
       "      <td>...</td>\n",
       "    </tr>\n",
       "    <tr>\n",
       "      <th>272778</th>\n",
       "      <td>2268</td>\n",
       "      <td>2021-06-30</td>\n",
       "      <td>55.956535</td>\n",
       "      <td>-3.186248</td>\n",
       "      <td>11</td>\n",
       "      <td>4</td>\n",
       "    </tr>\n",
       "    <tr>\n",
       "      <th>272779</th>\n",
       "      <td>2268</td>\n",
       "      <td>2021-06-30</td>\n",
       "      <td>55.956535</td>\n",
       "      <td>-3.186248</td>\n",
       "      <td>12</td>\n",
       "      <td>1</td>\n",
       "    </tr>\n",
       "    <tr>\n",
       "      <th>272780</th>\n",
       "      <td>2268</td>\n",
       "      <td>2021-06-30</td>\n",
       "      <td>55.956535</td>\n",
       "      <td>-3.186248</td>\n",
       "      <td>15</td>\n",
       "      <td>1</td>\n",
       "    </tr>\n",
       "    <tr>\n",
       "      <th>272781</th>\n",
       "      <td>2268</td>\n",
       "      <td>2021-06-30</td>\n",
       "      <td>55.956535</td>\n",
       "      <td>-3.186248</td>\n",
       "      <td>18</td>\n",
       "      <td>2</td>\n",
       "    </tr>\n",
       "    <tr>\n",
       "      <th>272782</th>\n",
       "      <td>2268</td>\n",
       "      <td>2021-06-30</td>\n",
       "      <td>55.956535</td>\n",
       "      <td>-3.186248</td>\n",
       "      <td>19</td>\n",
       "      <td>1</td>\n",
       "    </tr>\n",
       "  </tbody>\n",
       "</table>\n",
       "<p>272783 rows × 6 columns</p>\n",
       "</div>"
      ],
      "text/plain": [
       "type    end_id       date      e_lat     e_lon  started_at  stations\n",
       "0          171 2018-09-17  55.943084 -3.188311           9         1\n",
       "1          171 2018-09-17  55.943084 -3.188311          11         1\n",
       "2          171 2018-09-17  55.943084 -3.188311          12         1\n",
       "3          171 2018-09-17  55.943084 -3.188311          13         3\n",
       "4          171 2018-09-17  55.943084 -3.188311          14         3\n",
       "...        ...        ...        ...       ...         ...       ...\n",
       "272778    2268 2021-06-30  55.956535 -3.186248          11         4\n",
       "272779    2268 2021-06-30  55.956535 -3.186248          12         1\n",
       "272780    2268 2021-06-30  55.956535 -3.186248          15         1\n",
       "272781    2268 2021-06-30  55.956535 -3.186248          18         2\n",
       "272782    2268 2021-06-30  55.956535 -3.186248          19         1\n",
       "\n",
       "[272783 rows x 6 columns]"
      ]
     },
     "execution_count": 51,
     "metadata": {},
     "output_type": "execute_result"
    }
   ],
   "source": [
    "# aggregate number of trips for each start station by hour of the day\n",
    "end = e_map.pivot_table('duration in min',\n",
    "                        index=['end_id',\n",
    "                               'date',\n",
    "                              'e_lat',\n",
    "                              'e_lon',\n",
    "                              bikes.index.hour],\n",
    "                        columns='type',\n",
    "                        aggfunc='count').reset_index()\n",
    "\n",
    "end"
   ]
  },
  {
   "cell_type": "code",
   "execution_count": 52,
   "id": "7cf09731",
   "metadata": {},
   "outputs": [
    {
     "data": {
      "text/html": [
       "<div>\n",
       "<style scoped>\n",
       "    .dataframe tbody tr th:only-of-type {\n",
       "        vertical-align: middle;\n",
       "    }\n",
       "\n",
       "    .dataframe tbody tr th {\n",
       "        vertical-align: top;\n",
       "    }\n",
       "\n",
       "    .dataframe thead th {\n",
       "        text-align: right;\n",
       "    }\n",
       "</style>\n",
       "<table border=\"1\" class=\"dataframe\">\n",
       "  <thead>\n",
       "    <tr style=\"text-align: right;\">\n",
       "      <th></th>\n",
       "      <th>end_id</th>\n",
       "      <th>date</th>\n",
       "      <th>lat</th>\n",
       "      <th>lon</th>\n",
       "      <th>hour</th>\n",
       "      <th>stations</th>\n",
       "      <th>fillColor</th>\n",
       "    </tr>\n",
       "  </thead>\n",
       "  <tbody>\n",
       "    <tr>\n",
       "      <th>0</th>\n",
       "      <td>171</td>\n",
       "      <td>2018-09-17</td>\n",
       "      <td>55.943084</td>\n",
       "      <td>-3.188311</td>\n",
       "      <td>9</td>\n",
       "      <td>1</td>\n",
       "      <td>#00007f</td>\n",
       "    </tr>\n",
       "    <tr>\n",
       "      <th>1</th>\n",
       "      <td>171</td>\n",
       "      <td>2018-09-17</td>\n",
       "      <td>55.943084</td>\n",
       "      <td>-3.188311</td>\n",
       "      <td>11</td>\n",
       "      <td>1</td>\n",
       "      <td>#00007f</td>\n",
       "    </tr>\n",
       "    <tr>\n",
       "      <th>2</th>\n",
       "      <td>171</td>\n",
       "      <td>2018-09-17</td>\n",
       "      <td>55.943084</td>\n",
       "      <td>-3.188311</td>\n",
       "      <td>12</td>\n",
       "      <td>1</td>\n",
       "      <td>#00007f</td>\n",
       "    </tr>\n",
       "    <tr>\n",
       "      <th>3</th>\n",
       "      <td>171</td>\n",
       "      <td>2018-09-17</td>\n",
       "      <td>55.943084</td>\n",
       "      <td>-3.188311</td>\n",
       "      <td>13</td>\n",
       "      <td>3</td>\n",
       "      <td>#00007f</td>\n",
       "    </tr>\n",
       "    <tr>\n",
       "      <th>4</th>\n",
       "      <td>171</td>\n",
       "      <td>2018-09-17</td>\n",
       "      <td>55.943084</td>\n",
       "      <td>-3.188311</td>\n",
       "      <td>14</td>\n",
       "      <td>3</td>\n",
       "      <td>#00007f</td>\n",
       "    </tr>\n",
       "    <tr>\n",
       "      <th>...</th>\n",
       "      <td>...</td>\n",
       "      <td>...</td>\n",
       "      <td>...</td>\n",
       "      <td>...</td>\n",
       "      <td>...</td>\n",
       "      <td>...</td>\n",
       "      <td>...</td>\n",
       "    </tr>\n",
       "    <tr>\n",
       "      <th>272778</th>\n",
       "      <td>2268</td>\n",
       "      <td>2021-06-30</td>\n",
       "      <td>55.956535</td>\n",
       "      <td>-3.186248</td>\n",
       "      <td>11</td>\n",
       "      <td>4</td>\n",
       "      <td>#00007f</td>\n",
       "    </tr>\n",
       "    <tr>\n",
       "      <th>272779</th>\n",
       "      <td>2268</td>\n",
       "      <td>2021-06-30</td>\n",
       "      <td>55.956535</td>\n",
       "      <td>-3.186248</td>\n",
       "      <td>12</td>\n",
       "      <td>1</td>\n",
       "      <td>#00007f</td>\n",
       "    </tr>\n",
       "    <tr>\n",
       "      <th>272780</th>\n",
       "      <td>2268</td>\n",
       "      <td>2021-06-30</td>\n",
       "      <td>55.956535</td>\n",
       "      <td>-3.186248</td>\n",
       "      <td>15</td>\n",
       "      <td>1</td>\n",
       "      <td>#00007f</td>\n",
       "    </tr>\n",
       "    <tr>\n",
       "      <th>272781</th>\n",
       "      <td>2268</td>\n",
       "      <td>2021-06-30</td>\n",
       "      <td>55.956535</td>\n",
       "      <td>-3.186248</td>\n",
       "      <td>18</td>\n",
       "      <td>2</td>\n",
       "      <td>#00007f</td>\n",
       "    </tr>\n",
       "    <tr>\n",
       "      <th>272782</th>\n",
       "      <td>2268</td>\n",
       "      <td>2021-06-30</td>\n",
       "      <td>55.956535</td>\n",
       "      <td>-3.186248</td>\n",
       "      <td>19</td>\n",
       "      <td>1</td>\n",
       "      <td>#00007f</td>\n",
       "    </tr>\n",
       "  </tbody>\n",
       "</table>\n",
       "<p>272783 rows × 7 columns</p>\n",
       "</div>"
      ],
      "text/plain": [
       "        end_id       date        lat       lon  hour  stations fillColor\n",
       "0          171 2018-09-17  55.943084 -3.188311     9         1   #00007f\n",
       "1          171 2018-09-17  55.943084 -3.188311    11         1   #00007f\n",
       "2          171 2018-09-17  55.943084 -3.188311    12         1   #00007f\n",
       "3          171 2018-09-17  55.943084 -3.188311    13         3   #00007f\n",
       "4          171 2018-09-17  55.943084 -3.188311    14         3   #00007f\n",
       "...        ...        ...        ...       ...   ...       ...       ...\n",
       "272778    2268 2021-06-30  55.956535 -3.186248    11         4   #00007f\n",
       "272779    2268 2021-06-30  55.956535 -3.186248    12         1   #00007f\n",
       "272780    2268 2021-06-30  55.956535 -3.186248    15         1   #00007f\n",
       "272781    2268 2021-06-30  55.956535 -3.186248    18         2   #00007f\n",
       "272782    2268 2021-06-30  55.956535 -3.186248    19         1   #00007f\n",
       "\n",
       "[272783 rows x 7 columns]"
      ]
     },
     "execution_count": 52,
     "metadata": {},
     "output_type": "execute_result"
    }
   ],
   "source": [
    "end.columns = ['end_id','date','lat','lon','hour','stations']\n",
    "end['fillColor'] = '#00007f'\n",
    "end.loc[end['stations']<1,'fillColor'] = '#ffa10b'\n",
    "\n",
    "end"
   ]
  },
  {
   "cell_type": "code",
   "execution_count": 53,
   "id": "6c21a09f",
   "metadata": {},
   "outputs": [],
   "source": [
    "def create_data(df):\n",
    "    data = []\n",
    "    \n",
    "    for _,row in df.iterrows(): # iterace skrz radky\n",
    "        d = {                   # tvorba d \n",
    "            'type':'Feature',\n",
    "            'geometry':{        # tvorba geometry point,vezme lat a lon z dataframe\n",
    "                'type':'Point',\n",
    "                'coordinates':[row['lon'],row['lat']]\n",
    "            },\n",
    "            'properties': {   # definujeme vlastnosti dalsich promennych\n",
    "                'time':pd.to_datetime(row['hour'],unit='h').__str__(),\n",
    "                'style':{'color':''},\n",
    "                'icon':'circle',\n",
    "                'iconstyle':{\n",
    "                    'fillColor':row['fillColor'],\n",
    "                    'fillOpacity': 0.8,\n",
    "                    'stroke':'true',\n",
    "                    'radius': row['stations'] + 5\n",
    "                }\n",
    "            }\n",
    "        }\n",
    "        data.append(d)\n",
    "    return data\n"
   ]
  },
  {
   "cell_type": "code",
   "execution_count": 54,
   "id": "86d563b7",
   "metadata": {},
   "outputs": [],
   "source": [
    "start_geojson = create_data(start)"
   ]
  },
  {
   "cell_type": "code",
   "execution_count": 55,
   "id": "4e918dbe",
   "metadata": {},
   "outputs": [
    {
     "data": {
      "text/plain": [
       "{'type': 'Feature',\n",
       " 'geometry': {'type': 'Point',\n",
       "  'coordinates': [-3.188311072722399, 55.94308406301113]},\n",
       " 'properties': {'time': '1970-01-01 10:00:00',\n",
       "  'style': {'color': ''},\n",
       "  'icon': 'circle',\n",
       "  'iconstyle': {'fillColor': '#55aa7f',\n",
       "   'fillOpacity': 0.8,\n",
       "   'stroke': 'true',\n",
       "   'radius': 8}}}"
      ]
     },
     "execution_count": 55,
     "metadata": {},
     "output_type": "execute_result"
    }
   ],
   "source": [
    "start_geojson[0]"
   ]
  },
  {
   "cell_type": "code",
   "execution_count": null,
   "id": "50ea7b34",
   "metadata": {},
   "outputs": [],
   "source": [
    "end_geojson = create_data(end)"
   ]
  },
  {
   "cell_type": "code",
   "execution_count": null,
   "id": "b3b86391",
   "metadata": {},
   "outputs": [],
   "source": [
    "from folium.plugins import TimestampedGeoJson\n",
    "\n",
    "dualMap2 = DualMap(location=[55.953251, -3.1882675],tiles = 'cartodbpositron',\n",
    "                 zoom_start = 14)\n",
    "\n",
    "TimestampedGeoJson(start_geojson,\n",
    "                  period = 'PT1H',\n",
    "                  duration = 'PT1M',\n",
    "                  transition_time = 1000,\n",
    "                  auto_play = True).add_to(dualMap2.m1)\n",
    "TimestampedGeoJson(end_geojson,\n",
    "                  period = 'PT1H',\n",
    "                  duration = 'PT1M',\n",
    "                  transition_time = 1000,\n",
    "                  auto_play = True).add_to(dualMap2.m2)\n",
    "dualMap2"
   ]
  },
  {
   "cell_type": "code",
   "execution_count": null,
   "id": "aecea7f5",
   "metadata": {},
   "outputs": [],
   "source": [
    "dualMap2.save('DualMap-interactive map over hours.html')"
   ]
  },
  {
   "cell_type": "markdown",
   "id": "fa04ad7f",
   "metadata": {},
   "source": [
    "- ve vyse zobrazenem interaktivnim grafu vidime vyvoj vypujcek v prubehu denni doby. V leve casti jsou pocatecni stanice a v prave jsou konecne stanice."
   ]
  },
  {
   "cell_type": "markdown",
   "id": "83ed8b41",
   "metadata": {},
   "source": [
    "# Distance\n",
    "- spocitame vzdalenosti a vytvorime novy sloupce k bikes_data, kde budou spocteny vzdalenosti mezi jednotlivymi stanicemi v Km. K vypoctu vzdalenosti si vytvorime samostatnou funkci a pouzijeme Haversinovu formuli, ktera vyuzije k vypoctu vzdalenosti udaje o langtitude a longtitude."
   ]
  },
  {
   "cell_type": "code",
   "execution_count": null,
   "id": "224347c0",
   "metadata": {
    "scrolled": true
   },
   "outputs": [],
   "source": [
    "bikes_data.head(1)"
   ]
  },
  {
   "cell_type": "code",
   "execution_count": null,
   "id": "1c5c0329",
   "metadata": {},
   "outputs": [],
   "source": [
    "# Create a fuction to calculate Distance between langtitude and longtitude both stations\n",
    "def haversine_np(lon1,lat1,lon2,lat2):\n",
    "    \"\"\"\n",
    "    Calculate the great circle distance between two points\n",
    "    on the earth (specified in decimal degrees)\n",
    "\n",
    "    All args must be of equal length.    \n",
    "\n",
    "    \"\"\"\n",
    "    lon1, lat1, lon2, lat2 = map(np.radians, [lon1, lat1, lon2, lat2])\n",
    "\n",
    "    dlon = lon2 - lon1\n",
    "    dlat = lat2 - lat1\n",
    "\n",
    "    a = np.sin(dlat/2.0)**2 + np.cos(lat1) * np.cos(lat2) * np.sin(dlon/2.0)**2\n",
    "\n",
    "    c = 2 * np.arcsin(np.sqrt(a))\n",
    "    km = 6367 * c\n",
    "    return km"
   ]
  },
  {
   "cell_type": "code",
   "execution_count": null,
   "id": "3c04d63b",
   "metadata": {},
   "outputs": [],
   "source": [
    "# tvorba noveho sloupce \"Distance in Km\" a aplikace funkce haversine_np\n",
    "bikes_data['distance in Km'] = round(haversine_np(bikes_data['s_lon'],bikes_data['s_lat'],bikes_data['e_lon'],bikes_data['e_lat']),1)"
   ]
  },
  {
   "cell_type": "code",
   "execution_count": null,
   "id": "ceb154bc",
   "metadata": {},
   "outputs": [],
   "source": [
    "bikes_data.head(1)"
   ]
  },
  {
   "cell_type": "markdown",
   "id": "8ecfcc43",
   "metadata": {},
   "source": [
    "- po kontrole, kdy si vypiseme prvni radek vidime, ze nam pribyl sloupec 'distance in Km' a jako prvni vzdalenos je zapsano 0.9 Km, Id pocatecni stanice je 247 a jmeno Charlotte Spuare a Id konecne je 259 a jmeno St Andrew Squre. Delka vypujcky na tuto vzdalenost trvala 19.7 minut.\n",
    "- nyni muzeme provest zakladni deskriptivni statistiku na sloupci 'distanece in Km'"
   ]
  },
  {
   "cell_type": "code",
   "execution_count": null,
   "id": "d77e001e",
   "metadata": {},
   "outputs": [],
   "source": [
    "bikes_data['distance in Km'].describe()"
   ]
  },
  {
   "cell_type": "code",
   "execution_count": null,
   "id": "d0c5215e",
   "metadata": {},
   "outputs": [],
   "source": [
    "sort_distance = bikes_data.sort_values('distance in Km',ascending=False) # sort values from largest to smallest distance"
   ]
  },
  {
   "cell_type": "code",
   "execution_count": null,
   "id": "ce4fe8a8",
   "metadata": {},
   "outputs": [],
   "source": [
    "sort_distance"
   ]
  },
  {
   "cell_type": "markdown",
   "id": "f8c718f5",
   "metadata": {},
   "source": [
    "- prave jsem seradili vzdalenosti od nejvetsi po nejmensi. Muzeme si vsimnout ze nejvetsi vzdalenosti jsou pouze prvni tri hodnoty. A uz od prvniho pohledu nam tyto hodnoty nedavaji smysl. Muzeme to zduvodnit nekolika zpusoby:\n",
    "- muzeme mit spatne udane hodnoty koncove Langtitude i Longtitude - ve svetle vsech udaju je mozne, ze zde doslo ke spatnemu zapisu longtitude pro konecnou stanici. Konstatuji to z toho duvodu, ze vsechny ostatni end_longtitude se nachazeji na hodnote -3 a dle google map hodnota, ktera se nachazi v teto dataframe znamena, ze konecna stanice se nachazi v centru Liverpoolu. Mozna by to bylo mozne, ale neodpovida tomu sloupec s hodnotou duration. Z toho duvodu tyto hodnoty odstranim a nebudu je brat v potaz.\n",
    "\n",
    "- dale mame spoustu hodnot, kde distance je s hodnotou 0, ale mame zde durations, ktera neni v nulovych hodnotach. Proto si dovolim usoudit, ze na techto stanicich byly kola zapujceny a zaroven na stejne stanici i vraceny."
   ]
  },
  {
   "cell_type": "code",
   "execution_count": null,
   "id": "2e17e8a8",
   "metadata": {},
   "outputs": [],
   "source": [
    "distance = bikes_data[(bikes_data['distance in Km'] < 280)]\n",
    "distance['distance in Km'].describe()"
   ]
  },
  {
   "cell_type": "code",
   "execution_count": null,
   "id": "f59adb30",
   "metadata": {},
   "outputs": [],
   "source": [
    "max_distance = distance[(distance['distance in Km'] == distance['distance in Km'].max())]\n",
    "max_distance"
   ]
  },
  {
   "cell_type": "markdown",
   "id": "48522688",
   "metadata": {},
   "source": [
    "- ze statistiky nam vyplyva ze nejmensi hodnota vzdalenosti je 0 Km a maximalni vzdalenost je 18.4 Km. Prumerne to vychazi na 1.9 Km. Tam kde je vzdalenost 0 Km ale je zde uvedena doba trvani z meho pohledu se jedna o situaci, kdy se kolo vypujci i vrati ve stejne stanici( stanice se stejnym Id). Muzeme taky videt, mezi kterymi stanicemi je vzdalenost nejdelsi"
   ]
  },
  {
   "cell_type": "code",
   "execution_count": null,
   "id": "9b5adf15",
   "metadata": {},
   "outputs": [],
   "source": [
    "fig,axs = plt.subplots(4,1,figsize=(16,14))\n",
    "\n",
    "ax1 = sns.histplot(data=distance,x='distance in Km',bins=20,ax = axs[0])\n",
    "ax1.set_xlabel('Frequency Distance')\n",
    "\n",
    "ax2 = sns.barplot(data=distance, x='weekday',y='distance in Km',ax = axs[1])\n",
    "ax2.set_xticklabels([\"Mon\",\"Tue\",\"Wed\",\"Thu\",\"Fri\",\"Sat\",\"Sun\"])\n",
    "ax2.set_xlabel('Distance by weekday')\n",
    "\n",
    "ax3 = sns.lineplot(data=distance,x='date',y='distance in Km',hue='date',ax=axs[2])\n",
    "ax3.get_legend().remove()\n",
    "ax3.set_xlabel('Distance by date')\n",
    "\n",
    "ax4 = sns.barplot(data=distance, x='month',y='distance in Km',hue='weekday',ax=axs[3])\n",
    "ax4.legend([\"Mon\",\"Tue\",\"Wed\",\"Thu\",\"Fri\",\"Sat\",\"Sun\"],bbox_to_anchor=(1.05, 1), loc='upper left', borderaxespad=0)\n",
    "ax4.set_xlabel('Distance by month')\n",
    "\n",
    "plt.suptitle('Distance',va='center',fontsize=20,color='blue')\n",
    "plt.subplots_adjust(hspace = 0.6)\n",
    "plt.tight_layout()\n",
    "\n",
    "plt.savefig('Distance_graf_png.png')"
   ]
  },
  {
   "cell_type": "markdown",
   "id": "b0220361",
   "metadata": {},
   "source": [
    "- ve vyse uvedenem grafu mame zobrazenou vzdalenost a jeji analyzu. Subplot_1 zobrazuje vzdalenost a mnozstvi vyskytu. Nejvyse casta vzdalenost je zhruba do 1Km, nasleduje vzdalenost do 2Km a postupne se snizuje. Subplot_2 nam zase vyjadruje vzdalenost v souvislosti na den v tydnu, muzeme si vsimnout ze o vikendu je vzdalenost nepatrne vetsi. Subplots_3 vyjadruje vyvoj vzdalenosti k datu pres cele sledovane obdobi. Subplots_4 je nakonec vzdalenost a jeji pohyb v prubehu mesicu a pro konkretni den v tydnu - letni mesice maji o vikendu (Sobota, Nedele) vetsi pocet vzdalenosti nez zimni mesice."
   ]
  },
  {
   "cell_type": "markdown",
   "id": "8db13702",
   "metadata": {},
   "source": [
    "# Duration"
   ]
  },
  {
   "cell_type": "markdown",
   "id": "2b26bedd",
   "metadata": {},
   "source": [
    "- v teto casti analyzy se podivame na dobu trvani vypujcky. Uz na zacatku analyzy je upravena hodnota sloupce duration a to tak, ze je prepocitana na dobu vypujcky v minutach a ne sekundach."
   ]
  },
  {
   "cell_type": "code",
   "execution_count": null,
   "id": "4154f6f7",
   "metadata": {},
   "outputs": [],
   "source": [
    "durations = bikes_data[(bikes_data['distance in Km'] < 280)]"
   ]
  },
  {
   "cell_type": "markdown",
   "id": "5bcc0f44",
   "metadata": {},
   "source": [
    "- pro cast analyzy tykajici se doby trvani vypujcky jsem vyfiltrovala udaje , kde vzdalenost je mensi nez 280 km, protoze jsou zde predpokladany chybne udaje."
   ]
  },
  {
   "cell_type": "code",
   "execution_count": null,
   "id": "a003d04d",
   "metadata": {},
   "outputs": [],
   "source": [
    "durations['duration in min'].describe()"
   ]
  },
  {
   "cell_type": "markdown",
   "id": "0738cf26",
   "metadata": {},
   "source": [
    "- z horni tabulky pro descriptivni statistiku muzeme ve vztahu k dobe vypujcky konstatovat, ze prumerna doba vypujcky je zhruba 32 minut, minimalni doba vypujcky je 1 minuta = zde bych se priklanela k tomu, ze byla vypujcka provedena ale hned nasledne taky zrusena. Maximalni doba vypujcky je hodne velka, takze by se to dalo vysvetlit tim, ze byla vypujcka provedena, ale clovek kolo vratil az po hodne dlouhe dobe."
   ]
  },
  {
   "cell_type": "code",
   "execution_count": null,
   "id": "0d446684",
   "metadata": {},
   "outputs": [],
   "source": [
    "durations"
   ]
  },
  {
   "cell_type": "code",
   "execution_count": null,
   "id": "be80e1f2",
   "metadata": {},
   "outputs": [],
   "source": [
    "def change_width(ax, new_value):\n",
    "    for patch in ax.patches:\n",
    "        current_width = patch.get_width()\n",
    "        diff = current_width - new_value\n",
    "        \n",
    "        # we change the bar width\n",
    "        patch.set_width(new_value)\n",
    "        \n",
    "        # we recenter the bar\n",
    "        patch.set_x(patch.get_x() + diff * .5)"
   ]
  },
  {
   "cell_type": "code",
   "execution_count": null,
   "id": "bb55b228",
   "metadata": {},
   "outputs": [],
   "source": [
    "fig,axs = plt.subplots(3,1,figsize=(16,14))\n",
    "\n",
    "\n",
    "ax1 = sns.histplot(data=durations,x='duration in min', bins=np.arange(1,121),\n",
    "                 hue='month',alpha=.4,palette='rocket',ax=axs[0] )\n",
    "\n",
    "\n",
    "ax2 = sns.barplot(data=durations,x='weekday',y='duration in min',\n",
    "                 hue='weekday',palette='magma',errcolor='.5',dodge=False,ax=axs[1] )\n",
    "ax2.set_xticklabels([\"Mon\",\"Tue\",\"Wed\",\"Thu\",\"Fri\",\"Sat\",\"Sun\"])\n",
    "ax2.set_xlabel('Average bike share by weekday')\n",
    "\n",
    "        \n",
    "change_width(ax2, .35)\n",
    "\n",
    "ax3 = sns.barplot(data=durations,x='season',y='duration in min',hue='season',dodge=False,ax=axs[2])\n",
    "ax3.set_xlabel('Average bike share by season')\n",
    "change_width(ax3, .40)\n",
    "\n",
    "\n",
    "plt.suptitle('Duration bike share ',va='center',fontsize=20)\n",
    "plt.subplots_adjust(wspace=.2,hspace=.2)\n",
    "plt.tight_layout()\n",
    "\n",
    "plt.savefig('Duration-Bike_Share.png')"
   ]
  },
  {
   "cell_type": "markdown",
   "id": "06474d08",
   "metadata": {},
   "source": [
    "- v hornich grafech mame zobrazenou dobu vypujcky. Hranici vypujcky jsem urcila v interaval od 1 minuty do 120 minut, protoze moc delsich  casovych intervalu vypujcky dataframe neobsahuje. Prumer vypujcky je kolem 30 minut. Delka trvani vypujcky je nejvyssi o vikendu v roce 2020 a 2019, ale je to ovlivneno tim, ze data pro rok 2018 a 2021 nejsou kompletni - zaznamy zacinaji na podzim v roce 2018 a konci v lete 2021. Z grafu muzeme vycist ze dlouha doba vypujcky je hlavne o vikendu, kde prevlada sobota a take v jarnich a letnich mesicich. V lete je prumer 40 minut na vypujcku nejmene je v zimnim obdobi a to kolem 25 minut na vypujcku. Nejcasteji se vyskytujici vypujcky v prubehu celeho roku trvaji 10 az 20 minut."
   ]
  },
  {
   "cell_type": "markdown",
   "id": "0f04a6ab",
   "metadata": {},
   "source": [
    "# Frekvence vypujcek podle casovych zaznamu"
   ]
  },
  {
   "cell_type": "code",
   "execution_count": null,
   "id": "f80fde85",
   "metadata": {},
   "outputs": [],
   "source": [
    "bikes_data.head(1)"
   ]
  },
  {
   "cell_type": "code",
   "execution_count": null,
   "id": "b74801c7",
   "metadata": {},
   "outputs": [],
   "source": [
    "f = bikes_data.groupby(['date','month']).agg({'start_id':'count'})\n",
    "f.reset_index(inplace=True)"
   ]
  },
  {
   "cell_type": "code",
   "execution_count": null,
   "id": "f727bda3",
   "metadata": {},
   "outputs": [],
   "source": [
    "f.rename(columns={'start_id':'start_counts'},inplace=True)"
   ]
  },
  {
   "cell_type": "code",
   "execution_count": null,
   "id": "823c3b58",
   "metadata": {},
   "outputs": [],
   "source": [
    "f"
   ]
  },
  {
   "cell_type": "code",
   "execution_count": null,
   "id": "5155c8ed",
   "metadata": {},
   "outputs": [],
   "source": [
    "f.boxplot(by='month',column='start_counts',figsize=(12,8))\n",
    "\n",
    "plt.show()\n",
    "\n",
    "plt.savefig('Averige bike-share by month.png')"
   ]
  },
  {
   "cell_type": "code",
   "execution_count": null,
   "id": "2f8165f0",
   "metadata": {},
   "outputs": [],
   "source": [
    "f2 = bikes_data.groupby(['date','hour','weekday']).agg({'start_id':'count'})\n",
    "f2.reset_index(inplace=True)\n",
    "f2.rename(columns={'start_id':'start_counts'},inplace=True)\n",
    "\n",
    "fig,axs = plt.subplots(2,1,figsize=(20,12))\n",
    "\n",
    "ax1 = sns.barplot(x='hour',y='start_counts',hue='weekday',palette=\"husl\",ci=None,data=f2,ax=axs[0])\n",
    "ax2 = sns.lineplot(x='date',y='start_counts',data=f2,ax=axs[1])\n",
    "ax1.set_ylabel('start stations counts')\n",
    "ax2.set_ylabel('start stations counts')\n",
    "change_width(ax1, .2)\n",
    "\n",
    "plt.suptitle('Counts bike-share by date and hours',va='center',fontsize=20,color='blue')\n",
    "plt.tight_layout()\n",
    "plt.savefig('Counts bike-share by date and hours.png')"
   ]
  },
  {
   "cell_type": "markdown",
   "id": "a683fb88",
   "metadata": {},
   "source": [
    "- na vrchnim grafu muzeme videt pocet vypujcek v jednotlivych hodinach pro jednotlive dny. Ve vsedni dny prevazuje mnozstvi vypujcek hlavne v ranich hodinach doba kolem 7 a 8 hodiny a odpolednich chodinach mezi 16 az 18, o vikendu je to v dopolednich hodinach od 10 hdiny do zhruba 15 hodiny odpoledne. Druhy graf znazornuje vyvoj vypujcek hodinove v prubehu celeho sledovaneho obdobi."
   ]
  },
  {
   "cell_type": "code",
   "execution_count": null,
   "id": "02db4244",
   "metadata": {},
   "outputs": [],
   "source": [
    "rain_color = sns.color_palette('rainbow')[:4]  # tvorba vlastni barevne palety\n",
    "\n",
    "f3 = bikes_data.groupby(['date','month','season','weekend','year','weekday']).agg({'start_id':'count'})\n",
    "f3.reset_index(inplace=True)\n",
    "f3.rename(columns={'start_id':'start_counts'},inplace=True)"
   ]
  },
  {
   "cell_type": "code",
   "execution_count": null,
   "id": "a14865cb",
   "metadata": {},
   "outputs": [],
   "source": [
    "f3.head(1)"
   ]
  },
  {
   "cell_type": "code",
   "execution_count": null,
   "id": "481584dd",
   "metadata": {},
   "outputs": [],
   "source": [
    "fig,axes = plt.subplots(4,1,figsize=(12,14))\n",
    "\n",
    "ax1 = sns.barplot(data=f3, x='season',y='start_counts',ci=False,palette=rain_color,ax=axes[0])\n",
    "\n",
    "ax2 = sns.barplot(data=f3,x='month',y='start_counts',ci=False,palette=rain_color,ax=axes[1])\n",
    "ax3 = sns.barplot(data=f3,x='weekend',y='start_counts',palette=rain_color,ax=axes[2])\n",
    "ax3.set_xticklabels(['workday','weekend'])\n",
    "ax3.set_xlabel('pracovni den a vikend')\n",
    "ax4 = sns.boxplot(data=f3,x='weekday',y='start_counts',palette=rain_color,ax=axes[3])\n",
    "\n",
    "plt.suptitle('counts bike-share by season,month,weekday and weekend',va='center',fontsize=20,color='blue')\n",
    "\n",
    "fig.tight_layout()\n",
    "\n",
    "plt.savefig('counts bike-share by season,month,weekday and weekend.png')"
   ]
  },
  {
   "cell_type": "markdown",
   "id": "bff9d680",
   "metadata": {},
   "source": [
    "- vrchni grafy zobrazuji vypujcky v jednotlivych rocnich obdobich,jednotlive mesice a pro vikend nebo pracovni den. "
   ]
  },
  {
   "cell_type": "code",
   "execution_count": null,
   "id": "fab1c66a",
   "metadata": {},
   "outputs": [],
   "source": [
    "weekdays_df = bikes_data.groupby('weekday').agg({'start_id':'count'})\n",
    "weekdays_df.plot()\n",
    "plt.show()\n",
    "plt.savefig('bike-share for weekday.png')"
   ]
  },
  {
   "cell_type": "markdown",
   "id": "5d976c41",
   "metadata": {},
   "source": [
    "- nejvyssi pocet vypujcek je v sobotu a nejnizsi v pondeli."
   ]
  },
  {
   "cell_type": "code",
   "execution_count": null,
   "id": "bad57cae",
   "metadata": {},
   "outputs": [],
   "source": [
    "Labels = ['Mon','Tue','Wed','Thu','Fri','Sat','Sun']\n",
    "\n",
    "fig,ax1 = plt.subplots(figsize=(14,8))\n",
    "\n",
    "ax1.pie(weekdays_df.start_id,labels=Labels,autopct=\"%1.1f%%\")\n",
    "ax1.legend()\n",
    "\n",
    "plt.suptitle('Percentil  bike-share by weekdays',va='center',fontsize=20,color='blue')\n",
    "fig.tight_layout()\n",
    "plt.show()\n",
    "\n",
    "plt.savefig('Percentil bike-share by weekdays.png')"
   ]
  },
  {
   "cell_type": "markdown",
   "id": "8c56f523",
   "metadata": {},
   "source": [
    "- ve vyse uvedenem grafu je znazornen procentualni podil pro kazdy den z celkoveho poctu vypujcek. Nejmene se bike share vyuzival v pondeli a nejvetsi procento vypujcek je v sobotu."
   ]
  },
  {
   "cell_type": "code",
   "execution_count": null,
   "id": "660b57f5",
   "metadata": {},
   "outputs": [],
   "source": [
    "by_date = bikes_data.pivot_table('start_id',aggfunc='count',index='date',columns='year')"
   ]
  },
  {
   "cell_type": "code",
   "execution_count": null,
   "id": "c7ef0469",
   "metadata": {},
   "outputs": [],
   "source": [
    "sns.set()\n",
    "fig,axes = plt.subplots(4,1,figsize=(14,8))\n",
    "\n",
    "sns.lineplot(data=by_date,x = 'date', y=by_date.iloc[:,0],color='black',linewidth=2.5, ax=axes[0])\n",
    "sns.lineplot(data=by_date,x = 'date', y=by_date.iloc[:,1],color='r',linewidth=2.5, ax=axes[1])\n",
    "sns.lineplot(data=by_date,x = 'date', y=by_date.iloc[:,2],color='g',linewidth=2.5, ax=axes[2])\n",
    "sns.lineplot(data=by_date,x = 'date', y=by_date.iloc[:,3],color='b',linewidth=2.5, ax=axes[3])\n",
    "\n",
    "plt.suptitle('counts by date',va='center',fontsize=20,color='blue')\n",
    "\n",
    "fig.tight_layout()\n",
    "plt.show()\n",
    "plt.savefig('Counts by date and year.png')"
   ]
  },
  {
   "cell_type": "markdown",
   "id": "4c11e59c",
   "metadata": {},
   "source": [
    "- ctyri liniove grafy ukazujici vyvoj vypujcek v prubehu jednotlivych let a k datu. Uz bylo zmineno,ze rok 2018 a 2021 jsou nekompletni. Pro rok 2020 si muzeme vsimnout ze zde mame atakovanou hranici 2000 vypujcek za den, o rok drive byla hranice 1000 vypujcek za den. Lze i odhadnout mnozstvi vypujcek pro jednotlive rocni obdobi."
   ]
  },
  {
   "cell_type": "code",
   "execution_count": null,
   "id": "8fe5cbf6",
   "metadata": {},
   "outputs": [],
   "source": [
    "counts_start_id = bikes_data['start_id'].value_counts()\n",
    "counts_end_id = bikes_data['end_id'].value_counts()"
   ]
  },
  {
   "cell_type": "markdown",
   "id": "c941492e",
   "metadata": {},
   "source": [
    "- Id jednotlivych stanic a nastaveni Id jako indexu, vezmeme pouze unikatni hodnoty ID."
   ]
  },
  {
   "cell_type": "code",
   "execution_count": null,
   "id": "0520acd8",
   "metadata": {},
   "outputs": [],
   "source": [
    "counts_end_id.index"
   ]
  },
  {
   "cell_type": "code",
   "execution_count": null,
   "id": "537fb5bc",
   "metadata": {},
   "outputs": [],
   "source": [
    "counts_end_id.index"
   ]
  },
  {
   "cell_type": "code",
   "execution_count": null,
   "id": "42b49f2a",
   "metadata": {},
   "outputs": [],
   "source": [
    "s = bikes_data.copy()"
   ]
  },
  {
   "cell_type": "code",
   "execution_count": null,
   "id": "27a29e1d",
   "metadata": {},
   "outputs": [],
   "source": [
    "s.drop_duplicates('start_id',inplace=True)"
   ]
  },
  {
   "cell_type": "code",
   "execution_count": null,
   "id": "8061c75a",
   "metadata": {},
   "outputs": [],
   "source": [
    "s.set_index('start_id',inplace=True)"
   ]
  },
  {
   "cell_type": "code",
   "execution_count": null,
   "id": "de778d83",
   "metadata": {},
   "outputs": [],
   "source": [
    "start_df = pd.merge(s,counts_start_id, left_index=True, right_index=True)"
   ]
  },
  {
   "cell_type": "code",
   "execution_count": null,
   "id": "7dc5c0f5",
   "metadata": {},
   "outputs": [],
   "source": [
    "start_df.rename(columns={'start_id':'start_counts'},inplace=True)"
   ]
  },
  {
   "cell_type": "code",
   "execution_count": null,
   "id": "2eae7b36",
   "metadata": {},
   "outputs": [],
   "source": [
    "sort_start_id = start_df.sort_values(by='start_counts',ascending=False)"
   ]
  },
  {
   "cell_type": "code",
   "execution_count": null,
   "id": "3dd4d37d",
   "metadata": {},
   "outputs": [],
   "source": [
    "sort_start_id.head(1)"
   ]
  },
  {
   "cell_type": "code",
   "execution_count": null,
   "id": "6044b6bb",
   "metadata": {},
   "outputs": [],
   "source": [
    "sort_start_id.reset_index(inplace=True)"
   ]
  },
  {
   "cell_type": "code",
   "execution_count": null,
   "id": "8e582272",
   "metadata": {},
   "outputs": [],
   "source": [
    "sort_start_id.rename(columns={'level_0':'start_stations_Id'},inplace=True)"
   ]
  },
  {
   "cell_type": "code",
   "execution_count": null,
   "id": "57bb4e5a",
   "metadata": {},
   "outputs": [],
   "source": [
    "sort_start_id['start_stations_Id'] = sort_start_id['start_stations_Id'].astype(str)"
   ]
  },
  {
   "cell_type": "code",
   "execution_count": null,
   "id": "986e49fb",
   "metadata": {},
   "outputs": [],
   "source": [
    "sort_start_id['id_name'] = sort_start_id['start_stations_Id'] + ' ' + sort_start_id['start_name']"
   ]
  },
  {
   "cell_type": "code",
   "execution_count": null,
   "id": "79ab8135",
   "metadata": {},
   "outputs": [],
   "source": [
    "e = bikes_data.copy()"
   ]
  },
  {
   "cell_type": "code",
   "execution_count": null,
   "id": "6c305e9f",
   "metadata": {},
   "outputs": [],
   "source": [
    "e.drop_duplicates('end_id',inplace=True)"
   ]
  },
  {
   "cell_type": "code",
   "execution_count": null,
   "id": "7ff02017",
   "metadata": {},
   "outputs": [],
   "source": [
    "e.set_index('end_id',inplace=True)"
   ]
  },
  {
   "cell_type": "code",
   "execution_count": null,
   "id": "cfd7c4d7",
   "metadata": {},
   "outputs": [],
   "source": [
    "end_df = pd.merge(e,counts_end_id, left_index=True, right_index=True)"
   ]
  },
  {
   "cell_type": "code",
   "execution_count": null,
   "id": "4825491b",
   "metadata": {},
   "outputs": [],
   "source": [
    "end_df.rename(columns={'end_id':'end_counts'},inplace=True)"
   ]
  },
  {
   "cell_type": "code",
   "execution_count": null,
   "id": "abc4c5ea",
   "metadata": {},
   "outputs": [],
   "source": [
    "sort_end_id = end_df.sort_values(by='end_counts',ascending=False)"
   ]
  },
  {
   "cell_type": "code",
   "execution_count": null,
   "id": "36a768c9",
   "metadata": {},
   "outputs": [],
   "source": [
    "sort_end_id.reset_index(inplace=True)"
   ]
  },
  {
   "cell_type": "code",
   "execution_count": null,
   "id": "385edd23",
   "metadata": {},
   "outputs": [],
   "source": [
    "sort_end_id.rename(columns={'level_0':'end_stations_Id'},inplace=True)"
   ]
  },
  {
   "cell_type": "code",
   "execution_count": null,
   "id": "a0dbf20b",
   "metadata": {},
   "outputs": [],
   "source": [
    "sort_end_id['end_stations_Id'] = sort_end_id['end_stations_Id'].astype(str)"
   ]
  },
  {
   "cell_type": "code",
   "execution_count": null,
   "id": "b5d7f639",
   "metadata": {},
   "outputs": [],
   "source": [
    "sort_end_id['id_name'] = sort_end_id['end_stations_Id'] + ' ' + sort_end_id['end_name']"
   ]
  },
  {
   "cell_type": "code",
   "execution_count": null,
   "id": "d72602e3",
   "metadata": {},
   "outputs": [],
   "source": [
    "sort_end_id.head(1)"
   ]
  },
  {
   "cell_type": "code",
   "execution_count": null,
   "id": "1ef55085",
   "metadata": {},
   "outputs": [],
   "source": [
    "sns.set(font_scale=1.2)\n",
    "fig,axs = plt.subplots(2,2,figsize=(18,18))\n",
    "\n",
    "\n",
    "\n",
    "ax1 = sns.barplot(data=sort_start_id,x='start_counts',y=sort_start_id['id_name'][:20],ax=axs[0][0])\n",
    "\n",
    "ax2 = sns.barplot(data=sort_start_id,x='start_counts',y=sort_start_id['id_name'][-20:],palette='viridis',ax=axs[0][1])\n",
    "ax3 = sns.barplot(data=sort_end_id,x='end_counts',y=sort_end_id['id_name'][:20],ax=axs[1][0])\n",
    "ax4 = sns.barplot(data=sort_end_id,x='end_counts',y=sort_end_id['id_name'][-20:],palette='viridis',ax=axs[1][1])\n",
    "\n",
    "ax1.set_xlabel(xlabel=\"Maximal frequently used Started_Station\",fontsize=15)\n",
    "ax1.set_ylabel(ylabel=\"started_Station\",fontsize=15)\n",
    "    \n",
    "\n",
    "ax2.set_xlabel(xlabel=\"Minimal frequently used Started_Station\",fontsize=15)\n",
    "ax2.set_ylabel(ylabel=\"started_Station\",fontsize=15)\n",
    "\n",
    "ax3.set_xlabel(xlabel=\"Maximal frequently used Ended_Station\",fontsize=15)\n",
    "ax3.set_ylabel(ylabel=\"ended_Station\",fontsize=15)\n",
    "\n",
    "ax4.set_xlabel(xlabel=\"Minimal frequently used Ended_Station\",fontsize=15)\n",
    "ax4.set_ylabel(ylabel=\"ended_Station\",fontsize=15)\n",
    "\n",
    "plt.suptitle('Maximal and Minimal Frequently of Started and Ended Station',va='center',fontsize=20)\n",
    "plt.subplots_adjust(wspace=.2,hspace=.2)\n",
    "plt.tight_layout()\n",
    "plt.show()\n",
    "plt.savefig('Maximal and minimal frequence for start and end stations.png')"
   ]
  },
  {
   "cell_type": "markdown",
   "id": "c1ad7195",
   "metadata": {},
   "source": [
    "- ve vyse uvedenych grafech mame zobrazene nejvice a nejmene vyuzivane stanice a to jak pocatecni tak konecny."
   ]
  },
  {
   "cell_type": "code",
   "execution_count": null,
   "id": "91032ae6",
   "metadata": {},
   "outputs": [],
   "source": [
    "start_describe_statistic = sort_start_id['start_counts']\n",
    "start_describe_statistic.describe()"
   ]
  },
  {
   "cell_type": "markdown",
   "id": "bc5a3677",
   "metadata": {},
   "source": [
    "- descriptivni statistika pro pocatecni stanice nam rika, ze mame celkove 198 stanic s jejich unikatnim ID, nektera stanice byla vyuzivana pouze jednout, maximalni pocet 17390."
   ]
  },
  {
   "cell_type": "code",
   "execution_count": null,
   "id": "5ed5d47f",
   "metadata": {},
   "outputs": [],
   "source": [
    "end_describe_statistic = sort_end_id['end_counts']\n",
    "end_describe_statistic.describe()"
   ]
  },
  {
   "cell_type": "markdown",
   "id": "a792bb1a",
   "metadata": {},
   "source": [
    "- descriptivni statistika pro konecne stanice nam rika, ze mame celkove 199 stanic s jejich unikatnim ID, nektera stanice byla vyuzivana pouze dvakrat, maximalni pocet 16656."
   ]
  },
  {
   "cell_type": "markdown",
   "id": "4caf765a",
   "metadata": {},
   "source": [
    "## Weather and Bike share"
   ]
  },
  {
   "cell_type": "code",
   "execution_count": null,
   "id": "114ce12b",
   "metadata": {},
   "outputs": [],
   "source": [
    "weather_data.head(1)"
   ]
  },
  {
   "cell_type": "code",
   "execution_count": null,
   "id": "e00646cd",
   "metadata": {},
   "outputs": [],
   "source": [
    "# season\n",
    "season = (weather_data['date'].dt.month-1)//3\n",
    "season += (weather_data['date'].dt.month == 3)&(weather_data['date'].dt.day>=20)\n",
    "season += (weather_data['date'].dt.month == 6)&(weather_data['date'].dt.day>=21)\n",
    "season += (weather_data['date'].dt.month == 9)&(weather_data['date'].dt.day>=23)\n",
    "season -= 3*((weather_data['date'].dt.month == 12)&(weather_data['date'].dt.day>=21)).astype(int)\n",
    "weather_data['season'] = season"
   ]
  },
  {
   "cell_type": "code",
   "execution_count": null,
   "id": "e7c89014",
   "metadata": {},
   "outputs": [],
   "source": [
    "weather_data['month'] = weather_data['date'].dt.month\n",
    "weather_data['year'] = weather_data['date'].dt.year"
   ]
  },
  {
   "cell_type": "code",
   "execution_count": null,
   "id": "307580cd",
   "metadata": {},
   "outputs": [],
   "source": [
    "weather_data.dtypes"
   ]
  },
  {
   "cell_type": "code",
   "execution_count": null,
   "id": "9f1807d5",
   "metadata": {},
   "outputs": [],
   "source": [
    "weather = weather_data.groupby(['date','season']).agg({'temp':'mean',\n",
    "                                           'wind':'mean',\n",
    "                                           'rain':'mean',\n",
    "                                           'humidity':'mean',\n",
    "                                           'cloud':'mean'})"
   ]
  },
  {
   "cell_type": "code",
   "execution_count": null,
   "id": "056deaec",
   "metadata": {},
   "outputs": [],
   "source": [
    "weather.reset_index(inplace=True)"
   ]
  },
  {
   "cell_type": "code",
   "execution_count": null,
   "id": "bbc162c1",
   "metadata": {},
   "outputs": [],
   "source": [
    "weather_2 = weather[(weather['date']>='2018-09-15')]"
   ]
  },
  {
   "cell_type": "code",
   "execution_count": null,
   "id": "666cdb25",
   "metadata": {},
   "outputs": [],
   "source": [
    "bike = bikes_data.groupby('date').agg({'start_id':'count',\n",
    "                                      'duration in min':'mean',\n",
    "                                      'distance in Km':'mean'})"
   ]
  },
  {
   "cell_type": "code",
   "execution_count": null,
   "id": "2b4374ee",
   "metadata": {},
   "outputs": [],
   "source": [
    "bike.reset_index(inplace=True)"
   ]
  },
  {
   "cell_type": "code",
   "execution_count": null,
   "id": "07f9034d",
   "metadata": {},
   "outputs": [],
   "source": [
    "bike_2 = bike[(bike['date']<='2020-10-31')]"
   ]
  },
  {
   "cell_type": "code",
   "execution_count": null,
   "id": "2e73d2a7",
   "metadata": {},
   "outputs": [],
   "source": [
    "df = bike_2.merge(weather_2, on='date',how='left')"
   ]
  },
  {
   "cell_type": "code",
   "execution_count": null,
   "id": "df0155e4",
   "metadata": {},
   "outputs": [],
   "source": [
    "df.rename(columns={'start_id':'stations_counts'},inplace=True)"
   ]
  },
  {
   "cell_type": "code",
   "execution_count": null,
   "id": "63030147",
   "metadata": {},
   "outputs": [],
   "source": [
    "df['stations_counts'].max() # maximalni pocet vypujcek za jeden den"
   ]
  },
  {
   "cell_type": "code",
   "execution_count": null,
   "id": "f3d20e93",
   "metadata": {},
   "outputs": [],
   "source": [
    "df['stations_counts'].min() # minimalni pocet vypujcek za jeden den"
   ]
  },
  {
   "cell_type": "code",
   "execution_count": null,
   "id": "0692f270",
   "metadata": {},
   "outputs": [],
   "source": [
    "df['weekday'] = df['date'].dt.weekday\n",
    "df['month'] = df['date'].dt.month\n",
    "df['year'] = df['date'].dt.year"
   ]
  },
  {
   "cell_type": "code",
   "execution_count": null,
   "id": "6481ddbe",
   "metadata": {},
   "outputs": [],
   "source": [
    "df[df['stations_counts'].max() == df['stations_counts']]"
   ]
  },
  {
   "cell_type": "code",
   "execution_count": null,
   "id": "ea6610c1",
   "metadata": {},
   "outputs": [],
   "source": [
    "df[df['stations_counts'].min() == df['stations_counts']]"
   ]
  },
  {
   "cell_type": "markdown",
   "id": "22828646",
   "metadata": {},
   "source": [
    "- vyse uvedeny radek nam rika, ze nejvyssi pocet vyujcek probehl dne 20.6.2020, prumerna doba trvani byla 46 minut, vzdalenost prumerne 2.5 km a prumernou teplotu, vitr, dest, vlhkost, oblacnost. Den byla sobota a pocet byl 2428.\n",
    "- nejnizsi pocet vypujcek probehl 15.9.2018 pouze 3, vzdalenost 1,3km a prumerna doba 30 minut."
   ]
  },
  {
   "cell_type": "code",
   "execution_count": null,
   "id": "29869128",
   "metadata": {},
   "outputs": [],
   "source": [
    "df"
   ]
  },
  {
   "cell_type": "code",
   "execution_count": null,
   "id": "8888f664",
   "metadata": {
    "scrolled": true
   },
   "outputs": [],
   "source": [
    "df.corr()"
   ]
  },
  {
   "cell_type": "code",
   "execution_count": null,
   "id": "44d7c1fe",
   "metadata": {},
   "outputs": [],
   "source": [
    "df1 = df[['stations_counts','duration in min','distance in Km','temp','wind','rain','humidity','cloud','weekday']]\n",
    "\n",
    "plt.figure(figsize=(16,6))\n",
    "heatmap = sns.heatmap(df1.corr(),vmin=-1,vmax=1,annot=True)\n",
    "\n",
    "plt.suptitle('Correlation bike-share and weather',va='center',fontsize=20)\n",
    "\n",
    "plt.show()\n",
    "plt.savefig('Correlation bike-share and weather.png')"
   ]
  },
  {
   "cell_type": "markdown",
   "id": "9af67ee6",
   "metadata": {},
   "source": [
    "- vyse uvedeny korelacni graf ukazuje tesnost zmeny hodnoty znaku zavisle promenne pri zmene hodnoty nezavisle promenne. K vypoctu korelacniho poctu byla aplikovana metoda corr() na pomocne dataframe, ktera vznikla spojenim puvodnich dvou datasframe."
   ]
  },
  {
   "cell_type": "code",
   "execution_count": null,
   "id": "c45fe712",
   "metadata": {},
   "outputs": [],
   "source": [
    "fig,axs = plt.subplots(3,3,figsize=(16,20))\n",
    "ax1 = sns.regplot(data=df1,y='stations_counts',x='temp',scatter_kws={'s':100,'alpha':0.5},ax=axs[0][0])\n",
    "ax1 = sns.regplot(data=df1,y='stations_counts',x='wind',marker='+',scatter_kws={'s':100,'alpha':0.5},ax=axs[0][1])\n",
    "ax2 = sns.regplot(data=df1,y='stations_counts',x='rain',marker='x',scatter_kws={'s':100,'alpha':0.5},ax=axs[0][2])\n",
    "\n",
    "ax3 = sns.regplot(data=df1,y='duration in min',x='temp',scatter_kws={'s':100,'alpha':0.5},color='r',ax=axs[1][0])\n",
    "ax4 = sns.regplot(data=df1,y='duration in min',x='wind',color='r',marker='+',scatter_kws={'s':100,'alpha':0.5},ax=axs[1][1])\n",
    "ax5 = sns.regplot(data=df1,y='duration in min',x='rain',color='r',marker='x',scatter_kws={'s':100,'alpha':0.5},ax=axs[1][2])\n",
    "\n",
    "ax6 = sns.regplot(data=df1,y='distance in Km',x='temp',color='g',scatter_kws={'s':100,'alpha':0.5},ax=axs[2][0])\n",
    "ax7 = sns.regplot(data=df1,y='distance in Km',x='wind',color='g',marker='+',scatter_kws={'s':100,'alpha':0.5},ax=axs[2][1])\n",
    "ax8 = sns.regplot(data=df1,y='distance in Km',x='rain',color='g',marker='x',scatter_kws={'s':100,'alpha':0.5},ax=axs[2][2])\n",
    "\n",
    "plt.suptitle('Linear regression bike-share and weather - part1',va='center',fontsize=20)\n",
    "\n",
    "plt.tight_layout()\n",
    "plt.show()\n",
    "plt.savefig('Relationship between bikeshare and weather - part1.png')"
   ]
  },
  {
   "cell_type": "markdown",
   "id": "7d981365",
   "metadata": {},
   "source": [
    "- vyse uvedene grafy linearni regrese nam ukazuji zavislost mezi velicinamy. V kazdem grafu je znazornena jako velicina x jedna nase promenna napr.teplota a jako velicina y druha promena napr.distance. V nasem pripade muzeme rict, ze pravdepodobne na teplote je zavisla distance a ne naopak. Stejne tak to vypovida graf, ktery se tyka doby trvani vypujcky, ze ktereho muzeme vcelku zato rict, ze tam mame primou zavislost - hodnoty se vyskytuji podel primky. Kdezto u poctu vypujcek jsou hodnoty vice rozsete, a tak lze konstatovat, ze pocet vypujcek neni uplne zavisly na tom, jake je pocasi."
   ]
  },
  {
   "cell_type": "code",
   "execution_count": null,
   "id": "bbce03d4",
   "metadata": {
    "scrolled": false
   },
   "outputs": [],
   "source": [
    "sns.set(rc={'figure.figsize':(16,14),'legend.fontsize':30,'legend.title_fontsize':30,'axes.labelsize':24,\n",
    "           'xtick.labelsize':22,'ytick.labelsize':22})\n",
    "g = sns.pairplot(df1,vars=['stations_counts','duration in min','distance in Km',\n",
    "                           'humidity','cloud'],hue='weekday',corner=True,diag_kind='hist',height=6,\n",
    "                plot_kws={'s':20})\n",
    "\n",
    "plt.suptitle('Relationship between bikeshare and weather - part 2',va='center',fontsize=20)\n",
    "plt.show()\n",
    "plt.savefig('Relationship betwen bikeshare and weather - part2.png')"
   ]
  },
  {
   "cell_type": "code",
   "execution_count": null,
   "id": "16f168bf",
   "metadata": {},
   "outputs": [],
   "source": []
  }
 ],
 "metadata": {
  "kernelspec": {
   "display_name": "Python 3 (ipykernel)",
   "language": "python",
   "name": "python3"
  },
  "language_info": {
   "codemirror_mode": {
    "name": "ipython",
    "version": 3
   },
   "file_extension": ".py",
   "mimetype": "text/x-python",
   "name": "python",
   "nbconvert_exporter": "python",
   "pygments_lexer": "ipython3",
   "version": "3.10.2"
  }
 },
 "nbformat": 4,
 "nbformat_minor": 5
}
